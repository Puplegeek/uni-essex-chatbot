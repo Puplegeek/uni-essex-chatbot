{
 "cells": [
  {
   "cell_type": "code",
   "execution_count": null,
   "id": "d69872aa-fa12-4f2c-acec-2d19ec11c1f0",
   "metadata": {},
   "outputs": [],
   "source": [
    "import requests\n",
    "import xml.etree.ElementTree as ET\n",
    "import pandas as pd\n",
    "\n",
    "# Sitemap URL\n",
    "sitemap_url = 'https://www.essex.ac.uk/content.xml'\n",
    "\n",
    "# Fetch and decode\n",
    "response = requests.get(sitemap_url)\n",
    "content = response.content.decode('utf-8', errors='replace')\n",
    "\n",
    "# Parse XML\n",
    "try:\n",
    "    root = ET.fromstring(content)\n",
    "    ns = {'ns': 'http://www.sitemaps.org/schemas/sitemap/0.9'}\n",
    "\n",
    "    # Extract URLs and lastmod\n",
    "    data = []\n",
    "    for url_elem in root.findall('ns:url', ns):\n",
    "        loc = url_elem.find('ns:loc', ns)\n",
    "        lastmod = url_elem.find('ns:lastmod', ns)\n",
    "        data.append({\n",
    "            'URL': loc.text if loc is not None else '',\n",
    "            'Last Modified': lastmod.text if lastmod is not None else ''\n",
    "        })\n",
    "\n",
    "    df = pd.DataFrame(data)\n",
    "    print(f\"✅ Extracted {len(df)} URLs.\")\n",
    "    print(df.head())\n",
    "\n",
    "    df.to_csv(\"essex_content_sitemap.csv\", index=False)\n",
    "    print(\"Saved to 'essex_content_sitemap.csv'\")\n",
    "\n",
    "except ET.ParseError as e:\n",
    "    print(\"❌ XML Parse Error:\", e)\n"
   ]
  },
  {
   "cell_type": "code",
   "execution_count": null,
   "id": "871429f8-a273-4336-8e52-c0375dca7af5",
   "metadata": {},
   "outputs": [],
   "source": [
    "# Extract the second path segment after the domain\n",
    "df['Second Prefix'] = df['URL'].apply(lambda url: url.replace('https://www.essex.ac.uk/', '').split('/')[0])\n",
    "\n",
    "# Show unique second prefixes\n",
    "unique_prefixes = df['Second Prefix'].unique()\n",
    "print(f\"✅ Found {len(unique_prefixes)} unique second prefixes:\")\n",
    "print(sorted(unique_prefixes))\n"
   ]
  },
  {
   "cell_type": "code",
   "execution_count": null,
   "id": "c0eb7924-2d15-4653-a69e-afc4360fc3ed",
   "metadata": {},
   "outputs": [],
   "source": [
    "prefix_counts = df['Second Prefix'].value_counts()\n",
    "print(\"✅ Frequency of each second prefix:\")\n",
    "print(prefix_counts)\n"
   ]
  },
  {
   "cell_type": "code",
   "execution_count": null,
   "id": "e41b3d0f-967b-4dfa-a5fc-01630e7abb25",
   "metadata": {},
   "outputs": [],
   "source": [
    "import scrapy\n",
    "from scrapy.crawler import CrawlerProcess\n",
    "import pandas as pd\n",
    "\n",
    "subject_links = []\n",
    "\n",
    "class EssexSubjectSpider(scrapy.Spider):\n",
    "    name = \"essex_subject_links\"\n",
    "    allowed_domains = [\"essex.ac.uk\"]\n",
    "    start_urls = [\"https://www.essex.ac.uk/subjects\"]\n",
    "\n",
    "    def parse(self, response):\n",
    "        for a in response.css(\"a::attr(href)\").getall():\n",
    "            if a.startswith(\"/subjects/\") and a.count(\"/\") == 2:\n",
    "                full_url = response.urljoin(a)\n",
    "                if full_url not in subject_links:\n",
    "                    subject_links.append(full_url)\n",
    "                    print(f\"✅ Found: {full_url}\")\n",
    "\n",
    "# Run the spider\n",
    "process = CrawlerProcess(settings={\n",
    "    \"LOG_ENABLED\": False,\n",
    "    \"USER_AGENT\": \"Mozilla/5.0\"\n",
    "})\n",
    "process.crawl(EssexSubjectSpider)\n",
    "process.start()\n",
    "\n",
    "# Save to CSV or view\n",
    "df = pd.DataFrame(subject_links, columns=[\"Subject URL\"])\n",
    "df.to_csv(\"essex_subject_links.csv\", index=False)\n",
    "print(f\"\\n✅ Total subjects found: {len(df)}. Saved to 'essex_subject_links.csv'\")\n",
    "df.head()\n"
   ]
  },
  {
   "cell_type": "code",
   "execution_count": null,
   "id": "d03f3486-de84-4c1f-bca6-4acc74974722",
   "metadata": {},
   "outputs": [],
   "source": []
  }
 ],
 "metadata": {
  "kernelspec": {
   "display_name": "Python [conda env:base] *",
   "language": "python",
   "name": "conda-base-py"
  },
  "language_info": {
   "codemirror_mode": {
    "name": "ipython",
    "version": 3
   },
   "file_extension": ".py",
   "mimetype": "text/x-python",
   "name": "python",
   "nbconvert_exporter": "python",
   "pygments_lexer": "ipython3",
   "version": "3.12.2"
  }
 },
 "nbformat": 4,
 "nbformat_minor": 5
}
