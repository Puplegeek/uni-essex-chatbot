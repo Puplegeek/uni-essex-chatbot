{
 "cells": [
  {
   "cell_type": "code",
   "execution_count": null,
   "id": "7af7b555-a1cd-459d-bb1d-db129af83d81",
   "metadata": {},
   "outputs": [],
   "source": [
    "# ────────────────────────────────────────────────────────────────\n",
    "# 📦  Cell 1 – one-time setup\n",
    "#     (installs Crawl4AI, Playwright + its browsers, and helpers)\n",
    "# ────────────────────────────────────────────────────────────────\n",
    "%pip install --quiet \"crawl4ai[playwright]\" requests tqdm nest_asyncio\n",
    "\n",
    "import subprocess, sys, nest_asyncio\n",
    "nest_asyncio.apply()\n",
    "\n",
    "# install headless Chromium etc. (only the first time on a machine)\n",
    "subprocess.run(\n",
    "    [sys.executable, \"-m\", \"playwright\", \"install\", \"--with-deps\"],\n",
    "    check=True,\n",
    ")\n"
   ]
  },
  {
   "cell_type": "code",
   "execution_count": null,
   "id": "f14d1ef2-dd89-4665-972c-ecb14d9ac155",
   "metadata": {},
   "outputs": [],
   "source": [
    "# 🔧 install the missing converter\n",
    "%pip install --quiet markdownify beautifulsoup4\n"
   ]
  },
  {
   "cell_type": "code",
   "execution_count": null,
   "id": "424768ce-f615-4424-bba8-86f67af1605d",
   "metadata": {},
   "outputs": [],
   "source": [
    "!pip install crawl4ai markdownify tqdm beautifulsoup4 pandas"
   ]
  },
  {
   "cell_type": "code",
   "execution_count": null,
   "id": "1aea3b6c-c1e8-485f-b291-03425c2fe4cd",
   "metadata": {},
   "outputs": [],
   "source": [
    "# In a new cell (or un-comment the install cell already in the notebook)\n",
    "!pip install async-timeout aiohttp\n",
    "# If you haven’t already, also make sure the others are present:\n",
    "!pip install crawl4ai markdownify beautifulsoup4 tqdm playwright\n",
    "!playwright install\n"
   ]
  },
  {
   "cell_type": "code",
   "execution_count": null,
   "id": "800c00c9-eefb-465b-aa89-c862a13664ca",
   "metadata": {},
   "outputs": [],
   "source": [
    "# ╔══════════════════════════════════════════════════════════════╗\n",
    "# ║  scrape_to_markdown + example call                           ║\n",
    "# ╚══════════════════════════════════════════════════════════════╝\n",
    "import asyncio, os, re\n",
    "from pathlib import Path\n",
    "from urllib.parse import urljoin, urlsplit, quote\n",
    "\n",
    "import requests\n",
    "from bs4 import BeautifulSoup\n",
    "from markdownify import markdownify as md\n",
    "from tqdm.auto import tqdm\n",
    "\n",
    "from crawl4ai import AsyncWebCrawler, CrawlerRunConfig\n",
    "from crawl4ai.markdown_generation_strategy import DefaultMarkdownGenerator\n",
    "# If the page does NOT need JavaScript, uncomment the line below for faster runs\n",
    "# from crawl4ai.async_crawler_strategy import AsyncHTTPCrawlerStrategy\n",
    "\n",
    "\n",
    "# ─────────────────────────── noise filters ─────────────────────\n",
    "NOISE_RE   = re.compile(\n",
    "    r\"(cookie|consent|banner|nav|menu|breadcrumb|footer|sidebar|masthead|navbar|\"\n",
    "    r\"pager|pagination|social|share)\",\n",
    "    re.I,\n",
    ")\n",
    "STRIP_TAGS = {\"svg\", \"style\", \"script\"}\n",
    "\n",
    "# ─────────────────────────── helpers ───────────────────────────\n",
    "def _safe_img_name(url: str, idx: int) -> str:\n",
    "    ext = os.path.splitext(urlsplit(url).path)[1]\n",
    "    return f\"{idx:03d}{ext or '.jpg'}\"\n",
    "\n",
    "def _best_wrapper(soup: BeautifulSoup):\n",
    "    for sel in (\"main[id*='Main-Content' i]\", \"main\", \"article\", \"#content\", \".content\"):\n",
    "        node = soup.select_one(sel)\n",
    "        if node:\n",
    "            return node\n",
    "    divs = sorted(soup.find_all(\"div\"),\n",
    "                  key=lambda d: len(d.get_text(\" \", strip=True)),\n",
    "                  reverse=True)\n",
    "    return divs[0] if divs else soup.body or soup\n",
    "\n",
    "def _strip_noise(node: BeautifulSoup):\n",
    "    for tag in node.find_all([\"header\", \"nav\", \"footer\", \"aside\"]):\n",
    "        tag.decompose()\n",
    "    for tag in node.find_all(\n",
    "        lambda t: (t.has_attr(\"id\") and NOISE_RE.search(t[\"id\"]))\n",
    "        or (t.has_attr(\"class\") and any(NOISE_RE.search(c) for c in t[\"class\"]))\n",
    "    ):\n",
    "        tag.decompose()\n",
    "    for tag in node.find_all(STRIP_TAGS):\n",
    "        tag.decompose()\n",
    "\n",
    "# ─────────────────────────── main coroutine ────────────────────\n",
    "async def scrape_to_markdown(\n",
    "    url: str,\n",
    "    *,\n",
    "    out_md: str | Path = \"output.md\",\n",
    "    assets_dir: str | Path = \"assets\",\n",
    "    css_selector: str | None = None,\n",
    "    wait_for_images: bool = True,\n",
    ") -> Path:\n",
    "    \"\"\"\n",
    "    Crawl `url`, clean it up, download images, and write a Markdown file\n",
    "    that starts with front-matter containing `page_url`.\n",
    "    \"\"\"\n",
    "    out_md     = Path(out_md)\n",
    "    assets_dir = Path(assets_dir)\n",
    "    BASE       = f\"{urlsplit(url).scheme}://{urlsplit(url).netloc}\"\n",
    "\n",
    "    run_cfg = CrawlerRunConfig(\n",
    "        css_selector=\"body\",\n",
    "        wait_for_images=wait_for_images,\n",
    "        remove_overlay_elements=True,\n",
    "        js_code=\"\"\"(() => {\n",
    "            [...document.querySelectorAll('button,input[type=\"button\"]')]\n",
    "              .filter(b => /accept|agree|ok/i.test(b.textContent))\n",
    "              .forEach(b => b.click());\n",
    "        })();\"\"\",\n",
    "        markdown_generator=DefaultMarkdownGenerator(\n",
    "            options={\"ignore_links\": False, \"ignore_images\": False}\n",
    "        ),\n",
    "    )\n",
    "\n",
    "    # async with AsyncWebCrawler(crawler_strategy=AsyncHTTPCrawlerStrategy()) as crawler:\n",
    "    async with AsyncWebCrawler() as crawler:  # Playwright default\n",
    "        result = await crawler.arun(url, config=run_cfg)\n",
    "\n",
    "    if not result.success:\n",
    "        raise RuntimeError(result.error_message)\n",
    "\n",
    "    soup  = BeautifulSoup(result.html, \"html.parser\")\n",
    "    main  = soup.select_one(css_selector) if css_selector else _best_wrapper(soup)\n",
    "    html  = BeautifulSoup(str(main), \"html.parser\")\n",
    "\n",
    "    _strip_noise(html)\n",
    "\n",
    "    # ---- rewrite links ---------------------------------------------------------\n",
    "    for a in html.find_all(\"a\", href=True):\n",
    "        href = a[\"href\"].strip()\n",
    "        if not href or href.startswith((\"javascript:\", \"#\")):\n",
    "            a.unwrap()\n",
    "            continue\n",
    "        if href.startswith(\"//\"):\n",
    "            href = \"https:\" + href\n",
    "        elif not href.startswith((\"http://\", \"https://\", \"mailto:\", \"tel:\")):\n",
    "            href = urljoin(BASE, href)\n",
    "        a[\"href\"] = quote(href, safe=\"/#:?=&;+@-._~%\")\n",
    "\n",
    "    # ---- download images -------------------------------------------------------\n",
    "    assets_dir.mkdir(exist_ok=True)\n",
    "    sess = requests.Session()\n",
    "    for idx, img in enumerate(tqdm(html.find_all(\"img\"), desc=\"images\", unit=\"img\")):\n",
    "        src = img.get(\"data-src\") or img.get(\"src\")\n",
    "        if not src or src.startswith(\"data:\"):\n",
    "            continue\n",
    "        full = urljoin(url, src)\n",
    "        try:\n",
    "            r = sess.get(full, timeout=30)\n",
    "            r.raise_for_status()\n",
    "            fname = _safe_img_name(full, idx)\n",
    "            (assets_dir / fname).write_bytes(r.content)\n",
    "            img[\"src\"] = f\"{assets_dir}/{fname}\"\n",
    "        except Exception as e:\n",
    "            print(f\"⚠ cannot fetch {full}: {e}\")\n",
    "\n",
    "    # ---- HTML → Markdown -------------------------------------------------------\n",
    "    body_md = md(str(html), heading_style=\"ATX\", strip=[\"script\", \"style\"])\n",
    "\n",
    "    # ---- prepend YAML front-matter --------------------------------------------\n",
    "    front = f\"---\\npage_url: {url}\\n---\\n\\n\"\n",
    "    out_md.write_text(front + body_md, encoding=\"utf-8\")\n",
    "    print(f\"✅  Wrote {out_md} and saved {len(list(assets_dir.glob('*')))} image(s).\")\n",
    "    return out_md\n"
   ]
  },
  {
   "cell_type": "code",
   "execution_count": null,
   "id": "1cdd70b7-6a28-4dd7-8739-a2f61d9b80d0",
   "metadata": {},
   "outputs": [],
   "source": [
    "# ──────────────────────── example call ───────────────────────\n",
    "url = \"https://www.essex.ac.uk/student/professional-services/occupational-health-team\"\n",
    "\n",
    "await scrape_to_markdown(\n",
    "    url,\n",
    "    out_md=\"output20.md\",   # output Markdown filename\n",
    "    assets_dir=\"assets\",    # folder for downloaded images\n",
    "    # css_selector=\"#main\", # uncomment if you need to force a wrapper\n",
    ")\n"
   ]
  },
  {
   "cell_type": "code",
   "execution_count": null,
   "id": "7de45c46-425a-4d30-8051-2d4986f7006b",
   "metadata": {},
   "outputs": [],
   "source": [
    "# ╔══════════════════════════════════════════════════════════════╗\n",
    "# ║  md_to_json – read Markdown w/ front-matter   + demo call    ║\n",
    "# ╚══════════════════════════════════════════════════════════════╝\n",
    "import json, re\n",
    "from pathlib import Path\n",
    "from urllib.parse import urljoin, urlparse\n",
    "from markdown import markdown               # pip install markdown\n",
    "from bs4 import BeautifulSoup               # pip install beautifulsoup4\n",
    "\n",
    "FRONT_RE = re.compile(r\"^---\\s*$\")          # detect YAML fence\n",
    "\n",
    "def md_to_json(md_path: str | Path, *, save: bool = True) -> Path | dict:\n",
    "    \"\"\"\n",
    "    Convert a Markdown file (produced by scrape_to_markdown) into structured\n",
    "    JSON and optionally save it next to the .md.\n",
    "\n",
    "    Expected Markdown header:\n",
    "        ---\n",
    "        page_url: https://example.com/…\n",
    "        ---\n",
    "\n",
    "    Output JSON format:\n",
    "        {\n",
    "          \"page_url\": \"...\",\n",
    "          \"internal_links\": [ \"...\", ... ],\n",
    "          \"sections\": [ {title, level, content, children}, ... ]\n",
    "        }\n",
    "    \"\"\"\n",
    "    md_path = Path(md_path)\n",
    "    if not md_path.is_file():\n",
    "        raise FileNotFoundError(md_path)\n",
    "\n",
    "    # ── 1. split front-matter & body ───────────────────────────\n",
    "    lines = md_path.read_text(encoding=\"utf-8\").splitlines()\n",
    "    if not (lines and FRONT_RE.match(lines[0])):\n",
    "        raise ValueError(\"Markdown missing expected '---' front-matter fence.\")\n",
    "    end_idx = next(i for i, ln in enumerate(lines[1:], 1) if FRONT_RE.match(ln))\n",
    "    front = lines[1:end_idx]                          # between the fences\n",
    "    body_md = \"\\n\".join(lines[end_idx + 1:])\n",
    "\n",
    "    # extract page_url from front-matter\n",
    "    page_url = None\n",
    "    for ln in front:\n",
    "        if ln.lower().startswith(\"page_url:\"):\n",
    "            page_url = ln.split(\":\", 1)[1].strip()\n",
    "            break\n",
    "    if not page_url:\n",
    "        raise ValueError(\"page_url not found in front-matter.\")\n",
    "\n",
    "    parsed_page = urlparse(page_url)\n",
    "    domain      = parsed_page.netloc.lower()\n",
    "\n",
    "    # ── 2. Markdown → HTML → soup ──────────────────────────────\n",
    "    html = markdown(body_md, extensions=[\"extra\", \"tables\", \"fenced_code\"])\n",
    "    soup = BeautifulSoup(html, \"html.parser\")\n",
    "\n",
    "    def abs_url(u: str) -> str:\n",
    "        if u.startswith((\"http://\", \"https://\", \"mailto:\", \"tel:\")):\n",
    "            return u\n",
    "        if u.startswith(\"//\"):\n",
    "            return f\"{parsed_page.scheme}:{u}\"\n",
    "        return urljoin(page_url, u)\n",
    "\n",
    "    # ── 3. collect internal links (same domain) ───────────────\n",
    "    internal = sorted(\n",
    "        {\n",
    "            abs_url(a[\"href\"].strip())\n",
    "            for a in soup.find_all(\"a\", href=True)\n",
    "            if urlparse(abs_url(a[\"href\"].strip())).netloc.lower() == domain\n",
    "        }\n",
    "    )\n",
    "\n",
    "    # ── 4. build nested sections ───────────────────────────────\n",
    "    root, stack = [], []\n",
    "    for node in soup.recursiveChildGenerator():\n",
    "        if isinstance(node, str):\n",
    "            continue\n",
    "        if node.name in {\"h1\", \"h2\", \"h3\", \"h4\", \"h5\", \"h6\"}:\n",
    "            lvl = int(node.name[1])\n",
    "            sec = {\"title\": node.get_text(\" \", strip=True),\n",
    "                   \"level\": lvl,\n",
    "                   \"content\": [],\n",
    "                   \"children\": []}\n",
    "            while stack and stack[-1][\"level\"] >= lvl:\n",
    "                stack.pop()\n",
    "            (stack[-1][\"children\"] if stack else root).append(sec)\n",
    "            stack.append(sec)\n",
    "        elif stack:\n",
    "            sec = stack[-1]\n",
    "            if node.name == \"p\":\n",
    "                txt = node.get_text(\" \", strip=True)\n",
    "                if txt:\n",
    "                    sec[\"content\"].append({\"type\": \"paragraph\", \"text\": txt})\n",
    "            elif node.name in {\"ul\", \"ol\"}:\n",
    "                items = [\n",
    "                    li.get_text(\" \", strip=True)\n",
    "                    for li in node.find_all(\"li\", recursive=False)\n",
    "                ]\n",
    "                sec[\"content\"].append({\"type\": \"list\",\n",
    "                                       \"ordered\": node.name == \"ol\",\n",
    "                                       \"items\": items})\n",
    "            elif node.name == \"img\":\n",
    "                sec[\"content\"].append({\"type\": \"image\",\n",
    "                                       \"url\": abs_url(node.get(\"src\", \"\")),\n",
    "                                       \"alt\": node.get(\"alt\", \"\")})\n",
    "            elif node.name == \"a\":\n",
    "                sec[\"content\"].append({\"type\": \"link\",\n",
    "                                       \"url\": abs_url(node.get(\"href\", \"\")),\n",
    "                                       \"text\": node.get_text(\" \", strip=True)})\n",
    "\n",
    "    kb_json = {\"page_url\": page_url,\n",
    "               \"internal_links\": internal,\n",
    "               \"sections\": root}\n",
    "\n",
    "    if save:\n",
    "        out_path = md_path.with_suffix(\".json\")\n",
    "        out_path.write_text(json.dumps(kb_json, indent=2, ensure_ascii=False),\n",
    "                            encoding=\"utf-8\")\n",
    "        print(f\"✅  Wrote {out_path}\")\n",
    "        return out_path\n",
    "    return kb_json\n",
    "\n"
   ]
  },
  {
   "cell_type": "code",
   "execution_count": null,
   "id": "53a9a147-92d1-411c-ae4b-01c57983c005",
   "metadata": {},
   "outputs": [],
   "source": [
    "# ────────────────────────── demo call ─────────────────────────\n",
    "# Convert the Markdown file produced earlier into JSON\n",
    "md_to_json(\"output20.md\")        # writes output15.json next to the .md\n",
    "\n"
   ]
  },
  {
   "cell_type": "code",
   "execution_count": 2,
   "id": "5f960288-ef77-40f9-a05f-3525f45a15ac",
   "metadata": {},
   "outputs": [
    {
     "name": "stdout",
     "output_type": "stream",
     "text": [
      "685\n",
      "[('BSc-Accounting-1', 'https://www.essex.ac.uk/courses/UG00001/1/BSc-Accounting'), ('MSc-Accounting-1', 'https://www.essex.ac.uk/courses/PG00425/1/MSc-Accounting'), ('PhD-Accounting-2', 'https://www.essex.ac.uk/courses/PR00854/2/PhD-Accounting'), ('BSc-Accounting-and-Finance-1', 'https://www.essex.ac.uk/courses/UG00002/1/BSc-Accounting-and-Finance'), ('PhD-Accounting-and-Finance-5', 'https://www.essex.ac.uk/courses/PR00855/5/PhD-Accounting-and-Finance')]\n"
     ]
    }
   ],
   "source": [
    "from urllib.parse import urlparse, unquote\n",
    "import pandas as pd\n",
    "\n",
    "df = pd.read_csv(\"essex_url_hierarchy_final.csv\")\n",
    "\n",
    "# ── Grab every URL whose level_1 == \"courses\" ──────────────────────────\n",
    "course_urls = df.loc[df[\"level_1\"] == \"courses\", \"url\"].dropna()\n",
    "\n",
    "# ── Build slug-variant → full-URL dictionary ───────────────────────────\n",
    "course_dict = {}\n",
    "for u in course_urls:\n",
    "    parts   = unquote(urlparse(u).path).rstrip(\"/\").split(\"/\")\n",
    "    slug    = parts[-1]          # final bit, e.g. 'BSc-Accounting-and-Finance'\n",
    "    variant = parts[-2]          # the one just before it, e.g. '1', '2', ...\n",
    "    \n",
    "    key = f\"{slug}-{variant}\" if variant.isdigit() else slug\n",
    "    course_dict[key] = u\n",
    "\n",
    "# ── Sanity check ───────────────────────────────────────────────────────\n",
    "print(len(course_dict))          # → 685\n",
    "print(list(course_dict.items())[:5])\n"
   ]
  },
  {
   "cell_type": "code",
   "execution_count": 4,
   "id": "17cf3491-2d2a-47f7-9f81-0d18d89062b8",
   "metadata": {},
   "outputs": [
    {
     "name": "stdout",
     "output_type": "stream",
     "text": [
      "Note: you may need to restart the kernel to use updated packages.\n"
     ]
    }
   ],
   "source": [
    "%pip install -q pandas tqdm markdownify beautifulsoup4 requests crawl4ai nest_asyncio\n",
    "!python -m playwright install --with-deps\n"
   ]
  },
  {
   "cell_type": "code",
   "execution_count": 6,
   "id": "092840e0-0abb-4409-b80c-db24f70006ec",
   "metadata": {},
   "outputs": [],
   "source": [
    "import asyncio, os, re\n",
    "from pathlib import Path\n",
    "from urllib.parse import urljoin, urlsplit, urlparse, quote, unquote\n",
    "\n",
    "import nest_asyncio, pandas as pd, requests\n",
    "from bs4 import BeautifulSoup\n",
    "from markdownify import markdownify as md\n",
    "from tqdm.notebook import tqdm\n",
    "\n",
    "nest_asyncio.apply()  # let us use 'await' at the notebook top-level\n",
    "\n",
    "from crawl4ai import AsyncWebCrawler, CrawlerRunConfig\n",
    "from crawl4ai.markdown_generation_strategy import DefaultMarkdownGenerator\n",
    "# If pages don't need JavaScript, you could speed things up with:\n",
    "# from crawl4ai.async_crawler_strategy import AsyncHTTPCrawlerStrategy\n",
    "\n",
    "NOISE_RE   = re.compile(\n",
    "    r\"(cookie|consent|banner|nav|menu|breadcrumb|footer|sidebar|masthead|navbar|\"\n",
    "    r\"pager|pagination|social|share)\",\n",
    "    re.I,\n",
    ")\n",
    "STRIP_TAGS = {\"svg\", \"style\", \"script\"}\n",
    "\n",
    "def _safe_img_name(url: str, idx: int) -> str:\n",
    "    ext = os.path.splitext(urlsplit(url).path)[1]\n",
    "    return f\"{idx:03d}{ext or '.jpg'}\"\n",
    "\n",
    "def _best_wrapper(soup: BeautifulSoup):\n",
    "    for sel in (\"main[id*='Main-Content' i]\", \"main\", \"article\", \"#content\", \".content\"):\n",
    "        if (node := soup.select_one(sel)):\n",
    "            return node\n",
    "    divs = sorted(soup.find_all(\"div\"),\n",
    "                  key=lambda d: len(d.get_text(\" \", strip=True)),\n",
    "                  reverse=True)\n",
    "    return divs[0] if divs else soup.body or soup\n",
    "\n",
    "def _strip_noise(node: BeautifulSoup):\n",
    "    for tag in node.find_all([\"header\", \"nav\", \"footer\", \"aside\"]):\n",
    "        tag.decompose()\n",
    "    for tag in node.find_all(\n",
    "        lambda t: (t.has_attr(\"id\") and NOISE_RE.search(t[\"id\"]))\n",
    "        or (t.has_attr(\"class\") and any(NOISE_RE.search(c) for c in t[\"class\"]))\n",
    "    ):\n",
    "        tag.decompose()\n",
    "    for tag in node.find_all(STRIP_TAGS):\n",
    "        tag.decompose()\n",
    "\n",
    "async def scrape_to_markdown(\n",
    "    url: str,\n",
    "    *,\n",
    "    out_md: Path,\n",
    "    assets_dir: Path,\n",
    "    wait_for_images: bool = True,\n",
    "):\n",
    "    \"\"\"Fetch `url`, strip boilerplate, download images, save Markdown.\"\"\"\n",
    "    BASE = f\"{urlsplit(url).scheme}://{urlsplit(url).netloc}\"\n",
    "\n",
    "    run_cfg = CrawlerRunConfig(\n",
    "        css_selector=\"body\",\n",
    "        wait_for_images=wait_for_images,\n",
    "        remove_overlay_elements=True,\n",
    "        js_code=\"\"\"(() => {\n",
    "            [...document.querySelectorAll('button,input[type=\"button\"]')]\n",
    "              .filter(b => /accept|agree|ok/i.test(b.textContent))\n",
    "              .forEach(b => b.click());\n",
    "        })();\"\"\",\n",
    "        markdown_generator=DefaultMarkdownGenerator(\n",
    "            options={\"ignore_links\": False, \"ignore_images\": False}\n",
    "        ),\n",
    "    )\n",
    "\n",
    "    # async with AsyncWebCrawler(crawler_strategy=AsyncHTTPCrawlerStrategy()) as crawler:\n",
    "    async with AsyncWebCrawler() as crawler:  # Playwright (handles JS)\n",
    "        result = await crawler.arun(url, config=run_cfg)\n",
    "    if not result.success:\n",
    "        raise RuntimeError(result.error_message)\n",
    "\n",
    "    soup  = BeautifulSoup(result.html, \"html.parser\")\n",
    "    main  = _best_wrapper(soup)\n",
    "    html  = BeautifulSoup(str(main), \"html.parser\")\n",
    "    _strip_noise(html)\n",
    "\n",
    "    # rewrite links\n",
    "    for a in html.find_all(\"a\", href=True):\n",
    "        href = a[\"href\"].strip()\n",
    "        if not href or href.startswith((\"javascript:\", \"#\")):\n",
    "            a.unwrap();  continue\n",
    "        if href.startswith(\"//\"):\n",
    "            href = \"https:\" + href\n",
    "        elif not href.startswith((\"http://\", \"https://\", \"mailto:\", \"tel:\")):\n",
    "            href = urljoin(BASE, href)\n",
    "        a[\"href\"] = quote(href, safe=\"/#:?=&;+@-._~%\")\n",
    "\n",
    "    # download images\n",
    "    assets_dir.mkdir(parents=True, exist_ok=True)\n",
    "    sess = requests.Session()\n",
    "    for idx, img in enumerate(tqdm(html.find_all(\"img\"), desc=f\"images:{out_md.stem}\", leave=False)):\n",
    "        src = img.get(\"data-src\") or img.get(\"src\")\n",
    "        if not src or src.startswith(\"data:\"):\n",
    "            continue\n",
    "        full = urljoin(url, src)\n",
    "        try:\n",
    "            r = sess.get(full, timeout=30);  r.raise_for_status()\n",
    "            fname = _safe_img_name(full, idx)\n",
    "            (assets_dir / fname).write_bytes(r.content)\n",
    "            img[\"src\"] = f\"{assets_dir.name}/{fname}\"\n",
    "        except Exception as e:\n",
    "            print(f\"⚠ cannot fetch {full}: {e}\")\n",
    "\n",
    "    body_md = md(str(html), heading_style=\"ATX\", strip=[\"script\", \"style\"])\n",
    "    front   = f\"---\\npage_url: {url}\\n---\\n\\n\"\n",
    "    out_md.write_text(front + body_md, encoding=\"utf-8\")\n"
   ]
  },
  {
   "cell_type": "code",
   "execution_count": 8,
   "id": "0fac2954-7494-4a29-ad10-baebc671db62",
   "metadata": {},
   "outputs": [
    {
     "name": "stdout",
     "output_type": "stream",
     "text": [
      "Total course pages: 685\n"
     ]
    }
   ],
   "source": [
    "def build_course_dict(csv_path: str | Path) -> dict[str, str]:\n",
    "    df = pd.read_csv(csv_path)\n",
    "    course_urls = df.loc[df[\"level_1\"] == \"courses\", \"url\"].dropna()\n",
    "\n",
    "    course_dict: dict[str, str] = {}\n",
    "    for u in course_urls:\n",
    "        parts   = unquote(urlparse(u).path).rstrip(\"/\").split(\"/\")\n",
    "        slug    = parts[-1]        # last segment\n",
    "        variant = parts[-2]        # the \"1/2/3\" segment\n",
    "        key = f\"{slug}-{variant}\" if variant.isdigit() else slug\n",
    "        course_dict[key] = u\n",
    "    return course_dict\n",
    "\n",
    "course_dict = build_course_dict(\"essex_url_hierarchy_final.csv\")\n",
    "print(f\"Total course pages: {len(course_dict)}\")   # should be 685\n"
   ]
  },
  {
   "cell_type": "code",
   "execution_count": 10,
   "id": "79a87994-9036-41f4-9f0e-b8dff8211183",
   "metadata": {},
   "outputs": [
    {
     "data": {
      "application/vnd.jupyter.widget-view+json": {
       "model_id": "6b970e3aad244adebb48cf54ae3ff080",
       "version_major": 2,
       "version_minor": 0
      },
      "text/plain": [
       "  0%|          | 0/685 [00:00<?, ?page/s]"
      ]
     },
     "metadata": {},
     "output_type": "display_data"
    },
    {
     "name": "stdout",
     "output_type": "stream",
     "text": [
      "[INIT].... → Crawl4AI 0.6.2\n",
      "[INIT].... → Crawl4AI 0.6.2\n",
      "[INIT].... → Crawl4AI 0.6.2\n",
      "[INIT].... → Crawl4AI 0.6.2\n",
      "[INIT].... → Crawl4AI 0.6.2\n",
      "[INIT].... → Crawl4AI 0.6.2\n",
      "[INIT].... → Crawl4AI 0.6.2\n",
      "[INIT].... → Crawl4AI 0.6.2\n",
      "[SCRAPE].. ◆ Some images failed to load within timeout\n",
      "[SCRAPE].. ◆ Some images failed to load within timeout\n",
      "[SCRAPE].. ◆ Some images failed to load within timeout\n",
      "[FETCH]... ↓ https://www.essex.ac.uk/courses/PR00854/1/PhD-Accounting                                             | ✓ | ⏱: 17.98s\n",
      "[SCRAPE].. ◆ https://www.essex.ac.uk/courses/PR00854/1/PhD-Accounting                                             | ✓ | ⏱: 0.56s\n",
      "[COMPLETE] ● https://www.essex.ac.uk/courses/PR00854/1/PhD-Accounting                                             | ✓ | ⏱: 18.55s\n"
     ]
    },
    {
     "data": {
      "application/vnd.jupyter.widget-view+json": {
       "model_id": "51b5234edfff422f9bf1723bebb25913",
       "version_major": 2,
       "version_minor": 0
      },
      "text/plain": [
       "images:PhD-Accounting-1:   0%|          | 0/10 [00:00<?, ?it/s]"
      ]
     },
     "metadata": {},
     "output_type": "display_data"
    },
    {
     "name": "stdout",
     "output_type": "stream",
     "text": [
      "[FETCH]... ↓ https://www.essex.ac.uk/courses/UG00002/1/BSc-Accounting-and-Finance                                 | ✓ | ⏱: 20.18s\n",
      "[SCRAPE].. ◆ https://www.essex.ac.uk/courses/UG00002/1/BSc-Accounting-and-Finance                                 | ✓ | ⏱: 0.23s\n",
      "[COMPLETE] ● https://www.essex.ac.uk/courses/UG00002/1/BSc-Accounting-and-Finance                                 | ✓ | ⏱: 20.44s\n",
      "[FETCH]... ↓ https://www.essex.ac.uk/courses/PR00854/2/PhD-Accounting                                             | ✓ | ⏱: 20.67s\n",
      "[SCRAPE].. ◆ https://www.essex.ac.uk/courses/PR00854/2/PhD-Accounting                                             | ✓ | ⏱: 0.16s\n",
      "[COMPLETE] ● https://www.essex.ac.uk/courses/PR00854/2/PhD-Accounting                                             | ✓ | ⏱: 20.88s\n",
      "[FETCH]... ↓ https://www.essex.ac.uk/courses/UG00001/1/BSc-Accounting                                             | ✓ | ⏱: 20.84s\n",
      "[SCRAPE].. ◆ https://www.essex.ac.uk/courses/UG00001/1/BSc-Accounting                                             | ✓ | ⏱: 0.20s\n",
      "[COMPLETE] ● https://www.essex.ac.uk/courses/UG00001/1/BSc-Accounting                                             | ✓ | ⏱: 21.06s\n",
      "[FETCH]... ↓ https://www.essex.ac.uk/courses/PG00425/1/MSc-Accounting                                             | ✓ | ⏱: 21.82s\n",
      "[SCRAPE].. ◆ https://www.essex.ac.uk/courses/PG00425/1/MSc-Accounting                                             | ✓ | ⏱: 0.31s\n",
      "[COMPLETE] ● https://www.essex.ac.uk/courses/PG00425/1/MSc-Accounting                                             | ✓ | ⏱: 22.14s\n",
      "[FETCH]... ↓ https://www.essex.ac.uk/courses/UG00002/2/BSc-Accounting-and-Finance                                 | ✓ | ⏱: 21.62s\n",
      "[SCRAPE].. ◆ https://www.essex.ac.uk/courses/UG00002/2/BSc-Accounting-and-Finance                                 | ✓ | ⏱: 0.24s\n",
      "[COMPLETE] ● https://www.essex.ac.uk/courses/UG00002/2/BSc-Accounting-and-Finance                                 | ✓ | ⏱: 21.92s\n"
     ]
    },
    {
     "data": {
      "application/vnd.jupyter.widget-view+json": {
       "model_id": "5918e6829d214e76ba6b8cb5a811838e",
       "version_major": 2,
       "version_minor": 0
      },
      "text/plain": [
       "images:BSc-Accounting-and-Finance-1:   0%|          | 0/10 [00:00<?, ?it/s]"
      ]
     },
     "metadata": {},
     "output_type": "display_data"
    },
    {
     "name": "stdout",
     "output_type": "stream",
     "text": [
      "[INIT].... → Crawl4AI 0.6.2\n"
     ]
    },
    {
     "data": {
      "application/vnd.jupyter.widget-view+json": {
       "model_id": "8610c97fabbf436cb2d55a52ccaf9f54",
       "version_major": 2,
       "version_minor": 0
      },
      "text/plain": [
       "images:PhD-Accounting-2:   0%|          | 0/10 [00:00<?, ?it/s]"
      ]
     },
     "metadata": {},
     "output_type": "display_data"
    },
    {
     "data": {
      "application/vnd.jupyter.widget-view+json": {
       "model_id": "2a19d810335e4b0eb606924f8dd6d117",
       "version_major": 2,
       "version_minor": 0
      },
      "text/plain": [
       "images:BSc-Accounting-1:   0%|          | 0/10 [00:00<?, ?it/s]"
      ]
     },
     "metadata": {},
     "output_type": "display_data"
    },
    {
     "data": {
      "application/vnd.jupyter.widget-view+json": {
       "model_id": "362cb3f8e7294cac84a4385884e51dc1",
       "version_major": 2,
       "version_minor": 0
      },
      "text/plain": [
       "images:MSc-Accounting-1:   0%|          | 0/10 [00:00<?, ?it/s]"
      ]
     },
     "metadata": {},
     "output_type": "display_data"
    },
    {
     "data": {
      "application/vnd.jupyter.widget-view+json": {
       "model_id": "3c8f68d7c0c449168993898358fd8c80",
       "version_major": 2,
       "version_minor": 0
      },
      "text/plain": [
       "images:BSc-Accounting-and-Finance-2:   0%|          | 0/10 [00:00<?, ?it/s]"
      ]
     },
     "metadata": {},
     "output_type": "display_data"
    },
    {
     "name": "stdout",
     "output_type": "stream",
     "text": [
      "[INIT].... → Crawl4AI 0.6.2\n",
      "[FETCH]... ↓ https://www.essex.ac.uk/courses/UG00002/3/Integrated-Master-in-Accounting-Accounting-and-Finance     | ✓ | ⏱: 30.50s\n",
      "[SCRAPE].. ◆ https://www.essex.ac.uk/courses/UG00002/3/Integrated-Master-in-Accounting-Accounting-and-Finance     | ✓ | ⏱: 0.32s\n",
      "[COMPLETE] ● https://www.essex.ac.uk/courses/UG00002/3/Integrated-Master-in-Accounting-Accounting-and-Finance     | ✓ | ⏱: 30.89s\n",
      "[INIT].... → Crawl4AI 0.6.2\n",
      "[FETCH]... ↓ https://www.essex.ac.uk/courses/PR00855/5/PhD-Accounting-and-Finance                                 | ✓ | ⏱: 31.79s\n",
      "[SCRAPE].. ◆ https://www.essex.ac.uk/courses/PR00855/5/PhD-Accounting-and-Finance                                 | ✓ | ⏱: 0.42s\n",
      "[COMPLETE] ● https://www.essex.ac.uk/courses/PR00855/5/PhD-Accounting-and-Finance                                 | ✓ | ⏱: 32.38s\n",
      "[INIT].... → Crawl4AI 0.6.2\n",
      "[INIT].... → Crawl4AI 0.6.2\n",
      "[INIT].... → Crawl4AI 0.6.2\n"
     ]
    },
    {
     "data": {
      "application/vnd.jupyter.widget-view+json": {
       "model_id": "63f71089d05d40149c3add18d029e28a",
       "version_major": 2,
       "version_minor": 0
      },
      "text/plain": [
       "images:Integrated-Master-in-Accounting-Accounting-and-Finance-3:   0%|          | 0/10 [00:00<?, ?it/s]"
      ]
     },
     "metadata": {},
     "output_type": "display_data"
    },
    {
     "data": {
      "application/vnd.jupyter.widget-view+json": {
       "model_id": "da52e7fb3bdc454fbb7f5537b7a713f0",
       "version_major": 2,
       "version_minor": 0
      },
      "text/plain": [
       "images:PhD-Accounting-and-Finance-5:   0%|          | 0/10 [00:00<?, ?it/s]"
      ]
     },
     "metadata": {},
     "output_type": "display_data"
    },
    {
     "name": "stdout",
     "output_type": "stream",
     "text": [
      "[INIT].... → Crawl4AI 0.6.2\n",
      "[INIT].... → Crawl4AI 0.6.2\n",
      "[FETCH]... ↓ https://www.essex.ac.uk/courses/PG00425/4/MRes-Accounting                                            | ✓ | ⏱: 18.11s\n",
      "[SCRAPE].. ◆ https://www.essex.ac.uk/courses/PG00425/4/MRes-Accounting                                            | ✓ | ⏱: 0.20s\n",
      "[COMPLETE] ● https://www.essex.ac.uk/courses/PG00425/4/MRes-Accounting                                            | ✓ | ⏱: 18.35s\n",
      "[FETCH]... ↓ https://www.essex.ac.uk/courses/PR00855/1/PhD-Accounting-and-Finance                                 | ✓ | ⏱: 11.47s\n",
      "[SCRAPE].. ◆ https://www.essex.ac.uk/courses/PR00855/1/PhD-Accounting-and-Finance                                 | ✓ | ⏱: 0.19s\n",
      "[COMPLETE] ● https://www.essex.ac.uk/courses/PR00855/1/PhD-Accounting-and-Finance                                 | ✓ | ⏱: 11.70s\n",
      "[FETCH]... ↓ https://www.essex.ac.uk/courses/PG00427/1/MSc-Financial-Economics-and-Accounting                     | ✓ | ⏱: 10.95s\n",
      "[SCRAPE].. ◆ https://www.essex.ac.uk/courses/PG00427/1/MSc-Financial-Economics-and-Accounting                     | ✓ | ⏱: 0.19s\n",
      "[COMPLETE] ● https://www.essex.ac.uk/courses/PG00427/1/MSc-Financial-Economics-and-Accounting                     | ✓ | ⏱: 11.17s\n"
     ]
    },
    {
     "data": {
      "application/vnd.jupyter.widget-view+json": {
       "model_id": "0e41af3ff19942a99c9e07c55263dfa7",
       "version_major": 2,
       "version_minor": 0
      },
      "text/plain": [
       "images:MRes-Accounting-4:   0%|          | 0/10 [00:00<?, ?it/s]"
      ]
     },
     "metadata": {},
     "output_type": "display_data"
    },
    {
     "data": {
      "application/vnd.jupyter.widget-view+json": {
       "model_id": "e63cdc5aaa054795acc6a69024f39719",
       "version_major": 2,
       "version_minor": 0
      },
      "text/plain": [
       "images:PhD-Accounting-and-Finance-1:   0%|          | 0/10 [00:00<?, ?it/s]"
      ]
     },
     "metadata": {},
     "output_type": "display_data"
    },
    {
     "data": {
      "application/vnd.jupyter.widget-view+json": {
       "model_id": "7a4b991e36594140ae0cca45a12d26f9",
       "version_major": 2,
       "version_minor": 0
      },
      "text/plain": [
       "images:MSc-Financial-Economics-and-Accounting-1:   0%|          | 0/10 [00:00<?, ?it/s]"
      ]
     },
     "metadata": {},
     "output_type": "display_data"
    },
    {
     "name": "stdout",
     "output_type": "stream",
     "text": [
      "[INIT].... → Crawl4AI 0.6.2\n",
      "[INIT].... → Crawl4AI 0.6.2\n",
      "[INIT].... → Crawl4AI 0.6.2\n",
      "[FETCH]... ↓ https://www.essex.ac.uk/courses/PR01342/1/PhD-Drama-and-Performance                                  | ✓ | ⏱: 4.64s\n",
      "[SCRAPE].. ◆ https://www.essex.ac.uk/courses/PR01342/1/PhD-Drama-and-Performance                                  | ✓ | ⏱: 0.17s\n",
      "[COMPLETE] ● https://www.essex.ac.uk/courses/PR01342/1/PhD-Drama-and-Performance                                  | ✓ | ⏱: 4.86s\n"
     ]
    },
    {
     "data": {
      "application/vnd.jupyter.widget-view+json": {
       "model_id": "0f6de48778db4fdeaa2f85eb68445d35",
       "version_major": 2,
       "version_minor": 0
      },
      "text/plain": [
       "images:PhD-Drama-and-Performance-1:   0%|          | 0/10 [00:00<?, ?it/s]"
      ]
     },
     "metadata": {},
     "output_type": "display_data"
    },
    {
     "name": "stdout",
     "output_type": "stream",
     "text": [
      "[FETCH]... ↓ https://www.essex.ac.uk/courses/PG00830/2/MFA-Theatre-Directing                                      | ✓ | ⏱: 7.67s\n",
      "[SCRAPE].. ◆ https://www.essex.ac.uk/courses/PG00830/2/MFA-Theatre-Directing                                      | ✓ | ⏱: 0.18s\n",
      "[COMPLETE] ● https://www.essex.ac.uk/courses/PG00830/2/MFA-Theatre-Directing                                      | ✓ | ⏱: 7.89s\n"
     ]
    },
    {
     "data": {
      "application/vnd.jupyter.widget-view+json": {
       "model_id": "a9801b0d2e50465891e1ec299b249e1f",
       "version_major": 2,
       "version_minor": 0
      },
      "text/plain": [
       "images:MFA-Theatre-Directing-2:   0%|          | 0/9 [00:00<?, ?it/s]"
      ]
     },
     "metadata": {},
     "output_type": "display_data"
    },
    {
     "name": "stdout",
     "output_type": "stream",
     "text": [
      "[INIT].... → Crawl4AI 0.6.2\n",
      "[INIT].... → Crawl4AI 0.6.2\n",
      "[FETCH]... ↓ https://www.essex.ac.uk/courses/PG00428/1/MSc-Accounting-and-Financial-Management                    | ✓ | ⏱: 29.27s\n",
      "[SCRAPE].. ◆ https://www.essex.ac.uk/courses/PG00428/1/MSc-Accounting-and-Financial-Management                    | ✓ | ⏱: 0.18s\n",
      "[COMPLETE] ● https://www.essex.ac.uk/courses/PG00428/1/MSc-Accounting-and-Financial-Management                    | ✓ | ⏱: 29.50s\n",
      "[FETCH]... ↓ https://www.essex.ac.uk/courses/PG00426/1/MSc-Accounting-and-Finance                                 | ✓ | ⏱: 29.81s\n",
      "[SCRAPE].. ◆ https://www.essex.ac.uk/courses/PG00426/1/MSc-Accounting-and-Finance                                 | ✓ | ⏱: 0.40s\n",
      "[COMPLETE] ● https://www.essex.ac.uk/courses/PG00426/1/MSc-Accounting-and-Finance                                 | ✓ | ⏱: 30.27s\n",
      "[FETCH]... ↓ https://www.essex.ac.uk/courses/UG00418/1/BA-World-Performance                                       | ✓ | ⏱: 30.24s\n",
      "[SCRAPE].. ◆ https://www.essex.ac.uk/courses/UG00418/1/BA-World-Performance                                       | ✓ | ⏱: 0.24s\n",
      "[COMPLETE] ● https://www.essex.ac.uk/courses/UG00418/1/BA-World-Performance                                       | ✓ | ⏱: 30.53s\n"
     ]
    },
    {
     "data": {
      "application/vnd.jupyter.widget-view+json": {
       "model_id": "85f3f1145e5e4883ac45ddbb0adba270",
       "version_major": 2,
       "version_minor": 0
      },
      "text/plain": [
       "images:MSc-Accounting-and-Financial-Management-1:   0%|          | 0/10 [00:00<?, ?it/s]"
      ]
     },
     "metadata": {},
     "output_type": "display_data"
    },
    {
     "data": {
      "application/vnd.jupyter.widget-view+json": {
       "model_id": "efab17e3b1814ed6b38e80a9fd15142e",
       "version_major": 2,
       "version_minor": 0
      },
      "text/plain": [
       "images:MSc-Accounting-and-Finance-1:   0%|          | 0/10 [00:00<?, ?it/s]"
      ]
     },
     "metadata": {},
     "output_type": "display_data"
    },
    {
     "data": {
      "application/vnd.jupyter.widget-view+json": {
       "model_id": "d61943d6ba164e73952573786721778f",
       "version_major": 2,
       "version_minor": 0
      },
      "text/plain": [
       "images:BA-World-Performance-1:   0%|          | 0/11 [00:00<?, ?it/s]"
      ]
     },
     "metadata": {},
     "output_type": "display_data"
    },
    {
     "name": "stdout",
     "output_type": "stream",
     "text": [
      "[INIT].... → Crawl4AI 0.6.2\n",
      "[INIT].... → Crawl4AI 0.6.2\n",
      "[INIT].... → Crawl4AI 0.6.2\n",
      "[FETCH]... ↓ https://www.essex.ac.uk/courses/PR01346/1/PhD-Drama-and-Performance-Practice-as-Research             | ✓ | ⏱: 22.64s\n",
      "[SCRAPE].. ◆ https://www.essex.ac.uk/courses/PR01346/1/PhD-Drama-and-Performance-Practice-as-Research             | ✓ | ⏱: 0.17s\n",
      "[COMPLETE] ● https://www.essex.ac.uk/courses/PR01346/1/PhD-Drama-and-Performance-Practice-as-Research             | ✓ | ⏱: 22.85s\n",
      "[FETCH]... ↓ https://www.essex.ac.uk/courses/UG00411/1/Certificate-of-HE-Acting-for-Stage-and-Screen              | ✓ | ⏱: 34.98s\n",
      "[SCRAPE].. ◆ https://www.essex.ac.uk/courses/UG00411/1/Certificate-of-HE-Acting-for-Stage-and-Screen              | ✓ | ⏱: 0.20s\n",
      "[COMPLETE] ● https://www.essex.ac.uk/courses/UG00411/1/Certificate-of-HE-Acting-for-Stage-and-Screen              | ✓ | ⏱: 35.28s\n"
     ]
    },
    {
     "data": {
      "application/vnd.jupyter.widget-view+json": {
       "model_id": "3fc3cc03916c4242ac136035ce29be9f",
       "version_major": 2,
       "version_minor": 0
      },
      "text/plain": [
       "images:PhD-Drama-and-Performance-Practice-as-Research-1:   0%|          | 0/10 [00:00<?, ?it/s]"
      ]
     },
     "metadata": {},
     "output_type": "display_data"
    },
    {
     "name": "stdout",
     "output_type": "stream",
     "text": [
      "[FETCH]... ↓ https://www.essex.ac.uk/courses/UG01619/1/BA-Stage-Management                                        | ✓ | ⏱: 17.53s\n",
      "[SCRAPE].. ◆ https://www.essex.ac.uk/courses/UG01619/1/BA-Stage-Management                                        | ✓ | ⏱: 0.21s\n",
      "[COMPLETE] ● https://www.essex.ac.uk/courses/UG01619/1/BA-Stage-Management                                        | ✓ | ⏱: 17.79s\n",
      "[FETCH]... ↓ https://www.essex.ac.uk/courses/UG00011/1/BA-Acting-and-Fight-Performance                            | ✓ | ⏱: 36.99s\n",
      "[SCRAPE].. ◆ https://www.essex.ac.uk/courses/UG00011/1/BA-Acting-and-Fight-Performance                            | ✓ | ⏱: 0.17s\n",
      "[COMPLETE] ● https://www.essex.ac.uk/courses/UG00011/1/BA-Acting-and-Fight-Performance                            | ✓ | ⏱: 37.20s\n",
      "[FETCH]... ↓ https://www.essex.ac.uk/courses/UG00009/2/BA-Acting-and-Community-Engagement                         | ✓ | ⏱: 16.97s\n",
      "[SCRAPE].. ◆ https://www.essex.ac.uk/courses/UG00009/2/BA-Acting-and-Community-Engagement                         | ✓ | ⏱: 0.18s\n",
      "[COMPLETE] ● https://www.essex.ac.uk/courses/UG00009/2/BA-Acting-and-Community-Engagement                         | ✓ | ⏱: 17.20s\n"
     ]
    },
    {
     "data": {
      "application/vnd.jupyter.widget-view+json": {
       "model_id": "5e9e3443e3ed44c5b4028b9186704f04",
       "version_major": 2,
       "version_minor": 0
      },
      "text/plain": [
       "images:Certificate-of-HE-Acting-for-Stage-and-Screen-1:   0%|          | 0/10 [00:00<?, ?it/s]"
      ]
     },
     "metadata": {},
     "output_type": "display_data"
    },
    {
     "data": {
      "application/vnd.jupyter.widget-view+json": {
       "model_id": "0fb7414fcefc4e028d3a97f4bb39c1cf",
       "version_major": 2,
       "version_minor": 0
      },
      "text/plain": [
       "images:BA-Stage-Management-1:   0%|          | 0/9 [00:00<?, ?it/s]"
      ]
     },
     "metadata": {},
     "output_type": "display_data"
    },
    {
     "name": "stdout",
     "output_type": "stream",
     "text": [
      "[INIT].... → Crawl4AI 0.6.2\n"
     ]
    },
    {
     "data": {
      "application/vnd.jupyter.widget-view+json": {
       "model_id": "c869c4a125884b818854a065380669ae",
       "version_major": 2,
       "version_minor": 0
      },
      "text/plain": [
       "images:BA-Acting-and-Fight-Performance-1:   0%|          | 0/10 [00:00<?, ?it/s]"
      ]
     },
     "metadata": {},
     "output_type": "display_data"
    },
    {
     "data": {
      "application/vnd.jupyter.widget-view+json": {
       "model_id": "89d8312e3b3a442b877fcabf2e21caae",
       "version_major": 2,
       "version_minor": 0
      },
      "text/plain": [
       "images:BA-Acting-and-Community-Engagement-2:   0%|          | 0/11 [00:00<?, ?it/s]"
      ]
     },
     "metadata": {},
     "output_type": "display_data"
    },
    {
     "name": "stdout",
     "output_type": "stream",
     "text": [
      "[INIT].... → Crawl4AI 0.6.2\n",
      "[INIT].... → Crawl4AI 0.6.2\n",
      "[INIT].... → Crawl4AI 0.6.2\n",
      "[FETCH]... ↓ https://www.essex.ac.uk/courses/PG00147/2/MFA-Acting-International                                   | ✓ | ⏱: 17.89s\n",
      "[SCRAPE].. ◆ https://www.essex.ac.uk/courses/PG00147/2/MFA-Acting-International                                   | ✓ | ⏱: 0.20s\n",
      "[COMPLETE] ● https://www.essex.ac.uk/courses/PG00147/2/MFA-Acting-International                                   | ✓ | ⏱: 18.15s\n",
      "[INIT].... → Crawl4AI 0.6.2\n",
      "[SCRAPE].. ◆ Some images failed to load within timeout\n"
     ]
    },
    {
     "data": {
      "application/vnd.jupyter.widget-view+json": {
       "model_id": "3f08a11896874c09bc5b303dbd842656",
       "version_major": 2,
       "version_minor": 0
      },
      "text/plain": [
       "images:MFA-Acting-International-2:   0%|          | 0/8 [00:00<?, ?it/s]"
      ]
     },
     "metadata": {},
     "output_type": "display_data"
    },
    {
     "name": "stdout",
     "output_type": "stream",
     "text": [
      "[FETCH]... ↓ https://www.essex.ac.uk/courses/UG00337/1/BA-Acting-and-Physical-Theatre                             | ✓ | ⏱: 20.37s\n",
      "[SCRAPE].. ◆ https://www.essex.ac.uk/courses/UG00337/1/BA-Acting-and-Physical-Theatre                             | ✓ | ⏱: 0.23s\n",
      "[COMPLETE] ● https://www.essex.ac.uk/courses/UG00337/1/BA-Acting-and-Physical-Theatre                             | ✓ | ⏱: 20.73s\n"
     ]
    },
    {
     "data": {
      "application/vnd.jupyter.widget-view+json": {
       "model_id": "c1122049275d4bedb425dfe99367148a",
       "version_major": 2,
       "version_minor": 0
      },
      "text/plain": [
       "images:BA-Acting-and-Physical-Theatre-1:   0%|          | 0/11 [00:00<?, ?it/s]"
      ]
     },
     "metadata": {},
     "output_type": "display_data"
    },
    {
     "name": "stdout",
     "output_type": "stream",
     "text": [
      "[INIT].... → Crawl4AI 0.6.2\n",
      "[FETCH]... ↓ https://www.essex.ac.uk/courses/PG00431/1/MA-Acting                                                  | ✓ | ⏱: 27.16s\n",
      "[SCRAPE].. ◆ https://www.essex.ac.uk/courses/PG00431/1/MA-Acting                                                  | ✓ | ⏱: 0.21s\n",
      "[COMPLETE] ● https://www.essex.ac.uk/courses/PG00431/1/MA-Acting                                                  | ✓ | ⏱: 27.47s\n"
     ]
    },
    {
     "data": {
      "application/vnd.jupyter.widget-view+json": {
       "model_id": "e6790aebdd36492ca0b05e03fac7d09e",
       "version_major": 2,
       "version_minor": 0
      },
      "text/plain": [
       "images:MA-Acting-1:   0%|          | 0/8 [00:00<?, ?it/s]"
      ]
     },
     "metadata": {},
     "output_type": "display_data"
    },
    {
     "name": "stdout",
     "output_type": "stream",
     "text": [
      "[INIT].... → Crawl4AI 0.6.2\n",
      "[FETCH]... ↓ https://www.essex.ac.uk/courses/UG00404/1/BA-Stage-and-Production-Management                         | ✓ | ⏱: 19.12s\n",
      "[SCRAPE].. ◆ https://www.essex.ac.uk/courses/UG00404/1/BA-Stage-and-Production-Management                         | ✓ | ⏱: 0.33s\n",
      "[COMPLETE] ● https://www.essex.ac.uk/courses/UG00404/1/BA-Stage-and-Production-Management                         | ✓ | ⏱: 19.58s\n",
      "[INIT].... → Crawl4AI 0.6.2\n"
     ]
    },
    {
     "data": {
      "application/vnd.jupyter.widget-view+json": {
       "model_id": "9b0314b52c7f491b861509fcca94a2fd",
       "version_major": 2,
       "version_minor": 0
      },
      "text/plain": [
       "images:BA-Stage-and-Production-Management-1:   0%|          | 0/8 [00:00<?, ?it/s]"
      ]
     },
     "metadata": {},
     "output_type": "display_data"
    },
    {
     "name": "stdout",
     "output_type": "stream",
     "text": [
      "[INIT].... → Crawl4AI 0.6.2\n",
      "[FETCH]... ↓ https://www.essex.ac.uk/courses/PG01497/1/MA-Acting-for-Digital-Media                                | ✓ | ⏱: 20.16s\n",
      "[SCRAPE].. ◆ https://www.essex.ac.uk/courses/PG01497/1/MA-Acting-for-Digital-Media                                | ✓ | ⏱: 0.18s\n",
      "[COMPLETE] ● https://www.essex.ac.uk/courses/PG01497/1/MA-Acting-for-Digital-Media                                | ✓ | ⏱: 20.41s\n"
     ]
    },
    {
     "data": {
      "application/vnd.jupyter.widget-view+json": {
       "model_id": "ff83ff3970234c2b9283589b4684d1fe",
       "version_major": 2,
       "version_minor": 0
      },
      "text/plain": [
       "images:MA-Acting-for-Digital-Media-1:   0%|          | 0/11 [00:00<?, ?it/s]"
      ]
     },
     "metadata": {},
     "output_type": "display_data"
    },
    {
     "name": "stdout",
     "output_type": "stream",
     "text": [
      "[FETCH]... ↓ https://www.essex.ac.uk/courses/UG00010/1/BA-Acting-and-Contemporary-Theatre                         | ✓ | ⏱: 20.47s\n",
      "[SCRAPE].. ◆ https://www.essex.ac.uk/courses/UG00010/1/BA-Acting-and-Contemporary-Theatre                         | ✓ | ⏱: 0.22s\n",
      "[COMPLETE] ● https://www.essex.ac.uk/courses/UG00010/1/BA-Acting-and-Contemporary-Theatre                         | ✓ | ⏱: 20.78s\n"
     ]
    },
    {
     "data": {
      "application/vnd.jupyter.widget-view+json": {
       "model_id": "c9eaf2db95f84215bfb77294c926104d",
       "version_major": 2,
       "version_minor": 0
      },
      "text/plain": [
       "images:BA-Acting-and-Contemporary-Theatre-1:   0%|          | 0/9 [00:00<?, ?it/s]"
      ]
     },
     "metadata": {},
     "output_type": "display_data"
    },
    {
     "name": "stdout",
     "output_type": "stream",
     "text": [
      "[INIT].... → Crawl4AI 0.6.2\n",
      "[SCRAPE].. ◆ Some images failed to load within timeout\n",
      "[INIT].... → Crawl4AI 0.6.2\n",
      "[SCRAPE].. ◆ Some images failed to load within timeout\n",
      "[SCRAPE].. ◆ Some images failed to load within timeout\n",
      "[SCRAPE].. ◆ Some images failed to load within timeout\n",
      "[SCRAPE].. ◆ Some images failed to load within timeout\n",
      "[FETCH]... ↓ https://www.essex.ac.uk/courses/UG00008/2/BA-Acting                                                  | ✓ | ⏱: 35.71s\n",
      "[SCRAPE].. ◆ https://www.essex.ac.uk/courses/UG00008/2/BA-Acting                                                  | ✓ | ⏱: 0.26s\n",
      "[COMPLETE] ● https://www.essex.ac.uk/courses/UG00008/2/BA-Acting                                                  | ✓ | ⏱: 36.07s\n",
      "[FETCH]... ↓ https://www.essex.ac.uk/courses/UG00008/1/BA-Acting                                                  | ✓ | ⏱: 52.17s\n",
      "[SCRAPE].. ◆ https://www.essex.ac.uk/courses/UG00008/1/BA-Acting                                                  | ✓ | ⏱: 0.21s\n",
      "[COMPLETE] ● https://www.essex.ac.uk/courses/UG00008/1/BA-Acting                                                  | ✓ | ⏱: 52.46s\n",
      "[FETCH]... ↓ https://www.essex.ac.uk/courses/PG01644/1/MFA-Acting-with-Digital-Media                              | ✓ | ⏱: 51.19s\n",
      "[SCRAPE].. ◆ https://www.essex.ac.uk/courses/PG01644/1/MFA-Acting-with-Digital-Media                              | ✓ | ⏱: 0.21s\n",
      "[COMPLETE] ● https://www.essex.ac.uk/courses/PG01644/1/MFA-Acting-with-Digital-Media                              | ✓ | ⏱: 51.50s\n"
     ]
    },
    {
     "data": {
      "application/vnd.jupyter.widget-view+json": {
       "model_id": "e3dfaabc5e58454c8ea986195b23d192",
       "version_major": 2,
       "version_minor": 0
      },
      "text/plain": [
       "images:BA-Acting-2:   0%|          | 0/9 [00:00<?, ?it/s]"
      ]
     },
     "metadata": {},
     "output_type": "display_data"
    },
    {
     "name": "stdout",
     "output_type": "stream",
     "text": [
      "[FETCH]... ↓ https://www.essex.ac.uk/courses/PG00147/1/MA-Acting-International                                    | ✓ | ⏱: 58.80s\n",
      "[SCRAPE].. ◆ https://www.essex.ac.uk/courses/PG00147/1/MA-Acting-International                                    | ✓ | ⏱: 0.30s\n",
      "[COMPLETE] ● https://www.essex.ac.uk/courses/PG00147/1/MA-Acting-International                                    | ✓ | ⏱: 59.20s\n"
     ]
    },
    {
     "data": {
      "application/vnd.jupyter.widget-view+json": {
       "model_id": "1d9b0ec0dfe044329f995f8382c25d62",
       "version_major": 2,
       "version_minor": 0
      },
      "text/plain": [
       "images:BA-Acting-1:   0%|          | 0/9 [00:00<?, ?it/s]"
      ]
     },
     "metadata": {},
     "output_type": "display_data"
    },
    {
     "data": {
      "application/vnd.jupyter.widget-view+json": {
       "model_id": "6512408aa8b4423dba40bc49154ed3c2",
       "version_major": 2,
       "version_minor": 0
      },
      "text/plain": [
       "images:MFA-Acting-with-Digital-Media-1:   0%|          | 0/10 [00:00<?, ?it/s]"
      ]
     },
     "metadata": {},
     "output_type": "display_data"
    },
    {
     "data": {
      "application/vnd.jupyter.widget-view+json": {
       "model_id": "9328f02530d4452cbc24cb5bd7c93e19",
       "version_major": 2,
       "version_minor": 0
      },
      "text/plain": [
       "images:MA-Acting-International-1:   0%|          | 0/8 [00:00<?, ?it/s]"
      ]
     },
     "metadata": {},
     "output_type": "display_data"
    },
    {
     "name": "stdout",
     "output_type": "stream",
     "text": [
      "[INIT].... → Crawl4AI 0.6.2\n",
      "[INIT].... → Crawl4AI 0.6.2\n",
      "[INIT].... → Crawl4AI 0.6.2\n",
      "[FETCH]... ↓ https://www.essex.ac.uk/courses/PG01497/2/MFA-Acting-for-Digital-Media                               | ✓ | ⏱: 68.15s\n",
      "[SCRAPE].. ◆ https://www.essex.ac.uk/courses/PG01497/2/MFA-Acting-for-Digital-Media                               | ✓ | ⏱: 0.27s\n",
      "[COMPLETE] ● https://www.essex.ac.uk/courses/PG01497/2/MFA-Acting-for-Digital-Media                               | ✓ | ⏱: 68.55s\n",
      "[INIT].... → Crawl4AI 0.6.2\n",
      "[FETCH]... ↓ https://www.essex.ac.uk/courses/PG00830/1/MA-Theatre-Directing                                       | ✓ | ⏱: 51.19s\n",
      "[SCRAPE].. ◆ https://www.essex.ac.uk/courses/PG00830/1/MA-Theatre-Directing                                       | ✓ | ⏱: 0.16s\n",
      "[COMPLETE] ● https://www.essex.ac.uk/courses/PG00830/1/MA-Theatre-Directing                                       | ✓ | ⏱: 51.40s\n"
     ]
    },
    {
     "data": {
      "application/vnd.jupyter.widget-view+json": {
       "model_id": "c420840b9e2c452ba01250cdd712a4da",
       "version_major": 2,
       "version_minor": 0
      },
      "text/plain": [
       "images:MFA-Acting-for-Digital-Media-2:   0%|          | 0/10 [00:00<?, ?it/s]"
      ]
     },
     "metadata": {},
     "output_type": "display_data"
    },
    {
     "name": "stdout",
     "output_type": "stream",
     "text": [
      "[FETCH]... ↓ https://www.essex.ac.uk/courses/PG00610/1/MSc-Mathematics-and-Finance                                | ✓ | ⏱: 24.00s\n",
      "[SCRAPE].. ◆ https://www.essex.ac.uk/courses/PG00610/1/MSc-Mathematics-and-Finance                                | ✓ | ⏱: 0.18s\n",
      "[COMPLETE] ● https://www.essex.ac.uk/courses/PG00610/1/MSc-Mathematics-and-Finance                                | ✓ | ⏱: 24.23s\n",
      "[FETCH]... ↓ https://www.essex.ac.uk/courses/UG01119/1/BA-Creative-Producing-Theatre-and-Short-Film               | ✓ | ⏱: 26.28s\n",
      "[SCRAPE].. ◆ https://www.essex.ac.uk/courses/UG01119/1/BA-Creative-Producing-Theatre-and-Short-Film               | ✓ | ⏱: 0.18s\n",
      "[COMPLETE] ● https://www.essex.ac.uk/courses/UG01119/1/BA-Creative-Producing-Theatre-and-Short-Film               | ✓ | ⏱: 26.54s\n"
     ]
    },
    {
     "data": {
      "application/vnd.jupyter.widget-view+json": {
       "model_id": "25f9ae5335cd4dc09324cda18d99a736",
       "version_major": 2,
       "version_minor": 0
      },
      "text/plain": [
       "images:MA-Theatre-Directing-1:   0%|          | 0/9 [00:00<?, ?it/s]"
      ]
     },
     "metadata": {},
     "output_type": "display_data"
    },
    {
     "data": {
      "application/vnd.jupyter.widget-view+json": {
       "model_id": "612fddeccbc7474bb445fac7ae28d615",
       "version_major": 2,
       "version_minor": 0
      },
      "text/plain": [
       "images:MSc-Mathematics-and-Finance-1:   0%|          | 0/10 [00:00<?, ?it/s]"
      ]
     },
     "metadata": {},
     "output_type": "display_data"
    },
    {
     "name": "stdout",
     "output_type": "stream",
     "text": [
      "[INIT].... → Crawl4AI 0.6.2\n"
     ]
    },
    {
     "data": {
      "application/vnd.jupyter.widget-view+json": {
       "model_id": "be8090fa6b544fd9b0823ab114cee3e6",
       "version_major": 2,
       "version_minor": 0
      },
      "text/plain": [
       "images:BA-Creative-Producing-Theatre-and-Short-Film-1:   0%|          | 0/10 [00:00<?, ?it/s]"
      ]
     },
     "metadata": {},
     "output_type": "display_data"
    },
    {
     "name": "stdout",
     "output_type": "stream",
     "text": [
      "[INIT].... → Crawl4AI 0.6.2\n",
      "[INIT].... → Crawl4AI 0.6.2\n",
      "[INIT].... → Crawl4AI 0.6.2\n",
      "[FETCH]... ↓ https://www.essex.ac.uk/courses/PG01081/2/Postgraduate-Diploma-Actuarial-Science                     | ✓ | ⏱: 21.07s\n",
      "[SCRAPE].. ◆ https://www.essex.ac.uk/courses/PG01081/2/Postgraduate-Diploma-Actuarial-Science                     | ✓ | ⏱: 0.21s\n",
      "[COMPLETE] ● https://www.essex.ac.uk/courses/PG01081/2/Postgraduate-Diploma-Actuarial-Science                     | ✓ | ⏱: 21.39s\n",
      "[FETCH]... ↓ https://www.essex.ac.uk/courses/UG00168/1/BSc-Finance-and-Mathematics                                | ✓ | ⏱: 20.98s\n",
      "[SCRAPE].. ◆ https://www.essex.ac.uk/courses/UG00168/1/BSc-Finance-and-Mathematics                                | ✓ | ⏱: 0.43s\n",
      "[COMPLETE] ● https://www.essex.ac.uk/courses/UG00168/1/BSc-Finance-and-Mathematics                                | ✓ | ⏱: 21.49s\n",
      "[FETCH]... ↓ https://www.essex.ac.uk/courses/UG00012/1/BSc-Actuarial-Science                                      | ✓ | ⏱: 22.37s\n",
      "[SCRAPE].. ◆ https://www.essex.ac.uk/courses/UG00012/1/BSc-Actuarial-Science                                      | ✓ | ⏱: 0.19s\n",
      "[COMPLETE] ● https://www.essex.ac.uk/courses/UG00012/1/BSc-Actuarial-Science                                      | ✓ | ⏱: 22.63s\n"
     ]
    },
    {
     "data": {
      "application/vnd.jupyter.widget-view+json": {
       "model_id": "227cda6ed7f74a64a9aae94e8218c6af",
       "version_major": 2,
       "version_minor": 0
      },
      "text/plain": [
       "images:Postgraduate-Diploma-Actuarial-Science-2:   0%|          | 0/10 [00:00<?, ?it/s]"
      ]
     },
     "metadata": {},
     "output_type": "display_data"
    },
    {
     "data": {
      "application/vnd.jupyter.widget-view+json": {
       "model_id": "21bed066c70346faa4195a6e67bd6d4e",
       "version_major": 2,
       "version_minor": 0
      },
      "text/plain": [
       "images:BSc-Finance-and-Mathematics-1:   0%|          | 0/10 [00:00<?, ?it/s]"
      ]
     },
     "metadata": {},
     "output_type": "display_data"
    },
    {
     "data": {
      "application/vnd.jupyter.widget-view+json": {
       "model_id": "d04306669ac54932b65a025a107a0eaf",
       "version_major": 2,
       "version_minor": 0
      },
      "text/plain": [
       "images:BSc-Actuarial-Science-1:   0%|          | 0/10 [00:00<?, ?it/s]"
      ]
     },
     "metadata": {},
     "output_type": "display_data"
    },
    {
     "name": "stdout",
     "output_type": "stream",
     "text": [
      "[FETCH]... ↓ https://www.essex.ac.uk/courses/UG01421/1/Integr...er-in-Science-Actuarial-Science-and-Data-Science  | ✓ | ⏱: 13.78s\n",
      "[SCRAPE].. ◆ https://www.essex.ac.uk/courses/UG01421/1/Integr...er-in-Science-Actuarial-Science-and-Data-Science  | ✓ | ⏱: 0.33s\n",
      "[COMPLETE] ● https://www.essex.ac.uk/courses/UG01421/1/Integr...er-in-Science-Actuarial-Science-and-Data-Science  | ✓ | ⏱: 14.25s\n",
      "[INIT].... → Crawl4AI 0.6.2\n",
      "[INIT].... → Crawl4AI 0.6.2\n"
     ]
    },
    {
     "data": {
      "application/vnd.jupyter.widget-view+json": {
       "model_id": "d37be3e08f86444998e1d45a473f495c",
       "version_major": 2,
       "version_minor": 0
      },
      "text/plain": [
       "images:Integrated-Master-in-Science-Actuarial-Science-and-Data-Science-1:   0%|          | 0/10 [00:00<?, ?it/…"
      ]
     },
     "metadata": {},
     "output_type": "display_data"
    },
    {
     "name": "stdout",
     "output_type": "stream",
     "text": [
      "[INIT].... → Crawl4AI 0.6.2\n",
      "[FETCH]... ↓ https://www.essex.ac.uk/courses/PG01081/1/MSc-Actuarial-Science                                      | ✓ | ⏱: 52.09s\n",
      "[SCRAPE].. ◆ https://www.essex.ac.uk/courses/PG01081/1/MSc-Actuarial-Science                                      | ✓ | ⏱: 0.35s\n",
      "[COMPLETE] ● https://www.essex.ac.uk/courses/PG01081/1/MSc-Actuarial-Science                                      | ✓ | ⏱: 52.78s\n",
      "[INIT].... → Crawl4AI 0.6.2\n"
     ]
    },
    {
     "data": {
      "application/vnd.jupyter.widget-view+json": {
       "model_id": "9b30f81551e84878bcdb32ecebe48ac1",
       "version_major": 2,
       "version_minor": 0
      },
      "text/plain": [
       "images:MSc-Actuarial-Science-1:   0%|          | 0/10 [00:00<?, ?it/s]"
      ]
     },
     "metadata": {},
     "output_type": "display_data"
    },
    {
     "name": "stdout",
     "output_type": "stream",
     "text": [
      "[FETCH]... ↓ https://www.essex.ac.uk/courses/PR01041/5/PhD-Actuarial-Science                                      | ✓ | ⏱: 67.43s\n",
      "[SCRAPE].. ◆ https://www.essex.ac.uk/courses/PR01041/5/PhD-Actuarial-Science                                      | ✓ | ⏱: 0.20s\n",
      "[COMPLETE] ● https://www.essex.ac.uk/courses/PR01041/5/PhD-Actuarial-Science                                      | ✓ | ⏱: 67.74s\n"
     ]
    },
    {
     "data": {
      "application/vnd.jupyter.widget-view+json": {
       "model_id": "443f124d96d34c0fa9bf8e72739ccb43",
       "version_major": 2,
       "version_minor": 0
      },
      "text/plain": [
       "images:PhD-Actuarial-Science-5:   0%|          | 0/10 [00:00<?, ?it/s]"
      ]
     },
     "metadata": {},
     "output_type": "display_data"
    },
    {
     "name": "stdout",
     "output_type": "stream",
     "text": [
      "[INIT].... → Crawl4AI 0.6.2\n",
      "[FETCH]... ↓ https://www.essex.ac.uk/courses/PR01041/1/PhD-Actuarial-Science                                      | ✓ | ⏱: 73.98s\n",
      "[SCRAPE].. ◆ https://www.essex.ac.uk/courses/PR01041/1/PhD-Actuarial-Science                                      | ✓ | ⏱: 0.16s\n",
      "[COMPLETE] ● https://www.essex.ac.uk/courses/PR01041/1/PhD-Actuarial-Science                                      | ✓ | ⏱: 74.28s\n",
      "[FETCH]... ↓ https://www.essex.ac.uk/courses/PR01041/4/PhD-Actuarial-Science                                      | ✓ | ⏱: 73.42s\n",
      "[SCRAPE].. ◆ https://www.essex.ac.uk/courses/PR01041/4/PhD-Actuarial-Science                                      | ✓ | ⏱: 0.23s\n",
      "[COMPLETE] ● https://www.essex.ac.uk/courses/PR01041/4/PhD-Actuarial-Science                                      | ✓ | ⏱: 73.73s\n"
     ]
    },
    {
     "data": {
      "application/vnd.jupyter.widget-view+json": {
       "model_id": "03bd68ee82ef4ae2bb374722622b0935",
       "version_major": 2,
       "version_minor": 0
      },
      "text/plain": [
       "images:PhD-Actuarial-Science-1:   0%|          | 0/10 [00:00<?, ?it/s]"
      ]
     },
     "metadata": {},
     "output_type": "display_data"
    },
    {
     "name": "stdout",
     "output_type": "stream",
     "text": [
      "[INIT].... → Crawl4AI 0.6.2\n"
     ]
    },
    {
     "data": {
      "application/vnd.jupyter.widget-view+json": {
       "model_id": "e394f7dadcc544fd99671af0dff48d42",
       "version_major": 2,
       "version_minor": 0
      },
      "text/plain": [
       "images:PhD-Actuarial-Science-4:   0%|          | 0/10 [00:00<?, ?it/s]"
      ]
     },
     "metadata": {},
     "output_type": "display_data"
    },
    {
     "name": "stdout",
     "output_type": "stream",
     "text": [
      "[INIT].... → Crawl4AI 0.6.2\n",
      "[INIT].... → Crawl4AI 0.6.2\n",
      "[FETCH]... ↓ https://www.essex.ac.uk/courses/PG00610/2/Postgraduate-Diploma-Mathematics-and-Finance               | ✓ | ⏱: 73.68s\n",
      "[SCRAPE].. ◆ https://www.essex.ac.uk/courses/PG00610/2/Postgraduate-Diploma-Mathematics-and-Finance               | ✓ | ⏱: 0.18s\n",
      "[COMPLETE] ● https://www.essex.ac.uk/courses/PG00610/2/Postgraduate-Diploma-Mathematics-and-Finance               | ✓ | ⏱: 73.98s\n",
      "[FETCH]... ↓ https://www.essex.ac.uk/courses/UG00090/2/BA-Criminology-and-American-Studies                        | ✓ | ⏱: 52.64s\n",
      "[SCRAPE].. ◆ https://www.essex.ac.uk/courses/UG00090/2/BA-Criminology-and-American-Studies                        | ✓ | ⏱: 0.25s\n",
      "[COMPLETE] ● https://www.essex.ac.uk/courses/UG00090/2/BA-Criminology-and-American-Studies                        | ✓ | ⏱: 53.02s\n",
      "[FETCH]... ↓ https://www.essex.ac.uk/courses/UG00014/2/BA-American-Studies-United-States                          | ✓ | ⏱: 55.02s\n",
      "[SCRAPE].. ◆ https://www.essex.ac.uk/courses/UG00014/2/BA-American-Studies-United-States                          | ✓ | ⏱: 0.22s\n",
      "[COMPLETE] ● https://www.essex.ac.uk/courses/UG00014/2/BA-American-Studies-United-States                          | ✓ | ⏱: 55.31s\n"
     ]
    },
    {
     "data": {
      "application/vnd.jupyter.widget-view+json": {
       "model_id": "7cb583fc25f546dab80faad26a7e3679",
       "version_major": 2,
       "version_minor": 0
      },
      "text/plain": [
       "images:Postgraduate-Diploma-Mathematics-and-Finance-2:   0%|          | 0/10 [00:00<?, ?it/s]"
      ]
     },
     "metadata": {},
     "output_type": "display_data"
    },
    {
     "name": "stdout",
     "output_type": "stream",
     "text": [
      "⚠ cannot fetch https://www.essex.ac.uk/-/media/header-images/subjects/actuarial-science-subject-1200x600.jpg?mh=512&mw=512&hash=DCF7BCDED7D7BC64ED097CF07CC300EA: HTTPSConnectionPool(host='www.essex.ac.uk', port=443): Max retries exceeded with url: /-/media/header-images/subjects/actuarial-science-subject-1200x600.jpg?mh=512&mw=512&hash=DCF7BCDED7D7BC64ED097CF07CC300EA (Caused by NewConnectionError('<urllib3.connection.HTTPSConnection object at 0x151ae7ad0>: Failed to establish a new connection: [Errno 61] Connection refused'))\n"
     ]
    },
    {
     "data": {
      "application/vnd.jupyter.widget-view+json": {
       "model_id": "0b5e7ce7b1694c82b1d5d1280c7689ae",
       "version_major": 2,
       "version_minor": 0
      },
      "text/plain": [
       "images:BA-Criminology-and-American-Studies-2:   0%|          | 0/10 [00:00<?, ?it/s]"
      ]
     },
     "metadata": {},
     "output_type": "display_data"
    },
    {
     "name": "stdout",
     "output_type": "stream",
     "text": [
      "[ERROR]... × https://www.essex.ac.uk...Art-History-Art-History  | Error: \n",
      "┌───────────────────────────────────────────────────────────────────────────────────────────────────────────────────────┐\n",
      "│ × Unexpected error in _crawl_web at line 731 in _crawl_web (../../../../../opt/anaconda3/lib/python3.12/site-         │\n",
      "│ packages/crawl4ai/async_crawler_strategy.py):                                                                         │\n",
      "│   Error: Failed on navigating ACS-GOTO:                                                                               │\n",
      "│   Page.goto: net::ERR_CONNECTION_REFUSED at https://www.essex.ac.uk/courses/UG00021/3/Integrated-Master-in-Art-       │\n",
      "│ History-Art-History                                                                                                   │\n",
      "│   Call log:                                                                                                           │\n",
      "│   - navigating to \"https://www.essex.ac.uk/courses/UG00021/3/Integrated-Master-in-Art-History-Art-History\", waiting   │\n",
      "│ until \"domcontentloaded\"                                                                                              │\n",
      "│                                                                                                                       │\n",
      "│                                                                                                                       │\n",
      "│   Code context:                                                                                                       │\n",
      "│   726                       response = await page.goto(                                                               │\n",
      "│   727                           url, wait_until=config.wait_until, timeout=config.page_timeout                        │\n",
      "│   728                       )                                                                                         │\n",
      "│   729                       redirected_url = page.url                                                                 │\n",
      "│   730                   except Error as e:                                                                            │\n",
      "│   731 →                     raise RuntimeError(f\"Failed on navigating ACS-GOTO:\\n{str(e)}\")                           │\n",
      "│   732                                                                                                                 │\n",
      "│   733                   await self.execute_hook(                                                                      │\n",
      "│   734                       \"after_goto\", page, context=context, url=url, response=response, config=config            │\n",
      "│   735                   )                                                                                             │\n",
      "│   736                                                                                                                 │\n",
      "└───────────────────────────────────────────────────────────────────────────────────────────────────────────────────────┘\n",
      "\n"
     ]
    },
    {
     "data": {
      "application/vnd.jupyter.widget-view+json": {
       "model_id": "a62f4659484741599f2a6707ed1c6ec0",
       "version_major": 2,
       "version_minor": 0
      },
      "text/plain": [
       "images:BA-American-Studies-United-States-2:   0%|          | 0/10 [00:00<?, ?it/s]"
      ]
     },
     "metadata": {},
     "output_type": "display_data"
    },
    {
     "name": "stdout",
     "output_type": "stream",
     "text": [
      "⚠️  Integrated-Master-in-Art-History-Art-History-3: Unexpected error in _crawl_web at line 731 in _crawl_web (../../../../../opt/anaconda3/lib/python3.12/site-packages/crawl4ai/async_crawler_strategy.py):\n",
      "Error: Failed on navigating ACS-GOTO:\n",
      "Page.goto: net::ERR_CONNECTION_REFUSED at https://www.essex.ac.uk/courses/UG00021/3/Integrated-Master-in-Art-History-Art-History\n",
      "Call log:\n",
      "  - navigating to \"https://www.essex.ac.uk/courses/UG00021/3/Integrated-Master-in-Art-History-Art-History\", waiting until \"domcontentloaded\"\n",
      "\n",
      "\n",
      "Code context:\n",
      " 726                       response = await page.goto(\n",
      " 727                           url, wait_until=config.wait_until, timeout=config.page_timeout\n",
      " 728                       )\n",
      " 729                       redirected_url = page.url\n",
      " 730                   except Error as e:\n",
      " 731 →                     raise RuntimeError(f\"Failed on navigating ACS-GOTO:\\n{str(e)}\")\n",
      " 732   \n",
      " 733                   await self.execute_hook(\n",
      " 734                       \"after_goto\", page, context=context, url=url, response=response, config=config\n",
      " 735                   )\n",
      " 736   \n",
      "[INIT].... → Crawl4AI 0.6.2\n",
      "[INIT].... → Crawl4AI 0.6.2\n",
      "[FETCH]... ↓ https://www.essex.ac.uk/courses/UG00015/1/BA-American-Studies-United-States-with-Film                | ✓ | ⏱: 106.79s\n",
      "[SCRAPE].. ◆ https://www.essex.ac.uk/courses/UG00015/1/BA-American-Studies-United-States-with-Film                | ✓ | ⏱: 0.28s\n",
      "[COMPLETE] ● https://www.essex.ac.uk/courses/UG00015/1/BA-American-Studies-United-States-with-Film                | ✓ | ⏱: 107.23s\n",
      "[INIT].... → Crawl4AI 0.6.2\n"
     ]
    },
    {
     "data": {
      "application/vnd.jupyter.widget-view+json": {
       "model_id": "47991f089a9b433aa30e7b5b32083b88",
       "version_major": 2,
       "version_minor": 0
      },
      "text/plain": [
       "images:BA-American-Studies-United-States-with-Film-1:   0%|          | 0/10 [00:00<?, ?it/s]"
      ]
     },
     "metadata": {},
     "output_type": "display_data"
    },
    {
     "name": "stdout",
     "output_type": "stream",
     "text": [
      "[INIT].... → Crawl4AI 0.6.2\n",
      "[FETCH]... ↓ https://www.essex.ac.uk/courses/UG00090/1/BA-Criminology-and-American-Studies                        | ✓ | ⏱: 70.50s\n",
      "[SCRAPE].. ◆ https://www.essex.ac.uk/courses/UG00090/1/BA-Criminology-and-American-Studies                        | ✓ | ⏱: 0.24s\n",
      "[COMPLETE] ● https://www.essex.ac.uk/courses/UG00090/1/BA-Criminology-and-American-Studies                        | ✓ | ⏱: 70.82s\n"
     ]
    },
    {
     "data": {
      "application/vnd.jupyter.widget-view+json": {
       "model_id": "d4363921b6f144bbb33ade0bd66ccc58",
       "version_major": 2,
       "version_minor": 0
      },
      "text/plain": [
       "images:BA-Criminology-and-American-Studies-1:   0%|          | 0/10 [00:00<?, ?it/s]"
      ]
     },
     "metadata": {},
     "output_type": "display_data"
    },
    {
     "name": "stdout",
     "output_type": "stream",
     "text": [
      "⚠ cannot fetch https://www.essex.ac.uk/-/media/header-images/subjects/american-studies_brandon-mowinkel.jpg?mh=512&mw=512&hash=F55E474798DED2B7609417EFA9D44192: HTTPSConnectionPool(host='www.essex.ac.uk', port=443): Max retries exceeded with url: /-/media/header-images/subjects/american-studies_brandon-mowinkel.jpg?mh=512&mw=512&hash=F55E474798DED2B7609417EFA9D44192 (Caused by ConnectTimeoutError(<urllib3.connection.HTTPSConnection object at 0x151d26ea0>, 'Connection to www.essex.ac.uk timed out. (connect timeout=30)'))\n",
      "[INIT].... → Crawl4AI 0.6.2\n",
      "[INIT].... → Crawl4AI 0.6.2\n",
      "[SCRAPE].. ◆ Some images failed to load within timeout\n",
      "[FETCH]... ↓ https://www.essex.ac.uk/courses/UG00015/2/BA-American-Studies-United-States-with-Film                | ✓ | ⏱: 101.16s\n",
      "[SCRAPE].. ◆ https://www.essex.ac.uk/courses/UG00015/2/BA-American-Studies-United-States-with-Film                | ✓ | ⏱: 0.34s\n",
      "[COMPLETE] ● https://www.essex.ac.uk/courses/UG00015/2/BA-American-Studies-United-States-with-Film                | ✓ | ⏱: 101.80s\n",
      "[FETCH]... ↓ https://www.essex.ac.uk/courses/UG00014/1/BA-American-Studies-United-States                          | ✓ | ⏱: 99.04s\n",
      "[SCRAPE].. ◆ https://www.essex.ac.uk/courses/UG00014/1/BA-American-Studies-United-States                          | ✓ | ⏱: 0.58s\n",
      "[COMPLETE] ● https://www.essex.ac.uk/courses/UG00014/1/BA-American-Studies-United-States                          | ✓ | ⏱: 99.80s\n"
     ]
    },
    {
     "data": {
      "application/vnd.jupyter.widget-view+json": {
       "model_id": "8fdf12dee24245748b50ac94eb1511c7",
       "version_major": 2,
       "version_minor": 0
      },
      "text/plain": [
       "images:BA-American-Studies-United-States-with-Film-2:   0%|          | 0/10 [00:00<?, ?it/s]"
      ]
     },
     "metadata": {},
     "output_type": "display_data"
    },
    {
     "data": {
      "application/vnd.jupyter.widget-view+json": {
       "model_id": "31bbd4a107b3464e97abb8bd6d0ac281",
       "version_major": 2,
       "version_minor": 0
      },
      "text/plain": [
       "images:BA-American-Studies-United-States-1:   0%|          | 0/10 [00:00<?, ?it/s]"
      ]
     },
     "metadata": {},
     "output_type": "display_data"
    },
    {
     "name": "stdout",
     "output_type": "stream",
     "text": [
      "[INIT].... → Crawl4AI 0.6.2\n",
      "[INIT].... → Crawl4AI 0.6.2\n",
      "[FETCH]... ↓ https://www.essex.ac.uk/courses/UG00022/1/BA-Art-History-and-History                                 | ✓ | ⏱: 73.98s\n",
      "[SCRAPE].. ◆ https://www.essex.ac.uk/courses/UG00022/1/BA-Art-History-and-History                                 | ✓ | ⏱: 0.24s\n",
      "[COMPLETE] ● https://www.essex.ac.uk/courses/UG00022/1/BA-Art-History-and-History                                 | ✓ | ⏱: 74.31s\n",
      "[FETCH]... ↓ https://www.essex.ac.uk/courses/PR00866/2/MPhil-Art-History-and-Theory                               | ✓ | ⏱: 74.28s\n",
      "[SCRAPE].. ◆ https://www.essex.ac.uk/courses/PR00866/2/MPhil-Art-History-and-Theory                               | ✓ | ⏱: 0.19s\n",
      "[COMPLETE] ● https://www.essex.ac.uk/courses/PR00866/2/MPhil-Art-History-and-Theory                               | ✓ | ⏱: 74.56s\n",
      "[FETCH]... ↓ https://www.essex.ac.uk/courses/UG01434/1/BA-Curating-with-History                                   | ✓ | ⏱: 13.77s\n",
      "[SCRAPE].. ◆ https://www.essex.ac.uk/courses/UG01434/1/BA-Curating-with-History                                   | ✓ | ⏱: 0.36s\n",
      "[COMPLETE] ● https://www.essex.ac.uk/courses/UG01434/1/BA-Curating-with-History                                   | ✓ | ⏱: 14.24s\n",
      "[FETCH]... ↓ https://www.essex.ac.uk/courses/UG00165/1/BA-Film-Studies-and-Art-History                            | ✓ | ⏱: 50.57s\n",
      "[SCRAPE].. ◆ https://www.essex.ac.uk/courses/UG00165/1/BA-Film-Studies-and-Art-History                            | ✓ | ⏱: 0.20s\n",
      "[COMPLETE] ● https://www.essex.ac.uk/courses/UG00165/1/BA-Film-Studies-and-Art-History                            | ✓ | ⏱: 50.85s\n"
     ]
    },
    {
     "data": {
      "application/vnd.jupyter.widget-view+json": {
       "model_id": "ae6e17be94914933a4edcb3c6d2abaa4",
       "version_major": 2,
       "version_minor": 0
      },
      "text/plain": [
       "images:BA-Art-History-and-History-1:   0%|          | 0/10 [00:00<?, ?it/s]"
      ]
     },
     "metadata": {},
     "output_type": "display_data"
    },
    {
     "data": {
      "application/vnd.jupyter.widget-view+json": {
       "model_id": "da497b0c10c5404b925efdb4f6567506",
       "version_major": 2,
       "version_minor": 0
      },
      "text/plain": [
       "images:MPhil-Art-History-and-Theory-2:   0%|          | 0/10 [00:00<?, ?it/s]"
      ]
     },
     "metadata": {},
     "output_type": "display_data"
    },
    {
     "data": {
      "application/vnd.jupyter.widget-view+json": {
       "model_id": "70a9d9ff86bd4f4598a216b82ca0ab04",
       "version_major": 2,
       "version_minor": 0
      },
      "text/plain": [
       "images:BA-Curating-with-History-1:   0%|          | 0/10 [00:00<?, ?it/s]"
      ]
     },
     "metadata": {},
     "output_type": "display_data"
    },
    {
     "data": {
      "application/vnd.jupyter.widget-view+json": {
       "model_id": "79ed9bca0a7e45c084a5f79ddf5ee709",
       "version_major": 2,
       "version_minor": 0
      },
      "text/plain": [
       "images:BA-Film-Studies-and-Art-History-1:   0%|          | 0/10 [00:00<?, ?it/s]"
      ]
     },
     "metadata": {},
     "output_type": "display_data"
    },
    {
     "name": "stdout",
     "output_type": "stream",
     "text": [
      "[INIT].... → Crawl4AI 0.6.2\n",
      "[INIT].... → Crawl4AI 0.6.2\n",
      "[INIT].... → Crawl4AI 0.6.2\n",
      "[INIT].... → Crawl4AI 0.6.2\n",
      "[FETCH]... ↓ https://www.essex.ac.uk/courses/UG00322/1/BA-Philosophy-and-Art-History                              | ✓ | ⏱: 25.35s\n",
      "[SCRAPE].. ◆ https://www.essex.ac.uk/courses/UG00322/1/BA-Philosophy-and-Art-History                              | ✓ | ⏱: 0.35s\n",
      "[COMPLETE] ● https://www.essex.ac.uk/courses/UG00322/1/BA-Philosophy-and-Art-History                              | ✓ | ⏱: 25.81s\n"
     ]
    },
    {
     "data": {
      "application/vnd.jupyter.widget-view+json": {
       "model_id": "19823e0612ec4a4291247c09d63be97b",
       "version_major": 2,
       "version_minor": 0
      },
      "text/plain": [
       "images:BA-Philosophy-and-Art-History-1:   0%|          | 0/10 [00:00<?, ?it/s]"
      ]
     },
     "metadata": {},
     "output_type": "display_data"
    },
    {
     "name": "stdout",
     "output_type": "stream",
     "text": [
      "[FETCH]... ↓ https://www.essex.ac.uk/courses/UG01045/1/BA-Curating                                                | ✓ | ⏱: 18.52s\n",
      "[SCRAPE].. ◆ https://www.essex.ac.uk/courses/UG01045/1/BA-Curating                                                | ✓ | ⏱: 0.19s\n",
      "[COMPLETE] ● https://www.essex.ac.uk/courses/UG01045/1/BA-Curating                                                | ✓ | ⏱: 18.80s\n"
     ]
    },
    {
     "data": {
      "application/vnd.jupyter.widget-view+json": {
       "model_id": "6cb333fab9984b75b3c6638bd22b495b",
       "version_major": 2,
       "version_minor": 0
      },
      "text/plain": [
       "images:BA-Curating-1:   0%|          | 0/11 [00:00<?, ?it/s]"
      ]
     },
     "metadata": {},
     "output_type": "display_data"
    },
    {
     "name": "stdout",
     "output_type": "stream",
     "text": [
      "[INIT].... → Crawl4AI 0.6.2\n",
      "[FETCH]... ↓ https://www.essex.ac.uk/courses/PR00866/4/MA-by-Dissertation-Art-History-and-Theory                  | ✓ | ⏱: 94.02s\n",
      "[SCRAPE].. ◆ https://www.essex.ac.uk/courses/PR00866/4/MA-by-Dissertation-Art-History-and-Theory                  | ✓ | ⏱: 0.17s\n",
      "[COMPLETE] ● https://www.essex.ac.uk/courses/PR00866/4/MA-by-Dissertation-Art-History-and-Theory                  | ✓ | ⏱: 94.31s\n",
      "[INIT].... → Crawl4AI 0.6.2\n",
      "[FETCH]... ↓ https://www.essex.ac.uk/courses/PG00591/1/MA-Curating                                                | ✓ | ⏱: 22.88s\n",
      "[SCRAPE].. ◆ https://www.essex.ac.uk/courses/PG00591/1/MA-Curating                                                | ✓ | ⏱: 0.18s\n",
      "[COMPLETE] ● https://www.essex.ac.uk/courses/PG00591/1/MA-Curating                                                | ✓ | ⏱: 23.15s\n"
     ]
    },
    {
     "data": {
      "application/vnd.jupyter.widget-view+json": {
       "model_id": "d807d042c6c14ba9a96ef817c035598b",
       "version_major": 2,
       "version_minor": 0
      },
      "text/plain": [
       "images:MA-by-Dissertation-Art-History-and-Theory-4:   0%|          | 0/10 [00:00<?, ?it/s]"
      ]
     },
     "metadata": {},
     "output_type": "display_data"
    },
    {
     "name": "stdout",
     "output_type": "stream",
     "text": [
      "[FETCH]... ↓ https://www.essex.ac.uk/courses/UG00248/1/BA-Literature-and-Art-History                              | ✓ | ⏱: 17.06s\n",
      "[SCRAPE].. ◆ https://www.essex.ac.uk/courses/UG00248/1/BA-Literature-and-Art-History                              | ✓ | ⏱: 0.26s\n",
      "[COMPLETE] ● https://www.essex.ac.uk/courses/UG00248/1/BA-Literature-and-Art-History                              | ✓ | ⏱: 17.45s\n",
      "[FETCH]... ↓ https://www.essex.ac.uk/courses/UG00248/2/BA-Literature-and-Art-History                              | ✓ | ⏱: 17.49s\n",
      "[SCRAPE].. ◆ https://www.essex.ac.uk/courses/UG00248/2/BA-Literature-and-Art-History                              | ✓ | ⏱: 0.22s\n",
      "[COMPLETE] ● https://www.essex.ac.uk/courses/UG00248/2/BA-Literature-and-Art-History                              | ✓ | ⏱: 17.79s\n"
     ]
    },
    {
     "data": {
      "application/vnd.jupyter.widget-view+json": {
       "model_id": "c593911c5c7f43b697720b1116019989",
       "version_major": 2,
       "version_minor": 0
      },
      "text/plain": [
       "images:MA-Curating-1:   0%|          | 0/11 [00:00<?, ?it/s]"
      ]
     },
     "metadata": {},
     "output_type": "display_data"
    },
    {
     "name": "stdout",
     "output_type": "stream",
     "text": [
      "[FETCH]... ↓ https://www.essex.ac.uk/courses/UG01439/1/BA-Curating-Heritage-and-Human-Rights                      | ✓ | ⏱: 18.35s\n",
      "[SCRAPE].. ◆ https://www.essex.ac.uk/courses/UG01439/1/BA-Curating-Heritage-and-Human-Rights                      | ✓ | ⏱: 0.28s\n",
      "[COMPLETE] ● https://www.essex.ac.uk/courses/UG01439/1/BA-Curating-Heritage-and-Human-Rights                      | ✓ | ⏱: 18.85s\n",
      "[INIT].... → Crawl4AI 0.6.2\n"
     ]
    },
    {
     "data": {
      "application/vnd.jupyter.widget-view+json": {
       "model_id": "1be2a59d850d46d8b7b23556df95a263",
       "version_major": 2,
       "version_minor": 0
      },
      "text/plain": [
       "images:BA-Literature-and-Art-History-1:   0%|          | 0/10 [00:00<?, ?it/s]"
      ]
     },
     "metadata": {},
     "output_type": "display_data"
    },
    {
     "data": {
      "application/vnd.jupyter.widget-view+json": {
       "model_id": "8c7d43fc637942098601ac9bb3e92fbd",
       "version_major": 2,
       "version_minor": 0
      },
      "text/plain": [
       "images:BA-Literature-and-Art-History-2:   0%|          | 0/10 [00:00<?, ?it/s]"
      ]
     },
     "metadata": {},
     "output_type": "display_data"
    },
    {
     "name": "stdout",
     "output_type": "stream",
     "text": [
      "[INIT].... → Crawl4AI 0.6.2\n"
     ]
    },
    {
     "data": {
      "application/vnd.jupyter.widget-view+json": {
       "model_id": "232d8749f7324e4d89e57aebb3ee78e7",
       "version_major": 2,
       "version_minor": 0
      },
      "text/plain": [
       "images:BA-Curating-Heritage-and-Human-Rights-1:   0%|          | 0/10 [00:00<?, ?it/s]"
      ]
     },
     "metadata": {},
     "output_type": "display_data"
    },
    {
     "name": "stdout",
     "output_type": "stream",
     "text": [
      "[INIT].... → Crawl4AI 0.6.2\n",
      "[INIT].... → Crawl4AI 0.6.2\n",
      "[INIT].... → Crawl4AI 0.6.2\n",
      "[FETCH]... ↓ https://www.essex.ac.uk/courses/UG00022/2/BA-Art-History-and-History                                 | ✓ | ⏱: 13.38s\n",
      "[SCRAPE].. ◆ https://www.essex.ac.uk/courses/UG00022/2/BA-Art-History-and-History                                 | ✓ | ⏱: 0.23s\n",
      "[COMPLETE] ● https://www.essex.ac.uk/courses/UG00022/2/BA-Art-History-and-History                                 | ✓ | ⏱: 13.74s\n"
     ]
    },
    {
     "data": {
      "application/vnd.jupyter.widget-view+json": {
       "model_id": "ac8338caa6474eb0bba570e2085cf75c",
       "version_major": 2,
       "version_minor": 0
      },
      "text/plain": [
       "images:BA-Art-History-and-History-2:   0%|          | 0/10 [00:00<?, ?it/s]"
      ]
     },
     "metadata": {},
     "output_type": "display_data"
    },
    {
     "name": "stdout",
     "output_type": "stream",
     "text": [
      "[INIT].... → Crawl4AI 0.6.2\n",
      "[FETCH]... ↓ https://www.essex.ac.uk/courses/PR00866/1/PhD-Art-History-and-Theory                                 | ✓ | ⏱: 7.96s\n",
      "[SCRAPE].. ◆ https://www.essex.ac.uk/courses/PR00866/1/PhD-Art-History-and-Theory                                 | ✓ | ⏱: 0.23s\n",
      "[COMPLETE] ● https://www.essex.ac.uk/courses/PR00866/1/PhD-Art-History-and-Theory                                 | ✓ | ⏱: 8.35s\n",
      "[FETCH]... ↓ https://www.essex.ac.uk/courses/PG00456/1/MA-Art-History-and-Theory                                  | ✓ | ⏱: 8.67s\n",
      "[SCRAPE].. ◆ https://www.essex.ac.uk/courses/PG00456/1/MA-Art-History-and-Theory                                  | ✓ | ⏱: 0.55s\n",
      "[COMPLETE] ● https://www.essex.ac.uk/courses/PG00456/1/MA-Art-History-and-Theory                                  | ✓ | ⏱: 9.49s\n"
     ]
    },
    {
     "data": {
      "application/vnd.jupyter.widget-view+json": {
       "model_id": "e5eb13d2b6214562baeef84e4255a864",
       "version_major": 2,
       "version_minor": 0
      },
      "text/plain": [
       "images:PhD-Art-History-and-Theory-1:   0%|          | 0/10 [00:00<?, ?it/s]"
      ]
     },
     "metadata": {},
     "output_type": "display_data"
    },
    {
     "data": {
      "application/vnd.jupyter.widget-view+json": {
       "model_id": "9b12e5bccddf4be28520a39a1f72c217",
       "version_major": 2,
       "version_minor": 0
      },
      "text/plain": [
       "images:MA-Art-History-and-Theory-1:   0%|          | 0/11 [00:00<?, ?it/s]"
      ]
     },
     "metadata": {},
     "output_type": "display_data"
    },
    {
     "name": "stdout",
     "output_type": "stream",
     "text": [
      "[INIT].... → Crawl4AI 0.6.2\n",
      "[INIT].... → Crawl4AI 0.6.2\n",
      "[FETCH]... ↓ https://www.essex.ac.uk/courses/PR01065/1/PhD-Curating                                               | ✓ | ⏱: 22.39s\n",
      "[SCRAPE].. ◆ https://www.essex.ac.uk/courses/PR01065/1/PhD-Curating                                               | ✓ | ⏱: 0.16s\n",
      "[COMPLETE] ● https://www.essex.ac.uk/courses/PR01065/1/PhD-Curating                                               | ✓ | ⏱: 22.66s\n",
      "[FETCH]... ↓ https://www.essex.ac.uk/courses/UG00165/2/BA-Film-Studies-and-Art-History                            | ✓ | ⏱: 20.41s\n",
      "[SCRAPE].. ◆ https://www.essex.ac.uk/courses/UG00165/2/BA-Film-Studies-and-Art-History                            | ✓ | ⏱: 0.22s\n",
      "[COMPLETE] ● https://www.essex.ac.uk/courses/UG00165/2/BA-Film-Studies-and-Art-History                            | ✓ | ⏱: 20.79s\n"
     ]
    },
    {
     "data": {
      "application/vnd.jupyter.widget-view+json": {
       "model_id": "11ce092aa014437484b9f961dafe2dcc",
       "version_major": 2,
       "version_minor": 0
      },
      "text/plain": [
       "images:PhD-Curating-1:   0%|          | 0/10 [00:00<?, ?it/s]"
      ]
     },
     "metadata": {},
     "output_type": "display_data"
    },
    {
     "name": "stdout",
     "output_type": "stream",
     "text": [
      "[FETCH]... ↓ https://www.essex.ac.uk/courses/UG00021/1/BA-Art-History                                             | ✓ | ⏱: 21.73s\n",
      "[SCRAPE].. ◆ https://www.essex.ac.uk/courses/UG00021/1/BA-Art-History                                             | ✓ | ⏱: 0.21s\n",
      "[COMPLETE] ● https://www.essex.ac.uk/courses/UG00021/1/BA-Art-History                                             | ✓ | ⏱: 22.10s\n"
     ]
    },
    {
     "data": {
      "application/vnd.jupyter.widget-view+json": {
       "model_id": "8a3158d635d24219851620759a7c3fce",
       "version_major": 2,
       "version_minor": 0
      },
      "text/plain": [
       "images:BA-Film-Studies-and-Art-History-2:   0%|          | 0/10 [00:00<?, ?it/s]"
      ]
     },
     "metadata": {},
     "output_type": "display_data"
    },
    {
     "name": "stdout",
     "output_type": "stream",
     "text": [
      "[FETCH]... ↓ https://www.essex.ac.uk/courses/UG01433/1/BA-Curating-with-Politics                                  | ✓ | ⏱: 36.77s\n",
      "[SCRAPE].. ◆ https://www.essex.ac.uk/courses/UG01433/1/BA-Curating-with-Politics                                  | ✓ | ⏱: 0.18s\n",
      "[COMPLETE] ● https://www.essex.ac.uk/courses/UG01433/1/BA-Curating-with-Politics                                  | ✓ | ⏱: 37.06s\n"
     ]
    },
    {
     "data": {
      "application/vnd.jupyter.widget-view+json": {
       "model_id": "39b1ec70ad60423d85d4fe15e244d226",
       "version_major": 2,
       "version_minor": 0
      },
      "text/plain": [
       "images:BA-Art-History-1:   0%|          | 0/11 [00:00<?, ?it/s]"
      ]
     },
     "metadata": {},
     "output_type": "display_data"
    },
    {
     "name": "stdout",
     "output_type": "stream",
     "text": [
      "[FETCH]... ↓ https://www.essex.ac.uk/courses/UG01435/1/BA-Art-History-Heritage-and-Museum-Studies                 | ✓ | ⏱: 16.45s\n",
      "[SCRAPE].. ◆ https://www.essex.ac.uk/courses/UG01435/1/BA-Art-History-Heritage-and-Museum-Studies                 | ✓ | ⏱: 0.34s\n",
      "[COMPLETE] ● https://www.essex.ac.uk/courses/UG01435/1/BA-Art-History-Heritage-and-Museum-Studies                 | ✓ | ⏱: 16.95s\n",
      "[INIT].... → Crawl4AI 0.6.2\n"
     ]
    },
    {
     "data": {
      "application/vnd.jupyter.widget-view+json": {
       "model_id": "46284c88e81a40168f9920b0e91c0ea4",
       "version_major": 2,
       "version_minor": 0
      },
      "text/plain": [
       "images:BA-Curating-with-Politics-1:   0%|          | 0/10 [00:00<?, ?it/s]"
      ]
     },
     "metadata": {},
     "output_type": "display_data"
    },
    {
     "name": "stdout",
     "output_type": "stream",
     "text": [
      "[INIT].... → Crawl4AI 0.6.2\n",
      "[INIT].... → Crawl4AI 0.6.2\n"
     ]
    },
    {
     "data": {
      "application/vnd.jupyter.widget-view+json": {
       "model_id": "f1d43a666ce34f6180f96c038e1b8df3",
       "version_major": 2,
       "version_minor": 0
      },
      "text/plain": [
       "images:BA-Art-History-Heritage-and-Museum-Studies-1:   0%|          | 0/10 [00:00<?, ?it/s]"
      ]
     },
     "metadata": {},
     "output_type": "display_data"
    },
    {
     "name": "stdout",
     "output_type": "stream",
     "text": [
      "[INIT].... → Crawl4AI 0.6.2\n",
      "[INIT].... → Crawl4AI 0.6.2\n",
      "[FETCH]... ↓ https://www.essex.ac.uk/courses/UG01368/1/BA-Art-History-Visual-Culture-and-Media-Studies            | ✓ | ⏱: 6.30s\n",
      "[SCRAPE].. ◆ https://www.essex.ac.uk/courses/UG01368/1/BA-Art-History-Visual-Culture-and-Media-Studies            | ✓ | ⏱: 0.21s\n",
      "[COMPLETE] ● https://www.essex.ac.uk/courses/UG01368/1/BA-Art-History-Visual-Culture-and-Media-Studies            | ✓ | ⏱: 6.64s\n",
      "[FETCH]... ↓ https://www.essex.ac.uk/courses/UG00021/2/BA-Art-History                                             | ✓ | ⏱: 56.12s\n",
      "[SCRAPE].. ◆ https://www.essex.ac.uk/courses/UG00021/2/BA-Art-History                                             | ✓ | ⏱: 0.26s\n",
      "[COMPLETE] ● https://www.essex.ac.uk/courses/UG00021/2/BA-Art-History                                             | ✓ | ⏱: 56.53s\n",
      "[FETCH]... ↓ https://www.essex.ac.uk/courses/UG00025/1/BA-Art-History-with-Modern-Languages                       | ✓ | ⏱: 16.14s\n",
      "[SCRAPE].. ◆ https://www.essex.ac.uk/courses/UG00025/1/BA-Art-History-with-Modern-Languages                       | ✓ | ⏱: 0.24s\n",
      "[COMPLETE] ● https://www.essex.ac.uk/courses/UG00025/1/BA-Art-History-with-Modern-Languages                       | ✓ | ⏱: 16.49s\n"
     ]
    },
    {
     "data": {
      "application/vnd.jupyter.widget-view+json": {
       "model_id": "ca8af88c58864228b0e3238b1c041431",
       "version_major": 2,
       "version_minor": 0
      },
      "text/plain": [
       "images:BA-Art-History-Visual-Culture-and-Media-Studies-1:   0%|          | 0/10 [00:00<?, ?it/s]"
      ]
     },
     "metadata": {},
     "output_type": "display_data"
    },
    {
     "data": {
      "application/vnd.jupyter.widget-view+json": {
       "model_id": "1fd1e60255aa44989ecbe532f7076049",
       "version_major": 2,
       "version_minor": 0
      },
      "text/plain": [
       "images:BA-Art-History-2:   0%|          | 0/10 [00:00<?, ?it/s]"
      ]
     },
     "metadata": {},
     "output_type": "display_data"
    },
    {
     "data": {
      "application/vnd.jupyter.widget-view+json": {
       "model_id": "2d74f90c024d47be9387c5c4b3eb2976",
       "version_major": 2,
       "version_minor": 0
      },
      "text/plain": [
       "images:BA-Art-History-with-Modern-Languages-1:   0%|          | 0/10 [00:00<?, ?it/s]"
      ]
     },
     "metadata": {},
     "output_type": "display_data"
    },
    {
     "name": "stdout",
     "output_type": "stream",
     "text": [
      "[INIT].... → Crawl4AI 0.6.2\n",
      "[INIT].... → Crawl4AI 0.6.2\n",
      "[INIT].... → Crawl4AI 0.6.2\n",
      "[FETCH]... ↓ https://www.essex.ac.uk/courses/PG01431/1/MA-Heritage-and-Museum-Studies                             | ✓ | ⏱: 15.00s\n",
      "[SCRAPE].. ◆ https://www.essex.ac.uk/courses/PG01431/1/MA-Heritage-and-Museum-Studies                             | ✓ | ⏱: 0.34s\n",
      "[COMPLETE] ● https://www.essex.ac.uk/courses/PG01431/1/MA-Heritage-and-Museum-Studies                             | ✓ | ⏱: 15.54s\n"
     ]
    },
    {
     "data": {
      "application/vnd.jupyter.widget-view+json": {
       "model_id": "c0495e6f96494a38b284d18fec1ba8fc",
       "version_major": 2,
       "version_minor": 0
      },
      "text/plain": [
       "images:MA-Heritage-and-Museum-Studies-1:   0%|          | 0/10 [00:00<?, ?it/s]"
      ]
     },
     "metadata": {},
     "output_type": "display_data"
    },
    {
     "name": "stdout",
     "output_type": "stream",
     "text": [
      "[INIT].... → Crawl4AI 0.6.2\n",
      "[SCRAPE].. ◆ Some images failed to load within timeout\n",
      "[FETCH]... ↓ https://www.essex.ac.uk/courses/UG00023/2/BA-Art-History-and-Modern-Languages                        | ✓ | ⏱: 47.38s\n",
      "[SCRAPE].. ◆ https://www.essex.ac.uk/courses/UG00023/2/BA-Art-History-and-Modern-Languages                        | ✓ | ⏱: 0.39s\n",
      "[COMPLETE] ● https://www.essex.ac.uk/courses/UG00023/2/BA-Art-History-and-Modern-Languages                        | ✓ | ⏱: 47.97s\n",
      "[FETCH]... ↓ https://www.essex.ac.uk/courses/PR01624/3/MSc-by-Dissertation-Cancer-Biology                         | ✓ | ⏱: 24.18s\n",
      "[SCRAPE].. ◆ https://www.essex.ac.uk/courses/PR01624/3/MSc-by-Dissertation-Cancer-Biology                         | ✓ | ⏱: 0.35s\n",
      "[COMPLETE] ● https://www.essex.ac.uk/courses/PR01624/3/MSc-by-Dissertation-Cancer-Biology                         | ✓ | ⏱: 24.70s\n"
     ]
    },
    {
     "data": {
      "application/vnd.jupyter.widget-view+json": {
       "model_id": "9aa7d38cd3924f88a79fa490542ee3ff",
       "version_major": 2,
       "version_minor": 0
      },
      "text/plain": [
       "images:MSc-by-Dissertation-Cancer-Biology-3:   0%|          | 0/10 [00:00<?, ?it/s]"
      ]
     },
     "metadata": {},
     "output_type": "display_data"
    },
    {
     "data": {
      "application/vnd.jupyter.widget-view+json": {
       "model_id": "13340b6f90ae44e9b1cc3d463c3f9eb9",
       "version_major": 2,
       "version_minor": 0
      },
      "text/plain": [
       "images:BA-Art-History-and-Modern-Languages-2:   0%|          | 0/10 [00:00<?, ?it/s]"
      ]
     },
     "metadata": {},
     "output_type": "display_data"
    },
    {
     "name": "stdout",
     "output_type": "stream",
     "text": [
      "⚠ cannot fetch https://www.essex.ac.uk/-/media/courses/whats-next-images/what-next-virtual-tours.jpg?mh=350&mw=350&hash=526839C2579F37EF2E923D3649E05A03: [SYS] unknown error (_ssl.c:2559)\n",
      "[FETCH]... ↓ https://www.essex.ac.uk/courses/PG01046/1/MSc-Cancer-Biology                                         | ✓ | ⏱: 53.15s\n",
      "[SCRAPE].. ◆ https://www.essex.ac.uk/courses/PG01046/1/MSc-Cancer-Biology                                         | ✓ | ⏱: 0.16s\n",
      "[COMPLETE] ● https://www.essex.ac.uk/courses/PG01046/1/MSc-Cancer-Biology                                         | ✓ | ⏱: 53.44s\n",
      "[FETCH]... ↓ https://www.essex.ac.uk/courses/UG00023/1/BA-Art-History-and-Modern-Languages                        | ✓ | ⏱: 54.61s\n",
      "[SCRAPE].. ◆ https://www.essex.ac.uk/courses/UG00023/1/BA-Art-History-and-Modern-Languages                        | ✓ | ⏱: 0.52s\n",
      "[COMPLETE] ● https://www.essex.ac.uk/courses/UG00023/1/BA-Art-History-and-Modern-Languages                        | ✓ | ⏱: 55.24s\n",
      "[INIT].... → Crawl4AI 0.6.2\n",
      "[INIT].... → Crawl4AI 0.6.2\n"
     ]
    },
    {
     "data": {
      "application/vnd.jupyter.widget-view+json": {
       "model_id": "55aac29dcb244083a570857f8da5e9b9",
       "version_major": 2,
       "version_minor": 0
      },
      "text/plain": [
       "images:MSc-Cancer-Biology-1:   0%|          | 0/10 [00:00<?, ?it/s]"
      ]
     },
     "metadata": {},
     "output_type": "display_data"
    },
    {
     "name": "stdout",
     "output_type": "stream",
     "text": [
      "[FETCH]... ↓ https://www.essex.ac.uk/courses/UG00322/2/BA-Philosophy-and-Art-History                              | ✓ | ⏱: 68.62s\n",
      "[SCRAPE].. ◆ https://www.essex.ac.uk/courses/UG00322/2/BA-Philosophy-and-Art-History                              | ✓ | ⏱: 0.28s\n",
      "[COMPLETE] ● https://www.essex.ac.uk/courses/UG00322/2/BA-Philosophy-and-Art-History                              | ✓ | ⏱: 69.11s\n",
      "[FETCH]... ↓ https://www.essex.ac.uk/courses/PG00591/3/MA-Curating                                                | ✓ | ⏱: 71.26s\n",
      "[SCRAPE].. ◆ https://www.essex.ac.uk/courses/PG00591/3/MA-Curating                                                | ✓ | ⏱: 0.28s\n",
      "[COMPLETE] ● https://www.essex.ac.uk/courses/PG00591/3/MA-Curating                                                | ✓ | ⏱: 71.65s\n"
     ]
    },
    {
     "data": {
      "application/vnd.jupyter.widget-view+json": {
       "model_id": "b2336fa68c50470ab4e130183f4a76f4",
       "version_major": 2,
       "version_minor": 0
      },
      "text/plain": [
       "images:BA-Art-History-and-Modern-Languages-1:   0%|          | 0/10 [00:00<?, ?it/s]"
      ]
     },
     "metadata": {},
     "output_type": "display_data"
    },
    {
     "name": "stdout",
     "output_type": "stream",
     "text": [
      "[FETCH]... ↓ https://www.essex.ac.uk/courses/UG00025/2/BA-Art-History-with-Modern-Languages                       | ✓ | ⏱: 73.19s\n",
      "[SCRAPE].. ◆ https://www.essex.ac.uk/courses/UG00025/2/BA-Art-History-with-Modern-Languages                       | ✓ | ⏱: 0.26s\n",
      "[COMPLETE] ● https://www.essex.ac.uk/courses/UG00025/2/BA-Art-History-with-Modern-Languages                       | ✓ | ⏱: 73.72s\n",
      "[INIT].... → Crawl4AI 0.6.2\n"
     ]
    },
    {
     "data": {
      "application/vnd.jupyter.widget-view+json": {
       "model_id": "f0eddeb62c9a41b2a75a1a2d713106ff",
       "version_major": 2,
       "version_minor": 0
      },
      "text/plain": [
       "images:MA-Curating-3:   0%|          | 0/11 [00:00<?, ?it/s]"
      ]
     },
     "metadata": {},
     "output_type": "display_data"
    },
    {
     "data": {
      "application/vnd.jupyter.widget-view+json": {
       "model_id": "49d3bbf64df9469c8ee8ed1a63392d23",
       "version_major": 2,
       "version_minor": 0
      },
      "text/plain": [
       "images:BA-Philosophy-and-Art-History-2:   0%|          | 0/10 [00:00<?, ?it/s]"
      ]
     },
     "metadata": {},
     "output_type": "display_data"
    },
    {
     "data": {
      "application/vnd.jupyter.widget-view+json": {
       "model_id": "3a4f28dd08ff47d38ad44bd94c9abb9c",
       "version_major": 2,
       "version_minor": 0
      },
      "text/plain": [
       "images:BA-Art-History-with-Modern-Languages-2:   0%|          | 0/10 [00:00<?, ?it/s]"
      ]
     },
     "metadata": {},
     "output_type": "display_data"
    },
    {
     "name": "stdout",
     "output_type": "stream",
     "text": [
      "[INIT].... → Crawl4AI 0.6.2\n",
      "[INIT].... → Crawl4AI 0.6.2\n",
      "[INIT].... → Crawl4AI 0.6.2\n",
      "[INIT].... → Crawl4AI 0.6.2\n",
      "[FETCH]... ↓ https://www.essex.ac.uk/courses/PR00950/1/PhD-Molecular-Medicine                                     | ✓ | ⏱: 19.10s\n",
      "[SCRAPE].. ◆ https://www.essex.ac.uk/courses/PR00950/1/PhD-Molecular-Medicine                                     | ✓ | ⏱: 0.21s\n",
      "[COMPLETE] ● https://www.essex.ac.uk/courses/PR00950/1/PhD-Molecular-Medicine                                     | ✓ | ⏱: 19.49s\n",
      "[FETCH]... ↓ https://www.essex.ac.uk/courses/PG00686/1/MSc-Molecular-Medicine                                     | ✓ | ⏱: 19.63s\n",
      "[SCRAPE].. ◆ https://www.essex.ac.uk/courses/PG00686/1/MSc-Molecular-Medicine                                     | ✓ | ⏱: 0.44s\n",
      "[COMPLETE] ● https://www.essex.ac.uk/courses/PG00686/1/MSc-Molecular-Medicine                                     | ✓ | ⏱: 20.26s\n",
      "[FETCH]... ↓ https://www.essex.ac.uk/courses/PG00469/1/MSc-Biotechnology                                          | ✓ | ⏱: 53.74s\n",
      "[SCRAPE].. ◆ https://www.essex.ac.uk/courses/PG00469/1/MSc-Biotechnology                                          | ✓ | ⏱: 0.44s\n",
      "[COMPLETE] ● https://www.essex.ac.uk/courses/PG00469/1/MSc-Biotechnology                                          | ✓ | ⏱: 54.40s\n"
     ]
    },
    {
     "data": {
      "application/vnd.jupyter.widget-view+json": {
       "model_id": "bdc46f9d4af04706ab1df2d8618654c2",
       "version_major": 2,
       "version_minor": 0
      },
      "text/plain": [
       "images:MSc-Molecular-Medicine-1:   0%|          | 0/10 [00:00<?, ?it/s]"
      ]
     },
     "metadata": {},
     "output_type": "display_data"
    },
    {
     "data": {
      "application/vnd.jupyter.widget-view+json": {
       "model_id": "2a7cac086bb24876a3bf4ee6c1a5944d",
       "version_major": 2,
       "version_minor": 0
      },
      "text/plain": [
       "images:PhD-Molecular-Medicine-1:   0%|          | 0/10 [00:00<?, ?it/s]"
      ]
     },
     "metadata": {},
     "output_type": "display_data"
    },
    {
     "data": {
      "application/vnd.jupyter.widget-view+json": {
       "model_id": "808bf256f2c145fb9ce46a341340932c",
       "version_major": 2,
       "version_minor": 0
      },
      "text/plain": [
       "images:MSc-Biotechnology-1:   0%|          | 0/10 [00:00<?, ?it/s]"
      ]
     },
     "metadata": {},
     "output_type": "display_data"
    },
    {
     "name": "stdout",
     "output_type": "stream",
     "text": [
      "[INIT].... → Crawl4AI 0.6.2\n",
      "[INIT].... → Crawl4AI 0.6.2\n",
      "[INIT].... → Crawl4AI 0.6.2\n",
      "[SCRAPE].. ◆ Some images failed to load within timeout\n",
      "[FETCH]... ↓ https://www.essex.ac.uk/courses/UG01417/1/Integr...Master-in-Science-Biochemistry-and-Biotechnology  | ✓ | ⏱: 27.21s\n",
      "[SCRAPE].. ◆ https://www.essex.ac.uk/courses/UG01417/1/Integr...Master-in-Science-Biochemistry-and-Biotechnology  | ✓ | ⏱: 0.28s\n",
      "[COMPLETE] ● https://www.essex.ac.uk/courses/UG01417/1/Integr...Master-in-Science-Biochemistry-and-Biotechnology  | ✓ | ⏱: 27.70s\n"
     ]
    },
    {
     "data": {
      "application/vnd.jupyter.widget-view+json": {
       "model_id": "cefc2b8974ec4f3a90c59e8bf6ad0de1",
       "version_major": 2,
       "version_minor": 0
      },
      "text/plain": [
       "images:Integrated-Master-in-Science-Biochemistry-and-Biotechnology-1:   0%|          | 0/10 [00:00<?, ?it/s]"
      ]
     },
     "metadata": {},
     "output_type": "display_data"
    },
    {
     "name": "stdout",
     "output_type": "stream",
     "text": [
      "⚠ cannot fetch https://www.essex.ac.uk/-/media/header-images/subjects/biochemistry-subject-1200x600/biochemistry_ptait_20181119_3784.jpg?mh=512&mw=512&hash=13F5A020C56E262C321099304FC9CEFE: HTTPSConnectionPool(host='www.essex.ac.uk', port=443): Read timed out. (read timeout=30)\n",
      "[FETCH]... ↓ https://www.essex.ac.uk/courses/PR00950/3/MSc-by-Dissertation-Molecular-Medicine                     | ✓ | ⏱: 56.85s\n",
      "[SCRAPE].. ◆ https://www.essex.ac.uk/courses/PR00950/3/MSc-by-Dissertation-Molecular-Medicine                     | ✓ | ⏱: 0.18s\n",
      "[COMPLETE] ● https://www.essex.ac.uk/courses/PR00950/3/MSc-by-Dissertation-Molecular-Medicine                     | ✓ | ⏱: 57.21s\n"
     ]
    },
    {
     "data": {
      "application/vnd.jupyter.widget-view+json": {
       "model_id": "2e1b2eae0d2d4615a88de8e9cc70758c",
       "version_major": 2,
       "version_minor": 0
      },
      "text/plain": [
       "images:MSc-by-Dissertation-Molecular-Medicine-3:   0%|          | 0/10 [00:00<?, ?it/s]"
      ]
     },
     "metadata": {},
     "output_type": "display_data"
    },
    {
     "name": "stdout",
     "output_type": "stream",
     "text": [
      "[INIT].... → Crawl4AI 0.6.2\n",
      "[FETCH]... ↓ https://www.essex.ac.uk/courses/PR00867/1/PhD-Biochemistry                                           | ✓ | ⏱: 61.52s\n",
      "[SCRAPE].. ◆ https://www.essex.ac.uk/courses/PR00867/1/PhD-Biochemistry                                           | ✓ | ⏱: 0.51s\n",
      "[COMPLETE] ● https://www.essex.ac.uk/courses/PR00867/1/PhD-Biochemistry                                           | ✓ | ⏱: 62.47s\n",
      "[SCRAPE].. ◆ Some images failed to load within timeout\n",
      "[INIT].... → Crawl4AI 0.6.2\n"
     ]
    },
    {
     "data": {
      "application/vnd.jupyter.widget-view+json": {
       "model_id": "e97ab11cff4d4d6389c141404f2efcef",
       "version_major": 2,
       "version_minor": 0
      },
      "text/plain": [
       "images:PhD-Biochemistry-1:   0%|          | 0/10 [00:00<?, ?it/s]"
      ]
     },
     "metadata": {},
     "output_type": "display_data"
    },
    {
     "name": "stdout",
     "output_type": "stream",
     "text": [
      "[ERROR]... × https://www.essex.ac.uk...73/1/PhD-Bio-Statistics  | Error: \n",
      "┌───────────────────────────────────────────────────────────────────────────────────────────────────────────────────────┐\n",
      "│ × Unexpected error in _crawl_web at line 731 in _crawl_web (../../../../../opt/anaconda3/lib/python3.12/site-         │\n",
      "│ packages/crawl4ai/async_crawler_strategy.py):                                                                         │\n",
      "│   Error: Failed on navigating ACS-GOTO:                                                                               │\n",
      "│   Page.goto: Timeout 60000ms exceeded.                                                                                │\n",
      "│   Call log:                                                                                                           │\n",
      "│   - navigating to \"https://www.essex.ac.uk/courses/PR00873/1/PhD-Bio-Statistics\", waiting until \"domcontentloaded\"    │\n",
      "│                                                                                                                       │\n",
      "│                                                                                                                       │\n",
      "│   Code context:                                                                                                       │\n",
      "│   726                       response = await page.goto(                                                               │\n",
      "│   727                           url, wait_until=config.wait_until, timeout=config.page_timeout                        │\n",
      "│   728                       )                                                                                         │\n",
      "│   729                       redirected_url = page.url                                                                 │\n",
      "│   730                   except Error as e:                                                                            │\n",
      "│   731 →                     raise RuntimeError(f\"Failed on navigating ACS-GOTO:\\n{str(e)}\")                           │\n",
      "│   732                                                                                                                 │\n",
      "│   733                   await self.execute_hook(                                                                      │\n",
      "│   734                       \"after_goto\", page, context=context, url=url, response=response, config=config            │\n",
      "│   735                   )                                                                                             │\n",
      "│   736                                                                                                                 │\n",
      "└───────────────────────────────────────────────────────────────────────────────────────────────────────────────────────┘\n",
      "\n",
      "⚠️  PhD-Bio-Statistics-1: Unexpected error in _crawl_web at line 731 in _crawl_web (../../../../../opt/anaconda3/lib/python3.12/site-packages/crawl4ai/async_crawler_strategy.py):\n",
      "Error: Failed on navigating ACS-GOTO:\n",
      "Page.goto: Timeout 60000ms exceeded.\n",
      "Call log:\n",
      "  - navigating to \"https://www.essex.ac.uk/courses/PR00873/1/PhD-Bio-Statistics\", waiting until \"domcontentloaded\"\n",
      "\n",
      "\n",
      "Code context:\n",
      " 726                       response = await page.goto(\n",
      " 727                           url, wait_until=config.wait_until, timeout=config.page_timeout\n",
      " 728                       )\n",
      " 729                       redirected_url = page.url\n",
      " 730                   except Error as e:\n",
      " 731 →                     raise RuntimeError(f\"Failed on navigating ACS-GOTO:\\n{str(e)}\")\n",
      " 732   \n",
      " 733                   await self.execute_hook(\n",
      " 734                       \"after_goto\", page, context=context, url=url, response=response, config=config\n",
      " 735                   )\n",
      " 736   \n",
      "[INIT].... → Crawl4AI 0.6.2\n",
      "[FETCH]... ↓ https://www.essex.ac.uk/courses/UG00033/1/BSc-Biochemistry                                           | ✓ | ⏱: 100.55s\n",
      "[SCRAPE].. ◆ https://www.essex.ac.uk/courses/UG00033/1/BSc-Biochemistry                                           | ✓ | ⏱: 0.44s\n",
      "[COMPLETE] ● https://www.essex.ac.uk/courses/UG00033/1/BSc-Biochemistry                                           | ✓ | ⏱: 101.21s\n",
      "[SCRAPE].. ◆ Some images failed to load within timeout\n",
      "[FETCH]... ↓ https://www.essex.ac.uk/courses/PR01624/1/PhD-Cancer-Biology                                         | ✓ | ⏱: 99.97s\n",
      "[SCRAPE].. ◆ https://www.essex.ac.uk/courses/PR01624/1/PhD-Cancer-Biology                                         | ✓ | ⏱: 0.42s\n",
      "[COMPLETE] ● https://www.essex.ac.uk/courses/PR01624/1/PhD-Cancer-Biology                                         | ✓ | ⏱: 100.70s\n",
      "[INIT].... → Crawl4AI 0.6.2\n",
      "[FETCH]... ↓ https://www.essex.ac.uk/courses/PR00870/1/PhD-Biological-Sciences                                    | ✓ | ⏱: 86.48s\n",
      "[SCRAPE].. ◆ https://www.essex.ac.uk/courses/PR00870/1/PhD-Biological-Sciences                                    | ✓ | ⏱: 0.22s\n",
      "[COMPLETE] ● https://www.essex.ac.uk/courses/PR00870/1/PhD-Biological-Sciences                                    | ✓ | ⏱: 86.96s\n",
      "[FETCH]... ↓ https://www.essex.ac.uk/courses/PR00867/3/MSc-by-Dissertation-Biochemistry                           | ✓ | ⏱: 87.61s\n",
      "[SCRAPE].. ◆ https://www.essex.ac.uk/courses/PR00867/3/MSc-by-Dissertation-Biochemistry                           | ✓ | ⏱: 0.21s\n",
      "[COMPLETE] ● https://www.essex.ac.uk/courses/PR00867/3/MSc-by-Dissertation-Biochemistry                           | ✓ | ⏱: 87.95s\n"
     ]
    },
    {
     "data": {
      "application/vnd.jupyter.widget-view+json": {
       "model_id": "8cef08c147cd484d9ec10eab4b9ea1d0",
       "version_major": 2,
       "version_minor": 0
      },
      "text/plain": [
       "images:BSc-Biochemistry-1:   0%|          | 0/10 [00:00<?, ?it/s]"
      ]
     },
     "metadata": {},
     "output_type": "display_data"
    },
    {
     "name": "stdout",
     "output_type": "stream",
     "text": [
      "⚠ cannot fetch https://www.essex.ac.uk/-/media/header-images/subjects/biochemistry-subject-1200x600/biochemistry_ptait_20181119_3784.jpg?mh=512&mw=512&hash=13F5A020C56E262C321099304FC9CEFE: HTTPSConnectionPool(host='www.essex.ac.uk', port=443): Max retries exceeded with url: /-/media/header-images/subjects/biochemistry-subject-1200x600/biochemistry_ptait_20181119_3784.jpg?mh=512&mw=512&hash=13F5A020C56E262C321099304FC9CEFE (Caused by NewConnectionError('<urllib3.connection.HTTPSConnection object at 0x1512a0dd0>: Failed to establish a new connection: [Errno 61] Connection refused'))\n"
     ]
    },
    {
     "data": {
      "application/vnd.jupyter.widget-view+json": {
       "model_id": "9178c6b221d445c18368489140b25242",
       "version_major": 2,
       "version_minor": 0
      },
      "text/plain": [
       "images:PhD-Cancer-Biology-1:   0%|          | 0/10 [00:00<?, ?it/s]"
      ]
     },
     "metadata": {},
     "output_type": "display_data"
    },
    {
     "name": "stdout",
     "output_type": "stream",
     "text": [
      "[ERROR]... × https://www.essex.ac.uk...il-Mathematical-Biology  | Error: \n",
      "┌───────────────────────────────────────────────────────────────────────────────────────────────────────────────────────┐\n",
      "│ × Unexpected error in _crawl_web at line 731 in _crawl_web (../../../../../opt/anaconda3/lib/python3.12/site-         │\n",
      "│ packages/crawl4ai/async_crawler_strategy.py):                                                                         │\n",
      "│   Error: Failed on navigating ACS-GOTO:                                                                               │\n",
      "│   Page.goto: net::ERR_CONNECTION_REFUSED at https://www.essex.ac.uk/courses/PR00942/2/MPhil-Mathematical-Biology      │\n",
      "│   Call log:                                                                                                           │\n",
      "│   - navigating to \"https://www.essex.ac.uk/courses/PR00942/2/MPhil-Mathematical-Biology\", waiting until               │\n",
      "│ \"domcontentloaded\"                                                                                                    │\n",
      "│                                                                                                                       │\n",
      "│                                                                                                                       │\n",
      "│   Code context:                                                                                                       │\n",
      "│   726                       response = await page.goto(                                                               │\n",
      "│   727                           url, wait_until=config.wait_until, timeout=config.page_timeout                        │\n",
      "│   728                       )                                                                                         │\n",
      "│   729                       redirected_url = page.url                                                                 │\n",
      "│   730                   except Error as e:                                                                            │\n",
      "│   731 →                     raise RuntimeError(f\"Failed on navigating ACS-GOTO:\\n{str(e)}\")                           │\n",
      "│   732                                                                                                                 │\n",
      "│   733                   await self.execute_hook(                                                                      │\n",
      "│   734                       \"after_goto\", page, context=context, url=url, response=response, config=config            │\n",
      "│   735                   )                                                                                             │\n",
      "│   736                                                                                                                 │\n",
      "└───────────────────────────────────────────────────────────────────────────────────────────────────────────────────────┘\n",
      "\n"
     ]
    },
    {
     "data": {
      "application/vnd.jupyter.widget-view+json": {
       "model_id": "4b2b78663b944c0499df7ad616f7091f",
       "version_major": 2,
       "version_minor": 0
      },
      "text/plain": [
       "images:PhD-Biological-Sciences-1:   0%|          | 0/10 [00:00<?, ?it/s]"
      ]
     },
     "metadata": {},
     "output_type": "display_data"
    },
    {
     "data": {
      "application/vnd.jupyter.widget-view+json": {
       "model_id": "8c809a314fe04d00a9981d7e8dcb2eef",
       "version_major": 2,
       "version_minor": 0
      },
      "text/plain": [
       "images:MSc-by-Dissertation-Biochemistry-3:   0%|          | 0/10 [00:00<?, ?it/s]"
      ]
     },
     "metadata": {},
     "output_type": "display_data"
    },
    {
     "name": "stdout",
     "output_type": "stream",
     "text": [
      "[INIT].... → Crawl4AI 0.6.2\n",
      "⚠️  MPhil-Mathematical-Biology-2: Unexpected error in _crawl_web at line 731 in _crawl_web (../../../../../opt/anaconda3/lib/python3.12/site-packages/crawl4ai/async_crawler_strategy.py):\n",
      "Error: Failed on navigating ACS-GOTO:\n",
      "Page.goto: net::ERR_CONNECTION_REFUSED at https://www.essex.ac.uk/courses/PR00942/2/MPhil-Mathematical-Biology\n",
      "Call log:\n",
      "  - navigating to \"https://www.essex.ac.uk/courses/PR00942/2/MPhil-Mathematical-Biology\", waiting until \"domcontentloaded\"\n",
      "\n",
      "\n",
      "Code context:\n",
      " 726                       response = await page.goto(\n",
      " 727                           url, wait_until=config.wait_until, timeout=config.page_timeout\n",
      " 728                       )\n",
      " 729                       redirected_url = page.url\n",
      " 730                   except Error as e:\n",
      " 731 →                     raise RuntimeError(f\"Failed on navigating ACS-GOTO:\\n{str(e)}\")\n",
      " 732   \n",
      " 733                   await self.execute_hook(\n",
      " 734                       \"after_goto\", page, context=context, url=url, response=response, config=config\n",
      " 735                   )\n",
      " 736   \n",
      "[INIT].... → Crawl4AI 0.6.2\n",
      "[INIT].... → Crawl4AI 0.6.2\n",
      "[INIT].... → Crawl4AI 0.6.2\n",
      "[INIT].... → Crawl4AI 0.6.2\n",
      "[FETCH]... ↓ https://www.essex.ac.uk/courses/PR00868/1/PhD-Bioinformatics                                         | ✓ | ⏱: 69.47s\n",
      "[SCRAPE].. ◆ https://www.essex.ac.uk/courses/PR00868/1/PhD-Bioinformatics                                         | ✓ | ⏱: 0.29s\n",
      "[COMPLETE] ● https://www.essex.ac.uk/courses/PR00868/1/PhD-Bioinformatics                                         | ✓ | ⏱: 70.06s\n"
     ]
    },
    {
     "data": {
      "application/vnd.jupyter.widget-view+json": {
       "model_id": "c78c6d66b98b419a9ee830f1e7a6370f",
       "version_major": 2,
       "version_minor": 0
      },
      "text/plain": [
       "images:PhD-Bioinformatics-1:   0%|          | 0/10 [00:00<?, ?it/s]"
      ]
     },
     "metadata": {},
     "output_type": "display_data"
    },
    {
     "name": "stdout",
     "output_type": "stream",
     "text": [
      "⚠ cannot fetch https://www.essex.ac.uk/-/media/header-images/subjects/bio-sciences-1200x600/biological-sciences_ptait_20181119_3104-(1).jpg?mh=512&mw=512&hash=279C27AD600E18D8076660770039D257: HTTPSConnectionPool(host='www.essex.ac.uk', port=443): Max retries exceeded with url: /-/media/header-images/subjects/bio-sciences-1200x600/biological-sciences_ptait_20181119_3104-(1).jpg?mh=512&mw=512&hash=279C27AD600E18D8076660770039D257 (Caused by ConnectTimeoutError(<urllib3.connection.HTTPSConnection object at 0x1521b8530>, 'Connection to www.essex.ac.uk timed out. (connect timeout=30)'))\n",
      "⚠ cannot fetch https://www.essex.ac.uk/-/media/courses/whats-next-images/what-next-open-days.gif?mh=350&mw=350&hash=48F6F5ECB696B58C9C563779CE77D62B: HTTPSConnectionPool(host='www.essex.ac.uk', port=443): Max retries exceeded with url: /-/media/courses/whats-next-images/what-next-open-days.gif?mh=350&mw=350&hash=48F6F5ECB696B58C9C563779CE77D62B (Caused by NewConnectionError('<urllib3.connection.HTTPSConnection object at 0x15206ea20>: Failed to establish a new connection: [Errno 61] Connection refused'))\n",
      "[ERROR]... × https://www.essex.ac.uk...0946/1/PhD-Microbiology  | Error: \n",
      "┌───────────────────────────────────────────────────────────────────────────────────────────────────────────────────────┐\n",
      "│ × Unexpected error in _crawl_web at line 731 in _crawl_web (../../../../../opt/anaconda3/lib/python3.12/site-         │\n",
      "│ packages/crawl4ai/async_crawler_strategy.py):                                                                         │\n",
      "│   Error: Failed on navigating ACS-GOTO:                                                                               │\n",
      "│   Page.goto: Timeout 60000ms exceeded.                                                                                │\n",
      "│   Call log:                                                                                                           │\n",
      "│   - navigating to \"https://www.essex.ac.uk/courses/PR00946/1/PhD-Microbiology\", waiting until \"domcontentloaded\"      │\n",
      "│                                                                                                                       │\n",
      "│                                                                                                                       │\n",
      "│   Code context:                                                                                                       │\n",
      "│   726                       response = await page.goto(                                                               │\n",
      "│   727                           url, wait_until=config.wait_until, timeout=config.page_timeout                        │\n",
      "│   728                       )                                                                                         │\n",
      "│   729                       redirected_url = page.url                                                                 │\n",
      "│   730                   except Error as e:                                                                            │\n",
      "│   731 →                     raise RuntimeError(f\"Failed on navigating ACS-GOTO:\\n{str(e)}\")                           │\n",
      "│   732                                                                                                                 │\n",
      "│   733                   await self.execute_hook(                                                                      │\n",
      "│   734                       \"after_goto\", page, context=context, url=url, response=response, config=config            │\n",
      "│   735                   )                                                                                             │\n",
      "│   736                                                                                                                 │\n",
      "└───────────────────────────────────────────────────────────────────────────────────────────────────────────────────────┘\n",
      "\n",
      "[ERROR]... × https://www.essex.ac.uk.../BSc-Biomedical-Science  | Error: \n",
      "┌───────────────────────────────────────────────────────────────────────────────────────────────────────────────────────┐\n",
      "│ × Unexpected error in _crawl_web at line 731 in _crawl_web (../../../../../opt/anaconda3/lib/python3.12/site-         │\n",
      "│ packages/crawl4ai/async_crawler_strategy.py):                                                                         │\n",
      "│   Error: Failed on navigating ACS-GOTO:                                                                               │\n",
      "│   Page.goto: net::ERR_CONNECTION_REFUSED at https://www.essex.ac.uk/courses/UG00039/3/BSc-Biomedical-Science          │\n",
      "│   Call log:                                                                                                           │\n",
      "│   - navigating to \"https://www.essex.ac.uk/courses/UG00039/3/BSc-Biomedical-Science\", waiting until                   │\n",
      "│ \"domcontentloaded\"                                                                                                    │\n",
      "│                                                                                                                       │\n",
      "│                                                                                                                       │\n",
      "│   Code context:                                                                                                       │\n",
      "│   726                       response = await page.goto(                                                               │\n",
      "│   727                           url, wait_until=config.wait_until, timeout=config.page_timeout                        │\n",
      "│   728                       )                                                                                         │\n",
      "│   729                       redirected_url = page.url                                                                 │\n",
      "│   730                   except Error as e:                                                                            │\n",
      "│   731 →                     raise RuntimeError(f\"Failed on navigating ACS-GOTO:\\n{str(e)}\")                           │\n",
      "│   732                                                                                                                 │\n",
      "│   733                   await self.execute_hook(                                                                      │\n",
      "│   734                       \"after_goto\", page, context=context, url=url, response=response, config=config            │\n",
      "│   735                   )                                                                                             │\n",
      "│   736                                                                                                                 │\n",
      "└───────────────────────────────────────────────────────────────────────────────────────────────────────────────────────┘\n",
      "\n",
      "⚠️  BSc-Biomedical-Science-3: Unexpected error in _crawl_web at line 731 in _crawl_web (../../../../../opt/anaconda3/lib/python3.12/site-packages/crawl4ai/async_crawler_strategy.py):\n",
      "Error: Failed on navigating ACS-GOTO:\n",
      "Page.goto: net::ERR_CONNECTION_REFUSED at https://www.essex.ac.uk/courses/UG00039/3/BSc-Biomedical-Science\n",
      "Call log:\n",
      "  - navigating to \"https://www.essex.ac.uk/courses/UG00039/3/BSc-Biomedical-Science\", waiting until \"domcontentloaded\"\n",
      "\n",
      "\n",
      "Code context:\n",
      " 726                       response = await page.goto(\n",
      " 727                           url, wait_until=config.wait_until, timeout=config.page_timeout\n",
      " 728                       )\n",
      " 729                       redirected_url = page.url\n",
      " 730                   except Error as e:\n",
      " 731 →                     raise RuntimeError(f\"Failed on navigating ACS-GOTO:\\n{str(e)}\")\n",
      " 732   \n",
      " 733                   await self.execute_hook(\n",
      " 734                       \"after_goto\", page, context=context, url=url, response=response, config=config\n",
      " 735                   )\n",
      " 736   \n",
      "⚠️  PhD-Microbiology-1: Unexpected error in _crawl_web at line 731 in _crawl_web (../../../../../opt/anaconda3/lib/python3.12/site-packages/crawl4ai/async_crawler_strategy.py):\n",
      "Error: Failed on navigating ACS-GOTO:\n",
      "Page.goto: Timeout 60000ms exceeded.\n",
      "Call log:\n",
      "  - navigating to \"https://www.essex.ac.uk/courses/PR00946/1/PhD-Microbiology\", waiting until \"domcontentloaded\"\n",
      "\n",
      "\n",
      "Code context:\n",
      " 726                       response = await page.goto(\n",
      " 727                           url, wait_until=config.wait_until, timeout=config.page_timeout\n",
      " 728                       )\n",
      " 729                       redirected_url = page.url\n",
      " 730                   except Error as e:\n",
      " 731 →                     raise RuntimeError(f\"Failed on navigating ACS-GOTO:\\n{str(e)}\")\n",
      " 732   \n",
      " 733                   await self.execute_hook(\n",
      " 734                       \"after_goto\", page, context=context, url=url, response=response, config=config\n",
      " 735                   )\n",
      " 736   \n",
      "[INIT].... → Crawl4AI 0.6.2\n",
      "[INIT].... → Crawl4AI 0.6.2\n",
      "[INIT].... → Crawl4AI 0.6.2\n",
      "[FETCH]... ↓ https://www.essex.ac.uk/courses/PR00876/1/PhD-Cell-and-Molecular-Biology                             | ✓ | ⏱: 56.89s\n",
      "[SCRAPE].. ◆ https://www.essex.ac.uk/courses/PR00876/1/PhD-Cell-and-Molecular-Biology                             | ✓ | ⏱: 0.17s\n",
      "[COMPLETE] ● https://www.essex.ac.uk/courses/PR00876/1/PhD-Cell-and-Molecular-Biology                             | ✓ | ⏱: 57.25s\n",
      "[FETCH]... ↓ https://www.essex.ac.uk/courses/PR00904/1/PhD-Environmental-Biology                                  | ✓ | ⏱: 56.53s\n",
      "[SCRAPE].. ◆ https://www.essex.ac.uk/courses/PR00904/1/PhD-Environmental-Biology                                  | ✓ | ⏱: 0.21s\n",
      "[COMPLETE] ● https://www.essex.ac.uk/courses/PR00904/1/PhD-Environmental-Biology                                  | ✓ | ⏱: 56.98s\n",
      "[FETCH]... ↓ https://www.essex.ac.uk/courses/UG00102/1/BSc-Ecology-and-Environmental-Biology                      | ✓ | ⏱: 84.30s\n",
      "[SCRAPE].. ◆ https://www.essex.ac.uk/courses/UG00102/1/BSc-Ecology-and-Environmental-Biology                      | ✓ | ⏱: 0.26s\n",
      "[COMPLETE] ● https://www.essex.ac.uk/courses/UG00102/1/BSc-Ecology-and-Environmental-Biology                      | ✓ | ⏱: 84.72s\n",
      "[FETCH]... ↓ https://www.essex.ac.uk/courses/UG00039/2/BSc-Biomedical-Science                                     | ✓ | ⏱: 58.33s\n",
      "[SCRAPE].. ◆ https://www.essex.ac.uk/courses/UG00039/2/BSc-Biomedical-Science                                     | ✓ | ⏱: 0.29s\n",
      "[COMPLETE] ● https://www.essex.ac.uk/courses/UG00039/2/BSc-Biomedical-Science                                     | ✓ | ⏱: 58.75s\n"
     ]
    },
    {
     "data": {
      "application/vnd.jupyter.widget-view+json": {
       "model_id": "690212cd51ff4debbeb850e24657658e",
       "version_major": 2,
       "version_minor": 0
      },
      "text/plain": [
       "images:PhD-Cell-and-Molecular-Biology-1:   0%|          | 0/10 [00:00<?, ?it/s]"
      ]
     },
     "metadata": {},
     "output_type": "display_data"
    },
    {
     "name": "stdout",
     "output_type": "stream",
     "text": [
      "[FETCH]... ↓ https://www.essex.ac.uk/courses/UG00039/1/BSc-Biomedical-Science                                     | ✓ | ⏱: 62.70s\n",
      "[SCRAPE].. ◆ https://www.essex.ac.uk/courses/UG00039/1/BSc-Biomedical-Science                                     | ✓ | ⏱: 0.24s\n",
      "[COMPLETE] ● https://www.essex.ac.uk/courses/UG00039/1/BSc-Biomedical-Science                                     | ✓ | ⏱: 63.20s\n"
     ]
    },
    {
     "data": {
      "application/vnd.jupyter.widget-view+json": {
       "model_id": "4cb7d93358e6444e8a0e756ff6937b61",
       "version_major": 2,
       "version_minor": 0
      },
      "text/plain": [
       "images:PhD-Environmental-Biology-1:   0%|          | 0/10 [00:00<?, ?it/s]"
      ]
     },
     "metadata": {},
     "output_type": "display_data"
    },
    {
     "data": {
      "application/vnd.jupyter.widget-view+json": {
       "model_id": "e77a994e45fb494dbe85e9eb9d9e2e74",
       "version_major": 2,
       "version_minor": 0
      },
      "text/plain": [
       "images:BSc-Biomedical-Science-2:   0%|          | 0/13 [00:00<?, ?it/s]"
      ]
     },
     "metadata": {},
     "output_type": "display_data"
    },
    {
     "data": {
      "application/vnd.jupyter.widget-view+json": {
       "model_id": "c874b2dd4fe745b4bc53208ae55e149b",
       "version_major": 2,
       "version_minor": 0
      },
      "text/plain": [
       "images:BSc-Ecology-and-Environmental-Biology-1:   0%|          | 0/10 [00:00<?, ?it/s]"
      ]
     },
     "metadata": {},
     "output_type": "display_data"
    },
    {
     "name": "stdout",
     "output_type": "stream",
     "text": [
      "[INIT].... → Crawl4AI 0.6.2\n"
     ]
    },
    {
     "data": {
      "application/vnd.jupyter.widget-view+json": {
       "model_id": "6eb79c3d315b455d8ee7e162f831b7dc",
       "version_major": 2,
       "version_minor": 0
      },
      "text/plain": [
       "images:BSc-Biomedical-Science-1:   0%|          | 0/13 [00:00<?, ?it/s]"
      ]
     },
     "metadata": {},
     "output_type": "display_data"
    },
    {
     "name": "stdout",
     "output_type": "stream",
     "text": [
      "[INIT].... → Crawl4AI 0.6.2\n",
      "[INIT].... → Crawl4AI 0.6.2\n",
      "[INIT].... → Crawl4AI 0.6.2\n",
      "[SCRAPE].. ◆ Some images failed to load within timeout\n",
      "[INIT].... → Crawl4AI 0.6.2\n",
      "[FETCH]... ↓ https://www.essex.ac.uk/courses/UG00263/2/BSc-Marine-Biology                                         | ✓ | ⏱: 32.05s\n",
      "[SCRAPE].. ◆ https://www.essex.ac.uk/courses/UG00263/2/BSc-Marine-Biology                                         | ✓ | ⏱: 0.41s\n",
      "[COMPLETE] ● https://www.essex.ac.uk/courses/UG00263/2/BSc-Marine-Biology                                         | ✓ | ⏱: 32.72s\n",
      "[FETCH]... ↓ https://www.essex.ac.uk/courses/PR00942/1/PhD-Mathematical-Biology                                   | ✓ | ⏱: 32.85s\n",
      "[SCRAPE].. ◆ https://www.essex.ac.uk/courses/PR00942/1/PhD-Mathematical-Biology                                   | ✓ | ⏱: 0.26s\n",
      "[COMPLETE] ● https://www.essex.ac.uk/courses/PR00942/1/PhD-Mathematical-Biology                                   | ✓ | ⏱: 33.30s\n"
     ]
    },
    {
     "data": {
      "application/vnd.jupyter.widget-view+json": {
       "model_id": "4c994bb18d0a4a77959f23fe372e433e",
       "version_major": 2,
       "version_minor": 0
      },
      "text/plain": [
       "images:BSc-Marine-Biology-2:   0%|          | 0/10 [00:00<?, ?it/s]"
      ]
     },
     "metadata": {},
     "output_type": "display_data"
    },
    {
     "name": "stdout",
     "output_type": "stream",
     "text": [
      "[FETCH]... ↓ https://www.essex.ac.uk/courses/UG00263/1/BSc-Marine-Biology                                         | ✓ | ⏱: 40.16s\n",
      "[SCRAPE].. ◆ https://www.essex.ac.uk/courses/UG00263/1/BSc-Marine-Biology                                         | ✓ | ⏱: 0.25s\n",
      "[COMPLETE] ● https://www.essex.ac.uk/courses/UG00263/1/BSc-Marine-Biology                                         | ✓ | ⏱: 40.65s\n"
     ]
    },
    {
     "data": {
      "application/vnd.jupyter.widget-view+json": {
       "model_id": "3e3be0f1eb6f46698333b0425e90cb50",
       "version_major": 2,
       "version_minor": 0
      },
      "text/plain": [
       "images:PhD-Mathematical-Biology-1:   0%|          | 0/10 [00:00<?, ?it/s]"
      ]
     },
     "metadata": {},
     "output_type": "display_data"
    },
    {
     "name": "stdout",
     "output_type": "stream",
     "text": [
      "[INIT].... → Crawl4AI 0.6.2\n"
     ]
    },
    {
     "data": {
      "application/vnd.jupyter.widget-view+json": {
       "model_id": "2dd746902544455d84ed6191fdee43a2",
       "version_major": 2,
       "version_minor": 0
      },
      "text/plain": [
       "images:BSc-Marine-Biology-1:   0%|          | 0/10 [00:00<?, ?it/s]"
      ]
     },
     "metadata": {},
     "output_type": "display_data"
    },
    {
     "name": "stdout",
     "output_type": "stream",
     "text": [
      "[INIT].... → Crawl4AI 0.6.2\n",
      "[INIT].... → Crawl4AI 0.6.2\n",
      "[FETCH]... ↓ https://www.essex.ac.uk/courses/UG01128/1/BSc-Biotechnology                                          | ✓ | ⏱: 22.83s\n",
      "[SCRAPE].. ◆ https://www.essex.ac.uk/courses/UG01128/1/BSc-Biotechnology                                          | ✓ | ⏱: 0.25s\n",
      "[COMPLETE] ● https://www.essex.ac.uk/courses/UG01128/1/BSc-Biotechnology                                          | ✓ | ⏱: 23.32s\n"
     ]
    },
    {
     "data": {
      "application/vnd.jupyter.widget-view+json": {
       "model_id": "a23068d579fb40bf85941d439f289a8b",
       "version_major": 2,
       "version_minor": 0
      },
      "text/plain": [
       "images:BSc-Biotechnology-1:   0%|          | 0/10 [00:00<?, ?it/s]"
      ]
     },
     "metadata": {},
     "output_type": "display_data"
    },
    {
     "name": "stdout",
     "output_type": "stream",
     "text": [
      "[INIT].... → Crawl4AI 0.6.2\n",
      "[FETCH]... ↓ https://www.essex.ac.uk/courses/UG01498/1/BSc-Global-Sustainability                                  | ✓ | ⏱: 30.01s\n",
      "[SCRAPE].. ◆ https://www.essex.ac.uk/courses/UG01498/1/BSc-Global-Sustainability                                  | ✓ | ⏱: 0.20s\n",
      "[COMPLETE] ● https://www.essex.ac.uk/courses/UG01498/1/BSc-Global-Sustainability                                  | ✓ | ⏱: 30.39s\n"
     ]
    },
    {
     "data": {
      "application/vnd.jupyter.widget-view+json": {
       "model_id": "b0d71014e50e42dfb559d512a512405b",
       "version_major": 2,
       "version_minor": 0
      },
      "text/plain": [
       "images:BSc-Global-Sustainability-1:   0%|          | 0/10 [00:00<?, ?it/s]"
      ]
     },
     "metadata": {},
     "output_type": "display_data"
    },
    {
     "name": "stdout",
     "output_type": "stream",
     "text": [
      "[INIT].... → Crawl4AI 0.6.2\n",
      "[FETCH]... ↓ https://www.essex.ac.uk/courses/PG00837/1/MSc-Tropical-Marine-Biology                                | ✓ | ⏱: 23.66s\n",
      "[SCRAPE].. ◆ https://www.essex.ac.uk/courses/PG00837/1/MSc-Tropical-Marine-Biology                                | ✓ | ⏱: 0.29s\n",
      "[COMPLETE] ● https://www.essex.ac.uk/courses/PG00837/1/MSc-Tropical-Marine-Biology                                | ✓ | ⏱: 24.17s\n"
     ]
    },
    {
     "data": {
      "application/vnd.jupyter.widget-view+json": {
       "model_id": "8d0ec1f68f0e4f8aa41f9f0181bf220a",
       "version_major": 2,
       "version_minor": 0
      },
      "text/plain": [
       "images:MSc-Tropical-Marine-Biology-1:   0%|          | 0/10 [00:00<?, ?it/s]"
      ]
     },
     "metadata": {},
     "output_type": "display_data"
    },
    {
     "name": "stdout",
     "output_type": "stream",
     "text": [
      "[FETCH]... ↓ https://www.essex.ac.uk/courses/UG00038/1/BSc-Biological-Sciences                                    | ✓ | ⏱: 32.58s\n",
      "[SCRAPE].. ◆ https://www.essex.ac.uk/courses/UG00038/1/BSc-Biological-Sciences                                    | ✓ | ⏱: 0.31s\n",
      "[COMPLETE] ● https://www.essex.ac.uk/courses/UG00038/1/BSc-Biological-Sciences                                    | ✓ | ⏱: 33.17s\n",
      "[FETCH]... ↓ https://www.essex.ac.uk/courses/PR00873/2/MPhil-Bio-Statistics                                       | ✓ | ⏱: 53.50s\n",
      "[SCRAPE].. ◆ https://www.essex.ac.uk/courses/PR00873/2/MPhil-Bio-Statistics                                       | ✓ | ⏱: 0.30s\n",
      "[COMPLETE] ● https://www.essex.ac.uk/courses/PR00873/2/MPhil-Bio-Statistics                                       | ✓ | ⏱: 53.99s\n",
      "[FETCH]... ↓ https://www.essex.ac.uk/courses/UG01570/1/BSc-Microbiology                                           | ✓ | ⏱: 34.49s\n",
      "[SCRAPE].. ◆ https://www.essex.ac.uk/courses/UG01570/1/BSc-Microbiology                                           | ✓ | ⏱: 0.28s\n",
      "[COMPLETE] ● https://www.essex.ac.uk/courses/UG01570/1/BSc-Microbiology                                           | ✓ | ⏱: 34.98s\n",
      "[INIT].... → Crawl4AI 0.6.2\n"
     ]
    },
    {
     "data": {
      "application/vnd.jupyter.widget-view+json": {
       "model_id": "ef137d23ca2b4cd2918c779f735a038a",
       "version_major": 2,
       "version_minor": 0
      },
      "text/plain": [
       "images:BSc-Biological-Sciences-1:   0%|          | 0/10 [00:00<?, ?it/s]"
      ]
     },
     "metadata": {},
     "output_type": "display_data"
    },
    {
     "data": {
      "application/vnd.jupyter.widget-view+json": {
       "model_id": "7c0ccc6e380a42108fabdb67451030cd",
       "version_major": 2,
       "version_minor": 0
      },
      "text/plain": [
       "images:MPhil-Bio-Statistics-2:   0%|          | 0/10 [00:00<?, ?it/s]"
      ]
     },
     "metadata": {},
     "output_type": "display_data"
    },
    {
     "name": "stdout",
     "output_type": "stream",
     "text": [
      "[FETCH]... ↓ https://www.essex.ac.uk/courses/UG00039/4/Integrated-Master-in-Science-Biomedical-Science            | ✓ | ⏱: 60.02s\n",
      "[SCRAPE].. ◆ https://www.essex.ac.uk/courses/UG00039/4/Integrated-Master-in-Science-Biomedical-Science            | ✓ | ⏱: 0.22s\n",
      "[COMPLETE] ● https://www.essex.ac.uk/courses/UG00039/4/Integrated-Master-in-Science-Biomedical-Science            | ✓ | ⏱: 60.45s\n"
     ]
    },
    {
     "data": {
      "application/vnd.jupyter.widget-view+json": {
       "model_id": "ee0cacdf356e438f804ce7a4329d8d8d",
       "version_major": 2,
       "version_minor": 0
      },
      "text/plain": [
       "images:BSc-Microbiology-1:   0%|          | 0/10 [00:00<?, ?it/s]"
      ]
     },
     "metadata": {},
     "output_type": "display_data"
    },
    {
     "data": {
      "application/vnd.jupyter.widget-view+json": {
       "model_id": "f7d1310d9df9494daa93c7ed1dfe4974",
       "version_major": 2,
       "version_minor": 0
      },
      "text/plain": [
       "images:Integrated-Master-in-Science-Biomedical-Science-4:   0%|          | 0/13 [00:00<?, ?it/s]"
      ]
     },
     "metadata": {},
     "output_type": "display_data"
    },
    {
     "name": "stdout",
     "output_type": "stream",
     "text": [
      "[INIT].... → Crawl4AI 0.6.2\n",
      "[INIT].... → Crawl4AI 0.6.2\n",
      "[FETCH]... ↓ https://www.essex.ac.uk/courses/UG01340/1/BSc-Human-Biology                                          | ✓ | ⏱: 63.50s\n",
      "[SCRAPE].. ◆ https://www.essex.ac.uk/courses/UG01340/1/BSc-Human-Biology                                          | ✓ | ⏱: 0.33s\n",
      "[COMPLETE] ● https://www.essex.ac.uk/courses/UG01340/1/BSc-Human-Biology                                          | ✓ | ⏱: 64.00s\n",
      "[INIT].... → Crawl4AI 0.6.2\n",
      "[FETCH]... ↓ https://www.essex.ac.uk/courses/UG01419/1/Integrated-Master-in-Science-Tropical-Marine-Biology       | ✓ | ⏱: 66.32s\n",
      "[SCRAPE].. ◆ https://www.essex.ac.uk/courses/UG01419/1/Integrated-Master-in-Science-Tropical-Marine-Biology       | ✓ | ⏱: 0.39s\n",
      "[COMPLETE] ● https://www.essex.ac.uk/courses/UG01419/1/Integrated-Master-in-Science-Tropical-Marine-Biology       | ✓ | ⏱: 67.10s\n",
      "[INIT].... → Crawl4AI 0.6.2\n"
     ]
    },
    {
     "data": {
      "application/vnd.jupyter.widget-view+json": {
       "model_id": "7b1761041ef34697b9ee89bd6b36d7ad",
       "version_major": 2,
       "version_minor": 0
      },
      "text/plain": [
       "images:BSc-Human-Biology-1:   0%|          | 0/10 [00:00<?, ?it/s]"
      ]
     },
     "metadata": {},
     "output_type": "display_data"
    },
    {
     "data": {
      "application/vnd.jupyter.widget-view+json": {
       "model_id": "66131f40cf9843f2b62e194338483f8c",
       "version_major": 2,
       "version_minor": 0
      },
      "text/plain": [
       "images:Integrated-Master-in-Science-Tropical-Marine-Biology-1:   0%|          | 0/10 [00:00<?, ?it/s]"
      ]
     },
     "metadata": {},
     "output_type": "display_data"
    },
    {
     "name": "stdout",
     "output_type": "stream",
     "text": [
      "[INIT].... → Crawl4AI 0.6.2\n",
      "[INIT].... → Crawl4AI 0.6.2\n",
      "[FETCH]... ↓ https://www.essex.ac.uk/courses/PG01365/1/MSc-Health-Genomics                                        | ✓ | ⏱: 40.25s\n",
      "[SCRAPE].. ◆ https://www.essex.ac.uk/courses/PG01365/1/MSc-Health-Genomics                                        | ✓ | ⏱: 0.54s\n",
      "[COMPLETE] ● https://www.essex.ac.uk/courses/PG01365/1/MSc-Health-Genomics                                        | ✓ | ⏱: 41.37s\n",
      "[SCRAPE].. ◆ Some images failed to load within timeout\n"
     ]
    },
    {
     "data": {
      "application/vnd.jupyter.widget-view+json": {
       "model_id": "a8b9b925b73c4f74b4ed0dc4fea79e3c",
       "version_major": 2,
       "version_minor": 0
      },
      "text/plain": [
       "images:MSc-Health-Genomics-1:   0%|          | 0/10 [00:00<?, ?it/s]"
      ]
     },
     "metadata": {},
     "output_type": "display_data"
    },
    {
     "name": "stdout",
     "output_type": "stream",
     "text": [
      "⚠ cannot fetch https://www.essex.ac.uk/-/media/header-images/subjects/biomedical-science-2-subject-1200x600/biomedical-science_ptait_20181119_3069.jpg?mh=512&mw=512&hash=766590EC5C5B28FF59B23728B70D941F: HTTPSConnectionPool(host='www.essex.ac.uk', port=443): Max retries exceeded with url: /-/media/header-images/subjects/biomedical-science-2-subject-1200x600/biomedical-science_ptait_20181119_3069.jpg?mh=512&mw=512&hash=766590EC5C5B28FF59B23728B70D941F (Caused by NewConnectionError('<urllib3.connection.HTTPSConnection object at 0x151e57530>: Failed to establish a new connection: [Errno 61] Connection refused'))\n",
      "[SCRAPE].. ◆ Some images failed to load within timeout\n",
      "[ERROR]... × https://www.essex.ac.uk...ion-Biological-Sciences  | Error: \n",
      "┌───────────────────────────────────────────────────────────────────────────────────────────────────────────────────────┐\n",
      "│ × Unexpected error in _crawl_web at line 731 in _crawl_web (../../../../../opt/anaconda3/lib/python3.12/site-         │\n",
      "│ packages/crawl4ai/async_crawler_strategy.py):                                                                         │\n",
      "│   Error: Failed on navigating ACS-GOTO:                                                                               │\n",
      "│   Page.goto: net::ERR_CONNECTION_REFUSED at https://www.essex.ac.uk/courses/PR00870/3/MSc-by-Dissertation-            │\n",
      "│ Biological-Sciences                                                                                                   │\n",
      "│   Call log:                                                                                                           │\n",
      "│   - navigating to \"https://www.essex.ac.uk/courses/PR00870/3/MSc-by-Dissertation-Biological-Sciences\", waiting until  │\n",
      "│ \"domcontentloaded\"                                                                                                    │\n",
      "│                                                                                                                       │\n",
      "│                                                                                                                       │\n",
      "│   Code context:                                                                                                       │\n",
      "│   726                       response = await page.goto(                                                               │\n",
      "│   727                           url, wait_until=config.wait_until, timeout=config.page_timeout                        │\n",
      "│   728                       )                                                                                         │\n",
      "│   729                       redirected_url = page.url                                                                 │\n",
      "│   730                   except Error as e:                                                                            │\n",
      "│   731 →                     raise RuntimeError(f\"Failed on navigating ACS-GOTO:\\n{str(e)}\")                           │\n",
      "│   732                                                                                                                 │\n",
      "│   733                   await self.execute_hook(                                                                      │\n",
      "│   734                       \"after_goto\", page, context=context, url=url, response=response, config=config            │\n",
      "│   735                   )                                                                                             │\n",
      "│   736                                                                                                                 │\n",
      "└───────────────────────────────────────────────────────────────────────────────────────────────────────────────────────┘\n",
      "\n",
      "[ERROR]... × https://www.essex.ac.uk...ertation-Bio-Statistics  | Error: \n",
      "┌───────────────────────────────────────────────────────────────────────────────────────────────────────────────────────┐\n",
      "│ × Unexpected error in _crawl_web at line 731 in _crawl_web (../../../../../opt/anaconda3/lib/python3.12/site-         │\n",
      "│ packages/crawl4ai/async_crawler_strategy.py):                                                                         │\n",
      "│   Error: Failed on navigating ACS-GOTO:                                                                               │\n",
      "│   Page.goto: net::ERR_TIMED_OUT at https://www.essex.ac.uk/courses/PR00873/3/MSc-by-Dissertation-Bio-Statistics       │\n",
      "│   Call log:                                                                                                           │\n",
      "│   - navigating to \"https://www.essex.ac.uk/courses/PR00873/3/MSc-by-Dissertation-Bio-Statistics\", waiting until       │\n",
      "│ \"domcontentloaded\"                                                                                                    │\n",
      "│                                                                                                                       │\n",
      "│                                                                                                                       │\n",
      "│   Code context:                                                                                                       │\n",
      "│   726                       response = await page.goto(                                                               │\n",
      "│   727                           url, wait_until=config.wait_until, timeout=config.page_timeout                        │\n",
      "│   728                       )                                                                                         │\n",
      "│   729                       redirected_url = page.url                                                                 │\n",
      "│   730                   except Error as e:                                                                            │\n",
      "│   731 →                     raise RuntimeError(f\"Failed on navigating ACS-GOTO:\\n{str(e)}\")                           │\n",
      "│   732                                                                                                                 │\n",
      "│   733                   await self.execute_hook(                                                                      │\n",
      "│   734                       \"after_goto\", page, context=context, url=url, response=response, config=config            │\n",
      "│   735                   )                                                                                             │\n",
      "│   736                                                                                                                 │\n",
      "└───────────────────────────────────────────────────────────────────────────────────────────────────────────────────────┘\n",
      "\n",
      "[INIT].... → Crawl4AI 0.6.2\n",
      "⚠️  MSc-by-Dissertation-Biological-Sciences-3: Unexpected error in _crawl_web at line 731 in _crawl_web (../../../../../opt/anaconda3/lib/python3.12/site-packages/crawl4ai/async_crawler_strategy.py):\n",
      "Error: Failed on navigating ACS-GOTO:\n",
      "Page.goto: net::ERR_CONNECTION_REFUSED at https://www.essex.ac.uk/courses/PR00870/3/MSc-by-Dissertation-Biological-Sciences\n",
      "Call log:\n",
      "  - navigating to \"https://www.essex.ac.uk/courses/PR00870/3/MSc-by-Dissertation-Biological-Sciences\", waiting until \"domcontentloaded\"\n",
      "\n",
      "\n",
      "Code context:\n",
      " 726                       response = await page.goto(\n",
      " 727                           url, wait_until=config.wait_until, timeout=config.page_timeout\n",
      " 728                       )\n",
      " 729                       redirected_url = page.url\n",
      " 730                   except Error as e:\n",
      " 731 →                     raise RuntimeError(f\"Failed on navigating ACS-GOTO:\\n{str(e)}\")\n",
      " 732   \n",
      " 733                   await self.execute_hook(\n",
      " 734                       \"after_goto\", page, context=context, url=url, response=response, config=config\n",
      " 735                   )\n",
      " 736   \n",
      "⚠️  MSc-by-Dissertation-Bio-Statistics-3: Unexpected error in _crawl_web at line 731 in _crawl_web (../../../../../opt/anaconda3/lib/python3.12/site-packages/crawl4ai/async_crawler_strategy.py):\n",
      "Error: Failed on navigating ACS-GOTO:\n",
      "Page.goto: net::ERR_TIMED_OUT at https://www.essex.ac.uk/courses/PR00873/3/MSc-by-Dissertation-Bio-Statistics\n",
      "Call log:\n",
      "  - navigating to \"https://www.essex.ac.uk/courses/PR00873/3/MSc-by-Dissertation-Bio-Statistics\", waiting until \"domcontentloaded\"\n",
      "\n",
      "\n",
      "Code context:\n",
      " 726                       response = await page.goto(\n",
      " 727                           url, wait_until=config.wait_until, timeout=config.page_timeout\n",
      " 728                       )\n",
      " 729                       redirected_url = page.url\n",
      " 730                   except Error as e:\n",
      " 731 →                     raise RuntimeError(f\"Failed on navigating ACS-GOTO:\\n{str(e)}\")\n",
      " 732   \n",
      " 733                   await self.execute_hook(\n",
      " 734                       \"after_goto\", page, context=context, url=url, response=response, config=config\n",
      " 735                   )\n",
      " 736   \n",
      "[INIT].... → Crawl4AI 0.6.2\n",
      "[INIT].... → Crawl4AI 0.6.2\n",
      "[FETCH]... ↓ https://www.essex.ac.uk/courses/PR01068/1/PhD-Plant-Biology                                          | ✓ | ⏱: 61.80s\n",
      "[SCRAPE].. ◆ https://www.essex.ac.uk/courses/PR01068/1/PhD-Plant-Biology                                          | ✓ | ⏱: 0.22s\n",
      "[COMPLETE] ● https://www.essex.ac.uk/courses/PR01068/1/PhD-Plant-Biology                                          | ✓ | ⏱: 62.25s\n",
      "[FETCH]... ↓ https://www.essex.ac.uk/courses/PR00946/3/MSc-by-Dissertation-Microbiology                           | ✓ | ⏱: 39.41s\n",
      "[SCRAPE].. ◆ https://www.essex.ac.uk/courses/PR00946/3/MSc-by-Dissertation-Microbiology                           | ✓ | ⏱: 0.27s\n",
      "[COMPLETE] ● https://www.essex.ac.uk/courses/PR00946/3/MSc-by-Dissertation-Microbiology                           | ✓ | ⏱: 40.08s\n"
     ]
    },
    {
     "data": {
      "application/vnd.jupyter.widget-view+json": {
       "model_id": "6d7a07ad6a9e4d50a8d306b9ea718506",
       "version_major": 2,
       "version_minor": 0
      },
      "text/plain": [
       "images:PhD-Plant-Biology-1:   0%|          | 0/10 [00:00<?, ?it/s]"
      ]
     },
     "metadata": {},
     "output_type": "display_data"
    },
    {
     "data": {
      "application/vnd.jupyter.widget-view+json": {
       "model_id": "f7fe0a41e1db436bb8cb788d7ac89bdc",
       "version_major": 2,
       "version_minor": 0
      },
      "text/plain": [
       "images:MSc-by-Dissertation-Microbiology-3:   0%|          | 0/10 [00:00<?, ?it/s]"
      ]
     },
     "metadata": {},
     "output_type": "display_data"
    },
    {
     "name": "stdout",
     "output_type": "stream",
     "text": [
      "[FETCH]... ↓ https://www.essex.ac.uk/courses/UG00038/2/BSc-Biological-Sciences                                    | ✓ | ⏱: 84.48s\n",
      "[SCRAPE].. ◆ https://www.essex.ac.uk/courses/UG00038/2/BSc-Biological-Sciences                                    | ✓ | ⏱: 0.25s\n",
      "[COMPLETE] ● https://www.essex.ac.uk/courses/UG00038/2/BSc-Biological-Sciences                                    | ✓ | ⏱: 85.04s\n"
     ]
    },
    {
     "data": {
      "application/vnd.jupyter.widget-view+json": {
       "model_id": "eb8cff1dc91e42b18fafafb630bee7d3",
       "version_major": 2,
       "version_minor": 0
      },
      "text/plain": [
       "images:BSc-Biological-Sciences-2:   0%|          | 0/10 [00:00<?, ?it/s]"
      ]
     },
     "metadata": {},
     "output_type": "display_data"
    },
    {
     "name": "stdout",
     "output_type": "stream",
     "text": [
      "[INIT].... → Crawl4AI 0.6.2\n",
      "[INIT].... → Crawl4AI 0.6.2\n",
      "[FETCH]... ↓ https://www.essex.ac.uk/courses/PG01511/1/MSc-Marine-Science-and-Sustainable-Development             | ✓ | ⏱: 101.12s\n",
      "[SCRAPE].. ◆ https://www.essex.ac.uk/courses/PG01511/1/MSc-Marine-Science-and-Sustainable-Development             | ✓ | ⏱: 0.29s\n",
      "[COMPLETE] ● https://www.essex.ac.uk/courses/PG01511/1/MSc-Marine-Science-and-Sustainable-Development             | ✓ | ⏱: 101.65s\n",
      "[FETCH]... ↓ https://www.essex.ac.uk/courses/UG00178/1/BSc-Genetics                                               | ✓ | ⏱: 91.74s\n",
      "[SCRAPE].. ◆ https://www.essex.ac.uk/courses/UG00178/1/BSc-Genetics                                               | ✓ | ⏱: 0.36s\n",
      "[COMPLETE] ● https://www.essex.ac.uk/courses/UG00178/1/BSc-Genetics                                               | ✓ | ⏱: 92.54s\n",
      "[INIT].... → Crawl4AI 0.6.2\n"
     ]
    },
    {
     "data": {
      "application/vnd.jupyter.widget-view+json": {
       "model_id": "81f223b585594331b2ebff111e737d3b",
       "version_major": 2,
       "version_minor": 0
      },
      "text/plain": [
       "images:MSc-Marine-Science-and-Sustainable-Development-1:   0%|          | 0/10 [00:00<?, ?it/s]"
      ]
     },
     "metadata": {},
     "output_type": "display_data"
    },
    {
     "data": {
      "application/vnd.jupyter.widget-view+json": {
       "model_id": "efb24007300d423990bf62961e3072f9",
       "version_major": 2,
       "version_minor": 0
      },
      "text/plain": [
       "images:BSc-Genetics-1:   0%|          | 0/10 [00:00<?, ?it/s]"
      ]
     },
     "metadata": {},
     "output_type": "display_data"
    },
    {
     "name": "stdout",
     "output_type": "stream",
     "text": [
      "[SCRAPE].. ◆ Some images failed to load within timeout\n",
      "[INIT].... → Crawl4AI 0.6.2\n",
      "[FETCH]... ↓ https://www.essex.ac.uk/courses/PR00876/3/MSc-by-Dissertation-Cell-and-Molecular-Biology             | ✓ | ⏱: 46.65s\n",
      "[SCRAPE].. ◆ https://www.essex.ac.uk/courses/PR00876/3/MSc-by-Dissertation-Cell-and-Molecular-Biology             | ✓ | ⏱: 0.38s\n",
      "[COMPLETE] ● https://www.essex.ac.uk/courses/PR00876/3/MSc-by-Dissertation-Cell-and-Molecular-Biology             | ✓ | ⏱: 47.41s\n",
      "[INIT].... → Crawl4AI 0.6.2\n"
     ]
    },
    {
     "data": {
      "application/vnd.jupyter.widget-view+json": {
       "model_id": "ae9da14c48414e169425272962c9e756",
       "version_major": 2,
       "version_minor": 0
      },
      "text/plain": [
       "images:MSc-by-Dissertation-Cell-and-Molecular-Biology-3:   0%|          | 0/10 [00:00<?, ?it/s]"
      ]
     },
     "metadata": {},
     "output_type": "display_data"
    },
    {
     "name": "stdout",
     "output_type": "stream",
     "text": [
      "⚠ cannot fetch https://www.essex.ac.uk/-/media/header-images/subjects/bio-sciences-1200x600/biological-sciences_ptait_20181119_3104-(1).jpg?mh=512&mw=512&hash=279C27AD600E18D8076660770039D257: HTTPSConnectionPool(host='www.essex.ac.uk', port=443): Read timed out. (read timeout=30)\n",
      "[FETCH]... ↓ https://www.essex.ac.uk/courses/UG01377/1/BA-Global-Studies-with-Business-Management                 | ✓ | ⏱: 81.22s\n",
      "[SCRAPE].. ◆ https://www.essex.ac.uk/courses/UG01377/1/BA-Global-Studies-with-Business-Management                 | ✓ | ⏱: 0.22s\n",
      "[COMPLETE] ● https://www.essex.ac.uk/courses/UG01377/1/BA-Global-Studies-with-Business-Management                 | ✓ | ⏱: 81.68s\n"
     ]
    },
    {
     "data": {
      "application/vnd.jupyter.widget-view+json": {
       "model_id": "47b088e71f73403ea227ccc144483c9f",
       "version_major": 2,
       "version_minor": 0
      },
      "text/plain": [
       "images:BA-Global-Studies-with-Business-Management-1:   0%|          | 0/10 [00:00<?, ?it/s]"
      ]
     },
     "metadata": {},
     "output_type": "display_data"
    },
    {
     "name": "stdout",
     "output_type": "stream",
     "text": [
      "[INIT].... → Crawl4AI 0.6.2\n",
      "[INIT].... → Crawl4AI 0.6.2\n",
      "[FETCH]... ↓ https://www.essex.ac.uk/courses/UG00047/1/BA-Business-Management-with-a-Modern-Language              | ✓ | ⏱: 85.61s\n",
      "[SCRAPE].. ◆ https://www.essex.ac.uk/courses/UG00047/1/BA-Business-Management-with-a-Modern-Language              | ✓ | ⏱: 0.42s\n",
      "[COMPLETE] ● https://www.essex.ac.uk/courses/UG00047/1/BA-Business-Management-with-a-Modern-Language              | ✓ | ⏱: 86.29s\n"
     ]
    },
    {
     "data": {
      "application/vnd.jupyter.widget-view+json": {
       "model_id": "5d7509d1ebbc46ca9197f2f22cd61cdb",
       "version_major": 2,
       "version_minor": 0
      },
      "text/plain": [
       "images:BA-Business-Management-with-a-Modern-Language-1:   0%|          | 0/10 [00:00<?, ?it/s]"
      ]
     },
     "metadata": {},
     "output_type": "display_data"
    },
    {
     "name": "stdout",
     "output_type": "stream",
     "text": [
      "[FETCH]... ↓ https://www.essex.ac.uk/courses/UG00216/1/BSc-International-Business-and-Entrepreneurship            | ✓ | ⏱: 56.02s\n",
      "[SCRAPE].. ◆ https://www.essex.ac.uk/courses/UG00216/1/BSc-International-Business-and-Entrepreneurship            | ✓ | ⏱: 0.28s\n",
      "[COMPLETE] ● https://www.essex.ac.uk/courses/UG00216/1/BSc-International-Business-and-Entrepreneurship            | ✓ | ⏱: 56.59s\n"
     ]
    },
    {
     "data": {
      "application/vnd.jupyter.widget-view+json": {
       "model_id": "752a829615164a79bdda9a409ba626dc",
       "version_major": 2,
       "version_minor": 0
      },
      "text/plain": [
       "images:BSc-International-Business-and-Entrepreneurship-1:   0%|          | 0/10 [00:00<?, ?it/s]"
      ]
     },
     "metadata": {},
     "output_type": "display_data"
    },
    {
     "name": "stdout",
     "output_type": "stream",
     "text": [
      "[INIT].... → Crawl4AI 0.6.2\n",
      "[ERROR]... × https://www.essex.ac.uk...G00670/3/MSc-Management  | Error: \n",
      "┌───────────────────────────────────────────────────────────────────────────────────────────────────────────────────────┐\n",
      "│ × Unexpected error in _crawl_web at line 731 in _crawl_web (../../../../../opt/anaconda3/lib/python3.12/site-         │\n",
      "│ packages/crawl4ai/async_crawler_strategy.py):                                                                         │\n",
      "│   Error: Failed on navigating ACS-GOTO:                                                                               │\n",
      "│   Page.goto: Timeout 60000ms exceeded.                                                                                │\n",
      "│   Call log:                                                                                                           │\n",
      "│   - navigating to \"https://www.essex.ac.uk/courses/PG00670/3/MSc-Management\", waiting until \"domcontentloaded\"        │\n",
      "│                                                                                                                       │\n",
      "│                                                                                                                       │\n",
      "│   Code context:                                                                                                       │\n",
      "│   726                       response = await page.goto(                                                               │\n",
      "│   727                           url, wait_until=config.wait_until, timeout=config.page_timeout                        │\n",
      "│   728                       )                                                                                         │\n",
      "│   729                       redirected_url = page.url                                                                 │\n",
      "│   730                   except Error as e:                                                                            │\n",
      "│   731 →                     raise RuntimeError(f\"Failed on navigating ACS-GOTO:\\n{str(e)}\")                           │\n",
      "│   732                                                                                                                 │\n",
      "│   733                   await self.execute_hook(                                                                      │\n",
      "│   734                       \"after_goto\", page, context=context, url=url, response=response, config=config            │\n",
      "│   735                   )                                                                                             │\n",
      "│   736                                                                                                                 │\n",
      "└───────────────────────────────────────────────────────────────────────────────────────────────────────────────────────┘\n",
      "\n",
      "[FETCH]... ↓ https://www.essex.ac.uk/courses/PG00472/4/Master-of-Business-Administration-The-Essex-MBA            | ✓ | ⏱: 82.33s\n",
      "[SCRAPE].. ◆ https://www.essex.ac.uk/courses/PG00472/4/Master-of-Business-Administration-The-Essex-MBA            | ✓ | ⏱: 0.32s\n",
      "[COMPLETE] ● https://www.essex.ac.uk/courses/PG00472/4/Master-of-Business-Administration-The-Essex-MBA            | ✓ | ⏱: 82.97s\n",
      "[FETCH]... ↓ https://www.essex.ac.uk/courses/UG01393/1/BSc-International-Business-and-Finance                     | ✓ | ⏱: 80.24s\n",
      "[SCRAPE].. ◆ https://www.essex.ac.uk/courses/UG01393/1/BSc-International-Business-and-Finance                     | ✓ | ⏱: 0.42s\n",
      "[COMPLETE] ● https://www.essex.ac.uk/courses/UG01393/1/BSc-International-Business-and-Finance                     | ✓ | ⏱: 80.99s\n",
      "[FETCH]... ↓ https://www.essex.ac.uk/courses/PR00939/1/PhD-Management                                             | ✓ | ⏱: 84.18s\n",
      "[SCRAPE].. ◆ https://www.essex.ac.uk/courses/PR00939/1/PhD-Management                                             | ✓ | ⏱: 0.25s\n",
      "[COMPLETE] ● https://www.essex.ac.uk/courses/PR00939/1/PhD-Management                                             | ✓ | ⏱: 84.70s\n",
      "[INIT].... → Crawl4AI 0.6.2\n",
      "⚠️  MSc-Management-3: Unexpected error in _crawl_web at line 731 in _crawl_web (../../../../../opt/anaconda3/lib/python3.12/site-packages/crawl4ai/async_crawler_strategy.py):\n",
      "Error: Failed on navigating ACS-GOTO:\n",
      "Page.goto: Timeout 60000ms exceeded.\n",
      "Call log:\n",
      "  - navigating to \"https://www.essex.ac.uk/courses/PG00670/3/MSc-Management\", waiting until \"domcontentloaded\"\n",
      "\n",
      "\n",
      "Code context:\n",
      " 726                       response = await page.goto(\n",
      " 727                           url, wait_until=config.wait_until, timeout=config.page_timeout\n",
      " 728                       )\n",
      " 729                       redirected_url = page.url\n",
      " 730                   except Error as e:\n",
      " 731 →                     raise RuntimeError(f\"Failed on navigating ACS-GOTO:\\n{str(e)}\")\n",
      " 732   \n",
      " 733                   await self.execute_hook(\n",
      " 734                       \"after_goto\", page, context=context, url=url, response=response, config=config\n",
      " 735                   )\n",
      " 736   \n"
     ]
    },
    {
     "data": {
      "application/vnd.jupyter.widget-view+json": {
       "model_id": "0f82ca0c49214a8bb17d61081147ae7e",
       "version_major": 2,
       "version_minor": 0
      },
      "text/plain": [
       "images:Master-of-Business-Administration-The-Essex-MBA-4:   0%|          | 0/12 [00:00<?, ?it/s]"
      ]
     },
     "metadata": {},
     "output_type": "display_data"
    },
    {
     "data": {
      "application/vnd.jupyter.widget-view+json": {
       "model_id": "a4328abc828b4820b616ac2ef1fffb12",
       "version_major": 2,
       "version_minor": 0
      },
      "text/plain": [
       "images:BSc-International-Business-and-Finance-1:   0%|          | 0/10 [00:00<?, ?it/s]"
      ]
     },
     "metadata": {},
     "output_type": "display_data"
    },
    {
     "data": {
      "application/vnd.jupyter.widget-view+json": {
       "model_id": "0c4d4db5beb3415abe3ad3532fc8d7ac",
       "version_major": 2,
       "version_minor": 0
      },
      "text/plain": [
       "images:PhD-Management-1:   0%|          | 0/10 [00:00<?, ?it/s]"
      ]
     },
     "metadata": {},
     "output_type": "display_data"
    },
    {
     "name": "stdout",
     "output_type": "stream",
     "text": [
      "[INIT].... → Crawl4AI 0.6.2\n",
      "[INIT].... → Crawl4AI 0.6.2\n",
      "[INIT].... → Crawl4AI 0.6.2\n",
      "[INIT].... → Crawl4AI 0.6.2\n",
      "[SCRAPE].. ◆ Some images failed to load within timeout\n",
      "[FETCH]... ↓ https://www.essex.ac.uk/courses/PR00940/6/PhD-Management-Studies                                     | ✓ | ⏱: 47.06s\n",
      "[SCRAPE].. ◆ https://www.essex.ac.uk/courses/PR00940/6/PhD-Management-Studies                                     | ✓ | ⏱: 0.22s\n",
      "[COMPLETE] ● https://www.essex.ac.uk/courses/PR00940/6/PhD-Management-Studies                                     | ✓ | ⏱: 47.55s\n"
     ]
    },
    {
     "data": {
      "application/vnd.jupyter.widget-view+json": {
       "model_id": "c69843b0e3ed423f8d9f6cc0eac2f933",
       "version_major": 2,
       "version_minor": 0
      },
      "text/plain": [
       "images:PhD-Management-Studies-6:   0%|          | 0/10 [00:00<?, ?it/s]"
      ]
     },
     "metadata": {},
     "output_type": "display_data"
    },
    {
     "name": "stdout",
     "output_type": "stream",
     "text": [
      "[FETCH]... ↓ https://www.essex.ac.uk/courses/UG00046/1/BA-Business-Management-and-Modern-Languages                | ✓ | ⏱: 63.67s\n",
      "[SCRAPE].. ◆ https://www.essex.ac.uk/courses/UG00046/1/BA-Business-Management-and-Modern-Languages                | ✓ | ⏱: 0.29s\n",
      "[COMPLETE] ● https://www.essex.ac.uk/courses/UG00046/1/BA-Business-Management-and-Modern-Languages                | ✓ | ⏱: 64.31s\n"
     ]
    },
    {
     "data": {
      "application/vnd.jupyter.widget-view+json": {
       "model_id": "f9c6d153b90c4b5e9016d5aa024476b6",
       "version_major": 2,
       "version_minor": 0
      },
      "text/plain": [
       "images:BA-Business-Management-and-Modern-Languages-1:   0%|          | 0/10 [00:00<?, ?it/s]"
      ]
     },
     "metadata": {},
     "output_type": "display_data"
    },
    {
     "name": "stdout",
     "output_type": "stream",
     "text": [
      "[INIT].... → Crawl4AI 0.6.2\n",
      "[SCRAPE].. ◆ Some images failed to load within timeout\n",
      "[SCRAPE].. ◆ Some images failed to load within timeout\n",
      "[SCRAPE].. ◆ Some images failed to load within timeout\n",
      "[INIT].... → Crawl4AI 0.6.2\n",
      "[SCRAPE].. ◆ Some images failed to load within timeout\n",
      "[FETCH]... ↓ https://www.essex.ac.uk/courses/PG00670/6/MSc-Management                                             | ✓ | ⏱: 52.34s\n",
      "[SCRAPE].. ◆ https://www.essex.ac.uk/courses/PG00670/6/MSc-Management                                             | ✓ | ⏱: 0.33s\n",
      "[COMPLETE] ● https://www.essex.ac.uk/courses/PG00670/6/MSc-Management                                             | ✓ | ⏱: 53.05s\n",
      "[FETCH]... ↓ https://www.essex.ac.uk/courses/PR00903/1/PhD-Entrepreneurship                                       | ✓ | ⏱: 33.89s\n",
      "[SCRAPE].. ◆ https://www.essex.ac.uk/courses/PR00903/1/PhD-Entrepreneurship                                       | ✓ | ⏱: 0.26s\n",
      "[COMPLETE] ● https://www.essex.ac.uk/courses/PR00903/1/PhD-Entrepreneurship                                       | ✓ | ⏱: 34.46s\n"
     ]
    },
    {
     "data": {
      "application/vnd.jupyter.widget-view+json": {
       "model_id": "7f21b9d4fb4841c78479538041c9f2a6",
       "version_major": 2,
       "version_minor": 0
      },
      "text/plain": [
       "images:MSc-Management-6:   0%|          | 0/10 [00:00<?, ?it/s]"
      ]
     },
     "metadata": {},
     "output_type": "display_data"
    },
    {
     "name": "stdout",
     "output_type": "stream",
     "text": [
      "[FETCH]... ↓ https://www.essex.ac.uk/courses/PG01367/1/MSc-Organisational-Change-Management                       | ✓ | ⏱: 53.01s\n",
      "[SCRAPE].. ◆ https://www.essex.ac.uk/courses/PG01367/1/MSc-Organisational-Change-Management                       | ✓ | ⏱: 0.30s\n",
      "[COMPLETE] ● https://www.essex.ac.uk/courses/PG01367/1/MSc-Organisational-Change-Management                       | ✓ | ⏱: 53.68s\n"
     ]
    },
    {
     "data": {
      "application/vnd.jupyter.widget-view+json": {
       "model_id": "3476f6a008a342baade2c89c4abf647d",
       "version_major": 2,
       "version_minor": 0
      },
      "text/plain": [
       "images:PhD-Entrepreneurship-1:   0%|          | 0/10 [00:00<?, ?it/s]"
      ]
     },
     "metadata": {},
     "output_type": "display_data"
    },
    {
     "name": "stdout",
     "output_type": "stream",
     "text": [
      "[FETCH]... ↓ https://www.essex.ac.uk/courses/PG01564/1/MSc-Leadership-in-Health-and-Care                          | ✓ | ⏱: 42.12s\n",
      "[SCRAPE].. ◆ https://www.essex.ac.uk/courses/PG01564/1/MSc-Leadership-in-Health-and-Care                          | ✓ | ⏱: 0.39s\n",
      "[COMPLETE] ● https://www.essex.ac.uk/courses/PG01564/1/MSc-Leadership-in-Health-and-Care                          | ✓ | ⏱: 42.86s\n",
      "[INIT].... → Crawl4AI 0.6.2\n"
     ]
    },
    {
     "data": {
      "application/vnd.jupyter.widget-view+json": {
       "model_id": "002a979ff7d640b38a620aa997c40f67",
       "version_major": 2,
       "version_minor": 0
      },
      "text/plain": [
       "images:MSc-Organisational-Change-Management-1:   0%|          | 0/10 [00:00<?, ?it/s]"
      ]
     },
     "metadata": {},
     "output_type": "display_data"
    },
    {
     "name": "stdout",
     "output_type": "stream",
     "text": [
      "[FETCH]... ↓ https://www.essex.ac.uk/courses/UG01063/1/LLB-Law-with-Business                                      | ✓ | ⏱: 47.44s\n",
      "[SCRAPE].. ◆ https://www.essex.ac.uk/courses/UG01063/1/LLB-Law-with-Business                                      | ✓ | ⏱: 0.37s\n",
      "[COMPLETE] ● https://www.essex.ac.uk/courses/UG01063/1/LLB-Law-with-Business                                      | ✓ | ⏱: 48.14s\n",
      "[INIT].... → Crawl4AI 0.6.2\n"
     ]
    },
    {
     "data": {
      "application/vnd.jupyter.widget-view+json": {
       "model_id": "55f75e94ee04407b9553b084b585339c",
       "version_major": 2,
       "version_minor": 0
      },
      "text/plain": [
       "images:MSc-Leadership-in-Health-and-Care-1:   0%|          | 0/10 [00:00<?, ?it/s]"
      ]
     },
     "metadata": {},
     "output_type": "display_data"
    },
    {
     "name": "stdout",
     "output_type": "stream",
     "text": [
      "[FETCH]... ↓ https://www.essex.ac.uk/courses/UG00256/1/BSc-Marketing-Management                                   | ✓ | ⏱: 53.68s\n",
      "[SCRAPE].. ◆ https://www.essex.ac.uk/courses/UG00256/1/BSc-Marketing-Management                                   | ✓ | ⏱: 0.27s\n",
      "[COMPLETE] ● https://www.essex.ac.uk/courses/UG00256/1/BSc-Marketing-Management                                   | ✓ | ⏱: 54.46s\n",
      "[INIT].... → Crawl4AI 0.6.2\n"
     ]
    },
    {
     "data": {
      "application/vnd.jupyter.widget-view+json": {
       "model_id": "3071406cb1ad436891fc5bb60586c622",
       "version_major": 2,
       "version_minor": 0
      },
      "text/plain": [
       "images:LLB-Law-with-Business-1:   0%|          | 0/10 [00:00<?, ?it/s]"
      ]
     },
     "metadata": {},
     "output_type": "display_data"
    },
    {
     "data": {
      "application/vnd.jupyter.widget-view+json": {
       "model_id": "9a17684c65a944db897717e4f3eea212",
       "version_major": 2,
       "version_minor": 0
      },
      "text/plain": [
       "images:BSc-Marketing-Management-1:   0%|          | 0/10 [00:00<?, ?it/s]"
      ]
     },
     "metadata": {},
     "output_type": "display_data"
    },
    {
     "name": "stdout",
     "output_type": "stream",
     "text": [
      "[INIT].... → Crawl4AI 0.6.2\n",
      "[INIT].... → Crawl4AI 0.6.2\n",
      "[INIT].... → Crawl4AI 0.6.2\n",
      "[FETCH]... ↓ https://www.essex.ac.uk/courses/PG00472/2/Master-of-Business-Administration-The-Essex-MBA            | ✓ | ⏱: 33.38s\n",
      "[SCRAPE].. ◆ https://www.essex.ac.uk/courses/PG00472/2/Master-of-Business-Administration-The-Essex-MBA            | ✓ | ⏱: 0.25s\n",
      "[COMPLETE] ● https://www.essex.ac.uk/courses/PG00472/2/Master-of-Business-Administration-The-Essex-MBA            | ✓ | ⏱: 33.91s\n",
      "[FETCH]... ↓ https://www.essex.ac.uk/courses/PR00875/1/PhD-Business-Administration                                | ✓ | ⏱: 22.01s\n",
      "[SCRAPE].. ◆ https://www.essex.ac.uk/courses/PR00875/1/PhD-Business-Administration                                | ✓ | ⏱: 0.32s\n",
      "[COMPLETE] ● https://www.essex.ac.uk/courses/PR00875/1/PhD-Business-Administration                                | ✓ | ⏱: 22.65s\n"
     ]
    },
    {
     "data": {
      "application/vnd.jupyter.widget-view+json": {
       "model_id": "1adf7ee338fb424495c002883b09deb7",
       "version_major": 2,
       "version_minor": 0
      },
      "text/plain": [
       "images:Master-of-Business-Administration-The-Essex-MBA-2:   0%|          | 0/12 [00:00<?, ?it/s]"
      ]
     },
     "metadata": {},
     "output_type": "display_data"
    },
    {
     "name": "stdout",
     "output_type": "stream",
     "text": [
      "[FETCH]... ↓ https://www.essex.ac.uk/courses/PG00472/1/Master-of-Business-Administration-The-Essex-MBA            | ✓ | ⏱: 24.28s\n",
      "[SCRAPE].. ◆ https://www.essex.ac.uk/courses/PG00472/1/Master-of-Business-Administration-The-Essex-MBA            | ✓ | ⏱: 0.27s\n",
      "[COMPLETE] ● https://www.essex.ac.uk/courses/PG00472/1/Master-of-Business-Administration-The-Essex-MBA            | ✓ | ⏱: 24.98s\n"
     ]
    },
    {
     "data": {
      "application/vnd.jupyter.widget-view+json": {
       "model_id": "dfce719070f24db79c792e9fa2a9c0c9",
       "version_major": 2,
       "version_minor": 0
      },
      "text/plain": [
       "images:PhD-Business-Administration-1:   0%|          | 0/10 [00:00<?, ?it/s]"
      ]
     },
     "metadata": {},
     "output_type": "display_data"
    },
    {
     "name": "stdout",
     "output_type": "stream",
     "text": [
      "[FETCH]... ↓ https://www.essex.ac.uk/courses/UG00043/1/BBA-Business-Administration                                | ✓ | ⏱: 58.19s\n",
      "[SCRAPE].. ◆ https://www.essex.ac.uk/courses/UG00043/1/BBA-Business-Administration                                | ✓ | ⏱: 0.60s\n",
      "[COMPLETE] ● https://www.essex.ac.uk/courses/UG00043/1/BBA-Business-Administration                                | ✓ | ⏱: 59.49s\n",
      "[INIT].... → Crawl4AI 0.6.2\n"
     ]
    },
    {
     "data": {
      "application/vnd.jupyter.widget-view+json": {
       "model_id": "c29fae5961c44e419057a3dd8f5146ee",
       "version_major": 2,
       "version_minor": 0
      },
      "text/plain": [
       "images:Master-of-Business-Administration-The-Essex-MBA-1:   0%|          | 0/12 [00:00<?, ?it/s]"
      ]
     },
     "metadata": {},
     "output_type": "display_data"
    },
    {
     "data": {
      "application/vnd.jupyter.widget-view+json": {
       "model_id": "4aa8427da8674255bb33bd4365f5a3a2",
       "version_major": 2,
       "version_minor": 0
      },
      "text/plain": [
       "images:BBA-Business-Administration-1:   0%|          | 0/10 [00:00<?, ?it/s]"
      ]
     },
     "metadata": {},
     "output_type": "display_data"
    },
    {
     "name": "stdout",
     "output_type": "stream",
     "text": [
      "[INIT].... → Crawl4AI 0.6.2\n",
      "[SCRAPE].. ◆ Some images failed to load within timeout\n",
      "[INIT].... → Crawl4AI 0.6.2\n",
      "[INIT].... → Crawl4AI 0.6.2\n",
      "[SCRAPE].. ◆ Some images failed to load within timeout\n",
      "[FETCH]... ↓ https://www.essex.ac.uk/courses/PG00671/1/MA-Management-and-Organisational-Dynamics                  | ✓ | ⏱: 48.70s\n",
      "[SCRAPE].. ◆ https://www.essex.ac.uk/courses/PG00671/1/MA-Management-and-Organisational-Dynamics                  | ✓ | ⏱: 0.36s\n",
      "[COMPLETE] ● https://www.essex.ac.uk/courses/PG00671/1/MA-Management-and-Organisational-Dynamics                  | ✓ | ⏱: 49.70s\n",
      "[FETCH]... ↓ https://www.essex.ac.uk/courses/PG01101/2/Master-of-Business-Management-MBM                          | ✓ | ⏱: 43.25s\n",
      "[SCRAPE].. ◆ https://www.essex.ac.uk/courses/PG01101/2/Master-of-Business-Management-MBM                          | ✓ | ⏱: 0.48s\n",
      "[COMPLETE] ● https://www.essex.ac.uk/courses/PG01101/2/Master-of-Business-Management-MBM                          | ✓ | ⏱: 44.16s\n",
      "[FETCH]... ↓ https://www.essex.ac.uk/courses/PG01023/1/MSc-Business-Analytics                                     | ✓ | ⏱: 42.44s\n",
      "[SCRAPE].. ◆ https://www.essex.ac.uk/courses/PG01023/1/MSc-Business-Analytics                                     | ✓ | ⏱: 0.31s\n",
      "[COMPLETE] ● https://www.essex.ac.uk/courses/PG01023/1/MSc-Business-Analytics                                     | ✓ | ⏱: 43.10s\n"
     ]
    },
    {
     "data": {
      "application/vnd.jupyter.widget-view+json": {
       "model_id": "bd6caba77ff84244bba6f1dbb98c4cf9",
       "version_major": 2,
       "version_minor": 0
      },
      "text/plain": [
       "images:MA-Management-and-Organisational-Dynamics-1:   0%|          | 0/10 [00:00<?, ?it/s]"
      ]
     },
     "metadata": {},
     "output_type": "display_data"
    },
    {
     "data": {
      "application/vnd.jupyter.widget-view+json": {
       "model_id": "172e6ef528334f4c8bcd9a7a3208d019",
       "version_major": 2,
       "version_minor": 0
      },
      "text/plain": [
       "images:Master-of-Business-Management-MBM-2:   0%|          | 0/10 [00:00<?, ?it/s]"
      ]
     },
     "metadata": {},
     "output_type": "display_data"
    },
    {
     "data": {
      "application/vnd.jupyter.widget-view+json": {
       "model_id": "060b6f6b608044549eabc72ed2abc9a9",
       "version_major": 2,
       "version_minor": 0
      },
      "text/plain": [
       "images:MSc-Business-Analytics-1:   0%|          | 0/10 [00:00<?, ?it/s]"
      ]
     },
     "metadata": {},
     "output_type": "display_data"
    },
    {
     "name": "stdout",
     "output_type": "stream",
     "text": [
      "[INIT].... → Crawl4AI 0.6.2\n",
      "[INIT].... → Crawl4AI 0.6.2\n",
      "[INIT].... → Crawl4AI 0.6.2\n",
      "[SCRAPE].. ◆ Some images failed to load within timeout\n",
      "[SCRAPE].. ◆ Some images failed to load within timeout\n",
      "[SCRAPE].. ◆ Some images failed to load within timeout\n",
      "[SCRAPE].. ◆ Some images failed to load within timeout\n",
      "[FETCH]... ↓ https://www.essex.ac.uk/courses/UG01297/1/BA-Business-Economics                                      | ✓ | ⏱: 66.06s\n",
      "[SCRAPE].. ◆ https://www.essex.ac.uk/courses/UG01297/1/BA-Business-Economics                                      | ✓ | ⏱: 0.43s\n",
      "[COMPLETE] ● https://www.essex.ac.uk/courses/UG01297/1/BA-Business-Economics                                      | ✓ | ⏱: 67.08s\n"
     ]
    },
    {
     "data": {
      "application/vnd.jupyter.widget-view+json": {
       "model_id": "916baacb78ac448ca2dc4fa5811ce940",
       "version_major": 2,
       "version_minor": 0
      },
      "text/plain": [
       "images:BA-Business-Economics-1:   0%|          | 0/10 [00:00<?, ?it/s]"
      ]
     },
     "metadata": {},
     "output_type": "display_data"
    },
    {
     "name": "stdout",
     "output_type": "stream",
     "text": [
      "[INIT].... → Crawl4AI 0.6.2\n",
      "[FETCH]... ↓ https://www.essex.ac.uk/courses/PG00581/1/MSc-Finance-and-Management                                 | ✓ | ⏱: 36.57s\n",
      "[SCRAPE].. ◆ https://www.essex.ac.uk/courses/PG00581/1/MSc-Finance-and-Management                                 | ✓ | ⏱: 0.24s\n",
      "[COMPLETE] ● https://www.essex.ac.uk/courses/PG00581/1/MSc-Finance-and-Management                                 | ✓ | ⏱: 37.12s\n",
      "[FETCH]... ↓ https://www.essex.ac.uk/courses/PG00631/1/MSc-International-Business-and-Entrepreneurship            | ✓ | ⏱: 48.92s\n",
      "[SCRAPE].. ◆ https://www.essex.ac.uk/courses/PG00631/1/MSc-International-Business-and-Entrepreneurship            | ✓ | ⏱: 0.31s\n",
      "[COMPLETE] ● https://www.essex.ac.uk/courses/PG00631/1/MSc-International-Business-and-Entrepreneurship            | ✓ | ⏱: 49.54s\n",
      "[FETCH]... ↓ https://www.essex.ac.uk/courses/PR00940/2/PhD-Management-Studies                                     | ✓ | ⏱: 36.84s\n",
      "[SCRAPE].. ◆ https://www.essex.ac.uk/courses/PR00940/2/PhD-Management-Studies                                     | ✓ | ⏱: 0.26s\n",
      "[COMPLETE] ● https://www.essex.ac.uk/courses/PR00940/2/PhD-Management-Studies                                     | ✓ | ⏱: 37.43s\n",
      "[FETCH]... ↓ https://www.essex.ac.uk/courses/PG00595/1/MSc-Global-Project-Management                              | ✓ | ⏱: 37.08s\n",
      "[SCRAPE].. ◆ https://www.essex.ac.uk/courses/PG00595/1/MSc-Global-Project-Management                              | ✓ | ⏱: 0.29s\n",
      "[COMPLETE] ● https://www.essex.ac.uk/courses/PG00595/1/MSc-Global-Project-Management                              | ✓ | ⏱: 37.69s\n",
      "[FETCH]... ↓ https://www.essex.ac.uk/courses/UG01545/1/BSc-Business-and-Human-Resource-Management                 | ✓ | ⏱: 12.79s\n",
      "[SCRAPE].. ◆ https://www.essex.ac.uk/courses/UG01545/1/BSc-Business-and-Human-Resource-Management                 | ✓ | ⏱: 0.26s\n",
      "[COMPLETE] ● https://www.essex.ac.uk/courses/UG01545/1/BSc-Business-and-Human-Resource-Management                 | ✓ | ⏱: 13.41s\n"
     ]
    },
    {
     "data": {
      "application/vnd.jupyter.widget-view+json": {
       "model_id": "1a4f2612c537456cb746ce466a31409b",
       "version_major": 2,
       "version_minor": 0
      },
      "text/plain": [
       "images:MSc-Finance-and-Management-1:   0%|          | 0/10 [00:00<?, ?it/s]"
      ]
     },
     "metadata": {},
     "output_type": "display_data"
    },
    {
     "data": {
      "application/vnd.jupyter.widget-view+json": {
       "model_id": "72c9718e26f0484c97314d0ab83cdcd4",
       "version_major": 2,
       "version_minor": 0
      },
      "text/plain": [
       "images:MSc-International-Business-and-Entrepreneurship-1:   0%|          | 0/10 [00:00<?, ?it/s]"
      ]
     },
     "metadata": {},
     "output_type": "display_data"
    },
    {
     "data": {
      "application/vnd.jupyter.widget-view+json": {
       "model_id": "f0812b0312c746be93de6a6771c8967f",
       "version_major": 2,
       "version_minor": 0
      },
      "text/plain": [
       "images:PhD-Management-Studies-2:   0%|          | 0/10 [00:00<?, ?it/s]"
      ]
     },
     "metadata": {},
     "output_type": "display_data"
    },
    {
     "data": {
      "application/vnd.jupyter.widget-view+json": {
       "model_id": "444b264c4ebb436cbb5d37a0dd7bfe8f",
       "version_major": 2,
       "version_minor": 0
      },
      "text/plain": [
       "images:MSc-Global-Project-Management-1:   0%|          | 0/10 [00:00<?, ?it/s]"
      ]
     },
     "metadata": {},
     "output_type": "display_data"
    },
    {
     "data": {
      "application/vnd.jupyter.widget-view+json": {
       "model_id": "c500eaa8f0fe424099934cca7803a288",
       "version_major": 2,
       "version_minor": 0
      },
      "text/plain": [
       "images:BSc-Business-and-Human-Resource-Management-1:   0%|          | 0/11 [00:00<?, ?it/s]"
      ]
     },
     "metadata": {},
     "output_type": "display_data"
    },
    {
     "name": "stdout",
     "output_type": "stream",
     "text": [
      "[INIT].... → Crawl4AI 0.6.2\n",
      "[INIT].... → Crawl4AI 0.6.2\n",
      "[INIT].... → Crawl4AI 0.6.2\n",
      "[INIT].... → Crawl4AI 0.6.2\n",
      "[FETCH]... ↓ https://www.essex.ac.uk/courses/PR00939/2/PhD-Management                                             | ✓ | ⏱: 28.53s\n",
      "[SCRAPE].. ◆ https://www.essex.ac.uk/courses/PR00939/2/PhD-Management                                             | ✓ | ⏱: 0.34s\n",
      "[COMPLETE] ● https://www.essex.ac.uk/courses/PR00939/2/PhD-Management                                             | ✓ | ⏱: 29.14s\n",
      "[INIT].... → Crawl4AI 0.6.2\n"
     ]
    },
    {
     "data": {
      "application/vnd.jupyter.widget-view+json": {
       "model_id": "01387b9259d3493798d338613ebd7557",
       "version_major": 2,
       "version_minor": 0
      },
      "text/plain": [
       "images:PhD-Management-2:   0%|          | 0/10 [00:00<?, ?it/s]"
      ]
     },
     "metadata": {},
     "output_type": "display_data"
    },
    {
     "name": "stdout",
     "output_type": "stream",
     "text": [
      "[FETCH]... ↓ https://www.essex.ac.uk/courses/PR00939/5/PhD-Management                                             | ✓ | ⏱: 30.70s\n",
      "[SCRAPE].. ◆ https://www.essex.ac.uk/courses/PR00939/5/PhD-Management                                             | ✓ | ⏱: 0.25s\n",
      "[COMPLETE] ● https://www.essex.ac.uk/courses/PR00939/5/PhD-Management                                             | ✓ | ⏱: 31.24s\n",
      "[FETCH]... ↓ https://www.essex.ac.uk/courses/PG00558/1/MSc-Entrepreneurship-and-Innovation                        | ✓ | ⏱: 22.66s\n",
      "[SCRAPE].. ◆ https://www.essex.ac.uk/courses/PG00558/1/MSc-Entrepreneurship-and-Innovation                        | ✓ | ⏱: 0.28s\n",
      "[COMPLETE] ● https://www.essex.ac.uk/courses/PG00558/1/MSc-Entrepreneurship-and-Innovation                        | ✓ | ⏱: 23.27s\n"
     ]
    },
    {
     "data": {
      "application/vnd.jupyter.widget-view+json": {
       "model_id": "d511d7f7e41d4559bfb5f8665411d226",
       "version_major": 2,
       "version_minor": 0
      },
      "text/plain": [
       "images:PhD-Management-5:   0%|          | 0/10 [00:00<?, ?it/s]"
      ]
     },
     "metadata": {},
     "output_type": "display_data"
    },
    {
     "name": "stdout",
     "output_type": "stream",
     "text": [
      "[INIT].... → Crawl4AI 0.6.2\n"
     ]
    },
    {
     "data": {
      "application/vnd.jupyter.widget-view+json": {
       "model_id": "a04934fe4c004a4a92da73cfec012dde",
       "version_major": 2,
       "version_minor": 0
      },
      "text/plain": [
       "images:MSc-Entrepreneurship-and-Innovation-1:   0%|          | 0/10 [00:00<?, ?it/s]"
      ]
     },
     "metadata": {},
     "output_type": "display_data"
    },
    {
     "name": "stdout",
     "output_type": "stream",
     "text": [
      "[INIT].... → Crawl4AI 0.6.2\n",
      "[INIT].... → Crawl4AI 0.6.2\n",
      "[SCRAPE].. ◆ Some images failed to load within timeout\n",
      "[FETCH]... ↓ https://www.essex.ac.uk/courses/PR00919/1/Professional-Doctorate-Health-Service-Management           | ✓ | ⏱: 15.38s\n",
      "[SCRAPE].. ◆ https://www.essex.ac.uk/courses/PR00919/1/Professional-Doctorate-Health-Service-Management           | ✓ | ⏱: 0.21s\n",
      "[COMPLETE] ● https://www.essex.ac.uk/courses/PR00919/1/Professional-Doctorate-Health-Service-Management           | ✓ | ⏱: 15.92s\n"
     ]
    },
    {
     "data": {
      "application/vnd.jupyter.widget-view+json": {
       "model_id": "d654a6c4550c491584258a8ea054c873",
       "version_major": 2,
       "version_minor": 0
      },
      "text/plain": [
       "images:Professional-Doctorate-Health-Service-Management-1:   0%|          | 0/10 [00:00<?, ?it/s]"
      ]
     },
     "metadata": {},
     "output_type": "display_data"
    },
    {
     "name": "stdout",
     "output_type": "stream",
     "text": [
      "[INIT].... → Crawl4AI 0.6.2\n",
      "[FETCH]... ↓ https://www.essex.ac.uk/courses/PG00671/2/Postgr...e-Diploma-Management-and-Organisational-Dynamics  | ✓ | ⏱: 20.42s\n",
      "[SCRAPE].. ◆ https://www.essex.ac.uk/courses/PG00671/2/Postgr...e-Diploma-Management-and-Organisational-Dynamics  | ✓ | ⏱: 0.24s\n",
      "[COMPLETE] ● https://www.essex.ac.uk/courses/PG00671/2/Postgr...e-Diploma-Management-and-Organisational-Dynamics  | ✓ | ⏱: 21.01s\n",
      "[SCRAPE].. ◆ Some images failed to load within timeout\n",
      "[SCRAPE].. ◆ Some images failed to load within timeout\n",
      "[SCRAPE].. ◆ Some images failed to load within timeout\n"
     ]
    },
    {
     "data": {
      "application/vnd.jupyter.widget-view+json": {
       "model_id": "1d9f12d5c112450394ac04f83c89986c",
       "version_major": 2,
       "version_minor": 0
      },
      "text/plain": [
       "images:Postgraduate-Diploma-Management-and-Organisational-Dynamics-2:   0%|          | 0/10 [00:00<?, ?it/s]"
      ]
     },
     "metadata": {},
     "output_type": "display_data"
    },
    {
     "name": "stdout",
     "output_type": "stream",
     "text": [
      "[SCRAPE].. ◆ Some images failed to load within timeout\n",
      "[INIT].... → Crawl4AI 0.6.2\n",
      "[FETCH]... ↓ https://www.essex.ac.uk/courses/PR00980/1/Professional-Doctorate-Social-Services-Management          | ✓ | ⏱: 41.72s\n",
      "[SCRAPE].. ◆ https://www.essex.ac.uk/courses/PR00980/1/Professional-Doctorate-Social-Services-Management          | ✓ | ⏱: 0.27s\n",
      "[COMPLETE] ● https://www.essex.ac.uk/courses/PR00980/1/Professional-Doctorate-Social-Services-Management          | ✓ | ⏱: 42.37s\n",
      "[FETCH]... ↓ https://www.essex.ac.uk/courses/PR00903/2/PhD-Entrepreneurship                                       | ✓ | ⏱: 29.49s\n",
      "[SCRAPE].. ◆ https://www.essex.ac.uk/courses/PR00903/2/PhD-Entrepreneurship                                       | ✓ | ⏱: 0.29s\n",
      "[COMPLETE] ● https://www.essex.ac.uk/courses/PR00903/2/PhD-Entrepreneurship                                       | ✓ | ⏱: 30.17s\n"
     ]
    },
    {
     "data": {
      "application/vnd.jupyter.widget-view+json": {
       "model_id": "7d73c7bbfcf94ff3b5265dbc3b9c980b",
       "version_major": 2,
       "version_minor": 0
      },
      "text/plain": [
       "images:Professional-Doctorate-Social-Services-Management-1:   0%|          | 0/10 [00:00<?, ?it/s]"
      ]
     },
     "metadata": {},
     "output_type": "display_data"
    },
    {
     "data": {
      "application/vnd.jupyter.widget-view+json": {
       "model_id": "b3f1ad723289405f8a28f6621b8430b6",
       "version_major": 2,
       "version_minor": 0
      },
      "text/plain": [
       "images:PhD-Entrepreneurship-2:   0%|          | 0/10 [00:00<?, ?it/s]"
      ]
     },
     "metadata": {},
     "output_type": "display_data"
    },
    {
     "name": "stdout",
     "output_type": "stream",
     "text": [
      "[FETCH]... ↓ https://www.essex.ac.uk/courses/PR01372/1/PhD-Human-Resource-Management-and-Organisation-Studies     | ✓ | ⏱: 60.01s\n",
      "[SCRAPE].. ◆ https://www.essex.ac.uk/courses/PR01372/1/PhD-Human-Resource-Management-and-Organisation-Studies     | ✓ | ⏱: 0.23s\n",
      "[COMPLETE] ● https://www.essex.ac.uk/courses/PR01372/1/PhD-Human-Resource-Management-and-Organisation-Studies     | ✓ | ⏱: 60.53s\n",
      "[FETCH]... ↓ https://www.essex.ac.uk/courses/UG01504/1/BSc-Business-Administration-and-Supply-Chain-Management    | ✓ | ⏱: 59.32s\n",
      "[SCRAPE].. ◆ https://www.essex.ac.uk/courses/UG01504/1/BSc-Business-Administration-and-Supply-Chain-Management    | ✓ | ⏱: 0.47s\n",
      "[COMPLETE] ● https://www.essex.ac.uk/courses/UG01504/1/BSc-Business-Administration-and-Supply-Chain-Management    | ✓ | ⏱: 60.24s\n",
      "[INIT].... → Crawl4AI 0.6.2\n",
      "[INIT].... → Crawl4AI 0.6.2\n"
     ]
    },
    {
     "data": {
      "application/vnd.jupyter.widget-view+json": {
       "model_id": "98477649f5c14ad98f0aeb1a571ca4f0",
       "version_major": 2,
       "version_minor": 0
      },
      "text/plain": [
       "images:PhD-Human-Resource-Management-and-Organisation-Studies-1:   0%|          | 0/10 [00:00<?, ?it/s]"
      ]
     },
     "metadata": {},
     "output_type": "display_data"
    },
    {
     "data": {
      "application/vnd.jupyter.widget-view+json": {
       "model_id": "6e67690a518449f58ac9bd07d97036f5",
       "version_major": 2,
       "version_minor": 0
      },
      "text/plain": [
       "images:BSc-Business-Administration-and-Supply-Chain-Management-1:   0%|          | 0/10 [00:00<?, ?it/s]"
      ]
     },
     "metadata": {},
     "output_type": "display_data"
    },
    {
     "name": "stdout",
     "output_type": "stream",
     "text": [
      "[INIT].... → Crawl4AI 0.6.2\n",
      "[INIT].... → Crawl4AI 0.6.2\n",
      "[FETCH]... ↓ https://www.essex.ac.uk/courses/UG00256/2/BSc-Marketing-Management                                   | ✓ | ⏱: 69.38s\n",
      "[SCRAPE].. ◆ https://www.essex.ac.uk/courses/UG00256/2/BSc-Marketing-Management                                   | ✓ | ⏱: 0.26s\n",
      "[COMPLETE] ● https://www.essex.ac.uk/courses/UG00256/2/BSc-Marketing-Management                                   | ✓ | ⏱: 70.00s\n",
      "[FETCH]... ↓ https://www.essex.ac.uk/courses/PG01036/1/MSc-Human-Resource-Management                              | ✓ | ⏱: 37.20s\n",
      "[SCRAPE].. ◆ https://www.essex.ac.uk/courses/PG01036/1/MSc-Human-Resource-Management                              | ✓ | ⏱: 0.26s\n",
      "[COMPLETE] ● https://www.essex.ac.uk/courses/PG01036/1/MSc-Human-Resource-Management                              | ✓ | ⏱: 37.75s\n",
      "[FETCH]... ↓ https://www.essex.ac.uk/courses/UG00045/2/BSc-Business-Management                                    | ✓ | ⏱: 71.18s\n",
      "[SCRAPE].. ◆ https://www.essex.ac.uk/courses/UG00045/2/BSc-Business-Management                                    | ✓ | ⏱: 0.39s\n",
      "[COMPLETE] ● https://www.essex.ac.uk/courses/UG00045/2/BSc-Business-Management                                    | ✓ | ⏱: 71.96s\n"
     ]
    },
    {
     "data": {
      "application/vnd.jupyter.widget-view+json": {
       "model_id": "7fe43878458a46758f04530807a0cd6e",
       "version_major": 2,
       "version_minor": 0
      },
      "text/plain": [
       "images:BSc-Marketing-Management-2:   0%|          | 0/10 [00:00<?, ?it/s]"
      ]
     },
     "metadata": {},
     "output_type": "display_data"
    },
    {
     "data": {
      "application/vnd.jupyter.widget-view+json": {
       "model_id": "5a99f16abd1749bb9bc6d361653d3a3a",
       "version_major": 2,
       "version_minor": 0
      },
      "text/plain": [
       "images:MSc-Human-Resource-Management-1:   0%|          | 0/11 [00:00<?, ?it/s]"
      ]
     },
     "metadata": {},
     "output_type": "display_data"
    },
    {
     "data": {
      "application/vnd.jupyter.widget-view+json": {
       "model_id": "ff46b1e9d80d44a688a5c25221d03a5f",
       "version_major": 2,
       "version_minor": 0
      },
      "text/plain": [
       "images:BSc-Business-Management-2:   0%|          | 0/10 [00:00<?, ?it/s]"
      ]
     },
     "metadata": {},
     "output_type": "display_data"
    },
    {
     "name": "stdout",
     "output_type": "stream",
     "text": [
      "[INIT].... → Crawl4AI 0.6.2\n",
      "[INIT].... → Crawl4AI 0.6.2\n",
      "[INIT].... → Crawl4AI 0.6.2\n",
      "[SCRAPE].. ◆ Some images failed to load within timeout\n",
      "[FETCH]... ↓ https://www.essex.ac.uk/courses/PG00670/1/MSc-Management                                             | ✓ | ⏱: 45.17s\n",
      "[SCRAPE].. ◆ https://www.essex.ac.uk/courses/PG00670/1/MSc-Management                                             | ✓ | ⏱: 0.24s\n",
      "[COMPLETE] ● https://www.essex.ac.uk/courses/PG00670/1/MSc-Management                                             | ✓ | ⏱: 45.76s\n",
      "[FETCH]... ↓ https://www.essex.ac.uk/courses/PG00670/2/MSc-Management                                             | ✓ | ⏱: 73.26s\n",
      "[SCRAPE].. ◆ https://www.essex.ac.uk/courses/PG00670/2/MSc-Management                                             | ✓ | ⏱: 0.27s\n",
      "[COMPLETE] ● https://www.essex.ac.uk/courses/PG00670/2/MSc-Management                                             | ✓ | ⏱: 73.88s\n",
      "[FETCH]... ↓ https://www.essex.ac.uk/courses/UG00045/1/BSc-Business-Management                                    | ✓ | ⏱: 53.08s\n",
      "[SCRAPE].. ◆ https://www.essex.ac.uk/courses/UG00045/1/BSc-Business-Management                                    | ✓ | ⏱: 0.37s\n",
      "[COMPLETE] ● https://www.essex.ac.uk/courses/UG00045/1/BSc-Business-Management                                    | ✓ | ⏱: 53.80s\n",
      "[FETCH]... ↓ https://www.essex.ac.uk/courses/UG01601/1/BSc-Business-and-Analytics                                 | ✓ | ⏱: 54.10s\n",
      "[SCRAPE].. ◆ https://www.essex.ac.uk/courses/UG01601/1/BSc-Business-and-Analytics                                 | ✓ | ⏱: 0.32s\n",
      "[COMPLETE] ● https://www.essex.ac.uk/courses/UG01601/1/BSc-Business-and-Analytics                                 | ✓ | ⏱: 54.74s\n"
     ]
    },
    {
     "data": {
      "application/vnd.jupyter.widget-view+json": {
       "model_id": "244cd021e957467c936a9406a2394fee",
       "version_major": 2,
       "version_minor": 0
      },
      "text/plain": [
       "images:MSc-Management-1:   0%|          | 0/10 [00:00<?, ?it/s]"
      ]
     },
     "metadata": {},
     "output_type": "display_data"
    },
    {
     "data": {
      "application/vnd.jupyter.widget-view+json": {
       "model_id": "e43ebb9f3cf947998bae766198744cde",
       "version_major": 2,
       "version_minor": 0
      },
      "text/plain": [
       "images:BSc-Business-Management-1:   0%|          | 0/10 [00:00<?, ?it/s]"
      ]
     },
     "metadata": {},
     "output_type": "display_data"
    },
    {
     "data": {
      "application/vnd.jupyter.widget-view+json": {
       "model_id": "d473cec70ff74afa91949d70ebcb19bd",
       "version_major": 2,
       "version_minor": 0
      },
      "text/plain": [
       "images:MSc-Management-2:   0%|          | 0/10 [00:00<?, ?it/s]"
      ]
     },
     "metadata": {},
     "output_type": "display_data"
    },
    {
     "data": {
      "application/vnd.jupyter.widget-view+json": {
       "model_id": "d4747477d80641e597541437d6efd17a",
       "version_major": 2,
       "version_minor": 0
      },
      "text/plain": [
       "images:BSc-Business-and-Analytics-1:   0%|          | 0/10 [00:00<?, ?it/s]"
      ]
     },
     "metadata": {},
     "output_type": "display_data"
    },
    {
     "name": "stdout",
     "output_type": "stream",
     "text": [
      "[INIT].... → Crawl4AI 0.6.2\n",
      "[INIT].... → Crawl4AI 0.6.2\n",
      "[INIT].... → Crawl4AI 0.6.2\n",
      "[INIT].... → Crawl4AI 0.6.2\n",
      "[FETCH]... ↓ https://www.essex.ac.uk/courses/PG00430/1/MRes-Management-Research                                   | ✓ | ⏱: 29.14s\n",
      "[SCRAPE].. ◆ https://www.essex.ac.uk/courses/PG00430/1/MRes-Management-Research                                   | ✓ | ⏱: 0.30s\n",
      "[COMPLETE] ● https://www.essex.ac.uk/courses/PG00430/1/MRes-Management-Research                                   | ✓ | ⏱: 29.93s\n"
     ]
    },
    {
     "data": {
      "application/vnd.jupyter.widget-view+json": {
       "model_id": "cc78e063bdd94e08a4fdde5fc6624107",
       "version_major": 2,
       "version_minor": 0
      },
      "text/plain": [
       "images:MRes-Management-Research-1:   0%|          | 0/10 [00:00<?, ?it/s]"
      ]
     },
     "metadata": {},
     "output_type": "display_data"
    },
    {
     "name": "stdout",
     "output_type": "stream",
     "text": [
      "[INIT].... → Crawl4AI 0.6.2\n",
      "[FETCH]... ↓ https://www.essex.ac.uk/courses/UG01376/1/BA-Philosophy-with-Business-Management                     | ✓ | ⏱: 81.44s\n",
      "[SCRAPE].. ◆ https://www.essex.ac.uk/courses/UG01376/1/BA-Philosophy-with-Business-Management                     | ✓ | ⏱: 0.33s\n",
      "[COMPLETE] ● https://www.essex.ac.uk/courses/UG01376/1/BA-Philosophy-with-Business-Management                     | ✓ | ⏱: 82.14s\n",
      "[FETCH]... ↓ https://www.essex.ac.uk/courses/PG00472/5/Master-of-Business-Administration-The-Essex-MBA            | ✓ | ⏱: 39.68s\n",
      "[SCRAPE].. ◆ https://www.essex.ac.uk/courses/PG00472/5/Master-of-Business-Administration-The-Essex-MBA            | ✓ | ⏱: 0.19s\n",
      "[COMPLETE] ● https://www.essex.ac.uk/courses/PG00472/5/Master-of-Business-Administration-The-Essex-MBA            | ✓ | ⏱: 40.32s\n",
      "[FETCH]... ↓ https://www.essex.ac.uk/courses/PR01043/1/PhD-Business-Analytics                                     | ✓ | ⏱: 40.84s\n",
      "[SCRAPE].. ◆ https://www.essex.ac.uk/courses/PR01043/1/PhD-Business-Analytics                                     | ✓ | ⏱: 0.30s\n",
      "[COMPLETE] ● https://www.essex.ac.uk/courses/PR01043/1/PhD-Business-Analytics                                     | ✓ | ⏱: 41.49s\n",
      "[FETCH]... ↓ https://www.essex.ac.uk/courses/PG01655/1/MSc-Policing-and-Data-Analytics                            | ✓ | ⏱: 14.93s\n",
      "[SCRAPE].. ◆ https://www.essex.ac.uk/courses/PG01655/1/MSc-Policing-and-Data-Analytics                            | ✓ | ⏱: 0.24s\n",
      "[COMPLETE] ● https://www.essex.ac.uk/courses/PG01655/1/MSc-Policing-and-Data-Analytics                            | ✓ | ⏱: 15.55s\n"
     ]
    },
    {
     "data": {
      "application/vnd.jupyter.widget-view+json": {
       "model_id": "283059219a14478bb4b70b4bc8b7add1",
       "version_major": 2,
       "version_minor": 0
      },
      "text/plain": [
       "images:BA-Philosophy-with-Business-Management-1:   0%|          | 0/10 [00:00<?, ?it/s]"
      ]
     },
     "metadata": {},
     "output_type": "display_data"
    },
    {
     "name": "stdout",
     "output_type": "stream",
     "text": [
      "[FETCH]... ↓ https://www.essex.ac.uk/courses/UG01392/1/Integrated-Master-in-Management-Marketing-Management       | ✓ | ⏱: 34.89s\n",
      "[SCRAPE].. ◆ https://www.essex.ac.uk/courses/UG01392/1/Integrated-Master-in-Management-Marketing-Management       | ✓ | ⏱: 0.25s\n",
      "[COMPLETE] ● https://www.essex.ac.uk/courses/UG01392/1/Integrated-Master-in-Management-Marketing-Management       | ✓ | ⏱: 35.41s\n"
     ]
    },
    {
     "data": {
      "application/vnd.jupyter.widget-view+json": {
       "model_id": "d00a93d9911340c9beb662b830d228dc",
       "version_major": 2,
       "version_minor": 0
      },
      "text/plain": [
       "images:Master-of-Business-Administration-The-Essex-MBA-5:   0%|          | 0/12 [00:00<?, ?it/s]"
      ]
     },
     "metadata": {},
     "output_type": "display_data"
    },
    {
     "data": {
      "application/vnd.jupyter.widget-view+json": {
       "model_id": "a09dc4965b6440a9897983cff7c47e4e",
       "version_major": 2,
       "version_minor": 0
      },
      "text/plain": [
       "images:PhD-Business-Analytics-1:   0%|          | 0/10 [00:00<?, ?it/s]"
      ]
     },
     "metadata": {},
     "output_type": "display_data"
    },
    {
     "data": {
      "application/vnd.jupyter.widget-view+json": {
       "model_id": "7b9c3ed18d084cd49bae7a0a4fbebb59",
       "version_major": 2,
       "version_minor": 0
      },
      "text/plain": [
       "images:MSc-Policing-and-Data-Analytics-1:   0%|          | 0/10 [00:00<?, ?it/s]"
      ]
     },
     "metadata": {},
     "output_type": "display_data"
    },
    {
     "name": "stdout",
     "output_type": "stream",
     "text": [
      "[INIT].... → Crawl4AI 0.6.2\n",
      "[INIT].... → Crawl4AI 0.6.2\n"
     ]
    },
    {
     "data": {
      "application/vnd.jupyter.widget-view+json": {
       "model_id": "6181a36fdfbd4e96aa669fd2b9ebbc5f",
       "version_major": 2,
       "version_minor": 0
      },
      "text/plain": [
       "images:Integrated-Master-in-Management-Marketing-Management-1:   0%|          | 0/10 [00:00<?, ?it/s]"
      ]
     },
     "metadata": {},
     "output_type": "display_data"
    },
    {
     "name": "stdout",
     "output_type": "stream",
     "text": [
      "[INIT].... → Crawl4AI 0.6.2\n",
      "[INIT].... → Crawl4AI 0.6.2\n",
      "[SCRAPE].. ◆ Some images failed to load within timeout\n",
      "[SCRAPE].. ◆ Some images failed to load within timeout\n",
      "[INIT].... → Crawl4AI 0.6.2\n",
      "[FETCH]... ↓ https://www.essex.ac.uk/courses/PR00875/2/PhD-Business-Administration                                | ✓ | ⏱: 52.28s\n",
      "[SCRAPE].. ◆ https://www.essex.ac.uk/courses/PR00875/2/PhD-Business-Administration                                | ✓ | ⏱: 0.30s\n",
      "[COMPLETE] ● https://www.essex.ac.uk/courses/PR00875/2/PhD-Business-Administration                                | ✓ | ⏱: 53.07s\n",
      "[FETCH]... ↓ https://www.essex.ac.uk/courses/PG01654/1/MA-Policing                                                | ✓ | ⏱: 41.84s\n",
      "[SCRAPE].. ◆ https://www.essex.ac.uk/courses/PG01654/1/MA-Policing                                                | ✓ | ⏱: 0.36s\n",
      "[COMPLETE] ● https://www.essex.ac.uk/courses/PG01654/1/MA-Policing                                                | ✓ | ⏱: 42.64s\n"
     ]
    },
    {
     "data": {
      "application/vnd.jupyter.widget-view+json": {
       "model_id": "96af0003e0a84319bc95330d906feb6e",
       "version_major": 2,
       "version_minor": 0
      },
      "text/plain": [
       "images:PhD-Business-Administration-2:   0%|          | 0/10 [00:00<?, ?it/s]"
      ]
     },
     "metadata": {},
     "output_type": "display_data"
    },
    {
     "name": "stdout",
     "output_type": "stream",
     "text": [
      "[FETCH]... ↓ https://www.essex.ac.uk/courses/PG01102/1/MSc-International-Logistics-and-Supply-Chain-Management    | ✓ | ⏱: 57.76s\n",
      "[SCRAPE].. ◆ https://www.essex.ac.uk/courses/PG01102/1/MSc-International-Logistics-and-Supply-Chain-Management    | ✓ | ⏱: 0.26s\n",
      "[COMPLETE] ● https://www.essex.ac.uk/courses/PG01102/1/MSc-International-Logistics-and-Supply-Chain-Management    | ✓ | ⏱: 58.53s\n"
     ]
    },
    {
     "data": {
      "application/vnd.jupyter.widget-view+json": {
       "model_id": "7d5ff4014bb64ac9878adae91ff064f6",
       "version_major": 2,
       "version_minor": 0
      },
      "text/plain": [
       "images:MA-Policing-1:   0%|          | 0/10 [00:00<?, ?it/s]"
      ]
     },
     "metadata": {},
     "output_type": "display_data"
    },
    {
     "data": {
      "application/vnd.jupyter.widget-view+json": {
       "model_id": "49ebb226e09540d182655c92d583653f",
       "version_major": 2,
       "version_minor": 0
      },
      "text/plain": [
       "images:MSc-International-Logistics-and-Supply-Chain-Management-1:   0%|          | 0/10 [00:00<?, ?it/s]"
      ]
     },
     "metadata": {},
     "output_type": "display_data"
    },
    {
     "name": "stdout",
     "output_type": "stream",
     "text": [
      "[INIT].... → Crawl4AI 0.6.2\n",
      "[INIT].... → Crawl4AI 0.6.2\n",
      "[INIT].... → Crawl4AI 0.6.2\n",
      "[FETCH]... ↓ https://www.essex.ac.uk/courses/UG01121/1/BA-Childhood-Studies                                       | ✓ | ⏱: 27.99s\n",
      "[SCRAPE].. ◆ https://www.essex.ac.uk/courses/UG01121/1/BA-Childhood-Studies                                       | ✓ | ⏱: 0.26s\n",
      "[COMPLETE] ● https://www.essex.ac.uk/courses/UG01121/1/BA-Childhood-Studies                                       | ✓ | ⏱: 28.65s\n"
     ]
    },
    {
     "data": {
      "application/vnd.jupyter.widget-view+json": {
       "model_id": "a3df97ef935a4bcbb6822dbb2de4b7aa",
       "version_major": 2,
       "version_minor": 0
      },
      "text/plain": [
       "images:BA-Childhood-Studies-1:   0%|          | 0/10 [00:00<?, ?it/s]"
      ]
     },
     "metadata": {},
     "output_type": "display_data"
    },
    {
     "name": "stdout",
     "output_type": "stream",
     "text": [
      "[FETCH]... ↓ https://www.essex.ac.uk/courses/PR01388/1/PhD-Childhood-Studies                                      | ✓ | ⏱: 33.17s\n",
      "[SCRAPE].. ◆ https://www.essex.ac.uk/courses/PR01388/1/PhD-Childhood-Studies                                      | ✓ | ⏱: 0.38s\n",
      "[COMPLETE] ● https://www.essex.ac.uk/courses/PR01388/1/PhD-Childhood-Studies                                      | ✓ | ⏱: 34.07s\n",
      "[FETCH]... ↓ https://www.essex.ac.uk/courses/UG01121/2/BA-Childhood-Studies                                       | ✓ | ⏱: 39.93s\n",
      "[SCRAPE].. ◆ https://www.essex.ac.uk/courses/UG01121/2/BA-Childhood-Studies                                       | ✓ | ⏱: 0.31s\n",
      "[COMPLETE] ● https://www.essex.ac.uk/courses/UG01121/2/BA-Childhood-Studies                                       | ✓ | ⏱: 40.73s\n",
      "[FETCH]... ↓ https://www.essex.ac.uk/courses/PG01407/1/MA-Childhood-Studies                                       | ✓ | ⏱: 41.22s\n",
      "[SCRAPE].. ◆ https://www.essex.ac.uk/courses/PG01407/1/MA-Childhood-Studies                                       | ✓ | ⏱: 0.27s\n",
      "[COMPLETE] ● https://www.essex.ac.uk/courses/PG01407/1/MA-Childhood-Studies                                       | ✓ | ⏱: 42.02s\n"
     ]
    },
    {
     "data": {
      "application/vnd.jupyter.widget-view+json": {
       "model_id": "91d5b3c0160f4d03a1051fc8378f4eef",
       "version_major": 2,
       "version_minor": 0
      },
      "text/plain": [
       "images:PhD-Childhood-Studies-1:   0%|          | 0/9 [00:00<?, ?it/s]"
      ]
     },
     "metadata": {},
     "output_type": "display_data"
    },
    {
     "name": "stdout",
     "output_type": "stream",
     "text": [
      "[INIT].... → Crawl4AI 0.6.2\n"
     ]
    },
    {
     "data": {
      "application/vnd.jupyter.widget-view+json": {
       "model_id": "015675ac29624ac4b3b6975c0cf34716",
       "version_major": 2,
       "version_minor": 0
      },
      "text/plain": [
       "images:BA-Childhood-Studies-2:   0%|          | 0/10 [00:00<?, ?it/s]"
      ]
     },
     "metadata": {},
     "output_type": "display_data"
    },
    {
     "data": {
      "application/vnd.jupyter.widget-view+json": {
       "model_id": "07d55566f6164b50a3c7bb4e12862b5e",
       "version_major": 2,
       "version_minor": 0
      },
      "text/plain": [
       "images:MA-Childhood-Studies-1:   0%|          | 0/10 [00:00<?, ?it/s]"
      ]
     },
     "metadata": {},
     "output_type": "display_data"
    },
    {
     "name": "stdout",
     "output_type": "stream",
     "text": [
      "[INIT].... → Crawl4AI 0.6.2\n",
      "[FETCH]... ↓ https://www.essex.ac.uk/courses/PG00605/1/MSc-Artificial-Intelligence-in-Finance                     | ✓ | ⏱: 45.74s\n",
      "[SCRAPE].. ◆ https://www.essex.ac.uk/courses/PG00605/1/MSc-Artificial-Intelligence-in-Finance                     | ✓ | ⏱: 0.23s\n",
      "[COMPLETE] ● https://www.essex.ac.uk/courses/PG00605/1/MSc-Artificial-Intelligence-in-Finance                     | ✓ | ⏱: 46.29s\n",
      "[INIT].... → Crawl4AI 0.6.2\n",
      "[INIT].... → Crawl4AI 0.6.2\n"
     ]
    },
    {
     "data": {
      "application/vnd.jupyter.widget-view+json": {
       "model_id": "d0665d92c8044401b3487fa7fe73f33e",
       "version_major": 2,
       "version_minor": 0
      },
      "text/plain": [
       "images:MSc-Artificial-Intelligence-in-Finance-1:   0%|          | 0/10 [00:00<?, ?it/s]"
      ]
     },
     "metadata": {},
     "output_type": "display_data"
    },
    {
     "name": "stdout",
     "output_type": "stream",
     "text": [
      "[FETCH]... ↓ https://www.essex.ac.uk/courses/PR00884/3/MSc-by-Dissertation-Computational-Finance                  | ✓ | ⏱: 29.08s\n",
      "[SCRAPE].. ◆ https://www.essex.ac.uk/courses/PR00884/3/MSc-by-Dissertation-Computational-Finance                  | ✓ | ⏱: 0.48s\n",
      "[COMPLETE] ● https://www.essex.ac.uk/courses/PR00884/3/MSc-by-Dissertation-Computational-Finance                  | ✓ | ⏱: 30.05s\n"
     ]
    },
    {
     "data": {
      "application/vnd.jupyter.widget-view+json": {
       "model_id": "438e8cbc815f48cf8385666d89c6cd22",
       "version_major": 2,
       "version_minor": 0
      },
      "text/plain": [
       "images:MSc-by-Dissertation-Computational-Finance-3:   0%|          | 0/10 [00:00<?, ?it/s]"
      ]
     },
     "metadata": {},
     "output_type": "display_data"
    },
    {
     "name": "stdout",
     "output_type": "stream",
     "text": [
      "[INIT].... → Crawl4AI 0.6.2\n",
      "[INIT].... → Crawl4AI 0.6.2\n",
      "[SCRAPE].. ◆ Some images failed to load within timeout\n",
      "[FETCH]... ↓ https://www.essex.ac.uk/courses/PG00496/1/MSc-Computational-Finance                                  | ✓ | ⏱: 35.44s\n",
      "[SCRAPE].. ◆ https://www.essex.ac.uk/courses/PG00496/1/MSc-Computational-Finance                                  | ✓ | ⏱: 0.36s\n",
      "[COMPLETE] ● https://www.essex.ac.uk/courses/PG00496/1/MSc-Computational-Finance                                  | ✓ | ⏱: 36.31s\n",
      "[FETCH]... ↓ https://www.essex.ac.uk/courses/PR00884/1/PhD-Computational-Finance                                  | ✓ | ⏱: 34.53s\n",
      "[SCRAPE].. ◆ https://www.essex.ac.uk/courses/PR00884/1/PhD-Computational-Finance                                  | ✓ | ⏱: 0.25s\n",
      "[COMPLETE] ● https://www.essex.ac.uk/courses/PR00884/1/PhD-Computational-Finance                                  | ✓ | ⏱: 35.31s\n"
     ]
    },
    {
     "data": {
      "application/vnd.jupyter.widget-view+json": {
       "model_id": "05cd365e6afc4483abaa03a05ecd1d6f",
       "version_major": 2,
       "version_minor": 0
      },
      "text/plain": [
       "images:MSc-Computational-Finance-1:   0%|          | 0/10 [00:00<?, ?it/s]"
      ]
     },
     "metadata": {},
     "output_type": "display_data"
    },
    {
     "data": {
      "application/vnd.jupyter.widget-view+json": {
       "model_id": "5137139ced7141e1aa7d13acec5a4cc3",
       "version_major": 2,
       "version_minor": 0
      },
      "text/plain": [
       "images:PhD-Computational-Finance-1:   0%|          | 0/10 [00:00<?, ?it/s]"
      ]
     },
     "metadata": {},
     "output_type": "display_data"
    },
    {
     "name": "stdout",
     "output_type": "stream",
     "text": [
      "[FETCH]... ↓ https://www.essex.ac.uk/courses/PG01382/1/MSc-Financial-Technology-Computer-Science                  | ✓ | ⏱: 34.66s\n",
      "[SCRAPE].. ◆ https://www.essex.ac.uk/courses/PG01382/1/MSc-Financial-Technology-Computer-Science                  | ✓ | ⏱: 0.41s\n",
      "[COMPLETE] ● https://www.essex.ac.uk/courses/PG01382/1/MSc-Financial-Technology-Computer-Science                  | ✓ | ⏱: 35.56s\n",
      "[INIT].... → Crawl4AI 0.6.2\n"
     ]
    },
    {
     "data": {
      "application/vnd.jupyter.widget-view+json": {
       "model_id": "374f34afa81b4c6b97c63438f5419a96",
       "version_major": 2,
       "version_minor": 0
      },
      "text/plain": [
       "images:MSc-Financial-Technology-Computer-Science-1:   0%|          | 0/10 [00:00<?, ?it/s]"
      ]
     },
     "metadata": {},
     "output_type": "display_data"
    },
    {
     "name": "stdout",
     "output_type": "stream",
     "text": [
      "[INIT].... → Crawl4AI 0.6.2\n",
      "[FETCH]... ↓ https://www.essex.ac.uk/courses/PR00884/2/MPhil-Computational-Finance                                | ✓ | ⏱: 33.98s\n",
      "[SCRAPE].. ◆ https://www.essex.ac.uk/courses/PR00884/2/MPhil-Computational-Finance                                | ✓ | ⏱: 0.37s\n",
      "[COMPLETE] ● https://www.essex.ac.uk/courses/PR00884/2/MPhil-Computational-Finance                                | ✓ | ⏱: 34.68s\n"
     ]
    },
    {
     "data": {
      "application/vnd.jupyter.widget-view+json": {
       "model_id": "d5cbd412549c46c0833d020b8219a10c",
       "version_major": 2,
       "version_minor": 0
      },
      "text/plain": [
       "images:MPhil-Computational-Finance-2:   0%|          | 0/10 [00:00<?, ?it/s]"
      ]
     },
     "metadata": {},
     "output_type": "display_data"
    },
    {
     "name": "stdout",
     "output_type": "stream",
     "text": [
      "[INIT].... → Crawl4AI 0.6.2\n",
      "[FETCH]... ↓ https://www.essex.ac.uk/courses/PG00627/1/MSc-Intelligent-Systems-and-Robotics                       | ✓ | ⏱: 36.54s\n",
      "[SCRAPE].. ◆ https://www.essex.ac.uk/courses/PG00627/1/MSc-Intelligent-Systems-and-Robotics                       | ✓ | ⏱: 0.23s\n",
      "[COMPLETE] ● https://www.essex.ac.uk/courses/PG00627/1/MSc-Intelligent-Systems-and-Robotics                       | ✓ | ⏱: 37.10s\n",
      "[FETCH]... ↓ https://www.essex.ac.uk/courses/PR00888/3/MSc-by-Dissertation-Computing-and-Electronic-Systems       | ✓ | ⏱: 37.90s\n",
      "[SCRAPE].. ◆ https://www.essex.ac.uk/courses/PR00888/3/MSc-by-Dissertation-Computing-and-Electronic-Systems       | ✓ | ⏱: 0.23s\n",
      "[COMPLETE] ● https://www.essex.ac.uk/courses/PR00888/3/MSc-by-Dissertation-Computing-and-Electronic-Systems       | ✓ | ⏱: 38.47s\n"
     ]
    },
    {
     "data": {
      "application/vnd.jupyter.widget-view+json": {
       "model_id": "5596240dee21447f9f9bbee6a3249e38",
       "version_major": 2,
       "version_minor": 0
      },
      "text/plain": [
       "images:MSc-Intelligent-Systems-and-Robotics-1:   0%|          | 0/10 [00:00<?, ?it/s]"
      ]
     },
     "metadata": {},
     "output_type": "display_data"
    },
    {
     "name": "stdout",
     "output_type": "stream",
     "text": [
      "[INIT].... → Crawl4AI 0.6.2\n"
     ]
    },
    {
     "data": {
      "application/vnd.jupyter.widget-view+json": {
       "model_id": "c453d46bf4174d99a1b205a444ecd75f",
       "version_major": 2,
       "version_minor": 0
      },
      "text/plain": [
       "images:MSc-by-Dissertation-Computing-and-Electronic-Systems-3:   0%|          | 0/10 [00:00<?, ?it/s]"
      ]
     },
     "metadata": {},
     "output_type": "display_data"
    },
    {
     "name": "stdout",
     "output_type": "stream",
     "text": [
      "[FETCH]... ↓ https://www.essex.ac.uk/courses/UG00282/1/BSc-Mathematics-with-Computing                             | ✓ | ⏱: 33.29s\n",
      "[SCRAPE].. ◆ https://www.essex.ac.uk/courses/UG00282/1/BSc-Mathematics-with-Computing                             | ✓ | ⏱: 0.46s\n",
      "[COMPLETE] ● https://www.essex.ac.uk/courses/UG00282/1/BSc-Mathematics-with-Computing                             | ✓ | ⏱: 34.35s\n",
      "[INIT].... → Crawl4AI 0.6.2\n"
     ]
    },
    {
     "data": {
      "application/vnd.jupyter.widget-view+json": {
       "model_id": "265d19f389a74bfeadcb572e56a2abc0",
       "version_major": 2,
       "version_minor": 0
      },
      "text/plain": [
       "images:BSc-Mathematics-with-Computing-1:   0%|          | 0/10 [00:00<?, ?it/s]"
      ]
     },
     "metadata": {},
     "output_type": "display_data"
    },
    {
     "name": "stdout",
     "output_type": "stream",
     "text": [
      "[INIT].... → Crawl4AI 0.6.2\n",
      "[INIT].... → Crawl4AI 0.6.2\n",
      "[SCRAPE].. ◆ Some images failed to load within timeout\n",
      "[FETCH]... ↓ https://www.essex.ac.uk/courses/UG01061/1/BEng-Robotic-Engineering                                   | ✓ | ⏱: 12.94s\n",
      "[SCRAPE].. ◆ https://www.essex.ac.uk/courses/UG01061/1/BEng-Robotic-Engineering                                   | ✓ | ⏱: 0.27s\n",
      "[COMPLETE] ● https://www.essex.ac.uk/courses/UG01061/1/BEng-Robotic-Engineering                                   | ✓ | ⏱: 13.63s\n",
      "[FETCH]... ↓ https://www.essex.ac.uk/courses/PG00500/1/MSc-Computer-Engineering                                   | ✓ | ⏱: 27.75s\n",
      "[SCRAPE].. ◆ https://www.essex.ac.uk/courses/PG00500/1/MSc-Computer-Engineering                                   | ✓ | ⏱: 0.29s\n",
      "[COMPLETE] ● https://www.essex.ac.uk/courses/PG00500/1/MSc-Computer-Engineering                                   | ✓ | ⏱: 28.45s\n"
     ]
    },
    {
     "data": {
      "application/vnd.jupyter.widget-view+json": {
       "model_id": "828649794be54e1d8fa739471e867180",
       "version_major": 2,
       "version_minor": 0
      },
      "text/plain": [
       "images:BEng-Robotic-Engineering-1:   0%|          | 0/10 [00:00<?, ?it/s]"
      ]
     },
     "metadata": {},
     "output_type": "display_data"
    },
    {
     "name": "stdout",
     "output_type": "stream",
     "text": [
      "[FETCH]... ↓ https://www.essex.ac.uk/courses/PG01033/1/MSc-Computer-Games                                         | ✓ | ⏱: 24.52s\n",
      "[SCRAPE].. ◆ https://www.essex.ac.uk/courses/PG01033/1/MSc-Computer-Games                                         | ✓ | ⏱: 0.30s\n",
      "[COMPLETE] ● https://www.essex.ac.uk/courses/PG01033/1/MSc-Computer-Games                                         | ✓ | ⏱: 25.34s\n"
     ]
    },
    {
     "data": {
      "application/vnd.jupyter.widget-view+json": {
       "model_id": "27b329dfa71948cdb696e55502743466",
       "version_major": 2,
       "version_minor": 0
      },
      "text/plain": [
       "images:MSc-Computer-Engineering-1:   0%|          | 0/10 [00:00<?, ?it/s]"
      ]
     },
     "metadata": {},
     "output_type": "display_data"
    },
    {
     "data": {
      "application/vnd.jupyter.widget-view+json": {
       "model_id": "7e4f473705db4c41b79e1d403efbe965",
       "version_major": 2,
       "version_minor": 0
      },
      "text/plain": [
       "images:MSc-Computer-Games-1:   0%|          | 0/10 [00:00<?, ?it/s]"
      ]
     },
     "metadata": {},
     "output_type": "display_data"
    },
    {
     "name": "stdout",
     "output_type": "stream",
     "text": [
      "[INIT].... → Crawl4AI 0.6.2\n",
      "[INIT].... → Crawl4AI 0.6.2\n",
      "[INIT].... → Crawl4AI 0.6.2\n",
      "[FETCH]... ↓ https://www.essex.ac.uk/courses/UG00066/1/BSc-Computer-Games                                         | ✓ | ⏱: 37.23s\n",
      "[SCRAPE].. ◆ https://www.essex.ac.uk/courses/UG00066/1/BSc-Computer-Games                                         | ✓ | ⏱: 0.29s\n",
      "[COMPLETE] ● https://www.essex.ac.uk/courses/UG00066/1/BSc-Computer-Games                                         | ✓ | ⏱: 38.10s\n",
      "[FETCH]... ↓ https://www.essex.ac.uk/courses/PR00887/1/PhD-Computer-Science                                       | ✓ | ⏱: 59.71s\n",
      "[SCRAPE].. ◆ https://www.essex.ac.uk/courses/PR00887/1/PhD-Computer-Science                                       | ✓ | ⏱: 0.38s\n",
      "[COMPLETE] ● https://www.essex.ac.uk/courses/PR00887/1/PhD-Computer-Science                                       | ✓ | ⏱: 60.56s\n"
     ]
    },
    {
     "data": {
      "application/vnd.jupyter.widget-view+json": {
       "model_id": "8ab420c2f83c475aac9842a486a3896b",
       "version_major": 2,
       "version_minor": 0
      },
      "text/plain": [
       "images:BSc-Computer-Games-1:   0%|          | 0/10 [00:00<?, ?it/s]"
      ]
     },
     "metadata": {},
     "output_type": "display_data"
    },
    {
     "data": {
      "application/vnd.jupyter.widget-view+json": {
       "model_id": "87ec6028598444d2b0386d64a84ea1d2",
       "version_major": 2,
       "version_minor": 0
      },
      "text/plain": [
       "images:PhD-Computer-Science-1:   0%|          | 0/10 [00:00<?, ?it/s]"
      ]
     },
     "metadata": {},
     "output_type": "display_data"
    },
    {
     "name": "stdout",
     "output_type": "stream",
     "text": [
      "[INIT].... → Crawl4AI 0.6.2\n",
      "[SCRAPE].. ◆ Some images failed to load within timeout\n",
      "[INIT].... → Crawl4AI 0.6.2\n",
      "[FETCH]... ↓ https://www.essex.ac.uk/courses/PR00888/1/PhD-Computing-and-Electronic-Systems                       | ✓ | ⏱: 45.26s\n",
      "[SCRAPE].. ◆ https://www.essex.ac.uk/courses/PR00888/1/PhD-Computing-and-Electronic-Systems                       | ✓ | ⏱: 0.21s\n",
      "[COMPLETE] ● https://www.essex.ac.uk/courses/PR00888/1/PhD-Computing-and-Electronic-Systems                       | ✓ | ⏱: 45.86s\n",
      "[FETCH]... ↓ https://www.essex.ac.uk/courses/PR00887/5/PhD-Computer-Science                                       | ✓ | ⏱: 39.81s\n",
      "[SCRAPE].. ◆ https://www.essex.ac.uk/courses/PR00887/5/PhD-Computer-Science                                       | ✓ | ⏱: 0.30s\n",
      "[COMPLETE] ● https://www.essex.ac.uk/courses/PR00887/5/PhD-Computer-Science                                       | ✓ | ⏱: 40.60s\n",
      "[FETCH]... ↓ https://www.essex.ac.uk/courses/UG01385/3/BSc-Computational-Linguistics                              | ✓ | ⏱: 39.61s\n",
      "[SCRAPE].. ◆ https://www.essex.ac.uk/courses/UG01385/3/BSc-Computational-Linguistics                              | ✓ | ⏱: 0.36s\n",
      "[COMPLETE] ● https://www.essex.ac.uk/courses/UG01385/3/BSc-Computational-Linguistics                              | ✓ | ⏱: 40.42s\n"
     ]
    },
    {
     "data": {
      "application/vnd.jupyter.widget-view+json": {
       "model_id": "a98e4ca625734c87bd55fefc32fc8654",
       "version_major": 2,
       "version_minor": 0
      },
      "text/plain": [
       "images:PhD-Computing-and-Electronic-Systems-1:   0%|          | 0/10 [00:00<?, ?it/s]"
      ]
     },
     "metadata": {},
     "output_type": "display_data"
    },
    {
     "data": {
      "application/vnd.jupyter.widget-view+json": {
       "model_id": "7edf65a349dc4e6fa61ffe62d4e3c3c8",
       "version_major": 2,
       "version_minor": 0
      },
      "text/plain": [
       "images:PhD-Computer-Science-5:   0%|          | 0/10 [00:00<?, ?it/s]"
      ]
     },
     "metadata": {},
     "output_type": "display_data"
    },
    {
     "data": {
      "application/vnd.jupyter.widget-view+json": {
       "model_id": "d883bb921aed42d1a72c34b5645aea45",
       "version_major": 2,
       "version_minor": 0
      },
      "text/plain": [
       "images:BSc-Computational-Linguistics-3:   0%|          | 0/10 [00:00<?, ?it/s]"
      ]
     },
     "metadata": {},
     "output_type": "display_data"
    },
    {
     "name": "stdout",
     "output_type": "stream",
     "text": [
      "[FETCH]... ↓ https://www.essex.ac.uk/courses/UG00069/1/BSc-Computer-Science                                       | ✓ | ⏱: 37.55s\n",
      "[SCRAPE].. ◆ https://www.essex.ac.uk/courses/UG00069/1/BSc-Computer-Science                                       | ✓ | ⏱: 0.26s\n",
      "[COMPLETE] ● https://www.essex.ac.uk/courses/UG00069/1/BSc-Computer-Science                                       | ✓ | ⏱: 38.29s\n",
      "[SCRAPE].. ◆ Some images failed to load within timeout\n",
      "[INIT].... → Crawl4AI 0.6.2\n"
     ]
    },
    {
     "data": {
      "application/vnd.jupyter.widget-view+json": {
       "model_id": "7d3bb6793e424573aa518f05f2104d8c",
       "version_major": 2,
       "version_minor": 0
      },
      "text/plain": [
       "images:BSc-Computer-Science-1:   0%|          | 0/10 [00:00<?, ?it/s]"
      ]
     },
     "metadata": {},
     "output_type": "display_data"
    },
    {
     "name": "stdout",
     "output_type": "stream",
     "text": [
      "[SCRAPE].. ◆ Some images failed to load within timeout\n",
      "[INIT].... → Crawl4AI 0.6.2\n",
      "[INIT].... → Crawl4AI 0.6.2\n",
      "[SCRAPE].. ◆ Some images failed to load within timeout\n",
      "[INIT].... → Crawl4AI 0.6.2\n",
      "[FETCH]... ↓ https://www.essex.ac.uk/courses/PG01630/1/MSc-Cyber-Security                                         | ✓ | ⏱: 44.14s\n",
      "[SCRAPE].. ◆ https://www.essex.ac.uk/courses/PG01630/1/MSc-Cyber-Security                                         | ✓ | ⏱: 0.35s\n",
      "[COMPLETE] ● https://www.essex.ac.uk/courses/PG01630/1/MSc-Cyber-Security                                         | ✓ | ⏱: 45.02s\n",
      "[FETCH]... ↓ https://www.essex.ac.uk/courses/PG00435/1/MSc-Advanced-Computer-Science                              | ✓ | ⏱: 47.32s\n",
      "[SCRAPE].. ◆ https://www.essex.ac.uk/courses/PG00435/1/MSc-Advanced-Computer-Science                              | ✓ | ⏱: 0.46s\n",
      "[COMPLETE] ● https://www.essex.ac.uk/courses/PG00435/1/MSc-Advanced-Computer-Science                              | ✓ | ⏱: 48.29s\n",
      "[FETCH]... ↓ https://www.essex.ac.uk/courses/PR01632/1/PhD-Artificial-Intelligence                                | ✓ | ⏱: 26.53s\n",
      "[SCRAPE].. ◆ https://www.essex.ac.uk/courses/PR01632/1/PhD-Artificial-Intelligence                                | ✓ | ⏱: 0.28s\n",
      "[COMPLETE] ● https://www.essex.ac.uk/courses/PR01632/1/PhD-Artificial-Intelligence                                | ✓ | ⏱: 27.38s\n"
     ]
    },
    {
     "data": {
      "application/vnd.jupyter.widget-view+json": {
       "model_id": "d39659630bc34d65bc42b03f574a90a9",
       "version_major": 2,
       "version_minor": 0
      },
      "text/plain": [
       "images:MSc-Cyber-Security-1:   0%|          | 0/10 [00:00<?, ?it/s]"
      ]
     },
     "metadata": {},
     "output_type": "display_data"
    },
    {
     "data": {
      "application/vnd.jupyter.widget-view+json": {
       "model_id": "04cd54af611347b6ab23896c5c7e3918",
       "version_major": 2,
       "version_minor": 0
      },
      "text/plain": [
       "images:MSc-Advanced-Computer-Science-1:   0%|          | 0/10 [00:00<?, ?it/s]"
      ]
     },
     "metadata": {},
     "output_type": "display_data"
    },
    {
     "data": {
      "application/vnd.jupyter.widget-view+json": {
       "model_id": "bb722a841fd4457aba3fd184e2d401a8",
       "version_major": 2,
       "version_minor": 0
      },
      "text/plain": [
       "images:PhD-Artificial-Intelligence-1:   0%|          | 0/10 [00:00<?, ?it/s]"
      ]
     },
     "metadata": {},
     "output_type": "display_data"
    },
    {
     "name": "stdout",
     "output_type": "stream",
     "text": [
      "[INIT].... → Crawl4AI 0.6.2\n",
      "[INIT].... → Crawl4AI 0.6.2\n",
      "[INIT].... → Crawl4AI 0.6.2\n",
      "[SCRAPE].. ◆ Some images failed to load within timeout\n",
      "[FETCH]... ↓ https://www.essex.ac.uk/courses/PR00888/2/MPhil-Computing-and-Electronic-Systems                     | ✓ | ⏱: 18.54s\n",
      "[SCRAPE].. ◆ https://www.essex.ac.uk/courses/PR00888/2/MPhil-Computing-and-Electronic-Systems                     | ✓ | ⏱: 0.29s\n",
      "[COMPLETE] ● https://www.essex.ac.uk/courses/PR00888/2/MPhil-Computing-and-Electronic-Systems                     | ✓ | ⏱: 19.24s\n",
      "[FETCH]... ↓ https://www.essex.ac.uk/courses/UG01422/1/Integrated-Master-in-Science-Mathematics-and-Data-Science  | ✓ | ⏱: 24.25s\n",
      "[SCRAPE].. ◆ https://www.essex.ac.uk/courses/UG01422/1/Integrated-Master-in-Science-Mathematics-and-Data-Science  | ✓ | ⏱: 0.33s\n",
      "[COMPLETE] ● https://www.essex.ac.uk/courses/UG01422/1/Integrated-Master-in-Science-Mathematics-and-Data-Science  | ✓ | ⏱: 25.04s\n",
      "[FETCH]... ↓ https://www.essex.ac.uk/courses/UG00069/2/BSc-Computer-Science                                       | ✓ | ⏱: 42.69s\n",
      "[SCRAPE].. ◆ https://www.essex.ac.uk/courses/UG00069/2/BSc-Computer-Science                                       | ✓ | ⏱: 0.32s\n",
      "[COMPLETE] ● https://www.essex.ac.uk/courses/UG00069/2/BSc-Computer-Science                                       | ✓ | ⏱: 43.42s\n"
     ]
    },
    {
     "data": {
      "application/vnd.jupyter.widget-view+json": {
       "model_id": "826025d3bb004bfb917aeee7f45e72b2",
       "version_major": 2,
       "version_minor": 0
      },
      "text/plain": [
       "images:MPhil-Computing-and-Electronic-Systems-2:   0%|          | 0/10 [00:00<?, ?it/s]"
      ]
     },
     "metadata": {},
     "output_type": "display_data"
    },
    {
     "data": {
      "application/vnd.jupyter.widget-view+json": {
       "model_id": "7b960818a2df4c1ba3ee2f3682910e80",
       "version_major": 2,
       "version_minor": 0
      },
      "text/plain": [
       "images:Integrated-Master-in-Science-Mathematics-and-Data-Science-1:   0%|          | 0/10 [00:00<?, ?it/s]"
      ]
     },
     "metadata": {},
     "output_type": "display_data"
    },
    {
     "data": {
      "application/vnd.jupyter.widget-view+json": {
       "model_id": "2acf76f89b174fd38f31d77dc98105ea",
       "version_major": 2,
       "version_minor": 0
      },
      "text/plain": [
       "images:BSc-Computer-Science-2:   0%|          | 0/10 [00:00<?, ?it/s]"
      ]
     },
     "metadata": {},
     "output_type": "display_data"
    },
    {
     "name": "stdout",
     "output_type": "stream",
     "text": [
      "[INIT].... → Crawl4AI 0.6.2\n",
      "[INIT].... → Crawl4AI 0.6.2\n",
      "[SCRAPE].. ◆ Some images failed to load within timeout\n",
      "[INIT].... → Crawl4AI 0.6.2\n",
      "[FETCH]... ↓ https://www.essex.ac.uk/courses/PG00457/1/MSc-Artificial-Intelligence                                | ✓ | ⏱: 45.36s\n",
      "[SCRAPE].. ◆ https://www.essex.ac.uk/courses/PG00457/1/MSc-Artificial-Intelligence                                | ✓ | ⏱: 0.33s\n",
      "[COMPLETE] ● https://www.essex.ac.uk/courses/PG00457/1/MSc-Artificial-Intelligence                                | ✓ | ⏱: 46.30s\n",
      "[FETCH]... ↓ https://www.essex.ac.uk/courses/PG01381/1/MSc-Financial-Technology-Economics                         | ✓ | ⏱: 46.79s\n",
      "[SCRAPE].. ◆ https://www.essex.ac.uk/courses/PG01381/1/MSc-Financial-Technology-Economics                         | ✓ | ⏱: 0.44s\n",
      "[COMPLETE] ● https://www.essex.ac.uk/courses/PG01381/1/MSc-Financial-Technology-Economics                         | ✓ | ⏱: 47.69s\n",
      "[FETCH]... ↓ https://www.essex.ac.uk/courses/UG00080/1/BEng-Computers-with-Electronics                            | ✓ | ⏱: 29.78s\n",
      "[SCRAPE].. ◆ https://www.essex.ac.uk/courses/UG00080/1/BEng-Computers-with-Electronics                            | ✓ | ⏱: 0.26s\n",
      "[COMPLETE] ● https://www.essex.ac.uk/courses/UG00080/1/BEng-Computers-with-Electronics                            | ✓ | ⏱: 30.73s\n"
     ]
    },
    {
     "data": {
      "application/vnd.jupyter.widget-view+json": {
       "model_id": "cf3ca30e46a64bdb8600f67a8440c1ab",
       "version_major": 2,
       "version_minor": 0
      },
      "text/plain": [
       "images:MSc-Financial-Technology-Economics-1:   0%|          | 0/10 [00:00<?, ?it/s]"
      ]
     },
     "metadata": {},
     "output_type": "display_data"
    },
    {
     "data": {
      "application/vnd.jupyter.widget-view+json": {
       "model_id": "41a8ca6f8f57446288ba9eb7a16934ad",
       "version_major": 2,
       "version_minor": 0
      },
      "text/plain": [
       "images:MSc-Artificial-Intelligence-1:   0%|          | 0/10 [00:00<?, ?it/s]"
      ]
     },
     "metadata": {},
     "output_type": "display_data"
    },
    {
     "data": {
      "application/vnd.jupyter.widget-view+json": {
       "model_id": "498a538daae24ce88d36e4efb66aaac0",
       "version_major": 2,
       "version_minor": 0
      },
      "text/plain": [
       "images:BEng-Computers-with-Electronics-1:   0%|          | 0/10 [00:00<?, ?it/s]"
      ]
     },
     "metadata": {},
     "output_type": "display_data"
    },
    {
     "name": "stdout",
     "output_type": "stream",
     "text": [
      "[INIT].... → Crawl4AI 0.6.2\n",
      "[INIT].... → Crawl4AI 0.6.2\n",
      "[INIT].... → Crawl4AI 0.6.2\n",
      "[FETCH]... ↓ https://www.essex.ac.uk/courses/PG01399/1/MSc-Applications-of-Artificial-Intelligence                | ✓ | ⏱: 59.73s\n",
      "[SCRAPE].. ◆ https://www.essex.ac.uk/courses/PG01399/1/MSc-Applications-of-Artificial-Intelligence                | ✓ | ⏱: 0.22s\n",
      "[COMPLETE] ● https://www.essex.ac.uk/courses/PG01399/1/MSc-Applications-of-Artificial-Intelligence                | ✓ | ⏱: 60.33s\n",
      "[FETCH]... ↓ https://www.essex.ac.uk/courses/PR00887/2/MPhil-Computer-Science                                     | ✓ | ⏱: 34.37s\n",
      "[SCRAPE].. ◆ https://www.essex.ac.uk/courses/PR00887/2/MPhil-Computer-Science                                     | ✓ | ⏱: 0.28s\n",
      "[COMPLETE] ● https://www.essex.ac.uk/courses/PR00887/2/MPhil-Computer-Science                                     | ✓ | ⏱: 35.18s\n",
      "[FETCH]... ↓ https://www.essex.ac.uk/courses/PR00887/3/MSc-by-Dissertation-Computer-Science                       | ✓ | ⏱: 63.37s\n",
      "[SCRAPE].. ◆ https://www.essex.ac.uk/courses/PR00887/3/MSc-by-Dissertation-Computer-Science                       | ✓ | ⏱: 0.39s\n",
      "[COMPLETE] ● https://www.essex.ac.uk/courses/PR00887/3/MSc-by-Dissertation-Computer-Science                       | ✓ | ⏱: 64.19s\n",
      "[FETCH]... ↓ https://www.essex.ac.uk/courses/UG01265/1/BSc-Economics-with-Data-Science                            | ✓ | ⏱: 36.77s\n",
      "[SCRAPE].. ◆ https://www.essex.ac.uk/courses/UG01265/1/BSc-Economics-with-Data-Science                            | ✓ | ⏱: 0.32s\n",
      "[COMPLETE] ● https://www.essex.ac.uk/courses/UG01265/1/BSc-Economics-with-Data-Science                            | ✓ | ⏱: 37.59s\n"
     ]
    },
    {
     "data": {
      "application/vnd.jupyter.widget-view+json": {
       "model_id": "ffc05d96be134cc38f88c4f5cbfa2261",
       "version_major": 2,
       "version_minor": 0
      },
      "text/plain": [
       "images:MSc-Applications-of-Artificial-Intelligence-1:   0%|          | 0/10 [00:00<?, ?it/s]"
      ]
     },
     "metadata": {},
     "output_type": "display_data"
    },
    {
     "data": {
      "application/vnd.jupyter.widget-view+json": {
       "model_id": "98f028a71e30401f9aef80926077e7f3",
       "version_major": 2,
       "version_minor": 0
      },
      "text/plain": [
       "images:MPhil-Computer-Science-2:   0%|          | 0/10 [00:00<?, ?it/s]"
      ]
     },
     "metadata": {},
     "output_type": "display_data"
    },
    {
     "data": {
      "application/vnd.jupyter.widget-view+json": {
       "model_id": "fea35fa55d4547bdab47b3f5ca38cddb",
       "version_major": 2,
       "version_minor": 0
      },
      "text/plain": [
       "images:MSc-by-Dissertation-Computer-Science-3:   0%|          | 0/10 [00:00<?, ?it/s]"
      ]
     },
     "metadata": {},
     "output_type": "display_data"
    },
    {
     "data": {
      "application/vnd.jupyter.widget-view+json": {
       "model_id": "a58033afb6474160bc9d755979893d97",
       "version_major": 2,
       "version_minor": 0
      },
      "text/plain": [
       "images:BSc-Economics-with-Data-Science-1:   0%|          | 0/10 [00:00<?, ?it/s]"
      ]
     },
     "metadata": {},
     "output_type": "display_data"
    },
    {
     "name": "stdout",
     "output_type": "stream",
     "text": [
      "[FETCH]... ↓ https://www.essex.ac.uk/courses/UG01034/1/BSc-Data-Science-and-Analytics                             | ✓ | ⏱: 59.83s\n",
      "[SCRAPE].. ◆ https://www.essex.ac.uk/courses/UG01034/1/BSc-Data-Science-and-Analytics                             | ✓ | ⏱: 0.23s\n",
      "[COMPLETE] ● https://www.essex.ac.uk/courses/UG01034/1/BSc-Data-Science-and-Analytics                             | ✓ | ⏱: 60.35s\n",
      "[INIT].... → Crawl4AI 0.6.2\n",
      "[INIT].... → Crawl4AI 0.6.2\n"
     ]
    },
    {
     "data": {
      "application/vnd.jupyter.widget-view+json": {
       "model_id": "7dc952ebdf6a43309bd20d68e73c532e",
       "version_major": 2,
       "version_minor": 0
      },
      "text/plain": [
       "images:BSc-Data-Science-and-Analytics-1:   0%|          | 0/10 [00:00<?, ?it/s]"
      ]
     },
     "metadata": {},
     "output_type": "display_data"
    },
    {
     "name": "stdout",
     "output_type": "stream",
     "text": [
      "[INIT].... → Crawl4AI 0.6.2\n",
      "[INIT].... → Crawl4AI 0.6.2\n",
      "[SCRAPE].. ◆ Some images failed to load within timeout\n",
      "[INIT].... → Crawl4AI 0.6.2\n",
      "[FETCH]... ↓ https://www.essex.ac.uk/courses/PG00502/1/MSc-Computer-Networks-and-Security                         | ✓ | ⏱: 37.18s\n",
      "[SCRAPE].. ◆ https://www.essex.ac.uk/courses/PG00502/1/MSc-Computer-Networks-and-Security                         | ✓ | ⏱: 0.27s\n",
      "[COMPLETE] ● https://www.essex.ac.uk/courses/PG00502/1/MSc-Computer-Networks-and-Security                         | ✓ | ⏱: 37.98s\n",
      "[FETCH]... ↓ https://www.essex.ac.uk/courses/UG00076/1/BEng-Computer-Systems-Engineering                          | ✓ | ⏱: 37.15s\n",
      "[SCRAPE].. ◆ https://www.essex.ac.uk/courses/UG00076/1/BEng-Computer-Systems-Engineering                          | ✓ | ⏱: 0.29s\n",
      "[COMPLETE] ● https://www.essex.ac.uk/courses/UG00076/1/BEng-Computer-Systems-Engineering                          | ✓ | ⏱: 37.90s\n",
      "[FETCH]... ↓ https://www.essex.ac.uk/courses/UG00066/2/BSc-Computer-Games                                         | ✓ | ⏱: 39.32s\n",
      "[SCRAPE].. ◆ https://www.essex.ac.uk/courses/UG00066/2/BSc-Computer-Games                                         | ✓ | ⏱: 0.43s\n",
      "[COMPLETE] ● https://www.essex.ac.uk/courses/UG00066/2/BSc-Computer-Games                                         | ✓ | ⏱: 40.32s\n"
     ]
    },
    {
     "data": {
      "application/vnd.jupyter.widget-view+json": {
       "model_id": "a40546537c9e4fdfab35e1a15eb6b7c9",
       "version_major": 2,
       "version_minor": 0
      },
      "text/plain": [
       "images:MSc-Computer-Networks-and-Security-1:   0%|          | 0/10 [00:00<?, ?it/s]"
      ]
     },
     "metadata": {},
     "output_type": "display_data"
    },
    {
     "data": {
      "application/vnd.jupyter.widget-view+json": {
       "model_id": "3c736de1fb3d4e23a5575965e4104693",
       "version_major": 2,
       "version_minor": 0
      },
      "text/plain": [
       "images:BEng-Computer-Systems-Engineering-1:   0%|          | 0/10 [00:00<?, ?it/s]"
      ]
     },
     "metadata": {},
     "output_type": "display_data"
    },
    {
     "data": {
      "application/vnd.jupyter.widget-view+json": {
       "model_id": "d9e215a526404f2f84777618216fd5ba",
       "version_major": 2,
       "version_minor": 0
      },
      "text/plain": [
       "images:BSc-Computer-Games-2:   0%|          | 0/10 [00:00<?, ?it/s]"
      ]
     },
     "metadata": {},
     "output_type": "display_data"
    },
    {
     "name": "stdout",
     "output_type": "stream",
     "text": [
      "[INIT].... → Crawl4AI 0.6.2\n",
      "[INIT].... → Crawl4AI 0.6.2\n",
      "[INIT].... → Crawl4AI 0.6.2\n",
      "[FETCH]... ↓ https://www.essex.ac.uk/courses/PG01314/1/MSc-Social-Data-Science                                    | ✓ | ⏱: 36.63s\n",
      "[SCRAPE].. ◆ https://www.essex.ac.uk/courses/PG01314/1/MSc-Social-Data-Science                                    | ✓ | ⏱: 0.47s\n",
      "[COMPLETE] ● https://www.essex.ac.uk/courses/PG01314/1/MSc-Social-Data-Science                                    | ✓ | ⏱: 37.51s\n",
      "[FETCH]... ↓ https://www.essex.ac.uk/courses/PG01380/1/MSc-Financial-Technology-Finance                           | ✓ | ⏱: 40.22s\n",
      "[SCRAPE].. ◆ https://www.essex.ac.uk/courses/PG01380/1/MSc-Financial-Technology-Finance                           | ✓ | ⏱: 0.32s\n",
      "[COMPLETE] ● https://www.essex.ac.uk/courses/PG01380/1/MSc-Financial-Technology-Finance                           | ✓ | ⏱: 41.06s\n"
     ]
    },
    {
     "data": {
      "application/vnd.jupyter.widget-view+json": {
       "model_id": "ec8d242b46ca4e56975bde74152db7d3",
       "version_major": 2,
       "version_minor": 0
      },
      "text/plain": [
       "images:MSc-Social-Data-Science-1:   0%|          | 0/10 [00:00<?, ?it/s]"
      ]
     },
     "metadata": {},
     "output_type": "display_data"
    },
    {
     "data": {
      "application/vnd.jupyter.widget-view+json": {
       "model_id": "6bb5ddd68b074c6fb42a177d6c670d66",
       "version_major": 2,
       "version_minor": 0
      },
      "text/plain": [
       "images:MSc-Financial-Technology-Finance-1:   0%|          | 0/10 [00:00<?, ?it/s]"
      ]
     },
     "metadata": {},
     "output_type": "display_data"
    },
    {
     "name": "stdout",
     "output_type": "stream",
     "text": [
      "⚠ cannot fetch https://www.essex.ac.uk/-/media/header-images/2020/04/person-sat-at-computer---taken-from-above--autorenamed.jpg?mh=512&mw=512&hash=66287E7D4A11328A840343A7465D9394: HTTPSConnectionPool(host='www.essex.ac.uk', port=443): Read timed out. (read timeout=30)\n",
      "[ERROR]... × https://www.essex.ac.uk...tre-Studies-Playwriting  | Error: \n",
      "┌───────────────────────────────────────────────────────────────────────────────────────────────────────────────────────┐\n",
      "│ × Unexpected error in _crawl_web at line 731 in _crawl_web (../../../../../opt/anaconda3/lib/python3.12/site-         │\n",
      "│ packages/crawl4ai/async_crawler_strategy.py):                                                                         │\n",
      "│   Error: Failed on navigating ACS-GOTO:                                                                               │\n",
      "│   Page.goto: net::ERR_CONNECTION_RESET at https://www.essex.ac.uk/courses/PR01000/1/PhD-Theatre-Studies-Playwriting   │\n",
      "│   Call log:                                                                                                           │\n",
      "│   - navigating to \"https://www.essex.ac.uk/courses/PR01000/1/PhD-Theatre-Studies-Playwriting\", waiting until          │\n",
      "│ \"domcontentloaded\"                                                                                                    │\n",
      "│                                                                                                                       │\n",
      "│                                                                                                                       │\n",
      "│   Code context:                                                                                                       │\n",
      "│   726                       response = await page.goto(                                                               │\n",
      "│   727                           url, wait_until=config.wait_until, timeout=config.page_timeout                        │\n",
      "│   728                       )                                                                                         │\n",
      "│   729                       redirected_url = page.url                                                                 │\n",
      "│   730                   except Error as e:                                                                            │\n",
      "│   731 →                     raise RuntimeError(f\"Failed on navigating ACS-GOTO:\\n{str(e)}\")                           │\n",
      "│   732                                                                                                                 │\n",
      "│   733                   await self.execute_hook(                                                                      │\n",
      "│   734                       \"after_goto\", page, context=context, url=url, response=response, config=config            │\n",
      "│   735                   )                                                                                             │\n",
      "│   736                                                                                                                 │\n",
      "└───────────────────────────────────────────────────────────────────────────────────────────────────────────────────────┘\n",
      "\n",
      "[INIT].... → Crawl4AI 0.6.2\n",
      "⚠️  PhD-Theatre-Studies-Playwriting-1: Unexpected error in _crawl_web at line 731 in _crawl_web (../../../../../opt/anaconda3/lib/python3.12/site-packages/crawl4ai/async_crawler_strategy.py):\n",
      "Error: Failed on navigating ACS-GOTO:\n",
      "Page.goto: net::ERR_CONNECTION_RESET at https://www.essex.ac.uk/courses/PR01000/1/PhD-Theatre-Studies-Playwriting\n",
      "Call log:\n",
      "  - navigating to \"https://www.essex.ac.uk/courses/PR01000/1/PhD-Theatre-Studies-Playwriting\", waiting until \"domcontentloaded\"\n",
      "\n",
      "\n",
      "Code context:\n",
      " 726                       response = await page.goto(\n",
      " 727                           url, wait_until=config.wait_until, timeout=config.page_timeout\n",
      " 728                       )\n",
      " 729                       redirected_url = page.url\n",
      " 730                   except Error as e:\n",
      " 731 →                     raise RuntimeError(f\"Failed on navigating ACS-GOTO:\\n{str(e)}\")\n",
      " 732   \n",
      " 733                   await self.execute_hook(\n",
      " 734                       \"after_goto\", page, context=context, url=url, response=response, config=config\n",
      " 735                   )\n",
      " 736   \n",
      "[INIT].... → Crawl4AI 0.6.2\n",
      "[FETCH]... ↓ https://www.essex.ac.uk/courses/PR00887/4/PhD-Computer-Science                                       | ✓ | ⏱: 87.76s\n",
      "[SCRAPE].. ◆ https://www.essex.ac.uk/courses/PR00887/4/PhD-Computer-Science                                       | ✓ | ⏱: 0.27s\n",
      "[COMPLETE] ● https://www.essex.ac.uk/courses/PR00887/4/PhD-Computer-Science                                       | ✓ | ⏱: 88.77s\n",
      "[INIT].... → Crawl4AI 0.6.2\n",
      "[FETCH]... ↓ https://www.essex.ac.uk/courses/PR01632/2/MSc-by-Dissertation-Artificial-Intelligence                | ✓ | ⏱: 84.22s\n",
      "[SCRAPE].. ◆ https://www.essex.ac.uk/courses/PR01632/2/MSc-by-Dissertation-Artificial-Intelligence                | ✓ | ⏱: 0.22s\n",
      "[COMPLETE] ● https://www.essex.ac.uk/courses/PR01632/2/MSc-by-Dissertation-Artificial-Intelligence                | ✓ | ⏱: 84.93s\n",
      "[FETCH]... ↓ https://www.essex.ac.uk/courses/UG01336/1/BSc-Sociology-with-Data-Science                            | ✓ | ⏱: 88.07s\n",
      "[SCRAPE].. ◆ https://www.essex.ac.uk/courses/UG01336/1/BSc-Sociology-with-Data-Science                            | ✓ | ⏱: 0.31s\n",
      "[COMPLETE] ● https://www.essex.ac.uk/courses/UG01336/1/BSc-Sociology-with-Data-Science                            | ✓ | ⏱: 88.81s\n"
     ]
    },
    {
     "data": {
      "application/vnd.jupyter.widget-view+json": {
       "model_id": "8715fe9415f74b62871feb5aedd4a36b",
       "version_major": 2,
       "version_minor": 0
      },
      "text/plain": [
       "images:PhD-Computer-Science-4:   0%|          | 0/10 [00:00<?, ?it/s]"
      ]
     },
     "metadata": {},
     "output_type": "display_data"
    },
    {
     "data": {
      "application/vnd.jupyter.widget-view+json": {
       "model_id": "50622098aabc4bf693ffd1a65d95a285",
       "version_major": 2,
       "version_minor": 0
      },
      "text/plain": [
       "images:MSc-by-Dissertation-Artificial-Intelligence-2:   0%|          | 0/9 [00:00<?, ?it/s]"
      ]
     },
     "metadata": {},
     "output_type": "display_data"
    },
    {
     "name": "stdout",
     "output_type": "stream",
     "text": [
      "[ERROR]... × https://www.essex.ac.uk...Artificial-Intelligence  | Error: \n",
      "┌───────────────────────────────────────────────────────────────────────────────────────────────────────────────────────┐\n",
      "│ × Unexpected error in _crawl_web at line 731 in _crawl_web (../../../../../opt/anaconda3/lib/python3.12/site-         │\n",
      "│ packages/crawl4ai/async_crawler_strategy.py):                                                                         │\n",
      "│   Error: Failed on navigating ACS-GOTO:                                                                               │\n",
      "│   Page.goto: Timeout 60000ms exceeded.                                                                                │\n",
      "│   Call log:                                                                                                           │\n",
      "│   - navigating to \"https://www.essex.ac.uk/courses/UG01499/1/BSc-Artificial-Intelligence\", waiting until              │\n",
      "│ \"domcontentloaded\"                                                                                                    │\n",
      "│                                                                                                                       │\n",
      "│                                                                                                                       │\n",
      "│   Code context:                                                                                                       │\n",
      "│   726                       response = await page.goto(                                                               │\n",
      "│   727                           url, wait_until=config.wait_until, timeout=config.page_timeout                        │\n",
      "│   728                       )                                                                                         │\n",
      "│   729                       redirected_url = page.url                                                                 │\n",
      "│   730                   except Error as e:                                                                            │\n",
      "│   731 →                     raise RuntimeError(f\"Failed on navigating ACS-GOTO:\\n{str(e)}\")                           │\n",
      "│   732                                                                                                                 │\n",
      "│   733                   await self.execute_hook(                                                                      │\n",
      "│   734                       \"after_goto\", page, context=context, url=url, response=response, config=config            │\n",
      "│   735                   )                                                                                             │\n",
      "│   736                                                                                                                 │\n",
      "└───────────────────────────────────────────────────────────────────────────────────────────────────────────────────────┘\n",
      "\n"
     ]
    },
    {
     "data": {
      "application/vnd.jupyter.widget-view+json": {
       "model_id": "136002eaa619469dbd914f761707889f",
       "version_major": 2,
       "version_minor": 0
      },
      "text/plain": [
       "images:BSc-Sociology-with-Data-Science-1:   0%|          | 0/10 [00:00<?, ?it/s]"
      ]
     },
     "metadata": {},
     "output_type": "display_data"
    },
    {
     "name": "stdout",
     "output_type": "stream",
     "text": [
      "⚠️  BSc-Artificial-Intelligence-1: Unexpected error in _crawl_web at line 731 in _crawl_web (../../../../../opt/anaconda3/lib/python3.12/site-packages/crawl4ai/async_crawler_strategy.py):\n",
      "Error: Failed on navigating ACS-GOTO:\n",
      "Page.goto: Timeout 60000ms exceeded.\n",
      "Call log:\n",
      "  - navigating to \"https://www.essex.ac.uk/courses/UG01499/1/BSc-Artificial-Intelligence\", waiting until \"domcontentloaded\"\n",
      "\n",
      "\n",
      "Code context:\n",
      " 726                       response = await page.goto(\n",
      " 727                           url, wait_until=config.wait_until, timeout=config.page_timeout\n",
      " 728                       )\n",
      " 729                       redirected_url = page.url\n",
      " 730                   except Error as e:\n",
      " 731 →                     raise RuntimeError(f\"Failed on navigating ACS-GOTO:\\n{str(e)}\")\n",
      " 732   \n",
      " 733                   await self.execute_hook(\n",
      " 734                       \"after_goto\", page, context=context, url=url, response=response, config=config\n",
      " 735                   )\n",
      " 736   \n",
      "[INIT].... → Crawl4AI 0.6.2\n",
      "[INIT].... → Crawl4AI 0.6.2\n",
      "[ERROR]... × https://www.essex.ac.uk...1/1/MA-Theatre-Practice  | Error: \n",
      "┌───────────────────────────────────────────────────────────────────────────────────────────────────────────────────────┐\n",
      "│ × Unexpected error in _crawl_web at line 731 in _crawl_web (../../../../../opt/anaconda3/lib/python3.12/site-         │\n",
      "│ packages/crawl4ai/async_crawler_strategy.py):                                                                         │\n",
      "│   Error: Failed on navigating ACS-GOTO:                                                                               │\n",
      "│   Page.goto: Timeout 60000ms exceeded.                                                                                │\n",
      "│   Call log:                                                                                                           │\n",
      "│   - navigating to \"https://www.essex.ac.uk/courses/PG01301/1/MA-Theatre-Practice\", waiting until \"domcontentloaded\"   │\n",
      "│                                                                                                                       │\n",
      "│                                                                                                                       │\n",
      "│   Code context:                                                                                                       │\n",
      "│   726                       response = await page.goto(                                                               │\n",
      "│   727                           url, wait_until=config.wait_until, timeout=config.page_timeout                        │\n",
      "│   728                       )                                                                                         │\n",
      "│   729                       redirected_url = page.url                                                                 │\n",
      "│   730                   except Error as e:                                                                            │\n",
      "│   731 →                     raise RuntimeError(f\"Failed on navigating ACS-GOTO:\\n{str(e)}\")                           │\n",
      "│   732                                                                                                                 │\n",
      "│   733                   await self.execute_hook(                                                                      │\n",
      "│   734                       \"after_goto\", page, context=context, url=url, response=response, config=config            │\n",
      "│   735                   )                                                                                             │\n",
      "│   736                                                                                                                 │\n",
      "└───────────────────────────────────────────────────────────────────────────────────────────────────────────────────────┘\n",
      "\n",
      "[INIT].... → Crawl4AI 0.6.2\n",
      "[INIT].... → Crawl4AI 0.6.2\n",
      "⚠️  MA-Theatre-Practice-1: Unexpected error in _crawl_web at line 731 in _crawl_web (../../../../../opt/anaconda3/lib/python3.12/site-packages/crawl4ai/async_crawler_strategy.py):\n",
      "Error: Failed on navigating ACS-GOTO:\n",
      "Page.goto: Timeout 60000ms exceeded.\n",
      "Call log:\n",
      "  - navigating to \"https://www.essex.ac.uk/courses/PG01301/1/MA-Theatre-Practice\", waiting until \"domcontentloaded\"\n",
      "\n",
      "\n",
      "Code context:\n",
      " 726                       response = await page.goto(\n",
      " 727                           url, wait_until=config.wait_until, timeout=config.page_timeout\n",
      " 728                       )\n",
      " 729                       redirected_url = page.url\n",
      " 730                   except Error as e:\n",
      " 731 →                     raise RuntimeError(f\"Failed on navigating ACS-GOTO:\\n{str(e)}\")\n",
      " 732   \n",
      " 733                   await self.execute_hook(\n",
      " 734                       \"after_goto\", page, context=context, url=url, response=response, config=config\n",
      " 735                   )\n",
      " 736   \n",
      "[FETCH]... ↓ https://www.essex.ac.uk/courses/PR00891/2/MPhil-Creative-Writing                                     | ✓ | ⏱: 136.97s\n",
      "[SCRAPE].. ◆ https://www.essex.ac.uk/courses/PR00891/2/MPhil-Creative-Writing                                     | ✓ | ⏱: 0.64s\n",
      "[COMPLETE] ● https://www.essex.ac.uk/courses/PR00891/2/MPhil-Creative-Writing                                     | ✓ | ⏱: 139.16s\n",
      "[INIT].... → Crawl4AI 0.6.2\n"
     ]
    },
    {
     "data": {
      "application/vnd.jupyter.widget-view+json": {
       "model_id": "aae3cfa022a64623bf6d044ec3a2b827",
       "version_major": 2,
       "version_minor": 0
      },
      "text/plain": [
       "images:MPhil-Creative-Writing-2:   0%|          | 0/10 [00:00<?, ?it/s]"
      ]
     },
     "metadata": {},
     "output_type": "display_data"
    },
    {
     "name": "stdout",
     "output_type": "stream",
     "text": [
      "[SCRAPE].. ◆ Some images failed to load within timeout\n",
      "[SCRAPE].. ◆ Some images failed to load within timeout\n",
      "[INIT].... → Crawl4AI 0.6.2\n",
      "[FETCH]... ↓ https://www.essex.ac.uk/courses/PG00845/1/MA-Wild-Writing-Literature-Landscape-and-the-Environment   | ✓ | ⏱: 99.08s\n",
      "[SCRAPE].. ◆ https://www.essex.ac.uk/courses/PG00845/1/MA-Wild-Writing-Literature-Landscape-and-the-Environment   | ✓ | ⏱: 0.67s\n",
      "[COMPLETE] ● https://www.essex.ac.uk/courses/PG00845/1/MA-Wild-Writing-Literature-Landscape-and-the-Environment   | ✓ | ⏱: 100.84s\n",
      "[FETCH]... ↓ https://www.essex.ac.uk/courses/PG01373/1/MA-Literature-and-Creative-Writing                         | ✓ | ⏱: 100.57s\n",
      "[SCRAPE].. ◆ https://www.essex.ac.uk/courses/PG01373/1/MA-Literature-and-Creative-Writing                         | ✓ | ⏱: 0.47s\n",
      "[COMPLETE] ● https://www.essex.ac.uk/courses/PG01373/1/MA-Literature-and-Creative-Writing                         | ✓ | ⏱: 102.03s\n"
     ]
    },
    {
     "data": {
      "application/vnd.jupyter.widget-view+json": {
       "model_id": "3c9e62d7c4da4981badac4ddf0909219",
       "version_major": 2,
       "version_minor": 0
      },
      "text/plain": [
       "images:MA-Wild-Writing-Literature-Landscape-and-the-Environment-1:   0%|          | 0/10 [00:00<?, ?it/s]"
      ]
     },
     "metadata": {},
     "output_type": "display_data"
    },
    {
     "data": {
      "application/vnd.jupyter.widget-view+json": {
       "model_id": "4729beca6346411cb604934badcb0ccd",
       "version_major": 2,
       "version_minor": 0
      },
      "text/plain": [
       "images:MA-Literature-and-Creative-Writing-1:   0%|          | 0/10 [00:00<?, ?it/s]"
      ]
     },
     "metadata": {},
     "output_type": "display_data"
    },
    {
     "name": "stdout",
     "output_type": "stream",
     "text": [
      "[FETCH]... ↓ https://www.essex.ac.uk/courses/UG01055/3/Integr...er-in-Literature-Literature-and-Creative-Writing  | ✓ | ⏱: 46.74s\n",
      "[SCRAPE].. ◆ https://www.essex.ac.uk/courses/UG01055/3/Integr...er-in-Literature-Literature-and-Creative-Writing  | ✓ | ⏱: 0.28s\n",
      "[COMPLETE] ● https://www.essex.ac.uk/courses/UG01055/3/Integr...er-in-Literature-Literature-and-Creative-Writing  | ✓ | ⏱: 48.09s\n",
      "[INIT].... → Crawl4AI 0.6.2\n",
      "[INIT].... → Crawl4AI 0.6.2\n"
     ]
    },
    {
     "data": {
      "application/vnd.jupyter.widget-view+json": {
       "model_id": "40029a463b2c42f6bc2b28ebac0d842c",
       "version_major": 2,
       "version_minor": 0
      },
      "text/plain": [
       "images:Integrated-Master-in-Literature-Literature-and-Creative-Writing-3:   0%|          | 0/10 [00:00<?, ?it/…"
      ]
     },
     "metadata": {},
     "output_type": "display_data"
    },
    {
     "name": "stdout",
     "output_type": "stream",
     "text": [
      "[INIT].... → Crawl4AI 0.6.2\n",
      "[FETCH]... ↓ https://www.essex.ac.uk/courses/UG00088/1/BA-Creative-Writing                                        | ✓ | ⏱: 55.91s\n",
      "[SCRAPE].. ◆ https://www.essex.ac.uk/courses/UG00088/1/BA-Creative-Writing                                        | ✓ | ⏱: 0.44s\n",
      "[COMPLETE] ● https://www.essex.ac.uk/courses/UG00088/1/BA-Creative-Writing                                        | ✓ | ⏱: 56.83s\n",
      "[FETCH]... ↓ https://www.essex.ac.uk/courses/PR00891/1/PhD-Creative-Writing                                       | ✓ | ⏱: 33.24s\n",
      "[SCRAPE].. ◆ https://www.essex.ac.uk/courses/PR00891/1/PhD-Creative-Writing                                       | ✓ | ⏱: 0.27s\n",
      "[COMPLETE] ● https://www.essex.ac.uk/courses/PR00891/1/PhD-Creative-Writing                                       | ✓ | ⏱: 34.07s\n",
      "[FETCH]... ↓ https://www.essex.ac.uk/courses/PR00891/4/MA-by-Dissertation-Creative-Writing                        | ✓ | ⏱: 27.63s\n",
      "[SCRAPE].. ◆ https://www.essex.ac.uk/courses/PR00891/4/MA-by-Dissertation-Creative-Writing                        | ✓ | ⏱: 0.23s\n",
      "[COMPLETE] ● https://www.essex.ac.uk/courses/PR00891/4/MA-by-Dissertation-Creative-Writing                        | ✓ | ⏱: 28.40s\n",
      "[FETCH]... ↓ https://www.essex.ac.uk/courses/UG01055/1/BA-Literature-and-Creative-Writing                         | ✓ | ⏱: 35.93s\n",
      "[SCRAPE].. ◆ https://www.essex.ac.uk/courses/UG01055/1/BA-Literature-and-Creative-Writing                         | ✓ | ⏱: 0.50s\n",
      "[COMPLETE] ● https://www.essex.ac.uk/courses/UG01055/1/BA-Literature-and-Creative-Writing                         | ✓ | ⏱: 37.00s\n"
     ]
    },
    {
     "data": {
      "application/vnd.jupyter.widget-view+json": {
       "model_id": "6d231165ac1a4395908d140c3d2286e7",
       "version_major": 2,
       "version_minor": 0
      },
      "text/plain": [
       "images:BA-Creative-Writing-1:   0%|          | 0/10 [00:00<?, ?it/s]"
      ]
     },
     "metadata": {},
     "output_type": "display_data"
    },
    {
     "data": {
      "application/vnd.jupyter.widget-view+json": {
       "model_id": "3bd135555b0b42d0a4b91442f7e8029b",
       "version_major": 2,
       "version_minor": 0
      },
      "text/plain": [
       "images:PhD-Creative-Writing-1:   0%|          | 0/10 [00:00<?, ?it/s]"
      ]
     },
     "metadata": {},
     "output_type": "display_data"
    },
    {
     "data": {
      "application/vnd.jupyter.widget-view+json": {
       "model_id": "dcad5ca5f6b24eedaa44bff5e82b37d7",
       "version_major": 2,
       "version_minor": 0
      },
      "text/plain": [
       "images:MA-by-Dissertation-Creative-Writing-4:   0%|          | 0/10 [00:00<?, ?it/s]"
      ]
     },
     "metadata": {},
     "output_type": "display_data"
    },
    {
     "data": {
      "application/vnd.jupyter.widget-view+json": {
       "model_id": "61c8c92320f643528933cda791951bef",
       "version_major": 2,
       "version_minor": 0
      },
      "text/plain": [
       "images:BA-Literature-and-Creative-Writing-1:   0%|          | 0/10 [00:00<?, ?it/s]"
      ]
     },
     "metadata": {},
     "output_type": "display_data"
    },
    {
     "name": "stdout",
     "output_type": "stream",
     "text": [
      "[INIT].... → Crawl4AI 0.6.2\n",
      "[INIT].... → Crawl4AI 0.6.2\n",
      "[INIT].... → Crawl4AI 0.6.2\n",
      "[INIT].... → Crawl4AI 0.6.2\n",
      "[FETCH]... ↓ https://www.essex.ac.uk/courses/PR01000/2/MPhil-Theatre-Studies-Playwriting                          | ✓ | ⏱: 15.81s\n",
      "[SCRAPE].. ◆ https://www.essex.ac.uk/courses/PR01000/2/MPhil-Theatre-Studies-Playwriting                          | ✓ | ⏱: 0.24s\n",
      "[COMPLETE] ● https://www.essex.ac.uk/courses/PR01000/2/MPhil-Theatre-Studies-Playwriting                          | ✓ | ⏱: 16.45s\n"
     ]
    },
    {
     "data": {
      "application/vnd.jupyter.widget-view+json": {
       "model_id": "a7c0b83e7a5c47cdba027d21f0729798",
       "version_major": 2,
       "version_minor": 0
      },
      "text/plain": [
       "images:MPhil-Theatre-Studies-Playwriting-2:   0%|          | 0/10 [00:00<?, ?it/s]"
      ]
     },
     "metadata": {},
     "output_type": "display_data"
    },
    {
     "name": "stdout",
     "output_type": "stream",
     "text": [
      "[FETCH]... ↓ https://www.essex.ac.uk/courses/UG00162/1/BA-Film-and-Creative-Writing                               | ✓ | ⏱: 38.74s\n",
      "[SCRAPE].. ◆ https://www.essex.ac.uk/courses/UG00162/1/BA-Film-and-Creative-Writing                               | ✓ | ⏱: 0.34s\n",
      "[COMPLETE] ● https://www.essex.ac.uk/courses/UG00162/1/BA-Film-and-Creative-Writing                               | ✓ | ⏱: 39.92s\n",
      "[FETCH]... ↓ https://www.essex.ac.uk/courses/PG00519/1/MA-Creative-Writing                                        | ✓ | ⏱: 27.05s\n",
      "[SCRAPE].. ◆ https://www.essex.ac.uk/courses/PG00519/1/MA-Creative-Writing                                        | ✓ | ⏱: 0.28s\n",
      "[COMPLETE] ● https://www.essex.ac.uk/courses/PG00519/1/MA-Creative-Writing                                        | ✓ | ⏱: 27.89s\n",
      "[FETCH]... ↓ https://www.essex.ac.uk/courses/PG00722/1/MA-Scriptwriting-Theatre-and-Digital-Media                 | ✓ | ⏱: 27.30s\n",
      "[SCRAPE].. ◆ https://www.essex.ac.uk/courses/PG00722/1/MA-Scriptwriting-Theatre-and-Digital-Media                 | ✓ | ⏱: 0.31s\n",
      "[COMPLETE] ● https://www.essex.ac.uk/courses/PG00722/1/MA-Scriptwriting-Theatre-and-Digital-Media                 | ✓ | ⏱: 28.18s\n"
     ]
    },
    {
     "data": {
      "application/vnd.jupyter.widget-view+json": {
       "model_id": "d6bb88c7a49a48229c7c4070c1769013",
       "version_major": 2,
       "version_minor": 0
      },
      "text/plain": [
       "images:MA-Creative-Writing-1:   0%|          | 0/10 [00:00<?, ?it/s]"
      ]
     },
     "metadata": {},
     "output_type": "display_data"
    },
    {
     "data": {
      "application/vnd.jupyter.widget-view+json": {
       "model_id": "b70ba01f60e44fc8950d1757948bc858",
       "version_major": 2,
       "version_minor": 0
      },
      "text/plain": [
       "images:BA-Film-and-Creative-Writing-1:   0%|          | 0/10 [00:00<?, ?it/s]"
      ]
     },
     "metadata": {},
     "output_type": "display_data"
    },
    {
     "name": "stdout",
     "output_type": "stream",
     "text": [
      "[SCRAPE].. ◆ Some images failed to load within timeout\n",
      "[INIT].... → Crawl4AI 0.6.2\n"
     ]
    },
    {
     "data": {
      "application/vnd.jupyter.widget-view+json": {
       "model_id": "f3ebfd7505fb4b60be78dff69daf7123",
       "version_major": 2,
       "version_minor": 0
      },
      "text/plain": [
       "images:MA-Scriptwriting-Theatre-and-Digital-Media-1:   0%|          | 0/10 [00:00<?, ?it/s]"
      ]
     },
     "metadata": {},
     "output_type": "display_data"
    },
    {
     "name": "stdout",
     "output_type": "stream",
     "text": [
      "[INIT].... → Crawl4AI 0.6.2\n",
      "[INIT].... → Crawl4AI 0.6.2\n",
      "[INIT].... → Crawl4AI 0.6.2\n",
      "[FETCH]... ↓ https://www.essex.ac.uk/courses/PG01378/1/MA-Sociology-and-Criminology                               | ✓ | ⏱: 23.58s\n",
      "[SCRAPE].. ◆ https://www.essex.ac.uk/courses/PG01378/1/MA-Sociology-and-Criminology                               | ✓ | ⏱: 0.31s\n",
      "[COMPLETE] ● https://www.essex.ac.uk/courses/PG01378/1/MA-Sociology-and-Criminology                               | ✓ | ⏱: 24.35s\n",
      "[FETCH]... ↓ https://www.essex.ac.uk/courses/UG01501/1/BA-Drama-and-Creative-Writing                              | ✓ | ⏱: 25.53s\n",
      "[SCRAPE].. ◆ https://www.essex.ac.uk/courses/UG01501/1/BA-Drama-and-Creative-Writing                              | ✓ | ⏱: 0.48s\n",
      "[COMPLETE] ● https://www.essex.ac.uk/courses/UG01501/1/BA-Drama-and-Creative-Writing                              | ✓ | ⏱: 26.69s\n",
      "[FETCH]... ↓ https://www.essex.ac.uk/courses/PG00702/2/MA-Organised-Crime-Terrorism-and-Security                  | ✓ | ⏱: 26.23s\n",
      "[SCRAPE].. ◆ https://www.essex.ac.uk/courses/PG00702/2/MA-Organised-Crime-Terrorism-and-Security                  | ✓ | ⏱: 0.30s\n",
      "[COMPLETE] ● https://www.essex.ac.uk/courses/PG00702/2/MA-Organised-Crime-Terrorism-and-Security                  | ✓ | ⏱: 27.07s\n"
     ]
    },
    {
     "data": {
      "application/vnd.jupyter.widget-view+json": {
       "model_id": "f8eb9f794d5b4421830f8613aef84c57",
       "version_major": 2,
       "version_minor": 0
      },
      "text/plain": [
       "images:MA-Sociology-and-Criminology-1:   0%|          | 0/10 [00:00<?, ?it/s]"
      ]
     },
     "metadata": {},
     "output_type": "display_data"
    },
    {
     "data": {
      "application/vnd.jupyter.widget-view+json": {
       "model_id": "d23f1b17b5df42c79dc9835b5478c2d4",
       "version_major": 2,
       "version_minor": 0
      },
      "text/plain": [
       "images:BA-Drama-and-Creative-Writing-1:   0%|          | 0/10 [00:00<?, ?it/s]"
      ]
     },
     "metadata": {},
     "output_type": "display_data"
    },
    {
     "data": {
      "application/vnd.jupyter.widget-view+json": {
       "model_id": "734b228e52f341dbbdf789257bf2daa4",
       "version_major": 2,
       "version_minor": 0
      },
      "text/plain": [
       "images:MA-Organised-Crime-Terrorism-and-Security-2:   0%|          | 0/10 [00:00<?, ?it/s]"
      ]
     },
     "metadata": {},
     "output_type": "display_data"
    },
    {
     "name": "stdout",
     "output_type": "stream",
     "text": [
      "[INIT].... → Crawl4AI 0.6.2\n",
      "[FETCH]... ↓ https://www.essex.ac.uk/courses/UG00379/1/BA-Sociology-and-Criminology                               | ✓ | ⏱: 36.38s\n",
      "[SCRAPE].. ◆ https://www.essex.ac.uk/courses/UG00379/1/BA-Sociology-and-Criminology                               | ✓ | ⏱: 0.27s\n",
      "[COMPLETE] ● https://www.essex.ac.uk/courses/UG00379/1/BA-Sociology-and-Criminology                               | ✓ | ⏱: 37.06s\n"
     ]
    },
    {
     "data": {
      "application/vnd.jupyter.widget-view+json": {
       "model_id": "3c83d4ce438448bcb1037b54a4591404",
       "version_major": 2,
       "version_minor": 0
      },
      "text/plain": [
       "images:BA-Sociology-and-Criminology-1:   0%|          | 0/10 [00:00<?, ?it/s]"
      ]
     },
     "metadata": {},
     "output_type": "display_data"
    },
    {
     "name": "stdout",
     "output_type": "stream",
     "text": [
      "[INIT].... → Crawl4AI 0.6.2\n",
      "[INIT].... → Crawl4AI 0.6.2\n",
      "[INIT].... → Crawl4AI 0.6.2\n",
      "[FETCH]... ↓ https://www.essex.ac.uk/courses/UG00190/2/BA-History-and-Criminology                                 | ✓ | ⏱: 41.25s\n",
      "[SCRAPE].. ◆ https://www.essex.ac.uk/courses/UG00190/2/BA-History-and-Criminology                                 | ✓ | ⏱: 0.31s\n",
      "[COMPLETE] ● https://www.essex.ac.uk/courses/UG00190/2/BA-History-and-Criminology                                 | ✓ | ⏱: 42.20s\n",
      "[FETCH]... ↓ https://www.essex.ac.uk/courses/UG00089/2/BA-Criminology                                             | ✓ | ⏱: 40.25s\n",
      "[SCRAPE].. ◆ https://www.essex.ac.uk/courses/UG00089/2/BA-Criminology                                             | ✓ | ⏱: 0.45s\n",
      "[COMPLETE] ● https://www.essex.ac.uk/courses/UG00089/2/BA-Criminology                                             | ✓ | ⏱: 41.18s\n",
      "[FETCH]... ↓ https://www.essex.ac.uk/courses/PR00892/3/PhD-Criminology                                            | ✓ | ⏱: 40.18s\n",
      "[SCRAPE].. ◆ https://www.essex.ac.uk/courses/PR00892/3/PhD-Criminology                                            | ✓ | ⏱: 0.28s\n",
      "[COMPLETE] ● https://www.essex.ac.uk/courses/PR00892/3/PhD-Criminology                                            | ✓ | ⏱: 40.95s\n",
      "[FETCH]... ↓ https://www.essex.ac.uk/courses/UG01291/1/BA-Criminology-with-Criminal-Law                           | ✓ | ⏱: 42.44s\n",
      "[SCRAPE].. ◆ https://www.essex.ac.uk/courses/UG01291/1/BA-Criminology-with-Criminal-Law                           | ✓ | ⏱: 0.29s\n",
      "[COMPLETE] ● https://www.essex.ac.uk/courses/UG01291/1/BA-Criminology-with-Criminal-Law                           | ✓ | ⏱: 43.22s\n",
      "[FETCH]... ↓ https://www.essex.ac.uk/courses/PG00702/1/MSc-Organised-Crime-Terrorism-and-Security                 | ✓ | ⏱: 28.94s\n",
      "[SCRAPE].. ◆ https://www.essex.ac.uk/courses/PG00702/1/MSc-Organised-Crime-Terrorism-and-Security                 | ✓ | ⏱: 0.22s\n",
      "[COMPLETE] ● https://www.essex.ac.uk/courses/PG00702/1/MSc-Organised-Crime-Terrorism-and-Security                 | ✓ | ⏱: 29.80s\n"
     ]
    },
    {
     "data": {
      "application/vnd.jupyter.widget-view+json": {
       "model_id": "86e0ab26c3644ddaa9aae9c808cdcb94",
       "version_major": 2,
       "version_minor": 0
      },
      "text/plain": [
       "images:BA-History-and-Criminology-2:   0%|          | 0/10 [00:00<?, ?it/s]"
      ]
     },
     "metadata": {},
     "output_type": "display_data"
    },
    {
     "data": {
      "application/vnd.jupyter.widget-view+json": {
       "model_id": "f0813309676f445f81ad1daa81b12998",
       "version_major": 2,
       "version_minor": 0
      },
      "text/plain": [
       "images:PhD-Criminology-3:   0%|          | 0/10 [00:00<?, ?it/s]"
      ]
     },
     "metadata": {},
     "output_type": "display_data"
    },
    {
     "data": {
      "application/vnd.jupyter.widget-view+json": {
       "model_id": "64d720350f4140c8b04fe6056be8a670",
       "version_major": 2,
       "version_minor": 0
      },
      "text/plain": [
       "images:BA-Criminology-2:   0%|          | 0/10 [00:00<?, ?it/s]"
      ]
     },
     "metadata": {},
     "output_type": "display_data"
    },
    {
     "data": {
      "application/vnd.jupyter.widget-view+json": {
       "model_id": "7b885dfb09cd481f992835506bb1e0b6",
       "version_major": 2,
       "version_minor": 0
      },
      "text/plain": [
       "images:BA-Criminology-with-Criminal-Law-1:   0%|          | 0/10 [00:00<?, ?it/s]"
      ]
     },
     "metadata": {},
     "output_type": "display_data"
    },
    {
     "data": {
      "application/vnd.jupyter.widget-view+json": {
       "model_id": "171532920add41cc9746cc69209f1336",
       "version_major": 2,
       "version_minor": 0
      },
      "text/plain": [
       "images:MSc-Organised-Crime-Terrorism-and-Security-1:   0%|          | 0/10 [00:00<?, ?it/s]"
      ]
     },
     "metadata": {},
     "output_type": "display_data"
    },
    {
     "name": "stdout",
     "output_type": "stream",
     "text": [
      "[ERROR]... × https://www.essex.ac.uk...-with-Social-Psychology  | Error: \n",
      "┌───────────────────────────────────────────────────────────────────────────────────────────────────────────────────────┐\n",
      "│ × Unexpected error in _crawl_web at line 731 in _crawl_web (../../../../../opt/anaconda3/lib/python3.12/site-         │\n",
      "│ packages/crawl4ai/async_crawler_strategy.py):                                                                         │\n",
      "│   Error: Failed on navigating ACS-GOTO:                                                                               │\n",
      "│   Page.goto: Timeout 60000ms exceeded.                                                                                │\n",
      "│   Call log:                                                                                                           │\n",
      "│   - navigating to \"https://www.essex.ac.uk/courses/UG00092/1/BA-Criminology-with-Social-Psychology\", waiting until    │\n",
      "│ \"domcontentloaded\"                                                                                                    │\n",
      "│                                                                                                                       │\n",
      "│                                                                                                                       │\n",
      "│   Code context:                                                                                                       │\n",
      "│   726                       response = await page.goto(                                                               │\n",
      "│   727                           url, wait_until=config.wait_until, timeout=config.page_timeout                        │\n",
      "│   728                       )                                                                                         │\n",
      "│   729                       redirected_url = page.url                                                                 │\n",
      "│   730                   except Error as e:                                                                            │\n",
      "│   731 →                     raise RuntimeError(f\"Failed on navigating ACS-GOTO:\\n{str(e)}\")                           │\n",
      "│   732                                                                                                                 │\n",
      "│   733                   await self.execute_hook(                                                                      │\n",
      "│   734                       \"after_goto\", page, context=context, url=url, response=response, config=config            │\n",
      "│   735                   )                                                                                             │\n",
      "│   736                                                                                                                 │\n",
      "└───────────────────────────────────────────────────────────────────────────────────────────────────────────────────────┘\n",
      "\n",
      "[INIT].... → Crawl4AI 0.6.2\n",
      "[INIT].... → Crawl4AI 0.6.2\n",
      "[INIT].... → Crawl4AI 0.6.2\n",
      "[INIT].... → Crawl4AI 0.6.2\n",
      "[ERROR]... × https://www.essex.ac.uk...G00089/1/BA-Criminology  | Error: \n",
      "┌───────────────────────────────────────────────────────────────────────────────────────────────────────────────────────┐\n",
      "│ × Unexpected error in _crawl_web at line 731 in _crawl_web (../../../../../opt/anaconda3/lib/python3.12/site-         │\n",
      "│ packages/crawl4ai/async_crawler_strategy.py):                                                                         │\n",
      "│   Error: Failed on navigating ACS-GOTO:                                                                               │\n",
      "│   Page.goto: Timeout 60000ms exceeded.                                                                                │\n",
      "│   Call log:                                                                                                           │\n",
      "│   - navigating to \"https://www.essex.ac.uk/courses/UG00089/1/BA-Criminology\", waiting until \"domcontentloaded\"        │\n",
      "│                                                                                                                       │\n",
      "│                                                                                                                       │\n",
      "│   Code context:                                                                                                       │\n",
      "│   726                       response = await page.goto(                                                               │\n",
      "│   727                           url, wait_until=config.wait_until, timeout=config.page_timeout                        │\n",
      "│   728                       )                                                                                         │\n",
      "│   729                       redirected_url = page.url                                                                 │\n",
      "│   730                   except Error as e:                                                                            │\n",
      "│   731 →                     raise RuntimeError(f\"Failed on navigating ACS-GOTO:\\n{str(e)}\")                           │\n",
      "│   732                                                                                                                 │\n",
      "│   733                   await self.execute_hook(                                                                      │\n",
      "│   734                       \"after_goto\", page, context=context, url=url, response=response, config=config            │\n",
      "│   735                   )                                                                                             │\n",
      "│   736                                                                                                                 │\n",
      "└───────────────────────────────────────────────────────────────────────────────────────────────────────────────────────┘\n",
      "\n",
      "[INIT].... → Crawl4AI 0.6.2\n",
      "⚠️  BA-Criminology-with-Social-Psychology-1: Unexpected error in _crawl_web at line 731 in _crawl_web (../../../../../opt/anaconda3/lib/python3.12/site-packages/crawl4ai/async_crawler_strategy.py):\n",
      "Error: Failed on navigating ACS-GOTO:\n",
      "Page.goto: Timeout 60000ms exceeded.\n",
      "Call log:\n",
      "  - navigating to \"https://www.essex.ac.uk/courses/UG00092/1/BA-Criminology-with-Social-Psychology\", waiting until \"domcontentloaded\"\n",
      "\n",
      "\n",
      "Code context:\n",
      " 726                       response = await page.goto(\n",
      " 727                           url, wait_until=config.wait_until, timeout=config.page_timeout\n",
      " 728                       )\n",
      " 729                       redirected_url = page.url\n",
      " 730                   except Error as e:\n",
      " 731 →                     raise RuntimeError(f\"Failed on navigating ACS-GOTO:\\n{str(e)}\")\n",
      " 732   \n",
      " 733                   await self.execute_hook(\n",
      " 734                       \"after_goto\", page, context=context, url=url, response=response, config=config\n",
      " 735                   )\n",
      " 736   \n",
      "⚠️  BA-Criminology-1: Unexpected error in _crawl_web at line 731 in _crawl_web (../../../../../opt/anaconda3/lib/python3.12/site-packages/crawl4ai/async_crawler_strategy.py):\n",
      "Error: Failed on navigating ACS-GOTO:\n",
      "Page.goto: Timeout 60000ms exceeded.\n",
      "Call log:\n",
      "  - navigating to \"https://www.essex.ac.uk/courses/UG00089/1/BA-Criminology\", waiting until \"domcontentloaded\"\n",
      "\n",
      "\n",
      "Code context:\n",
      " 726                       response = await page.goto(\n",
      " 727                           url, wait_until=config.wait_until, timeout=config.page_timeout\n",
      " 728                       )\n",
      " 729                       redirected_url = page.url\n",
      " 730                   except Error as e:\n",
      " 731 →                     raise RuntimeError(f\"Failed on navigating ACS-GOTO:\\n{str(e)}\")\n",
      " 732   \n",
      " 733                   await self.execute_hook(\n",
      " 734                       \"after_goto\", page, context=context, url=url, response=response, config=config\n",
      " 735                   )\n",
      " 736   \n",
      "[INIT].... → Crawl4AI 0.6.2\n",
      "[INIT].... → Crawl4AI 0.6.2\n",
      "[FETCH]... ↓ https://www.essex.ac.uk/courses/UG01290/1/BA-Criminology-with-Counselling-Skills                     | ✓ | ⏱: 75.42s\n",
      "[SCRAPE].. ◆ https://www.essex.ac.uk/courses/UG01290/1/BA-Criminology-with-Counselling-Skills                     | ✓ | ⏱: 0.28s\n",
      "[COMPLETE] ● https://www.essex.ac.uk/courses/UG01290/1/BA-Criminology-with-Counselling-Skills                     | ✓ | ⏱: 76.24s\n"
     ]
    },
    {
     "data": {
      "application/vnd.jupyter.widget-view+json": {
       "model_id": "85196b1551a546dca30417a11a7344f9",
       "version_major": 2,
       "version_minor": 0
      },
      "text/plain": [
       "images:BA-Criminology-with-Counselling-Skills-1:   0%|          | 0/10 [00:00<?, ?it/s]"
      ]
     },
     "metadata": {},
     "output_type": "display_data"
    },
    {
     "name": "stdout",
     "output_type": "stream",
     "text": [
      "[INIT].... → Crawl4AI 0.6.2\n",
      "[SCRAPE].. ◆ Some images failed to load within timeout\n",
      "[FETCH]... ↓ https://www.essex.ac.uk/courses/UG01089/1/BA-Journalism-and-Criminology                              | ✓ | ⏱: 16.30s\n",
      "[SCRAPE].. ◆ https://www.essex.ac.uk/courses/UG01089/1/BA-Journalism-and-Criminology                              | ✓ | ⏱: 0.33s\n",
      "[COMPLETE] ● https://www.essex.ac.uk/courses/UG01089/1/BA-Journalism-and-Criminology                              | ✓ | ⏱: 17.63s\n",
      "[FETCH]... ↓ https://www.essex.ac.uk/courses/PR00892/4/PhD-Criminology                                            | ✓ | ⏱: 18.29s\n",
      "[SCRAPE].. ◆ https://www.essex.ac.uk/courses/PR00892/4/PhD-Criminology                                            | ✓ | ⏱: 0.27s\n",
      "[COMPLETE] ● https://www.essex.ac.uk/courses/PR00892/4/PhD-Criminology                                            | ✓ | ⏱: 19.13s\n",
      "[FETCH]... ↓ https://www.essex.ac.uk/courses/UG00190/1/BA-History-and-Criminology                                 | ✓ | ⏱: 19.82s\n",
      "[SCRAPE].. ◆ https://www.essex.ac.uk/courses/UG00190/1/BA-History-and-Criminology                                 | ✓ | ⏱: 0.31s\n",
      "[COMPLETE] ● https://www.essex.ac.uk/courses/UG00190/1/BA-History-and-Criminology                                 | ✓ | ⏱: 20.63s\n"
     ]
    },
    {
     "data": {
      "application/vnd.jupyter.widget-view+json": {
       "model_id": "8bd8408752f547c49381c3699411a009",
       "version_major": 2,
       "version_minor": 0
      },
      "text/plain": [
       "images:PhD-Criminology-4:   0%|          | 0/10 [00:00<?, ?it/s]"
      ]
     },
     "metadata": {},
     "output_type": "display_data"
    },
    {
     "data": {
      "application/vnd.jupyter.widget-view+json": {
       "model_id": "7445df33794b4affab140b88d3e11044",
       "version_major": 2,
       "version_minor": 0
      },
      "text/plain": [
       "images:BA-Journalism-and-Criminology-1:   0%|          | 0/10 [00:00<?, ?it/s]"
      ]
     },
     "metadata": {},
     "output_type": "display_data"
    },
    {
     "data": {
      "application/vnd.jupyter.widget-view+json": {
       "model_id": "5a174dcdbbb24dd9a0e8b725f12f45a1",
       "version_major": 2,
       "version_minor": 0
      },
      "text/plain": [
       "images:BA-History-and-Criminology-1:   0%|          | 0/10 [00:00<?, ?it/s]"
      ]
     },
     "metadata": {},
     "output_type": "display_data"
    },
    {
     "name": "stdout",
     "output_type": "stream",
     "text": [
      "[INIT].... → Crawl4AI 0.6.2\n",
      "[INIT].... → Crawl4AI 0.6.2\n",
      "[INIT].... → Crawl4AI 0.6.2\n",
      "[FETCH]... ↓ https://www.essex.ac.uk/courses/PG00808/1/MSc-Optimisation-and-Data-Analytics                        | ✓ | ⏱: 25.15s\n",
      "[SCRAPE].. ◆ https://www.essex.ac.uk/courses/PG00808/1/MSc-Optimisation-and-Data-Analytics                        | ✓ | ⏱: 0.28s\n",
      "[COMPLETE] ● https://www.essex.ac.uk/courses/PG00808/1/MSc-Optimisation-and-Data-Analytics                        | ✓ | ⏱: 25.98s\n",
      "[FETCH]... ↓ https://www.essex.ac.uk/courses/PG00521/1/MA-Criminology                                             | ✓ | ⏱: 28.17s\n",
      "[SCRAPE].. ◆ https://www.essex.ac.uk/courses/PG00521/1/MA-Criminology                                             | ✓ | ⏱: 0.32s\n",
      "[COMPLETE] ● https://www.essex.ac.uk/courses/PG00521/1/MA-Criminology                                             | ✓ | ⏱: 29.27s\n"
     ]
    },
    {
     "data": {
      "application/vnd.jupyter.widget-view+json": {
       "model_id": "03b5c0f098dd4230a3b82906235ac5ae",
       "version_major": 2,
       "version_minor": 0
      },
      "text/plain": [
       "images:MSc-Optimisation-and-Data-Analytics-1:   0%|          | 0/10 [00:00<?, ?it/s]"
      ]
     },
     "metadata": {},
     "output_type": "display_data"
    },
    {
     "name": "stdout",
     "output_type": "stream",
     "text": [
      "[FETCH]... ↓ https://www.essex.ac.uk/courses/PR00892/2/MPhil-Criminology                                          | ✓ | ⏱: 39.68s\n",
      "[SCRAPE].. ◆ https://www.essex.ac.uk/courses/PR00892/2/MPhil-Criminology                                          | ✓ | ⏱: 0.27s\n",
      "[COMPLETE] ● https://www.essex.ac.uk/courses/PR00892/2/MPhil-Criminology                                          | ✓ | ⏱: 40.55s\n"
     ]
    },
    {
     "data": {
      "application/vnd.jupyter.widget-view+json": {
       "model_id": "0eb3d3464ff442e8bd5edd26c49dd6a5",
       "version_major": 2,
       "version_minor": 0
      },
      "text/plain": [
       "images:MA-Criminology-1:   0%|          | 0/10 [00:00<?, ?it/s]"
      ]
     },
     "metadata": {},
     "output_type": "display_data"
    },
    {
     "data": {
      "application/vnd.jupyter.widget-view+json": {
       "model_id": "392653a8589249b192aeb337500215c9",
       "version_major": 2,
       "version_minor": 0
      },
      "text/plain": [
       "images:MPhil-Criminology-2:   0%|          | 0/10 [00:00<?, ?it/s]"
      ]
     },
     "metadata": {},
     "output_type": "display_data"
    },
    {
     "name": "stdout",
     "output_type": "stream",
     "text": [
      "[INIT].... → Crawl4AI 0.6.2\n",
      "[FETCH]... ↓ https://www.essex.ac.uk/courses/PG01404/1/MSc-Data-Science-and-its-Applications                      | ✓ | ⏱: 29.76s\n",
      "[SCRAPE].. ◆ https://www.essex.ac.uk/courses/PG01404/1/MSc-Data-Science-and-its-Applications                      | ✓ | ⏱: 0.40s\n",
      "[COMPLETE] ● https://www.essex.ac.uk/courses/PG01404/1/MSc-Data-Science-and-its-Applications                      | ✓ | ⏱: 30.66s\n",
      "[FETCH]... ↓ https://www.essex.ac.uk/courses/PR00892/1/PhD-Criminology                                            | ✓ | ⏱: 40.31s\n",
      "[SCRAPE].. ◆ https://www.essex.ac.uk/courses/PR00892/1/PhD-Criminology                                            | ✓ | ⏱: 0.25s\n",
      "[COMPLETE] ● https://www.essex.ac.uk/courses/PR00892/1/PhD-Criminology                                            | ✓ | ⏱: 41.31s\n",
      "[INIT].... → Crawl4AI 0.6.2\n",
      "[INIT].... → Crawl4AI 0.6.2\n"
     ]
    },
    {
     "data": {
      "application/vnd.jupyter.widget-view+json": {
       "model_id": "2a80efa272b44dfd837e01119edde5f1",
       "version_major": 2,
       "version_minor": 0
      },
      "text/plain": [
       "images:MSc-Data-Science-and-its-Applications-1:   0%|          | 0/10 [00:00<?, ?it/s]"
      ]
     },
     "metadata": {},
     "output_type": "display_data"
    },
    {
     "name": "stdout",
     "output_type": "stream",
     "text": [
      "[SCRAPE].. ◆ Some images failed to load within timeout\n"
     ]
    },
    {
     "data": {
      "application/vnd.jupyter.widget-view+json": {
       "model_id": "2beed265e63340a7803b5c8c021d12b2",
       "version_major": 2,
       "version_minor": 0
      },
      "text/plain": [
       "images:PhD-Criminology-1:   0%|          | 0/10 [00:00<?, ?it/s]"
      ]
     },
     "metadata": {},
     "output_type": "display_data"
    },
    {
     "name": "stdout",
     "output_type": "stream",
     "text": [
      "[FETCH]... ↓ https://www.essex.ac.uk/courses/PG00742/2/MSc-Data-Science                                           | ✓ | ⏱: 26.69s\n",
      "[SCRAPE].. ◆ https://www.essex.ac.uk/courses/PG00742/2/MSc-Data-Science                                           | ✓ | ⏱: 0.29s\n",
      "[COMPLETE] ● https://www.essex.ac.uk/courses/PG00742/2/MSc-Data-Science                                           | ✓ | ⏱: 27.42s\n",
      "[INIT].... → Crawl4AI 0.6.2\n",
      "[INIT].... → Crawl4AI 0.6.2\n"
     ]
    },
    {
     "data": {
      "application/vnd.jupyter.widget-view+json": {
       "model_id": "ae089ccd6e0d4cb099fd23f8e774ea1e",
       "version_major": 2,
       "version_minor": 0
      },
      "text/plain": [
       "images:MSc-Data-Science-2:   0%|          | 0/10 [00:00<?, ?it/s]"
      ]
     },
     "metadata": {},
     "output_type": "display_data"
    },
    {
     "name": "stdout",
     "output_type": "stream",
     "text": [
      "[FETCH]... ↓ https://www.essex.ac.uk/courses/PR00992/1/PhD-Statistics                                             | ✓ | ⏱: 32.03s\n",
      "[SCRAPE].. ◆ https://www.essex.ac.uk/courses/PR00992/1/PhD-Statistics                                             | ✓ | ⏱: 0.23s\n",
      "[COMPLETE] ● https://www.essex.ac.uk/courses/PR00992/1/PhD-Statistics                                             | ✓ | ⏱: 32.74s\n"
     ]
    },
    {
     "data": {
      "application/vnd.jupyter.widget-view+json": {
       "model_id": "0f86276c925b47cface5b39702068a51",
       "version_major": 2,
       "version_minor": 0
      },
      "text/plain": [
       "images:PhD-Statistics-1:   0%|          | 0/10 [00:00<?, ?it/s]"
      ]
     },
     "metadata": {},
     "output_type": "display_data"
    },
    {
     "name": "stdout",
     "output_type": "stream",
     "text": [
      "[INIT].... → Crawl4AI 0.6.2\n",
      "[FETCH]... ↓ https://www.essex.ac.uk/courses/PR01343/1/PhD-Data-Science                                           | ✓ | ⏱: 22.34s\n",
      "[SCRAPE].. ◆ https://www.essex.ac.uk/courses/PR01343/1/PhD-Data-Science                                           | ✓ | ⏱: 0.36s\n",
      "[COMPLETE] ● https://www.essex.ac.uk/courses/PR01343/1/PhD-Data-Science                                           | ✓ | ⏱: 23.37s\n"
     ]
    },
    {
     "data": {
      "application/vnd.jupyter.widget-view+json": {
       "model_id": "f2cd2b1bc2c6476d804cda2a801c830e",
       "version_major": 2,
       "version_minor": 0
      },
      "text/plain": [
       "images:PhD-Data-Science-1:   0%|          | 0/10 [00:00<?, ?it/s]"
      ]
     },
     "metadata": {},
     "output_type": "display_data"
    },
    {
     "name": "stdout",
     "output_type": "stream",
     "text": [
      "[INIT].... → Crawl4AI 0.6.2\n",
      "[FETCH]... ↓ https://www.essex.ac.uk/courses/PR01343/4/PhD-Data-Science                                           | ✓ | ⏱: 22.11s\n",
      "[SCRAPE].. ◆ https://www.essex.ac.uk/courses/PR01343/4/PhD-Data-Science                                           | ✓ | ⏱: 0.24s\n",
      "[COMPLETE] ● https://www.essex.ac.uk/courses/PR01343/4/PhD-Data-Science                                           | ✓ | ⏱: 22.78s\n",
      "[FETCH]... ↓ https://www.essex.ac.uk/courses/PG00808/2/Postgraduate-Diploma-Optimisation-and-Data-Analytics       | ✓ | ⏱: 22.95s\n",
      "[SCRAPE].. ◆ https://www.essex.ac.uk/courses/PG00808/2/Postgraduate-Diploma-Optimisation-and-Data-Analytics       | ✓ | ⏱: 0.27s\n",
      "[COMPLETE] ● https://www.essex.ac.uk/courses/PG00808/2/Postgraduate-Diploma-Optimisation-and-Data-Analytics       | ✓ | ⏱: 23.93s\n",
      "[FETCH]... ↓ https://www.essex.ac.uk/courses/PG01389/1/MSc-Applied-Data-Science                                   | ✓ | ⏱: 42.83s\n",
      "[SCRAPE].. ◆ https://www.essex.ac.uk/courses/PG01389/1/MSc-Applied-Data-Science                                   | ✓ | ⏱: 0.25s\n",
      "[COMPLETE] ● https://www.essex.ac.uk/courses/PG01389/1/MSc-Applied-Data-Science                                   | ✓ | ⏱: 43.53s\n"
     ]
    },
    {
     "data": {
      "application/vnd.jupyter.widget-view+json": {
       "model_id": "d5334c67e95f424286c88e41bc3394e3",
       "version_major": 2,
       "version_minor": 0
      },
      "text/plain": [
       "images:PhD-Data-Science-4:   0%|          | 0/10 [00:00<?, ?it/s]"
      ]
     },
     "metadata": {},
     "output_type": "display_data"
    },
    {
     "name": "stdout",
     "output_type": "stream",
     "text": [
      "[INIT].... → Crawl4AI 0.6.2\n"
     ]
    },
    {
     "data": {
      "application/vnd.jupyter.widget-view+json": {
       "model_id": "dddf5408e459425dbd09d8181e386f6c",
       "version_major": 2,
       "version_minor": 0
      },
      "text/plain": [
       "images:Postgraduate-Diploma-Optimisation-and-Data-Analytics-2:   0%|          | 0/10 [00:00<?, ?it/s]"
      ]
     },
     "metadata": {},
     "output_type": "display_data"
    },
    {
     "data": {
      "application/vnd.jupyter.widget-view+json": {
       "model_id": "f4f434780fa64ee79a1185a1ec69dfe9",
       "version_major": 2,
       "version_minor": 0
      },
      "text/plain": [
       "images:MSc-Applied-Data-Science-1:   0%|          | 0/10 [00:00<?, ?it/s]"
      ]
     },
     "metadata": {},
     "output_type": "display_data"
    },
    {
     "name": "stdout",
     "output_type": "stream",
     "text": [
      "[INIT].... → Crawl4AI 0.6.2\n",
      "[INIT].... → Crawl4AI 0.6.2\n",
      "[INIT].... → Crawl4AI 0.6.2\n",
      "[SCRAPE].. ◆ Some images failed to load within timeout\n",
      "[FETCH]... ↓ https://www.essex.ac.uk/courses/UG00278/1/BSc-Statistics                                             | ✓ | ⏱: 14.96s\n",
      "[SCRAPE].. ◆ https://www.essex.ac.uk/courses/UG00278/1/BSc-Statistics                                             | ✓ | ⏱: 0.28s\n",
      "[COMPLETE] ● https://www.essex.ac.uk/courses/UG00278/1/BSc-Statistics                                             | ✓ | ⏱: 15.71s\n",
      "[FETCH]... ↓ https://www.essex.ac.uk/courses/PR00992/4/PhD-Statistics                                             | ✓ | ⏱: 19.75s\n",
      "[SCRAPE].. ◆ https://www.essex.ac.uk/courses/PR00992/4/PhD-Statistics                                             | ✓ | ⏱: 0.32s\n",
      "[COMPLETE] ● https://www.essex.ac.uk/courses/PR00992/4/PhD-Statistics                                             | ✓ | ⏱: 20.67s\n"
     ]
    },
    {
     "data": {
      "application/vnd.jupyter.widget-view+json": {
       "model_id": "88c92d9e3c0f48269be911feb6266109",
       "version_major": 2,
       "version_minor": 0
      },
      "text/plain": [
       "images:BSc-Statistics-1:   0%|          | 0/10 [00:00<?, ?it/s]"
      ]
     },
     "metadata": {},
     "output_type": "display_data"
    },
    {
     "name": "stdout",
     "output_type": "stream",
     "text": [
      "⚠ cannot fetch https://www.essex.ac.uk/-/media/header-images/data-analytics/data-analytics_ptait_20191107_0772-(1)--autorenamed.jpg?mh=512&mw=512&hash=11F02B030364A4129C913B3E4AC5B470: HTTPSConnectionPool(host='www.essex.ac.uk', port=443): Max retries exceeded with url: /-/media/header-images/data-analytics/data-analytics_ptait_20191107_0772-(1)--autorenamed.jpg?mh=512&mw=512&hash=11F02B030364A4129C913B3E4AC5B470 (Caused by NewConnectionError('<urllib3.connection.HTTPSConnection object at 0x15288ce00>: Failed to establish a new connection: [Errno 61] Connection refused'))\n",
      "[ERROR]... × https://www.essex.ac.uk...Dissertation-Statistics  | Error: \n",
      "┌───────────────────────────────────────────────────────────────────────────────────────────────────────────────────────┐\n",
      "│ × Unexpected error in _crawl_web at line 731 in _crawl_web (../../../../../opt/anaconda3/lib/python3.12/site-         │\n",
      "│ packages/crawl4ai/async_crawler_strategy.py):                                                                         │\n",
      "│   Error: Failed on navigating ACS-GOTO:                                                                               │\n",
      "│   Page.goto: net::ERR_TIMED_OUT at https://www.essex.ac.uk/courses/PR00992/3/MSc-by-Dissertation-Statistics           │\n",
      "│   Call log:                                                                                                           │\n",
      "│   - navigating to \"https://www.essex.ac.uk/courses/PR00992/3/MSc-by-Dissertation-Statistics\", waiting until           │\n",
      "│ \"domcontentloaded\"                                                                                                    │\n",
      "│                                                                                                                       │\n",
      "│                                                                                                                       │\n",
      "│   Code context:                                                                                                       │\n",
      "│   726                       response = await page.goto(                                                               │\n",
      "│   727                           url, wait_until=config.wait_until, timeout=config.page_timeout                        │\n",
      "│   728                       )                                                                                         │\n",
      "│   729                       redirected_url = page.url                                                                 │\n",
      "│   730                   except Error as e:                                                                            │\n",
      "│   731 →                     raise RuntimeError(f\"Failed on navigating ACS-GOTO:\\n{str(e)}\")                           │\n",
      "│   732                                                                                                                 │\n",
      "│   733                   await self.execute_hook(                                                                      │\n",
      "│   734                       \"after_goto\", page, context=context, url=url, response=response, config=config            │\n",
      "│   735                   )                                                                                             │\n",
      "│   736                                                                                                                 │\n",
      "└───────────────────────────────────────────────────────────────────────────────────────────────────────────────────────┘\n",
      "\n"
     ]
    },
    {
     "data": {
      "application/vnd.jupyter.widget-view+json": {
       "model_id": "dbd4eb38f9e94c5bb85bb2fdce7ec81f",
       "version_major": 2,
       "version_minor": 0
      },
      "text/plain": [
       "images:PhD-Statistics-4:   0%|          | 0/10 [00:00<?, ?it/s]"
      ]
     },
     "metadata": {},
     "output_type": "display_data"
    },
    {
     "name": "stdout",
     "output_type": "stream",
     "text": [
      "⚠️  MSc-by-Dissertation-Statistics-3: Unexpected error in _crawl_web at line 731 in _crawl_web (../../../../../opt/anaconda3/lib/python3.12/site-packages/crawl4ai/async_crawler_strategy.py):\n",
      "Error: Failed on navigating ACS-GOTO:\n",
      "Page.goto: net::ERR_TIMED_OUT at https://www.essex.ac.uk/courses/PR00992/3/MSc-by-Dissertation-Statistics\n",
      "Call log:\n",
      "  - navigating to \"https://www.essex.ac.uk/courses/PR00992/3/MSc-by-Dissertation-Statistics\", waiting until \"domcontentloaded\"\n",
      "\n",
      "\n",
      "Code context:\n",
      " 726                       response = await page.goto(\n",
      " 727                           url, wait_until=config.wait_until, timeout=config.page_timeout\n",
      " 728                       )\n",
      " 729                       redirected_url = page.url\n",
      " 730                   except Error as e:\n",
      " 731 →                     raise RuntimeError(f\"Failed on navigating ACS-GOTO:\\n{str(e)}\")\n",
      " 732   \n",
      " 733                   await self.execute_hook(\n",
      " 734                       \"after_goto\", page, context=context, url=url, response=response, config=config\n",
      " 735                   )\n",
      " 736   \n",
      "[INIT].... → Crawl4AI 0.6.2\n",
      "[INIT].... → Crawl4AI 0.6.2\n",
      "[INIT].... → Crawl4AI 0.6.2\n",
      "[FETCH]... ↓ https://www.essex.ac.uk/courses/PR01343/2/MPhil-Data-Science                                         | ✓ | ⏱: 48.33s\n",
      "[SCRAPE].. ◆ https://www.essex.ac.uk/courses/PR01343/2/MPhil-Data-Science                                         | ✓ | ⏱: 0.23s\n",
      "[COMPLETE] ● https://www.essex.ac.uk/courses/PR01343/2/MPhil-Data-Science                                         | ✓ | ⏱: 48.97s\n",
      "[FETCH]... ↓ https://www.essex.ac.uk/courses/PG01022/1/MSc-Statistics                                             | ✓ | ⏱: 73.09s\n",
      "[SCRAPE].. ◆ https://www.essex.ac.uk/courses/PG01022/1/MSc-Statistics                                             | ✓ | ⏱: 0.30s\n",
      "[COMPLETE] ● https://www.essex.ac.uk/courses/PG01022/1/MSc-Statistics                                             | ✓ | ⏱: 73.99s\n",
      "[FETCH]... ↓ https://www.essex.ac.uk/courses/PG00742/1/MSc-Data-Science                                           | ✓ | ⏱: 74.08s\n",
      "[SCRAPE].. ◆ https://www.essex.ac.uk/courses/PG00742/1/MSc-Data-Science                                           | ✓ | ⏱: 0.29s\n",
      "[COMPLETE] ● https://www.essex.ac.uk/courses/PG00742/1/MSc-Data-Science                                           | ✓ | ⏱: 74.99s\n"
     ]
    },
    {
     "data": {
      "application/vnd.jupyter.widget-view+json": {
       "model_id": "84e20586fc2c4e72910af8b31b30dac6",
       "version_major": 2,
       "version_minor": 0
      },
      "text/plain": [
       "images:MPhil-Data-Science-2:   0%|          | 0/10 [00:00<?, ?it/s]"
      ]
     },
     "metadata": {},
     "output_type": "display_data"
    },
    {
     "data": {
      "application/vnd.jupyter.widget-view+json": {
       "model_id": "ae87a875fa8841788245fa7c4da11a9c",
       "version_major": 2,
       "version_minor": 0
      },
      "text/plain": [
       "images:MSc-Statistics-1:   0%|          | 0/10 [00:00<?, ?it/s]"
      ]
     },
     "metadata": {},
     "output_type": "display_data"
    },
    {
     "data": {
      "application/vnd.jupyter.widget-view+json": {
       "model_id": "bc58c039d3c7429db0f61c1ab8955c8b",
       "version_major": 2,
       "version_minor": 0
      },
      "text/plain": [
       "images:MSc-Data-Science-1:   0%|          | 0/10 [00:00<?, ?it/s]"
      ]
     },
     "metadata": {},
     "output_type": "display_data"
    },
    {
     "name": "stdout",
     "output_type": "stream",
     "text": [
      "[INIT].... → Crawl4AI 0.6.2\n",
      "[INIT].... → Crawl4AI 0.6.2\n",
      "[INIT].... → Crawl4AI 0.6.2\n",
      "[FETCH]... ↓ https://www.essex.ac.uk/courses/PR00992/2/MPhil-Statistics                                           | ✓ | ⏱: 67.21s\n",
      "[SCRAPE].. ◆ https://www.essex.ac.uk/courses/PR00992/2/MPhil-Statistics                                           | ✓ | ⏱: 0.24s\n",
      "[COMPLETE] ● https://www.essex.ac.uk/courses/PR00992/2/MPhil-Statistics                                           | ✓ | ⏱: 68.13s\n",
      "[FETCH]... ↓ https://www.essex.ac.uk/courses/PR01343/5/PhD-Data-Science                                           | ✓ | ⏱: 69.90s\n",
      "[SCRAPE].. ◆ https://www.essex.ac.uk/courses/PR01343/5/PhD-Data-Science                                           | ✓ | ⏱: 0.30s\n",
      "[COMPLETE] ● https://www.essex.ac.uk/courses/PR01343/5/PhD-Data-Science                                           | ✓ | ⏱: 70.80s\n",
      "[FETCH]... ↓ https://www.essex.ac.uk/courses/UG01371/1/BA-Film-and-Drama                                          | ✓ | ⏱: 23.72s\n",
      "[SCRAPE].. ◆ https://www.essex.ac.uk/courses/UG01371/1/BA-Film-and-Drama                                          | ✓ | ⏱: 0.44s\n",
      "[COMPLETE] ● https://www.essex.ac.uk/courses/UG01371/1/BA-Film-and-Drama                                          | ✓ | ⏱: 24.66s\n",
      "[FETCH]... ↓ https://www.essex.ac.uk/courses/UG01445/2/BA-History-and-Drama                                       | ✓ | ⏱: 24.75s\n",
      "[SCRAPE].. ◆ https://www.essex.ac.uk/courses/UG01445/2/BA-History-and-Drama                                       | ✓ | ⏱: 0.31s\n",
      "[COMPLETE] ● https://www.essex.ac.uk/courses/UG01445/2/BA-History-and-Drama                                       | ✓ | ⏱: 25.69s\n"
     ]
    },
    {
     "data": {
      "application/vnd.jupyter.widget-view+json": {
       "model_id": "ad02bd65c2bb4ffdb1636ff9ff094ceb",
       "version_major": 2,
       "version_minor": 0
      },
      "text/plain": [
       "images:MPhil-Statistics-2:   0%|          | 0/10 [00:00<?, ?it/s]"
      ]
     },
     "metadata": {},
     "output_type": "display_data"
    },
    {
     "data": {
      "application/vnd.jupyter.widget-view+json": {
       "model_id": "9c53b708208747af9416b177919edaa9",
       "version_major": 2,
       "version_minor": 0
      },
      "text/plain": [
       "images:BA-History-and-Drama-2:   0%|          | 0/10 [00:00<?, ?it/s]"
      ]
     },
     "metadata": {},
     "output_type": "display_data"
    },
    {
     "data": {
      "application/vnd.jupyter.widget-view+json": {
       "model_id": "c4e81aca81524935a56f89d2f7e40cac",
       "version_major": 2,
       "version_minor": 0
      },
      "text/plain": [
       "images:BA-Film-and-Drama-1:   0%|          | 0/10 [00:00<?, ?it/s]"
      ]
     },
     "metadata": {},
     "output_type": "display_data"
    },
    {
     "data": {
      "application/vnd.jupyter.widget-view+json": {
       "model_id": "f9b598a0fcf34749b41769f5fe3400c4",
       "version_major": 2,
       "version_minor": 0
      },
      "text/plain": [
       "images:PhD-Data-Science-5:   0%|          | 0/10 [00:00<?, ?it/s]"
      ]
     },
     "metadata": {},
     "output_type": "display_data"
    },
    {
     "name": "stdout",
     "output_type": "stream",
     "text": [
      "[INIT].... → Crawl4AI 0.6.2\n",
      "[INIT].... → Crawl4AI 0.6.2\n",
      "[INIT].... → Crawl4AI 0.6.2\n",
      "[INIT].... → Crawl4AI 0.6.2\n",
      "[FETCH]... ↓ https://www.essex.ac.uk/courses/UG00097/1/BA-Drama                                                   | ✓ | ⏱: 58.14s\n",
      "[SCRAPE].. ◆ https://www.essex.ac.uk/courses/UG00097/1/BA-Drama                                                   | ✓ | ⏱: 0.28s\n",
      "[COMPLETE] ● https://www.essex.ac.uk/courses/UG00097/1/BA-Drama                                                   | ✓ | ⏱: 58.88s\n",
      "[FETCH]... ↓ https://www.essex.ac.uk/courses/PR00999/1/PhD-Theatre-Studies                                        | ✓ | ⏱: 38.37s\n",
      "[SCRAPE].. ◆ https://www.essex.ac.uk/courses/PR00999/1/PhD-Theatre-Studies                                        | ✓ | ⏱: 0.28s\n",
      "[COMPLETE] ● https://www.essex.ac.uk/courses/PR00999/1/PhD-Theatre-Studies                                        | ✓ | ⏱: 39.30s\n",
      "[FETCH]... ↓ https://www.essex.ac.uk/courses/UG00098/1/BA-Drama-and-Literature                                    | ✓ | ⏱: 38.09s\n",
      "[SCRAPE].. ◆ https://www.essex.ac.uk/courses/UG00098/1/BA-Drama-and-Literature                                    | ✓ | ⏱: 0.45s\n",
      "[COMPLETE] ● https://www.essex.ac.uk/courses/UG00098/1/BA-Drama-and-Literature                                    | ✓ | ⏱: 39.23s\n"
     ]
    },
    {
     "data": {
      "application/vnd.jupyter.widget-view+json": {
       "model_id": "9bf55684fb154f4aa0e403350d1c4ba4",
       "version_major": 2,
       "version_minor": 0
      },
      "text/plain": [
       "images:BA-Drama-1:   0%|          | 0/10 [00:00<?, ?it/s]"
      ]
     },
     "metadata": {},
     "output_type": "display_data"
    },
    {
     "name": "stdout",
     "output_type": "stream",
     "text": [
      "[FETCH]... ↓ https://www.essex.ac.uk/courses/UG01445/1/BA-History-and-Drama                                       | ✓ | ⏱: 44.59s\n",
      "[SCRAPE].. ◆ https://www.essex.ac.uk/courses/UG01445/1/BA-History-and-Drama                                       | ✓ | ⏱: 0.38s\n",
      "[COMPLETE] ● https://www.essex.ac.uk/courses/UG01445/1/BA-History-and-Drama                                       | ✓ | ⏱: 45.59s\n"
     ]
    },
    {
     "data": {
      "application/vnd.jupyter.widget-view+json": {
       "model_id": "99e5314c227c40c688c4e8161b25645a",
       "version_major": 2,
       "version_minor": 0
      },
      "text/plain": [
       "images:BA-Drama-and-Literature-1:   0%|          | 0/10 [00:00<?, ?it/s]"
      ]
     },
     "metadata": {},
     "output_type": "display_data"
    },
    {
     "name": "stdout",
     "output_type": "stream",
     "text": [
      "⚠ cannot fetch https://www.essex.ac.uk/-/media/header-images/subjects/drama-subject-1200x600/drama_ptait_20151027_3029.jpg?mh=512&mw=512&hash=B98E341E7884A1BF6F7BD49902606940: HTTPSConnectionPool(host='www.essex.ac.uk', port=443): Max retries exceeded with url: /-/media/header-images/subjects/drama-subject-1200x600/drama_ptait_20151027_3029.jpg?mh=512&mw=512&hash=B98E341E7884A1BF6F7BD49902606940 (Caused by NewConnectionError('<urllib3.connection.HTTPSConnection object at 0x1525f64e0>: Failed to establish a new connection: [Errno 61] Connection refused'))\n"
     ]
    },
    {
     "data": {
      "application/vnd.jupyter.widget-view+json": {
       "model_id": "125feb45606b46479ba9cf387925e44c",
       "version_major": 2,
       "version_minor": 0
      },
      "text/plain": [
       "images:PhD-Theatre-Studies-1:   0%|          | 0/10 [00:00<?, ?it/s]"
      ]
     },
     "metadata": {},
     "output_type": "display_data"
    },
    {
     "data": {
      "application/vnd.jupyter.widget-view+json": {
       "model_id": "7256578641004d6d8865a0c1781912b3",
       "version_major": 2,
       "version_minor": 0
      },
      "text/plain": [
       "images:BA-History-and-Drama-1:   0%|          | 0/10 [00:00<?, ?it/s]"
      ]
     },
     "metadata": {},
     "output_type": "display_data"
    },
    {
     "name": "stdout",
     "output_type": "stream",
     "text": [
      "[INIT].... → Crawl4AI 0.6.2\n",
      "[INIT].... → Crawl4AI 0.6.2\n",
      "[INIT].... → Crawl4AI 0.6.2\n",
      "[INIT].... → Crawl4AI 0.6.2\n",
      "[FETCH]... ↓ https://www.essex.ac.uk/courses/PR00897/1/PhD-Economics                                              | ✓ | ⏱: 48.14s\n",
      "[SCRAPE].. ◆ https://www.essex.ac.uk/courses/PR00897/1/PhD-Economics                                              | ✓ | ⏱: 0.21s\n",
      "[COMPLETE] ● https://www.essex.ac.uk/courses/PR00897/1/PhD-Economics                                              | ✓ | ⏱: 48.83s\n",
      "[FETCH]... ↓ https://www.essex.ac.uk/courses/PR00898/2/MPhil-Economics-ISER                                       | ✓ | ⏱: 49.01s\n",
      "[SCRAPE].. ◆ https://www.essex.ac.uk/courses/PR00898/2/MPhil-Economics-ISER                                       | ✓ | ⏱: 0.43s\n",
      "[COMPLETE] ● https://www.essex.ac.uk/courses/PR00898/2/MPhil-Economics-ISER                                       | ✓ | ⏱: 50.04s\n",
      "[FETCH]... ↓ https://www.essex.ac.uk/courses/PR00898/1/PhD-Economics-ISER                                         | ✓ | ⏱: 51.34s\n",
      "[SCRAPE].. ◆ https://www.essex.ac.uk/courses/PR00898/1/PhD-Economics-ISER                                         | ✓ | ⏱: 0.28s\n",
      "[COMPLETE] ● https://www.essex.ac.uk/courses/PR00898/1/PhD-Economics-ISER                                         | ✓ | ⏱: 52.32s\n",
      "[FETCH]... ↓ https://www.essex.ac.uk/courses/PR00897/4/PhD-Economics                                              | ✓ | ⏱: 52.16s\n",
      "[SCRAPE].. ◆ https://www.essex.ac.uk/courses/PR00897/4/PhD-Economics                                              | ✓ | ⏱: 0.27s\n",
      "[COMPLETE] ● https://www.essex.ac.uk/courses/PR00897/4/PhD-Economics                                              | ✓ | ⏱: 53.15s\n"
     ]
    },
    {
     "data": {
      "application/vnd.jupyter.widget-view+json": {
       "model_id": "0f1f2dbd6f1e42f787c88d305fe68e62",
       "version_major": 2,
       "version_minor": 0
      },
      "text/plain": [
       "images:MPhil-Economics-ISER-2:   0%|          | 0/10 [00:00<?, ?it/s]"
      ]
     },
     "metadata": {},
     "output_type": "display_data"
    },
    {
     "data": {
      "application/vnd.jupyter.widget-view+json": {
       "model_id": "f37362eb5978495195f487091fc264d0",
       "version_major": 2,
       "version_minor": 0
      },
      "text/plain": [
       "images:PhD-Economics-1:   0%|          | 0/10 [00:00<?, ?it/s]"
      ]
     },
     "metadata": {},
     "output_type": "display_data"
    },
    {
     "data": {
      "application/vnd.jupyter.widget-view+json": {
       "model_id": "3b45242fa0b244ec8edfedfbbf970534",
       "version_major": 2,
       "version_minor": 0
      },
      "text/plain": [
       "images:PhD-Economics-ISER-1:   0%|          | 0/10 [00:00<?, ?it/s]"
      ]
     },
     "metadata": {},
     "output_type": "display_data"
    },
    {
     "data": {
      "application/vnd.jupyter.widget-view+json": {
       "model_id": "19d40327e20f41449d764dcd703c3be6",
       "version_major": 2,
       "version_minor": 0
      },
      "text/plain": [
       "images:PhD-Economics-4:   0%|          | 0/10 [00:00<?, ?it/s]"
      ]
     },
     "metadata": {},
     "output_type": "display_data"
    },
    {
     "name": "stdout",
     "output_type": "stream",
     "text": [
      "[INIT].... → Crawl4AI 0.6.2\n",
      "[INIT].... → Crawl4AI 0.6.2\n",
      "[INIT].... → Crawl4AI 0.6.2\n",
      "[INIT].... → Crawl4AI 0.6.2\n",
      "[FETCH]... ↓ https://www.essex.ac.uk/courses/PG00546/1/MSc-Electronic-Engineering                                 | ✓ | ⏱: 16.99s\n",
      "[SCRAPE].. ◆ https://www.essex.ac.uk/courses/PG00546/1/MSc-Electronic-Engineering                                 | ✓ | ⏱: 0.29s\n",
      "[COMPLETE] ● https://www.essex.ac.uk/courses/PG00546/1/MSc-Electronic-Engineering                                 | ✓ | ⏱: 17.77s\n",
      "[FETCH]... ↓ https://www.essex.ac.uk/courses/PR00897/5/PhD-Economics                                              | ✓ | ⏱: 20.49s\n",
      "[SCRAPE].. ◆ https://www.essex.ac.uk/courses/PR00897/5/PhD-Economics                                              | ✓ | ⏱: 0.25s\n",
      "[COMPLETE] ● https://www.essex.ac.uk/courses/PR00897/5/PhD-Economics                                              | ✓ | ⏱: 21.35s\n"
     ]
    },
    {
     "data": {
      "application/vnd.jupyter.widget-view+json": {
       "model_id": "71ba0d7b59674266a6100bffb43d8a69",
       "version_major": 2,
       "version_minor": 0
      },
      "text/plain": [
       "images:MSc-Electronic-Engineering-1:   0%|          | 0/10 [00:00<?, ?it/s]"
      ]
     },
     "metadata": {},
     "output_type": "display_data"
    },
    {
     "name": "stdout",
     "output_type": "stream",
     "text": [
      "⚠ cannot fetch https://www.essex.ac.uk/-/media/header-images/subjects/engineering_ptait_20180223_5192.jpg?mh=512&mw=512&hash=B24D274C156070EB6EC547A086E76D52: HTTPSConnectionPool(host='www.essex.ac.uk', port=443): Max retries exceeded with url: /-/media/header-images/subjects/engineering_ptait_20180223_5192.jpg?mh=512&mw=512&hash=B24D274C156070EB6EC547A086E76D52 (Caused by ConnectTimeoutError(<urllib3.connection.HTTPSConnection object at 0x1536f0950>, 'Connection to www.essex.ac.uk timed out. (connect timeout=30)'))\n",
      "[FETCH]... ↓ https://www.essex.ac.uk/courses/PR00865/2/MPhil-Applied-Social-and-Economic-Research                 | ✓ | ⏱: 54.02s\n",
      "[SCRAPE].. ◆ https://www.essex.ac.uk/courses/PR00865/2/MPhil-Applied-Social-and-Economic-Research                 | ✓ | ⏱: 0.23s\n",
      "[COMPLETE] ● https://www.essex.ac.uk/courses/PR00865/2/MPhil-Applied-Social-and-Economic-Research                 | ✓ | ⏱: 54.84s\n"
     ]
    },
    {
     "data": {
      "application/vnd.jupyter.widget-view+json": {
       "model_id": "c901ed0e089d4783967bc63d3ac5dd41",
       "version_major": 2,
       "version_minor": 0
      },
      "text/plain": [
       "images:PhD-Economics-5:   0%|          | 0/10 [00:00<?, ?it/s]"
      ]
     },
     "metadata": {},
     "output_type": "display_data"
    },
    {
     "name": "stdout",
     "output_type": "stream",
     "text": [
      "[INIT].... → Crawl4AI 0.6.2\n"
     ]
    },
    {
     "data": {
      "application/vnd.jupyter.widget-view+json": {
       "model_id": "24d074e418ad4dec9f414d7cf3fb1bef",
       "version_major": 2,
       "version_minor": 0
      },
      "text/plain": [
       "images:MPhil-Applied-Social-and-Economic-Research-2:   0%|          | 0/10 [00:00<?, ?it/s]"
      ]
     },
     "metadata": {},
     "output_type": "display_data"
    },
    {
     "name": "stdout",
     "output_type": "stream",
     "text": [
      "[ERROR]... × https://www.essex.ac.uk...-Electronic-Engineering  | Error: \n",
      "┌───────────────────────────────────────────────────────────────────────────────────────────────────────────────────────┐\n",
      "│ × Unexpected error in _crawl_web at line 731 in _crawl_web (../../../../../opt/anaconda3/lib/python3.12/site-         │\n",
      "│ packages/crawl4ai/async_crawler_strategy.py):                                                                         │\n",
      "│   Error: Failed on navigating ACS-GOTO:                                                                               │\n",
      "│   Page.goto: net::ERR_CONNECTION_RESET at https://www.essex.ac.uk/courses/UG00117/1/BEng-Electronic-Engineering       │\n",
      "│   Call log:                                                                                                           │\n",
      "│   - navigating to \"https://www.essex.ac.uk/courses/UG00117/1/BEng-Electronic-Engineering\", waiting until              │\n",
      "│ \"domcontentloaded\"                                                                                                    │\n",
      "│                                                                                                                       │\n",
      "│                                                                                                                       │\n",
      "│   Code context:                                                                                                       │\n",
      "│   726                       response = await page.goto(                                                               │\n",
      "│   727                           url, wait_until=config.wait_until, timeout=config.page_timeout                        │\n",
      "│   728                       )                                                                                         │\n",
      "│   729                       redirected_url = page.url                                                                 │\n",
      "│   730                   except Error as e:                                                                            │\n",
      "│   731 →                     raise RuntimeError(f\"Failed on navigating ACS-GOTO:\\n{str(e)}\")                           │\n",
      "│   732                                                                                                                 │\n",
      "│   733                   await self.execute_hook(                                                                      │\n",
      "│   734                       \"after_goto\", page, context=context, url=url, response=response, config=config            │\n",
      "│   735                   )                                                                                             │\n",
      "│   736                                                                                                                 │\n",
      "└───────────────────────────────────────────────────────────────────────────────────────────────────────────────────────┘\n",
      "\n",
      "[ERROR]... × https://www.essex.ac.uk...munications-Engineering  | Error: \n",
      "┌───────────────────────────────────────────────────────────────────────────────────────────────────────────────────────┐\n",
      "│ × Unexpected error in _crawl_web at line 731 in _crawl_web (../../../../../opt/anaconda3/lib/python3.12/site-         │\n",
      "│ packages/crawl4ai/async_crawler_strategy.py):                                                                         │\n",
      "│   Error: Failed on navigating ACS-GOTO:                                                                               │\n",
      "│   Page.goto: net::ERR_CONNECTION_RESET at https://www.essex.ac.uk/courses/UG00409/1/BEng-Communications-Engineering   │\n",
      "│   Call log:                                                                                                           │\n",
      "│   - navigating to \"https://www.essex.ac.uk/courses/UG00409/1/BEng-Communications-Engineering\", waiting until          │\n",
      "│ \"domcontentloaded\"                                                                                                    │\n",
      "│                                                                                                                       │\n",
      "│                                                                                                                       │\n",
      "│   Code context:                                                                                                       │\n",
      "│   726                       response = await page.goto(                                                               │\n",
      "│   727                           url, wait_until=config.wait_until, timeout=config.page_timeout                        │\n",
      "│   728                       )                                                                                         │\n",
      "│   729                       redirected_url = page.url                                                                 │\n",
      "│   730                   except Error as e:                                                                            │\n",
      "│   731 →                     raise RuntimeError(f\"Failed on navigating ACS-GOTO:\\n{str(e)}\")                           │\n",
      "│   732                                                                                                                 │\n",
      "│   733                   await self.execute_hook(                                                                      │\n",
      "│   734                       \"after_goto\", page, context=context, url=url, response=response, config=config            │\n",
      "│   735                   )                                                                                             │\n",
      "│   736                                                                                                                 │\n",
      "└───────────────────────────────────────────────────────────────────────────────────────────────────────────────────────┘\n",
      "\n",
      "[INIT].... → Crawl4AI 0.6.2\n",
      "[FETCH]... ↓ https://www.essex.ac.uk/courses/PR00865/1/PhD-Applied-Social-and-Economic-Research                   | ✓ | ⏱: 75.74s\n",
      "[SCRAPE].. ◆ https://www.essex.ac.uk/courses/PR00865/1/PhD-Applied-Social-and-Economic-Research                   | ✓ | ⏱: 0.23s\n",
      "[COMPLETE] ● https://www.essex.ac.uk/courses/PR00865/1/PhD-Applied-Social-and-Economic-Research                   | ✓ | ⏱: 76.67s\n",
      "[INIT].... → Crawl4AI 0.6.2\n",
      "⚠️  BEng-Communications-Engineering-1: Unexpected error in _crawl_web at line 731 in _crawl_web (../../../../../opt/anaconda3/lib/python3.12/site-packages/crawl4ai/async_crawler_strategy.py):\n",
      "Error: Failed on navigating ACS-GOTO:\n",
      "Page.goto: net::ERR_CONNECTION_RESET at https://www.essex.ac.uk/courses/UG00409/1/BEng-Communications-Engineering\n",
      "Call log:\n",
      "  - navigating to \"https://www.essex.ac.uk/courses/UG00409/1/BEng-Communications-Engineering\", waiting until \"domcontentloaded\"\n",
      "\n",
      "\n",
      "Code context:\n",
      " 726                       response = await page.goto(\n",
      " 727                           url, wait_until=config.wait_until, timeout=config.page_timeout\n",
      " 728                       )\n",
      " 729                       redirected_url = page.url\n",
      " 730                   except Error as e:\n",
      " 731 →                     raise RuntimeError(f\"Failed on navigating ACS-GOTO:\\n{str(e)}\")\n",
      " 732   \n",
      " 733                   await self.execute_hook(\n",
      " 734                       \"after_goto\", page, context=context, url=url, response=response, config=config\n",
      " 735                   )\n",
      " 736   \n",
      "⚠️  BEng-Electronic-Engineering-1: Unexpected error in _crawl_web at line 731 in _crawl_web (../../../../../opt/anaconda3/lib/python3.12/site-packages/crawl4ai/async_crawler_strategy.py):\n",
      "Error: Failed on navigating ACS-GOTO:\n",
      "Page.goto: net::ERR_CONNECTION_RESET at https://www.essex.ac.uk/courses/UG00117/1/BEng-Electronic-Engineering\n",
      "Call log:\n",
      "  - navigating to \"https://www.essex.ac.uk/courses/UG00117/1/BEng-Electronic-Engineering\", waiting until \"domcontentloaded\"\n",
      "\n",
      "\n",
      "Code context:\n",
      " 726                       response = await page.goto(\n",
      " 727                           url, wait_until=config.wait_until, timeout=config.page_timeout\n",
      " 728                       )\n",
      " 729                       redirected_url = page.url\n",
      " 730                   except Error as e:\n",
      " 731 →                     raise RuntimeError(f\"Failed on navigating ACS-GOTO:\\n{str(e)}\")\n",
      " 732   \n",
      " 733                   await self.execute_hook(\n",
      " 734                       \"after_goto\", page, context=context, url=url, response=response, config=config\n",
      " 735                   )\n",
      " 736   \n"
     ]
    },
    {
     "data": {
      "application/vnd.jupyter.widget-view+json": {
       "model_id": "172336d2769f487f9d485f03725b2591",
       "version_major": 2,
       "version_minor": 0
      },
      "text/plain": [
       "images:PhD-Applied-Social-and-Economic-Research-1:   0%|          | 0/10 [00:00<?, ?it/s]"
      ]
     },
     "metadata": {},
     "output_type": "display_data"
    },
    {
     "name": "stdout",
     "output_type": "stream",
     "text": [
      "[INIT].... → Crawl4AI 0.6.2\n",
      "[INIT].... → Crawl4AI 0.6.2\n",
      "[INIT].... → Crawl4AI 0.6.2\n",
      "[FETCH]... ↓ https://www.essex.ac.uk/courses/PG00819/1/MSc-5G-and-Emerging-Communication-Systems                  | ✓ | ⏱: 25.48s\n",
      "[SCRAPE].. ◆ https://www.essex.ac.uk/courses/PG00819/1/MSc-5G-and-Emerging-Communication-Systems                  | ✓ | ⏱: 0.36s\n",
      "[COMPLETE] ● https://www.essex.ac.uk/courses/PG00819/1/MSc-5G-and-Emerging-Communication-Systems                  | ✓ | ⏱: 26.42s\n",
      "[FETCH]... ↓ https://www.essex.ac.uk/courses/UG00117/3/BEng-Electronic-Engineering                                | ✓ | ⏱: 68.20s\n",
      "[SCRAPE].. ◆ https://www.essex.ac.uk/courses/UG00117/3/BEng-Electronic-Engineering                                | ✓ | ⏱: 0.29s\n",
      "[COMPLETE] ● https://www.essex.ac.uk/courses/UG00117/3/BEng-Electronic-Engineering                                | ✓ | ⏱: 69.15s\n",
      "[FETCH]... ↓ https://www.essex.ac.uk/courses/UG01361/1/BEng-Neural-Engineering-with-Psychology                    | ✓ | ⏱: 70.13s\n",
      "[SCRAPE].. ◆ https://www.essex.ac.uk/courses/UG01361/1/BEng-Neural-Engineering-with-Psychology                    | ✓ | ⏱: 0.26s\n",
      "[COMPLETE] ● https://www.essex.ac.uk/courses/UG01361/1/BEng-Neural-Engineering-with-Psychology                    | ✓ | ⏱: 71.33s\n"
     ]
    },
    {
     "data": {
      "application/vnd.jupyter.widget-view+json": {
       "model_id": "443a0a2bc1284334928bf12d2ed73ff9",
       "version_major": 2,
       "version_minor": 0
      },
      "text/plain": [
       "images:MSc-5G-and-Emerging-Communication-Systems-1:   0%|          | 0/10 [00:00<?, ?it/s]"
      ]
     },
     "metadata": {},
     "output_type": "display_data"
    },
    {
     "data": {
      "application/vnd.jupyter.widget-view+json": {
       "model_id": "066a7ddffcd048d1999a11babc73f66d",
       "version_major": 2,
       "version_minor": 0
      },
      "text/plain": [
       "images:BEng-Electronic-Engineering-3:   0%|          | 0/10 [00:00<?, ?it/s]"
      ]
     },
     "metadata": {},
     "output_type": "display_data"
    },
    {
     "data": {
      "application/vnd.jupyter.widget-view+json": {
       "model_id": "86273c389a4941c69c8f6564d9c368d3",
       "version_major": 2,
       "version_minor": 0
      },
      "text/plain": [
       "images:BEng-Neural-Engineering-with-Psychology-1:   0%|          | 0/10 [00:00<?, ?it/s]"
      ]
     },
     "metadata": {},
     "output_type": "display_data"
    },
    {
     "name": "stdout",
     "output_type": "stream",
     "text": [
      "[INIT].... → Crawl4AI 0.6.2\n",
      "[INIT].... → Crawl4AI 0.6.2\n",
      "[INIT].... → Crawl4AI 0.6.2\n",
      "[FETCH]... ↓ https://www.essex.ac.uk/courses/UG01326/1/BEng-Mechatronic-Systems                                   | ✓ | ⏱: 49.41s\n",
      "[SCRAPE].. ◆ https://www.essex.ac.uk/courses/UG01326/1/BEng-Mechatronic-Systems                                   | ✓ | ⏱: 0.33s\n",
      "[COMPLETE] ● https://www.essex.ac.uk/courses/UG01326/1/BEng-Mechatronic-Systems                                   | ✓ | ⏱: 50.38s\n"
     ]
    },
    {
     "data": {
      "application/vnd.jupyter.widget-view+json": {
       "model_id": "c875302ea1084d80915aea9f40161a31",
       "version_major": 2,
       "version_minor": 0
      },
      "text/plain": [
       "images:BEng-Mechatronic-Systems-1:   0%|          | 0/10 [00:00<?, ?it/s]"
      ]
     },
     "metadata": {},
     "output_type": "display_data"
    },
    {
     "name": "stdout",
     "output_type": "stream",
     "text": [
      "[FETCH]... ↓ https://www.essex.ac.uk/courses/PR01405/4/Engineering                                                | ✓ | ⏱: 51.00s\n",
      "[SCRAPE].. ◆ https://www.essex.ac.uk/courses/PR01405/4/Engineering                                                | ✓ | ⏱: 0.18s\n",
      "[COMPLETE] ● https://www.essex.ac.uk/courses/PR01405/4/Engineering                                                | ✓ | ⏱: 52.01s\n",
      "[INIT].... → Crawl4AI 0.6.2\n",
      "[SCRAPE].. ◆ Some images failed to load within timeout\n",
      "[FETCH]... ↓ https://www.essex.ac.uk/courses/PR00900/1/PhD-Electronic-Systems-Engineering                         | ✓ | ⏱: 53.72s\n",
      "[SCRAPE].. ◆ https://www.essex.ac.uk/courses/PR00900/1/PhD-Electronic-Systems-Engineering                         | ✓ | ⏱: 0.42s\n",
      "[COMPLETE] ● https://www.essex.ac.uk/courses/PR00900/1/PhD-Electronic-Systems-Engineering                         | ✓ | ⏱: 54.84s\n",
      "[FETCH]... ↓ https://www.essex.ac.uk/courses/PR00900/2/MPhil-Electronic-Systems-Engineering                       | ✓ | ⏱: 59.43s\n",
      "[SCRAPE].. ◆ https://www.essex.ac.uk/courses/PR00900/2/MPhil-Electronic-Systems-Engineering                       | ✓ | ⏱: 0.25s\n",
      "[COMPLETE] ● https://www.essex.ac.uk/courses/PR00900/2/MPhil-Electronic-Systems-Engineering                       | ✓ | ⏱: 60.27s\n",
      "[FETCH]... ↓ https://www.essex.ac.uk/courses/PR00900/3/MSc-by-Dissertation-Electronic-Systems-Engineering         | ✓ | ⏱: 55.89s\n",
      "[SCRAPE].. ◆ https://www.essex.ac.uk/courses/PR00900/3/MSc-by-Dissertation-Electronic-Systems-Engineering         | ✓ | ⏱: 0.22s\n",
      "[COMPLETE] ● https://www.essex.ac.uk/courses/PR00900/3/MSc-by-Dissertation-Electronic-Systems-Engineering         | ✓ | ⏱: 56.74s\n"
     ]
    },
    {
     "data": {
      "application/vnd.jupyter.widget-view+json": {
       "model_id": "464fee99b7a343dfbdc82278922f2221",
       "version_major": 2,
       "version_minor": 0
      },
      "text/plain": [
       "images:Engineering-4:   0%|          | 0/11 [00:00<?, ?it/s]"
      ]
     },
     "metadata": {},
     "output_type": "display_data"
    },
    {
     "data": {
      "application/vnd.jupyter.widget-view+json": {
       "model_id": "d4b559a5e3114c009a8259fcf9f9c482",
       "version_major": 2,
       "version_minor": 0
      },
      "text/plain": [
       "images:PhD-Electronic-Systems-Engineering-1:   0%|          | 0/10 [00:00<?, ?it/s]"
      ]
     },
     "metadata": {},
     "output_type": "display_data"
    },
    {
     "data": {
      "application/vnd.jupyter.widget-view+json": {
       "model_id": "f2c80ea5a7744dadb8c545f21139015e",
       "version_major": 2,
       "version_minor": 0
      },
      "text/plain": [
       "images:MPhil-Electronic-Systems-Engineering-2:   0%|          | 0/10 [00:00<?, ?it/s]"
      ]
     },
     "metadata": {},
     "output_type": "display_data"
    },
    {
     "data": {
      "application/vnd.jupyter.widget-view+json": {
       "model_id": "aad82a81e60a4fb6ab07b85652aa5d68",
       "version_major": 2,
       "version_minor": 0
      },
      "text/plain": [
       "images:MSc-by-Dissertation-Electronic-Systems-Engineering-3:   0%|          | 0/10 [00:00<?, ?it/s]"
      ]
     },
     "metadata": {},
     "output_type": "display_data"
    },
    {
     "name": "stdout",
     "output_type": "stream",
     "text": [
      "[INIT].... → Crawl4AI 0.6.2\n",
      "[FETCH]... ↓ https://www.essex.ac.uk/courses/UG00132/1/BA-English-Language-and-Literature                         | ✓ | ⏱: 48.98s\n",
      "[SCRAPE].. ◆ https://www.essex.ac.uk/courses/UG00132/1/BA-English-Language-and-Literature                         | ✓ | ⏱: 0.34s\n",
      "[COMPLETE] ● https://www.essex.ac.uk/courses/UG00132/1/BA-English-Language-and-Literature                         | ✓ | ⏱: 49.89s\n",
      "[INIT].... → Crawl4AI 0.6.2\n",
      "[INIT].... → Crawl4AI 0.6.2\n",
      "[INIT].... → Crawl4AI 0.6.2\n"
     ]
    },
    {
     "data": {
      "application/vnd.jupyter.widget-view+json": {
       "model_id": "d30d0e9bfbce4f6ca8378f2db07de111",
       "version_major": 2,
       "version_minor": 0
      },
      "text/plain": [
       "images:BA-English-Language-and-Literature-1:   0%|          | 0/10 [00:00<?, ?it/s]"
      ]
     },
     "metadata": {},
     "output_type": "display_data"
    },
    {
     "name": "stdout",
     "output_type": "stream",
     "text": [
      "[INIT].... → Crawl4AI 0.6.2\n",
      "[FETCH]... ↓ https://www.essex.ac.uk/courses/PR00900/5/PhD-Electronic-Systems-Engineering                         | ✓ | ⏱: 55.87s\n",
      "[SCRAPE].. ◆ https://www.essex.ac.uk/courses/PR00900/5/PhD-Electronic-Systems-Engineering                         | ✓ | ⏱: 0.46s\n",
      "[COMPLETE] ● https://www.essex.ac.uk/courses/PR00900/5/PhD-Electronic-Systems-Engineering                         | ✓ | ⏱: 57.01s\n",
      "[FETCH]... ↓ https://www.essex.ac.uk/courses/PG00555/1/MA-English-Language-and-Linguistics                        | ✓ | ⏱: 56.60s\n",
      "[SCRAPE].. ◆ https://www.essex.ac.uk/courses/PG00555/1/MA-English-Language-and-Linguistics                        | ✓ | ⏱: 0.26s\n",
      "[COMPLETE] ● https://www.essex.ac.uk/courses/PG00555/1/MA-English-Language-and-Linguistics                        | ✓ | ⏱: 57.56s\n",
      "[FETCH]... ↓ https://www.essex.ac.uk/courses/UG00129/1/BA-Teaching-English-as-a-Foreign-Language-TEFL             | ✓ | ⏱: 46.26s\n",
      "[SCRAPE].. ◆ https://www.essex.ac.uk/courses/UG00129/1/BA-Teaching-English-as-a-Foreign-Language-TEFL             | ✓ | ⏱: 0.19s\n",
      "[COMPLETE] ● https://www.essex.ac.uk/courses/UG00129/1/BA-Teaching-English-as-a-Foreign-Language-TEFL             | ✓ | ⏱: 47.17s\n"
     ]
    },
    {
     "data": {
      "application/vnd.jupyter.widget-view+json": {
       "model_id": "a17d4d86235e4198a37a1b26eb8325c3",
       "version_major": 2,
       "version_minor": 0
      },
      "text/plain": [
       "images:PhD-Electronic-Systems-Engineering-5:   0%|          | 0/10 [00:00<?, ?it/s]"
      ]
     },
     "metadata": {},
     "output_type": "display_data"
    },
    {
     "data": {
      "application/vnd.jupyter.widget-view+json": {
       "model_id": "0217827f52de450aa036c62698e7e8cc",
       "version_major": 2,
       "version_minor": 0
      },
      "text/plain": [
       "images:MA-English-Language-and-Linguistics-1:   0%|          | 0/10 [00:00<?, ?it/s]"
      ]
     },
     "metadata": {},
     "output_type": "display_data"
    },
    {
     "data": {
      "application/vnd.jupyter.widget-view+json": {
       "model_id": "06447209629d4602b2041442c04665d7",
       "version_major": 2,
       "version_minor": 0
      },
      "text/plain": [
       "images:BA-Teaching-English-as-a-Foreign-Language-TEFL-1:   0%|          | 0/10 [00:00<?, ?it/s]"
      ]
     },
     "metadata": {},
     "output_type": "display_data"
    },
    {
     "name": "stdout",
     "output_type": "stream",
     "text": [
      "[INIT].... → Crawl4AI 0.6.2\n",
      "[INIT].... → Crawl4AI 0.6.2\n",
      "[INIT].... → Crawl4AI 0.6.2\n",
      "[FETCH]... ↓ https://www.essex.ac.uk/courses/PG00815/1/MA-Teaching-English-to-Speakers-of-Other-Languages-TESOL   | ✓ | ⏱: 3.50s\n",
      "[SCRAPE].. ◆ https://www.essex.ac.uk/courses/PG00815/1/MA-Teaching-English-to-Speakers-of-Other-Languages-TESOL   | ✓ | ⏱: 0.30s\n",
      "[COMPLETE] ● https://www.essex.ac.uk/courses/PG00815/1/MA-Teaching-English-to-Speakers-of-Other-Languages-TESOL   | ✓ | ⏱: 4.47s\n"
     ]
    },
    {
     "data": {
      "application/vnd.jupyter.widget-view+json": {
       "model_id": "13af89e5dd2d4067a8db31a3ff778402",
       "version_major": 2,
       "version_minor": 0
      },
      "text/plain": [
       "images:MA-Teaching-English-to-Speakers-of-Other-Languages-TESOL-1:   0%|          | 0/10 [00:00<?, ?it/s]"
      ]
     },
     "metadata": {},
     "output_type": "display_data"
    },
    {
     "name": "stdout",
     "output_type": "stream",
     "text": [
      "[INIT].... → Crawl4AI 0.6.2\n",
      "[FETCH]... ↓ https://www.essex.ac.uk/courses/UG00295/2/BA-Modern-Languages-and-English-Language                   | ✓ | ⏱: 28.84s\n",
      "[SCRAPE].. ◆ https://www.essex.ac.uk/courses/UG00295/2/BA-Modern-Languages-and-English-Language                   | ✓ | ⏱: 0.58s\n",
      "[COMPLETE] ● https://www.essex.ac.uk/courses/UG00295/2/BA-Modern-Languages-and-English-Language                   | ✓ | ⏱: 30.32s\n",
      "[FETCH]... ↓ https://www.essex.ac.uk/courses/UG00131/2/BA-English-Language-and-Linguistics                        | ✓ | ⏱: 29.36s\n",
      "[SCRAPE].. ◆ https://www.essex.ac.uk/courses/UG00131/2/BA-English-Language-and-Linguistics                        | ✓ | ⏱: 0.29s\n",
      "[COMPLETE] ● https://www.essex.ac.uk/courses/UG00131/2/BA-English-Language-and-Linguistics                        | ✓ | ⏱: 30.43s\n"
     ]
    },
    {
     "data": {
      "application/vnd.jupyter.widget-view+json": {
       "model_id": "f640b342b3194b55bbf53a1fdaed6a2a",
       "version_major": 2,
       "version_minor": 0
      },
      "text/plain": [
       "images:BA-Modern-Languages-and-English-Language-2:   0%|          | 0/10 [00:00<?, ?it/s]"
      ]
     },
     "metadata": {},
     "output_type": "display_data"
    },
    {
     "data": {
      "application/vnd.jupyter.widget-view+json": {
       "model_id": "86335103148d41958f92d3a9ee30b4e7",
       "version_major": 2,
       "version_minor": 0
      },
      "text/plain": [
       "images:BA-English-Language-and-Linguistics-2:   0%|          | 0/10 [00:00<?, ?it/s]"
      ]
     },
     "metadata": {},
     "output_type": "display_data"
    },
    {
     "name": "stdout",
     "output_type": "stream",
     "text": [
      "[SCRAPE].. ◆ Some images failed to load within timeout\n",
      "[FETCH]... ↓ https://www.essex.ac.uk/courses/UG00131/1/BA-English-Language-and-Linguistics                        | ✓ | ⏱: 59.20s\n",
      "[SCRAPE].. ◆ https://www.essex.ac.uk/courses/UG00131/1/BA-English-Language-and-Linguistics                        | ✓ | ⏱: 0.36s\n",
      "[COMPLETE] ● https://www.essex.ac.uk/courses/UG00131/1/BA-English-Language-and-Linguistics                        | ✓ | ⏱: 60.39s\n",
      "[INIT].... → Crawl4AI 0.6.2\n",
      "[INIT].... → Crawl4AI 0.6.2\n",
      "[FETCH]... ↓ https://www.essex.ac.uk/courses/UG00295/1/BA-Modern-Languages-and-English-Language                   | ✓ | ⏱: 47.10s\n",
      "[SCRAPE].. ◆ https://www.essex.ac.uk/courses/UG00295/1/BA-Modern-Languages-and-English-Language                   | ✓ | ⏱: 0.34s\n",
      "[COMPLETE] ● https://www.essex.ac.uk/courses/UG00295/1/BA-Modern-Languages-and-English-Language                   | ✓ | ⏱: 48.27s\n"
     ]
    },
    {
     "data": {
      "application/vnd.jupyter.widget-view+json": {
       "model_id": "768386eee25a4feda6dab7650d46d2ec",
       "version_major": 2,
       "version_minor": 0
      },
      "text/plain": [
       "images:BA-English-Language-and-Linguistics-1:   0%|          | 0/10 [00:00<?, ?it/s]"
      ]
     },
     "metadata": {},
     "output_type": "display_data"
    },
    {
     "name": "stdout",
     "output_type": "stream",
     "text": [
      "[FETCH]... ↓ https://www.essex.ac.uk/courses/PR00902/3/PhD-English-Language-Teaching                              | ✓ | ⏱: 52.30s\n",
      "[SCRAPE].. ◆ https://www.essex.ac.uk/courses/PR00902/3/PhD-English-Language-Teaching                              | ✓ | ⏱: 0.27s\n",
      "[COMPLETE] ● https://www.essex.ac.uk/courses/PR00902/3/PhD-English-Language-Teaching                              | ✓ | ⏱: 53.43s\n",
      "[SCRAPE].. ◆ Some images failed to load within timeout\n"
     ]
    },
    {
     "data": {
      "application/vnd.jupyter.widget-view+json": {
       "model_id": "589fed3a6fe04cf88335a0b8dcb49b5f",
       "version_major": 2,
       "version_minor": 0
      },
      "text/plain": [
       "images:BA-Modern-Languages-and-English-Language-1:   0%|          | 0/10 [00:00<?, ?it/s]"
      ]
     },
     "metadata": {},
     "output_type": "display_data"
    },
    {
     "data": {
      "application/vnd.jupyter.widget-view+json": {
       "model_id": "6ea8fca19ede456382d462e6433ec490",
       "version_major": 2,
       "version_minor": 0
      },
      "text/plain": [
       "images:PhD-English-Language-Teaching-3:   0%|          | 0/10 [00:00<?, ?it/s]"
      ]
     },
     "metadata": {},
     "output_type": "display_data"
    },
    {
     "name": "stdout",
     "output_type": "stream",
     "text": [
      "[INIT].... → Crawl4AI 0.6.2\n",
      "[INIT].... → Crawl4AI 0.6.2\n",
      "[INIT].... → Crawl4AI 0.6.2\n",
      "[FETCH]... ↓ https://www.essex.ac.uk/courses/UG00247/1/Integrated-Master-in-Literature-Literature                 | ✓ | ⏱: 72.94s\n",
      "[SCRAPE].. ◆ https://www.essex.ac.uk/courses/UG00247/1/Integrated-Master-in-Literature-Literature                 | ✓ | ⏱: 0.32s\n",
      "[COMPLETE] ● https://www.essex.ac.uk/courses/UG00247/1/Integrated-Master-in-Literature-Literature                 | ✓ | ⏱: 73.92s\n",
      "[FETCH]... ↓ https://www.essex.ac.uk/courses/UG00297/2/BA-Mod...uages-and-Teaching-English-as-a-Foreign-Language  | ✓ | ⏱: 55.80s\n",
      "[SCRAPE].. ◆ https://www.essex.ac.uk/courses/UG00297/2/BA-Mod...uages-and-Teaching-English-as-a-Foreign-Language  | ✓ | ⏱: 0.57s\n",
      "[COMPLETE] ● https://www.essex.ac.uk/courses/UG00297/2/BA-Mod...uages-and-Teaching-English-as-a-Foreign-Language  | ✓ | ⏱: 57.16s\n",
      "[FETCH]... ↓ https://www.essex.ac.uk/courses/PR00902/5/PhD-English-Language-Teaching                              | ✓ | ⏱: 78.50s\n",
      "[SCRAPE].. ◆ https://www.essex.ac.uk/courses/PR00902/5/PhD-English-Language-Teaching                              | ✓ | ⏱: 0.24s\n",
      "[COMPLETE] ● https://www.essex.ac.uk/courses/PR00902/5/PhD-English-Language-Teaching                              | ✓ | ⏱: 79.35s\n"
     ]
    },
    {
     "data": {
      "application/vnd.jupyter.widget-view+json": {
       "model_id": "4e7bd851776c49aa8c149578daa1568a",
       "version_major": 2,
       "version_minor": 0
      },
      "text/plain": [
       "images:Integrated-Master-in-Literature-Literature-1:   0%|          | 0/10 [00:00<?, ?it/s]"
      ]
     },
     "metadata": {},
     "output_type": "display_data"
    },
    {
     "data": {
      "application/vnd.jupyter.widget-view+json": {
       "model_id": "a91b4300aedb4e249b355a44f258d56e",
       "version_major": 2,
       "version_minor": 0
      },
      "text/plain": [
       "images:BA-Modern-Languages-and-Teaching-English-as-a-Foreign-Language-2:   0%|          | 0/10 [00:00<?, ?it/s…"
      ]
     },
     "metadata": {},
     "output_type": "display_data"
    },
    {
     "data": {
      "application/vnd.jupyter.widget-view+json": {
       "model_id": "06a4f9536b1845388368662923ab6c60",
       "version_major": 2,
       "version_minor": 0
      },
      "text/plain": [
       "images:PhD-English-Language-Teaching-5:   0%|          | 0/10 [00:00<?, ?it/s]"
      ]
     },
     "metadata": {},
     "output_type": "display_data"
    },
    {
     "name": "stdout",
     "output_type": "stream",
     "text": [
      "[INIT].... → Crawl4AI 0.6.2\n",
      "[INIT].... → Crawl4AI 0.6.2\n",
      "[INIT].... → Crawl4AI 0.6.2\n",
      "[SCRAPE].. ◆ Some images failed to load within timeout\n",
      "[FETCH]... ↓ https://www.essex.ac.uk/courses/PR00902/1/PhD-English-Language-Teaching                              | ✓ | ⏱: 43.31s\n",
      "[SCRAPE].. ◆ https://www.essex.ac.uk/courses/PR00902/1/PhD-English-Language-Teaching                              | ✓ | ⏱: 0.26s\n",
      "[COMPLETE] ● https://www.essex.ac.uk/courses/PR00902/1/PhD-English-Language-Teaching                              | ✓ | ⏱: 44.15s\n",
      "[FETCH]... ↓ https://www.essex.ac.uk/courses/UG00297/1/BA-Mod...uages-and-Teaching-English-as-a-Foreign-Language  | ✓ | ⏱: 44.29s\n",
      "[SCRAPE].. ◆ https://www.essex.ac.uk/courses/UG00297/1/BA-Mod...uages-and-Teaching-English-as-a-Foreign-Language  | ✓ | ⏱: 0.28s\n",
      "[COMPLETE] ● https://www.essex.ac.uk/courses/UG00297/1/BA-Mod...uages-and-Teaching-English-as-a-Foreign-Language  | ✓ | ⏱: 45.14s\n",
      "[FETCH]... ↓ https://www.essex.ac.uk/courses/PG01406/2/MSc-Environmental-Futures-with-Climate-Change              | ✓ | ⏱: 32.08s\n",
      "[SCRAPE].. ◆ https://www.essex.ac.uk/courses/PG01406/2/MSc-Environmental-Futures-with-Climate-Change              | ✓ | ⏱: 0.27s\n",
      "[COMPLETE] ● https://www.essex.ac.uk/courses/PG01406/2/MSc-Environmental-Futures-with-Climate-Change              | ✓ | ⏱: 33.00s\n"
     ]
    },
    {
     "data": {
      "application/vnd.jupyter.widget-view+json": {
       "model_id": "e268b277ac73412aaed081ed92396736",
       "version_major": 2,
       "version_minor": 0
      },
      "text/plain": [
       "images:PhD-English-Language-Teaching-1:   0%|          | 0/10 [00:00<?, ?it/s]"
      ]
     },
     "metadata": {},
     "output_type": "display_data"
    },
    {
     "data": {
      "application/vnd.jupyter.widget-view+json": {
       "model_id": "7b32591339a94198bf8d78e8bc114bfe",
       "version_major": 2,
       "version_minor": 0
      },
      "text/plain": [
       "images:BA-Modern-Languages-and-Teaching-English-as-a-Foreign-Language-1:   0%|          | 0/10 [00:00<?, ?it/s…"
      ]
     },
     "metadata": {},
     "output_type": "display_data"
    },
    {
     "name": "stdout",
     "output_type": "stream",
     "text": [
      "[FETCH]... ↓ https://www.essex.ac.uk/courses/PG01542/1/LLM-Law-Environment-and-Sustainability                     | ✓ | ⏱: 36.31s\n",
      "[SCRAPE].. ◆ https://www.essex.ac.uk/courses/PG01542/1/LLM-Law-Environment-and-Sustainability                     | ✓ | ⏱: 0.27s\n",
      "[COMPLETE] ● https://www.essex.ac.uk/courses/PG01542/1/LLM-Law-Environment-and-Sustainability                     | ✓ | ⏱: 37.19s\n",
      "[FETCH]... ↓ https://www.essex.ac.uk/courses/PG00639/1/MSc-International-Marketing-and-Business-Intelligence      | ✓ | ⏱: 38.70s\n",
      "[SCRAPE].. ◆ https://www.essex.ac.uk/courses/PG00639/1/MSc-International-Marketing-and-Business-Intelligence      | ✓ | ⏱: 0.25s\n",
      "[COMPLETE] ● https://www.essex.ac.uk/courses/PG00639/1/MSc-International-Marketing-and-Business-Intelligence      | ✓ | ⏱: 39.79s\n"
     ]
    },
    {
     "data": {
      "application/vnd.jupyter.widget-view+json": {
       "model_id": "fe2052529f8649b9bc534b20b9ed0487",
       "version_major": 2,
       "version_minor": 0
      },
      "text/plain": [
       "images:MSc-Environmental-Futures-with-Climate-Change-2:   0%|          | 0/10 [00:00<?, ?it/s]"
      ]
     },
     "metadata": {},
     "output_type": "display_data"
    },
    {
     "data": {
      "application/vnd.jupyter.widget-view+json": {
       "model_id": "e78a0baf2b9a4511a3f50172e6c047d7",
       "version_major": 2,
       "version_minor": 0
      },
      "text/plain": [
       "images:LLM-Law-Environment-and-Sustainability-1:   0%|          | 0/11 [00:00<?, ?it/s]"
      ]
     },
     "metadata": {},
     "output_type": "display_data"
    },
    {
     "name": "stdout",
     "output_type": "stream",
     "text": [
      "[INIT].... → Crawl4AI 0.6.2\n",
      "[INIT].... → Crawl4AI 0.6.2\n"
     ]
    },
    {
     "data": {
      "application/vnd.jupyter.widget-view+json": {
       "model_id": "6526325f42fc43beb1cc9d8f31dfb076",
       "version_major": 2,
       "version_minor": 0
      },
      "text/plain": [
       "images:MSc-International-Marketing-and-Business-Intelligence-1:   0%|          | 0/10 [00:00<?, ?it/s]"
      ]
     },
     "metadata": {},
     "output_type": "display_data"
    },
    {
     "name": "stdout",
     "output_type": "stream",
     "text": [
      "[INIT].... → Crawl4AI 0.6.2\n",
      "[INIT].... → Crawl4AI 0.6.2\n",
      "[INIT].... → Crawl4AI 0.6.2\n",
      "[FETCH]... ↓ https://www.essex.ac.uk/courses/PG01406/1/MA-Environmental-Futures-with-Climate-Change               | ✓ | ⏱: 23.87s\n",
      "[SCRAPE].. ◆ https://www.essex.ac.uk/courses/PG01406/1/MA-Environmental-Futures-with-Climate-Change               | ✓ | ⏱: 0.34s\n",
      "[COMPLETE] ● https://www.essex.ac.uk/courses/PG01406/1/MA-Environmental-Futures-with-Climate-Change               | ✓ | ⏱: 25.02s\n"
     ]
    },
    {
     "data": {
      "application/vnd.jupyter.widget-view+json": {
       "model_id": "33baff75615841e5ac0d736b9f8fa19f",
       "version_major": 2,
       "version_minor": 0
      },
      "text/plain": [
       "images:MA-Environmental-Futures-with-Climate-Change-1:   0%|          | 0/10 [00:00<?, ?it/s]"
      ]
     },
     "metadata": {},
     "output_type": "display_data"
    },
    {
     "name": "stdout",
     "output_type": "stream",
     "text": [
      "[SCRAPE].. ◆ Some images failed to load within timeout\n",
      "[INIT].... → Crawl4AI 0.6.2\n",
      "[FETCH]... ↓ https://www.essex.ac.uk/courses/PR00904/3/MSc-by-Dissertation-Environmental-Biology                  | ✓ | ⏱: 32.34s\n",
      "[SCRAPE].. ◆ https://www.essex.ac.uk/courses/PR00904/3/MSc-by-Dissertation-Environmental-Biology                  | ✓ | ⏱: 0.27s\n",
      "[COMPLETE] ● https://www.essex.ac.uk/courses/PR00904/3/MSc-by-Dissertation-Environmental-Biology                  | ✓ | ⏱: 33.46s\n",
      "[SCRAPE].. ◆ Some images failed to load within timeout\n"
     ]
    },
    {
     "data": {
      "application/vnd.jupyter.widget-view+json": {
       "model_id": "c3e73429f6864ce1a16ee2aee0ed5690",
       "version_major": 2,
       "version_minor": 0
      },
      "text/plain": [
       "images:MSc-by-Dissertation-Environmental-Biology-3:   0%|          | 0/10 [00:00<?, ?it/s]"
      ]
     },
     "metadata": {},
     "output_type": "display_data"
    },
    {
     "name": "stdout",
     "output_type": "stream",
     "text": [
      "[FETCH]... ↓ https://www.essex.ac.uk/courses/PG01345/1/MA-Environment-Society-and-Culture                         | ✓ | ⏱: 39.11s\n",
      "[SCRAPE].. ◆ https://www.essex.ac.uk/courses/PG01345/1/MA-Environment-Society-and-Culture                         | ✓ | ⏱: 0.29s\n",
      "[COMPLETE] ● https://www.essex.ac.uk/courses/PG01345/1/MA-Environment-Society-and-Culture                         | ✓ | ⏱: 40.12s\n",
      "[SCRAPE].. ◆ Some images failed to load within timeout\n",
      "[INIT].... → Crawl4AI 0.6.2\n"
     ]
    },
    {
     "data": {
      "application/vnd.jupyter.widget-view+json": {
       "model_id": "205c32f5ce024c1ebd89ee81c0f71c5d",
       "version_major": 2,
       "version_minor": 0
      },
      "text/plain": [
       "images:MA-Environment-Society-and-Culture-1:   0%|          | 0/10 [00:00<?, ?it/s]"
      ]
     },
     "metadata": {},
     "output_type": "display_data"
    },
    {
     "name": "stdout",
     "output_type": "stream",
     "text": [
      "[FETCH]... ↓ https://www.essex.ac.uk/courses/UG01510/1/BA-Global-Studies-with-Sustainability                      | ✓ | ⏱: 45.01s\n",
      "[SCRAPE].. ◆ https://www.essex.ac.uk/courses/UG01510/1/BA-Global-Studies-with-Sustainability                      | ✓ | ⏱: 0.31s\n",
      "[COMPLETE] ● https://www.essex.ac.uk/courses/UG01510/1/BA-Global-Studies-with-Sustainability                      | ✓ | ⏱: 46.02s\n",
      "[INIT].... → Crawl4AI 0.6.2\n"
     ]
    },
    {
     "data": {
      "application/vnd.jupyter.widget-view+json": {
       "model_id": "b377991ef90043c9b2de42cfde5f1fb9",
       "version_major": 2,
       "version_minor": 0
      },
      "text/plain": [
       "images:BA-Global-Studies-with-Sustainability-1:   0%|          | 0/11 [00:00<?, ?it/s]"
      ]
     },
     "metadata": {},
     "output_type": "display_data"
    },
    {
     "name": "stdout",
     "output_type": "stream",
     "text": [
      "[FETCH]... ↓ https://www.essex.ac.uk/courses/UG00152/1/BA-European-Studies-and-Modern-Languages                   | ✓ | ⏱: 51.78s\n",
      "[SCRAPE].. ◆ https://www.essex.ac.uk/courses/UG00152/1/BA-European-Studies-and-Modern-Languages                   | ✓ | ⏱: 0.29s\n",
      "[COMPLETE] ● https://www.essex.ac.uk/courses/UG00152/1/BA-European-Studies-and-Modern-Languages                   | ✓ | ⏱: 52.91s\n",
      "[INIT].... → Crawl4AI 0.6.2\n",
      "[FETCH]... ↓ https://www.essex.ac.uk/courses/UG00151/1/BA-European-Studies                                        | ✓ | ⏱: 44.20s\n",
      "[SCRAPE].. ◆ https://www.essex.ac.uk/courses/UG00151/1/BA-European-Studies                                        | ✓ | ⏱: 0.34s\n",
      "[COMPLETE] ● https://www.essex.ac.uk/courses/UG00151/1/BA-European-Studies                                        | ✓ | ⏱: 45.55s\n"
     ]
    },
    {
     "data": {
      "application/vnd.jupyter.widget-view+json": {
       "model_id": "604aa315f03941a2ae6eab793af634be",
       "version_major": 2,
       "version_minor": 0
      },
      "text/plain": [
       "images:BA-European-Studies-and-Modern-Languages-1:   0%|          | 0/10 [00:00<?, ?it/s]"
      ]
     },
     "metadata": {},
     "output_type": "display_data"
    },
    {
     "data": {
      "application/vnd.jupyter.widget-view+json": {
       "model_id": "3a4e9917b2a94e2a9985c304617d8827",
       "version_major": 2,
       "version_minor": 0
      },
      "text/plain": [
       "images:BA-European-Studies-1:   0%|          | 0/10 [00:00<?, ?it/s]"
      ]
     },
     "metadata": {},
     "output_type": "display_data"
    },
    {
     "name": "stdout",
     "output_type": "stream",
     "text": [
      "⚠ cannot fetch https://www.essex.ac.uk/-/media/header-images/subjects/european-studies-subject-1200x600.jpg?mh=512&mw=512&hash=6482AE97B0FE34E13A729AEEBF488D5B: HTTPSConnectionPool(host='www.essex.ac.uk', port=443): Max retries exceeded with url: /-/media/header-images/subjects/european-studies-subject-1200x600.jpg?mh=512&mw=512&hash=6482AE97B0FE34E13A729AEEBF488D5B (Caused by NewConnectionError('<urllib3.connection.HTTPSConnection object at 0x15172b020>: Failed to establish a new connection: [Errno 61] Connection refused'))\n",
      "[INIT].... → Crawl4AI 0.6.2\n",
      "[INIT].... → Crawl4AI 0.6.2\n",
      "[FETCH]... ↓ https://www.essex.ac.uk/courses/UG00157/2/BA-European-Studies-with-Italian                           | ✓ | ⏱: 81.53s\n",
      "[SCRAPE].. ◆ https://www.essex.ac.uk/courses/UG00157/2/BA-European-Studies-with-Italian                           | ✓ | ⏱: 0.32s\n",
      "[COMPLETE] ● https://www.essex.ac.uk/courses/UG00157/2/BA-European-Studies-with-Italian                           | ✓ | ⏱: 82.57s\n"
     ]
    },
    {
     "data": {
      "application/vnd.jupyter.widget-view+json": {
       "model_id": "3cd4e0999d4d4563bfb644d25609fdd2",
       "version_major": 2,
       "version_minor": 0
      },
      "text/plain": [
       "images:BA-European-Studies-with-Italian-2:   0%|          | 0/10 [00:00<?, ?it/s]"
      ]
     },
     "metadata": {},
     "output_type": "display_data"
    },
    {
     "name": "stdout",
     "output_type": "stream",
     "text": [
      "⚠ cannot fetch https://www.essex.ac.uk/-/media/header-images/subjects/european-studies-subject-1200x600.jpg?mh=512&mw=512&hash=6482AE97B0FE34E13A729AEEBF488D5B: HTTPSConnectionPool(host='www.essex.ac.uk', port=443): Max retries exceeded with url: /-/media/header-images/subjects/european-studies-subject-1200x600.jpg?mh=512&mw=512&hash=6482AE97B0FE34E13A729AEEBF488D5B (Caused by NewConnectionError('<urllib3.connection.HTTPSConnection object at 0x152b27770>: Failed to establish a new connection: [Errno 61] Connection refused'))\n",
      "[ERROR]... × https://www.essex.ac.uk...ean-Studies-with-French  | Error: \n",
      "┌───────────────────────────────────────────────────────────────────────────────────────────────────────────────────────┐\n",
      "│ × Unexpected error in _crawl_web at line 731 in _crawl_web (../../../../../opt/anaconda3/lib/python3.12/site-         │\n",
      "│ packages/crawl4ai/async_crawler_strategy.py):                                                                         │\n",
      "│   Error: Failed on navigating ACS-GOTO:                                                                               │\n",
      "│   Page.goto: net::ERR_CONNECTION_REFUSED at https://www.essex.ac.uk/courses/UG00154/1/BA-European-Studies-with-       │\n",
      "│ French                                                                                                                │\n",
      "│   Call log:                                                                                                           │\n",
      "│   - navigating to \"https://www.essex.ac.uk/courses/UG00154/1/BA-European-Studies-with-French\", waiting until          │\n",
      "│ \"domcontentloaded\"                                                                                                    │\n",
      "│                                                                                                                       │\n",
      "│                                                                                                                       │\n",
      "│   Code context:                                                                                                       │\n",
      "│   726                       response = await page.goto(                                                               │\n",
      "│   727                           url, wait_until=config.wait_until, timeout=config.page_timeout                        │\n",
      "│   728                       )                                                                                         │\n",
      "│   729                       redirected_url = page.url                                                                 │\n",
      "│   730                   except Error as e:                                                                            │\n",
      "│   731 →                     raise RuntimeError(f\"Failed on navigating ACS-GOTO:\\n{str(e)}\")                           │\n",
      "│   732                                                                                                                 │\n",
      "│   733                   await self.execute_hook(                                                                      │\n",
      "│   734                       \"after_goto\", page, context=context, url=url, response=response, config=config            │\n",
      "│   735                   )                                                                                             │\n",
      "│   736                                                                                                                 │\n",
      "└───────────────────────────────────────────────────────────────────────────────────────────────────────────────────────┘\n",
      "\n",
      "[FETCH]... ↓ https://www.essex.ac.uk/courses/UG00155/1/BA-European-Studies-with-German                            | ✓ | ⏱: 112.06s\n",
      "[SCRAPE].. ◆ https://www.essex.ac.uk/courses/UG00155/1/BA-European-Studies-with-German                            | ✓ | ⏱: 0.15s\n",
      "[COMPLETE] ● https://www.essex.ac.uk/courses/UG00155/1/BA-European-Studies-with-German                            | ✓ | ⏱: 112.90s\n",
      "[ERROR]... × https://www.essex.ac.uk...an-Studies-with-Italian  | Error: \n",
      "┌───────────────────────────────────────────────────────────────────────────────────────────────────────────────────────┐\n",
      "│ × Unexpected error in _crawl_web at line 731 in _crawl_web (../../../../../opt/anaconda3/lib/python3.12/site-         │\n",
      "│ packages/crawl4ai/async_crawler_strategy.py):                                                                         │\n",
      "│   Error: Failed on navigating ACS-GOTO:                                                                               │\n",
      "│   Page.goto: net::ERR_CONNECTION_REFUSED at https://www.essex.ac.uk/courses/UG00157/1/BA-European-Studies-with-       │\n",
      "│ Italian                                                                                                               │\n",
      "│   Call log:                                                                                                           │\n",
      "│   - navigating to \"https://www.essex.ac.uk/courses/UG00157/1/BA-European-Studies-with-Italian\", waiting until         │\n",
      "│ \"domcontentloaded\"                                                                                                    │\n",
      "│                                                                                                                       │\n",
      "│                                                                                                                       │\n",
      "│   Code context:                                                                                                       │\n",
      "│   726                       response = await page.goto(                                                               │\n",
      "│   727                           url, wait_until=config.wait_until, timeout=config.page_timeout                        │\n",
      "│   728                       )                                                                                         │\n",
      "│   729                       redirected_url = page.url                                                                 │\n",
      "│   730                   except Error as e:                                                                            │\n",
      "│   731 →                     raise RuntimeError(f\"Failed on navigating ACS-GOTO:\\n{str(e)}\")                           │\n",
      "│   732                                                                                                                 │\n",
      "│   733                   await self.execute_hook(                                                                      │\n",
      "│   734                       \"after_goto\", page, context=context, url=url, response=response, config=config            │\n",
      "│   735                   )                                                                                             │\n",
      "│   736                                                                                                                 │\n",
      "└───────────────────────────────────────────────────────────────────────────────────────────────────────────────────────┘\n",
      "\n",
      "[INIT].... → Crawl4AI 0.6.2\n",
      "[FETCH]... ↓ https://www.essex.ac.uk/courses/UG00151/2/BA-European-Studies                                        | ✓ | ⏱: 102.78s\n",
      "[SCRAPE].. ◆ https://www.essex.ac.uk/courses/UG00151/2/BA-European-Studies                                        | ✓ | ⏱: 0.26s\n",
      "[COMPLETE] ● https://www.essex.ac.uk/courses/UG00151/2/BA-European-Studies                                        | ✓ | ⏱: 103.65s\n",
      "⚠️  BA-European-Studies-with-French-1: Unexpected error in _crawl_web at line 731 in _crawl_web (../../../../../opt/anaconda3/lib/python3.12/site-packages/crawl4ai/async_crawler_strategy.py):\n",
      "Error: Failed on navigating ACS-GOTO:\n",
      "Page.goto: net::ERR_CONNECTION_REFUSED at https://www.essex.ac.uk/courses/UG00154/1/BA-European-Studies-with-French\n",
      "Call log:\n",
      "  - navigating to \"https://www.essex.ac.uk/courses/UG00154/1/BA-European-Studies-with-French\", waiting until \"domcontentloaded\"\n",
      "\n",
      "\n",
      "Code context:\n",
      " 726                       response = await page.goto(\n",
      " 727                           url, wait_until=config.wait_until, timeout=config.page_timeout\n",
      " 728                       )\n",
      " 729                       redirected_url = page.url\n",
      " 730                   except Error as e:\n",
      " 731 →                     raise RuntimeError(f\"Failed on navigating ACS-GOTO:\\n{str(e)}\")\n",
      " 732   \n",
      " 733                   await self.execute_hook(\n",
      " 734                       \"after_goto\", page, context=context, url=url, response=response, config=config\n",
      " 735                   )\n",
      " 736   \n"
     ]
    },
    {
     "data": {
      "application/vnd.jupyter.widget-view+json": {
       "model_id": "d339bb467dc34d06a1835107c7ded7f9",
       "version_major": 2,
       "version_minor": 0
      },
      "text/plain": [
       "images:BA-European-Studies-with-German-1:   0%|          | 0/10 [00:00<?, ?it/s]"
      ]
     },
     "metadata": {},
     "output_type": "display_data"
    },
    {
     "name": "stdout",
     "output_type": "stream",
     "text": [
      "⚠️  BA-European-Studies-with-Italian-1: Unexpected error in _crawl_web at line 731 in _crawl_web (../../../../../opt/anaconda3/lib/python3.12/site-packages/crawl4ai/async_crawler_strategy.py):\n",
      "Error: Failed on navigating ACS-GOTO:\n",
      "Page.goto: net::ERR_CONNECTION_REFUSED at https://www.essex.ac.uk/courses/UG00157/1/BA-European-Studies-with-Italian\n",
      "Call log:\n",
      "  - navigating to \"https://www.essex.ac.uk/courses/UG00157/1/BA-European-Studies-with-Italian\", waiting until \"domcontentloaded\"\n",
      "\n",
      "\n",
      "Code context:\n",
      " 726                       response = await page.goto(\n",
      " 727                           url, wait_until=config.wait_until, timeout=config.page_timeout\n",
      " 728                       )\n",
      " 729                       redirected_url = page.url\n",
      " 730                   except Error as e:\n",
      " 731 →                     raise RuntimeError(f\"Failed on navigating ACS-GOTO:\\n{str(e)}\")\n",
      " 732   \n",
      " 733                   await self.execute_hook(\n",
      " 734                       \"after_goto\", page, context=context, url=url, response=response, config=config\n",
      " 735                   )\n",
      " 736   \n"
     ]
    },
    {
     "data": {
      "application/vnd.jupyter.widget-view+json": {
       "model_id": "f12cdf497a024544bb4b006554b44dd2",
       "version_major": 2,
       "version_minor": 0
      },
      "text/plain": [
       "images:BA-European-Studies-2:   0%|          | 0/10 [00:00<?, ?it/s]"
      ]
     },
     "metadata": {},
     "output_type": "display_data"
    },
    {
     "name": "stdout",
     "output_type": "stream",
     "text": [
      "[INIT].... → Crawl4AI 0.6.2\n",
      "[INIT].... → Crawl4AI 0.6.2\n",
      "[INIT].... → Crawl4AI 0.6.2\n",
      "[INIT].... → Crawl4AI 0.6.2\n",
      "[FETCH]... ↓ https://www.essex.ac.uk/courses/UG00152/2/BA-European-Studies-and-Modern-Languages                   | ✓ | ⏱: 130.52s\n",
      "[SCRAPE].. ◆ https://www.essex.ac.uk/courses/UG00152/2/BA-European-Studies-and-Modern-Languages                   | ✓ | ⏱: 0.44s\n",
      "[COMPLETE] ● https://www.essex.ac.uk/courses/UG00152/2/BA-European-Studies-and-Modern-Languages                   | ✓ | ⏱: 131.77s\n",
      "[FETCH]... ↓ https://www.essex.ac.uk/courses/UG00154/2/BA-European-Studies-with-French                            | ✓ | ⏱: 78.92s\n",
      "[SCRAPE].. ◆ https://www.essex.ac.uk/courses/UG00154/2/BA-European-Studies-with-French                            | ✓ | ⏱: 0.30s\n",
      "[COMPLETE] ● https://www.essex.ac.uk/courses/UG00154/2/BA-European-Studies-with-French                            | ✓ | ⏱: 79.95s\n",
      "[FETCH]... ↓ https://www.essex.ac.uk/courses/UG00155/2/BA-European-Studies-with-German                            | ✓ | ⏱: 89.93s\n",
      "[SCRAPE].. ◆ https://www.essex.ac.uk/courses/UG00155/2/BA-European-Studies-with-German                            | ✓ | ⏱: 0.29s\n",
      "[COMPLETE] ● https://www.essex.ac.uk/courses/UG00155/2/BA-European-Studies-with-German                            | ✓ | ⏱: 90.92s\n"
     ]
    },
    {
     "data": {
      "application/vnd.jupyter.widget-view+json": {
       "model_id": "49e398bb0df04b8d92c208ab45987807",
       "version_major": 2,
       "version_minor": 0
      },
      "text/plain": [
       "images:BA-European-Studies-and-Modern-Languages-2:   0%|          | 0/10 [00:00<?, ?it/s]"
      ]
     },
     "metadata": {},
     "output_type": "display_data"
    },
    {
     "data": {
      "application/vnd.jupyter.widget-view+json": {
       "model_id": "823e9a50d60b46ac8162c01e653f2d2a",
       "version_major": 2,
       "version_minor": 0
      },
      "text/plain": [
       "images:BA-European-Studies-with-French-2:   0%|          | 0/10 [00:00<?, ?it/s]"
      ]
     },
     "metadata": {},
     "output_type": "display_data"
    },
    {
     "data": {
      "application/vnd.jupyter.widget-view+json": {
       "model_id": "6639d7370c494a19b92db7a3c3eb3355",
       "version_major": 2,
       "version_minor": 0
      },
      "text/plain": [
       "images:BA-European-Studies-with-German-2:   0%|          | 0/10 [00:00<?, ?it/s]"
      ]
     },
     "metadata": {},
     "output_type": "display_data"
    },
    {
     "name": "stdout",
     "output_type": "stream",
     "text": [
      "[INIT].... → Crawl4AI 0.6.2\n",
      "[INIT].... → Crawl4AI 0.6.2\n",
      "[INIT].... → Crawl4AI 0.6.2\n",
      "[FETCH]... ↓ https://www.essex.ac.uk/courses/ug01113/2/ba-events-management-with-hospitality                      | ✓ | ⏱: 18.98s\n",
      "[SCRAPE].. ◆ https://www.essex.ac.uk/courses/ug01113/2/ba-events-management-with-hospitality                      | ✓ | ⏱: 0.28s\n",
      "[COMPLETE] ● https://www.essex.ac.uk/courses/ug01113/2/ba-events-management-with-hospitality                      | ✓ | ⏱: 20.27s\n",
      "[FETCH]... ↓ https://www.essex.ac.uk/courses/UG01328/2/BA-Events-Management                                       | ✓ | ⏱: 28.24s\n",
      "[SCRAPE].. ◆ https://www.essex.ac.uk/courses/UG01328/2/BA-Events-Management                                       | ✓ | ⏱: 0.29s\n",
      "[COMPLETE] ● https://www.essex.ac.uk/courses/UG01328/2/BA-Events-Management                                       | ✓ | ⏱: 29.25s\n"
     ]
    },
    {
     "data": {
      "application/vnd.jupyter.widget-view+json": {
       "model_id": "25ea578d30964412a46eb36652ed36ca",
       "version_major": 2,
       "version_minor": 0
      },
      "text/plain": [
       "images:ba-events-management-with-hospitality-2:   0%|          | 0/10 [00:00<?, ?it/s]"
      ]
     },
     "metadata": {},
     "output_type": "display_data"
    },
    {
     "name": "stdout",
     "output_type": "stream",
     "text": [
      "⚠ cannot fetch https://www.essex.ac.uk/-/media/header-images/2021/11/ehs-instructing-staff--autorenamed.jpg?mh=512&mw=512&hash=0DB1C2EEEE8703C7F4A4FB64F9CAE90C: HTTPSConnectionPool(host='www.essex.ac.uk', port=443): Max retries exceeded with url: /-/media/header-images/2021/11/ehs-instructing-staff--autorenamed.jpg?mh=512&mw=512&hash=0DB1C2EEEE8703C7F4A4FB64F9CAE90C (Caused by ConnectTimeoutError(<urllib3.connection.HTTPSConnection object at 0x152a88ce0>, 'Connection to www.essex.ac.uk timed out. (connect timeout=30)'))\n"
     ]
    },
    {
     "data": {
      "application/vnd.jupyter.widget-view+json": {
       "model_id": "430b67571a284cc684553522511aaaf2",
       "version_major": 2,
       "version_minor": 0
      },
      "text/plain": [
       "images:BA-Events-Management-2:   0%|          | 0/10 [00:00<?, ?it/s]"
      ]
     },
     "metadata": {},
     "output_type": "display_data"
    },
    {
     "name": "stdout",
     "output_type": "stream",
     "text": [
      "[INIT].... → Crawl4AI 0.6.2\n",
      "[INIT].... → Crawl4AI 0.6.2\n",
      "[FETCH]... ↓ https://www.essex.ac.uk/courses/UG01328/1/FdA-Events-Management                                      | ✓ | ⏱: 75.38s\n",
      "[SCRAPE].. ◆ https://www.essex.ac.uk/courses/UG01328/1/FdA-Events-Management                                      | ✓ | ⏱: 0.30s\n",
      "[COMPLETE] ● https://www.essex.ac.uk/courses/UG01328/1/FdA-Events-Management                                      | ✓ | ⏱: 76.35s\n"
     ]
    },
    {
     "data": {
      "application/vnd.jupyter.widget-view+json": {
       "model_id": "6454f6957bc9410db943d19f4fda498a",
       "version_major": 2,
       "version_minor": 0
      },
      "text/plain": [
       "images:FdA-Events-Management-1:   0%|          | 0/10 [00:00<?, ?it/s]"
      ]
     },
     "metadata": {},
     "output_type": "display_data"
    },
    {
     "name": "stdout",
     "output_type": "stream",
     "text": [
      "⚠ cannot fetch https://www.essex.ac.uk/-/media/images/module-images/promo-and-support-block-modules/contact-us-1000x1000/life-essexliving-support1000x700.jpg: ('Connection aborted.', RemoteDisconnected('Remote end closed connection without response'))\n",
      "[FETCH]... ↓ https://www.essex.ac.uk/courses/PG01647/2/International-Tourism-Management                           | ✓ | ⏱: 108.57s\n",
      "[SCRAPE].. ◆ https://www.essex.ac.uk/courses/PG01647/2/International-Tourism-Management                           | ✓ | ⏱: 0.16s\n",
      "[COMPLETE] ● https://www.essex.ac.uk/courses/PG01647/2/International-Tourism-Management                           | ✓ | ⏱: 109.37s\n",
      "[FETCH]... ↓ https://www.essex.ac.uk/courses/PG01115/1/MSc-International-Hospitality-Management                   | ✓ | ⏱: 110.00s\n",
      "[SCRAPE].. ◆ https://www.essex.ac.uk/courses/PG01115/1/MSc-International-Hospitality-Management                   | ✓ | ⏱: 0.44s\n",
      "[COMPLETE] ● https://www.essex.ac.uk/courses/PG01115/1/MSc-International-Hospitality-Management                   | ✓ | ⏱: 111.10s\n",
      "[FETCH]... ↓ https://www.essex.ac.uk/courses/PG01645/1/MSc-International-Events-Management                        | ✓ | ⏱: 94.14s\n",
      "[SCRAPE].. ◆ https://www.essex.ac.uk/courses/PG01645/1/MSc-International-Events-Management                        | ✓ | ⏱: 0.26s\n",
      "[COMPLETE] ● https://www.essex.ac.uk/courses/PG01645/1/MSc-International-Events-Management                        | ✓ | ⏱: 95.03s\n",
      "[FETCH]... ↓ https://www.essex.ac.uk/courses/UG01327/1/FdA-Hospitality-Management                                 | ✓ | ⏱: 95.91s\n",
      "[SCRAPE].. ◆ https://www.essex.ac.uk/courses/UG01327/1/FdA-Hospitality-Management                                 | ✓ | ⏱: 0.26s\n",
      "[COMPLETE] ● https://www.essex.ac.uk/courses/UG01327/1/FdA-Hospitality-Management                                 | ✓ | ⏱: 96.85s\n"
     ]
    },
    {
     "data": {
      "application/vnd.jupyter.widget-view+json": {
       "model_id": "b09bc429cdf7491aab28be5b5b49c990",
       "version_major": 2,
       "version_minor": 0
      },
      "text/plain": [
       "images:International-Tourism-Management-2:   0%|          | 0/11 [00:00<?, ?it/s]"
      ]
     },
     "metadata": {},
     "output_type": "display_data"
    },
    {
     "name": "stdout",
     "output_type": "stream",
     "text": [
      "[INIT].... → Crawl4AI 0.6.2\n"
     ]
    },
    {
     "data": {
      "application/vnd.jupyter.widget-view+json": {
       "model_id": "5804dd3dfe8b42028b76e3d26745b904",
       "version_major": 2,
       "version_minor": 0
      },
      "text/plain": [
       "images:MSc-International-Hospitality-Management-1:   0%|          | 0/10 [00:00<?, ?it/s]"
      ]
     },
     "metadata": {},
     "output_type": "display_data"
    },
    {
     "data": {
      "application/vnd.jupyter.widget-view+json": {
       "model_id": "66ac030d988f49399ecf8153abb49e0a",
       "version_major": 2,
       "version_minor": 0
      },
      "text/plain": [
       "images:MSc-International-Events-Management-1:   0%|          | 0/10 [00:00<?, ?it/s]"
      ]
     },
     "metadata": {},
     "output_type": "display_data"
    },
    {
     "data": {
      "application/vnd.jupyter.widget-view+json": {
       "model_id": "2b4b4f223779403c85190a1382b01f91",
       "version_major": 2,
       "version_minor": 0
      },
      "text/plain": [
       "images:FdA-Hospitality-Management-1:   0%|          | 0/10 [00:00<?, ?it/s]"
      ]
     },
     "metadata": {},
     "output_type": "display_data"
    },
    {
     "name": "stdout",
     "output_type": "stream",
     "text": [
      "[SCRAPE].. ◆ Some images failed to load within timeout\n",
      "[FETCH]... ↓ https://www.essex.ac.uk/courses/UG01585/2/BA-International-Tourism-Management                        | ✓ | ⏱: 107.57s\n",
      "[SCRAPE].. ◆ https://www.essex.ac.uk/courses/UG01585/2/BA-International-Tourism-Management                        | ✓ | ⏱: 0.29s\n",
      "[COMPLETE] ● https://www.essex.ac.uk/courses/UG01585/2/BA-International-Tourism-Management                        | ✓ | ⏱: 109.35s\n",
      "[INIT].... → Crawl4AI 0.6.2\n",
      "[INIT].... → Crawl4AI 0.6.2\n",
      "[INIT].... → Crawl4AI 0.6.2\n",
      "[INIT].... → Crawl4AI 0.6.2\n"
     ]
    },
    {
     "data": {
      "application/vnd.jupyter.widget-view+json": {
       "model_id": "74c78113fee94e27957a4c16948b671c",
       "version_major": 2,
       "version_minor": 0
      },
      "text/plain": [
       "images:BA-International-Tourism-Management-2:   0%|          | 0/10 [00:00<?, ?it/s]"
      ]
     },
     "metadata": {},
     "output_type": "display_data"
    },
    {
     "name": "stdout",
     "output_type": "stream",
     "text": [
      "[INIT].... → Crawl4AI 0.6.2\n",
      "[FETCH]... ↓ https://www.essex.ac.uk/courses/PG01115/2/MSc-International-Hospitality-Management                   | ✓ | ⏱: 60.80s\n",
      "[SCRAPE].. ◆ https://www.essex.ac.uk/courses/PG01115/2/MSc-International-Hospitality-Management                   | ✓ | ⏱: 0.28s\n",
      "[COMPLETE] ● https://www.essex.ac.uk/courses/PG01115/2/MSc-International-Hospitality-Management                   | ✓ | ⏱: 61.70s\n",
      "[FETCH]... ↓ https://www.essex.ac.uk/courses/PR01648/1/PhD-Tourism-Hospitality-and-Events                         | ✓ | ⏱: 63.44s\n",
      "[SCRAPE].. ◆ https://www.essex.ac.uk/courses/PR01648/1/PhD-Tourism-Hospitality-and-Events                         | ✓ | ⏱: 0.22s\n",
      "[COMPLETE] ● https://www.essex.ac.uk/courses/PR01648/1/PhD-Tourism-Hospitality-and-Events                         | ✓ | ⏱: 64.41s\n",
      "[FETCH]... ↓ https://www.essex.ac.uk/courses/UG01585/1/FdA-International-Tourism-Management                       | ✓ | ⏱: 17.22s\n",
      "[SCRAPE].. ◆ https://www.essex.ac.uk/courses/UG01585/1/FdA-International-Tourism-Management                       | ✓ | ⏱: 0.18s\n",
      "[COMPLETE] ● https://www.essex.ac.uk/courses/UG01585/1/FdA-International-Tourism-Management                       | ✓ | ⏱: 18.35s\n"
     ]
    },
    {
     "data": {
      "application/vnd.jupyter.widget-view+json": {
       "model_id": "0c3c92e774e646fcab5e4ef533a761fa",
       "version_major": 2,
       "version_minor": 0
      },
      "text/plain": [
       "images:MSc-International-Hospitality-Management-2:   0%|          | 0/10 [00:00<?, ?it/s]"
      ]
     },
     "metadata": {},
     "output_type": "display_data"
    },
    {
     "data": {
      "application/vnd.jupyter.widget-view+json": {
       "model_id": "4f5799cef7ea42d29aca089d517f6384",
       "version_major": 2,
       "version_minor": 0
      },
      "text/plain": [
       "images:PhD-Tourism-Hospitality-and-Events-1:   0%|          | 0/10 [00:00<?, ?it/s]"
      ]
     },
     "metadata": {},
     "output_type": "display_data"
    },
    {
     "data": {
      "application/vnd.jupyter.widget-view+json": {
       "model_id": "3a42312f49b14d5399cc7225e3cf94f6",
       "version_major": 2,
       "version_minor": 0
      },
      "text/plain": [
       "images:FdA-International-Tourism-Management-1:   0%|          | 0/10 [00:00<?, ?it/s]"
      ]
     },
     "metadata": {},
     "output_type": "display_data"
    },
    {
     "name": "stdout",
     "output_type": "stream",
     "text": [
      "[INIT].... → Crawl4AI 0.6.2\n",
      "[INIT].... → Crawl4AI 0.6.2\n",
      "[INIT].... → Crawl4AI 0.6.2\n",
      "[SCRAPE].. ◆ Some images failed to load within timeout\n",
      "[FETCH]... ↓ https://www.essex.ac.uk/courses/PR00911/1/PhD-Film-Studies                                           | ✓ | ⏱: 38.44s\n",
      "[SCRAPE].. ◆ https://www.essex.ac.uk/courses/PR00911/1/PhD-Film-Studies                                           | ✓ | ⏱: 0.43s\n",
      "[COMPLETE] ● https://www.essex.ac.uk/courses/PR00911/1/PhD-Film-Studies                                           | ✓ | ⏱: 39.81s\n"
     ]
    },
    {
     "data": {
      "application/vnd.jupyter.widget-view+json": {
       "model_id": "e821e64ad3cb4463934c71cf00d82b51",
       "version_major": 2,
       "version_minor": 0
      },
      "text/plain": [
       "images:PhD-Film-Studies-1:   0%|          | 0/10 [00:00<?, ?it/s]"
      ]
     },
     "metadata": {},
     "output_type": "display_data"
    },
    {
     "name": "stdout",
     "output_type": "stream",
     "text": [
      "[SCRAPE].. ◆ Some images failed to load within timeout\n",
      "[INIT].... → Crawl4AI 0.6.2\n",
      "[FETCH]... ↓ https://www.essex.ac.uk/courses/ug00206/2/ba-hotel-management                                        | ✓ | ⏱: 53.26s\n",
      "[SCRAPE].. ◆ https://www.essex.ac.uk/courses/ug00206/2/ba-hotel-management                                        | ✓ | ⏱: 0.35s\n",
      "[COMPLETE] ● https://www.essex.ac.uk/courses/ug00206/2/ba-hotel-management                                        | ✓ | ⏱: 54.57s\n",
      "[SCRAPE].. ◆ Some images failed to load within timeout\n"
     ]
    },
    {
     "data": {
      "application/vnd.jupyter.widget-view+json": {
       "model_id": "9fa1914a26bb480bbbe893102a466e92",
       "version_major": 2,
       "version_minor": 0
      },
      "text/plain": [
       "images:ba-hotel-management-2:   0%|          | 0/10 [00:00<?, ?it/s]"
      ]
     },
     "metadata": {},
     "output_type": "display_data"
    },
    {
     "name": "stdout",
     "output_type": "stream",
     "text": [
      "[FETCH]... ↓ https://www.essex.ac.uk/courses/PG01647/1/MSc-International-Tourism-Management                       | ✓ | ⏱: 61.34s\n",
      "[SCRAPE].. ◆ https://www.essex.ac.uk/courses/PG01647/1/MSc-International-Tourism-Management                       | ✓ | ⏱: 0.26s\n",
      "[COMPLETE] ● https://www.essex.ac.uk/courses/PG01647/1/MSc-International-Tourism-Management                       | ✓ | ⏱: 62.45s\n",
      "[INIT].... → Crawl4AI 0.6.2\n",
      "[FETCH]... ↓ https://www.essex.ac.uk/courses/PR00911/5/PhD-Film-Studies                                           | ✓ | ⏱: 20.22s\n",
      "[SCRAPE].. ◆ https://www.essex.ac.uk/courses/PR00911/5/PhD-Film-Studies                                           | ✓ | ⏱: 0.23s\n",
      "[COMPLETE] ● https://www.essex.ac.uk/courses/PR00911/5/PhD-Film-Studies                                           | ✓ | ⏱: 21.28s\n",
      "[FETCH]... ↓ https://www.essex.ac.uk/courses/UG00164/1/BA-Film-Studies                                            | ✓ | ⏱: 23.13s\n",
      "[SCRAPE].. ◆ https://www.essex.ac.uk/courses/UG00164/1/BA-Film-Studies                                            | ✓ | ⏱: 0.30s\n",
      "[COMPLETE] ● https://www.essex.ac.uk/courses/UG00164/1/BA-Film-Studies                                            | ✓ | ⏱: 24.14s\n"
     ]
    },
    {
     "data": {
      "application/vnd.jupyter.widget-view+json": {
       "model_id": "c63cf18fe467429598cf7d28b68d9eb9",
       "version_major": 2,
       "version_minor": 0
      },
      "text/plain": [
       "images:MSc-International-Tourism-Management-1:   0%|          | 0/10 [00:00<?, ?it/s]"
      ]
     },
     "metadata": {},
     "output_type": "display_data"
    },
    {
     "name": "stdout",
     "output_type": "stream",
     "text": [
      "⚠ cannot fetch https://www.essex.ac.uk/-/media/header-images/2021/11/ehs-instructing-staff--autorenamed.jpg?mh=512&mw=512&hash=0DB1C2EEEE8703C7F4A4FB64F9CAE90C: HTTPSConnectionPool(host='www.essex.ac.uk', port=443): Read timed out. (read timeout=30)\n",
      "[FETCH]... ↓ https://www.essex.ac.uk/courses/PG00576/1/MA-Film-and-Literature                                     | ✓ | ⏱: 58.36s\n",
      "[SCRAPE].. ◆ https://www.essex.ac.uk/courses/PG00576/1/MA-Film-and-Literature                                     | ✓ | ⏱: 0.26s\n",
      "[COMPLETE] ● https://www.essex.ac.uk/courses/PG00576/1/MA-Film-and-Literature                                     | ✓ | ⏱: 59.71s\n"
     ]
    },
    {
     "data": {
      "application/vnd.jupyter.widget-view+json": {
       "model_id": "521ee38472814a3294b91adbd39a5bd1",
       "version_major": 2,
       "version_minor": 0
      },
      "text/plain": [
       "images:PhD-Film-Studies-5:   0%|          | 0/10 [00:00<?, ?it/s]"
      ]
     },
     "metadata": {},
     "output_type": "display_data"
    },
    {
     "data": {
      "application/vnd.jupyter.widget-view+json": {
       "model_id": "3fc92a308a374285a6f494115d181f37",
       "version_major": 2,
       "version_minor": 0
      },
      "text/plain": [
       "images:BA-Film-Studies-1:   0%|          | 0/11 [00:00<?, ?it/s]"
      ]
     },
     "metadata": {},
     "output_type": "display_data"
    },
    {
     "name": "stdout",
     "output_type": "stream",
     "text": [
      "[ERROR]... × https://www.essex.ac.uk...00577/1/MA-Film-Studies  | Error: \n",
      "┌───────────────────────────────────────────────────────────────────────────────────────────────────────────────────────┐\n",
      "│ × Unexpected error in _crawl_web at line 731 in _crawl_web (../../../../../opt/anaconda3/lib/python3.12/site-         │\n",
      "│ packages/crawl4ai/async_crawler_strategy.py):                                                                         │\n",
      "│   Error: Failed on navigating ACS-GOTO:                                                                               │\n",
      "│   Page.goto: Timeout 60000ms exceeded.                                                                                │\n",
      "│   Call log:                                                                                                           │\n",
      "│   - navigating to \"https://www.essex.ac.uk/courses/PG00577/1/MA-Film-Studies\", waiting until \"domcontentloaded\"       │\n",
      "│                                                                                                                       │\n",
      "│                                                                                                                       │\n",
      "│   Code context:                                                                                                       │\n",
      "│   726                       response = await page.goto(                                                               │\n",
      "│   727                           url, wait_until=config.wait_until, timeout=config.page_timeout                        │\n",
      "│   728                       )                                                                                         │\n",
      "│   729                       redirected_url = page.url                                                                 │\n",
      "│   730                   except Error as e:                                                                            │\n",
      "│   731 →                     raise RuntimeError(f\"Failed on navigating ACS-GOTO:\\n{str(e)}\")                           │\n",
      "│   732                                                                                                                 │\n",
      "│   733                   await self.execute_hook(                                                                      │\n",
      "│   734                       \"after_goto\", page, context=context, url=url, response=response, config=config            │\n",
      "│   735                   )                                                                                             │\n",
      "│   736                                                                                                                 │\n",
      "└───────────────────────────────────────────────────────────────────────────────────────────────────────────────────────┘\n",
      "\n",
      "[INIT].... → Crawl4AI 0.6.2\n"
     ]
    },
    {
     "data": {
      "application/vnd.jupyter.widget-view+json": {
       "model_id": "4436799d6430409dbc22fa84011bc0e5",
       "version_major": 2,
       "version_minor": 0
      },
      "text/plain": [
       "images:MA-Film-and-Literature-1:   0%|          | 0/10 [00:00<?, ?it/s]"
      ]
     },
     "metadata": {},
     "output_type": "display_data"
    },
    {
     "name": "stdout",
     "output_type": "stream",
     "text": [
      "[INIT].... → Crawl4AI 0.6.2\n",
      "⚠️  MA-Film-Studies-1: Unexpected error in _crawl_web at line 731 in _crawl_web (../../../../../opt/anaconda3/lib/python3.12/site-packages/crawl4ai/async_crawler_strategy.py):\n",
      "Error: Failed on navigating ACS-GOTO:\n",
      "Page.goto: Timeout 60000ms exceeded.\n",
      "Call log:\n",
      "  - navigating to \"https://www.essex.ac.uk/courses/PG00577/1/MA-Film-Studies\", waiting until \"domcontentloaded\"\n",
      "\n",
      "\n",
      "Code context:\n",
      " 726                       response = await page.goto(\n",
      " 727                           url, wait_until=config.wait_until, timeout=config.page_timeout\n",
      " 728                       )\n",
      " 729                       redirected_url = page.url\n",
      " 730                   except Error as e:\n",
      " 731 →                     raise RuntimeError(f\"Failed on navigating ACS-GOTO:\\n{str(e)}\")\n",
      " 732   \n",
      " 733                   await self.execute_hook(\n",
      " 734                       \"after_goto\", page, context=context, url=url, response=response, config=config\n",
      " 735                   )\n",
      " 736   \n",
      "[INIT].... → Crawl4AI 0.6.2\n",
      "[FETCH]... ↓ https://www.essex.ac.uk/courses/UG00203/1/BA-History-with-Film-Studies                               | ✓ | ⏱: 120.84s\n",
      "[SCRAPE].. ◆ https://www.essex.ac.uk/courses/UG00203/1/BA-History-with-Film-Studies                               | ✓ | ⏱: 0.34s\n",
      "[COMPLETE] ● https://www.essex.ac.uk/courses/UG00203/1/BA-History-with-Film-Studies                               | ✓ | ⏱: 122.40s\n",
      "[INIT].... → Crawl4AI 0.6.2\n",
      "[INIT].... → Crawl4AI 0.6.2\n"
     ]
    },
    {
     "data": {
      "application/vnd.jupyter.widget-view+json": {
       "model_id": "b8100670af1c42eb802bb0cca5c29ee6",
       "version_major": 2,
       "version_minor": 0
      },
      "text/plain": [
       "images:BA-History-with-Film-Studies-1:   0%|          | 0/10 [00:00<?, ?it/s]"
      ]
     },
     "metadata": {},
     "output_type": "display_data"
    },
    {
     "name": "stdout",
     "output_type": "stream",
     "text": [
      "[FETCH]... ↓ https://www.essex.ac.uk/courses/UG01327/2/BA-Hospitality-Management                                  | ✓ | ⏱: 128.75s\n",
      "[SCRAPE].. ◆ https://www.essex.ac.uk/courses/UG01327/2/BA-Hospitality-Management                                  | ✓ | ⏱: 0.36s\n",
      "[COMPLETE] ● https://www.essex.ac.uk/courses/UG01327/2/BA-Hospitality-Management                                  | ✓ | ⏱: 130.11s\n"
     ]
    },
    {
     "data": {
      "application/vnd.jupyter.widget-view+json": {
       "model_id": "03ac5afaa61443a1887bfa5abe2c79fe",
       "version_major": 2,
       "version_minor": 0
      },
      "text/plain": [
       "images:BA-Hospitality-Management-2:   0%|          | 0/10 [00:00<?, ?it/s]"
      ]
     },
     "metadata": {},
     "output_type": "display_data"
    },
    {
     "name": "stdout",
     "output_type": "stream",
     "text": [
      "[INIT].... → Crawl4AI 0.6.2\n",
      "[INIT].... → Crawl4AI 0.6.2\n",
      "[FETCH]... ↓ https://www.essex.ac.uk/courses/UG00166/1/BA-Film-Studies-and-Literature                             | ✓ | ⏱: 32.16s\n",
      "[SCRAPE].. ◆ https://www.essex.ac.uk/courses/UG00166/1/BA-Film-Studies-and-Literature                             | ✓ | ⏱: 0.26s\n",
      "[COMPLETE] ● https://www.essex.ac.uk/courses/UG00166/1/BA-Film-Studies-and-Literature                             | ✓ | ⏱: 33.12s\n",
      "[FETCH]... ↓ https://www.essex.ac.uk/courses/PR00911/2/MPhil-Film-Studies                                         | ✓ | ⏱: 32.13s\n",
      "[SCRAPE].. ◆ https://www.essex.ac.uk/courses/PR00911/2/MPhil-Film-Studies                                         | ✓ | ⏱: 0.22s\n",
      "[COMPLETE] ● https://www.essex.ac.uk/courses/PR00911/2/MPhil-Film-Studies                                         | ✓ | ⏱: 33.03s\n",
      "[FETCH]... ↓ https://www.essex.ac.uk/courses/PR00911/4/MA-by-Dissertation-Film-Studies                            | ✓ | ⏱: 32.40s\n",
      "[SCRAPE].. ◆ https://www.essex.ac.uk/courses/PR00911/4/MA-by-Dissertation-Film-Studies                            | ✓ | ⏱: 0.28s\n",
      "[COMPLETE] ● https://www.essex.ac.uk/courses/PR00911/4/MA-by-Dissertation-Film-Studies                            | ✓ | ⏱: 33.68s\n"
     ]
    },
    {
     "data": {
      "application/vnd.jupyter.widget-view+json": {
       "model_id": "8691dc9c403a4986a38372568224dff6",
       "version_major": 2,
       "version_minor": 0
      },
      "text/plain": [
       "images:BA-Film-Studies-and-Literature-1:   0%|          | 0/10 [00:00<?, ?it/s]"
      ]
     },
     "metadata": {},
     "output_type": "display_data"
    },
    {
     "data": {
      "application/vnd.jupyter.widget-view+json": {
       "model_id": "e0b6f1adae014d3698fb43ee3f24ee1f",
       "version_major": 2,
       "version_minor": 0
      },
      "text/plain": [
       "images:MPhil-Film-Studies-2:   0%|          | 0/10 [00:00<?, ?it/s]"
      ]
     },
     "metadata": {},
     "output_type": "display_data"
    },
    {
     "name": "stdout",
     "output_type": "stream",
     "text": [
      "[SCRAPE].. ◆ Some images failed to load within timeout\n"
     ]
    },
    {
     "data": {
      "application/vnd.jupyter.widget-view+json": {
       "model_id": "a2a6e59294a146a482d9f33465df63ad",
       "version_major": 2,
       "version_minor": 0
      },
      "text/plain": [
       "images:MA-by-Dissertation-Film-Studies-4:   0%|          | 0/10 [00:00<?, ?it/s]"
      ]
     },
     "metadata": {},
     "output_type": "display_data"
    },
    {
     "name": "stdout",
     "output_type": "stream",
     "text": [
      "[FETCH]... ↓ https://www.essex.ac.uk/courses/PR00912/2/MPhil-Film-Studies-Creative-Practice                       | ✓ | ⏱: 58.20s\n",
      "[SCRAPE].. ◆ https://www.essex.ac.uk/courses/PR00912/2/MPhil-Film-Studies-Creative-Practice                       | ✓ | ⏱: 0.39s\n",
      "[COMPLETE] ● https://www.essex.ac.uk/courses/PR00912/2/MPhil-Film-Studies-Creative-Practice                       | ✓ | ⏱: 59.61s\n",
      "[INIT].... → Crawl4AI 0.6.2\n",
      "[INIT].... → Crawl4AI 0.6.2\n",
      "[INIT].... → Crawl4AI 0.6.2\n",
      "[FETCH]... ↓ https://www.essex.ac.uk/courses/PR00912/1/PhD-Film-Studies-Creative-Practice                         | ✓ | ⏱: 121.58s\n",
      "[SCRAPE].. ◆ https://www.essex.ac.uk/courses/PR00912/1/PhD-Film-Studies-Creative-Practice                         | ✓ | ⏱: 0.23s\n",
      "[COMPLETE] ● https://www.essex.ac.uk/courses/PR00912/1/PhD-Film-Studies-Creative-Practice                         | ✓ | ⏱: 122.79s\n",
      "[FETCH]... ↓ https://www.essex.ac.uk/courses/UG01502/1/BA-Film-and-Journalism                                     | ✓ | ⏱: 62.64s\n",
      "[SCRAPE].. ◆ https://www.essex.ac.uk/courses/UG01502/1/BA-Film-and-Journalism                                     | ✓ | ⏱: 0.24s\n",
      "[COMPLETE] ● https://www.essex.ac.uk/courses/UG01502/1/BA-Film-and-Journalism                                     | ✓ | ⏱: 63.72s\n"
     ]
    },
    {
     "data": {
      "application/vnd.jupyter.widget-view+json": {
       "model_id": "0abc89a9ff9347e0be56dfb0bdfd84fd",
       "version_major": 2,
       "version_minor": 0
      },
      "text/plain": [
       "images:MPhil-Film-Studies-Creative-Practice-2:   0%|          | 0/10 [00:00<?, ?it/s]"
      ]
     },
     "metadata": {},
     "output_type": "display_data"
    },
    {
     "data": {
      "application/vnd.jupyter.widget-view+json": {
       "model_id": "7d7ccda708eb4d6da8f93d63d264f332",
       "version_major": 2,
       "version_minor": 0
      },
      "text/plain": [
       "images:PhD-Film-Studies-Creative-Practice-1:   0%|          | 0/10 [00:00<?, ?it/s]"
      ]
     },
     "metadata": {},
     "output_type": "display_data"
    },
    {
     "data": {
      "application/vnd.jupyter.widget-view+json": {
       "model_id": "b6e0e368a0ca45b8939d678e06679914",
       "version_major": 2,
       "version_minor": 0
      },
      "text/plain": [
       "images:BA-Film-and-Journalism-1:   0%|          | 0/10 [00:00<?, ?it/s]"
      ]
     },
     "metadata": {},
     "output_type": "display_data"
    },
    {
     "name": "stdout",
     "output_type": "stream",
     "text": [
      "[INIT].... → Crawl4AI 0.6.2\n",
      "[INIT].... → Crawl4AI 0.6.2\n",
      "[INIT].... → Crawl4AI 0.6.2\n",
      "[FETCH]... ↓ https://www.essex.ac.uk/courses/UG00164/2/BA-Film-Studies                                            | ✓ | ⏱: 49.55s\n",
      "[SCRAPE].. ◆ https://www.essex.ac.uk/courses/UG00164/2/BA-Film-Studies                                            | ✓ | ⏱: 0.38s\n",
      "[COMPLETE] ● https://www.essex.ac.uk/courses/UG00164/2/BA-Film-Studies                                            | ✓ | ⏱: 50.87s\n"
     ]
    },
    {
     "data": {
      "application/vnd.jupyter.widget-view+json": {
       "model_id": "0af123e84d794f17bd85aac486ec57a6",
       "version_major": 2,
       "version_minor": 0
      },
      "text/plain": [
       "images:BA-Film-Studies-2:   0%|          | 0/10 [00:00<?, ?it/s]"
      ]
     },
     "metadata": {},
     "output_type": "display_data"
    },
    {
     "name": "stdout",
     "output_type": "stream",
     "text": [
      "[FETCH]... ↓ https://www.essex.ac.uk/courses/UG00030/1/BSc-Banking-and-Finance                                    | ✓ | ⏱: 21.13s\n",
      "[SCRAPE].. ◆ https://www.essex.ac.uk/courses/UG00030/1/BSc-Banking-and-Finance                                    | ✓ | ⏱: 0.55s\n",
      "[COMPLETE] ● https://www.essex.ac.uk/courses/UG00030/1/BSc-Banking-and-Finance                                    | ✓ | ⏱: 23.59s\n"
     ]
    },
    {
     "data": {
      "application/vnd.jupyter.widget-view+json": {
       "model_id": "22363a4f58d945a3ba2de0d6d9d98019",
       "version_major": 2,
       "version_minor": 0
      },
      "text/plain": [
       "images:BSc-Banking-and-Finance-1:   0%|          | 0/10 [00:00<?, ?it/s]"
      ]
     },
     "metadata": {},
     "output_type": "display_data"
    },
    {
     "name": "stdout",
     "output_type": "stream",
     "text": [
      "[INIT].... → Crawl4AI 0.6.2\n",
      "[ERROR]... × https://www.essex.ac.uk...6/1/MA-Documentary-Film  | Error: \n",
      "┌───────────────────────────────────────────────────────────────────────────────────────────────────────────────────────┐\n",
      "│ × Unexpected error in _crawl_web at line 731 in _crawl_web (../../../../../opt/anaconda3/lib/python3.12/site-         │\n",
      "│ packages/crawl4ai/async_crawler_strategy.py):                                                                         │\n",
      "│   Error: Failed on navigating ACS-GOTO:                                                                               │\n",
      "│   Page.goto: Timeout 60000ms exceeded.                                                                                │\n",
      "│   Call log:                                                                                                           │\n",
      "│   - navigating to \"https://www.essex.ac.uk/courses/PG01596/1/MA-Documentary-Film\", waiting until \"domcontentloaded\"   │\n",
      "│                                                                                                                       │\n",
      "│                                                                                                                       │\n",
      "│   Code context:                                                                                                       │\n",
      "│   726                       response = await page.goto(                                                               │\n",
      "│   727                           url, wait_until=config.wait_until, timeout=config.page_timeout                        │\n",
      "│   728                       )                                                                                         │\n",
      "│   729                       redirected_url = page.url                                                                 │\n",
      "│   730                   except Error as e:                                                                            │\n",
      "│   731 →                     raise RuntimeError(f\"Failed on navigating ACS-GOTO:\\n{str(e)}\")                           │\n",
      "│   732                                                                                                                 │\n",
      "│   733                   await self.execute_hook(                                                                      │\n",
      "│   734                       \"after_goto\", page, context=context, url=url, response=response, config=config            │\n",
      "│   735                   )                                                                                             │\n",
      "│   736                                                                                                                 │\n",
      "└───────────────────────────────────────────────────────────────────────────────────────────────────────────────────────┘\n",
      "\n",
      "⚠️  MA-Documentary-Film-1: Unexpected error in _crawl_web at line 731 in _crawl_web (../../../../../opt/anaconda3/lib/python3.12/site-packages/crawl4ai/async_crawler_strategy.py):\n",
      "Error: Failed on navigating ACS-GOTO:\n",
      "Page.goto: Timeout 60000ms exceeded.\n",
      "Call log:\n",
      "  - navigating to \"https://www.essex.ac.uk/courses/PG01596/1/MA-Documentary-Film\", waiting until \"domcontentloaded\"\n",
      "\n",
      "\n",
      "Code context:\n",
      " 726                       response = await page.goto(\n",
      " 727                           url, wait_until=config.wait_until, timeout=config.page_timeout\n",
      " 728                       )\n",
      " 729                       redirected_url = page.url\n",
      " 730                   except Error as e:\n",
      " 731 →                     raise RuntimeError(f\"Failed on navigating ACS-GOTO:\\n{str(e)}\")\n",
      " 732   \n",
      " 733                   await self.execute_hook(\n",
      " 734                       \"after_goto\", page, context=context, url=url, response=response, config=config\n",
      " 735                   )\n",
      " 736   \n",
      "[INIT].... → Crawl4AI 0.6.2\n",
      "[FETCH]... ↓ https://www.essex.ac.uk/courses/PG01014/1/MSc-Financial-Data-Analytics                               | ✓ | ⏱: 29.35s\n",
      "[SCRAPE].. ◆ https://www.essex.ac.uk/courses/PG01014/1/MSc-Financial-Data-Analytics                               | ✓ | ⏱: 0.35s\n",
      "[COMPLETE] ● https://www.essex.ac.uk/courses/PG01014/1/MSc-Financial-Data-Analytics                               | ✓ | ⏱: 31.10s\n",
      "[INIT].... → Crawl4AI 0.6.2\n"
     ]
    },
    {
     "data": {
      "application/vnd.jupyter.widget-view+json": {
       "model_id": "6f1886bd040e416ab76affe68f8c78eb",
       "version_major": 2,
       "version_minor": 0
      },
      "text/plain": [
       "images:MSc-Financial-Data-Analytics-1:   0%|          | 0/10 [00:00<?, ?it/s]"
      ]
     },
     "metadata": {},
     "output_type": "display_data"
    },
    {
     "name": "stdout",
     "output_type": "stream",
     "text": [
      "[SCRAPE].. ◆ Some images failed to load within timeout\n",
      "[SCRAPE].. ◆ Some images failed to load within timeout\n",
      "[INIT].... → Crawl4AI 0.6.2\n",
      "[FETCH]... ↓ https://www.essex.ac.uk/courses/PR00913/2/PhD-Finance                                                | ✓ | ⏱: 62.24s\n",
      "[SCRAPE].. ◆ https://www.essex.ac.uk/courses/PR00913/2/PhD-Finance                                                | ✓ | ⏱: 0.33s\n",
      "[COMPLETE] ● https://www.essex.ac.uk/courses/PR00913/2/PhD-Finance                                                | ✓ | ⏱: 63.37s\n",
      "[SCRAPE].. ◆ Some images failed to load within timeout\n",
      "[SCRAPE].. ◆ Some images failed to load within timeout\n"
     ]
    },
    {
     "data": {
      "application/vnd.jupyter.widget-view+json": {
       "model_id": "d52cabcac88d45cb9def451ea7a6adee",
       "version_major": 2,
       "version_minor": 0
      },
      "text/plain": [
       "images:PhD-Finance-2:   0%|          | 0/10 [00:00<?, ?it/s]"
      ]
     },
     "metadata": {},
     "output_type": "display_data"
    },
    {
     "name": "stdout",
     "output_type": "stream",
     "text": [
      "[FETCH]... ↓ https://www.essex.ac.uk/courses/PG00580/1/MSc-Investment-and-Wealth-Management                       | ✓ | ⏱: 53.46s\n",
      "[SCRAPE].. ◆ https://www.essex.ac.uk/courses/PG00580/1/MSc-Investment-and-Wealth-Management                       | ✓ | ⏱: 0.34s\n",
      "[COMPLETE] ● https://www.essex.ac.uk/courses/PG00580/1/MSc-Investment-and-Wealth-Management                       | ✓ | ⏱: 54.65s\n",
      "[FETCH]... ↓ https://www.essex.ac.uk/courses/PR00913/1/PhD-Finance                                                | ✓ | ⏱: 69.62s\n",
      "[SCRAPE].. ◆ https://www.essex.ac.uk/courses/PR00913/1/PhD-Finance                                                | ✓ | ⏱: 0.22s\n",
      "[COMPLETE] ● https://www.essex.ac.uk/courses/PR00913/1/PhD-Finance                                                | ✓ | ⏱: 70.72s\n"
     ]
    },
    {
     "data": {
      "application/vnd.jupyter.widget-view+json": {
       "model_id": "ce4301ac497841f79e49016bf8edf30e",
       "version_major": 2,
       "version_minor": 0
      },
      "text/plain": [
       "images:PhD-Finance-1:   0%|          | 0/10 [00:00<?, ?it/s]"
      ]
     },
     "metadata": {},
     "output_type": "display_data"
    },
    {
     "data": {
      "application/vnd.jupyter.widget-view+json": {
       "model_id": "13bbdc91c0d44a8195ee6c3de8b64ffa",
       "version_major": 2,
       "version_minor": 0
      },
      "text/plain": [
       "images:MSc-Investment-and-Wealth-Management-1:   0%|          | 0/10 [00:00<?, ?it/s]"
      ]
     },
     "metadata": {},
     "output_type": "display_data"
    },
    {
     "name": "stdout",
     "output_type": "stream",
     "text": [
      "[INIT].... → Crawl4AI 0.6.2\n",
      "[FETCH]... ↓ https://www.essex.ac.uk/courses/PG00588/1/MSc-Financial-Engineering-and-Risk-Management              | ✓ | ⏱: 68.59s\n",
      "[SCRAPE].. ◆ https://www.essex.ac.uk/courses/PG00588/1/MSc-Financial-Engineering-and-Risk-Management              | ✓ | ⏱: 0.27s\n",
      "[COMPLETE] ● https://www.essex.ac.uk/courses/PG00588/1/MSc-Financial-Engineering-and-Risk-Management              | ✓ | ⏱: 69.92s\n",
      "[INIT].... → Crawl4AI 0.6.2\n",
      "[INIT].... → Crawl4AI 0.6.2\n"
     ]
    },
    {
     "data": {
      "application/vnd.jupyter.widget-view+json": {
       "model_id": "b5ff95ca959f4a21a419834473abe0ed",
       "version_major": 2,
       "version_minor": 0
      },
      "text/plain": [
       "images:MSc-Financial-Engineering-and-Risk-Management-1:   0%|          | 0/10 [00:00<?, ?it/s]"
      ]
     },
     "metadata": {},
     "output_type": "display_data"
    },
    {
     "name": "stdout",
     "output_type": "stream",
     "text": [
      "[FETCH]... ↓ https://www.essex.ac.uk/courses/PG00461/1/MSc-Corporate-and-Investment-Banking                       | ✓ | ⏱: 53.51s\n",
      "[SCRAPE].. ◆ https://www.essex.ac.uk/courses/PG00461/1/MSc-Corporate-and-Investment-Banking                       | ✓ | ⏱: 0.34s\n",
      "[COMPLETE] ● https://www.essex.ac.uk/courses/PG00461/1/MSc-Corporate-and-Investment-Banking                       | ✓ | ⏱: 54.77s\n",
      "[FETCH]... ↓ https://www.essex.ac.uk/courses/UG01275/1/BSc-Finance-and-Management                                 | ✓ | ⏱: 74.80s\n",
      "[SCRAPE].. ◆ https://www.essex.ac.uk/courses/UG01275/1/BSc-Finance-and-Management                                 | ✓ | ⏱: 0.30s\n",
      "[COMPLETE] ● https://www.essex.ac.uk/courses/UG01275/1/BSc-Finance-and-Management                                 | ✓ | ⏱: 75.97s\n",
      "[INIT].... → Crawl4AI 0.6.2\n"
     ]
    },
    {
     "data": {
      "application/vnd.jupyter.widget-view+json": {
       "model_id": "5d6d6e7dfbe1420cad829b2f9ef1fb2d",
       "version_major": 2,
       "version_minor": 0
      },
      "text/plain": [
       "images:MSc-Corporate-and-Investment-Banking-1:   0%|          | 0/10 [00:00<?, ?it/s]"
      ]
     },
     "metadata": {},
     "output_type": "display_data"
    },
    {
     "name": "stdout",
     "output_type": "stream",
     "text": [
      "[FETCH]... ↓ https://www.essex.ac.uk/courses/PG00579/2/MRes-Finance                                               | ✓ | ⏱: 80.64s\n",
      "[SCRAPE].. ◆ https://www.essex.ac.uk/courses/PG00579/2/MRes-Finance                                               | ✓ | ⏱: 0.26s\n",
      "[COMPLETE] ● https://www.essex.ac.uk/courses/PG00579/2/MRes-Finance                                               | ✓ | ⏱: 81.52s\n"
     ]
    },
    {
     "data": {
      "application/vnd.jupyter.widget-view+json": {
       "model_id": "d350fc3c12cb4f969ade643e7c75ba15",
       "version_major": 2,
       "version_minor": 0
      },
      "text/plain": [
       "images:BSc-Finance-and-Management-1:   0%|          | 0/10 [00:00<?, ?it/s]"
      ]
     },
     "metadata": {},
     "output_type": "display_data"
    },
    {
     "name": "stdout",
     "output_type": "stream",
     "text": [
      "[INIT].... → Crawl4AI 0.6.2\n"
     ]
    },
    {
     "data": {
      "application/vnd.jupyter.widget-view+json": {
       "model_id": "f8278c415ee14302868d0e3ed9712002",
       "version_major": 2,
       "version_minor": 0
      },
      "text/plain": [
       "images:MRes-Finance-2:   0%|          | 0/10 [00:00<?, ?it/s]"
      ]
     },
     "metadata": {},
     "output_type": "display_data"
    },
    {
     "name": "stdout",
     "output_type": "stream",
     "text": [
      "[INIT].... → Crawl4AI 0.6.2\n",
      "[FETCH]... ↓ https://www.essex.ac.uk/courses/PG00579/1/MSc-Finance                                                | ✓ | ⏱: 73.00s\n",
      "[SCRAPE].. ◆ https://www.essex.ac.uk/courses/PG00579/1/MSc-Finance                                                | ✓ | ⏱: 0.35s\n",
      "[COMPLETE] ● https://www.essex.ac.uk/courses/PG00579/1/MSc-Finance                                                | ✓ | ⏱: 74.51s\n",
      "[INIT].... → Crawl4AI 0.6.2\n"
     ]
    },
    {
     "data": {
      "application/vnd.jupyter.widget-view+json": {
       "model_id": "786a0edc75224b0fb03c26a9b9d97975",
       "version_major": 2,
       "version_minor": 0
      },
      "text/plain": [
       "images:MSc-Finance-1:   0%|          | 0/10 [00:00<?, ?it/s]"
      ]
     },
     "metadata": {},
     "output_type": "display_data"
    },
    {
     "name": "stdout",
     "output_type": "stream",
     "text": [
      "[INIT].... → Crawl4AI 0.6.2\n",
      "[SCRAPE].. ◆ Some images failed to load within timeout\n",
      "[FETCH]... ↓ https://www.essex.ac.uk/courses/UG00167/1/BSc-Finance                                                | ✓ | ⏱: 67.64s\n",
      "[SCRAPE].. ◆ https://www.essex.ac.uk/courses/UG00167/1/BSc-Finance                                                | ✓ | ⏱: 0.57s\n",
      "[COMPLETE] ● https://www.essex.ac.uk/courses/UG00167/1/BSc-Finance                                                | ✓ | ⏱: 69.52s\n",
      "[FETCH]... ↓ https://www.essex.ac.uk/courses/UG01369/1/BA-Social-Change                                           | ✓ | ⏱: 20.62s\n",
      "[SCRAPE].. ◆ https://www.essex.ac.uk/courses/UG01369/1/BA-Social-Change                                           | ✓ | ⏱: 0.36s\n",
      "[COMPLETE] ● https://www.essex.ac.uk/courses/UG01369/1/BA-Social-Change                                           | ✓ | ⏱: 21.92s\n"
     ]
    },
    {
     "data": {
      "application/vnd.jupyter.widget-view+json": {
       "model_id": "b66d3799e6ac4118b539afb048f62b00",
       "version_major": 2,
       "version_minor": 0
      },
      "text/plain": [
       "images:BSc-Finance-1:   0%|          | 0/10 [00:00<?, ?it/s]"
      ]
     },
     "metadata": {},
     "output_type": "display_data"
    },
    {
     "name": "stdout",
     "output_type": "stream",
     "text": [
      "[ERROR]... × https://www.essex.ac.uk...-Latin-American-Studies  | Error: \n",
      "┌───────────────────────────────────────────────────────────────────────────────────────────────────────────────────────┐\n",
      "│ × Unexpected error in _crawl_web at line 731 in _crawl_web (../../../../../opt/anaconda3/lib/python3.12/site-         │\n",
      "│ packages/crawl4ai/async_crawler_strategy.py):                                                                         │\n",
      "│   Error: Failed on navigating ACS-GOTO:                                                                               │\n",
      "│   Page.goto: Timeout 60000ms exceeded.                                                                                │\n",
      "│   Call log:                                                                                                           │\n",
      "│   - navigating to \"https://www.essex.ac.uk/courses/UG01432/1/BA-Global-Studies-and-Latin-American-Studies\", waiting   │\n",
      "│ until \"domcontentloaded\"                                                                                              │\n",
      "│                                                                                                                       │\n",
      "│                                                                                                                       │\n",
      "│   Code context:                                                                                                       │\n",
      "│   726                       response = await page.goto(                                                               │\n",
      "│   727                           url, wait_until=config.wait_until, timeout=config.page_timeout                        │\n",
      "│   728                       )                                                                                         │\n",
      "│   729                       redirected_url = page.url                                                                 │\n",
      "│   730                   except Error as e:                                                                            │\n",
      "│   731 →                     raise RuntimeError(f\"Failed on navigating ACS-GOTO:\\n{str(e)}\")                           │\n",
      "│   732                                                                                                                 │\n",
      "│   733                   await self.execute_hook(                                                                      │\n",
      "│   734                       \"after_goto\", page, context=context, url=url, response=response, config=config            │\n",
      "│   735                   )                                                                                             │\n",
      "│   736                                                                                                                 │\n",
      "└───────────────────────────────────────────────────────────────────────────────────────────────────────────────────────┘\n",
      "\n",
      "[ERROR]... × https://www.essex.ac.uk...udies-with-Human-Rights  | Error: \n",
      "┌───────────────────────────────────────────────────────────────────────────────────────────────────────────────────────┐\n",
      "│ × Unexpected error in _crawl_web at line 731 in _crawl_web (../../../../../opt/anaconda3/lib/python3.12/site-         │\n",
      "│ packages/crawl4ai/async_crawler_strategy.py):                                                                         │\n",
      "│   Error: Failed on navigating ACS-GOTO:                                                                               │\n",
      "│   Page.goto: Timeout 60000ms exceeded.                                                                                │\n",
      "│   Call log:                                                                                                           │\n",
      "│   - navigating to \"https://www.essex.ac.uk/courses/UG01349/1/BA-Global-Studies-with-Human-Rights\", waiting until      │\n",
      "│ \"domcontentloaded\"                                                                                                    │\n",
      "│                                                                                                                       │\n",
      "│                                                                                                                       │\n",
      "│   Code context:                                                                                                       │\n",
      "│   726                       response = await page.goto(                                                               │\n",
      "│   727                           url, wait_until=config.wait_until, timeout=config.page_timeout                        │\n",
      "│   728                       )                                                                                         │\n",
      "│   729                       redirected_url = page.url                                                                 │\n",
      "│   730                   except Error as e:                                                                            │\n",
      "│   731 →                     raise RuntimeError(f\"Failed on navigating ACS-GOTO:\\n{str(e)}\")                           │\n",
      "│   732                                                                                                                 │\n",
      "│   733                   await self.execute_hook(                                                                      │\n",
      "│   734                       \"after_goto\", page, context=context, url=url, response=response, config=config            │\n",
      "│   735                   )                                                                                             │\n",
      "│   736                                                                                                                 │\n",
      "└───────────────────────────────────────────────────────────────────────────────────────────────────────────────────────┘\n",
      "\n"
     ]
    },
    {
     "data": {
      "application/vnd.jupyter.widget-view+json": {
       "model_id": "7702b94f58b345699ee11078e87cd948",
       "version_major": 2,
       "version_minor": 0
      },
      "text/plain": [
       "images:BA-Social-Change-1:   0%|          | 0/10 [00:00<?, ?it/s]"
      ]
     },
     "metadata": {},
     "output_type": "display_data"
    },
    {
     "name": "stdout",
     "output_type": "stream",
     "text": [
      "⚠️  BA-Global-Studies-and-Latin-American-Studies-1: Unexpected error in _crawl_web at line 731 in _crawl_web (../../../../../opt/anaconda3/lib/python3.12/site-packages/crawl4ai/async_crawler_strategy.py):\n",
      "Error: Failed on navigating ACS-GOTO:\n",
      "Page.goto: Timeout 60000ms exceeded.\n",
      "Call log:\n",
      "  - navigating to \"https://www.essex.ac.uk/courses/UG01432/1/BA-Global-Studies-and-Latin-American-Studies\", waiting until \"domcontentloaded\"\n",
      "\n",
      "\n",
      "Code context:\n",
      " 726                       response = await page.goto(\n",
      " 727                           url, wait_until=config.wait_until, timeout=config.page_timeout\n",
      " 728                       )\n",
      " 729                       redirected_url = page.url\n",
      " 730                   except Error as e:\n",
      " 731 →                     raise RuntimeError(f\"Failed on navigating ACS-GOTO:\\n{str(e)}\")\n",
      " 732   \n",
      " 733                   await self.execute_hook(\n",
      " 734                       \"after_goto\", page, context=context, url=url, response=response, config=config\n",
      " 735                   )\n",
      " 736   \n",
      "⚠️  BA-Global-Studies-with-Human-Rights-1: Unexpected error in _crawl_web at line 731 in _crawl_web (../../../../../opt/anaconda3/lib/python3.12/site-packages/crawl4ai/async_crawler_strategy.py):\n",
      "Error: Failed on navigating ACS-GOTO:\n",
      "Page.goto: Timeout 60000ms exceeded.\n",
      "Call log:\n",
      "  - navigating to \"https://www.essex.ac.uk/courses/UG01349/1/BA-Global-Studies-with-Human-Rights\", waiting until \"domcontentloaded\"\n",
      "\n",
      "\n",
      "Code context:\n",
      " 726                       response = await page.goto(\n",
      " 727                           url, wait_until=config.wait_until, timeout=config.page_timeout\n",
      " 728                       )\n",
      " 729                       redirected_url = page.url\n",
      " 730                   except Error as e:\n",
      " 731 →                     raise RuntimeError(f\"Failed on navigating ACS-GOTO:\\n{str(e)}\")\n",
      " 732   \n",
      " 733                   await self.execute_hook(\n",
      " 734                       \"after_goto\", page, context=context, url=url, response=response, config=config\n",
      " 735                   )\n",
      " 736   \n",
      "[INIT].... → Crawl4AI 0.6.2\n",
      "[INIT].... → Crawl4AI 0.6.2\n",
      "[INIT].... → Crawl4AI 0.6.2\n",
      "[INIT].... → Crawl4AI 0.6.2\n",
      "[FETCH]... ↓ https://www.essex.ac.uk/courses/UG01430/1/BA-Global-Studies-with-Latin-American-Studies              | ✓ | ⏱: 80.74s\n",
      "[SCRAPE].. ◆ https://www.essex.ac.uk/courses/UG01430/1/BA-Global-Studies-with-Latin-American-Studies              | ✓ | ⏱: 0.62s\n",
      "[COMPLETE] ● https://www.essex.ac.uk/courses/UG01430/1/BA-Global-Studies-with-Latin-American-Studies              | ✓ | ⏱: 82.76s\n",
      "[FETCH]... ↓ https://www.essex.ac.uk/courses/UG01341/1/BA-Global-Studies-with-Politics                            | ✓ | ⏱: 56.00s\n",
      "[SCRAPE].. ◆ https://www.essex.ac.uk/courses/UG01341/1/BA-Global-Studies-with-Politics                            | ✓ | ⏱: 0.30s\n",
      "[COMPLETE] ● https://www.essex.ac.uk/courses/UG01341/1/BA-Global-Studies-with-Politics                            | ✓ | ⏱: 57.23s\n"
     ]
    },
    {
     "data": {
      "application/vnd.jupyter.widget-view+json": {
       "model_id": "04c7613c105b434a94f15e716647a3ae",
       "version_major": 2,
       "version_minor": 0
      },
      "text/plain": [
       "images:BA-Global-Studies-with-Latin-American-Studies-1:   0%|          | 0/10 [00:00<?, ?it/s]"
      ]
     },
     "metadata": {},
     "output_type": "display_data"
    },
    {
     "data": {
      "application/vnd.jupyter.widget-view+json": {
       "model_id": "5d5fb9ad5d9a4d888bbfc36b9941f834",
       "version_major": 2,
       "version_minor": 0
      },
      "text/plain": [
       "images:BA-Global-Studies-with-Politics-1:   0%|          | 0/11 [00:00<?, ?it/s]"
      ]
     },
     "metadata": {},
     "output_type": "display_data"
    },
    {
     "name": "stdout",
     "output_type": "stream",
     "text": [
      "[INIT].... → Crawl4AI 0.6.2\n",
      "[INIT].... → Crawl4AI 0.6.2\n",
      "[FETCH]... ↓ https://www.essex.ac.uk/courses/UG01054/1/BA-Global-Studies                                          | ✓ | ⏱: 85.78s\n",
      "[SCRAPE].. ◆ https://www.essex.ac.uk/courses/UG01054/1/BA-Global-Studies                                          | ✓ | ⏱: 0.38s\n",
      "[COMPLETE] ● https://www.essex.ac.uk/courses/UG01054/1/BA-Global-Studies                                          | ✓ | ⏱: 87.13s\n",
      "[FETCH]... ↓ https://www.essex.ac.uk/courses/UG01144/1/BA-Global-Studies-and-Modern-Languages                     | ✓ | ⏱: 76.94s\n",
      "[SCRAPE].. ◆ https://www.essex.ac.uk/courses/UG01144/1/BA-Global-Studies-and-Modern-Languages                     | ✓ | ⏱: 0.26s\n",
      "[COMPLETE] ● https://www.essex.ac.uk/courses/UG01144/1/BA-Global-Studies-and-Modern-Languages                     | ✓ | ⏱: 78.32s\n"
     ]
    },
    {
     "data": {
      "application/vnd.jupyter.widget-view+json": {
       "model_id": "c92de2e2669646be9c81098523ed11df",
       "version_major": 2,
       "version_minor": 0
      },
      "text/plain": [
       "images:BA-Global-Studies-and-Modern-Languages-1:   0%|          | 0/10 [00:00<?, ?it/s]"
      ]
     },
     "metadata": {},
     "output_type": "display_data"
    },
    {
     "data": {
      "application/vnd.jupyter.widget-view+json": {
       "model_id": "2cd397ed10434197b70ab206efbf8945",
       "version_major": 2,
       "version_minor": 0
      },
      "text/plain": [
       "images:BA-Global-Studies-1:   0%|          | 0/11 [00:00<?, ?it/s]"
      ]
     },
     "metadata": {},
     "output_type": "display_data"
    },
    {
     "name": "stdout",
     "output_type": "stream",
     "text": [
      "[INIT].... → Crawl4AI 0.6.2\n",
      "[INIT].... → Crawl4AI 0.6.2\n",
      "[FETCH]... ↓ https://www.essex.ac.uk/courses/PG01084/2/Postgraduate-Diploma-Musculoskeletal-Ultrasound-Imaging    | ✓ | ⏱: 52.57s\n",
      "[SCRAPE].. ◆ https://www.essex.ac.uk/courses/PG01084/2/Postgraduate-Diploma-Musculoskeletal-Ultrasound-Imaging    | ✓ | ⏱: 0.26s\n",
      "[COMPLETE] ● https://www.essex.ac.uk/courses/PG01084/2/Postgraduate-Diploma-Musculoskeletal-Ultrasound-Imaging    | ✓ | ⏱: 53.52s\n",
      "[FETCH]... ↓ https://www.essex.ac.uk/courses/PR00952/1/Professional-Doctorate-Nursing                             | ✓ | ⏱: 52.46s\n",
      "[SCRAPE].. ◆ https://www.essex.ac.uk/courses/PR00952/1/Professional-Doctorate-Nursing                             | ✓ | ⏱: 0.14s\n",
      "[COMPLETE] ● https://www.essex.ac.uk/courses/PR00952/1/Professional-Doctorate-Nursing                             | ✓ | ⏱: 53.34s\n",
      "[FETCH]... ↓ https://www.essex.ac.uk/courses/PG00754/1/Postgraduate-Certificate-Psychological-Wellbeing-Practice  | ✓ | ⏱: 55.55s\n",
      "[SCRAPE].. ◆ https://www.essex.ac.uk/courses/PG00754/1/Postgraduate-Certificate-Psychological-Wellbeing-Practice  | ✓ | ⏱: 0.28s\n",
      "[COMPLETE] ● https://www.essex.ac.uk/courses/PG00754/1/Postgraduate-Certificate-Psychological-Wellbeing-Practice  | ✓ | ⏱: 56.83s\n",
      "[FETCH]... ↓ https://www.essex.ac.uk/courses/UG00375/1/BA-Social-Work                                             | ✓ | ⏱: 55.66s\n",
      "[SCRAPE].. ◆ https://www.essex.ac.uk/courses/UG00375/1/BA-Social-Work                                             | ✓ | ⏱: 0.44s\n",
      "[COMPLETE] ● https://www.essex.ac.uk/courses/UG00375/1/BA-Social-Work                                             | ✓ | ⏱: 56.95s\n"
     ]
    },
    {
     "data": {
      "application/vnd.jupyter.widget-view+json": {
       "model_id": "f28e9258e958411684eee0f9de7053f1",
       "version_major": 2,
       "version_minor": 0
      },
      "text/plain": [
       "images:Postgraduate-Certificate-Psychological-Wellbeing-Practice-1:   0%|          | 0/10 [00:00<?, ?it/s]"
      ]
     },
     "metadata": {},
     "output_type": "display_data"
    },
    {
     "data": {
      "application/vnd.jupyter.widget-view+json": {
       "model_id": "bfdc5c0479f44aea8b2834bb9d0a9a36",
       "version_major": 2,
       "version_minor": 0
      },
      "text/plain": [
       "images:Postgraduate-Diploma-Musculoskeletal-Ultrasound-Imaging-2:   0%|          | 0/10 [00:00<?, ?it/s]"
      ]
     },
     "metadata": {},
     "output_type": "display_data"
    },
    {
     "data": {
      "application/vnd.jupyter.widget-view+json": {
       "model_id": "407d0ccdb1ef4d63a005b7246453e375",
       "version_major": 2,
       "version_minor": 0
      },
      "text/plain": [
       "images:Professional-Doctorate-Nursing-1:   0%|          | 0/10 [00:00<?, ?it/s]"
      ]
     },
     "metadata": {},
     "output_type": "display_data"
    },
    {
     "name": "stdout",
     "output_type": "stream",
     "text": [
      "[FETCH]... ↓ https://www.essex.ac.uk/courses/UG00316/2/BSc-Nursing-Mental-Health                                  | ✓ | ⏱: 27.86s\n",
      "[SCRAPE].. ◆ https://www.essex.ac.uk/courses/UG00316/2/BSc-Nursing-Mental-Health                                  | ✓ | ⏱: 0.26s\n",
      "[COMPLETE] ● https://www.essex.ac.uk/courses/UG00316/2/BSc-Nursing-Mental-Health                                  | ✓ | ⏱: 28.87s\n"
     ]
    },
    {
     "data": {
      "application/vnd.jupyter.widget-view+json": {
       "model_id": "0eb5915fd3604a379e486cfda3153180",
       "version_major": 2,
       "version_minor": 0
      },
      "text/plain": [
       "images:BA-Social-Work-1:   0%|          | 0/10 [00:00<?, ?it/s]"
      ]
     },
     "metadata": {},
     "output_type": "display_data"
    },
    {
     "data": {
      "application/vnd.jupyter.widget-view+json": {
       "model_id": "115702838db943499df0d04e8d3d576f",
       "version_major": 2,
       "version_minor": 0
      },
      "text/plain": [
       "images:BSc-Nursing-Mental-Health-2:   0%|          | 0/10 [00:00<?, ?it/s]"
      ]
     },
     "metadata": {},
     "output_type": "display_data"
    },
    {
     "name": "stdout",
     "output_type": "stream",
     "text": [
      "[INIT].... → Crawl4AI 0.6.2\n",
      "[INIT].... → Crawl4AI 0.6.2\n",
      "[INIT].... → Crawl4AI 0.6.2\n",
      "[FETCH]... ↓ https://www.essex.ac.uk/courses/UG00316/1/BSc-Nursing-Mental-Health                                  | ✓ | ⏱: 35.23s\n",
      "[SCRAPE].. ◆ https://www.essex.ac.uk/courses/UG00316/1/BSc-Nursing-Mental-Health                                  | ✓ | ⏱: 0.31s\n",
      "[COMPLETE] ● https://www.essex.ac.uk/courses/UG00316/1/BSc-Nursing-Mental-Health                                  | ✓ | ⏱: 36.53s\n",
      "[INIT].... → Crawl4AI 0.6.2\n",
      "[INIT].... → Crawl4AI 0.6.2\n"
     ]
    },
    {
     "data": {
      "application/vnd.jupyter.widget-view+json": {
       "model_id": "00011a40c37c42ce83f365918b39eb27",
       "version_major": 2,
       "version_minor": 0
      },
      "text/plain": [
       "images:BSc-Nursing-Mental-Health-1:   0%|          | 0/10 [00:00<?, ?it/s]"
      ]
     },
     "metadata": {},
     "output_type": "display_data"
    },
    {
     "name": "stdout",
     "output_type": "stream",
     "text": [
      "[FETCH]... ↓ https://www.essex.ac.uk/courses/PG00602/1/MSc-Advanced-Clinical-Practice                             | ✓ | ⏱: 27.84s\n",
      "[SCRAPE].. ◆ https://www.essex.ac.uk/courses/PG00602/1/MSc-Advanced-Clinical-Practice                             | ✓ | ⏱: 0.27s\n",
      "[COMPLETE] ● https://www.essex.ac.uk/courses/PG00602/1/MSc-Advanced-Clinical-Practice                             | ✓ | ⏱: 29.17s\n",
      "[INIT].... → Crawl4AI 0.6.2\n"
     ]
    },
    {
     "data": {
      "application/vnd.jupyter.widget-view+json": {
       "model_id": "2b6a285c88184ba8bf6afe9a5c622152",
       "version_major": 2,
       "version_minor": 0
      },
      "text/plain": [
       "images:MSc-Advanced-Clinical-Practice-1:   0%|          | 0/10 [00:00<?, ?it/s]"
      ]
     },
     "metadata": {},
     "output_type": "display_data"
    },
    {
     "name": "stdout",
     "output_type": "stream",
     "text": [
      "[FETCH]... ↓ https://www.essex.ac.uk/courses/PG01030/1/Periodontology                                             | ✓ | ⏱: 16.23s\n",
      "[SCRAPE].. ◆ https://www.essex.ac.uk/courses/PG01030/1/Periodontology                                             | ✓ | ⏱: 0.28s\n",
      "[COMPLETE] ● https://www.essex.ac.uk/courses/PG01030/1/Periodontology                                             | ✓ | ⏱: 17.54s\n",
      "[INIT].... → Crawl4AI 0.6.2\n",
      "[FETCH]... ↓ https://www.essex.ac.uk/courses/PG01447/1/MSc-Global-Public-Health                                   | ✓ | ⏱: 18.53s\n",
      "[SCRAPE].. ◆ https://www.essex.ac.uk/courses/PG01447/1/MSc-Global-Public-Health                                   | ✓ | ⏱: 0.32s\n",
      "[COMPLETE] ● https://www.essex.ac.uk/courses/PG01447/1/MSc-Global-Public-Health                                   | ✓ | ⏱: 20.29s\n"
     ]
    },
    {
     "data": {
      "application/vnd.jupyter.widget-view+json": {
       "model_id": "bbefee0df96c43be8edf080c5a80639e",
       "version_major": 2,
       "version_minor": 0
      },
      "text/plain": [
       "images:Periodontology-1:   0%|          | 0/4 [00:00<?, ?it/s]"
      ]
     },
     "metadata": {},
     "output_type": "display_data"
    },
    {
     "name": "stdout",
     "output_type": "stream",
     "text": [
      "[FETCH]... ↓ https://www.essex.ac.uk/courses/PG01008/1/MSc-Medical-and-Clinical-Education                         | ✓ | ⏱: 21.53s\n",
      "[SCRAPE].. ◆ https://www.essex.ac.uk/courses/PG01008/1/MSc-Medical-and-Clinical-Education                         | ✓ | ⏱: 0.27s\n",
      "[COMPLETE] ● https://www.essex.ac.uk/courses/PG01008/1/MSc-Medical-and-Clinical-Education                         | ✓ | ⏱: 22.79s\n"
     ]
    },
    {
     "data": {
      "application/vnd.jupyter.widget-view+json": {
       "model_id": "9a810a930a4b481291b2c9be3c316bbc",
       "version_major": 2,
       "version_minor": 0
      },
      "text/plain": [
       "images:MSc-Global-Public-Health-1:   0%|          | 0/10 [00:00<?, ?it/s]"
      ]
     },
     "metadata": {},
     "output_type": "display_data"
    },
    {
     "name": "stdout",
     "output_type": "stream",
     "text": [
      "[FETCH]... ↓ https://www.essex.ac.uk/courses/PR00974/1/Professional-Doctorate-Public-Health-Health-Visiting       | ✓ | ⏱: 25.49s\n",
      "[SCRAPE].. ◆ https://www.essex.ac.uk/courses/PR00974/1/Professional-Doctorate-Public-Health-Health-Visiting       | ✓ | ⏱: 0.33s\n",
      "[COMPLETE] ● https://www.essex.ac.uk/courses/PR00974/1/Professional-Doctorate-Public-Health-Health-Visiting       | ✓ | ⏱: 26.86s\n",
      "[INIT].... → Crawl4AI 0.6.2\n"
     ]
    },
    {
     "data": {
      "application/vnd.jupyter.widget-view+json": {
       "model_id": "235215a91d2d44a0b23a3b33a5cbbe14",
       "version_major": 2,
       "version_minor": 0
      },
      "text/plain": [
       "images:MSc-Medical-and-Clinical-Education-1:   0%|          | 0/10 [00:00<?, ?it/s]"
      ]
     },
     "metadata": {},
     "output_type": "display_data"
    },
    {
     "data": {
      "application/vnd.jupyter.widget-view+json": {
       "model_id": "9d11162dfcd545f99708de512d2cec6a",
       "version_major": 2,
       "version_minor": 0
      },
      "text/plain": [
       "images:Professional-Doctorate-Public-Health-Health-Visiting-1:   0%|          | 0/10 [00:00<?, ?it/s]"
      ]
     },
     "metadata": {},
     "output_type": "display_data"
    },
    {
     "name": "stdout",
     "output_type": "stream",
     "text": [
      "[INIT].... → Crawl4AI 0.6.2\n",
      "[INIT].... → Crawl4AI 0.6.2\n",
      "[INIT].... → Crawl4AI 0.6.2\n",
      "[SCRAPE].. ◆ Some images failed to load within timeout\n",
      "[FETCH]... ↓ https://www.essex.ac.uk/courses/PG01084/1/Postgr...e-Certificate-Musculoskeletal-Ultrasound-Imaging  | ✓ | ⏱: 38.70s\n",
      "[SCRAPE].. ◆ https://www.essex.ac.uk/courses/PG01084/1/Postgr...e-Certificate-Musculoskeletal-Ultrasound-Imaging  | ✓ | ⏱: 0.34s\n",
      "[COMPLETE] ● https://www.essex.ac.uk/courses/PG01084/1/Postgr...e-Certificate-Musculoskeletal-Ultrasound-Imaging  | ✓ | ⏱: 40.08s\n",
      "[FETCH]... ↓ https://www.essex.ac.uk/courses/PG01565/2/Postgr...-Health-Mental-Health-and-Wellbeing-Practitioner  | ✓ | ⏱: 22.37s\n",
      "[SCRAPE].. ◆ https://www.essex.ac.uk/courses/PG01565/2/Postgr...-Health-Mental-Health-and-Wellbeing-Practitioner  | ✓ | ⏱: 0.27s\n",
      "[COMPLETE] ● https://www.essex.ac.uk/courses/PG01565/2/Postgr...-Health-Mental-Health-and-Wellbeing-Practitioner  | ✓ | ⏱: 23.78s\n",
      "[FETCH]... ↓ https://www.essex.ac.uk/courses/PG01084/3/MSc-Musculoskeletal-Ultrasound-Imaging                     | ✓ | ⏱: 32.71s\n",
      "[SCRAPE].. ◆ https://www.essex.ac.uk/courses/PG01084/3/MSc-Musculoskeletal-Ultrasound-Imaging                     | ✓ | ⏱: 0.35s\n",
      "[COMPLETE] ● https://www.essex.ac.uk/courses/PG01084/3/MSc-Musculoskeletal-Ultrasound-Imaging                     | ✓ | ⏱: 34.26s\n"
     ]
    },
    {
     "data": {
      "application/vnd.jupyter.widget-view+json": {
       "model_id": "2aa5694cc65d401c8145234cece234ad",
       "version_major": 2,
       "version_minor": 0
      },
      "text/plain": [
       "images:Postgraduate-Certificate-Specialist-Adult-Mental-Health-Mental-Health-and-Wellbeing-Practitioner-2:   0…"
      ]
     },
     "metadata": {},
     "output_type": "display_data"
    },
    {
     "data": {
      "application/vnd.jupyter.widget-view+json": {
       "model_id": "b0617d5f566f4b6a98695cebc3a8cd2a",
       "version_major": 2,
       "version_minor": 0
      },
      "text/plain": [
       "images:Postgraduate-Certificate-Musculoskeletal-Ultrasound-Imaging-1:   0%|          | 0/10 [00:00<?, ?it/s]"
      ]
     },
     "metadata": {},
     "output_type": "display_data"
    },
    {
     "data": {
      "application/vnd.jupyter.widget-view+json": {
       "model_id": "540d5c97b1ac45f896b9ae240a93d966",
       "version_major": 2,
       "version_minor": 0
      },
      "text/plain": [
       "images:MSc-Musculoskeletal-Ultrasound-Imaging-3:   0%|          | 0/10 [00:00<?, ?it/s]"
      ]
     },
     "metadata": {},
     "output_type": "display_data"
    },
    {
     "name": "stdout",
     "output_type": "stream",
     "text": [
      "[INIT].... → Crawl4AI 0.6.2\n",
      "[INIT].... → Crawl4AI 0.6.2\n",
      "[INIT].... → Crawl4AI 0.6.2\n",
      "[FETCH]... ↓ https://www.essex.ac.uk/courses/PR00920/1/PhD-Health-Studies                                         | ✓ | ⏱: 20.90s\n",
      "[SCRAPE].. ◆ https://www.essex.ac.uk/courses/PR00920/1/PhD-Health-Studies                                         | ✓ | ⏱: 0.28s\n",
      "[COMPLETE] ● https://www.essex.ac.uk/courses/PR00920/1/PhD-Health-Studies                                         | ✓ | ⏱: 22.27s\n",
      "[FETCH]... ↓ https://www.essex.ac.uk/courses/PR00973/2/MPhil-Public-Health                                        | ✓ | ⏱: 28.72s\n",
      "[SCRAPE].. ◆ https://www.essex.ac.uk/courses/PR00973/2/MPhil-Public-Health                                        | ✓ | ⏱: 0.29s\n",
      "[COMPLETE] ● https://www.essex.ac.uk/courses/PR00973/2/MPhil-Public-Health                                        | ✓ | ⏱: 30.15s\n",
      "[FETCH]... ↓ https://www.essex.ac.uk/courses/PG00803/1/MSc-Speech-and-Language-Therapy-Pre-Registration           | ✓ | ⏱: 25.06s\n",
      "[SCRAPE].. ◆ https://www.essex.ac.uk/courses/PG00803/1/MSc-Speech-and-Language-Therapy-Pre-Registration           | ✓ | ⏱: 0.37s\n",
      "[COMPLETE] ● https://www.essex.ac.uk/courses/PG00803/1/MSc-Speech-and-Language-Therapy-Pre-Registration           | ✓ | ⏱: 26.64s\n"
     ]
    },
    {
     "data": {
      "application/vnd.jupyter.widget-view+json": {
       "model_id": "a2d9d37bef6946f98cd50987e7fcd7cc",
       "version_major": 2,
       "version_minor": 0
      },
      "text/plain": [
       "images:PhD-Health-Studies-1:   0%|          | 0/10 [00:00<?, ?it/s]"
      ]
     },
     "metadata": {},
     "output_type": "display_data"
    },
    {
     "name": "stdout",
     "output_type": "stream",
     "text": [
      "⚠ cannot fetch https://www.essex.ac.uk/-/media/header-images/faculty-of-science-and-health/health-and-social-care/hsc-nurse-(1).png?mh=512&mw=512&hash=DCAF7D2DFE9C2C5BC61087EE5C7D00AE: HTTPSConnectionPool(host='www.essex.ac.uk', port=443): Max retries exceeded with url: /-/media/header-images/faculty-of-science-and-health/health-and-social-care/hsc-nurse-(1).png?mh=512&mw=512&hash=DCAF7D2DFE9C2C5BC61087EE5C7D00AE (Caused by NewConnectionError('<urllib3.connection.HTTPSConnection object at 0x150f685c0>: Failed to establish a new connection: [Errno 61] Connection refused'))\n"
     ]
    },
    {
     "data": {
      "application/vnd.jupyter.widget-view+json": {
       "model_id": "9302bb6f61c245368c168779cc9b24bc",
       "version_major": 2,
       "version_minor": 0
      },
      "text/plain": [
       "images:MPhil-Public-Health-2:   0%|          | 0/10 [00:00<?, ?it/s]"
      ]
     },
     "metadata": {},
     "output_type": "display_data"
    },
    {
     "data": {
      "application/vnd.jupyter.widget-view+json": {
       "model_id": "8a9d7f364bc746119daefb8d8c90405d",
       "version_major": 2,
       "version_minor": 0
      },
      "text/plain": [
       "images:MSc-Speech-and-Language-Therapy-Pre-Registration-1:   0%|          | 0/10 [00:00<?, ?it/s]"
      ]
     },
     "metadata": {},
     "output_type": "display_data"
    },
    {
     "name": "stdout",
     "output_type": "stream",
     "text": [
      "[ERROR]... × https://www.essex.ac.uk...e-Health-Care-Education  | Error: \n",
      "┌───────────────────────────────────────────────────────────────────────────────────────────────────────────────────────┐\n",
      "│ × Unexpected error in _crawl_web at line 731 in _crawl_web (../../../../../opt/anaconda3/lib/python3.12/site-         │\n",
      "│ packages/crawl4ai/async_crawler_strategy.py):                                                                         │\n",
      "│   Error: Failed on navigating ACS-GOTO:                                                                               │\n",
      "│   Page.goto: net::ERR_CONNECTION_REFUSED at https://www.essex.ac.uk/courses/PR00917/1/Professional-Doctorate-Health-  │\n",
      "│ Care-Education                                                                                                        │\n",
      "│   Call log:                                                                                                           │\n",
      "│   - navigating to \"https://www.essex.ac.uk/courses/PR00917/1/Professional-Doctorate-Health-Care-Education\", waiting   │\n",
      "│ until \"domcontentloaded\"                                                                                              │\n",
      "│                                                                                                                       │\n",
      "│                                                                                                                       │\n",
      "│   Code context:                                                                                                       │\n",
      "│   726                       response = await page.goto(                                                               │\n",
      "│   727                           url, wait_until=config.wait_until, timeout=config.page_timeout                        │\n",
      "│   728                       )                                                                                         │\n",
      "│   729                       redirected_url = page.url                                                                 │\n",
      "│   730                   except Error as e:                                                                            │\n",
      "│   731 →                     raise RuntimeError(f\"Failed on navigating ACS-GOTO:\\n{str(e)}\")                           │\n",
      "│   732                                                                                                                 │\n",
      "│   733                   await self.execute_hook(                                                                      │\n",
      "│   734                       \"after_goto\", page, context=context, url=url, response=response, config=config            │\n",
      "│   735                   )                                                                                             │\n",
      "│   736                                                                                                                 │\n",
      "└───────────────────────────────────────────────────────────────────────────────────────────────────────────────────────┘\n",
      "\n",
      "[ERROR]... × https://www.essex.ac.uk...sertation-Public-Health  | Error: \n",
      "┌───────────────────────────────────────────────────────────────────────────────────────────────────────────────────────┐\n",
      "│ × Unexpected error in _crawl_web at line 731 in _crawl_web (../../../../../opt/anaconda3/lib/python3.12/site-         │\n",
      "│ packages/crawl4ai/async_crawler_strategy.py):                                                                         │\n",
      "│   Error: Failed on navigating ACS-GOTO:                                                                               │\n",
      "│   Page.goto: net::ERR_CONNECTION_REFUSED at https://www.essex.ac.uk/courses/PR00973/3/MSc-by-Dissertation-Public-     │\n",
      "│ Health                                                                                                                │\n",
      "│   Call log:                                                                                                           │\n",
      "│   - navigating to \"https://www.essex.ac.uk/courses/PR00973/3/MSc-by-Dissertation-Public-Health\", waiting until        │\n",
      "│ \"domcontentloaded\"                                                                                                    │\n",
      "│                                                                                                                       │\n",
      "│                                                                                                                       │\n",
      "│   Code context:                                                                                                       │\n",
      "│   726                       response = await page.goto(                                                               │\n",
      "│   727                           url, wait_until=config.wait_until, timeout=config.page_timeout                        │\n",
      "│   728                       )                                                                                         │\n",
      "│   729                       redirected_url = page.url                                                                 │\n",
      "│   730                   except Error as e:                                                                            │\n",
      "│   731 →                     raise RuntimeError(f\"Failed on navigating ACS-GOTO:\\n{str(e)}\")                           │\n",
      "│   732                                                                                                                 │\n",
      "│   733                   await self.execute_hook(                                                                      │\n",
      "│   734                       \"after_goto\", page, context=context, url=url, response=response, config=config            │\n",
      "│   735                   )                                                                                             │\n",
      "│   736                                                                                                                 │\n",
      "└───────────────────────────────────────────────────────────────────────────────────────────────────────────────────────┘\n",
      "\n",
      "[ERROR]... × https://www.essex.ac.uk...usculoskeletal-Practice  | Error: \n",
      "┌───────────────────────────────────────────────────────────────────────────────────────────────────────────────────────┐\n",
      "│ × Unexpected error in _crawl_web at line 731 in _crawl_web (../../../../../opt/anaconda3/lib/python3.12/site-         │\n",
      "│ packages/crawl4ai/async_crawler_strategy.py):                                                                         │\n",
      "│   Error: Failed on navigating ACS-GOTO:                                                                               │\n",
      "│   Page.goto: net::ERR_CONNECTION_REFUSED at https://www.essex.ac.uk/courses/PG01450/1/Postgraduate-Certificate-       │\n",
      "│ First-Contact-Musculoskeletal-Practice                                                                                │\n",
      "│   Call log:                                                                                                           │\n",
      "│   - navigating to \"https://www.essex.ac.uk/courses/PG01450/1/Postgraduate-Certificate-First-Contact-Musculoskeletal-  │\n",
      "│ Practice\", waiting until \"domcontentloaded\"                                                                           │\n",
      "│                                                                                                                       │\n",
      "│                                                                                                                       │\n",
      "│   Code context:                                                                                                       │\n",
      "│   726                       response = await page.goto(                                                               │\n",
      "│   727                           url, wait_until=config.wait_until, timeout=config.page_timeout                        │\n",
      "│   728                       )                                                                                         │\n",
      "│   729                       redirected_url = page.url                                                                 │\n",
      "│   730                   except Error as e:                                                                            │\n",
      "│   731 →                     raise RuntimeError(f\"Failed on navigating ACS-GOTO:\\n{str(e)}\")                           │\n",
      "│   732                                                                                                                 │\n",
      "│   733                   await self.execute_hook(                                                                      │\n",
      "│   734                       \"after_goto\", page, context=context, url=url, response=response, config=config            │\n",
      "│   735                   )                                                                                             │\n",
      "│   736                                                                                                                 │\n",
      "└───────────────────────────────────────────────────────────────────────────────────────────────────────────────────────┘\n",
      "\n",
      "[FETCH]... ↓ https://www.essex.ac.uk/courses/PR00915/1/PhD-Health-and-Organisational-Research                     | ✓ | ⏱: 144.20s\n",
      "[SCRAPE].. ◆ https://www.essex.ac.uk/courses/PR00915/1/PhD-Health-and-Organisational-Research                     | ✓ | ⏱: 0.25s\n",
      "[COMPLETE] ● https://www.essex.ac.uk/courses/PR00915/1/PhD-Health-and-Organisational-Research                     | ✓ | ⏱: 145.72s\n",
      "[INIT].... → Crawl4AI 0.6.2\n",
      "[INIT].... → Crawl4AI 0.6.2\n",
      "[INIT].... → Crawl4AI 0.6.2\n",
      "⚠️  Professional-Doctorate-Health-Care-Education-1: Unexpected error in _crawl_web at line 731 in _crawl_web (../../../../../opt/anaconda3/lib/python3.12/site-packages/crawl4ai/async_crawler_strategy.py):\n",
      "Error: Failed on navigating ACS-GOTO:\n",
      "Page.goto: net::ERR_CONNECTION_REFUSED at https://www.essex.ac.uk/courses/PR00917/1/Professional-Doctorate-Health-Care-Education\n",
      "Call log:\n",
      "  - navigating to \"https://www.essex.ac.uk/courses/PR00917/1/Professional-Doctorate-Health-Care-Education\", waiting until \"domcontentloaded\"\n",
      "\n",
      "\n",
      "Code context:\n",
      " 726                       response = await page.goto(\n",
      " 727                           url, wait_until=config.wait_until, timeout=config.page_timeout\n",
      " 728                       )\n",
      " 729                       redirected_url = page.url\n",
      " 730                   except Error as e:\n",
      " 731 →                     raise RuntimeError(f\"Failed on navigating ACS-GOTO:\\n{str(e)}\")\n",
      " 732   \n",
      " 733                   await self.execute_hook(\n",
      " 734                       \"after_goto\", page, context=context, url=url, response=response, config=config\n",
      " 735                   )\n",
      " 736   \n",
      "⚠️  MSc-by-Dissertation-Public-Health-3: Unexpected error in _crawl_web at line 731 in _crawl_web (../../../../../opt/anaconda3/lib/python3.12/site-packages/crawl4ai/async_crawler_strategy.py):\n",
      "Error: Failed on navigating ACS-GOTO:\n",
      "Page.goto: net::ERR_CONNECTION_REFUSED at https://www.essex.ac.uk/courses/PR00973/3/MSc-by-Dissertation-Public-Health\n",
      "Call log:\n",
      "  - navigating to \"https://www.essex.ac.uk/courses/PR00973/3/MSc-by-Dissertation-Public-Health\", waiting until \"domcontentloaded\"\n",
      "\n",
      "\n",
      "Code context:\n",
      " 726                       response = await page.goto(\n",
      " 727                           url, wait_until=config.wait_until, timeout=config.page_timeout\n",
      " 728                       )\n",
      " 729                       redirected_url = page.url\n",
      " 730                   except Error as e:\n",
      " 731 →                     raise RuntimeError(f\"Failed on navigating ACS-GOTO:\\n{str(e)}\")\n",
      " 732   \n",
      " 733                   await self.execute_hook(\n",
      " 734                       \"after_goto\", page, context=context, url=url, response=response, config=config\n",
      " 735                   )\n",
      " 736   \n",
      "⚠️  Postgraduate-Certificate-First-Contact-Musculoskeletal-Practice-1: Unexpected error in _crawl_web at line 731 in _crawl_web (../../../../../opt/anaconda3/lib/python3.12/site-packages/crawl4ai/async_crawler_strategy.py):\n",
      "Error: Failed on navigating ACS-GOTO:\n",
      "Page.goto: net::ERR_CONNECTION_REFUSED at https://www.essex.ac.uk/courses/PG01450/1/Postgraduate-Certificate-First-Contact-Musculoskeletal-Practice\n",
      "Call log:\n",
      "  - navigating to \"https://www.essex.ac.uk/courses/PG01450/1/Postgraduate-Certificate-First-Contact-Musculoskeletal-Practice\", waiting until \"domcontentloaded\"\n",
      "\n",
      "\n",
      "Code context:\n",
      " 726                       response = await page.goto(\n",
      " 727                           url, wait_until=config.wait_until, timeout=config.page_timeout\n",
      " 728                       )\n",
      " 729                       redirected_url = page.url\n",
      " 730                   except Error as e:\n",
      " 731 →                     raise RuntimeError(f\"Failed on navigating ACS-GOTO:\\n{str(e)}\")\n",
      " 732   \n",
      " 733                   await self.execute_hook(\n",
      " 734                       \"after_goto\", page, context=context, url=url, response=response, config=config\n",
      " 735                   )\n",
      " 736   \n"
     ]
    },
    {
     "data": {
      "application/vnd.jupyter.widget-view+json": {
       "model_id": "90dcca13eb084b12b49145463d73a909",
       "version_major": 2,
       "version_minor": 0
      },
      "text/plain": [
       "images:PhD-Health-and-Organisational-Research-1:   0%|          | 0/10 [00:00<?, ?it/s]"
      ]
     },
     "metadata": {},
     "output_type": "display_data"
    },
    {
     "name": "stdout",
     "output_type": "stream",
     "text": [
      "[INIT].... → Crawl4AI 0.6.2\n",
      "[INIT].... → Crawl4AI 0.6.2\n",
      "[FETCH]... ↓ https://www.essex.ac.uk/courses/PR00979/2/MPhil-Social-Policy                                        | ✓ | ⏱: 96.06s\n",
      "[SCRAPE].. ◆ https://www.essex.ac.uk/courses/PR00979/2/MPhil-Social-Policy                                        | ✓ | ⏱: 0.37s\n",
      "[COMPLETE] ● https://www.essex.ac.uk/courses/PR00979/2/MPhil-Social-Policy                                        | ✓ | ⏱: 98.21s\n",
      "[INIT].... → Crawl4AI 0.6.2\n",
      "[INIT].... → Crawl4AI 0.6.2\n"
     ]
    },
    {
     "data": {
      "application/vnd.jupyter.widget-view+json": {
       "model_id": "83884ddda7fb45d0a0d4f0476621519c",
       "version_major": 2,
       "version_minor": 0
      },
      "text/plain": [
       "images:MPhil-Social-Policy-2:   0%|          | 0/10 [00:00<?, ?it/s]"
      ]
     },
     "metadata": {},
     "output_type": "display_data"
    },
    {
     "name": "stdout",
     "output_type": "stream",
     "text": [
      "[INIT].... → Crawl4AI 0.6.2\n",
      "[FETCH]... ↓ https://www.essex.ac.uk/courses/PG01031/1/Advanced-Periodontal-Practice                              | ✓ | ⏱: 10.73s\n",
      "[SCRAPE].. ◆ https://www.essex.ac.uk/courses/PG01031/1/Advanced-Periodontal-Practice                              | ✓ | ⏱: 0.26s\n",
      "[COMPLETE] ● https://www.essex.ac.uk/courses/PG01031/1/Advanced-Periodontal-Practice                              | ✓ | ⏱: 13.11s\n"
     ]
    },
    {
     "data": {
      "application/vnd.jupyter.widget-view+json": {
       "model_id": "440f54ecc95e44dca9258b6e8eb01f52",
       "version_major": 2,
       "version_minor": 0
      },
      "text/plain": [
       "images:Advanced-Periodontal-Practice-1:   0%|          | 0/7 [00:00<?, ?it/s]"
      ]
     },
     "metadata": {},
     "output_type": "display_data"
    },
    {
     "name": "stdout",
     "output_type": "stream",
     "text": [
      "[INIT].... → Crawl4AI 0.6.2\n",
      "[FETCH]... ↓ https://www.essex.ac.uk/courses/UG00320/1/FdSc-Oral-Health-Science                                   | ✓ | ⏱: 35.79s\n",
      "[SCRAPE].. ◆ https://www.essex.ac.uk/courses/UG00320/1/FdSc-Oral-Health-Science                                   | ✓ | ⏱: 0.36s\n",
      "[COMPLETE] ● https://www.essex.ac.uk/courses/UG00320/1/FdSc-Oral-Health-Science                                   | ✓ | ⏱: 37.20s\n"
     ]
    },
    {
     "data": {
      "application/vnd.jupyter.widget-view+json": {
       "model_id": "84de2a0ed35b4ec4bd0f0737c6e0ea9c",
       "version_major": 2,
       "version_minor": 0
      },
      "text/plain": [
       "images:FdSc-Oral-Health-Science-1:   0%|          | 0/11 [00:00<?, ?it/s]"
      ]
     },
     "metadata": {},
     "output_type": "display_data"
    },
    {
     "name": "stdout",
     "output_type": "stream",
     "text": [
      "[FETCH]... ↓ https://www.essex.ac.uk/courses/PR00973/1/PhD-Public-Health                                          | ✓ | ⏱: 46.89s\n",
      "[SCRAPE].. ◆ https://www.essex.ac.uk/courses/PR00973/1/PhD-Public-Health                                          | ✓ | ⏱: 0.21s\n",
      "[COMPLETE] ● https://www.essex.ac.uk/courses/PR00973/1/PhD-Public-Health                                          | ✓ | ⏱: 47.86s\n",
      "[FETCH]... ↓ https://www.essex.ac.uk/courses/PR00915/2/MPhil-Health-and-Organisational-Research                   | ✓ | ⏱: 55.07s\n",
      "[SCRAPE].. ◆ https://www.essex.ac.uk/courses/PR00915/2/MPhil-Health-and-Organisational-Research                   | ✓ | ⏱: 0.21s\n",
      "[COMPLETE] ● https://www.essex.ac.uk/courses/PR00915/2/MPhil-Health-and-Organisational-Research                   | ✓ | ⏱: 56.48s\n",
      "[FETCH]... ↓ https://www.essex.ac.uk/courses/PR00920/5/PhD-Health-Studies                                         | ✓ | ⏱: 61.11s\n",
      "[SCRAPE].. ◆ https://www.essex.ac.uk/courses/PR00920/5/PhD-Health-Studies                                         | ✓ | ⏱: 0.26s\n",
      "[COMPLETE] ● https://www.essex.ac.uk/courses/PR00920/5/PhD-Health-Studies                                         | ✓ | ⏱: 62.38s\n",
      "[ERROR]... × https://www.essex.ac.uk...herapy-Pre-Registration  | Error: \n",
      "┌───────────────────────────────────────────────────────────────────────────────────────────────────────────────────────┐\n",
      "│ × Unexpected error in _crawl_web at line 731 in _crawl_web (../../../../../opt/anaconda3/lib/python3.12/site-         │\n",
      "│ packages/crawl4ai/async_crawler_strategy.py):                                                                         │\n",
      "│   Error: Failed on navigating ACS-GOTO:                                                                               │\n",
      "│   Page.goto: Timeout 60000ms exceeded.                                                                                │\n",
      "│   Call log:                                                                                                           │\n",
      "│   - navigating to \"https://www.essex.ac.uk/courses/PG00720/1/MSc-Physiotherapy-Pre-Registration\", waiting until       │\n",
      "│ \"domcontentloaded\"                                                                                                    │\n",
      "│                                                                                                                       │\n",
      "│                                                                                                                       │\n",
      "│   Code context:                                                                                                       │\n",
      "│   726                       response = await page.goto(                                                               │\n",
      "│   727                           url, wait_until=config.wait_until, timeout=config.page_timeout                        │\n",
      "│   728                       )                                                                                         │\n",
      "│   729                       redirected_url = page.url                                                                 │\n",
      "│   730                   except Error as e:                                                                            │\n",
      "│   731 →                     raise RuntimeError(f\"Failed on navigating ACS-GOTO:\\n{str(e)}\")                           │\n",
      "│   732                                                                                                                 │\n",
      "│   733                   await self.execute_hook(                                                                      │\n",
      "│   734                       \"after_goto\", page, context=context, url=url, response=response, config=config            │\n",
      "│   735                   )                                                                                             │\n",
      "│   736                                                                                                                 │\n",
      "└───────────────────────────────────────────────────────────────────────────────────────────────────────────────────────┘\n",
      "\n",
      "[INIT].... → Crawl4AI 0.6.2\n"
     ]
    },
    {
     "data": {
      "application/vnd.jupyter.widget-view+json": {
       "model_id": "2fa9bde9f4894a4583f200786ec97105",
       "version_major": 2,
       "version_minor": 0
      },
      "text/plain": [
       "images:PhD-Public-Health-1:   0%|          | 0/10 [00:00<?, ?it/s]"
      ]
     },
     "metadata": {},
     "output_type": "display_data"
    },
    {
     "data": {
      "application/vnd.jupyter.widget-view+json": {
       "model_id": "c6d23dbccbe1400b9e492d3efa23118c",
       "version_major": 2,
       "version_minor": 0
      },
      "text/plain": [
       "images:MPhil-Health-and-Organisational-Research-2:   0%|          | 0/10 [00:00<?, ?it/s]"
      ]
     },
     "metadata": {},
     "output_type": "display_data"
    },
    {
     "data": {
      "application/vnd.jupyter.widget-view+json": {
       "model_id": "287e546a0bfe454f9b7a351bae83bbdb",
       "version_major": 2,
       "version_minor": 0
      },
      "text/plain": [
       "images:PhD-Health-Studies-5:   0%|          | 0/10 [00:00<?, ?it/s]"
      ]
     },
     "metadata": {},
     "output_type": "display_data"
    },
    {
     "name": "stdout",
     "output_type": "stream",
     "text": [
      "⚠️  MSc-Physiotherapy-Pre-Registration-1: Unexpected error in _crawl_web at line 731 in _crawl_web (../../../../../opt/anaconda3/lib/python3.12/site-packages/crawl4ai/async_crawler_strategy.py):\n",
      "Error: Failed on navigating ACS-GOTO:\n",
      "Page.goto: Timeout 60000ms exceeded.\n",
      "Call log:\n",
      "  - navigating to \"https://www.essex.ac.uk/courses/PG00720/1/MSc-Physiotherapy-Pre-Registration\", waiting until \"domcontentloaded\"\n",
      "\n",
      "\n",
      "Code context:\n",
      " 726                       response = await page.goto(\n",
      " 727                           url, wait_until=config.wait_until, timeout=config.page_timeout\n",
      " 728                       )\n",
      " 729                       redirected_url = page.url\n",
      " 730                   except Error as e:\n",
      " 731 →                     raise RuntimeError(f\"Failed on navigating ACS-GOTO:\\n{str(e)}\")\n",
      " 732   \n",
      " 733                   await self.execute_hook(\n",
      " 734                       \"after_goto\", page, context=context, url=url, response=response, config=config\n",
      " 735                   )\n",
      " 736   \n",
      "[INIT].... → Crawl4AI 0.6.2\n",
      "[INIT].... → Crawl4AI 0.6.2\n",
      "[INIT].... → Crawl4AI 0.6.2\n",
      "[INIT].... → Crawl4AI 0.6.2\n",
      "[FETCH]... ↓ https://www.essex.ac.uk/courses/PG01565/1/Gradua...-Health-Mental-Health-and-Wellbeing-Practitioner  | ✓ | ⏱: 100.63s\n",
      "[SCRAPE].. ◆ https://www.essex.ac.uk/courses/PG01565/1/Gradua...-Health-Mental-Health-and-Wellbeing-Practitioner  | ✓ | ⏱: 0.30s\n",
      "[COMPLETE] ● https://www.essex.ac.uk/courses/PG01565/1/Gradua...-Health-Mental-Health-and-Wellbeing-Practitioner  | ✓ | ⏱: 102.07s\n",
      "[FETCH]... ↓ https://www.essex.ac.uk/courses/PR01310/1/PhD-Health-and-Exercise-Sciences                           | ✓ | ⏱: 98.42s\n",
      "[SCRAPE].. ◆ https://www.essex.ac.uk/courses/PR01310/1/PhD-Health-and-Exercise-Sciences                           | ✓ | ⏱: 0.23s\n",
      "[COMPLETE] ● https://www.essex.ac.uk/courses/PR01310/1/PhD-Health-and-Exercise-Sciences                           | ✓ | ⏱: 99.56s\n",
      "[FETCH]... ↓ https://www.essex.ac.uk/courses/PG01500/1/MSc-Musculoskeletal-Practice                               | ✓ | ⏱: 68.38s\n",
      "[SCRAPE].. ◆ https://www.essex.ac.uk/courses/PG01500/1/MSc-Musculoskeletal-Practice                               | ✓ | ⏱: 0.52s\n",
      "[COMPLETE] ● https://www.essex.ac.uk/courses/PG01500/1/MSc-Musculoskeletal-Practice                               | ✓ | ⏱: 70.19s\n"
     ]
    },
    {
     "data": {
      "application/vnd.jupyter.widget-view+json": {
       "model_id": "64b9895ec5b74a94809896c7c297e9c6",
       "version_major": 2,
       "version_minor": 0
      },
      "text/plain": [
       "images:Graduate-Certificate-Specialist-Adult-Mental-Health-Mental-Health-and-Wellbeing-Practitioner-1:   0%|  …"
      ]
     },
     "metadata": {},
     "output_type": "display_data"
    },
    {
     "data": {
      "application/vnd.jupyter.widget-view+json": {
       "model_id": "470c5540a9cb4d828febbf9cc3dce625",
       "version_major": 2,
       "version_minor": 0
      },
      "text/plain": [
       "images:PhD-Health-and-Exercise-Sciences-1:   0%|          | 0/10 [00:00<?, ?it/s]"
      ]
     },
     "metadata": {},
     "output_type": "display_data"
    },
    {
     "data": {
      "application/vnd.jupyter.widget-view+json": {
       "model_id": "fe854a508b694a889298a56e61103810",
       "version_major": 2,
       "version_minor": 0
      },
      "text/plain": [
       "images:MSc-Musculoskeletal-Practice-1:   0%|          | 0/10 [00:00<?, ?it/s]"
      ]
     },
     "metadata": {},
     "output_type": "display_data"
    },
    {
     "name": "stdout",
     "output_type": "stream",
     "text": [
      "[INIT].... → Crawl4AI 0.6.2\n",
      "[INIT].... → Crawl4AI 0.6.2\n",
      "[SCRAPE].. ◆ Some images failed to load within timeout\n",
      "[INIT].... → Crawl4AI 0.6.2\n",
      "[SCRAPE].. ◆ Some images failed to load within timeout\n",
      "[FETCH]... ↓ https://www.essex.ac.uk/courses/PR00880/1/Professional-Doctorate-Clinical-Psychology-D-Clin-Psych    | ✓ | ⏱: 68.21s\n",
      "[SCRAPE].. ◆ https://www.essex.ac.uk/courses/PR00880/1/Professional-Doctorate-Clinical-Psychology-D-Clin-Psych    | ✓ | ⏱: 0.43s\n",
      "[COMPLETE] ● https://www.essex.ac.uk/courses/PR00880/1/Professional-Doctorate-Clinical-Psychology-D-Clin-Psych    | ✓ | ⏱: 69.58s\n",
      "[FETCH]... ↓ https://www.essex.ac.uk/courses/PR00979/3/MSc-by-Dissertation-Social-Policy                          | ✓ | ⏱: 46.74s\n",
      "[SCRAPE].. ◆ https://www.essex.ac.uk/courses/PR00979/3/MSc-by-Dissertation-Social-Policy                          | ✓ | ⏱: 0.26s\n",
      "[COMPLETE] ● https://www.essex.ac.uk/courses/PR00979/3/MSc-by-Dissertation-Social-Policy                          | ✓ | ⏱: 47.98s\n",
      "[FETCH]... ↓ https://www.essex.ac.uk/courses/PG01008/2/Postgraduate-Diploma-Medical-and-Clinical-Education        | ✓ | ⏱: 48.56s\n",
      "[SCRAPE].. ◆ https://www.essex.ac.uk/courses/PG01008/2/Postgraduate-Diploma-Medical-and-Clinical-Education        | ✓ | ⏱: 0.24s\n",
      "[COMPLETE] ● https://www.essex.ac.uk/courses/PG01008/2/Postgraduate-Diploma-Medical-and-Clinical-Education        | ✓ | ⏱: 49.69s\n"
     ]
    },
    {
     "data": {
      "application/vnd.jupyter.widget-view+json": {
       "model_id": "eb53390205804d2ba8da5923bd97ce7d",
       "version_major": 2,
       "version_minor": 0
      },
      "text/plain": [
       "images:Professional-Doctorate-Clinical-Psychology-D-Clin-Psych-1:   0%|          | 0/10 [00:00<?, ?it/s]"
      ]
     },
     "metadata": {},
     "output_type": "display_data"
    },
    {
     "name": "stdout",
     "output_type": "stream",
     "text": [
      "⚠ cannot fetch https://www.essex.ac.uk/-/media/header-images/departments/ptait_20140703_5068-600x600.jpg?mh=512&mw=512&hash=03F803784984CEE09A9DD957A3418241: HTTPSConnectionPool(host='www.essex.ac.uk', port=443): Max retries exceeded with url: /-/media/header-images/departments/ptait_20140703_5068-600x600.jpg?mh=512&mw=512&hash=03F803784984CEE09A9DD957A3418241 (Caused by NewConnectionError('<urllib3.connection.HTTPSConnection object at 0x152750bf0>: Failed to establish a new connection: [Errno 61] Connection refused'))\n"
     ]
    },
    {
     "data": {
      "application/vnd.jupyter.widget-view+json": {
       "model_id": "5b337910517d49038aef44fc9137b056",
       "version_major": 2,
       "version_minor": 0
      },
      "text/plain": [
       "images:MSc-by-Dissertation-Social-Policy-3:   0%|          | 0/10 [00:00<?, ?it/s]"
      ]
     },
     "metadata": {},
     "output_type": "display_data"
    },
    {
     "name": "stdout",
     "output_type": "stream",
     "text": [
      "[ERROR]... × https://www.essex.ac.uk...-Health-and-Social-Care  | Error: \n",
      "┌───────────────────────────────────────────────────────────────────────────────────────────────────────────────────────┐\n",
      "│ × Unexpected error in _crawl_web at line 731 in _crawl_web (../../../../../opt/anaconda3/lib/python3.12/site-         │\n",
      "│ packages/crawl4ai/async_crawler_strategy.py):                                                                         │\n",
      "│   Error: Failed on navigating ACS-GOTO:                                                                               │\n",
      "│   Page.goto: Timeout 60000ms exceeded.                                                                                │\n",
      "│   Call log:                                                                                                           │\n",
      "│   - navigating to \"https://www.essex.ac.uk/courses/UG01559/1/Certificate-of-HE-Health-and-Social-Care\", waiting       │\n",
      "│ until \"domcontentloaded\"                                                                                              │\n",
      "│                                                                                                                       │\n",
      "│                                                                                                                       │\n",
      "│   Code context:                                                                                                       │\n",
      "│   726                       response = await page.goto(                                                               │\n",
      "│   727                           url, wait_until=config.wait_until, timeout=config.page_timeout                        │\n",
      "│   728                       )                                                                                         │\n",
      "│   729                       redirected_url = page.url                                                                 │\n",
      "│   730                   except Error as e:                                                                            │\n",
      "│   731 →                     raise RuntimeError(f\"Failed on navigating ACS-GOTO:\\n{str(e)}\")                           │\n",
      "│   732                                                                                                                 │\n",
      "│   733                   await self.execute_hook(                                                                      │\n",
      "│   734                       \"after_goto\", page, context=context, url=url, response=response, config=config            │\n",
      "│   735                   )                                                                                             │\n",
      "│   736                                                                                                                 │\n",
      "└───────────────────────────────────────────────────────────────────────────────────────────────────────────────────────┘\n",
      "\n",
      "[ERROR]... × https://www.essex.ac.uk...ealth-and-Care-Research  | Error: \n",
      "┌───────────────────────────────────────────────────────────────────────────────────────────────────────────────────────┐\n",
      "│ × Unexpected error in _crawl_web at line 731 in _crawl_web (../../../../../opt/anaconda3/lib/python3.12/site-         │\n",
      "│ packages/crawl4ai/async_crawler_strategy.py):                                                                         │\n",
      "│   Error: Failed on navigating ACS-GOTO:                                                                               │\n",
      "│   Page.goto: net::ERR_CONNECTION_REFUSED at https://www.essex.ac.uk/courses/PG00366/2/MRes-Health-and-Care-Research   │\n",
      "│   Call log:                                                                                                           │\n",
      "│   - navigating to \"https://www.essex.ac.uk/courses/PG00366/2/MRes-Health-and-Care-Research\", waiting until            │\n",
      "│ \"domcontentloaded\"                                                                                                    │\n",
      "│                                                                                                                       │\n",
      "│                                                                                                                       │\n",
      "│   Code context:                                                                                                       │\n",
      "│   726                       response = await page.goto(                                                               │\n",
      "│   727                           url, wait_until=config.wait_until, timeout=config.page_timeout                        │\n",
      "│   728                       )                                                                                         │\n",
      "│   729                       redirected_url = page.url                                                                 │\n",
      "│   730                   except Error as e:                                                                            │\n",
      "│   731 →                     raise RuntimeError(f\"Failed on navigating ACS-GOTO:\\n{str(e)}\")                           │\n",
      "│   732                                                                                                                 │\n",
      "│   733                   await self.execute_hook(                                                                      │\n",
      "│   734                       \"after_goto\", page, context=context, url=url, response=response, config=config            │\n",
      "│   735                   )                                                                                             │\n",
      "│   736                                                                                                                 │\n",
      "└───────────────────────────────────────────────────────────────────────────────────────────────────────────────────────┘\n",
      "\n"
     ]
    },
    {
     "data": {
      "application/vnd.jupyter.widget-view+json": {
       "model_id": "592e2a8ae33f4f77b37ae5d0a7f3e5b4",
       "version_major": 2,
       "version_minor": 0
      },
      "text/plain": [
       "images:Postgraduate-Diploma-Medical-and-Clinical-Education-2:   0%|          | 0/10 [00:00<?, ?it/s]"
      ]
     },
     "metadata": {},
     "output_type": "display_data"
    },
    {
     "name": "stdout",
     "output_type": "stream",
     "text": [
      "⚠️  Certificate-of-HE-Health-and-Social-Care-1: Unexpected error in _crawl_web at line 731 in _crawl_web (../../../../../opt/anaconda3/lib/python3.12/site-packages/crawl4ai/async_crawler_strategy.py):\n",
      "Error: Failed on navigating ACS-GOTO:\n",
      "Page.goto: Timeout 60000ms exceeded.\n",
      "Call log:\n",
      "  - navigating to \"https://www.essex.ac.uk/courses/UG01559/1/Certificate-of-HE-Health-and-Social-Care\", waiting until \"domcontentloaded\"\n",
      "\n",
      "\n",
      "Code context:\n",
      " 726                       response = await page.goto(\n",
      " 727                           url, wait_until=config.wait_until, timeout=config.page_timeout\n",
      " 728                       )\n",
      " 729                       redirected_url = page.url\n",
      " 730                   except Error as e:\n",
      " 731 →                     raise RuntimeError(f\"Failed on navigating ACS-GOTO:\\n{str(e)}\")\n",
      " 732   \n",
      " 733                   await self.execute_hook(\n",
      " 734                       \"after_goto\", page, context=context, url=url, response=response, config=config\n",
      " 735                   )\n",
      " 736   \n",
      "[INIT].... → Crawl4AI 0.6.2\n",
      "[INIT].... → Crawl4AI 0.6.2\n",
      "⚠️  MRes-Health-and-Care-Research-2: Unexpected error in _crawl_web at line 731 in _crawl_web (../../../../../opt/anaconda3/lib/python3.12/site-packages/crawl4ai/async_crawler_strategy.py):\n",
      "Error: Failed on navigating ACS-GOTO:\n",
      "Page.goto: net::ERR_CONNECTION_REFUSED at https://www.essex.ac.uk/courses/PG00366/2/MRes-Health-and-Care-Research\n",
      "Call log:\n",
      "  - navigating to \"https://www.essex.ac.uk/courses/PG00366/2/MRes-Health-and-Care-Research\", waiting until \"domcontentloaded\"\n",
      "\n",
      "\n",
      "Code context:\n",
      " 726                       response = await page.goto(\n",
      " 727                           url, wait_until=config.wait_until, timeout=config.page_timeout\n",
      " 728                       )\n",
      " 729                       redirected_url = page.url\n",
      " 730                   except Error as e:\n",
      " 731 →                     raise RuntimeError(f\"Failed on navigating ACS-GOTO:\\n{str(e)}\")\n",
      " 732   \n",
      " 733                   await self.execute_hook(\n",
      " 734                       \"after_goto\", page, context=context, url=url, response=response, config=config\n",
      " 735                   )\n",
      " 736   \n",
      "[INIT].... → Crawl4AI 0.6.2\n",
      "[INIT].... → Crawl4AI 0.6.2\n",
      "[INIT].... → Crawl4AI 0.6.2\n",
      "[FETCH]... ↓ https://www.essex.ac.uk/courses/PR00987/1/PhD-Speech-and-Language-Therapy                            | ✓ | ⏱: 59.67s\n",
      "[SCRAPE].. ◆ https://www.essex.ac.uk/courses/PR00987/1/PhD-Speech-and-Language-Therapy                            | ✓ | ⏱: 0.29s\n",
      "[COMPLETE] ● https://www.essex.ac.uk/courses/PR00987/1/PhD-Speech-and-Language-Therapy                            | ✓ | ⏱: 61.12s\n",
      "[FETCH]... ↓ https://www.essex.ac.uk/courses/UG00320/2/BSc-Oral-Health-Science                                    | ✓ | ⏱: 103.11s\n",
      "[SCRAPE].. ◆ https://www.essex.ac.uk/courses/UG00320/2/BSc-Oral-Health-Science                                    | ✓ | ⏱: 0.42s\n",
      "[COMPLETE] ● https://www.essex.ac.uk/courses/UG00320/2/BSc-Oral-Health-Science                                    | ✓ | ⏱: 105.70s\n",
      "[FETCH]... ↓ https://www.essex.ac.uk/courses/UG00315/1/BSc-Nursing-Adult                                          | ✓ | ⏱: 64.57s\n",
      "[SCRAPE].. ◆ https://www.essex.ac.uk/courses/UG00315/1/BSc-Nursing-Adult                                          | ✓ | ⏱: 0.35s\n",
      "[COMPLETE] ● https://www.essex.ac.uk/courses/UG00315/1/BSc-Nursing-Adult                                          | ✓ | ⏱: 66.12s\n"
     ]
    },
    {
     "data": {
      "application/vnd.jupyter.widget-view+json": {
       "model_id": "2fabe066754741f09244200abb9b52b2",
       "version_major": 2,
       "version_minor": 0
      },
      "text/plain": [
       "images:PhD-Speech-and-Language-Therapy-1:   0%|          | 0/10 [00:00<?, ?it/s]"
      ]
     },
     "metadata": {},
     "output_type": "display_data"
    },
    {
     "data": {
      "application/vnd.jupyter.widget-view+json": {
       "model_id": "93215e68a2f54a24b07a08a2e1c25889",
       "version_major": 2,
       "version_minor": 0
      },
      "text/plain": [
       "images:BSc-Nursing-Adult-1:   0%|          | 0/11 [00:00<?, ?it/s]"
      ]
     },
     "metadata": {},
     "output_type": "display_data"
    },
    {
     "data": {
      "application/vnd.jupyter.widget-view+json": {
       "model_id": "044b7975465f44a88f2a7c8445f708fa",
       "version_major": 2,
       "version_minor": 0
      },
      "text/plain": [
       "images:BSc-Oral-Health-Science-2:   0%|          | 0/11 [00:00<?, ?it/s]"
      ]
     },
     "metadata": {},
     "output_type": "display_data"
    },
    {
     "name": "stdout",
     "output_type": "stream",
     "text": [
      "[INIT].... → Crawl4AI 0.6.2\n",
      "[INIT].... → Crawl4AI 0.6.2\n",
      "[INIT].... → Crawl4AI 0.6.2\n",
      "[FETCH]... ↓ https://www.essex.ac.uk/courses/PR01312/1/PhD-Health-and-Physical-Activity                           | ✓ | ⏱: 44.99s\n",
      "[SCRAPE].. ◆ https://www.essex.ac.uk/courses/PR01312/1/PhD-Health-and-Physical-Activity                           | ✓ | ⏱: 0.23s\n",
      "[COMPLETE] ● https://www.essex.ac.uk/courses/PR01312/1/PhD-Health-and-Physical-Activity                           | ✓ | ⏱: 46.43s\n"
     ]
    },
    {
     "data": {
      "application/vnd.jupyter.widget-view+json": {
       "model_id": "f67726cdfe23479586faca4105462c38",
       "version_major": 2,
       "version_minor": 0
      },
      "text/plain": [
       "images:PhD-Health-and-Physical-Activity-1:   0%|          | 0/10 [00:00<?, ?it/s]"
      ]
     },
     "metadata": {},
     "output_type": "display_data"
    },
    {
     "name": "stdout",
     "output_type": "stream",
     "text": [
      "[INIT].... → Crawl4AI 0.6.2\n",
      "[FETCH]... ↓ https://www.essex.ac.uk/courses/PG01008/3/Postgraduate-Certificate-Medical-and-Clinical-Education    | ✓ | ⏱: 50.49s\n",
      "[SCRAPE].. ◆ https://www.essex.ac.uk/courses/PG01008/3/Postgraduate-Certificate-Medical-and-Clinical-Education    | ✓ | ⏱: 0.17s\n",
      "[COMPLETE] ● https://www.essex.ac.uk/courses/PG01008/3/Postgraduate-Certificate-Medical-and-Clinical-Education    | ✓ | ⏱: 51.68s\n",
      "[FETCH]... ↓ https://www.essex.ac.uk/courses/PG00754/2/Graduate-Certificate-Psychological-Wellbeing-Practice      | ✓ | ⏱: 53.68s\n",
      "[SCRAPE].. ◆ https://www.essex.ac.uk/courses/PG00754/2/Graduate-Certificate-Psychological-Wellbeing-Practice      | ✓ | ⏱: 0.26s\n",
      "[COMPLETE] ● https://www.essex.ac.uk/courses/PG00754/2/Graduate-Certificate-Psychological-Wellbeing-Practice      | ✓ | ⏱: 54.95s\n",
      "[FETCH]... ↓ https://www.essex.ac.uk/courses/UG00339/2/BSc-Physiotherapy                                          | ✓ | ⏱: 58.13s\n",
      "[SCRAPE].. ◆ https://www.essex.ac.uk/courses/UG00339/2/BSc-Physiotherapy                                          | ✓ | ⏱: 0.27s\n",
      "[COMPLETE] ● https://www.essex.ac.uk/courses/UG00339/2/BSc-Physiotherapy                                          | ✓ | ⏱: 59.31s\n",
      "[FETCH]... ↓ https://www.essex.ac.uk/courses/UG00315/2/BSc-Nursing-Adult                                          | ✓ | ⏱: 60.17s\n",
      "[SCRAPE].. ◆ https://www.essex.ac.uk/courses/UG00315/2/BSc-Nursing-Adult                                          | ✓ | ⏱: 0.25s\n",
      "[COMPLETE] ● https://www.essex.ac.uk/courses/UG00315/2/BSc-Nursing-Adult                                          | ✓ | ⏱: 61.39s\n"
     ]
    },
    {
     "data": {
      "application/vnd.jupyter.widget-view+json": {
       "model_id": "c8ce042dc8ce4dddbfd9eff832568984",
       "version_major": 2,
       "version_minor": 0
      },
      "text/plain": [
       "images:Postgraduate-Certificate-Medical-and-Clinical-Education-3:   0%|          | 0/11 [00:00<?, ?it/s]"
      ]
     },
     "metadata": {},
     "output_type": "display_data"
    },
    {
     "data": {
      "application/vnd.jupyter.widget-view+json": {
       "model_id": "4d66801ae57b49aba339b333f23ce0a0",
       "version_major": 2,
       "version_minor": 0
      },
      "text/plain": [
       "images:Graduate-Certificate-Psychological-Wellbeing-Practice-2:   0%|          | 0/10 [00:00<?, ?it/s]"
      ]
     },
     "metadata": {},
     "output_type": "display_data"
    },
    {
     "data": {
      "application/vnd.jupyter.widget-view+json": {
       "model_id": "d54070c575054c28b9c6f3508280c9df",
       "version_major": 2,
       "version_minor": 0
      },
      "text/plain": [
       "images:BSc-Nursing-Adult-2:   0%|          | 0/11 [00:00<?, ?it/s]"
      ]
     },
     "metadata": {},
     "output_type": "display_data"
    },
    {
     "data": {
      "application/vnd.jupyter.widget-view+json": {
       "model_id": "d1fb79041e474034b73e7c5883e762ec",
       "version_major": 2,
       "version_minor": 0
      },
      "text/plain": [
       "images:BSc-Physiotherapy-2:   0%|          | 0/10 [00:00<?, ?it/s]"
      ]
     },
     "metadata": {},
     "output_type": "display_data"
    },
    {
     "name": "stdout",
     "output_type": "stream",
     "text": [
      "[INIT].... → Crawl4AI 0.6.2\n",
      "[INIT].... → Crawl4AI 0.6.2\n",
      "[INIT].... → Crawl4AI 0.6.2\n",
      "[INIT].... → Crawl4AI 0.6.2\n",
      "[FETCH]... ↓ https://www.essex.ac.uk/courses/UG00292/1/BA-Modern-History-and-International-Relations              | ✓ | ⏱: 46.41s\n",
      "[SCRAPE].. ◆ https://www.essex.ac.uk/courses/UG00292/1/BA-Modern-History-and-International-Relations              | ✓ | ⏱: 0.74s\n",
      "[COMPLETE] ● https://www.essex.ac.uk/courses/UG00292/1/BA-Modern-History-and-International-Relations              | ✓ | ⏱: 48.48s\n",
      "[FETCH]... ↓ https://www.essex.ac.uk/courses/PR00953/5/PhD-Nursing-Studies                                        | ✓ | ⏱: 57.44s\n",
      "[SCRAPE].. ◆ https://www.essex.ac.uk/courses/PR00953/5/PhD-Nursing-Studies                                        | ✓ | ⏱: 0.39s\n",
      "[COMPLETE] ● https://www.essex.ac.uk/courses/PR00953/5/PhD-Nursing-Studies                                        | ✓ | ⏱: 59.79s\n",
      "[FETCH]... ↓ https://www.essex.ac.uk/courses/PR00979/1/PhD-Social-Policy                                          | ✓ | ⏱: 60.42s\n",
      "[SCRAPE].. ◆ https://www.essex.ac.uk/courses/PR00979/1/PhD-Social-Policy                                          | ✓ | ⏱: 0.23s\n",
      "[COMPLETE] ● https://www.essex.ac.uk/courses/PR00979/1/PhD-Social-Policy                                          | ✓ | ⏱: 62.19s\n",
      "[FETCH]... ↓ https://www.essex.ac.uk/courses/UG01110/1/BSc-Speech-and-Language-Therapy                            | ✓ | ⏱: 63.67s\n",
      "[SCRAPE].. ◆ https://www.essex.ac.uk/courses/UG01110/1/BSc-Speech-and-Language-Therapy                            | ✓ | ⏱: 0.47s\n",
      "[COMPLETE] ● https://www.essex.ac.uk/courses/UG01110/1/BSc-Speech-and-Language-Therapy                            | ✓ | ⏱: 65.59s\n"
     ]
    },
    {
     "data": {
      "application/vnd.jupyter.widget-view+json": {
       "model_id": "a33e37c40aa1439a8afac5564a33fdcf",
       "version_major": 2,
       "version_minor": 0
      },
      "text/plain": [
       "images:BA-Modern-History-and-International-Relations-1:   0%|          | 0/10 [00:00<?, ?it/s]"
      ]
     },
     "metadata": {},
     "output_type": "display_data"
    },
    {
     "name": "stdout",
     "output_type": "stream",
     "text": [
      "⚠ cannot fetch https://www.essex.ac.uk/-/media/header-images/subjects/history-subject-1200x600.jpg?mh=512&mw=512&hash=058785AC41FB392DF4A8CC13E85C46B4: HTTPSConnectionPool(host='www.essex.ac.uk', port=443): Max retries exceeded with url: /-/media/header-images/subjects/history-subject-1200x600.jpg?mh=512&mw=512&hash=058785AC41FB392DF4A8CC13E85C46B4 (Caused by NewConnectionError('<urllib3.connection.HTTPSConnection object at 0x1521147a0>: Failed to establish a new connection: [Errno 61] Connection refused'))\n"
     ]
    },
    {
     "data": {
      "application/vnd.jupyter.widget-view+json": {
       "model_id": "1bca3ff37c114baa81d89f26692387d5",
       "version_major": 2,
       "version_minor": 0
      },
      "text/plain": [
       "images:PhD-Nursing-Studies-5:   0%|          | 0/10 [00:00<?, ?it/s]"
      ]
     },
     "metadata": {},
     "output_type": "display_data"
    },
    {
     "data": {
      "application/vnd.jupyter.widget-view+json": {
       "model_id": "06ed741f1e5b446a8ff8fa493826e969",
       "version_major": 2,
       "version_minor": 0
      },
      "text/plain": [
       "images:PhD-Social-Policy-1:   0%|          | 0/10 [00:00<?, ?it/s]"
      ]
     },
     "metadata": {},
     "output_type": "display_data"
    },
    {
     "data": {
      "application/vnd.jupyter.widget-view+json": {
       "model_id": "5c3570cdb58d437abeacb1d98d48e96d",
       "version_major": 2,
       "version_minor": 0
      },
      "text/plain": [
       "images:BSc-Speech-and-Language-Therapy-1:   0%|          | 0/10 [00:00<?, ?it/s]"
      ]
     },
     "metadata": {},
     "output_type": "display_data"
    },
    {
     "name": "stdout",
     "output_type": "stream",
     "text": [
      "[INIT].... → Crawl4AI 0.6.2\n",
      "[INIT].... → Crawl4AI 0.6.2\n",
      "[INIT].... → Crawl4AI 0.6.2\n",
      "[INIT].... → Crawl4AI 0.6.2\n",
      "[FETCH]... ↓ https://www.essex.ac.uk/courses/UG00325/1/BA-Philosophy-and-History                                  | ✓ | ⏱: 55.38s\n",
      "[SCRAPE].. ◆ https://www.essex.ac.uk/courses/UG00325/1/BA-Philosophy-and-History                                  | ✓ | ⏱: 0.28s\n",
      "[COMPLETE] ● https://www.essex.ac.uk/courses/UG00325/1/BA-Philosophy-and-History                                  | ✓ | ⏱: 56.81s\n"
     ]
    },
    {
     "data": {
      "application/vnd.jupyter.widget-view+json": {
       "model_id": "63ea7e042ac04156b792ea18676ddcc0",
       "version_major": 2,
       "version_minor": 0
      },
      "text/plain": [
       "images:BA-Philosophy-and-History-1:   0%|          | 0/10 [00:00<?, ?it/s]"
      ]
     },
     "metadata": {},
     "output_type": "display_data"
    },
    {
     "name": "stdout",
     "output_type": "stream",
     "text": [
      "[FETCH]... ↓ https://www.essex.ac.uk/courses/PG00609/3/Postgraduate-Certificate-History                           | ✓ | ⏱: 59.57s\n",
      "[SCRAPE].. ◆ https://www.essex.ac.uk/courses/PG00609/3/Postgraduate-Certificate-History                           | ✓ | ⏱: 0.29s\n",
      "[COMPLETE] ● https://www.essex.ac.uk/courses/PG00609/3/Postgraduate-Certificate-History                           | ✓ | ⏱: 61.19s\n",
      "[FETCH]... ↓ https://www.essex.ac.uk/courses/UG00189/4/Integrated-Master-in-History-History                       | ✓ | ⏱: 62.42s\n",
      "[SCRAPE].. ◆ https://www.essex.ac.uk/courses/UG00189/4/Integrated-Master-in-History-History                       | ✓ | ⏱: 0.31s\n",
      "[COMPLETE] ● https://www.essex.ac.uk/courses/UG00189/4/Integrated-Master-in-History-History                       | ✓ | ⏱: 64.32s\n",
      "[FETCH]... ↓ https://www.essex.ac.uk/courses/PG00609/1/MA-History                                                 | ✓ | ⏱: 64.80s\n",
      "[SCRAPE].. ◆ https://www.essex.ac.uk/courses/PG00609/1/MA-History                                                 | ✓ | ⏱: 0.28s\n",
      "[COMPLETE] ● https://www.essex.ac.uk/courses/PG00609/1/MA-History                                                 | ✓ | ⏱: 66.42s\n"
     ]
    },
    {
     "data": {
      "application/vnd.jupyter.widget-view+json": {
       "model_id": "4cef4b6579a64c9fb248888a38570adc",
       "version_major": 2,
       "version_minor": 0
      },
      "text/plain": [
       "images:Postgraduate-Certificate-History-3:   0%|          | 0/10 [00:00<?, ?it/s]"
      ]
     },
     "metadata": {},
     "output_type": "display_data"
    },
    {
     "data": {
      "application/vnd.jupyter.widget-view+json": {
       "model_id": "772f04007e774340819c64497bba76f6",
       "version_major": 2,
       "version_minor": 0
      },
      "text/plain": [
       "images:MA-History-1:   0%|          | 0/10 [00:00<?, ?it/s]"
      ]
     },
     "metadata": {},
     "output_type": "display_data"
    },
    {
     "data": {
      "application/vnd.jupyter.widget-view+json": {
       "model_id": "95a170d6f0904b2dbd81f7aed7f9723f",
       "version_major": 2,
       "version_minor": 0
      },
      "text/plain": [
       "images:Integrated-Master-in-History-History-4:   0%|          | 0/10 [00:00<?, ?it/s]"
      ]
     },
     "metadata": {},
     "output_type": "display_data"
    },
    {
     "name": "stdout",
     "output_type": "stream",
     "text": [
      "[INIT].... → Crawl4AI 0.6.2\n",
      "[SCRAPE].. ◆ Some images failed to load within timeout\n",
      "[INIT].... → Crawl4AI 0.6.2\n",
      "[INIT].... → Crawl4AI 0.6.2\n",
      "[INIT].... → Crawl4AI 0.6.2\n",
      "[FETCH]... ↓ https://www.essex.ac.uk/courses/PR00922/4/MA-by-Dissertation-History                                 | ✓ | ⏱: 33.22s\n",
      "[SCRAPE].. ◆ https://www.essex.ac.uk/courses/PR00922/4/MA-by-Dissertation-History                                 | ✓ | ⏱: 0.57s\n",
      "[COMPLETE] ● https://www.essex.ac.uk/courses/PR00922/4/MA-by-Dissertation-History                                 | ✓ | ⏱: 35.24s\n",
      "[FETCH]... ↓ https://www.essex.ac.uk/courses/PG01443/1/MA-History-Power-and-Identity                              | ✓ | ⏱: 35.97s\n",
      "[SCRAPE].. ◆ https://www.essex.ac.uk/courses/PG01443/1/MA-History-Power-and-Identity                              | ✓ | ⏱: 0.34s\n",
      "[COMPLETE] ● https://www.essex.ac.uk/courses/PG01443/1/MA-History-Power-and-Identity                              | ✓ | ⏱: 37.51s\n",
      "[FETCH]... ↓ https://www.essex.ac.uk/courses/UG01442/1/BA-History-and-Heritage                                    | ✓ | ⏱: 40.33s\n",
      "[SCRAPE].. ◆ https://www.essex.ac.uk/courses/UG01442/1/BA-History-and-Heritage                                    | ✓ | ⏱: 0.32s\n",
      "[COMPLETE] ● https://www.essex.ac.uk/courses/UG01442/1/BA-History-and-Heritage                                    | ✓ | ⏱: 41.86s\n",
      "[FETCH]... ↓ https://www.essex.ac.uk/courses/UG00189/1/BA-History                                                 | ✓ | ⏱: 40.90s\n",
      "[SCRAPE].. ◆ https://www.essex.ac.uk/courses/UG00189/1/BA-History                                                 | ✓ | ⏱: 0.34s\n",
      "[COMPLETE] ● https://www.essex.ac.uk/courses/UG00189/1/BA-History                                                 | ✓ | ⏱: 42.31s\n"
     ]
    },
    {
     "data": {
      "application/vnd.jupyter.widget-view+json": {
       "model_id": "65634ea9a15c49528b4b8264c9afc3df",
       "version_major": 2,
       "version_minor": 0
      },
      "text/plain": [
       "images:MA-by-Dissertation-History-4:   0%|          | 0/10 [00:00<?, ?it/s]"
      ]
     },
     "metadata": {},
     "output_type": "display_data"
    },
    {
     "data": {
      "application/vnd.jupyter.widget-view+json": {
       "model_id": "58e73c625a4b401cb587865b3c7a24ab",
       "version_major": 2,
       "version_minor": 0
      },
      "text/plain": [
       "images:BA-History-and-Heritage-1:   0%|          | 0/10 [00:00<?, ?it/s]"
      ]
     },
     "metadata": {},
     "output_type": "display_data"
    },
    {
     "data": {
      "application/vnd.jupyter.widget-view+json": {
       "model_id": "8acb098766d740ac92245f9c3dfe95d9",
       "version_major": 2,
       "version_minor": 0
      },
      "text/plain": [
       "images:MA-History-Power-and-Identity-1:   0%|          | 0/10 [00:00<?, ?it/s]"
      ]
     },
     "metadata": {},
     "output_type": "display_data"
    },
    {
     "data": {
      "application/vnd.jupyter.widget-view+json": {
       "model_id": "8516facbd8854e6e947c432aac9872e7",
       "version_major": 2,
       "version_minor": 0
      },
      "text/plain": [
       "images:BA-History-1:   0%|          | 0/10 [00:00<?, ?it/s]"
      ]
     },
     "metadata": {},
     "output_type": "display_data"
    },
    {
     "name": "stdout",
     "output_type": "stream",
     "text": [
      "[INIT].... → Crawl4AI 0.6.2\n",
      "[INIT].... → Crawl4AI 0.6.2\n",
      "[INIT].... → Crawl4AI 0.6.2\n",
      "[SCRAPE].. ◆ Some images failed to load within timeout\n",
      "[INIT].... → Crawl4AI 0.6.2\n",
      "[SCRAPE].. ◆ Some images failed to load within timeout\n",
      "[FETCH]... ↓ https://www.essex.ac.uk/courses/UG00189/2/BA-History                                                 | ✓ | ⏱: 36.88s\n",
      "[SCRAPE].. ◆ https://www.essex.ac.uk/courses/UG00189/2/BA-History                                                 | ✓ | ⏱: 0.56s\n",
      "[COMPLETE] ● https://www.essex.ac.uk/courses/UG00189/2/BA-History                                                 | ✓ | ⏱: 38.57s\n",
      "[FETCH]... ↓ https://www.essex.ac.uk/courses/PR00922/2/MPhil-History                                              | ✓ | ⏱: 36.98s\n",
      "[SCRAPE].. ◆ https://www.essex.ac.uk/courses/PR00922/2/MPhil-History                                              | ✓ | ⏱: 0.35s\n",
      "[COMPLETE] ● https://www.essex.ac.uk/courses/PR00922/2/MPhil-History                                              | ✓ | ⏱: 38.66s\n",
      "[FETCH]... ↓ https://www.essex.ac.uk/courses/UG01444/1/BA-History-and-Law                                         | ✓ | ⏱: 39.33s\n",
      "[SCRAPE].. ◆ https://www.essex.ac.uk/courses/UG01444/1/BA-History-and-Law                                         | ✓ | ⏱: 0.36s\n",
      "[COMPLETE] ● https://www.essex.ac.uk/courses/UG01444/1/BA-History-and-Law                                         | ✓ | ⏱: 41.04s\n"
     ]
    },
    {
     "data": {
      "application/vnd.jupyter.widget-view+json": {
       "model_id": "91f677515e9645db822d82c105ed676d",
       "version_major": 2,
       "version_minor": 0
      },
      "text/plain": [
       "images:BA-History-2:   0%|          | 0/10 [00:00<?, ?it/s]"
      ]
     },
     "metadata": {},
     "output_type": "display_data"
    },
    {
     "data": {
      "application/vnd.jupyter.widget-view+json": {
       "model_id": "327735fcf5b446b3a0a1970f28359ec2",
       "version_major": 2,
       "version_minor": 0
      },
      "text/plain": [
       "images:MPhil-History-2:   0%|          | 0/10 [00:00<?, ?it/s]"
      ]
     },
     "metadata": {},
     "output_type": "display_data"
    },
    {
     "data": {
      "application/vnd.jupyter.widget-view+json": {
       "model_id": "3893c2530b064b90930c842149873a81",
       "version_major": 2,
       "version_minor": 0
      },
      "text/plain": [
       "images:BA-History-and-Law-1:   0%|          | 0/10 [00:00<?, ?it/s]"
      ]
     },
     "metadata": {},
     "output_type": "display_data"
    },
    {
     "name": "stdout",
     "output_type": "stream",
     "text": [
      "[INIT].... → Crawl4AI 0.6.2\n",
      "[FETCH]... ↓ https://www.essex.ac.uk/courses/UG00204/1/BA-History-with-Human-Rights                               | ✓ | ⏱: 51.49s\n",
      "[SCRAPE].. ◆ https://www.essex.ac.uk/courses/UG00204/1/BA-History-with-Human-Rights                               | ✓ | ⏱: 0.27s\n",
      "[COMPLETE] ● https://www.essex.ac.uk/courses/UG00204/1/BA-History-with-Human-Rights                               | ✓ | ⏱: 52.80s\n",
      "[INIT].... → Crawl4AI 0.6.2\n",
      "[INIT].... → Crawl4AI 0.6.2\n"
     ]
    },
    {
     "data": {
      "application/vnd.jupyter.widget-view+json": {
       "model_id": "fa19c02cf646499d8014f9b941f38723",
       "version_major": 2,
       "version_minor": 0
      },
      "text/plain": [
       "images:BA-History-with-Human-Rights-1:   0%|          | 0/10 [00:00<?, ?it/s]"
      ]
     },
     "metadata": {},
     "output_type": "display_data"
    },
    {
     "name": "stdout",
     "output_type": "stream",
     "text": [
      "[FETCH]... ↓ https://www.essex.ac.uk/courses/PG01339/1/MA-War-Culture-and-Society                                 | ✓ | ⏱: 27.39s\n",
      "[SCRAPE].. ◆ https://www.essex.ac.uk/courses/PG01339/1/MA-War-Culture-and-Society                                 | ✓ | ⏱: 0.33s\n",
      "[COMPLETE] ● https://www.essex.ac.uk/courses/PG01339/1/MA-War-Culture-and-Society                                 | ✓ | ⏱: 29.15s\n",
      "[INIT].... → Crawl4AI 0.6.2\n",
      "[FETCH]... ↓ https://www.essex.ac.uk/courses/UG00325/2/BA-Philosophy-and-History                                  | ✓ | ⏱: 28.67s\n",
      "[SCRAPE].. ◆ https://www.essex.ac.uk/courses/UG00325/2/BA-Philosophy-and-History                                  | ✓ | ⏱: 0.54s\n",
      "[COMPLETE] ● https://www.essex.ac.uk/courses/UG00325/2/BA-Philosophy-and-History                                  | ✓ | ⏱: 30.51s\n"
     ]
    },
    {
     "data": {
      "application/vnd.jupyter.widget-view+json": {
       "model_id": "8eddc726921d46e9b1666f4ecbdd110c",
       "version_major": 2,
       "version_minor": 0
      },
      "text/plain": [
       "images:MA-War-Culture-and-Society-1:   0%|          | 0/10 [00:00<?, ?it/s]"
      ]
     },
     "metadata": {},
     "output_type": "display_data"
    },
    {
     "data": {
      "application/vnd.jupyter.widget-view+json": {
       "model_id": "c4af8c799afb484783c9f7c7ef0be7a2",
       "version_major": 2,
       "version_minor": 0
      },
      "text/plain": [
       "images:BA-Philosophy-and-History-2:   0%|          | 0/10 [00:00<?, ?it/s]"
      ]
     },
     "metadata": {},
     "output_type": "display_data"
    },
    {
     "name": "stdout",
     "output_type": "stream",
     "text": [
      "[FETCH]... ↓ https://www.essex.ac.uk/courses/UG00293/1/BA-Modern-History-and-Politics                             | ✓ | ⏱: 35.24s\n",
      "[SCRAPE].. ◆ https://www.essex.ac.uk/courses/UG00293/1/BA-Modern-History-and-Politics                             | ✓ | ⏱: 0.32s\n",
      "[COMPLETE] ● https://www.essex.ac.uk/courses/UG00293/1/BA-Modern-History-and-Politics                             | ✓ | ⏱: 36.76s\n"
     ]
    },
    {
     "data": {
      "application/vnd.jupyter.widget-view+json": {
       "model_id": "89105a4d024946beb14973544cab683b",
       "version_major": 2,
       "version_minor": 0
      },
      "text/plain": [
       "images:BA-Modern-History-and-Politics-1:   0%|          | 0/10 [00:00<?, ?it/s]"
      ]
     },
     "metadata": {},
     "output_type": "display_data"
    },
    {
     "name": "stdout",
     "output_type": "stream",
     "text": [
      "[INIT].... → Crawl4AI 0.6.2\n",
      "[INIT].... → Crawl4AI 0.6.2\n",
      "[FETCH]... ↓ https://www.essex.ac.uk/courses/UG00291/1/BA-Modern-History                                          | ✓ | ⏱: 41.10s\n",
      "[SCRAPE].. ◆ https://www.essex.ac.uk/courses/UG00291/1/BA-Modern-History                                          | ✓ | ⏱: 0.30s\n",
      "[COMPLETE] ● https://www.essex.ac.uk/courses/UG00291/1/BA-Modern-History                                          | ✓ | ⏱: 42.53s\n",
      "[INIT].... → Crawl4AI 0.6.2\n"
     ]
    },
    {
     "data": {
      "application/vnd.jupyter.widget-view+json": {
       "model_id": "c77fb6a8eb2f4596aecd793d54c1a49b",
       "version_major": 2,
       "version_minor": 0
      },
      "text/plain": [
       "images:BA-Modern-History-1:   0%|          | 0/10 [00:00<?, ?it/s]"
      ]
     },
     "metadata": {},
     "output_type": "display_data"
    },
    {
     "name": "stdout",
     "output_type": "stream",
     "text": [
      "[FETCH]... ↓ https://www.essex.ac.uk/courses/PR00922/1/PhD-History                                                | ✓ | ⏱: 16.07s\n",
      "[SCRAPE].. ◆ https://www.essex.ac.uk/courses/PR00922/1/PhD-History                                                | ✓ | ⏱: 0.69s\n",
      "[COMPLETE] ● https://www.essex.ac.uk/courses/PR00922/1/PhD-History                                                | ✓ | ⏱: 20.01s\n"
     ]
    },
    {
     "data": {
      "application/vnd.jupyter.widget-view+json": {
       "model_id": "921d8f4f56f445478d64deee5a08bee0",
       "version_major": 2,
       "version_minor": 0
      },
      "text/plain": [
       "images:PhD-History-1:   0%|          | 0/10 [00:00<?, ?it/s]"
      ]
     },
     "metadata": {},
     "output_type": "display_data"
    },
    {
     "name": "stdout",
     "output_type": "stream",
     "text": [
      "[INIT].... → Crawl4AI 0.6.2\n",
      "[SCRAPE].. ◆ Some images failed to load within timeout\n",
      "[INIT].... → Crawl4AI 0.6.2\n",
      "[FETCH]... ↓ https://www.essex.ac.uk/courses/PG00456/2/Graduate-Diploma-Art-History-and-Theory                    | ✓ | ⏱: 33.39s\n",
      "[SCRAPE].. ◆ https://www.essex.ac.uk/courses/PG00456/2/Graduate-Diploma-Art-History-and-Theory                    | ✓ | ⏱: 0.37s\n",
      "[COMPLETE] ● https://www.essex.ac.uk/courses/PG00456/2/Graduate-Diploma-Art-History-and-Theory                    | ✓ | ⏱: 35.17s\n"
     ]
    },
    {
     "data": {
      "application/vnd.jupyter.widget-view+json": {
       "model_id": "567005baf8a34ebc96666072e39ee6a1",
       "version_major": 2,
       "version_minor": 0
      },
      "text/plain": [
       "images:Graduate-Diploma-Art-History-and-Theory-2:   0%|          | 0/10 [00:00<?, ?it/s]"
      ]
     },
     "metadata": {},
     "output_type": "display_data"
    },
    {
     "name": "stdout",
     "output_type": "stream",
     "text": [
      "[INIT].... → Crawl4AI 0.6.2\n",
      "[FETCH]... ↓ https://www.essex.ac.uk/courses/UG00332/1/BA-Philosophy-with-Human-Rights                            | ✓ | ⏱: 23.03s\n",
      "[SCRAPE].. ◆ https://www.essex.ac.uk/courses/UG00332/1/BA-Philosophy-with-Human-Rights                            | ✓ | ⏱: 0.30s\n",
      "[COMPLETE] ● https://www.essex.ac.uk/courses/UG00332/1/BA-Philosophy-with-Human-Rights                            | ✓ | ⏱: 24.44s\n",
      "[FETCH]... ↓ https://www.essex.ac.uk/courses/UG00197/1/BA-History-and-Sociology                                   | ✓ | ⏱: 44.93s\n",
      "[SCRAPE].. ◆ https://www.essex.ac.uk/courses/UG00197/1/BA-History-and-Sociology                                   | ✓ | ⏱: 0.56s\n",
      "[COMPLETE] ● https://www.essex.ac.uk/courses/UG00197/1/BA-History-and-Sociology                                   | ✓ | ⏱: 46.85s\n",
      "[FETCH]... ↓ https://www.essex.ac.uk/courses/UG00194/1/BA-History-and-Literature                                  | ✓ | ⏱: 43.82s\n",
      "[SCRAPE].. ◆ https://www.essex.ac.uk/courses/UG00194/1/BA-History-and-Literature                                  | ✓ | ⏱: 0.38s\n",
      "[COMPLETE] ● https://www.essex.ac.uk/courses/UG00194/1/BA-History-and-Literature                                  | ✓ | ⏱: 45.44s\n"
     ]
    },
    {
     "data": {
      "application/vnd.jupyter.widget-view+json": {
       "model_id": "5f84f2dd03cd4e0d91b13d213b8ac25e",
       "version_major": 2,
       "version_minor": 0
      },
      "text/plain": [
       "images:BA-Philosophy-with-Human-Rights-1:   0%|          | 0/10 [00:00<?, ?it/s]"
      ]
     },
     "metadata": {},
     "output_type": "display_data"
    },
    {
     "data": {
      "application/vnd.jupyter.widget-view+json": {
       "model_id": "b64490c17a27473f9f3050658a069472",
       "version_major": 2,
       "version_minor": 0
      },
      "text/plain": [
       "images:BA-History-and-Literature-1:   0%|          | 0/10 [00:00<?, ?it/s]"
      ]
     },
     "metadata": {},
     "output_type": "display_data"
    },
    {
     "data": {
      "application/vnd.jupyter.widget-view+json": {
       "model_id": "86cec1a311304dd7a98e688b56b9a265",
       "version_major": 2,
       "version_minor": 0
      },
      "text/plain": [
       "images:BA-History-and-Sociology-1:   0%|          | 0/10 [00:00<?, ?it/s]"
      ]
     },
     "metadata": {},
     "output_type": "display_data"
    },
    {
     "name": "stdout",
     "output_type": "stream",
     "text": [
      "[FETCH]... ↓ https://www.essex.ac.uk/courses/PR00923/1/PhD-Human-Rights                                           | ✓ | ⏱: 24.71s\n",
      "[SCRAPE].. ◆ https://www.essex.ac.uk/courses/PR00923/1/PhD-Human-Rights                                           | ✓ | ⏱: 0.24s\n",
      "[COMPLETE] ● https://www.essex.ac.uk/courses/PR00923/1/PhD-Human-Rights                                           | ✓ | ⏱: 25.97s\n"
     ]
    },
    {
     "data": {
      "application/vnd.jupyter.widget-view+json": {
       "model_id": "9f11d0c551044e80b58ea1d94a1c4b65",
       "version_major": 2,
       "version_minor": 0
      },
      "text/plain": [
       "images:PhD-Human-Rights-1:   0%|          | 0/10 [00:00<?, ?it/s]"
      ]
     },
     "metadata": {},
     "output_type": "display_data"
    },
    {
     "name": "stdout",
     "output_type": "stream",
     "text": [
      "[INIT].... → Crawl4AI 0.6.2\n",
      "[INIT].... → Crawl4AI 0.6.2\n",
      "[INIT].... → Crawl4AI 0.6.2\n",
      "[INIT].... → Crawl4AI 0.6.2\n",
      "[FETCH]... ↓ https://www.essex.ac.uk/courses/UG01049/1/LLB-Law-with-Human-Rights                                  | ✓ | ⏱: 33.09s\n",
      "[SCRAPE].. ◆ https://www.essex.ac.uk/courses/UG01049/1/LLB-Law-with-Human-Rights                                  | ✓ | ⏱: 0.39s\n",
      "[COMPLETE] ● https://www.essex.ac.uk/courses/UG01049/1/LLB-Law-with-Human-Rights                                  | ✓ | ⏱: 34.79s\n"
     ]
    },
    {
     "data": {
      "application/vnd.jupyter.widget-view+json": {
       "model_id": "3b905a1af60948baa4a2e9f83d1132c5",
       "version_major": 2,
       "version_minor": 0
      },
      "text/plain": [
       "images:LLB-Law-with-Human-Rights-1:   0%|          | 0/10 [00:00<?, ?it/s]"
      ]
     },
     "metadata": {},
     "output_type": "display_data"
    },
    {
     "name": "stdout",
     "output_type": "stream",
     "text": [
      "[FETCH]... ↓ https://www.essex.ac.uk/courses/PR00924/1/PhD-Human-Rights-and-Research-Methods                      | ✓ | ⏱: 11.71s\n",
      "[SCRAPE].. ◆ https://www.essex.ac.uk/courses/PR00924/1/PhD-Human-Rights-and-Research-Methods                      | ✓ | ⏱: 0.37s\n",
      "[COMPLETE] ● https://www.essex.ac.uk/courses/PR00924/1/PhD-Human-Rights-and-Research-Methods                      | ✓ | ⏱: 14.12s\n",
      "[FETCH]... ↓ https://www.essex.ac.uk/courses/PG00637/1/LLM-International-Human-Rights-Law                         | ✓ | ⏱: 14.82s\n",
      "[SCRAPE].. ◆ https://www.essex.ac.uk/courses/PG00637/1/LLM-International-Human-Rights-Law                         | ✓ | ⏱: 0.29s\n",
      "[COMPLETE] ● https://www.essex.ac.uk/courses/PG00637/1/LLM-International-Human-Rights-Law                         | ✓ | ⏱: 16.55s\n"
     ]
    },
    {
     "data": {
      "application/vnd.jupyter.widget-view+json": {
       "model_id": "b6a7c4d8f2ae4f6a9c36bfba10524e11",
       "version_major": 2,
       "version_minor": 0
      },
      "text/plain": [
       "images:PhD-Human-Rights-and-Research-Methods-1:   0%|          | 0/10 [00:00<?, ?it/s]"
      ]
     },
     "metadata": {},
     "output_type": "display_data"
    },
    {
     "name": "stdout",
     "output_type": "stream",
     "text": [
      "[SCRAPE].. ◆ Some images failed to load within timeout\n",
      "[INIT].... → Crawl4AI 0.6.2\n"
     ]
    },
    {
     "data": {
      "application/vnd.jupyter.widget-view+json": {
       "model_id": "288566afd22046d58688de9a9f4ae2b6",
       "version_major": 2,
       "version_minor": 0
      },
      "text/plain": [
       "images:LLM-International-Human-Rights-Law-1:   0%|          | 0/10 [00:00<?, ?it/s]"
      ]
     },
     "metadata": {},
     "output_type": "display_data"
    },
    {
     "name": "stdout",
     "output_type": "stream",
     "text": [
      "[FETCH]... ↓ https://www.essex.ac.uk/courses/PR01372/2/PhD-Human-Resource-Management-and-Organisation-Studies     | ✓ | ⏱: 66.64s\n",
      "[SCRAPE].. ◆ https://www.essex.ac.uk/courses/PR01372/2/PhD-Human-Resource-Management-and-Organisation-Studies     | ✓ | ⏱: 0.23s\n",
      "[COMPLETE] ● https://www.essex.ac.uk/courses/PR01372/2/PhD-Human-Resource-Management-and-Organisation-Studies     | ✓ | ⏱: 68.07s\n",
      "[FETCH]... ↓ https://www.essex.ac.uk/courses/PG00541/1/LLM-Economic-Social-and-Cultural-Rights                    | ✓ | ⏱: 65.64s\n",
      "[SCRAPE].. ◆ https://www.essex.ac.uk/courses/PG00541/1/LLM-Economic-Social-and-Cultural-Rights                    | ✓ | ⏱: 0.29s\n",
      "[COMPLETE] ● https://www.essex.ac.uk/courses/PG00541/1/LLM-Economic-Social-and-Cultural-Rights                    | ✓ | ⏱: 67.08s\n",
      "[INIT].... → Crawl4AI 0.6.2\n",
      "[INIT].... → Crawl4AI 0.6.2\n"
     ]
    },
    {
     "data": {
      "application/vnd.jupyter.widget-view+json": {
       "model_id": "255406d792a845ab8108948a5ebf4f8d",
       "version_major": 2,
       "version_minor": 0
      },
      "text/plain": [
       "images:PhD-Human-Resource-Management-and-Organisation-Studies-2:   0%|          | 0/10 [00:00<?, ?it/s]"
      ]
     },
     "metadata": {},
     "output_type": "display_data"
    },
    {
     "data": {
      "application/vnd.jupyter.widget-view+json": {
       "model_id": "02a99c9a090b46e1b6f3a45971fcc0ed",
       "version_major": 2,
       "version_minor": 0
      },
      "text/plain": [
       "images:LLM-Economic-Social-and-Cultural-Rights-1:   0%|          | 0/10 [00:00<?, ?it/s]"
      ]
     },
     "metadata": {},
     "output_type": "display_data"
    },
    {
     "name": "stdout",
     "output_type": "stream",
     "text": [
      "[INIT].... → Crawl4AI 0.6.2\n",
      "[INIT].... → Crawl4AI 0.6.2\n",
      "[FETCH]... ↓ https://www.essex.ac.uk/courses/UG01099/1/BA-Journalism-with-Human-Rights                            | ✓ | ⏱: 36.35s\n",
      "[SCRAPE].. ◆ https://www.essex.ac.uk/courses/UG01099/1/BA-Journalism-with-Human-Rights                            | ✓ | ⏱: 0.41s\n",
      "[COMPLETE] ● https://www.essex.ac.uk/courses/UG01099/1/BA-Journalism-with-Human-Rights                            | ✓ | ⏱: 38.08s\n",
      "[FETCH]... ↓ https://www.essex.ac.uk/courses/PG01137/1/LLM-International-Humanitarian-Law                         | ✓ | ⏱: 18.94s\n",
      "[SCRAPE].. ◆ https://www.essex.ac.uk/courses/PG01137/1/LLM-International-Humanitarian-Law                         | ✓ | ⏱: 0.27s\n",
      "[COMPLETE] ● https://www.essex.ac.uk/courses/PG01137/1/LLM-International-Humanitarian-Law                         | ✓ | ⏱: 20.62s\n",
      "[FETCH]... ↓ https://www.essex.ac.uk/courses/PG00833/1/MA-Theory-and-Practice-of-Human-Rights                     | ✓ | ⏱: 62.34s\n",
      "[SCRAPE].. ◆ https://www.essex.ac.uk/courses/PG00833/1/MA-Theory-and-Practice-of-Human-Rights                     | ✓ | ⏱: 0.25s\n",
      "[COMPLETE] ● https://www.essex.ac.uk/courses/PG00833/1/MA-Theory-and-Practice-of-Human-Rights                     | ✓ | ⏱: 63.55s\n",
      "[FETCH]... ↓ https://www.essex.ac.uk/courses/UG01299/1/LLB-Law-with-Criminology                                   | ✓ | ⏱: 41.83s\n",
      "[SCRAPE].. ◆ https://www.essex.ac.uk/courses/UG01299/1/LLB-Law-with-Criminology                                   | ✓ | ⏱: 0.27s\n",
      "[COMPLETE] ● https://www.essex.ac.uk/courses/UG01299/1/LLB-Law-with-Criminology                                   | ✓ | ⏱: 43.05s\n"
     ]
    },
    {
     "data": {
      "application/vnd.jupyter.widget-view+json": {
       "model_id": "09abe1faf3e548aa89bf5035e6da4915",
       "version_major": 2,
       "version_minor": 0
      },
      "text/plain": [
       "images:BA-Journalism-with-Human-Rights-1:   0%|          | 0/10 [00:00<?, ?it/s]"
      ]
     },
     "metadata": {},
     "output_type": "display_data"
    },
    {
     "name": "stdout",
     "output_type": "stream",
     "text": [
      "[ERROR]... × https://www.essex.ac.uk...International-Relations  | Error: \n",
      "┌───────────────────────────────────────────────────────────────────────────────────────────────────────────────────────┐\n",
      "│ × Unexpected error in _crawl_web at line 731 in _crawl_web (../../../../../opt/anaconda3/lib/python3.12/site-         │\n",
      "│ packages/crawl4ai/async_crawler_strategy.py):                                                                         │\n",
      "│   Error: Failed on navigating ACS-GOTO:                                                                               │\n",
      "│   Page.goto: net::ERR_CONNECTION_REFUSED at https://www.essex.ac.uk/courses/PG00641/2/MSc-International-Relations     │\n",
      "│   Call log:                                                                                                           │\n",
      "│   - navigating to \"https://www.essex.ac.uk/courses/PG00641/2/MSc-International-Relations\", waiting until              │\n",
      "│ \"domcontentloaded\"                                                                                                    │\n",
      "│                                                                                                                       │\n",
      "│                                                                                                                       │\n",
      "│   Code context:                                                                                                       │\n",
      "│   726                       response = await page.goto(                                                               │\n",
      "│   727                           url, wait_until=config.wait_until, timeout=config.page_timeout                        │\n",
      "│   728                       )                                                                                         │\n",
      "│   729                       redirected_url = page.url                                                                 │\n",
      "│   730                   except Error as e:                                                                            │\n",
      "│   731 →                     raise RuntimeError(f\"Failed on navigating ACS-GOTO:\\n{str(e)}\")                           │\n",
      "│   732                                                                                                                 │\n",
      "│   733                   await self.execute_hook(                                                                      │\n",
      "│   734                       \"after_goto\", page, context=context, url=url, response=response, config=config            │\n",
      "│   735                   )                                                                                             │\n",
      "│   736                                                                                                                 │\n",
      "└───────────────────────────────────────────────────────────────────────────────────────────────────────────────────────┘\n",
      "\n",
      "[ERROR]... × https://www.essex.ac.uk...MSc-Conflict-Resolution  | Error: \n",
      "┌───────────────────────────────────────────────────────────────────────────────────────────────────────────────────────┐\n",
      "│ × Unexpected error in _crawl_web at line 731 in _crawl_web (../../../../../opt/anaconda3/lib/python3.12/site-         │\n",
      "│ packages/crawl4ai/async_crawler_strategy.py):                                                                         │\n",
      "│   Error: Failed on navigating ACS-GOTO:                                                                               │\n",
      "│   Page.goto: net::ERR_CONNECTION_REFUSED at https://www.essex.ac.uk/courses/PG00508/2/MSc-Conflict-Resolution         │\n",
      "│   Call log:                                                                                                           │\n",
      "│   - navigating to \"https://www.essex.ac.uk/courses/PG00508/2/MSc-Conflict-Resolution\", waiting until                  │\n",
      "│ \"domcontentloaded\"                                                                                                    │\n",
      "│                                                                                                                       │\n",
      "│                                                                                                                       │\n",
      "│   Code context:                                                                                                       │\n",
      "│   726                       response = await page.goto(                                                               │\n",
      "│   727                           url, wait_until=config.wait_until, timeout=config.page_timeout                        │\n",
      "│   728                       )                                                                                         │\n",
      "│   729                       redirected_url = page.url                                                                 │\n",
      "│   730                   except Error as e:                                                                            │\n",
      "│   731 →                     raise RuntimeError(f\"Failed on navigating ACS-GOTO:\\n{str(e)}\")                           │\n",
      "│   732                                                                                                                 │\n",
      "│   733                   await self.execute_hook(                                                                      │\n",
      "│   734                       \"after_goto\", page, context=context, url=url, response=response, config=config            │\n",
      "│   735                   )                                                                                             │\n",
      "│   736                                                                                                                 │\n",
      "└───────────────────────────────────────────────────────────────────────────────────────────────────────────────────────┘\n",
      "\n"
     ]
    },
    {
     "data": {
      "application/vnd.jupyter.widget-view+json": {
       "model_id": "33b792bbf2fa41d6901dadd2613811f3",
       "version_major": 2,
       "version_minor": 0
      },
      "text/plain": [
       "images:LLM-International-Humanitarian-Law-1:   0%|          | 0/10 [00:00<?, ?it/s]"
      ]
     },
     "metadata": {},
     "output_type": "display_data"
    },
    {
     "data": {
      "application/vnd.jupyter.widget-view+json": {
       "model_id": "f771221899af428b85fb01becce4cfef",
       "version_major": 2,
       "version_minor": 0
      },
      "text/plain": [
       "images:MA-Theory-and-Practice-of-Human-Rights-1:   0%|          | 0/10 [00:00<?, ?it/s]"
      ]
     },
     "metadata": {},
     "output_type": "display_data"
    },
    {
     "data": {
      "application/vnd.jupyter.widget-view+json": {
       "model_id": "27bc4994316a4d219672f5d67a1dd85e",
       "version_major": 2,
       "version_minor": 0
      },
      "text/plain": [
       "images:LLB-Law-with-Criminology-1:   0%|          | 0/10 [00:00<?, ?it/s]"
      ]
     },
     "metadata": {},
     "output_type": "display_data"
    },
    {
     "name": "stdout",
     "output_type": "stream",
     "text": [
      "[INIT].... → Crawl4AI 0.6.2\n",
      "⚠️  MSc-International-Relations-2: Unexpected error in _crawl_web at line 731 in _crawl_web (../../../../../opt/anaconda3/lib/python3.12/site-packages/crawl4ai/async_crawler_strategy.py):\n",
      "Error: Failed on navigating ACS-GOTO:\n",
      "Page.goto: net::ERR_CONNECTION_REFUSED at https://www.essex.ac.uk/courses/PG00641/2/MSc-International-Relations\n",
      "Call log:\n",
      "  - navigating to \"https://www.essex.ac.uk/courses/PG00641/2/MSc-International-Relations\", waiting until \"domcontentloaded\"\n",
      "\n",
      "\n",
      "Code context:\n",
      " 726                       response = await page.goto(\n",
      " 727                           url, wait_until=config.wait_until, timeout=config.page_timeout\n",
      " 728                       )\n",
      " 729                       redirected_url = page.url\n",
      " 730                   except Error as e:\n",
      " 731 →                     raise RuntimeError(f\"Failed on navigating ACS-GOTO:\\n{str(e)}\")\n",
      " 732   \n",
      " 733                   await self.execute_hook(\n",
      " 734                       \"after_goto\", page, context=context, url=url, response=response, config=config\n",
      " 735                   )\n",
      " 736   \n",
      "⚠️  MSc-Conflict-Resolution-2: Unexpected error in _crawl_web at line 731 in _crawl_web (../../../../../opt/anaconda3/lib/python3.12/site-packages/crawl4ai/async_crawler_strategy.py):\n",
      "Error: Failed on navigating ACS-GOTO:\n",
      "Page.goto: net::ERR_CONNECTION_REFUSED at https://www.essex.ac.uk/courses/PG00508/2/MSc-Conflict-Resolution\n",
      "Call log:\n",
      "  - navigating to \"https://www.essex.ac.uk/courses/PG00508/2/MSc-Conflict-Resolution\", waiting until \"domcontentloaded\"\n",
      "\n",
      "\n",
      "Code context:\n",
      " 726                       response = await page.goto(\n",
      " 727                           url, wait_until=config.wait_until, timeout=config.page_timeout\n",
      " 728                       )\n",
      " 729                       redirected_url = page.url\n",
      " 730                   except Error as e:\n",
      " 731 →                     raise RuntimeError(f\"Failed on navigating ACS-GOTO:\\n{str(e)}\")\n",
      " 732   \n",
      " 733                   await self.execute_hook(\n",
      " 734                       \"after_goto\", page, context=context, url=url, response=response, config=config\n",
      " 735                   )\n",
      " 736   \n",
      "[INIT].... → Crawl4AI 0.6.2\n",
      "[INIT].... → Crawl4AI 0.6.2\n",
      "[INIT].... → Crawl4AI 0.6.2\n",
      "[INIT].... → Crawl4AI 0.6.2\n",
      "[INIT].... → Crawl4AI 0.6.2\n",
      "[FETCH]... ↓ https://www.essex.ac.uk/courses/PG00641/1/MA-International-Relations                                 | ✓ | ⏱: 66.02s\n",
      "[SCRAPE].. ◆ https://www.essex.ac.uk/courses/PG00641/1/MA-International-Relations                                 | ✓ | ⏱: 0.37s\n",
      "[COMPLETE] ● https://www.essex.ac.uk/courses/PG00641/1/MA-International-Relations                                 | ✓ | ⏱: 67.74s\n",
      "[FETCH]... ↓ https://www.essex.ac.uk/courses/UG00221/1/BA-International-Relations                                 | ✓ | ⏱: 69.50s\n",
      "[SCRAPE].. ◆ https://www.essex.ac.uk/courses/UG00221/1/BA-International-Relations                                 | ✓ | ⏱: 0.44s\n",
      "[COMPLETE] ● https://www.essex.ac.uk/courses/UG00221/1/BA-International-Relations                                 | ✓ | ⏱: 72.16s\n"
     ]
    },
    {
     "data": {
      "application/vnd.jupyter.widget-view+json": {
       "model_id": "563adf6c2e43417c924601acc47f9d2e",
       "version_major": 2,
       "version_minor": 0
      },
      "text/plain": [
       "images:MA-International-Relations-1:   0%|          | 0/10 [00:00<?, ?it/s]"
      ]
     },
     "metadata": {},
     "output_type": "display_data"
    },
    {
     "data": {
      "application/vnd.jupyter.widget-view+json": {
       "model_id": "53df8604ad764ae6a628d0efb07cbde6",
       "version_major": 2,
       "version_minor": 0
      },
      "text/plain": [
       "images:BA-International-Relations-1:   0%|          | 0/10 [00:00<?, ?it/s]"
      ]
     },
     "metadata": {},
     "output_type": "display_data"
    },
    {
     "name": "stdout",
     "output_type": "stream",
     "text": [
      "[INIT].... → Crawl4AI 0.6.2\n",
      "[SCRAPE].. ◆ Some images failed to load within timeout\n",
      "[INIT].... → Crawl4AI 0.6.2\n",
      "[SCRAPE].. ◆ Some images failed to load within timeout\n",
      "[FETCH]... ↓ https://www.essex.ac.uk/courses/PG00641/3/MRes-International-Relations                               | ✓ | ⏱: 34.09s\n",
      "[SCRAPE].. ◆ https://www.essex.ac.uk/courses/PG00641/3/MRes-International-Relations                               | ✓ | ⏱: 0.26s\n",
      "[COMPLETE] ● https://www.essex.ac.uk/courses/PG00641/3/MRes-International-Relations                               | ✓ | ⏱: 35.29s\n",
      "[FETCH]... ↓ https://www.essex.ac.uk/courses/PR00914/1/PhD-Government                                             | ✓ | ⏱: 31.95s\n",
      "[SCRAPE].. ◆ https://www.essex.ac.uk/courses/PR00914/1/PhD-Government                                             | ✓ | ⏱: 0.22s\n",
      "[COMPLETE] ● https://www.essex.ac.uk/courses/PR00914/1/PhD-Government                                             | ✓ | ⏱: 33.13s\n",
      "[FETCH]... ↓ https://www.essex.ac.uk/courses/PR00914/5/PhD-Government                                             | ✓ | ⏱: 34.03s\n",
      "[SCRAPE].. ◆ https://www.essex.ac.uk/courses/PR00914/5/PhD-Government                                             | ✓ | ⏱: 0.23s\n",
      "[COMPLETE] ● https://www.essex.ac.uk/courses/PR00914/5/PhD-Government                                             | ✓ | ⏱: 35.43s\n",
      "[FETCH]... ↓ https://www.essex.ac.uk/courses/UG01657/1/BA-International-Affairs                                   | ✓ | ⏱: 38.49s\n",
      "[SCRAPE].. ◆ https://www.essex.ac.uk/courses/UG01657/1/BA-International-Affairs                                   | ✓ | ⏱: 0.43s\n",
      "[COMPLETE] ● https://www.essex.ac.uk/courses/UG01657/1/BA-International-Affairs                                   | ✓ | ⏱: 40.02s\n",
      "[FETCH]... ↓ https://www.essex.ac.uk/courses/UG01658/1/BA-International-Affairs-and-Economics                     | ✓ | ⏱: 38.85s\n",
      "[SCRAPE].. ◆ https://www.essex.ac.uk/courses/UG01658/1/BA-International-Affairs-and-Economics                     | ✓ | ⏱: 0.24s\n",
      "[COMPLETE] ● https://www.essex.ac.uk/courses/UG01658/1/BA-International-Affairs-and-Economics                     | ✓ | ⏱: 40.20s\n",
      "[FETCH]... ↓ https://www.essex.ac.uk/courses/PG00508/1/MA-Conflict-Resolution                                     | ✓ | ⏱: 41.38s\n",
      "[SCRAPE].. ◆ https://www.essex.ac.uk/courses/PG00508/1/MA-Conflict-Resolution                                     | ✓ | ⏱: 0.25s\n",
      "[COMPLETE] ● https://www.essex.ac.uk/courses/PG00508/1/MA-Conflict-Resolution                                     | ✓ | ⏱: 42.69s\n"
     ]
    },
    {
     "data": {
      "application/vnd.jupyter.widget-view+json": {
       "model_id": "398b5d28ef1e45749eef54d1ae6ee232",
       "version_major": 2,
       "version_minor": 0
      },
      "text/plain": [
       "images:PhD-Government-5:   0%|          | 0/10 [00:00<?, ?it/s]"
      ]
     },
     "metadata": {},
     "output_type": "display_data"
    },
    {
     "data": {
      "application/vnd.jupyter.widget-view+json": {
       "model_id": "f04ff35e7154403f81002cb62c771b07",
       "version_major": 2,
       "version_minor": 0
      },
      "text/plain": [
       "images:PhD-Government-1:   0%|          | 0/10 [00:00<?, ?it/s]"
      ]
     },
     "metadata": {},
     "output_type": "display_data"
    },
    {
     "data": {
      "application/vnd.jupyter.widget-view+json": {
       "model_id": "c48aebea57ca4cec83e06219a0be7fa6",
       "version_major": 2,
       "version_minor": 0
      },
      "text/plain": [
       "images:MRes-International-Relations-3:   0%|          | 0/10 [00:00<?, ?it/s]"
      ]
     },
     "metadata": {},
     "output_type": "display_data"
    },
    {
     "data": {
      "application/vnd.jupyter.widget-view+json": {
       "model_id": "ffc90784b3ce4d5583c4f5cb28736b73",
       "version_major": 2,
       "version_minor": 0
      },
      "text/plain": [
       "images:BA-International-Affairs-1:   0%|          | 0/12 [00:00<?, ?it/s]"
      ]
     },
     "metadata": {},
     "output_type": "display_data"
    },
    {
     "data": {
      "application/vnd.jupyter.widget-view+json": {
       "model_id": "807d39bdc4ad4b989aaf394800da7eb6",
       "version_major": 2,
       "version_minor": 0
      },
      "text/plain": [
       "images:BA-International-Affairs-and-Economics-1:   0%|          | 0/12 [00:00<?, ?it/s]"
      ]
     },
     "metadata": {},
     "output_type": "display_data"
    },
    {
     "data": {
      "application/vnd.jupyter.widget-view+json": {
       "model_id": "e2d97d13952f4dff9e9cf1a69f44ba37",
       "version_major": 2,
       "version_minor": 0
      },
      "text/plain": [
       "images:MA-Conflict-Resolution-1:   0%|          | 0/10 [00:00<?, ?it/s]"
      ]
     },
     "metadata": {},
     "output_type": "display_data"
    },
    {
     "name": "stdout",
     "output_type": "stream",
     "text": [
      "[INIT].... → Crawl4AI 0.6.2\n",
      "[INIT].... → Crawl4AI 0.6.2\n",
      "[INIT].... → Crawl4AI 0.6.2\n",
      "[INIT].... → Crawl4AI 0.6.2\n",
      "[INIT].... → Crawl4AI 0.6.2\n",
      "[INIT].... → Crawl4AI 0.6.2\n",
      "[FETCH]... ↓ https://www.essex.ac.uk/courses/PR00914/2/MPhil-Government                                           | ✓ | ⏱: 34.86s\n",
      "[SCRAPE].. ◆ https://www.essex.ac.uk/courses/PR00914/2/MPhil-Government                                           | ✓ | ⏱: 0.31s\n",
      "[COMPLETE] ● https://www.essex.ac.uk/courses/PR00914/2/MPhil-Government                                           | ✓ | ⏱: 37.42s\n"
     ]
    },
    {
     "data": {
      "application/vnd.jupyter.widget-view+json": {
       "model_id": "12b9281fc6dc4c55b55d6b5d3f5477f2",
       "version_major": 2,
       "version_minor": 0
      },
      "text/plain": [
       "images:MPhil-Government-2:   0%|          | 0/10 [00:00<?, ?it/s]"
      ]
     },
     "metadata": {},
     "output_type": "display_data"
    },
    {
     "name": "stdout",
     "output_type": "stream",
     "text": [
      "[INIT].... → Crawl4AI 0.6.2\n",
      "[FETCH]... ↓ https://www.essex.ac.uk/courses/PR01129/2/MPhil-Journalism                                           | ✓ | ⏱: 10.26s\n",
      "[SCRAPE].. ◆ https://www.essex.ac.uk/courses/PR01129/2/MPhil-Journalism                                           | ✓ | ⏱: 0.24s\n",
      "[COMPLETE] ● https://www.essex.ac.uk/courses/PR01129/2/MPhil-Journalism                                           | ✓ | ⏱: 11.62s\n"
     ]
    },
    {
     "data": {
      "application/vnd.jupyter.widget-view+json": {
       "model_id": "0ea76c6e74e24f3984fb484eed354656",
       "version_major": 2,
       "version_minor": 0
      },
      "text/plain": [
       "images:MPhil-Journalism-2:   0%|          | 0/10 [00:00<?, ?it/s]"
      ]
     },
     "metadata": {},
     "output_type": "display_data"
    },
    {
     "name": "stdout",
     "output_type": "stream",
     "text": [
      "[INIT].... → Crawl4AI 0.6.2\n",
      "[SCRAPE].. ◆ Some images failed to load within timeout\n",
      "[FETCH]... ↓ https://www.essex.ac.uk/courses/PR00914/3/PhD-Government                                             | ✓ | ⏱: 53.51s\n",
      "[SCRAPE].. ◆ https://www.essex.ac.uk/courses/PR00914/3/PhD-Government                                             | ✓ | ⏱: 0.39s\n",
      "[COMPLETE] ● https://www.essex.ac.uk/courses/PR00914/3/PhD-Government                                             | ✓ | ⏱: 55.41s\n"
     ]
    },
    {
     "data": {
      "application/vnd.jupyter.widget-view+json": {
       "model_id": "1a9c9c6c5810419ebcae40a2e74a2e80",
       "version_major": 2,
       "version_minor": 0
      },
      "text/plain": [
       "images:PhD-Government-3:   0%|          | 0/10 [00:00<?, ?it/s]"
      ]
     },
     "metadata": {},
     "output_type": "display_data"
    },
    {
     "name": "stdout",
     "output_type": "stream",
     "text": [
      "[INIT].... → Crawl4AI 0.6.2\n",
      "[SCRAPE].. ◆ Some images failed to load within timeout\n",
      "[FETCH]... ↓ https://www.essex.ac.uk/courses/UG01100/1/BA-Journalism-and-Politics                                 | ✓ | ⏱: 49.52s\n",
      "[SCRAPE].. ◆ https://www.essex.ac.uk/courses/UG01100/1/BA-Journalism-and-Politics                                 | ✓ | ⏱: 0.32s\n",
      "[COMPLETE] ● https://www.essex.ac.uk/courses/UG01100/1/BA-Journalism-and-Politics                                 | ✓ | ⏱: 51.26s\n"
     ]
    },
    {
     "data": {
      "application/vnd.jupyter.widget-view+json": {
       "model_id": "5cb5c88cc6dc4c76ab972d7ae018f261",
       "version_major": 2,
       "version_minor": 0
      },
      "text/plain": [
       "images:BA-Journalism-and-Politics-1:   0%|          | 0/10 [00:00<?, ?it/s]"
      ]
     },
     "metadata": {},
     "output_type": "display_data"
    },
    {
     "name": "stdout",
     "output_type": "stream",
     "text": [
      "[FETCH]... ↓ https://www.essex.ac.uk/courses/PR01129/1/PhD-Journalism                                             | ✓ | ⏱: 69.11s\n",
      "[SCRAPE].. ◆ https://www.essex.ac.uk/courses/PR01129/1/PhD-Journalism                                             | ✓ | ⏱: 0.46s\n",
      "[COMPLETE] ● https://www.essex.ac.uk/courses/PR01129/1/PhD-Journalism                                             | ✓ | ⏱: 71.13s\n",
      "[FETCH]... ↓ https://www.essex.ac.uk/courses/UG00301/2/BA-Modern-Languages-with-Latin-American-Studies            | ✓ | ⏱: 57.11s\n",
      "[SCRAPE].. ◆ https://www.essex.ac.uk/courses/UG00301/2/BA-Modern-Languages-with-Latin-American-Studies            | ✓ | ⏱: 0.28s\n",
      "[COMPLETE] ● https://www.essex.ac.uk/courses/UG00301/2/BA-Modern-Languages-with-Latin-American-Studies            | ✓ | ⏱: 58.80s\n",
      "[INIT].... → Crawl4AI 0.6.2\n"
     ]
    },
    {
     "data": {
      "application/vnd.jupyter.widget-view+json": {
       "model_id": "4c97253b51de44a7baee1f7abd27b5a5",
       "version_major": 2,
       "version_minor": 0
      },
      "text/plain": [
       "images:PhD-Journalism-1:   0%|          | 0/10 [00:00<?, ?it/s]"
      ]
     },
     "metadata": {},
     "output_type": "display_data"
    },
    {
     "name": "stdout",
     "output_type": "stream",
     "text": [
      "[FETCH]... ↓ https://www.essex.ac.uk/courses/PR01129/3/MSc-by-Dissertation-Journalism                             | ✓ | ⏱: 75.85s\n",
      "[SCRAPE].. ◆ https://www.essex.ac.uk/courses/PR01129/3/MSc-by-Dissertation-Journalism                             | ✓ | ⏱: 0.22s\n",
      "[COMPLETE] ● https://www.essex.ac.uk/courses/PR01129/3/MSc-by-Dissertation-Journalism                             | ✓ | ⏱: 77.03s\n",
      "[FETCH]... ↓ https://www.essex.ac.uk/courses/PG01546/1/MA-International-Journalism                                | ✓ | ⏱: 68.89s\n",
      "[SCRAPE].. ◆ https://www.essex.ac.uk/courses/PG01546/1/MA-International-Journalism                                | ✓ | ⏱: 0.22s\n",
      "[COMPLETE] ● https://www.essex.ac.uk/courses/PG01546/1/MA-International-Journalism                                | ✓ | ⏱: 70.15s\n",
      "[FETCH]... ↓ https://www.essex.ac.uk/courses/UG01514/1/BA-Journalism-and-Language-Studies                         | ✓ | ⏱: 79.17s\n",
      "[SCRAPE].. ◆ https://www.essex.ac.uk/courses/UG01514/1/BA-Journalism-and-Language-Studies                         | ✓ | ⏱: 0.25s\n",
      "[COMPLETE] ● https://www.essex.ac.uk/courses/UG01514/1/BA-Journalism-and-Language-Studies                         | ✓ | ⏱: 80.47s\n",
      "[FETCH]... ↓ https://www.essex.ac.uk/courses/UG01020/1/BA-Multimedia-Journalism                                   | ✓ | ⏱: 83.40s\n",
      "[SCRAPE].. ◆ https://www.essex.ac.uk/courses/UG01020/1/BA-Multimedia-Journalism                                   | ✓ | ⏱: 0.24s\n",
      "[COMPLETE] ● https://www.essex.ac.uk/courses/UG01020/1/BA-Multimedia-Journalism                                   | ✓ | ⏱: 84.77s\n"
     ]
    },
    {
     "data": {
      "application/vnd.jupyter.widget-view+json": {
       "model_id": "f9b92d64bb8f4390b1b6eb3751c8fb2d",
       "version_major": 2,
       "version_minor": 0
      },
      "text/plain": [
       "images:BA-Modern-Languages-with-Latin-American-Studies-2:   0%|          | 0/10 [00:00<?, ?it/s]"
      ]
     },
     "metadata": {},
     "output_type": "display_data"
    },
    {
     "data": {
      "application/vnd.jupyter.widget-view+json": {
       "model_id": "1043be5dc86f41cd972f02a47412c091",
       "version_major": 2,
       "version_minor": 0
      },
      "text/plain": [
       "images:MSc-by-Dissertation-Journalism-3:   0%|          | 0/10 [00:00<?, ?it/s]"
      ]
     },
     "metadata": {},
     "output_type": "display_data"
    },
    {
     "name": "stdout",
     "output_type": "stream",
     "text": [
      "[INIT].... → Crawl4AI 0.6.2\n"
     ]
    },
    {
     "data": {
      "application/vnd.jupyter.widget-view+json": {
       "model_id": "024ff05d122846f28bc0e583b654d324",
       "version_major": 2,
       "version_minor": 0
      },
      "text/plain": [
       "images:MA-International-Journalism-1:   0%|          | 0/10 [00:00<?, ?it/s]"
      ]
     },
     "metadata": {},
     "output_type": "display_data"
    },
    {
     "data": {
      "application/vnd.jupyter.widget-view+json": {
       "model_id": "58fadb21c9b24bfda4d8e693bf429fe9",
       "version_major": 2,
       "version_minor": 0
      },
      "text/plain": [
       "images:BA-Journalism-and-Language-Studies-1:   0%|          | 0/10 [00:00<?, ?it/s]"
      ]
     },
     "metadata": {},
     "output_type": "display_data"
    },
    {
     "data": {
      "application/vnd.jupyter.widget-view+json": {
       "model_id": "4e24214ef1484b23a3fde5018cccf457",
       "version_major": 2,
       "version_minor": 0
      },
      "text/plain": [
       "images:BA-Multimedia-Journalism-1:   0%|          | 0/10 [00:00<?, ?it/s]"
      ]
     },
     "metadata": {},
     "output_type": "display_data"
    },
    {
     "name": "stdout",
     "output_type": "stream",
     "text": [
      "[INIT].... → Crawl4AI 0.6.2\n",
      "[INIT].... → Crawl4AI 0.6.2\n",
      "[INIT].... → Crawl4AI 0.6.2\n",
      "[INIT].... → Crawl4AI 0.6.2\n",
      "[INIT].... → Crawl4AI 0.6.2\n",
      "[FETCH]... ↓ https://www.essex.ac.uk/courses/UG00301/1/BA-Modern-Languages-with-Latin-American-Studies            | ✓ | ⏱: 24.67s\n",
      "[SCRAPE].. ◆ https://www.essex.ac.uk/courses/UG00301/1/BA-Modern-Languages-with-Latin-American-Studies            | ✓ | ⏱: 0.49s\n",
      "[COMPLETE] ● https://www.essex.ac.uk/courses/UG00301/1/BA-Modern-Languages-with-Latin-American-Studies            | ✓ | ⏱: 27.55s\n"
     ]
    },
    {
     "data": {
      "application/vnd.jupyter.widget-view+json": {
       "model_id": "8709e9f165174b088a97f51746b79dbd",
       "version_major": 2,
       "version_minor": 0
      },
      "text/plain": [
       "images:BA-Modern-Languages-with-Latin-American-Studies-1:   0%|          | 0/10 [00:00<?, ?it/s]"
      ]
     },
     "metadata": {},
     "output_type": "display_data"
    },
    {
     "name": "stdout",
     "output_type": "stream",
     "text": [
      "[FETCH]... ↓ https://www.essex.ac.uk/courses/PG01588/1/LLM-International-Criminal-Law                             | ✓ | ⏱: 23.36s\n",
      "[SCRAPE].. ◆ https://www.essex.ac.uk/courses/PG01588/1/LLM-International-Criminal-Law                             | ✓ | ⏱: 0.25s\n",
      "[COMPLETE] ● https://www.essex.ac.uk/courses/PG01588/1/LLM-International-Criminal-Law                             | ✓ | ⏱: 24.73s\n",
      "[INIT].... → Crawl4AI 0.6.2\n",
      "[FETCH]... ↓ https://www.essex.ac.uk/courses/UG01412/1/BA-Language-Studies-with-Latin-American-Studies            | ✓ | ⏱: 69.38s\n",
      "[SCRAPE].. ◆ https://www.essex.ac.uk/courses/UG01412/1/BA-Language-Studies-with-Latin-American-Studies            | ✓ | ⏱: 0.26s\n",
      "[COMPLETE] ● https://www.essex.ac.uk/courses/UG01412/1/BA-Language-Studies-with-Latin-American-Studies            | ✓ | ⏱: 70.80s\n"
     ]
    },
    {
     "data": {
      "application/vnd.jupyter.widget-view+json": {
       "model_id": "a96f9782e6f84a37b660ab8a85443ed5",
       "version_major": 2,
       "version_minor": 0
      },
      "text/plain": [
       "images:LLM-International-Criminal-Law-1:   0%|          | 0/10 [00:00<?, ?it/s]"
      ]
     },
     "metadata": {},
     "output_type": "display_data"
    },
    {
     "name": "stdout",
     "output_type": "stream",
     "text": [
      "[FETCH]... ↓ https://www.essex.ac.uk/courses/UG01050/1/LLB-Law-with-Philosophy                                    | ✓ | ⏱: 24.95s\n",
      "[SCRAPE].. ◆ https://www.essex.ac.uk/courses/UG01050/1/LLB-Law-with-Philosophy                                    | ✓ | ⏱: 0.29s\n",
      "[COMPLETE] ● https://www.essex.ac.uk/courses/UG01050/1/LLB-Law-with-Philosophy                                    | ✓ | ⏱: 26.21s\n",
      "[FETCH]... ↓ https://www.essex.ac.uk/courses/UG00235/3/Integrated-Master-in-Law-Law                               | ✓ | ⏱: 25.12s\n",
      "[SCRAPE].. ◆ https://www.essex.ac.uk/courses/UG00235/3/Integrated-Master-in-Law-Law                               | ✓ | ⏱: 0.46s\n",
      "[COMPLETE] ● https://www.essex.ac.uk/courses/UG00235/3/Integrated-Master-in-Law-Law                               | ✓ | ⏱: 26.63s\n",
      "[FETCH]... ↓ https://www.essex.ac.uk/courses/UG00235/2/LLB-Law                                                    | ✓ | ⏱: 28.58s\n",
      "[SCRAPE].. ◆ https://www.essex.ac.uk/courses/UG00235/2/LLB-Law                                                    | ✓ | ⏱: 0.38s\n",
      "[COMPLETE] ● https://www.essex.ac.uk/courses/UG00235/2/LLB-Law                                                    | ✓ | ⏱: 30.62s\n"
     ]
    },
    {
     "data": {
      "application/vnd.jupyter.widget-view+json": {
       "model_id": "8d991231e06e49fdba311b526808565a",
       "version_major": 2,
       "version_minor": 0
      },
      "text/plain": [
       "images:BA-Language-Studies-with-Latin-American-Studies-1:   0%|          | 0/10 [00:00<?, ?it/s]"
      ]
     },
     "metadata": {},
     "output_type": "display_data"
    },
    {
     "data": {
      "application/vnd.jupyter.widget-view+json": {
       "model_id": "dd260dd4809946e8a772289f31e1f33c",
       "version_major": 2,
       "version_minor": 0
      },
      "text/plain": [
       "images:LLB-Law-with-Philosophy-1:   0%|          | 0/10 [00:00<?, ?it/s]"
      ]
     },
     "metadata": {},
     "output_type": "display_data"
    },
    {
     "name": "stdout",
     "output_type": "stream",
     "text": [
      "[INIT].... → Crawl4AI 0.6.2\n"
     ]
    },
    {
     "data": {
      "application/vnd.jupyter.widget-view+json": {
       "model_id": "4f38ce342df5442984a2f8ec310f0553",
       "version_major": 2,
       "version_minor": 0
      },
      "text/plain": [
       "images:LLB-Law-2:   0%|          | 0/10 [00:00<?, ?it/s]"
      ]
     },
     "metadata": {},
     "output_type": "display_data"
    },
    {
     "data": {
      "application/vnd.jupyter.widget-view+json": {
       "model_id": "a2842a6b5ab54c999db3fb2af056b3b3",
       "version_major": 2,
       "version_minor": 0
      },
      "text/plain": [
       "images:Integrated-Master-in-Law-Law-3:   0%|          | 0/10 [00:00<?, ?it/s]"
      ]
     },
     "metadata": {},
     "output_type": "display_data"
    },
    {
     "name": "stdout",
     "output_type": "stream",
     "text": [
      "[FETCH]... ↓ https://www.essex.ac.uk/courses/PR00931/5/PhD-Law                                                    | ✓ | ⏱: 44.62s\n",
      "[SCRAPE].. ◆ https://www.essex.ac.uk/courses/PR00931/5/PhD-Law                                                    | ✓ | ⏱: 0.24s\n",
      "[COMPLETE] ● https://www.essex.ac.uk/courses/PR00931/5/PhD-Law                                                    | ✓ | ⏱: 46.29s\n",
      "[INIT].... → Crawl4AI 0.6.2\n",
      "[INIT].... → Crawl4AI 0.6.2\n"
     ]
    },
    {
     "data": {
      "application/vnd.jupyter.widget-view+json": {
       "model_id": "255d73a8354f4f05a5b71ef4965f9e5e",
       "version_major": 2,
       "version_minor": 0
      },
      "text/plain": [
       "images:PhD-Law-5:   0%|          | 0/10 [00:00<?, ?it/s]"
      ]
     },
     "metadata": {},
     "output_type": "display_data"
    },
    {
     "name": "stdout",
     "output_type": "stream",
     "text": [
      "[INIT].... → Crawl4AI 0.6.2\n",
      "[INIT].... → Crawl4AI 0.6.2\n",
      "[INIT].... → Crawl4AI 0.6.2\n",
      "[FETCH]... ↓ https://www.essex.ac.uk/courses/PG01513/1/LLM-International-Human-Rights-and-Economic-Law            | ✓ | ⏱: 52.19s\n",
      "[SCRAPE].. ◆ https://www.essex.ac.uk/courses/PG01513/1/LLM-International-Human-Rights-and-Economic-Law            | ✓ | ⏱: 0.18s\n",
      "[COMPLETE] ● https://www.essex.ac.uk/courses/PG01513/1/LLM-International-Human-Rights-and-Economic-Law            | ✓ | ⏱: 54.16s\n"
     ]
    },
    {
     "data": {
      "application/vnd.jupyter.widget-view+json": {
       "model_id": "12fa9dace1344b808d1a73e62431e3a6",
       "version_major": 2,
       "version_minor": 0
      },
      "text/plain": [
       "images:LLM-International-Human-Rights-and-Economic-Law-1:   0%|          | 0/10 [00:00<?, ?it/s]"
      ]
     },
     "metadata": {},
     "output_type": "display_data"
    },
    {
     "name": "stdout",
     "output_type": "stream",
     "text": [
      "[FETCH]... ↓ https://www.essex.ac.uk/courses/PG00644/1/LLM-International-Trade-Law                                | ✓ | ⏱: 17.63s\n",
      "[SCRAPE].. ◆ https://www.essex.ac.uk/courses/PG00644/1/LLM-International-Trade-Law                                | ✓ | ⏱: 0.30s\n",
      "[COMPLETE] ● https://www.essex.ac.uk/courses/PG00644/1/LLM-International-Trade-Law                                | ✓ | ⏱: 19.33s\n"
     ]
    },
    {
     "data": {
      "application/vnd.jupyter.widget-view+json": {
       "model_id": "779e8b06f6a3487d9885ee10e94e933a",
       "version_major": 2,
       "version_minor": 0
      },
      "text/plain": [
       "images:LLM-International-Trade-Law-1:   0%|          | 0/10 [00:00<?, ?it/s]"
      ]
     },
     "metadata": {},
     "output_type": "display_data"
    },
    {
     "name": "stdout",
     "output_type": "stream",
     "text": [
      "[INIT].... → Crawl4AI 0.6.2\n",
      "[FETCH]... ↓ https://www.essex.ac.uk/courses/PG01105/2/LLM-International-Trade-and-Maritime-Law                   | ✓ | ⏱: 17.22s\n",
      "[SCRAPE].. ◆ https://www.essex.ac.uk/courses/PG01105/2/LLM-International-Trade-and-Maritime-Law                   | ✓ | ⏱: 0.24s\n",
      "[COMPLETE] ● https://www.essex.ac.uk/courses/PG01105/2/LLM-International-Trade-and-Maritime-Law                   | ✓ | ⏱: 18.50s\n",
      "[FETCH]... ↓ https://www.essex.ac.uk/courses/PG01590/1/LLM-Law-and-Technology                                     | ✓ | ⏱: 19.43s\n",
      "[SCRAPE].. ◆ https://www.essex.ac.uk/courses/PG01590/1/LLM-Law-and-Technology                                     | ✓ | ⏱: 0.23s\n",
      "[COMPLETE] ● https://www.essex.ac.uk/courses/PG01590/1/LLM-Law-and-Technology                                     | ✓ | ⏱: 20.75s\n",
      "[FETCH]... ↓ https://www.essex.ac.uk/courses/PG01105/1/LLM-International-Trade-and-Maritime-Law                   | ✓ | ⏱: 49.85s\n",
      "[SCRAPE].. ◆ https://www.essex.ac.uk/courses/PG01105/1/LLM-International-Trade-and-Maritime-Law                   | ✓ | ⏱: 0.26s\n",
      "[COMPLETE] ● https://www.essex.ac.uk/courses/PG01105/1/LLM-International-Trade-and-Maritime-Law                   | ✓ | ⏱: 52.05s\n",
      "[INIT].... → Crawl4AI 0.6.2\n"
     ]
    },
    {
     "data": {
      "application/vnd.jupyter.widget-view+json": {
       "model_id": "b3da17c5cb744fbcb2f66b545166330e",
       "version_major": 2,
       "version_minor": 0
      },
      "text/plain": [
       "images:LLM-International-Trade-and-Maritime-Law-2:   0%|          | 0/10 [00:00<?, ?it/s]"
      ]
     },
     "metadata": {},
     "output_type": "display_data"
    },
    {
     "data": {
      "application/vnd.jupyter.widget-view+json": {
       "model_id": "8bc9f63079ff4cc2b483c67b18a5cab0",
       "version_major": 2,
       "version_minor": 0
      },
      "text/plain": [
       "images:LLM-Law-and-Technology-1:   0%|          | 0/9 [00:00<?, ?it/s]"
      ]
     },
     "metadata": {},
     "output_type": "display_data"
    },
    {
     "data": {
      "application/vnd.jupyter.widget-view+json": {
       "model_id": "1b3058e808064a35b2910103c1d3953d",
       "version_major": 2,
       "version_minor": 0
      },
      "text/plain": [
       "images:LLM-International-Trade-and-Maritime-Law-1:   0%|          | 0/10 [00:00<?, ?it/s]"
      ]
     },
     "metadata": {},
     "output_type": "display_data"
    },
    {
     "name": "stdout",
     "output_type": "stream",
     "text": [
      "[FETCH]... ↓ https://www.essex.ac.uk/courses/PG00633/1/LLM-International-Commercial-and-Business-Law              | ✓ | ⏱: 48.61s\n",
      "[SCRAPE].. ◆ https://www.essex.ac.uk/courses/PG00633/1/LLM-International-Commercial-and-Business-Law              | ✓ | ⏱: 0.25s\n",
      "[COMPLETE] ● https://www.essex.ac.uk/courses/PG00633/1/LLM-International-Commercial-and-Business-Law              | ✓ | ⏱: 50.33s\n",
      "[INIT].... → Crawl4AI 0.6.2\n",
      "[INIT].... → Crawl4AI 0.6.2\n",
      "[INIT].... → Crawl4AI 0.6.2\n",
      "[FETCH]... ↓ https://www.essex.ac.uk/courses/UG00235/1/LLB-Law                                                    | ✓ | ⏱: 51.97s\n",
      "[SCRAPE].. ◆ https://www.essex.ac.uk/courses/UG00235/1/LLB-Law                                                    | ✓ | ⏱: 0.46s\n",
      "[COMPLETE] ● https://www.essex.ac.uk/courses/UG00235/1/LLB-Law                                                    | ✓ | ⏱: 53.50s\n"
     ]
    },
    {
     "data": {
      "application/vnd.jupyter.widget-view+json": {
       "model_id": "95fac3c76d214498bf68d478c9d4806d",
       "version_major": 2,
       "version_minor": 0
      },
      "text/plain": [
       "images:LLM-International-Commercial-and-Business-Law-1:   0%|          | 0/10 [00:00<?, ?it/s]"
      ]
     },
     "metadata": {},
     "output_type": "display_data"
    },
    {
     "name": "stdout",
     "output_type": "stream",
     "text": [
      "[FETCH]... ↓ https://www.essex.ac.uk/courses/UG01021/1/LLB-Law-Senior-Status                                      | ✓ | ⏱: 69.62s\n",
      "[SCRAPE].. ◆ https://www.essex.ac.uk/courses/UG01021/1/LLB-Law-Senior-Status                                      | ✓ | ⏱: 0.36s\n",
      "[COMPLETE] ● https://www.essex.ac.uk/courses/UG01021/1/LLB-Law-Senior-Status                                      | ✓ | ⏱: 71.63s\n"
     ]
    },
    {
     "data": {
      "application/vnd.jupyter.widget-view+json": {
       "model_id": "d06adbcdc42348a9a2cedee7d7731803",
       "version_major": 2,
       "version_minor": 0
      },
      "text/plain": [
       "images:LLB-Law-1:   0%|          | 0/10 [00:00<?, ?it/s]"
      ]
     },
     "metadata": {},
     "output_type": "display_data"
    },
    {
     "data": {
      "application/vnd.jupyter.widget-view+json": {
       "model_id": "4eb9de8b2d1a4b52be019920cbf44f69",
       "version_major": 2,
       "version_minor": 0
      },
      "text/plain": [
       "images:LLB-Law-Senior-Status-1:   0%|          | 0/11 [00:00<?, ?it/s]"
      ]
     },
     "metadata": {},
     "output_type": "display_data"
    },
    {
     "name": "stdout",
     "output_type": "stream",
     "text": [
      "[INIT].... → Crawl4AI 0.6.2\n",
      "[INIT].... → Crawl4AI 0.6.2\n",
      "[INIT].... → Crawl4AI 0.6.2\n",
      "[FETCH]... ↓ https://www.essex.ac.uk/courses/PG01350/1/LLM-Maritime-Law                                           | ✓ | ⏱: 31.45s\n",
      "[SCRAPE].. ◆ https://www.essex.ac.uk/courses/PG01350/1/LLM-Maritime-Law                                           | ✓ | ⏱: 0.29s\n",
      "[COMPLETE] ● https://www.essex.ac.uk/courses/PG01350/1/LLM-Maritime-Law                                           | ✓ | ⏱: 32.89s\n",
      "[FETCH]... ↓ https://www.essex.ac.uk/courses/PG01386/1/LLM-International-Law                                      | ✓ | ⏱: 33.20s\n",
      "[SCRAPE].. ◆ https://www.essex.ac.uk/courses/PG01386/1/LLM-International-Law                                      | ✓ | ⏱: 0.23s\n",
      "[COMPLETE] ● https://www.essex.ac.uk/courses/PG01386/1/LLM-International-Law                                      | ✓ | ⏱: 34.55s\n",
      "[FETCH]... ↓ https://www.essex.ac.uk/courses/PR00931/1/PhD-Law                                                    | ✓ | ⏱: 34.83s\n",
      "[SCRAPE].. ◆ https://www.essex.ac.uk/courses/PR00931/1/PhD-Law                                                    | ✓ | ⏱: 0.15s\n",
      "[COMPLETE] ● https://www.essex.ac.uk/courses/PR00931/1/PhD-Law                                                    | ✓ | ⏱: 36.11s\n",
      "[FETCH]... ↓ https://www.essex.ac.uk/courses/PG00633/3/LLM-International-Commercial-and-Business-Law              | ✓ | ⏱: 74.52s\n",
      "[SCRAPE].. ◆ https://www.essex.ac.uk/courses/PG00633/3/LLM-International-Commercial-and-Business-Law              | ✓ | ⏱: 0.26s\n",
      "[COMPLETE] ● https://www.essex.ac.uk/courses/PG00633/3/LLM-International-Commercial-and-Business-Law              | ✓ | ⏱: 75.98s\n"
     ]
    },
    {
     "data": {
      "application/vnd.jupyter.widget-view+json": {
       "model_id": "8307ba22455f45ff87cd8c37d1d74e76",
       "version_major": 2,
       "version_minor": 0
      },
      "text/plain": [
       "images:LLM-Maritime-Law-1:   0%|          | 0/10 [00:00<?, ?it/s]"
      ]
     },
     "metadata": {},
     "output_type": "display_data"
    },
    {
     "data": {
      "application/vnd.jupyter.widget-view+json": {
       "model_id": "47879fd259784a6da9ae9ef538c62f53",
       "version_major": 2,
       "version_minor": 0
      },
      "text/plain": [
       "images:LLM-International-Law-1:   0%|          | 0/10 [00:00<?, ?it/s]"
      ]
     },
     "metadata": {},
     "output_type": "display_data"
    },
    {
     "data": {
      "application/vnd.jupyter.widget-view+json": {
       "model_id": "4764aa8472a548e481ce30e7ab2922a8",
       "version_major": 2,
       "version_minor": 0
      },
      "text/plain": [
       "images:PhD-Law-1:   0%|          | 0/10 [00:00<?, ?it/s]"
      ]
     },
     "metadata": {},
     "output_type": "display_data"
    },
    {
     "data": {
      "application/vnd.jupyter.widget-view+json": {
       "model_id": "bffa9982ecdc498989672bfa505856f4",
       "version_major": 2,
       "version_minor": 0
      },
      "text/plain": [
       "images:LLM-International-Commercial-and-Business-Law-3:   0%|          | 0/10 [00:00<?, ?it/s]"
      ]
     },
     "metadata": {},
     "output_type": "display_data"
    },
    {
     "name": "stdout",
     "output_type": "stream",
     "text": [
      "[INIT].... → Crawl4AI 0.6.2\n",
      "[INIT].... → Crawl4AI 0.6.2\n",
      "[INIT].... → Crawl4AI 0.6.2\n",
      "[INIT].... → Crawl4AI 0.6.2\n",
      "[FETCH]... ↓ https://www.essex.ac.uk/courses/PR00931/2/MPhil-Law                                                  | ✓ | ⏱: 21.67s\n",
      "[SCRAPE].. ◆ https://www.essex.ac.uk/courses/PR00931/2/MPhil-Law                                                  | ✓ | ⏱: 0.41s\n",
      "[COMPLETE] ● https://www.essex.ac.uk/courses/PR00931/2/MPhil-Law                                                  | ✓ | ⏱: 25.06s\n"
     ]
    },
    {
     "data": {
      "application/vnd.jupyter.widget-view+json": {
       "model_id": "a34594c19da84d69af55eff23d9edcf7",
       "version_major": 2,
       "version_minor": 0
      },
      "text/plain": [
       "images:MPhil-Law-2:   0%|          | 0/10 [00:00<?, ?it/s]"
      ]
     },
     "metadata": {},
     "output_type": "display_data"
    },
    {
     "name": "stdout",
     "output_type": "stream",
     "text": [
      "[ERROR]... × https://www.essex.ac.uk...1/BA-Philosophy-and-Law  | Error: \n",
      "┌───────────────────────────────────────────────────────────────────────────────────────────────────────────────────────┐\n",
      "│ × Unexpected error in _crawl_web at line 731 in _crawl_web (../../../../../opt/anaconda3/lib/python3.12/site-         │\n",
      "│ packages/crawl4ai/async_crawler_strategy.py):                                                                         │\n",
      "│   Error: Failed on navigating ACS-GOTO:                                                                               │\n",
      "│   Page.goto: Timeout 60000ms exceeded.                                                                                │\n",
      "│   Call log:                                                                                                           │\n",
      "│   - navigating to \"https://www.essex.ac.uk/courses/UG00326/1/BA-Philosophy-and-Law\", waiting until                    │\n",
      "│ \"domcontentloaded\"                                                                                                    │\n",
      "│                                                                                                                       │\n",
      "│                                                                                                                       │\n",
      "│   Code context:                                                                                                       │\n",
      "│   726                       response = await page.goto(                                                               │\n",
      "│   727                           url, wait_until=config.wait_until, timeout=config.page_timeout                        │\n",
      "│   728                       )                                                                                         │\n",
      "│   729                       redirected_url = page.url                                                                 │\n",
      "│   730                   except Error as e:                                                                            │\n",
      "│   731 →                     raise RuntimeError(f\"Failed on navigating ACS-GOTO:\\n{str(e)}\")                           │\n",
      "│   732                                                                                                                 │\n",
      "│   733                   await self.execute_hook(                                                                      │\n",
      "│   734                       \"after_goto\", page, context=context, url=url, response=response, config=config            │\n",
      "│   735                   )                                                                                             │\n",
      "│   736                                                                                                                 │\n",
      "└───────────────────────────────────────────────────────────────────────────────────────────────────────────────────────┘\n",
      "\n",
      "⚠️  BA-Philosophy-and-Law-1: Unexpected error in _crawl_web at line 731 in _crawl_web (../../../../../opt/anaconda3/lib/python3.12/site-packages/crawl4ai/async_crawler_strategy.py):\n",
      "Error: Failed on navigating ACS-GOTO:\n",
      "Page.goto: Timeout 60000ms exceeded.\n",
      "Call log:\n",
      "  - navigating to \"https://www.essex.ac.uk/courses/UG00326/1/BA-Philosophy-and-Law\", waiting until \"domcontentloaded\"\n",
      "\n",
      "\n",
      "Code context:\n",
      " 726                       response = await page.goto(\n",
      " 727                           url, wait_until=config.wait_until, timeout=config.page_timeout\n",
      " 728                       )\n",
      " 729                       redirected_url = page.url\n",
      " 730                   except Error as e:\n",
      " 731 →                     raise RuntimeError(f\"Failed on navigating ACS-GOTO:\\n{str(e)}\")\n",
      " 732   \n",
      " 733                   await self.execute_hook(\n",
      " 734                       \"after_goto\", page, context=context, url=url, response=response, config=config\n",
      " 735                   )\n",
      " 736   \n",
      "[SCRAPE].. ◆ Some images failed to load within timeout\n",
      "[INIT].... → Crawl4AI 0.6.2\n",
      "[INIT].... → Crawl4AI 0.6.2\n",
      "[FETCH]... ↓ https://www.essex.ac.uk/courses/UG00239/2/BA-Liberal-Arts                                            | ✓ | ⏱: 35.08s\n",
      "[SCRAPE].. ◆ https://www.essex.ac.uk/courses/UG00239/2/BA-Liberal-Arts                                            | ✓ | ⏱: 0.29s\n",
      "[COMPLETE] ● https://www.essex.ac.uk/courses/UG00239/2/BA-Liberal-Arts                                            | ✓ | ⏱: 36.74s\n"
     ]
    },
    {
     "data": {
      "application/vnd.jupyter.widget-view+json": {
       "model_id": "761adcb7a40a4581b480393def2361c4",
       "version_major": 2,
       "version_minor": 0
      },
      "text/plain": [
       "images:BA-Liberal-Arts-2:   0%|          | 0/11 [00:00<?, ?it/s]"
      ]
     },
     "metadata": {},
     "output_type": "display_data"
    },
    {
     "name": "stdout",
     "output_type": "stream",
     "text": [
      "[FETCH]... ↓ https://www.essex.ac.uk/courses/PG01363/1/LLM-Corporate-Responsibility-and-Business-Law              | ✓ | ⏱: 59.35s\n",
      "[SCRAPE].. ◆ https://www.essex.ac.uk/courses/PG01363/1/LLM-Corporate-Responsibility-and-Business-Law              | ✓ | ⏱: 0.25s\n",
      "[COMPLETE] ● https://www.essex.ac.uk/courses/PG01363/1/LLM-Corporate-Responsibility-and-Business-Law              | ✓ | ⏱: 61.33s\n",
      "[INIT].... → Crawl4AI 0.6.2\n",
      "[FETCH]... ↓ https://www.essex.ac.uk/courses/UG01362/1/LLB-Licence-English-and-French-Law-Double-Degree           | ✓ | ⏱: 62.59s\n",
      "[SCRAPE].. ◆ https://www.essex.ac.uk/courses/UG01362/1/LLB-Licence-English-and-French-Law-Double-Degree           | ✓ | ⏱: 0.34s\n",
      "[COMPLETE] ● https://www.essex.ac.uk/courses/UG01362/1/LLB-Licence-English-and-French-Law-Double-Degree           | ✓ | ⏱: 64.14s\n",
      "[FETCH]... ↓ https://www.essex.ac.uk/courses/UG01651/1/BA-Urban-Sustainability-Studies                            | ✓ | ⏱: 47.32s\n",
      "[SCRAPE].. ◆ https://www.essex.ac.uk/courses/UG01651/1/BA-Urban-Sustainability-Studies                            | ✓ | ⏱: 0.26s\n",
      "[COMPLETE] ● https://www.essex.ac.uk/courses/UG01651/1/BA-Urban-Sustainability-Studies                            | ✓ | ⏱: 48.72s\n",
      "[SCRAPE].. ◆ Some images failed to load within timeout\n",
      "[FETCH]... ↓ https://www.essex.ac.uk/courses/UG01414/1/BA-Language-Studies-and-Linguistics                        | ✓ | ⏱: 49.09s\n",
      "[SCRAPE].. ◆ https://www.essex.ac.uk/courses/UG01414/1/BA-Language-Studies-and-Linguistics                        | ✓ | ⏱: 0.25s\n",
      "[COMPLETE] ● https://www.essex.ac.uk/courses/UG01414/1/BA-Language-Studies-and-Linguistics                        | ✓ | ⏱: 50.85s\n",
      "[FETCH]... ↓ https://www.essex.ac.uk/courses/UG00239/1/BA-Liberal-Arts                                            | ✓ | ⏱: 52.44s\n",
      "[SCRAPE].. ◆ https://www.essex.ac.uk/courses/UG00239/1/BA-Liberal-Arts                                            | ✓ | ⏱: 0.24s\n",
      "[COMPLETE] ● https://www.essex.ac.uk/courses/UG00239/1/BA-Liberal-Arts                                            | ✓ | ⏱: 54.15s\n"
     ]
    },
    {
     "data": {
      "application/vnd.jupyter.widget-view+json": {
       "model_id": "19353bb583e1406d97d926f5965704c4",
       "version_major": 2,
       "version_minor": 0
      },
      "text/plain": [
       "images:LLM-Corporate-Responsibility-and-Business-Law-1:   0%|          | 0/10 [00:00<?, ?it/s]"
      ]
     },
     "metadata": {},
     "output_type": "display_data"
    },
    {
     "data": {
      "application/vnd.jupyter.widget-view+json": {
       "model_id": "ad85090cadbd4fa3895e6f72a9d0950a",
       "version_major": 2,
       "version_minor": 0
      },
      "text/plain": [
       "images:BA-Urban-Sustainability-Studies-1:   0%|          | 0/10 [00:00<?, ?it/s]"
      ]
     },
     "metadata": {},
     "output_type": "display_data"
    },
    {
     "data": {
      "application/vnd.jupyter.widget-view+json": {
       "model_id": "4ca82f06be4746db8885d22c970f6433",
       "version_major": 2,
       "version_minor": 0
      },
      "text/plain": [
       "images:LLB-Licence-English-and-French-Law-Double-Degree-1:   0%|          | 0/10 [00:00<?, ?it/s]"
      ]
     },
     "metadata": {},
     "output_type": "display_data"
    },
    {
     "data": {
      "application/vnd.jupyter.widget-view+json": {
       "model_id": "a7d15951025d4c68ba619f3b739a8421",
       "version_major": 2,
       "version_minor": 0
      },
      "text/plain": [
       "images:BA-Language-Studies-and-Linguistics-1:   0%|          | 0/10 [00:00<?, ?it/s]"
      ]
     },
     "metadata": {},
     "output_type": "display_data"
    },
    {
     "data": {
      "application/vnd.jupyter.widget-view+json": {
       "model_id": "a49569c46c714cfba1d6251589d3fa38",
       "version_major": 2,
       "version_minor": 0
      },
      "text/plain": [
       "images:BA-Liberal-Arts-1:   0%|          | 0/11 [00:00<?, ?it/s]"
      ]
     },
     "metadata": {},
     "output_type": "display_data"
    },
    {
     "name": "stdout",
     "output_type": "stream",
     "text": [
      "[INIT].... → Crawl4AI 0.6.2\n",
      "[INIT].... → Crawl4AI 0.6.2\n",
      "[INIT].... → Crawl4AI 0.6.2\n",
      "[INIT].... → Crawl4AI 0.6.2\n",
      "[INIT].... → Crawl4AI 0.6.2\n",
      "[FETCH]... ↓ https://www.essex.ac.uk/courses/PR00971/3/PhD-Psycholinguistics                                      | ✓ | ⏱: 37.13s\n",
      "[SCRAPE].. ◆ https://www.essex.ac.uk/courses/PR00971/3/PhD-Psycholinguistics                                      | ✓ | ⏱: 0.44s\n",
      "[COMPLETE] ● https://www.essex.ac.uk/courses/PR00971/3/PhD-Psycholinguistics                                      | ✓ | ⏱: 39.37s\n",
      "[FETCH]... ↓ https://www.essex.ac.uk/courses/PR00981/1/PhD-Sociolinguistics                                       | ✓ | ⏱: 38.57s\n",
      "[SCRAPE].. ◆ https://www.essex.ac.uk/courses/PR00981/1/PhD-Sociolinguistics                                       | ✓ | ⏱: 0.28s\n",
      "[COMPLETE] ● https://www.essex.ac.uk/courses/PR00981/1/PhD-Sociolinguistics                                       | ✓ | ⏱: 40.65s\n"
     ]
    },
    {
     "data": {
      "application/vnd.jupyter.widget-view+json": {
       "model_id": "6174b6d9e65f4d3abf6be9f66908e978",
       "version_major": 2,
       "version_minor": 0
      },
      "text/plain": [
       "images:PhD-Sociolinguistics-1:   0%|          | 0/10 [00:00<?, ?it/s]"
      ]
     },
     "metadata": {},
     "output_type": "display_data"
    },
    {
     "data": {
      "application/vnd.jupyter.widget-view+json": {
       "model_id": "d7e0cefa0d2d405ca25ce6a4d702a0c9",
       "version_major": 2,
       "version_minor": 0
      },
      "text/plain": [
       "images:PhD-Psycholinguistics-3:   0%|          | 0/10 [00:00<?, ?it/s]"
      ]
     },
     "metadata": {},
     "output_type": "display_data"
    },
    {
     "name": "stdout",
     "output_type": "stream",
     "text": [
      "[INIT].... → Crawl4AI 0.6.2\n",
      "[INIT].... → Crawl4AI 0.6.2\n",
      "[FETCH]... ↓ https://www.essex.ac.uk/courses/PG00662/2/MRes-Linguistics                                           | ✓ | ⏱: 17.92s\n",
      "[SCRAPE].. ◆ https://www.essex.ac.uk/courses/PG00662/2/MRes-Linguistics                                           | ✓ | ⏱: 0.23s\n",
      "[COMPLETE] ● https://www.essex.ac.uk/courses/PG00662/2/MRes-Linguistics                                           | ✓ | ⏱: 19.43s\n",
      "[FETCH]... ↓ https://www.essex.ac.uk/courses/UG00241/2/BA-Linguistics                                             | ✓ | ⏱: 22.56s\n",
      "[SCRAPE].. ◆ https://www.essex.ac.uk/courses/UG00241/2/BA-Linguistics                                             | ✓ | ⏱: 0.17s\n",
      "[COMPLETE] ● https://www.essex.ac.uk/courses/UG00241/2/BA-Linguistics                                             | ✓ | ⏱: 23.91s\n"
     ]
    },
    {
     "data": {
      "application/vnd.jupyter.widget-view+json": {
       "model_id": "d533e24e11a94863b58c3fef74962a01",
       "version_major": 2,
       "version_minor": 0
      },
      "text/plain": [
       "images:MRes-Linguistics-2:   0%|          | 0/10 [00:00<?, ?it/s]"
      ]
     },
     "metadata": {},
     "output_type": "display_data"
    },
    {
     "data": {
      "application/vnd.jupyter.widget-view+json": {
       "model_id": "62c673a17d184163934b1d5a80bbdfdf",
       "version_major": 2,
       "version_minor": 0
      },
      "text/plain": [
       "images:BA-Linguistics-2:   0%|          | 0/10 [00:00<?, ?it/s]"
      ]
     },
     "metadata": {},
     "output_type": "display_data"
    },
    {
     "name": "stdout",
     "output_type": "stream",
     "text": [
      "[FETCH]... ↓ https://www.essex.ac.uk/courses/PR00971/1/PhD-Psycholinguistics                                      | ✓ | ⏱: 50.18s\n",
      "[SCRAPE].. ◆ https://www.essex.ac.uk/courses/PR00971/1/PhD-Psycholinguistics                                      | ✓ | ⏱: 0.38s\n",
      "[COMPLETE] ● https://www.essex.ac.uk/courses/PR00971/1/PhD-Psycholinguistics                                      | ✓ | ⏱: 51.96s\n",
      "[FETCH]... ↓ https://www.essex.ac.uk/courses/PR00934/3/PhD-Linguistics                                            | ✓ | ⏱: 53.37s\n",
      "[SCRAPE].. ◆ https://www.essex.ac.uk/courses/PR00934/3/PhD-Linguistics                                            | ✓ | ⏱: 0.29s\n",
      "[COMPLETE] ● https://www.essex.ac.uk/courses/PR00934/3/PhD-Linguistics                                            | ✓ | ⏱: 54.95s\n"
     ]
    },
    {
     "data": {
      "application/vnd.jupyter.widget-view+json": {
       "model_id": "d034b21ced4a4116aa57c6e10c04639b",
       "version_major": 2,
       "version_minor": 0
      },
      "text/plain": [
       "images:PhD-Psycholinguistics-1:   0%|          | 0/10 [00:00<?, ?it/s]"
      ]
     },
     "metadata": {},
     "output_type": "display_data"
    },
    {
     "name": "stdout",
     "output_type": "stream",
     "text": [
      "⚠ cannot fetch https://www.essex.ac.uk/-/media/header-images/subjects/linguistics-subject-1200x600.jpg?mh=512&mw=512&hash=C49A7CC1749743F01EC66B0163275F6D: HTTPSConnectionPool(host='www.essex.ac.uk', port=443): Max retries exceeded with url: /-/media/header-images/subjects/linguistics-subject-1200x600.jpg?mh=512&mw=512&hash=C49A7CC1749743F01EC66B0163275F6D (Caused by NewConnectionError('<urllib3.connection.HTTPSConnection object at 0x153be1490>: Failed to establish a new connection: [Errno 61] Connection refused'))\n",
      "[INIT].... → Crawl4AI 0.6.2\n",
      "[INIT].... → Crawl4AI 0.6.2\n"
     ]
    },
    {
     "data": {
      "application/vnd.jupyter.widget-view+json": {
       "model_id": "23f1fba1c16e4874bfc9d806d464d05d",
       "version_major": 2,
       "version_minor": 0
      },
      "text/plain": [
       "images:PhD-Linguistics-3:   0%|          | 0/10 [00:00<?, ?it/s]"
      ]
     },
     "metadata": {},
     "output_type": "display_data"
    },
    {
     "name": "stdout",
     "output_type": "stream",
     "text": [
      "[FETCH]... ↓ https://www.essex.ac.uk/courses/PR00934/1/PhD-Linguistics                                            | ✓ | ⏱: 124.64s\n",
      "[SCRAPE].. ◆ https://www.essex.ac.uk/courses/PR00934/1/PhD-Linguistics                                            | ✓ | ⏱: 0.23s\n",
      "[COMPLETE] ● https://www.essex.ac.uk/courses/PR00934/1/PhD-Linguistics                                            | ✓ | ⏱: 126.21s\n",
      "[INIT].... → Crawl4AI 0.6.2\n",
      "[INIT].... → Crawl4AI 0.6.2\n",
      "[FETCH]... ↓ https://www.essex.ac.uk/courses/PR01562/1/PhD-Languages-and-Cultures                                 | ✓ | ⏱: 104.72s\n",
      "[SCRAPE].. ◆ https://www.essex.ac.uk/courses/PR01562/1/PhD-Languages-and-Cultures                                 | ✓ | ⏱: 0.24s\n",
      "[COMPLETE] ● https://www.essex.ac.uk/courses/PR01562/1/PhD-Languages-and-Cultures                                 | ✓ | ⏱: 106.59s\n",
      "[FETCH]... ↓ https://www.essex.ac.uk/courses/PR00861/1/PhD-Applied-Linguistics                                    | ✓ | ⏱: 89.59s\n",
      "[SCRAPE].. ◆ https://www.essex.ac.uk/courses/PR00861/1/PhD-Applied-Linguistics                                    | ✓ | ⏱: 0.21s\n",
      "[COMPLETE] ● https://www.essex.ac.uk/courses/PR00861/1/PhD-Applied-Linguistics                                    | ✓ | ⏱: 91.31s\n"
     ]
    },
    {
     "data": {
      "application/vnd.jupyter.widget-view+json": {
       "model_id": "9481b90ba87c484eaeebcb1fd2766c95",
       "version_major": 2,
       "version_minor": 0
      },
      "text/plain": [
       "images:PhD-Linguistics-1:   0%|          | 0/10 [00:00<?, ?it/s]"
      ]
     },
     "metadata": {},
     "output_type": "display_data"
    },
    {
     "data": {
      "application/vnd.jupyter.widget-view+json": {
       "model_id": "3109b20ba4d646bdacfa4818b07e3754",
       "version_major": 2,
       "version_minor": 0
      },
      "text/plain": [
       "images:PhD-Applied-Linguistics-1:   0%|          | 0/10 [00:00<?, ?it/s]"
      ]
     },
     "metadata": {},
     "output_type": "display_data"
    },
    {
     "data": {
      "application/vnd.jupyter.widget-view+json": {
       "model_id": "0eade49755b34511896a0fd27d3b3138",
       "version_major": 2,
       "version_minor": 0
      },
      "text/plain": [
       "images:PhD-Languages-and-Cultures-1:   0%|          | 0/10 [00:00<?, ?it/s]"
      ]
     },
     "metadata": {},
     "output_type": "display_data"
    },
    {
     "name": "stdout",
     "output_type": "stream",
     "text": [
      "[INIT].... → Crawl4AI 0.6.2\n",
      "[INIT].... → Crawl4AI 0.6.2\n",
      "[INIT].... → Crawl4AI 0.6.2\n",
      "[FETCH]... ↓ https://www.essex.ac.uk/courses/PR00934/5/PhD-Linguistics                                            | ✓ | ⏱: 103.60s\n",
      "[SCRAPE].. ◆ https://www.essex.ac.uk/courses/PR00934/5/PhD-Linguistics                                            | ✓ | ⏱: 0.26s\n",
      "[COMPLETE] ● https://www.essex.ac.uk/courses/PR00934/5/PhD-Linguistics                                            | ✓ | ⏱: 105.03s\n"
     ]
    },
    {
     "data": {
      "application/vnd.jupyter.widget-view+json": {
       "model_id": "2081af0c2b384065b2f3bee5dd8d6fe2",
       "version_major": 2,
       "version_minor": 0
      },
      "text/plain": [
       "images:PhD-Linguistics-5:   0%|          | 0/10 [00:00<?, ?it/s]"
      ]
     },
     "metadata": {},
     "output_type": "display_data"
    },
    {
     "name": "stdout",
     "output_type": "stream",
     "text": [
      "[FETCH]... ↓ https://www.essex.ac.uk/courses/UG00241/1/BA-Linguistics                                             | ✓ | ⏱: 21.85s\n",
      "[SCRAPE].. ◆ https://www.essex.ac.uk/courses/UG00241/1/BA-Linguistics                                             | ✓ | ⏱: 0.49s\n",
      "[COMPLETE] ● https://www.essex.ac.uk/courses/UG00241/1/BA-Linguistics                                             | ✓ | ⏱: 23.81s\n",
      "[FETCH]... ↓ https://www.essex.ac.uk/courses/UG00296/1/BA-Modern-Languages-and-Linguistics                        | ✓ | ⏱: 25.52s\n",
      "[SCRAPE].. ◆ https://www.essex.ac.uk/courses/UG00296/1/BA-Modern-Languages-and-Linguistics                        | ✓ | ⏱: 0.24s\n",
      "[COMPLETE] ● https://www.essex.ac.uk/courses/UG00296/1/BA-Modern-Languages-and-Linguistics                        | ✓ | ⏱: 27.15s\n",
      "[FETCH]... ↓ https://www.essex.ac.uk/courses/PG00662/1/MA-Linguistics                                             | ✓ | ⏱: 49.69s\n",
      "[SCRAPE].. ◆ https://www.essex.ac.uk/courses/PG00662/1/MA-Linguistics                                             | ✓ | ⏱: 0.28s\n",
      "[COMPLETE] ● https://www.essex.ac.uk/courses/PG00662/1/MA-Linguistics                                             | ✓ | ⏱: 51.43s\n",
      "[INIT].... → Crawl4AI 0.6.2\n"
     ]
    },
    {
     "data": {
      "application/vnd.jupyter.widget-view+json": {
       "model_id": "789dca1289a7465ab841706f3debcda8",
       "version_major": 2,
       "version_minor": 0
      },
      "text/plain": [
       "images:BA-Modern-Languages-and-Linguistics-1:   0%|          | 0/10 [00:00<?, ?it/s]"
      ]
     },
     "metadata": {},
     "output_type": "display_data"
    },
    {
     "data": {
      "application/vnd.jupyter.widget-view+json": {
       "model_id": "44f84236238042beba77783b16eb2141",
       "version_major": 2,
       "version_minor": 0
      },
      "text/plain": [
       "images:BA-Linguistics-1:   0%|          | 0/10 [00:00<?, ?it/s]"
      ]
     },
     "metadata": {},
     "output_type": "display_data"
    },
    {
     "data": {
      "application/vnd.jupyter.widget-view+json": {
       "model_id": "3bbb52adfb014b6aace3f21280a869b7",
       "version_major": 2,
       "version_minor": 0
      },
      "text/plain": [
       "images:MA-Linguistics-1:   0%|          | 0/10 [00:00<?, ?it/s]"
      ]
     },
     "metadata": {},
     "output_type": "display_data"
    },
    {
     "name": "stdout",
     "output_type": "stream",
     "text": [
      "[SCRAPE].. ◆ Some images failed to load within timeout\n",
      "[FETCH]... ↓ https://www.essex.ac.uk/courses/UG00327/1/BA-Philosophy-and-Literature                               | ✓ | ⏱: 59.36s\n",
      "[SCRAPE].. ◆ https://www.essex.ac.uk/courses/UG00327/1/BA-Philosophy-and-Literature                               | ✓ | ⏱: 0.28s\n",
      "[COMPLETE] ● https://www.essex.ac.uk/courses/UG00327/1/BA-Philosophy-and-Literature                               | ✓ | ⏱: 61.55s\n",
      "[SCRAPE].. ◆ Some images failed to load within timeout\n",
      "[SCRAPE].. ◆ Some images failed to load within timeout\n",
      "[INIT].... → Crawl4AI 0.6.2\n",
      "[INIT].... → Crawl4AI 0.6.2\n",
      "[INIT].... → Crawl4AI 0.6.2\n"
     ]
    },
    {
     "data": {
      "application/vnd.jupyter.widget-view+json": {
       "model_id": "f42ab406480c402e8152963427f3dde4",
       "version_major": 2,
       "version_minor": 0
      },
      "text/plain": [
       "images:BA-Philosophy-and-Literature-1:   0%|          | 0/10 [00:00<?, ?it/s]"
      ]
     },
     "metadata": {},
     "output_type": "display_data"
    },
    {
     "name": "stdout",
     "output_type": "stream",
     "text": [
      "[INIT].... → Crawl4AI 0.6.2\n",
      "[SCRAPE].. ◆ Some images failed to load within timeout\n",
      "[FETCH]... ↓ https://www.essex.ac.uk/courses/PG00448/1/MA-Applied-Linguistics                                     | ✓ | ⏱: 45.73s\n",
      "[SCRAPE].. ◆ https://www.essex.ac.uk/courses/PG00448/1/MA-Applied-Linguistics                                     | ✓ | ⏱: 0.56s\n",
      "[COMPLETE] ● https://www.essex.ac.uk/courses/PG00448/1/MA-Applied-Linguistics                                     | ✓ | ⏱: 48.10s\n",
      "[FETCH]... ↓ https://www.essex.ac.uk/courses/PG00751/1/MA-Psycholinguistics                                       | ✓ | ⏱: 49.44s\n",
      "[SCRAPE].. ◆ https://www.essex.ac.uk/courses/PG00751/1/MA-Psycholinguistics                                       | ✓ | ⏱: 0.29s\n",
      "[COMPLETE] ● https://www.essex.ac.uk/courses/PG00751/1/MA-Psycholinguistics                                       | ✓ | ⏱: 51.08s\n",
      "[FETCH]... ↓ https://www.essex.ac.uk/courses/UG00131/3/Integr...-in-Linguistics-English-Language-and-Linguistics  | ✓ | ⏱: 52.26s\n",
      "[SCRAPE].. ◆ https://www.essex.ac.uk/courses/UG00131/3/Integr...-in-Linguistics-English-Language-and-Linguistics  | ✓ | ⏱: 0.28s\n",
      "[COMPLETE] ● https://www.essex.ac.uk/courses/UG00131/3/Integr...-in-Linguistics-English-Language-and-Linguistics  | ✓ | ⏱: 53.78s\n"
     ]
    },
    {
     "data": {
      "application/vnd.jupyter.widget-view+json": {
       "model_id": "e6e8cca6acf9412995a1685cc56df15e",
       "version_major": 2,
       "version_minor": 0
      },
      "text/plain": [
       "images:Integrated-Master-in-Linguistics-English-Language-and-Linguistics-3:   0%|          | 0/10 [00:00<?, ?i…"
      ]
     },
     "metadata": {},
     "output_type": "display_data"
    },
    {
     "name": "stdout",
     "output_type": "stream",
     "text": [
      "⚠ cannot fetch https://www.essex.ac.uk/-/media/header-images/subjects/linguistics-subject-1200x600.jpg?mh=512&mw=512&hash=C49A7CC1749743F01EC66B0163275F6D: HTTPSConnectionPool(host='www.essex.ac.uk', port=443): Max retries exceeded with url: /-/media/header-images/subjects/linguistics-subject-1200x600.jpg?mh=512&mw=512&hash=C49A7CC1749743F01EC66B0163275F6D (Caused by NewConnectionError('<urllib3.connection.HTTPSConnection object at 0x1530189e0>: Failed to establish a new connection: [Errno 61] Connection refused'))\n"
     ]
    },
    {
     "data": {
      "application/vnd.jupyter.widget-view+json": {
       "model_id": "329ca2c87c234a2bb22603cb39ed6a40",
       "version_major": 2,
       "version_minor": 0
      },
      "text/plain": [
       "images:MA-Psycholinguistics-1:   0%|          | 0/10 [00:00<?, ?it/s]"
      ]
     },
     "metadata": {},
     "output_type": "display_data"
    },
    {
     "data": {
      "application/vnd.jupyter.widget-view+json": {
       "model_id": "90327a44611d4bfa85c92a0841e4d4dd",
       "version_major": 2,
       "version_minor": 0
      },
      "text/plain": [
       "images:MA-Applied-Linguistics-1:   0%|          | 0/10 [00:00<?, ?it/s]"
      ]
     },
     "metadata": {},
     "output_type": "display_data"
    },
    {
     "name": "stdout",
     "output_type": "stream",
     "text": [
      "[ERROR]... × https://www.essex.ac.uk...Contemporary-Literature  | Error: \n",
      "┌───────────────────────────────────────────────────────────────────────────────────────────────────────────────────────┐\n",
      "│ × Unexpected error in _crawl_web at line 731 in _crawl_web (../../../../../opt/anaconda3/lib/python3.12/site-         │\n",
      "│ packages/crawl4ai/async_crawler_strategy.py):                                                                         │\n",
      "│   Error: Failed on navigating ACS-GOTO:                                                                               │\n",
      "│   Page.goto: net::ERR_CONNECTION_REFUSED at https://www.essex.ac.uk/courses/PG01383/1/MA-Modern-and-Contemporary-     │\n",
      "│ Literature                                                                                                            │\n",
      "│   Call log:                                                                                                           │\n",
      "│   - navigating to \"https://www.essex.ac.uk/courses/PG01383/1/MA-Modern-and-Contemporary-Literature\", waiting until    │\n",
      "│ \"domcontentloaded\"                                                                                                    │\n",
      "│                                                                                                                       │\n",
      "│                                                                                                                       │\n",
      "│   Code context:                                                                                                       │\n",
      "│   726                       response = await page.goto(                                                               │\n",
      "│   727                           url, wait_until=config.wait_until, timeout=config.page_timeout                        │\n",
      "│   728                       )                                                                                         │\n",
      "│   729                       redirected_url = page.url                                                                 │\n",
      "│   730                   except Error as e:                                                                            │\n",
      "│   731 →                     raise RuntimeError(f\"Failed on navigating ACS-GOTO:\\n{str(e)}\")                           │\n",
      "│   732                                                                                                                 │\n",
      "│   733                   await self.execute_hook(                                                                      │\n",
      "│   734                       \"after_goto\", page, context=context, url=url, response=response, config=config            │\n",
      "│   735                   )                                                                                             │\n",
      "│   736                                                                                                                 │\n",
      "└───────────────────────────────────────────────────────────────────────────────────────────────────────────────────────┘\n",
      "\n",
      "⚠️  MA-Modern-and-Contemporary-Literature-1: Unexpected error in _crawl_web at line 731 in _crawl_web (../../../../../opt/anaconda3/lib/python3.12/site-packages/crawl4ai/async_crawler_strategy.py):\n",
      "Error: Failed on navigating ACS-GOTO:\n",
      "Page.goto: net::ERR_CONNECTION_REFUSED at https://www.essex.ac.uk/courses/PG01383/1/MA-Modern-and-Contemporary-Literature\n",
      "Call log:\n",
      "  - navigating to \"https://www.essex.ac.uk/courses/PG01383/1/MA-Modern-and-Contemporary-Literature\", waiting until \"domcontentloaded\"\n",
      "\n",
      "\n",
      "Code context:\n",
      " 726                       response = await page.goto(\n",
      " 727                           url, wait_until=config.wait_until, timeout=config.page_timeout\n",
      " 728                       )\n",
      " 729                       redirected_url = page.url\n",
      " 730                   except Error as e:\n",
      " 731 →                     raise RuntimeError(f\"Failed on navigating ACS-GOTO:\\n{str(e)}\")\n",
      " 732   \n",
      " 733                   await self.execute_hook(\n",
      " 734                       \"after_goto\", page, context=context, url=url, response=response, config=config\n",
      " 735                   )\n",
      " 736   \n",
      "[INIT].... → Crawl4AI 0.6.2\n",
      "[INIT].... → Crawl4AI 0.6.2\n",
      "[INIT].... → Crawl4AI 0.6.2\n",
      "[FETCH]... ↓ https://www.essex.ac.uk/courses/PR00861/3/PhD-Applied-Linguistics                                    | ✓ | ⏱: 74.91s\n",
      "[SCRAPE].. ◆ https://www.essex.ac.uk/courses/PR00861/3/PhD-Applied-Linguistics                                    | ✓ | ⏱: 0.23s\n",
      "[COMPLETE] ● https://www.essex.ac.uk/courses/PR00861/3/PhD-Applied-Linguistics                                    | ✓ | ⏱: 76.49s\n",
      "[FETCH]... ↓ https://www.essex.ac.uk/courses/UG01289/1/BA-English-Language-with-Media-Communication               | ✓ | ⏱: 88.59s\n",
      "[SCRAPE].. ◆ https://www.essex.ac.uk/courses/UG01289/1/BA-English-Language-with-Media-Communication               | ✓ | ⏱: 0.25s\n",
      "[COMPLETE] ● https://www.essex.ac.uk/courses/UG01289/1/BA-English-Language-with-Media-Communication               | ✓ | ⏱: 90.02s\n",
      "[INIT].... → Crawl4AI 0.6.2\n"
     ]
    },
    {
     "data": {
      "application/vnd.jupyter.widget-view+json": {
       "model_id": "6e6f4ec65c344f10ad27a8d7ae88ff8e",
       "version_major": 2,
       "version_minor": 0
      },
      "text/plain": [
       "images:PhD-Applied-Linguistics-3:   0%|          | 0/10 [00:00<?, ?it/s]"
      ]
     },
     "metadata": {},
     "output_type": "display_data"
    },
    {
     "data": {
      "application/vnd.jupyter.widget-view+json": {
       "model_id": "69d970e329f44e30b6a54227bd47b0ec",
       "version_major": 2,
       "version_minor": 0
      },
      "text/plain": [
       "images:BA-English-Language-with-Media-Communication-1:   0%|          | 0/10 [00:00<?, ?it/s]"
      ]
     },
     "metadata": {},
     "output_type": "display_data"
    },
    {
     "name": "stdout",
     "output_type": "stream",
     "text": [
      "[INIT].... → Crawl4AI 0.6.2\n",
      "[INIT].... → Crawl4AI 0.6.2\n",
      "[SCRAPE].. ◆ Some images failed to load within timeout\n",
      "[FETCH]... ↓ https://www.essex.ac.uk/courses/PG00665/1/MA-Literature                                              | ✓ | ⏱: 87.95s\n",
      "[SCRAPE].. ◆ https://www.essex.ac.uk/courses/PG00665/1/MA-Literature                                              | ✓ | ⏱: 0.31s\n",
      "[COMPLETE] ● https://www.essex.ac.uk/courses/PG00665/1/MA-Literature                                              | ✓ | ⏱: 89.87s\n",
      "[FETCH]... ↓ https://www.essex.ac.uk/courses/UG00139/1/BA-English-Literature                                      | ✓ | ⏱: 90.46s\n",
      "[SCRAPE].. ◆ https://www.essex.ac.uk/courses/UG00139/1/BA-English-Literature                                      | ✓ | ⏱: 0.29s\n",
      "[COMPLETE] ● https://www.essex.ac.uk/courses/UG00139/1/BA-English-Literature                                      | ✓ | ⏱: 92.12s\n"
     ]
    },
    {
     "data": {
      "application/vnd.jupyter.widget-view+json": {
       "model_id": "4484ca675dbc413e87d3ac8eb6e62cbf",
       "version_major": 2,
       "version_minor": 0
      },
      "text/plain": [
       "images:MA-Literature-1:   0%|          | 0/10 [00:00<?, ?it/s]"
      ]
     },
     "metadata": {},
     "output_type": "display_data"
    },
    {
     "name": "stdout",
     "output_type": "stream",
     "text": [
      "⚠ cannot fetch https://www.essex.ac.uk/-/media/header-images/subjects/literature-subject-page.png?mh=512&mw=512&hash=C69BBB423BCABEF50879E41BD8F76C79: HTTPSConnectionPool(host='www.essex.ac.uk', port=443): Max retries exceeded with url: /-/media/header-images/subjects/literature-subject-page.png?mh=512&mw=512&hash=C69BBB423BCABEF50879E41BD8F76C79 (Caused by NewConnectionError('<urllib3.connection.HTTPSConnection object at 0x1523fd130>: Failed to establish a new connection: [Errno 61] Connection refused'))\n"
     ]
    },
    {
     "data": {
      "application/vnd.jupyter.widget-view+json": {
       "model_id": "fbdeed0d7b6a4bf6bd310d373b065e39",
       "version_major": 2,
       "version_minor": 0
      },
      "text/plain": [
       "images:BA-English-Literature-1:   0%|          | 0/11 [00:00<?, ?it/s]"
      ]
     },
     "metadata": {},
     "output_type": "display_data"
    },
    {
     "name": "stdout",
     "output_type": "stream",
     "text": [
      "[INIT].... → Crawl4AI 0.6.2\n",
      "[SCRAPE].. ◆ Some images failed to load within timeout\n",
      "[INIT].... → Crawl4AI 0.6.2\n",
      "[SCRAPE].. ◆ Some images failed to load within timeout\n",
      "[FETCH]... ↓ https://www.essex.ac.uk/courses/PR00935/5/PhD-Literature                                             | ✓ | ⏱: 59.07s\n",
      "[SCRAPE].. ◆ https://www.essex.ac.uk/courses/PR00935/5/PhD-Literature                                             | ✓ | ⏱: 0.28s\n",
      "[COMPLETE] ● https://www.essex.ac.uk/courses/PR00935/5/PhD-Literature                                             | ✓ | ⏱: 60.66s\n",
      "[FETCH]... ↓ https://www.essex.ac.uk/courses/PR00935/1/PhD-Literature                                             | ✓ | ⏱: 56.04s\n",
      "[SCRAPE].. ◆ https://www.essex.ac.uk/courses/PR00935/1/PhD-Literature                                             | ✓ | ⏱: 0.21s\n",
      "[COMPLETE] ● https://www.essex.ac.uk/courses/PR00935/1/PhD-Literature                                             | ✓ | ⏱: 57.66s\n",
      "[FETCH]... ↓ https://www.essex.ac.uk/courses/UG00139/2/BA-English-Literature                                      | ✓ | ⏱: 64.69s\n",
      "[SCRAPE].. ◆ https://www.essex.ac.uk/courses/UG00139/2/BA-English-Literature                                      | ✓ | ⏱: 0.26s\n",
      "[COMPLETE] ● https://www.essex.ac.uk/courses/UG00139/2/BA-English-Literature                                      | ✓ | ⏱: 66.46s\n"
     ]
    },
    {
     "data": {
      "application/vnd.jupyter.widget-view+json": {
       "model_id": "2f90527c10214c0a841d5f8980a54fac",
       "version_major": 2,
       "version_minor": 0
      },
      "text/plain": [
       "images:PhD-Literature-5:   0%|          | 0/10 [00:00<?, ?it/s]"
      ]
     },
     "metadata": {},
     "output_type": "display_data"
    },
    {
     "name": "stdout",
     "output_type": "stream",
     "text": [
      "[FETCH]... ↓ https://www.essex.ac.uk/courses/UG00088/3/Integrated-Master-in-Literature-Creative-Writing           | ✓ | ⏱: 59.00s\n",
      "[SCRAPE].. ◆ https://www.essex.ac.uk/courses/UG00088/3/Integrated-Master-in-Literature-Creative-Writing           | ✓ | ⏱: 0.29s\n",
      "[COMPLETE] ● https://www.essex.ac.uk/courses/UG00088/3/Integrated-Master-in-Literature-Creative-Writing           | ✓ | ⏱: 60.84s\n",
      "[FETCH]... ↓ https://www.essex.ac.uk/courses/UG01086/1/BA-English-and-Comparative-Literature                      | ✓ | ⏱: 75.45s\n",
      "[SCRAPE].. ◆ https://www.essex.ac.uk/courses/UG01086/1/BA-English-and-Comparative-Literature                      | ✓ | ⏱: 0.27s\n",
      "[COMPLETE] ● https://www.essex.ac.uk/courses/UG01086/1/BA-English-and-Comparative-Literature                      | ✓ | ⏱: 77.01s\n",
      "[FETCH]... ↓ https://www.essex.ac.uk/courses/PG00835/1/MA-Audiovisual-and-Literary-Translation                    | ✓ | ⏱: 64.23s\n",
      "[SCRAPE].. ◆ https://www.essex.ac.uk/courses/PG00835/1/MA-Audiovisual-and-Literary-Translation                    | ✓ | ⏱: 0.23s\n",
      "[COMPLETE] ● https://www.essex.ac.uk/courses/PG00835/1/MA-Audiovisual-and-Literary-Translation                    | ✓ | ⏱: 65.70s\n"
     ]
    },
    {
     "data": {
      "application/vnd.jupyter.widget-view+json": {
       "model_id": "a2aca7dc46ec4e878cc41f363d98f278",
       "version_major": 2,
       "version_minor": 0
      },
      "text/plain": [
       "images:BA-English-Literature-2:   0%|          | 0/11 [00:00<?, ?it/s]"
      ]
     },
     "metadata": {},
     "output_type": "display_data"
    },
    {
     "data": {
      "application/vnd.jupyter.widget-view+json": {
       "model_id": "0dbdcbf1faed45e188b7f98ed6c782f1",
       "version_major": 2,
       "version_minor": 0
      },
      "text/plain": [
       "images:PhD-Literature-1:   0%|          | 0/10 [00:00<?, ?it/s]"
      ]
     },
     "metadata": {},
     "output_type": "display_data"
    },
    {
     "data": {
      "application/vnd.jupyter.widget-view+json": {
       "model_id": "ca3ceb6689174cb397abbcf0149580a1",
       "version_major": 2,
       "version_minor": 0
      },
      "text/plain": [
       "images:Integrated-Master-in-Literature-Creative-Writing-3:   0%|          | 0/10 [00:00<?, ?it/s]"
      ]
     },
     "metadata": {},
     "output_type": "display_data"
    },
    {
     "name": "stdout",
     "output_type": "stream",
     "text": [
      "[INIT].... → Crawl4AI 0.6.2\n"
     ]
    },
    {
     "data": {
      "application/vnd.jupyter.widget-view+json": {
       "model_id": "3d1b0b5bce1640e586ca842795f7a7c5",
       "version_major": 2,
       "version_minor": 0
      },
      "text/plain": [
       "images:BA-English-and-Comparative-Literature-1:   0%|          | 0/10 [00:00<?, ?it/s]"
      ]
     },
     "metadata": {},
     "output_type": "display_data"
    },
    {
     "data": {
      "application/vnd.jupyter.widget-view+json": {
       "model_id": "1b9f999356b6416f894a93b00283dfd1",
       "version_major": 2,
       "version_minor": 0
      },
      "text/plain": [
       "images:MA-Audiovisual-and-Literary-Translation-1:   0%|          | 0/10 [00:00<?, ?it/s]"
      ]
     },
     "metadata": {},
     "output_type": "display_data"
    },
    {
     "name": "stdout",
     "output_type": "stream",
     "text": [
      "[INIT].... → Crawl4AI 0.6.2\n",
      "[INIT].... → Crawl4AI 0.6.2\n",
      "[INIT].... → Crawl4AI 0.6.2\n",
      "[INIT].... → Crawl4AI 0.6.2\n",
      "[INIT].... → Crawl4AI 0.6.2\n",
      "[FETCH]... ↓ https://www.essex.ac.uk/courses/PR00935/4/MA-by-Dissertation-Literature                              | ✓ | ⏱: 37.74s\n",
      "[SCRAPE].. ◆ https://www.essex.ac.uk/courses/PR00935/4/MA-by-Dissertation-Literature                              | ✓ | ⏱: 0.25s\n",
      "[COMPLETE] ● https://www.essex.ac.uk/courses/PR00935/4/MA-by-Dissertation-Literature                              | ✓ | ⏱: 39.33s\n",
      "[FETCH]... ↓ https://www.essex.ac.uk/courses/PR00935/2/MPhil-Literature                                           | ✓ | ⏱: 41.29s\n",
      "[SCRAPE].. ◆ https://www.essex.ac.uk/courses/PR00935/2/MPhil-Literature                                           | ✓ | ⏱: 0.23s\n",
      "[COMPLETE] ● https://www.essex.ac.uk/courses/PR00935/2/MPhil-Literature                                           | ✓ | ⏱: 42.97s\n"
     ]
    },
    {
     "data": {
      "application/vnd.jupyter.widget-view+json": {
       "model_id": "72e9fb6b0dcc4f4792cec83c40bfee16",
       "version_major": 2,
       "version_minor": 0
      },
      "text/plain": [
       "images:MA-by-Dissertation-Literature-4:   0%|          | 0/10 [00:00<?, ?it/s]"
      ]
     },
     "metadata": {},
     "output_type": "display_data"
    },
    {
     "data": {
      "application/vnd.jupyter.widget-view+json": {
       "model_id": "744f866d7fca4e0181cb7ea86083591f",
       "version_major": 2,
       "version_minor": 0
      },
      "text/plain": [
       "images:MPhil-Literature-2:   0%|          | 0/10 [00:00<?, ?it/s]"
      ]
     },
     "metadata": {},
     "output_type": "display_data"
    },
    {
     "name": "stdout",
     "output_type": "stream",
     "text": [
      "[INIT].... → Crawl4AI 0.6.2\n",
      "[INIT].... → Crawl4AI 0.6.2\n",
      "[FETCH]... ↓ https://www.essex.ac.uk/courses/PR01395/4/PhD-Tropical-Marine-Biology                                | ✓ | ⏱: 29.23s\n",
      "[SCRAPE].. ◆ https://www.essex.ac.uk/courses/PR01395/4/PhD-Tropical-Marine-Biology                                | ✓ | ⏱: 0.24s\n",
      "[COMPLETE] ● https://www.essex.ac.uk/courses/PR01395/4/PhD-Tropical-Marine-Biology                                | ✓ | ⏱: 30.70s\n",
      "[FETCH]... ↓ https://www.essex.ac.uk/courses/PR00941/3/MSc-by-Dissertation-Marine-Biology                         | ✓ | ⏱: 36.18s\n",
      "[SCRAPE].. ◆ https://www.essex.ac.uk/courses/PR00941/3/MSc-by-Dissertation-Marine-Biology                         | ✓ | ⏱: 0.46s\n",
      "[COMPLETE] ● https://www.essex.ac.uk/courses/PR00941/3/MSc-by-Dissertation-Marine-Biology                         | ✓ | ⏱: 37.99s\n"
     ]
    },
    {
     "data": {
      "application/vnd.jupyter.widget-view+json": {
       "model_id": "0fb5193b6bc74b2fb0cb3b114072725d",
       "version_major": 2,
       "version_minor": 0
      },
      "text/plain": [
       "images:PhD-Tropical-Marine-Biology-4:   0%|          | 0/10 [00:00<?, ?it/s]"
      ]
     },
     "metadata": {},
     "output_type": "display_data"
    },
    {
     "name": "stdout",
     "output_type": "stream",
     "text": [
      "⚠ cannot fetch https://www.essex.ac.uk/-/media/header-images/subjects/bio-sciences-1200x600/biological-sciences_ptait_20181119_3104-(1).jpg?mh=512&mw=512&hash=279C27AD600E18D8076660770039D257: HTTPSConnectionPool(host='www.essex.ac.uk', port=443): Max retries exceeded with url: /-/media/header-images/subjects/bio-sciences-1200x600/biological-sciences_ptait_20181119_3104-(1).jpg?mh=512&mw=512&hash=279C27AD600E18D8076660770039D257 (Caused by NewConnectionError('<urllib3.connection.HTTPSConnection object at 0x151728bc0>: Failed to establish a new connection: [Errno 61] Connection refused'))\n",
      "[ERROR]... × https://www.essex.ac.uk...Marketing-and-the-Media  | Error: \n",
      "┌───────────────────────────────────────────────────────────────────────────────────────────────────────────────────────┐\n",
      "│ × Unexpected error in _crawl_web at line 731 in _crawl_web (../../../../../opt/anaconda3/lib/python3.12/site-         │\n",
      "│ packages/crawl4ai/async_crawler_strategy.py):                                                                         │\n",
      "│   Error: Failed on navigating ACS-GOTO:                                                                               │\n",
      "│   Page.goto: net::ERR_TIMED_OUT at https://www.essex.ac.uk/courses/PG00441/1/MA-Advertising-Marketing-and-the-Media   │\n",
      "│   Call log:                                                                                                           │\n",
      "│   - navigating to \"https://www.essex.ac.uk/courses/PG00441/1/MA-Advertising-Marketing-and-the-Media\", waiting until   │\n",
      "│ \"domcontentloaded\"                                                                                                    │\n",
      "│                                                                                                                       │\n",
      "│                                                                                                                       │\n",
      "│   Code context:                                                                                                       │\n",
      "│   726                       response = await page.goto(                                                               │\n",
      "│   727                           url, wait_until=config.wait_until, timeout=config.page_timeout                        │\n",
      "│   728                       )                                                                                         │\n",
      "│   729                       redirected_url = page.url                                                                 │\n",
      "│   730                   except Error as e:                                                                            │\n",
      "│   731 →                     raise RuntimeError(f\"Failed on navigating ACS-GOTO:\\n{str(e)}\")                           │\n",
      "│   732                                                                                                                 │\n",
      "│   733                   await self.execute_hook(                                                                      │\n",
      "│   734                       \"after_goto\", page, context=context, url=url, response=response, config=config            │\n",
      "│   735                   )                                                                                             │\n",
      "│   736                                                                                                                 │\n",
      "└───────────────────────────────────────────────────────────────────────────────────────────────────────────────────────┘\n",
      "\n",
      "[ERROR]... × https://www.essex.ac.uk...PG00679/1/MSc-Marketing  | Error: \n",
      "┌───────────────────────────────────────────────────────────────────────────────────────────────────────────────────────┐\n",
      "│ × Unexpected error in _crawl_web at line 731 in _crawl_web (../../../../../opt/anaconda3/lib/python3.12/site-         │\n",
      "│ packages/crawl4ai/async_crawler_strategy.py):                                                                         │\n",
      "│   Error: Failed on navigating ACS-GOTO:                                                                               │\n",
      "│   Page.goto: net::ERR_TIMED_OUT at https://www.essex.ac.uk/courses/PG00679/1/MSc-Marketing                            │\n",
      "│   Call log:                                                                                                           │\n",
      "│   - navigating to \"https://www.essex.ac.uk/courses/PG00679/1/MSc-Marketing\", waiting until \"domcontentloaded\"         │\n",
      "│                                                                                                                       │\n",
      "│                                                                                                                       │\n",
      "│   Code context:                                                                                                       │\n",
      "│   726                       response = await page.goto(                                                               │\n",
      "│   727                           url, wait_until=config.wait_until, timeout=config.page_timeout                        │\n",
      "│   728                       )                                                                                         │\n",
      "│   729                       redirected_url = page.url                                                                 │\n",
      "│   730                   except Error as e:                                                                            │\n",
      "│   731 →                     raise RuntimeError(f\"Failed on navigating ACS-GOTO:\\n{str(e)}\")                           │\n",
      "│   732                                                                                                                 │\n",
      "│   733                   await self.execute_hook(                                                                      │\n",
      "│   734                       \"after_goto\", page, context=context, url=url, response=response, config=config            │\n",
      "│   735                   )                                                                                             │\n",
      "│   736                                                                                                                 │\n",
      "└───────────────────────────────────────────────────────────────────────────────────────────────────────────────────────┘\n",
      "\n",
      "[ERROR]... × https://www.essex.ac.uk...41/1/PhD-Marine-Biology  | Error: \n",
      "┌───────────────────────────────────────────────────────────────────────────────────────────────────────────────────────┐\n",
      "│ × Unexpected error in _crawl_web at line 731 in _crawl_web (../../../../../opt/anaconda3/lib/python3.12/site-         │\n",
      "│ packages/crawl4ai/async_crawler_strategy.py):                                                                         │\n",
      "│   Error: Failed on navigating ACS-GOTO:                                                                               │\n",
      "│   Page.goto: net::ERR_CONNECTION_RESET at https://www.essex.ac.uk/courses/PR00941/1/PhD-Marine-Biology                │\n",
      "│   Call log:                                                                                                           │\n",
      "│   - navigating to \"https://www.essex.ac.uk/courses/PR00941/1/PhD-Marine-Biology\", waiting until \"domcontentloaded\"    │\n",
      "│                                                                                                                       │\n",
      "│                                                                                                                       │\n",
      "│   Code context:                                                                                                       │\n",
      "│   726                       response = await page.goto(                                                               │\n",
      "│   727                           url, wait_until=config.wait_until, timeout=config.page_timeout                        │\n",
      "│   728                       )                                                                                         │\n",
      "│   729                       redirected_url = page.url                                                                 │\n",
      "│   730                   except Error as e:                                                                            │\n",
      "│   731 →                     raise RuntimeError(f\"Failed on navigating ACS-GOTO:\\n{str(e)}\")                           │\n",
      "│   732                                                                                                                 │\n",
      "│   733                   await self.execute_hook(                                                                      │\n",
      "│   734                       \"after_goto\", page, context=context, url=url, response=response, config=config            │\n",
      "│   735                   )                                                                                             │\n",
      "│   736                                                                                                                 │\n",
      "└───────────────────────────────────────────────────────────────────────────────────────────────────────────────────────┘\n",
      "\n"
     ]
    },
    {
     "data": {
      "application/vnd.jupyter.widget-view+json": {
       "model_id": "34301087fe914866a9554f940dda9905",
       "version_major": 2,
       "version_minor": 0
      },
      "text/plain": [
       "images:MSc-by-Dissertation-Marine-Biology-3:   0%|          | 0/10 [00:00<?, ?it/s]"
      ]
     },
     "metadata": {},
     "output_type": "display_data"
    },
    {
     "name": "stdout",
     "output_type": "stream",
     "text": [
      "⚠️  MA-Advertising-Marketing-and-the-Media-1: Unexpected error in _crawl_web at line 731 in _crawl_web (../../../../../opt/anaconda3/lib/python3.12/site-packages/crawl4ai/async_crawler_strategy.py):\n",
      "Error: Failed on navigating ACS-GOTO:\n",
      "Page.goto: net::ERR_TIMED_OUT at https://www.essex.ac.uk/courses/PG00441/1/MA-Advertising-Marketing-and-the-Media\n",
      "Call log:\n",
      "  - navigating to \"https://www.essex.ac.uk/courses/PG00441/1/MA-Advertising-Marketing-and-the-Media\", waiting until \"domcontentloaded\"\n",
      "\n",
      "\n",
      "Code context:\n",
      " 726                       response = await page.goto(\n",
      " 727                           url, wait_until=config.wait_until, timeout=config.page_timeout\n",
      " 728                       )\n",
      " 729                       redirected_url = page.url\n",
      " 730                   except Error as e:\n",
      " 731 →                     raise RuntimeError(f\"Failed on navigating ACS-GOTO:\\n{str(e)}\")\n",
      " 732   \n",
      " 733                   await self.execute_hook(\n",
      " 734                       \"after_goto\", page, context=context, url=url, response=response, config=config\n",
      " 735                   )\n",
      " 736   \n",
      "[INIT].... → Crawl4AI 0.6.2\n",
      "⚠️  MSc-Marketing-1: Unexpected error in _crawl_web at line 731 in _crawl_web (../../../../../opt/anaconda3/lib/python3.12/site-packages/crawl4ai/async_crawler_strategy.py):\n",
      "Error: Failed on navigating ACS-GOTO:\n",
      "Page.goto: net::ERR_TIMED_OUT at https://www.essex.ac.uk/courses/PG00679/1/MSc-Marketing\n",
      "Call log:\n",
      "  - navigating to \"https://www.essex.ac.uk/courses/PG00679/1/MSc-Marketing\", waiting until \"domcontentloaded\"\n",
      "\n",
      "\n",
      "Code context:\n",
      " 726                       response = await page.goto(\n",
      " 727                           url, wait_until=config.wait_until, timeout=config.page_timeout\n",
      " 728                       )\n",
      " 729                       redirected_url = page.url\n",
      " 730                   except Error as e:\n",
      " 731 →                     raise RuntimeError(f\"Failed on navigating ACS-GOTO:\\n{str(e)}\")\n",
      " 732   \n",
      " 733                   await self.execute_hook(\n",
      " 734                       \"after_goto\", page, context=context, url=url, response=response, config=config\n",
      " 735                   )\n",
      " 736   \n",
      "⚠️  PhD-Marine-Biology-1: Unexpected error in _crawl_web at line 731 in _crawl_web (../../../../../opt/anaconda3/lib/python3.12/site-packages/crawl4ai/async_crawler_strategy.py):\n",
      "Error: Failed on navigating ACS-GOTO:\n",
      "Page.goto: net::ERR_CONNECTION_RESET at https://www.essex.ac.uk/courses/PR00941/1/PhD-Marine-Biology\n",
      "Call log:\n",
      "  - navigating to \"https://www.essex.ac.uk/courses/PR00941/1/PhD-Marine-Biology\", waiting until \"domcontentloaded\"\n",
      "\n",
      "\n",
      "Code context:\n",
      " 726                       response = await page.goto(\n",
      " 727                           url, wait_until=config.wait_until, timeout=config.page_timeout\n",
      " 728                       )\n",
      " 729                       redirected_url = page.url\n",
      " 730                   except Error as e:\n",
      " 731 →                     raise RuntimeError(f\"Failed on navigating ACS-GOTO:\\n{str(e)}\")\n",
      " 732   \n",
      " 733                   await self.execute_hook(\n",
      " 734                       \"after_goto\", page, context=context, url=url, response=response, config=config\n",
      " 735                   )\n",
      " 736   \n",
      "[INIT].... → Crawl4AI 0.6.2\n",
      "[INIT].... → Crawl4AI 0.6.2\n",
      "[INIT].... → Crawl4AI 0.6.2\n",
      "[INIT].... → Crawl4AI 0.6.2\n",
      "[FETCH]... ↓ https://www.essex.ac.uk/courses/PG01547/1/MSc-Digital-Marketing-and-Analytics                        | ✓ | ⏱: 105.05s\n",
      "[SCRAPE].. ◆ https://www.essex.ac.uk/courses/PG01547/1/MSc-Digital-Marketing-and-Analytics                        | ✓ | ⏱: 0.26s\n",
      "[COMPLETE] ● https://www.essex.ac.uk/courses/PG01547/1/MSc-Digital-Marketing-and-Analytics                        | ✓ | ⏱: 106.62s\n",
      "[FETCH]... ↓ https://www.essex.ac.uk/courses/UG00269/1/BSc-Mathematics                                            | ✓ | ⏱: 80.83s\n",
      "[SCRAPE].. ◆ https://www.essex.ac.uk/courses/UG00269/1/BSc-Mathematics                                            | ✓ | ⏱: 0.50s\n",
      "[COMPLETE] ● https://www.essex.ac.uk/courses/UG00269/1/BSc-Mathematics                                            | ✓ | ⏱: 82.65s\n",
      "[FETCH]... ↓ https://www.essex.ac.uk/courses/UG00264/1/BSc-Marketing                                              | ✓ | ⏱: 83.99s\n",
      "[SCRAPE].. ◆ https://www.essex.ac.uk/courses/UG00264/1/BSc-Marketing                                              | ✓ | ⏱: 0.27s\n",
      "[COMPLETE] ● https://www.essex.ac.uk/courses/UG00264/1/BSc-Marketing                                              | ✓ | ⏱: 85.59s\n"
     ]
    },
    {
     "data": {
      "application/vnd.jupyter.widget-view+json": {
       "model_id": "77e39e7bb3db40be97be20e0a1ee7939",
       "version_major": 2,
       "version_minor": 0
      },
      "text/plain": [
       "images:MSc-Digital-Marketing-and-Analytics-1:   0%|          | 0/10 [00:00<?, ?it/s]"
      ]
     },
     "metadata": {},
     "output_type": "display_data"
    },
    {
     "data": {
      "application/vnd.jupyter.widget-view+json": {
       "model_id": "85fe6b22b4be47d7bb9c886473e2eb37",
       "version_major": 2,
       "version_minor": 0
      },
      "text/plain": [
       "images:BSc-Mathematics-1:   0%|          | 0/10 [00:00<?, ?it/s]"
      ]
     },
     "metadata": {},
     "output_type": "display_data"
    },
    {
     "data": {
      "application/vnd.jupyter.widget-view+json": {
       "model_id": "f0b851dbf4fe4febbcb4ffbf7421f1fb",
       "version_major": 2,
       "version_minor": 0
      },
      "text/plain": [
       "images:BSc-Marketing-1:   0%|          | 0/10 [00:00<?, ?it/s]"
      ]
     },
     "metadata": {},
     "output_type": "display_data"
    },
    {
     "name": "stdout",
     "output_type": "stream",
     "text": [
      "[ERROR]... × https://www.essex.ac.uk...athematics-with-Physics  | Error: \n",
      "┌───────────────────────────────────────────────────────────────────────────────────────────────────────────────────────┐\n",
      "│ × Unexpected error in _crawl_web at line 731 in _crawl_web (../../../../../opt/anaconda3/lib/python3.12/site-         │\n",
      "│ packages/crawl4ai/async_crawler_strategy.py):                                                                         │\n",
      "│   Error: Failed on navigating ACS-GOTO:                                                                               │\n",
      "│   Page.goto: net::ERR_CONNECTION_REFUSED at https://www.essex.ac.uk/courses/UG00285/1/BSc-Mathematics-with-Physics    │\n",
      "│   Call log:                                                                                                           │\n",
      "│   - navigating to \"https://www.essex.ac.uk/courses/UG00285/1/BSc-Mathematics-with-Physics\", waiting until             │\n",
      "│ \"domcontentloaded\"                                                                                                    │\n",
      "│                                                                                                                       │\n",
      "│                                                                                                                       │\n",
      "│   Code context:                                                                                                       │\n",
      "│   726                       response = await page.goto(                                                               │\n",
      "│   727                           url, wait_until=config.wait_until, timeout=config.page_timeout                        │\n",
      "│   728                       )                                                                                         │\n",
      "│   729                       redirected_url = page.url                                                                 │\n",
      "│   730                   except Error as e:                                                                            │\n",
      "│   731 →                     raise RuntimeError(f\"Failed on navigating ACS-GOTO:\\n{str(e)}\")                           │\n",
      "│   732                                                                                                                 │\n",
      "│   733                   await self.execute_hook(                                                                      │\n",
      "│   734                       \"after_goto\", page, context=context, url=url, response=response, config=config            │\n",
      "│   735                   )                                                                                             │\n",
      "│   736                                                                                                                 │\n",
      "└───────────────────────────────────────────────────────────────────────────────────────────────────────────────────────┘\n",
      "\n",
      "[ERROR]... × https://www.essex.ac.uk...hD-Operational-Research  | Error: \n",
      "┌───────────────────────────────────────────────────────────────────────────────────────────────────────────────────────┐\n",
      "│ × Unexpected error in _crawl_web at line 731 in _crawl_web (../../../../../opt/anaconda3/lib/python3.12/site-         │\n",
      "│ packages/crawl4ai/async_crawler_strategy.py):                                                                         │\n",
      "│   Error: Failed on navigating ACS-GOTO:                                                                               │\n",
      "│   Page.goto: net::ERR_CONNECTION_REFUSED at https://www.essex.ac.uk/courses/PR00955/1/PhD-Operational-Research        │\n",
      "│   Call log:                                                                                                           │\n",
      "│   - navigating to \"https://www.essex.ac.uk/courses/PR00955/1/PhD-Operational-Research\", waiting until                 │\n",
      "│ \"domcontentloaded\"                                                                                                    │\n",
      "│                                                                                                                       │\n",
      "│                                                                                                                       │\n",
      "│   Code context:                                                                                                       │\n",
      "│   726                       response = await page.goto(                                                               │\n",
      "│   727                           url, wait_until=config.wait_until, timeout=config.page_timeout                        │\n",
      "│   728                       )                                                                                         │\n",
      "│   729                       redirected_url = page.url                                                                 │\n",
      "│   730                   except Error as e:                                                                            │\n",
      "│   731 →                     raise RuntimeError(f\"Failed on navigating ACS-GOTO:\\n{str(e)}\")                           │\n",
      "│   732                                                                                                                 │\n",
      "│   733                   await self.execute_hook(                                                                      │\n",
      "│   734                       \"after_goto\", page, context=context, url=url, response=response, config=config            │\n",
      "│   735                   )                                                                                             │\n",
      "│   736                                                                                                                 │\n",
      "└───────────────────────────────────────────────────────────────────────────────────────────────────────────────────────┘\n",
      "\n",
      "[ERROR]... × https://www.essex.ac.uk...hil-Applied-Mathematics  | Error: \n",
      "┌───────────────────────────────────────────────────────────────────────────────────────────────────────────────────────┐\n",
      "│ × Unexpected error in _crawl_web at line 731 in _crawl_web (../../../../../opt/anaconda3/lib/python3.12/site-         │\n",
      "│ packages/crawl4ai/async_crawler_strategy.py):                                                                         │\n",
      "│   Error: Failed on navigating ACS-GOTO:                                                                               │\n",
      "│   Page.goto: net::ERR_CONNECTION_REFUSED at https://www.essex.ac.uk/courses/PR00862/2/MPhil-Applied-Mathematics       │\n",
      "│   Call log:                                                                                                           │\n",
      "│   - navigating to \"https://www.essex.ac.uk/courses/PR00862/2/MPhil-Applied-Mathematics\", waiting until                │\n",
      "│ \"domcontentloaded\"                                                                                                    │\n",
      "│                                                                                                                       │\n",
      "│                                                                                                                       │\n",
      "│   Code context:                                                                                                       │\n",
      "│   726                       response = await page.goto(                                                               │\n",
      "│   727                           url, wait_until=config.wait_until, timeout=config.page_timeout                        │\n",
      "│   728                       )                                                                                         │\n",
      "│   729                       redirected_url = page.url                                                                 │\n",
      "│   730                   except Error as e:                                                                            │\n",
      "│   731 →                     raise RuntimeError(f\"Failed on navigating ACS-GOTO:\\n{str(e)}\")                           │\n",
      "│   732                                                                                                                 │\n",
      "│   733                   await self.execute_hook(                                                                      │\n",
      "│   734                       \"after_goto\", page, context=context, url=url, response=response, config=config            │\n",
      "│   735                   )                                                                                             │\n",
      "│   736                                                                                                                 │\n",
      "└───────────────────────────────────────────────────────────────────────────────────────────────────────────────────────┘\n",
      "\n",
      "[ERROR]... × https://www.essex.ac.uk...Mathematics-Mathematics  | Error: \n",
      "┌───────────────────────────────────────────────────────────────────────────────────────────────────────────────────────┐\n",
      "│ × Unexpected error in _crawl_web at line 731 in _crawl_web (../../../../../opt/anaconda3/lib/python3.12/site-         │\n",
      "│ packages/crawl4ai/async_crawler_strategy.py):                                                                         │\n",
      "│   Error: Failed on navigating ACS-GOTO:                                                                               │\n",
      "│   Page.goto: net::ERR_CONNECTION_REFUSED at https://www.essex.ac.uk/courses/UG00269/3/Integrated-Master-in-           │\n",
      "│ Mathematics-Mathematics                                                                                               │\n",
      "│   Call log:                                                                                                           │\n",
      "│   - navigating to \"https://www.essex.ac.uk/courses/UG00269/3/Integrated-Master-in-Mathematics-Mathematics\", waiting   │\n",
      "│ until \"domcontentloaded\"                                                                                              │\n",
      "│                                                                                                                       │\n",
      "│                                                                                                                       │\n",
      "│   Code context:                                                                                                       │\n",
      "│   726                       response = await page.goto(                                                               │\n",
      "│   727                           url, wait_until=config.wait_until, timeout=config.page_timeout                        │\n",
      "│   728                       )                                                                                         │\n",
      "│   729                       redirected_url = page.url                                                                 │\n",
      "│   730                   except Error as e:                                                                            │\n",
      "│   731 →                     raise RuntimeError(f\"Failed on navigating ACS-GOTO:\\n{str(e)}\")                           │\n",
      "│   732                                                                                                                 │\n",
      "│   733                   await self.execute_hook(                                                                      │\n",
      "│   734                       \"after_goto\", page, context=context, url=url, response=response, config=config            │\n",
      "│   735                   )                                                                                             │\n",
      "│   736                                                                                                                 │\n",
      "└───────────────────────────────────────────────────────────────────────────────────────────────────────────────────────┘\n",
      "\n",
      "[INIT].... → Crawl4AI 0.6.2\n",
      "[INIT].... → Crawl4AI 0.6.2\n",
      "[FETCH]... ↓ https://www.essex.ac.uk/courses/PR00862/1/PhD-Applied-Mathematics                                    | ✓ | ⏱: 84.16s\n",
      "[SCRAPE].. ◆ https://www.essex.ac.uk/courses/PR00862/1/PhD-Applied-Mathematics                                    | ✓ | ⏱: 0.22s\n",
      "[COMPLETE] ● https://www.essex.ac.uk/courses/PR00862/1/PhD-Applied-Mathematics                                    | ✓ | ⏱: 85.56s\n",
      "⚠️  PhD-Operational-Research-1: Unexpected error in _crawl_web at line 731 in _crawl_web (../../../../../opt/anaconda3/lib/python3.12/site-packages/crawl4ai/async_crawler_strategy.py):\n",
      "Error: Failed on navigating ACS-GOTO:\n",
      "Page.goto: net::ERR_CONNECTION_REFUSED at https://www.essex.ac.uk/courses/PR00955/1/PhD-Operational-Research\n",
      "Call log:\n",
      "  - navigating to \"https://www.essex.ac.uk/courses/PR00955/1/PhD-Operational-Research\", waiting until \"domcontentloaded\"\n",
      "\n",
      "\n",
      "Code context:\n",
      " 726                       response = await page.goto(\n",
      " 727                           url, wait_until=config.wait_until, timeout=config.page_timeout\n",
      " 728                       )\n",
      " 729                       redirected_url = page.url\n",
      " 730                   except Error as e:\n",
      " 731 →                     raise RuntimeError(f\"Failed on navigating ACS-GOTO:\\n{str(e)}\")\n",
      " 732   \n",
      " 733                   await self.execute_hook(\n",
      " 734                       \"after_goto\", page, context=context, url=url, response=response, config=config\n",
      " 735                   )\n",
      " 736   \n",
      "⚠️  BSc-Mathematics-with-Physics-1: Unexpected error in _crawl_web at line 731 in _crawl_web (../../../../../opt/anaconda3/lib/python3.12/site-packages/crawl4ai/async_crawler_strategy.py):\n",
      "Error: Failed on navigating ACS-GOTO:\n",
      "Page.goto: net::ERR_CONNECTION_REFUSED at https://www.essex.ac.uk/courses/UG00285/1/BSc-Mathematics-with-Physics\n",
      "Call log:\n",
      "  - navigating to \"https://www.essex.ac.uk/courses/UG00285/1/BSc-Mathematics-with-Physics\", waiting until \"domcontentloaded\"\n",
      "\n",
      "\n",
      "Code context:\n",
      " 726                       response = await page.goto(\n",
      " 727                           url, wait_until=config.wait_until, timeout=config.page_timeout\n",
      " 728                       )\n",
      " 729                       redirected_url = page.url\n",
      " 730                   except Error as e:\n",
      " 731 →                     raise RuntimeError(f\"Failed on navigating ACS-GOTO:\\n{str(e)}\")\n",
      " 732   \n",
      " 733                   await self.execute_hook(\n",
      " 734                       \"after_goto\", page, context=context, url=url, response=response, config=config\n",
      " 735                   )\n",
      " 736   \n",
      "[INIT].... → Crawl4AI 0.6.2\n",
      "⚠️  MPhil-Applied-Mathematics-2: Unexpected error in _crawl_web at line 731 in _crawl_web (../../../../../opt/anaconda3/lib/python3.12/site-packages/crawl4ai/async_crawler_strategy.py):\n",
      "Error: Failed on navigating ACS-GOTO:\n",
      "Page.goto: net::ERR_CONNECTION_REFUSED at https://www.essex.ac.uk/courses/PR00862/2/MPhil-Applied-Mathematics\n",
      "Call log:\n",
      "  - navigating to \"https://www.essex.ac.uk/courses/PR00862/2/MPhil-Applied-Mathematics\", waiting until \"domcontentloaded\"\n",
      "\n",
      "\n",
      "Code context:\n",
      " 726                       response = await page.goto(\n",
      " 727                           url, wait_until=config.wait_until, timeout=config.page_timeout\n",
      " 728                       )\n",
      " 729                       redirected_url = page.url\n",
      " 730                   except Error as e:\n",
      " 731 →                     raise RuntimeError(f\"Failed on navigating ACS-GOTO:\\n{str(e)}\")\n",
      " 732   \n",
      " 733                   await self.execute_hook(\n",
      " 734                       \"after_goto\", page, context=context, url=url, response=response, config=config\n",
      " 735                   )\n",
      " 736   \n",
      "⚠️  Integrated-Master-in-Mathematics-Mathematics-3: Unexpected error in _crawl_web at line 731 in _crawl_web (../../../../../opt/anaconda3/lib/python3.12/site-packages/crawl4ai/async_crawler_strategy.py):\n",
      "Error: Failed on navigating ACS-GOTO:\n",
      "Page.goto: net::ERR_CONNECTION_REFUSED at https://www.essex.ac.uk/courses/UG00269/3/Integrated-Master-in-Mathematics-Mathematics\n",
      "Call log:\n",
      "  - navigating to \"https://www.essex.ac.uk/courses/UG00269/3/Integrated-Master-in-Mathematics-Mathematics\", waiting until \"domcontentloaded\"\n",
      "\n",
      "\n",
      "Code context:\n",
      " 726                       response = await page.goto(\n",
      " 727                           url, wait_until=config.wait_until, timeout=config.page_timeout\n",
      " 728                       )\n",
      " 729                       redirected_url = page.url\n",
      " 730                   except Error as e:\n",
      " 731 →                     raise RuntimeError(f\"Failed on navigating ACS-GOTO:\\n{str(e)}\")\n",
      " 732   \n",
      " 733                   await self.execute_hook(\n",
      " 734                       \"after_goto\", page, context=context, url=url, response=response, config=config\n",
      " 735                   )\n",
      " 736   \n"
     ]
    },
    {
     "data": {
      "application/vnd.jupyter.widget-view+json": {
       "model_id": "27e83cc8a99d403a89c46ff5b4481e83",
       "version_major": 2,
       "version_minor": 0
      },
      "text/plain": [
       "images:PhD-Applied-Mathematics-1:   0%|          | 0/10 [00:00<?, ?it/s]"
      ]
     },
     "metadata": {},
     "output_type": "display_data"
    },
    {
     "name": "stdout",
     "output_type": "stream",
     "text": [
      "[INIT].... → Crawl4AI 0.6.2\n",
      "[INIT].... → Crawl4AI 0.6.2\n",
      "[INIT].... → Crawl4AI 0.6.2\n",
      "[INIT].... → Crawl4AI 0.6.2\n",
      "[INIT].... → Crawl4AI 0.6.2\n",
      "[SCRAPE].. ◆ Some images failed to load within timeout\n",
      "[FETCH]... ↓ https://www.essex.ac.uk/courses/UG00269/2/BSc-Mathematics                                            | ✓ | ⏱: 9.42s\n",
      "[SCRAPE].. ◆ https://www.essex.ac.uk/courses/UG00269/2/BSc-Mathematics                                            | ✓ | ⏱: 0.41s\n",
      "[COMPLETE] ● https://www.essex.ac.uk/courses/UG00269/2/BSc-Mathematics                                            | ✓ | ⏱: 12.02s\n"
     ]
    },
    {
     "data": {
      "application/vnd.jupyter.widget-view+json": {
       "model_id": "94056ed2c02e449595fc66fcdb25c1e6",
       "version_major": 2,
       "version_minor": 0
      },
      "text/plain": [
       "images:BSc-Mathematics-2:   0%|          | 0/10 [00:00<?, ?it/s]"
      ]
     },
     "metadata": {},
     "output_type": "display_data"
    },
    {
     "name": "stdout",
     "output_type": "stream",
     "text": [
      "[FETCH]... ↓ https://www.essex.ac.uk/courses/PG00368/2/MSc-Mathematics                                            | ✓ | ⏱: 24.61s\n",
      "[SCRAPE].. ◆ https://www.essex.ac.uk/courses/PG00368/2/MSc-Mathematics                                            | ✓ | ⏱: 0.41s\n",
      "[COMPLETE] ● https://www.essex.ac.uk/courses/PG00368/2/MSc-Mathematics                                            | ✓ | ⏱: 26.76s\n"
     ]
    },
    {
     "data": {
      "application/vnd.jupyter.widget-view+json": {
       "model_id": "c701f42f07df4092a314cf0998542863",
       "version_major": 2,
       "version_minor": 0
      },
      "text/plain": [
       "images:MSc-Mathematics-2:   0%|          | 0/10 [00:00<?, ?it/s]"
      ]
     },
     "metadata": {},
     "output_type": "display_data"
    },
    {
     "name": "stdout",
     "output_type": "stream",
     "text": [
      "[INIT].... → Crawl4AI 0.6.2\n",
      "[SCRAPE].. ◆ Some images failed to load within timeout\n",
      "[SCRAPE].. ◆ Some images failed to load within timeout\n",
      "[FETCH]... ↓ https://www.essex.ac.uk/courses/PR00943/1/PhD-Mathematics                                            | ✓ | ⏱: 24.69s\n",
      "[SCRAPE].. ◆ https://www.essex.ac.uk/courses/PR00943/1/PhD-Mathematics                                            | ✓ | ⏱: 0.31s\n",
      "[COMPLETE] ● https://www.essex.ac.uk/courses/PR00943/1/PhD-Mathematics                                            | ✓ | ⏱: 26.72s\n",
      "[SCRAPE].. ◆ Some images failed to load within timeout\n",
      "[INIT].... → Crawl4AI 0.6.2\n"
     ]
    },
    {
     "data": {
      "application/vnd.jupyter.widget-view+json": {
       "model_id": "e2908119669d4186aa4c9d622d3042e4",
       "version_major": 2,
       "version_minor": 0
      },
      "text/plain": [
       "images:PhD-Mathematics-1:   0%|          | 0/10 [00:00<?, ?it/s]"
      ]
     },
     "metadata": {},
     "output_type": "display_data"
    },
    {
     "name": "stdout",
     "output_type": "stream",
     "text": [
      "[FETCH]... ↓ https://www.essex.ac.uk/courses/PG01481/1/MSc-Politics-Communications-and-Data-Analytics             | ✓ | ⏱: 33.92s\n",
      "[SCRAPE].. ◆ https://www.essex.ac.uk/courses/PG01481/1/MSc-Politics-Communications-and-Data-Analytics             | ✓ | ⏱: 0.31s\n",
      "[COMPLETE] ● https://www.essex.ac.uk/courses/PG01481/1/MSc-Politics-Communications-and-Data-Analytics             | ✓ | ⏱: 36.17s\n"
     ]
    },
    {
     "data": {
      "application/vnd.jupyter.widget-view+json": {
       "model_id": "f88aee45dab6407380fb6e06cc4b5922",
       "version_major": 2,
       "version_minor": 0
      },
      "text/plain": [
       "images:MSc-Politics-Communications-and-Data-Analytics-1:   0%|          | 0/10 [00:00<?, ?it/s]"
      ]
     },
     "metadata": {},
     "output_type": "display_data"
    },
    {
     "name": "stdout",
     "output_type": "stream",
     "text": [
      "[INIT].... → Crawl4AI 0.6.2\n",
      "[FETCH]... ↓ https://www.essex.ac.uk/courses/PR00975/1/PhD-Pure-Mathematics                                       | ✓ | ⏱: 49.97s\n",
      "[SCRAPE].. ◆ https://www.essex.ac.uk/courses/PR00975/1/PhD-Pure-Mathematics                                       | ✓ | ⏱: 0.23s\n",
      "[COMPLETE] ● https://www.essex.ac.uk/courses/PR00975/1/PhD-Pure-Mathematics                                       | ✓ | ⏱: 51.57s\n"
     ]
    },
    {
     "data": {
      "application/vnd.jupyter.widget-view+json": {
       "model_id": "05f298ab571f43b0bf6bd3c7fedbd317",
       "version_major": 2,
       "version_minor": 0
      },
      "text/plain": [
       "images:PhD-Pure-Mathematics-1:   0%|          | 0/10 [00:00<?, ?it/s]"
      ]
     },
     "metadata": {},
     "output_type": "display_data"
    },
    {
     "name": "stdout",
     "output_type": "stream",
     "text": [
      "[INIT].... → Crawl4AI 0.6.2\n",
      "[FETCH]... ↓ https://www.essex.ac.uk/courses/UG01073/1/Integr...in-Modern-Languages-Modern-Languages-Translation  | ✓ | ⏱: 45.16s\n",
      "[SCRAPE].. ◆ https://www.essex.ac.uk/courses/UG01073/1/Integr...in-Modern-Languages-Modern-Languages-Translation  | ✓ | ⏱: 0.30s\n",
      "[COMPLETE] ● https://www.essex.ac.uk/courses/UG01073/1/Integr...in-Modern-Languages-Modern-Languages-Translation  | ✓ | ⏱: 46.93s\n",
      "[FETCH]... ↓ https://www.essex.ac.uk/courses/PG00368/3/Postgraduate-Diploma-Mathematics                           | ✓ | ⏱: 49.07s\n",
      "[SCRAPE].. ◆ https://www.essex.ac.uk/courses/PG00368/3/Postgraduate-Diploma-Mathematics                           | ✓ | ⏱: 0.23s\n",
      "[COMPLETE] ● https://www.essex.ac.uk/courses/PG00368/3/Postgraduate-Diploma-Mathematics                           | ✓ | ⏱: 50.62s\n",
      "[FETCH]... ↓ https://www.essex.ac.uk/courses/UG00105/1/BSc-Economics-and-Mathematics                              | ✓ | ⏱: 50.94s\n",
      "[SCRAPE].. ◆ https://www.essex.ac.uk/courses/UG00105/1/BSc-Economics-and-Mathematics                              | ✓ | ⏱: 0.29s\n",
      "[COMPLETE] ● https://www.essex.ac.uk/courses/UG00105/1/BSc-Economics-and-Mathematics                              | ✓ | ⏱: 52.47s\n"
     ]
    },
    {
     "data": {
      "application/vnd.jupyter.widget-view+json": {
       "model_id": "1fee3e8998fe4db8b3482508d7228675",
       "version_major": 2,
       "version_minor": 0
      },
      "text/plain": [
       "images:Integrated-Master-in-Modern-Languages-Modern-Languages-Translation-1:   0%|          | 0/10 [00:00<?, ?…"
      ]
     },
     "metadata": {},
     "output_type": "display_data"
    },
    {
     "data": {
      "application/vnd.jupyter.widget-view+json": {
       "model_id": "e2e85bdc7fb24d8da033509e33df804d",
       "version_major": 2,
       "version_minor": 0
      },
      "text/plain": [
       "images:Postgraduate-Diploma-Mathematics-3:   0%|          | 0/10 [00:00<?, ?it/s]"
      ]
     },
     "metadata": {},
     "output_type": "display_data"
    },
    {
     "name": "stdout",
     "output_type": "stream",
     "text": [
      "[INIT].... → Crawl4AI 0.6.2\n"
     ]
    },
    {
     "data": {
      "application/vnd.jupyter.widget-view+json": {
       "model_id": "65a6a1fc7bec4a04bdbc58d141c909f2",
       "version_major": 2,
       "version_minor": 0
      },
      "text/plain": [
       "images:BSc-Economics-and-Mathematics-1:   0%|          | 0/10 [00:00<?, ?it/s]"
      ]
     },
     "metadata": {},
     "output_type": "display_data"
    },
    {
     "name": "stdout",
     "output_type": "stream",
     "text": [
      "[INIT].... → Crawl4AI 0.6.2\n",
      "[INIT].... → Crawl4AI 0.6.2\n",
      "[SCRAPE].. ◆ Some images failed to load within timeout\n",
      "[INIT].... → Crawl4AI 0.6.2\n",
      "[FETCH]... ↓ https://www.essex.ac.uk/courses/UG00294/1/BA-Modern-Languages                                        | ✓ | ⏱: 46.23s\n",
      "[SCRAPE].. ◆ https://www.essex.ac.uk/courses/UG00294/1/BA-Modern-Languages                                        | ✓ | ⏱: 0.27s\n",
      "[COMPLETE] ● https://www.essex.ac.uk/courses/UG00294/1/BA-Modern-Languages                                        | ✓ | ⏱: 48.02s\n"
     ]
    },
    {
     "data": {
      "application/vnd.jupyter.widget-view+json": {
       "model_id": "c11c6f943f4c429e8425d287e35cb5e6",
       "version_major": 2,
       "version_minor": 0
      },
      "text/plain": [
       "images:BA-Modern-Languages-1:   0%|          | 0/10 [00:00<?, ?it/s]"
      ]
     },
     "metadata": {},
     "output_type": "display_data"
    },
    {
     "name": "stdout",
     "output_type": "stream",
     "text": [
      "[FETCH]... ↓ https://www.essex.ac.uk/courses/PR00953/3/MSc-by-Dissertation-Nursing-Studies                        | ✓ | ⏱: 32.82s\n",
      "[SCRAPE].. ◆ https://www.essex.ac.uk/courses/PR00953/3/MSc-by-Dissertation-Nursing-Studies                        | ✓ | ⏱: 0.28s\n",
      "[COMPLETE] ● https://www.essex.ac.uk/courses/PR00953/3/MSc-by-Dissertation-Nursing-Studies                        | ✓ | ⏱: 34.67s\n",
      "[FETCH]... ↓ https://www.essex.ac.uk/courses/PR00953/2/MPhil-Nursing-Studies                                      | ✓ | ⏱: 18.00s\n",
      "[SCRAPE].. ◆ https://www.essex.ac.uk/courses/PR00953/2/MPhil-Nursing-Studies                                      | ✓ | ⏱: 0.18s\n",
      "[COMPLETE] ● https://www.essex.ac.uk/courses/PR00953/2/MPhil-Nursing-Studies                                      | ✓ | ⏱: 19.76s\n",
      "[INIT].... → Crawl4AI 0.6.2\n"
     ]
    },
    {
     "data": {
      "application/vnd.jupyter.widget-view+json": {
       "model_id": "7e81bc196e8843bb8c472757988e019c",
       "version_major": 2,
       "version_minor": 0
      },
      "text/plain": [
       "images:MSc-by-Dissertation-Nursing-Studies-3:   0%|          | 0/10 [00:00<?, ?it/s]"
      ]
     },
     "metadata": {},
     "output_type": "display_data"
    },
    {
     "data": {
      "application/vnd.jupyter.widget-view+json": {
       "model_id": "394fa4ef8fc54148bccf59fcf0557b93",
       "version_major": 2,
       "version_minor": 0
      },
      "text/plain": [
       "images:MPhil-Nursing-Studies-2:   0%|          | 0/10 [00:00<?, ?it/s]"
      ]
     },
     "metadata": {},
     "output_type": "display_data"
    },
    {
     "name": "stdout",
     "output_type": "stream",
     "text": [
      "[INIT].... → Crawl4AI 0.6.2\n",
      "[INIT].... → Crawl4AI 0.6.2\n",
      "[SCRAPE].. ◆ Some images failed to load within timeout\n",
      "[FETCH]... ↓ https://www.essex.ac.uk/courses/PR00953/1/PhD-Nursing-Studies                                        | ✓ | ⏱: 26.54s\n",
      "[SCRAPE].. ◆ https://www.essex.ac.uk/courses/PR00953/1/PhD-Nursing-Studies                                        | ✓ | ⏱: 0.24s\n",
      "[COMPLETE] ● https://www.essex.ac.uk/courses/PR00953/1/PhD-Nursing-Studies                                        | ✓ | ⏱: 28.55s\n",
      "[FETCH]... ↓ https://www.essex.ac.uk/courses/PR00954/4/Professional-Doctorate-Occupational-Therapy                | ✓ | ⏱: 29.02s\n",
      "[SCRAPE].. ◆ https://www.essex.ac.uk/courses/PR00954/4/Professional-Doctorate-Occupational-Therapy                | ✓ | ⏱: 0.21s\n",
      "[COMPLETE] ● https://www.essex.ac.uk/courses/PR00954/4/Professional-Doctorate-Occupational-Therapy                | ✓ | ⏱: 30.61s\n",
      "[FETCH]... ↓ https://www.essex.ac.uk/courses/UG00222/1/BA-International-Relations-and-Modern-Languages            | ✓ | ⏱: 68.41s\n",
      "[SCRAPE].. ◆ https://www.essex.ac.uk/courses/UG00222/1/BA-International-Relations-and-Modern-Languages            | ✓ | ⏱: 0.47s\n",
      "[COMPLETE] ● https://www.essex.ac.uk/courses/UG00222/1/BA-International-Relations-and-Modern-Languages            | ✓ | ⏱: 70.20s\n",
      "[FETCH]... ↓ https://www.essex.ac.uk/courses/UG01535/1/Integr...ce-Nursing-Dual-Award-in-Adult-and-Mental-Health  | ✓ | ⏱: 60.35s\n",
      "[SCRAPE].. ◆ https://www.essex.ac.uk/courses/UG01535/1/Integr...ce-Nursing-Dual-Award-in-Adult-and-Mental-Health  | ✓ | ⏱: 0.24s\n",
      "[COMPLETE] ● https://www.essex.ac.uk/courses/UG01535/1/Integr...ce-Nursing-Dual-Award-in-Adult-and-Mental-Health  | ✓ | ⏱: 62.13s\n"
     ]
    },
    {
     "data": {
      "application/vnd.jupyter.widget-view+json": {
       "model_id": "c888d56a5c3341ee9b786eb2c4d9f03d",
       "version_major": 2,
       "version_minor": 0
      },
      "text/plain": [
       "images:PhD-Nursing-Studies-1:   0%|          | 0/10 [00:00<?, ?it/s]"
      ]
     },
     "metadata": {},
     "output_type": "display_data"
    },
    {
     "data": {
      "application/vnd.jupyter.widget-view+json": {
       "model_id": "a74b978064f54a9d8717eb13436a36de",
       "version_major": 2,
       "version_minor": 0
      },
      "text/plain": [
       "images:Professional-Doctorate-Occupational-Therapy-4:   0%|          | 0/10 [00:00<?, ?it/s]"
      ]
     },
     "metadata": {},
     "output_type": "display_data"
    },
    {
     "data": {
      "application/vnd.jupyter.widget-view+json": {
       "model_id": "5867d6de3990465faad629f60ed436d9",
       "version_major": 2,
       "version_minor": 0
      },
      "text/plain": [
       "images:BA-International-Relations-and-Modern-Languages-1:   0%|          | 0/10 [00:00<?, ?it/s]"
      ]
     },
     "metadata": {},
     "output_type": "display_data"
    },
    {
     "data": {
      "application/vnd.jupyter.widget-view+json": {
       "model_id": "a91308d138534dc49a693ff1d12a581c",
       "version_major": 2,
       "version_minor": 0
      },
      "text/plain": [
       "images:Integrated-Master-in-Science-Nursing-Dual-Award-in-Adult-and-Mental-Health-1:   0%|          | 0/10 [00…"
      ]
     },
     "metadata": {},
     "output_type": "display_data"
    },
    {
     "name": "stdout",
     "output_type": "stream",
     "text": [
      "[INIT].... → Crawl4AI 0.6.2\n",
      "[INIT].... → Crawl4AI 0.6.2\n",
      "[INIT].... → Crawl4AI 0.6.2\n",
      "[INIT].... → Crawl4AI 0.6.2\n",
      "[FETCH]... ↓ https://www.essex.ac.uk/courses/PR00954/1/PhD-Occupational-Therapy                                   | ✓ | ⏱: 22.61s\n",
      "[SCRAPE].. ◆ https://www.essex.ac.uk/courses/PR00954/1/PhD-Occupational-Therapy                                   | ✓ | ⏱: 0.39s\n",
      "[COMPLETE] ● https://www.essex.ac.uk/courses/PR00954/1/PhD-Occupational-Therapy                                   | ✓ | ⏱: 25.08s\n",
      "[FETCH]... ↓ https://www.essex.ac.uk/courses/UG00318/2/BSc-Occupational-Therapy                                   | ✓ | ⏱: 49.00s\n",
      "[SCRAPE].. ◆ https://www.essex.ac.uk/courses/UG00318/2/BSc-Occupational-Therapy                                   | ✓ | ⏱: 0.29s\n",
      "[COMPLETE] ● https://www.essex.ac.uk/courses/UG00318/2/BSc-Occupational-Therapy                                   | ✓ | ⏱: 51.31s\n"
     ]
    },
    {
     "data": {
      "application/vnd.jupyter.widget-view+json": {
       "model_id": "1f1c9c28fc2a47b89e230762702f5e2c",
       "version_major": 2,
       "version_minor": 0
      },
      "text/plain": [
       "images:PhD-Occupational-Therapy-1:   0%|          | 0/10 [00:00<?, ?it/s]"
      ]
     },
     "metadata": {},
     "output_type": "display_data"
    },
    {
     "data": {
      "application/vnd.jupyter.widget-view+json": {
       "model_id": "d5a581de37db42c5a05f3b079635cf3f",
       "version_major": 2,
       "version_minor": 0
      },
      "text/plain": [
       "images:BSc-Occupational-Therapy-2:   0%|          | 0/10 [00:00<?, ?it/s]"
      ]
     },
     "metadata": {},
     "output_type": "display_data"
    },
    {
     "name": "stdout",
     "output_type": "stream",
     "text": [
      "[FETCH]... ↓ https://www.essex.ac.uk/courses/PG00697/1/MSc-Occupational-Therapy-Pre-Registration                  | ✓ | ⏱: 39.95s\n",
      "[SCRAPE].. ◆ https://www.essex.ac.uk/courses/PG00697/1/MSc-Occupational-Therapy-Pre-Registration                  | ✓ | ⏱: 0.26s\n",
      "[COMPLETE] ● https://www.essex.ac.uk/courses/PG00697/1/MSc-Occupational-Therapy-Pre-Registration                  | ✓ | ⏱: 41.84s\n",
      "[INIT].... → Crawl4AI 0.6.2\n",
      "[INIT].... → Crawl4AI 0.6.2\n"
     ]
    },
    {
     "data": {
      "application/vnd.jupyter.widget-view+json": {
       "model_id": "60cf471571f442eb93e73399089f5649",
       "version_major": 2,
       "version_minor": 0
      },
      "text/plain": [
       "images:MSc-Occupational-Therapy-Pre-Registration-1:   0%|          | 0/10 [00:00<?, ?it/s]"
      ]
     },
     "metadata": {},
     "output_type": "display_data"
    },
    {
     "name": "stdout",
     "output_type": "stream",
     "text": [
      "[INIT].... → Crawl4AI 0.6.2\n",
      "[FETCH]... ↓ https://www.essex.ac.uk/courses/PR00954/2/MPhil-Occupational-Therapy                                 | ✓ | ⏱: 39.36s\n",
      "[SCRAPE].. ◆ https://www.essex.ac.uk/courses/PR00954/2/MPhil-Occupational-Therapy                                 | ✓ | ⏱: 0.28s\n",
      "[COMPLETE] ● https://www.essex.ac.uk/courses/PR00954/2/MPhil-Occupational-Therapy                                 | ✓ | ⏱: 41.35s\n",
      "[FETCH]... ↓ https://www.essex.ac.uk/courses/UG00334/1/BA-Philosophy-Politics-and-Economics                       | ✓ | ⏱: 20.41s\n",
      "[SCRAPE].. ◆ https://www.essex.ac.uk/courses/UG00334/1/BA-Philosophy-Politics-and-Economics                       | ✓ | ⏱: 0.47s\n",
      "[COMPLETE] ● https://www.essex.ac.uk/courses/UG00334/1/BA-Philosophy-Politics-and-Economics                       | ✓ | ⏱: 22.36s\n"
     ]
    },
    {
     "data": {
      "application/vnd.jupyter.widget-view+json": {
       "model_id": "6cf6588682c64c4dbf808d41b8522111",
       "version_major": 2,
       "version_minor": 0
      },
      "text/plain": [
       "images:MPhil-Occupational-Therapy-2:   0%|          | 0/10 [00:00<?, ?it/s]"
      ]
     },
     "metadata": {},
     "output_type": "display_data"
    },
    {
     "data": {
      "application/vnd.jupyter.widget-view+json": {
       "model_id": "867268b330be421a868f2cb2a81df7db",
       "version_major": 2,
       "version_minor": 0
      },
      "text/plain": [
       "images:BA-Philosophy-Politics-and-Economics-1:   0%|          | 0/10 [00:00<?, ?it/s]"
      ]
     },
     "metadata": {},
     "output_type": "display_data"
    },
    {
     "name": "stdout",
     "output_type": "stream",
     "text": [
      "[INIT].... → Crawl4AI 0.6.2\n",
      "[INIT].... → Crawl4AI 0.6.2\n",
      "[FETCH]... ↓ https://www.essex.ac.uk/courses/PG01534/1/MA-Western-Marxism-and-Translation                         | ✓ | ⏱: 30.21s\n",
      "[SCRAPE].. ◆ https://www.essex.ac.uk/courses/PG01534/1/MA-Western-Marxism-and-Translation                         | ✓ | ⏱: 0.33s\n",
      "[COMPLETE] ● https://www.essex.ac.uk/courses/PG01534/1/MA-Western-Marxism-and-Translation                         | ✓ | ⏱: 32.35s\n",
      "[FETCH]... ↓ https://www.essex.ac.uk/courses/PG00706/1/MA-Philosophy                                              | ✓ | ⏱: 32.65s\n",
      "[SCRAPE].. ◆ https://www.essex.ac.uk/courses/PG00706/1/MA-Philosophy                                              | ✓ | ⏱: 0.31s\n",
      "[COMPLETE] ● https://www.essex.ac.uk/courses/PG00706/1/MA-Philosophy                                              | ✓ | ⏱: 34.45s\n"
     ]
    },
    {
     "data": {
      "application/vnd.jupyter.widget-view+json": {
       "model_id": "edb5eb28859148d38b9b094bcb9023cf",
       "version_major": 2,
       "version_minor": 0
      },
      "text/plain": [
       "images:MA-Western-Marxism-and-Translation-1:   0%|          | 0/10 [00:00<?, ?it/s]"
      ]
     },
     "metadata": {},
     "output_type": "display_data"
    },
    {
     "data": {
      "application/vnd.jupyter.widget-view+json": {
       "model_id": "140f799d02e545c2ab63dc7cb45ebd6d",
       "version_major": 2,
       "version_minor": 0
      },
      "text/plain": [
       "images:MA-Philosophy-1:   0%|          | 0/10 [00:00<?, ?it/s]"
      ]
     },
     "metadata": {},
     "output_type": "display_data"
    },
    {
     "name": "stdout",
     "output_type": "stream",
     "text": [
      "[INIT].... → Crawl4AI 0.6.2\n",
      "[INIT].... → Crawl4AI 0.6.2\n",
      "[FETCH]... ↓ https://www.essex.ac.uk/courses/UG01567/1/BA-Philosophy-Ethics-and-Sustainability                    | ✓ | ⏱: 33.80s\n",
      "[SCRAPE].. ◆ https://www.essex.ac.uk/courses/UG01567/1/BA-Philosophy-Ethics-and-Sustainability                    | ✓ | ⏱: 0.27s\n",
      "[COMPLETE] ● https://www.essex.ac.uk/courses/UG01567/1/BA-Philosophy-Ethics-and-Sustainability                    | ✓ | ⏱: 35.87s\n"
     ]
    },
    {
     "data": {
      "application/vnd.jupyter.widget-view+json": {
       "model_id": "35a3e6203fa54136a9d63a7ef6090807",
       "version_major": 2,
       "version_minor": 0
      },
      "text/plain": [
       "images:BA-Philosophy-Ethics-and-Sustainability-1:   0%|          | 0/10 [00:00<?, ?it/s]"
      ]
     },
     "metadata": {},
     "output_type": "display_data"
    },
    {
     "name": "stdout",
     "output_type": "stream",
     "text": [
      "[FETCH]... ↓ https://www.essex.ac.uk/courses/UG00087/1/BA-Continental-Philosophy                                  | ✓ | ⏱: 30.15s\n",
      "[SCRAPE].. ◆ https://www.essex.ac.uk/courses/UG00087/1/BA-Continental-Philosophy                                  | ✓ | ⏱: 0.34s\n",
      "[COMPLETE] ● https://www.essex.ac.uk/courses/UG00087/1/BA-Continental-Philosophy                                  | ✓ | ⏱: 32.39s\n",
      "[INIT].... → Crawl4AI 0.6.2\n",
      "[ERROR]... × https://www.essex.ac.uk...on-Occupational-Therapy  | Error: \n",
      "┌───────────────────────────────────────────────────────────────────────────────────────────────────────────────────────┐\n",
      "│ × Unexpected error in _crawl_web at line 731 in _crawl_web (../../../../../opt/anaconda3/lib/python3.12/site-         │\n",
      "│ packages/crawl4ai/async_crawler_strategy.py):                                                                         │\n",
      "│   Error: Failed on navigating ACS-GOTO:                                                                               │\n",
      "│   Page.goto: Timeout 60000ms exceeded.                                                                                │\n",
      "│   Call log:                                                                                                           │\n",
      "│   - navigating to \"https://www.essex.ac.uk/courses/PR00954/3/MSc-by-Dissertation-Occupational-Therapy\", waiting       │\n",
      "│ until \"domcontentloaded\"                                                                                              │\n",
      "│                                                                                                                       │\n",
      "│                                                                                                                       │\n",
      "│   Code context:                                                                                                       │\n",
      "│   726                       response = await page.goto(                                                               │\n",
      "│   727                           url, wait_until=config.wait_until, timeout=config.page_timeout                        │\n",
      "│   728                       )                                                                                         │\n",
      "│   729                       redirected_url = page.url                                                                 │\n",
      "│   730                   except Error as e:                                                                            │\n",
      "│   731 →                     raise RuntimeError(f\"Failed on navigating ACS-GOTO:\\n{str(e)}\")                           │\n",
      "│   732                                                                                                                 │\n",
      "│   733                   await self.execute_hook(                                                                      │\n",
      "│   734                       \"after_goto\", page, context=context, url=url, response=response, config=config            │\n",
      "│   735                   )                                                                                             │\n",
      "│   736                                                                                                                 │\n",
      "└───────────────────────────────────────────────────────────────────────────────────────────────────────────────────────┘\n",
      "\n",
      "[ERROR]... × https://www.essex.ac.uk...R00957/5/PhD-Philosophy  | Error: \n",
      "┌───────────────────────────────────────────────────────────────────────────────────────────────────────────────────────┐\n",
      "│ × Unexpected error in _crawl_web at line 731 in _crawl_web (../../../../../opt/anaconda3/lib/python3.12/site-         │\n",
      "│ packages/crawl4ai/async_crawler_strategy.py):                                                                         │\n",
      "│   Error: Failed on navigating ACS-GOTO:                                                                               │\n",
      "│   Page.goto: Timeout 60000ms exceeded.                                                                                │\n",
      "│   Call log:                                                                                                           │\n",
      "│   - navigating to \"https://www.essex.ac.uk/courses/PR00957/5/PhD-Philosophy\", waiting until \"domcontentloaded\"        │\n",
      "│                                                                                                                       │\n",
      "│                                                                                                                       │\n",
      "│   Code context:                                                                                                       │\n",
      "│   726                       response = await page.goto(                                                               │\n",
      "│   727                           url, wait_until=config.wait_until, timeout=config.page_timeout                        │\n",
      "│   728                       )                                                                                         │\n",
      "│   729                       redirected_url = page.url                                                                 │\n",
      "│   730                   except Error as e:                                                                            │\n",
      "│   731 →                     raise RuntimeError(f\"Failed on navigating ACS-GOTO:\\n{str(e)}\")                           │\n",
      "│   732                                                                                                                 │\n",
      "│   733                   await self.execute_hook(                                                                      │\n",
      "│   734                       \"after_goto\", page, context=context, url=url, response=response, config=config            │\n",
      "│   735                   )                                                                                             │\n",
      "│   736                                                                                                                 │\n",
      "└───────────────────────────────────────────────────────────────────────────────────────────────────────────────────────┘\n",
      "\n"
     ]
    },
    {
     "data": {
      "application/vnd.jupyter.widget-view+json": {
       "model_id": "bb30d8966b204966ae4fab787cdd0dd8",
       "version_major": 2,
       "version_minor": 0
      },
      "text/plain": [
       "images:BA-Continental-Philosophy-1:   0%|          | 0/10 [00:00<?, ?it/s]"
      ]
     },
     "metadata": {},
     "output_type": "display_data"
    },
    {
     "name": "stdout",
     "output_type": "stream",
     "text": [
      "⚠️  MSc-by-Dissertation-Occupational-Therapy-3: Unexpected error in _crawl_web at line 731 in _crawl_web (../../../../../opt/anaconda3/lib/python3.12/site-packages/crawl4ai/async_crawler_strategy.py):\n",
      "Error: Failed on navigating ACS-GOTO:\n",
      "Page.goto: Timeout 60000ms exceeded.\n",
      "Call log:\n",
      "  - navigating to \"https://www.essex.ac.uk/courses/PR00954/3/MSc-by-Dissertation-Occupational-Therapy\", waiting until \"domcontentloaded\"\n",
      "\n",
      "\n",
      "Code context:\n",
      " 726                       response = await page.goto(\n",
      " 727                           url, wait_until=config.wait_until, timeout=config.page_timeout\n",
      " 728                       )\n",
      " 729                       redirected_url = page.url\n",
      " 730                   except Error as e:\n",
      " 731 →                     raise RuntimeError(f\"Failed on navigating ACS-GOTO:\\n{str(e)}\")\n",
      " 732   \n",
      " 733                   await self.execute_hook(\n",
      " 734                       \"after_goto\", page, context=context, url=url, response=response, config=config\n",
      " 735                   )\n",
      " 736   \n",
      "⚠️  PhD-Philosophy-5: Unexpected error in _crawl_web at line 731 in _crawl_web (../../../../../opt/anaconda3/lib/python3.12/site-packages/crawl4ai/async_crawler_strategy.py):\n",
      "Error: Failed on navigating ACS-GOTO:\n",
      "Page.goto: Timeout 60000ms exceeded.\n",
      "Call log:\n",
      "  - navigating to \"https://www.essex.ac.uk/courses/PR00957/5/PhD-Philosophy\", waiting until \"domcontentloaded\"\n",
      "\n",
      "\n",
      "Code context:\n",
      " 726                       response = await page.goto(\n",
      " 727                           url, wait_until=config.wait_until, timeout=config.page_timeout\n",
      " 728                       )\n",
      " 729                       redirected_url = page.url\n",
      " 730                   except Error as e:\n",
      " 731 →                     raise RuntimeError(f\"Failed on navigating ACS-GOTO:\\n{str(e)}\")\n",
      " 732   \n",
      " 733                   await self.execute_hook(\n",
      " 734                       \"after_goto\", page, context=context, url=url, response=response, config=config\n",
      " 735                   )\n",
      " 736   \n",
      "[INIT].... → Crawl4AI 0.6.2\n",
      "[INIT].... → Crawl4AI 0.6.2\n",
      "[INIT].... → Crawl4AI 0.6.2\n",
      "[FETCH]... ↓ https://www.essex.ac.uk/courses/PG00706/3/Graduate-Diploma-Philosophy                                | ✓ | ⏱: 81.27s\n",
      "[SCRAPE].. ◆ https://www.essex.ac.uk/courses/PG00706/3/Graduate-Diploma-Philosophy                                | ✓ | ⏱: 0.28s\n",
      "[COMPLETE] ● https://www.essex.ac.uk/courses/PG00706/3/Graduate-Diploma-Philosophy                                | ✓ | ⏱: 83.23s\n",
      "[FETCH]... ↓ https://www.essex.ac.uk/courses/UG00321/2/BA-Philosophy                                              | ✓ | ⏱: 53.57s\n",
      "[SCRAPE].. ◆ https://www.essex.ac.uk/courses/UG00321/2/BA-Philosophy                                              | ✓ | ⏱: 0.31s\n",
      "[COMPLETE] ● https://www.essex.ac.uk/courses/UG00321/2/BA-Philosophy                                              | ✓ | ⏱: 55.57s\n",
      "[FETCH]... ↓ https://www.essex.ac.uk/courses/UG00321/1/BA-Philosophy                                              | ✓ | ⏱: 77.30s\n",
      "[SCRAPE].. ◆ https://www.essex.ac.uk/courses/UG00321/1/BA-Philosophy                                              | ✓ | ⏱: 0.57s\n",
      "[COMPLETE] ● https://www.essex.ac.uk/courses/UG00321/1/BA-Philosophy                                              | ✓ | ⏱: 79.68s\n"
     ]
    },
    {
     "data": {
      "application/vnd.jupyter.widget-view+json": {
       "model_id": "44df97100870466fb6c5dec69ec5acbe",
       "version_major": 2,
       "version_minor": 0
      },
      "text/plain": [
       "images:Graduate-Diploma-Philosophy-3:   0%|          | 0/10 [00:00<?, ?it/s]"
      ]
     },
     "metadata": {},
     "output_type": "display_data"
    },
    {
     "name": "stdout",
     "output_type": "stream",
     "text": [
      "⚠ cannot fetch https://www.essex.ac.uk/-/media/header-images/subjects/philosophy_ptait_20180313_7374-(1).jpg?mh=512&mw=512&hash=991C301D451DC15789BE838A5956FA16: HTTPSConnectionPool(host='www.essex.ac.uk', port=443): Max retries exceeded with url: /-/media/header-images/subjects/philosophy_ptait_20180313_7374-(1).jpg?mh=512&mw=512&hash=991C301D451DC15789BE838A5956FA16 (Caused by ConnectTimeoutError(<urllib3.connection.HTTPSConnection object at 0x152e6a8a0>, 'Connection to www.essex.ac.uk timed out. (connect timeout=30)'))\n"
     ]
    },
    {
     "data": {
      "application/vnd.jupyter.widget-view+json": {
       "model_id": "22173ffd88d040beabc308d91ece2b6a",
       "version_major": 2,
       "version_minor": 0
      },
      "text/plain": [
       "images:BA-Philosophy-2:   0%|          | 0/10 [00:00<?, ?it/s]"
      ]
     },
     "metadata": {},
     "output_type": "display_data"
    },
    {
     "name": "stdout",
     "output_type": "stream",
     "text": [
      "[ERROR]... × https://www.essex.ac.uk...0957/2/MPhil-Philosophy  | Error: \n",
      "┌───────────────────────────────────────────────────────────────────────────────────────────────────────────────────────┐\n",
      "│ × Unexpected error in _crawl_web at line 731 in _crawl_web (../../../../../opt/anaconda3/lib/python3.12/site-         │\n",
      "│ packages/crawl4ai/async_crawler_strategy.py):                                                                         │\n",
      "│   Error: Failed on navigating ACS-GOTO:                                                                               │\n",
      "│   Page.goto: Timeout 60000ms exceeded.                                                                                │\n",
      "│   Call log:                                                                                                           │\n",
      "│   - navigating to \"https://www.essex.ac.uk/courses/PR00957/2/MPhil-Philosophy\", waiting until \"domcontentloaded\"      │\n",
      "│                                                                                                                       │\n",
      "│                                                                                                                       │\n",
      "│   Code context:                                                                                                       │\n",
      "│   726                       response = await page.goto(                                                               │\n",
      "│   727                           url, wait_until=config.wait_until, timeout=config.page_timeout                        │\n",
      "│   728                       )                                                                                         │\n",
      "│   729                       redirected_url = page.url                                                                 │\n",
      "│   730                   except Error as e:                                                                            │\n",
      "│   731 →                     raise RuntimeError(f\"Failed on navigating ACS-GOTO:\\n{str(e)}\")                           │\n",
      "│   732                                                                                                                 │\n",
      "│   733                   await self.execute_hook(                                                                      │\n",
      "│   734                       \"after_goto\", page, context=context, url=url, response=response, config=config            │\n",
      "│   735                   )                                                                                             │\n",
      "│   736                                                                                                                 │\n",
      "└───────────────────────────────────────────────────────────────────────────────────────────────────────────────────────┘\n",
      "\n"
     ]
    },
    {
     "data": {
      "application/vnd.jupyter.widget-view+json": {
       "model_id": "dc2f213ef61543ddacac611155d394b1",
       "version_major": 2,
       "version_minor": 0
      },
      "text/plain": [
       "images:BA-Philosophy-1:   0%|          | 0/10 [00:00<?, ?it/s]"
      ]
     },
     "metadata": {},
     "output_type": "display_data"
    },
    {
     "name": "stdout",
     "output_type": "stream",
     "text": [
      "[INIT].... → Crawl4AI 0.6.2\n",
      "⚠️  MPhil-Philosophy-2: Unexpected error in _crawl_web at line 731 in _crawl_web (../../../../../opt/anaconda3/lib/python3.12/site-packages/crawl4ai/async_crawler_strategy.py):\n",
      "Error: Failed on navigating ACS-GOTO:\n",
      "Page.goto: Timeout 60000ms exceeded.\n",
      "Call log:\n",
      "  - navigating to \"https://www.essex.ac.uk/courses/PR00957/2/MPhil-Philosophy\", waiting until \"domcontentloaded\"\n",
      "\n",
      "\n",
      "Code context:\n",
      " 726                       response = await page.goto(\n",
      " 727                           url, wait_until=config.wait_until, timeout=config.page_timeout\n",
      " 728                       )\n",
      " 729                       redirected_url = page.url\n",
      " 730                   except Error as e:\n",
      " 731 →                     raise RuntimeError(f\"Failed on navigating ACS-GOTO:\\n{str(e)}\")\n",
      " 732   \n",
      " 733                   await self.execute_hook(\n",
      " 734                       \"after_goto\", page, context=context, url=url, response=response, config=config\n",
      " 735                   )\n",
      " 736   \n",
      "[INIT].... → Crawl4AI 0.6.2\n",
      "[INIT].... → Crawl4AI 0.6.2\n",
      "[ERROR]... × https://www.essex.ac.uk...Philosophy-and-Politics  | Error: \n",
      "┌───────────────────────────────────────────────────────────────────────────────────────────────────────────────────────┐\n",
      "│ × Unexpected error in _crawl_web at line 731 in _crawl_web (../../../../../opt/anaconda3/lib/python3.12/site-         │\n",
      "│ packages/crawl4ai/async_crawler_strategy.py):                                                                         │\n",
      "│   Error: Failed on navigating ACS-GOTO:                                                                               │\n",
      "│   Page.goto: Timeout 60000ms exceeded.                                                                                │\n",
      "│   Call log:                                                                                                           │\n",
      "│   - navigating to \"https://www.essex.ac.uk/courses/UG00330/1/BA-Philosophy-and-Politics\", waiting until               │\n",
      "│ \"domcontentloaded\"                                                                                                    │\n",
      "│                                                                                                                       │\n",
      "│                                                                                                                       │\n",
      "│   Code context:                                                                                                       │\n",
      "│   726                       response = await page.goto(                                                               │\n",
      "│   727                           url, wait_until=config.wait_until, timeout=config.page_timeout                        │\n",
      "│   728                       )                                                                                         │\n",
      "│   729                       redirected_url = page.url                                                                 │\n",
      "│   730                   except Error as e:                                                                            │\n",
      "│   731 →                     raise RuntimeError(f\"Failed on navigating ACS-GOTO:\\n{str(e)}\")                           │\n",
      "│   732                                                                                                                 │\n",
      "│   733                   await self.execute_hook(                                                                      │\n",
      "│   734                       \"after_goto\", page, context=context, url=url, response=response, config=config            │\n",
      "│   735                   )                                                                                             │\n",
      "│   736                                                                                                                 │\n",
      "└───────────────────────────────────────────────────────────────────────────────────────────────────────────────────────┘\n",
      "\n",
      "[ERROR]... × https://www.essex.ac.uk...phy-Religion-and-Ethics  | Error: \n",
      "┌───────────────────────────────────────────────────────────────────────────────────────────────────────────────────────┐\n",
      "│ × Unexpected error in _crawl_web at line 731 in _crawl_web (../../../../../opt/anaconda3/lib/python3.12/site-         │\n",
      "│ packages/crawl4ai/async_crawler_strategy.py):                                                                         │\n",
      "│   Error: Failed on navigating ACS-GOTO:                                                                               │\n",
      "│   Page.goto: Timeout 60000ms exceeded.                                                                                │\n",
      "│   Call log:                                                                                                           │\n",
      "│   - navigating to \"https://www.essex.ac.uk/courses/UG00335/1/BA-Philosophy-Religion-and-Ethics\", waiting until        │\n",
      "│ \"domcontentloaded\"                                                                                                    │\n",
      "│                                                                                                                       │\n",
      "│                                                                                                                       │\n",
      "│   Code context:                                                                                                       │\n",
      "│   726                       response = await page.goto(                                                               │\n",
      "│   727                           url, wait_until=config.wait_until, timeout=config.page_timeout                        │\n",
      "│   728                       )                                                                                         │\n",
      "│   729                       redirected_url = page.url                                                                 │\n",
      "│   730                   except Error as e:                                                                            │\n",
      "│   731 →                     raise RuntimeError(f\"Failed on navigating ACS-GOTO:\\n{str(e)}\")                           │\n",
      "│   732                                                                                                                 │\n",
      "│   733                   await self.execute_hook(                                                                      │\n",
      "│   734                       \"after_goto\", page, context=context, url=url, response=response, config=config            │\n",
      "│   735                   )                                                                                             │\n",
      "│   736                                                                                                                 │\n",
      "└───────────────────────────────────────────────────────────────────────────────────────────────────────────────────────┘\n",
      "\n",
      "[SCRAPE].. ◆ Some images failed to load within timeout\n",
      "[INIT].... → Crawl4AI 0.6.2\n",
      "⚠️  BA-Philosophy-and-Politics-1: Unexpected error in _crawl_web at line 731 in _crawl_web (../../../../../opt/anaconda3/lib/python3.12/site-packages/crawl4ai/async_crawler_strategy.py):\n",
      "Error: Failed on navigating ACS-GOTO:\n",
      "Page.goto: Timeout 60000ms exceeded.\n",
      "Call log:\n",
      "  - navigating to \"https://www.essex.ac.uk/courses/UG00330/1/BA-Philosophy-and-Politics\", waiting until \"domcontentloaded\"\n",
      "\n",
      "\n",
      "Code context:\n",
      " 726                       response = await page.goto(\n",
      " 727                           url, wait_until=config.wait_until, timeout=config.page_timeout\n",
      " 728                       )\n",
      " 729                       redirected_url = page.url\n",
      " 730                   except Error as e:\n",
      " 731 →                     raise RuntimeError(f\"Failed on navigating ACS-GOTO:\\n{str(e)}\")\n",
      " 732   \n",
      " 733                   await self.execute_hook(\n",
      " 734                       \"after_goto\", page, context=context, url=url, response=response, config=config\n",
      " 735                   )\n",
      " 736   \n",
      "⚠️  BA-Philosophy-Religion-and-Ethics-1: Unexpected error in _crawl_web at line 731 in _crawl_web (../../../../../opt/anaconda3/lib/python3.12/site-packages/crawl4ai/async_crawler_strategy.py):\n",
      "Error: Failed on navigating ACS-GOTO:\n",
      "Page.goto: Timeout 60000ms exceeded.\n",
      "Call log:\n",
      "  - navigating to \"https://www.essex.ac.uk/courses/UG00335/1/BA-Philosophy-Religion-and-Ethics\", waiting until \"domcontentloaded\"\n",
      "\n",
      "\n",
      "Code context:\n",
      " 726                       response = await page.goto(\n",
      " 727                           url, wait_until=config.wait_until, timeout=config.page_timeout\n",
      " 728                       )\n",
      " 729                       redirected_url = page.url\n",
      " 730                   except Error as e:\n",
      " 731 →                     raise RuntimeError(f\"Failed on navigating ACS-GOTO:\\n{str(e)}\")\n",
      " 732   \n",
      " 733                   await self.execute_hook(\n",
      " 734                       \"after_goto\", page, context=context, url=url, response=response, config=config\n",
      " 735                   )\n",
      " 736   \n",
      "[INIT].... → Crawl4AI 0.6.2\n",
      "[INIT].... → Crawl4AI 0.6.2\n",
      "[FETCH]... ↓ https://www.essex.ac.uk/courses/PR00957/4/MA-by-Dissertation-Philosophy                              | ✓ | ⏱: 108.49s\n",
      "[SCRAPE].. ◆ https://www.essex.ac.uk/courses/PR00957/4/MA-by-Dissertation-Philosophy                              | ✓ | ⏱: 0.25s\n",
      "[COMPLETE] ● https://www.essex.ac.uk/courses/PR00957/4/MA-by-Dissertation-Philosophy                              | ✓ | ⏱: 110.25s\n",
      "[FETCH]... ↓ https://www.essex.ac.uk/courses/UG00331/1/BA-Philosophy-and-Sociology                                | ✓ | ⏱: 145.26s\n",
      "[SCRAPE].. ◆ https://www.essex.ac.uk/courses/UG00331/1/BA-Philosophy-and-Sociology                                | ✓ | ⏱: 0.38s\n",
      "[COMPLETE] ● https://www.essex.ac.uk/courses/UG00331/1/BA-Philosophy-and-Sociology                                | ✓ | ⏱: 147.08s\n"
     ]
    },
    {
     "data": {
      "application/vnd.jupyter.widget-view+json": {
       "model_id": "de2e5e81040e4169a82476fd7b0e3324",
       "version_major": 2,
       "version_minor": 0
      },
      "text/plain": [
       "images:MA-by-Dissertation-Philosophy-4:   0%|          | 0/10 [00:00<?, ?it/s]"
      ]
     },
     "metadata": {},
     "output_type": "display_data"
    },
    {
     "data": {
      "application/vnd.jupyter.widget-view+json": {
       "model_id": "58ded6bb971a49c7b2944213c69b6be8",
       "version_major": 2,
       "version_minor": 0
      },
      "text/plain": [
       "images:BA-Philosophy-and-Sociology-1:   0%|          | 0/10 [00:00<?, ?it/s]"
      ]
     },
     "metadata": {},
     "output_type": "display_data"
    },
    {
     "name": "stdout",
     "output_type": "stream",
     "text": [
      "[INIT].... → Crawl4AI 0.6.2\n",
      "[SCRAPE].. ◆ Some images failed to load within timeout\n",
      "[SCRAPE].. ◆ Some images failed to load within timeout\n",
      "[INIT].... → Crawl4AI 0.6.2\n",
      "[SCRAPE].. ◆ Some images failed to load within timeout\n",
      "[SCRAPE].. ◆ Some images failed to load within timeout\n",
      "[SCRAPE].. ◆ Some images failed to load within timeout\n",
      "[FETCH]... ↓ https://www.essex.ac.uk/courses/PG01524/3/Postgr...uloskeletal-Assessment-and-Practice-Hand-Therapy  | ✓ | ⏱: 33.94s\n",
      "[SCRAPE].. ◆ https://www.essex.ac.uk/courses/PG01524/3/Postgr...uloskeletal-Assessment-and-Practice-Hand-Therapy  | ✓ | ⏱: 0.31s\n",
      "[COMPLETE] ● https://www.essex.ac.uk/courses/PG01524/3/Postgr...uloskeletal-Assessment-and-Practice-Hand-Therapy  | ✓ | ⏱: 36.33s\n",
      "[FETCH]... ↓ https://www.essex.ac.uk/courses/PG01543/1/MA-Social-and-Political-Thought                            | ✓ | ⏱: 70.31s\n",
      "[SCRAPE].. ◆ https://www.essex.ac.uk/courses/PG01543/1/MA-Social-and-Political-Thought                            | ✓ | ⏱: 0.36s\n",
      "[COMPLETE] ● https://www.essex.ac.uk/courses/PG01543/1/MA-Social-and-Political-Thought                            | ✓ | ⏱: 72.88s\n"
     ]
    },
    {
     "data": {
      "application/vnd.jupyter.widget-view+json": {
       "model_id": "bbd30a80f9344f49bcf06b795f696d2c",
       "version_major": 2,
       "version_minor": 0
      },
      "text/plain": [
       "images:Postgraduate-Certificate-Advanced-Musculoskeletal-Assessment-and-Practice-Hand-Therapy-3:   0%|        …"
      ]
     },
     "metadata": {},
     "output_type": "display_data"
    },
    {
     "data": {
      "application/vnd.jupyter.widget-view+json": {
       "model_id": "b210cd31c10b477e86a050c1a087f52c",
       "version_major": 2,
       "version_minor": 0
      },
      "text/plain": [
       "images:MA-Social-and-Political-Thought-1:   0%|          | 0/10 [00:00<?, ?it/s]"
      ]
     },
     "metadata": {},
     "output_type": "display_data"
    },
    {
     "name": "stdout",
     "output_type": "stream",
     "text": [
      "[FETCH]... ↓ https://www.essex.ac.uk/courses/PR00957/1/PhD-Philosophy                                             | ✓ | ⏱: 77.03s\n",
      "[SCRAPE].. ◆ https://www.essex.ac.uk/courses/PR00957/1/PhD-Philosophy                                             | ✓ | ⏱: 0.23s\n",
      "[COMPLETE] ● https://www.essex.ac.uk/courses/PR00957/1/PhD-Philosophy                                             | ✓ | ⏱: 78.97s\n",
      "[SCRAPE].. ◆ Some images failed to load within timeout\n",
      "[SCRAPE].. ◆ Some images failed to load within timeout\n",
      "[INIT].... → Crawl4AI 0.6.2\n",
      "[INIT].... → Crawl4AI 0.6.2\n"
     ]
    },
    {
     "data": {
      "application/vnd.jupyter.widget-view+json": {
       "model_id": "56a7e2380fe3444a842b638b78097350",
       "version_major": 2,
       "version_minor": 0
      },
      "text/plain": [
       "images:PhD-Philosophy-1:   0%|          | 0/10 [00:00<?, ?it/s]"
      ]
     },
     "metadata": {},
     "output_type": "display_data"
    },
    {
     "name": "stdout",
     "output_type": "stream",
     "text": [
      "[FETCH]... ↓ https://www.essex.ac.uk/courses/PR01344/1/PhD-Musculoskeletal-Practice                               | ✓ | ⏱: 56.42s\n",
      "[SCRAPE].. ◆ https://www.essex.ac.uk/courses/PR01344/1/PhD-Musculoskeletal-Practice                               | ✓ | ⏱: 0.26s\n",
      "[COMPLETE] ● https://www.essex.ac.uk/courses/PR01344/1/PhD-Musculoskeletal-Practice                               | ✓ | ⏱: 58.53s\n",
      "[FETCH]... ↓ https://www.essex.ac.uk/courses/UG00331/2/BA-Philosophy-and-Sociology                                | ✓ | ⏱: 90.21s\n",
      "[SCRAPE].. ◆ https://www.essex.ac.uk/courses/UG00331/2/BA-Philosophy-and-Sociology                                | ✓ | ⏱: 0.28s\n",
      "[COMPLETE] ● https://www.essex.ac.uk/courses/UG00331/2/BA-Philosophy-and-Sociology                                | ✓ | ⏱: 92.38s\n",
      "[INIT].... → Crawl4AI 0.6.2\n"
     ]
    },
    {
     "data": {
      "application/vnd.jupyter.widget-view+json": {
       "model_id": "ae33a0fdabd148ae81d3832a03c6527b",
       "version_major": 2,
       "version_minor": 0
      },
      "text/plain": [
       "images:PhD-Musculoskeletal-Practice-1:   0%|          | 0/10 [00:00<?, ?it/s]"
      ]
     },
     "metadata": {},
     "output_type": "display_data"
    },
    {
     "data": {
      "application/vnd.jupyter.widget-view+json": {
       "model_id": "37000e2a80cd4a54b98cfec9d9e5b665",
       "version_major": 2,
       "version_minor": 0
      },
      "text/plain": [
       "images:BA-Philosophy-and-Sociology-2:   0%|          | 0/10 [00:00<?, ?it/s]"
      ]
     },
     "metadata": {},
     "output_type": "display_data"
    },
    {
     "name": "stdout",
     "output_type": "stream",
     "text": [
      "[INIT].... → Crawl4AI 0.6.2\n",
      "[INIT].... → Crawl4AI 0.6.2\n",
      "[FETCH]... ↓ https://www.essex.ac.uk/courses/PG01609/1/MA-Western-Marxism                                         | ✓ | ⏱: 79.83s\n",
      "[SCRAPE].. ◆ https://www.essex.ac.uk/courses/PG01609/1/MA-Western-Marxism                                         | ✓ | ⏱: 0.25s\n",
      "[COMPLETE] ● https://www.essex.ac.uk/courses/PG01609/1/MA-Western-Marxism                                         | ✓ | ⏱: 81.70s\n",
      "[FETCH]... ↓ https://www.essex.ac.uk/courses/PG01500/3/Postgraduate-Certificate-Musculoskeletal-Practice          | ✓ | ⏱: 51.96s\n",
      "[SCRAPE].. ◆ https://www.essex.ac.uk/courses/PG01500/3/Postgraduate-Certificate-Musculoskeletal-Practice          | ✓ | ⏱: 0.32s\n",
      "[COMPLETE] ● https://www.essex.ac.uk/courses/PG01500/3/Postgraduate-Certificate-Musculoskeletal-Practice          | ✓ | ⏱: 54.03s\n",
      "[FETCH]... ↓ https://www.essex.ac.uk/courses/PG00438/1/MSc-Advanced-Musculoskeletal-Assessment-and-Practice       | ✓ | ⏱: 30.32s\n",
      "[SCRAPE].. ◆ https://www.essex.ac.uk/courses/PG00438/1/MSc-Advanced-Musculoskeletal-Assessment-and-Practice       | ✓ | ⏱: 0.25s\n",
      "[COMPLETE] ● https://www.essex.ac.uk/courses/PG00438/1/MSc-Advanced-Musculoskeletal-Assessment-and-Practice       | ✓ | ⏱: 32.02s\n",
      "[FETCH]... ↓ https://www.essex.ac.uk/courses/PR01344/2/MPhil-Musculoskeletal-Practice                             | ✓ | ⏱: 55.21s\n",
      "[SCRAPE].. ◆ https://www.essex.ac.uk/courses/PR01344/2/MPhil-Musculoskeletal-Practice                             | ✓ | ⏱: 0.20s\n",
      "[COMPLETE] ● https://www.essex.ac.uk/courses/PR01344/2/MPhil-Musculoskeletal-Practice                             | ✓ | ⏱: 56.94s\n"
     ]
    },
    {
     "data": {
      "application/vnd.jupyter.widget-view+json": {
       "model_id": "c90a53d2ff5440acab2ba3bdbfce11fc",
       "version_major": 2,
       "version_minor": 0
      },
      "text/plain": [
       "images:MA-Western-Marxism-1:   0%|          | 0/10 [00:00<?, ?it/s]"
      ]
     },
     "metadata": {},
     "output_type": "display_data"
    },
    {
     "data": {
      "application/vnd.jupyter.widget-view+json": {
       "model_id": "ad517131ca1b41e6931c801c5cf9c285",
       "version_major": 2,
       "version_minor": 0
      },
      "text/plain": [
       "images:MSc-Advanced-Musculoskeletal-Assessment-and-Practice-1:   0%|          | 0/10 [00:00<?, ?it/s]"
      ]
     },
     "metadata": {},
     "output_type": "display_data"
    },
    {
     "data": {
      "application/vnd.jupyter.widget-view+json": {
       "model_id": "ece3396bf0e24ce9bf354dccb3c62df8",
       "version_major": 2,
       "version_minor": 0
      },
      "text/plain": [
       "images:Postgraduate-Certificate-Musculoskeletal-Practice-3:   0%|          | 0/10 [00:00<?, ?it/s]"
      ]
     },
     "metadata": {},
     "output_type": "display_data"
    },
    {
     "data": {
      "application/vnd.jupyter.widget-view+json": {
       "model_id": "1f3b3c901b28487f9cc40dea709a3157",
       "version_major": 2,
       "version_minor": 0
      },
      "text/plain": [
       "images:MPhil-Musculoskeletal-Practice-2:   0%|          | 0/10 [00:00<?, ?it/s]"
      ]
     },
     "metadata": {},
     "output_type": "display_data"
    },
    {
     "name": "stdout",
     "output_type": "stream",
     "text": [
      "[INIT].... → Crawl4AI 0.6.2\n",
      "[INIT].... → Crawl4AI 0.6.2\n",
      "[INIT].... → Crawl4AI 0.6.2\n",
      "[INIT].... → Crawl4AI 0.6.2\n",
      "[FETCH]... ↓ https://www.essex.ac.uk/courses/PR00961/6/D-Physiotherapy-Physiotherapy                              | ✓ | ⏱: 76.70s\n",
      "[SCRAPE].. ◆ https://www.essex.ac.uk/courses/PR00961/6/D-Physiotherapy-Physiotherapy                              | ✓ | ⏱: 0.67s\n",
      "[COMPLETE] ● https://www.essex.ac.uk/courses/PR00961/6/D-Physiotherapy-Physiotherapy                              | ✓ | ⏱: 79.54s\n",
      "[FETCH]... ↓ https://www.essex.ac.uk/courses/PG01604/1/Postgr...International-Musculoskeletal-Ultrasound-Imaging  | ✓ | ⏱: 58.20s\n",
      "[SCRAPE].. ◆ https://www.essex.ac.uk/courses/PG01604/1/Postgr...International-Musculoskeletal-Ultrasound-Imaging  | ✓ | ⏱: 0.28s\n",
      "[COMPLETE] ● https://www.essex.ac.uk/courses/PG01604/1/Postgr...International-Musculoskeletal-Ultrasound-Imaging  | ✓ | ⏱: 60.44s\n",
      "[FETCH]... ↓ https://www.essex.ac.uk/courses/PR00961/1/PhD-Physiotherapy                                          | ✓ | ⏱: 73.64s\n",
      "[SCRAPE].. ◆ https://www.essex.ac.uk/courses/PR00961/1/PhD-Physiotherapy                                          | ✓ | ⏱: 0.39s\n",
      "[COMPLETE] ● https://www.essex.ac.uk/courses/PR00961/1/PhD-Physiotherapy                                          | ✓ | ⏱: 76.14s\n",
      "[FETCH]... ↓ https://www.essex.ac.uk/courses/PR00961/2/MPhil-Physiotherapy                                        | ✓ | ⏱: 64.55s\n",
      "[SCRAPE].. ◆ https://www.essex.ac.uk/courses/PR00961/2/MPhil-Physiotherapy                                        | ✓ | ⏱: 0.24s\n",
      "[COMPLETE] ● https://www.essex.ac.uk/courses/PR00961/2/MPhil-Physiotherapy                                        | ✓ | ⏱: 66.44s\n"
     ]
    },
    {
     "data": {
      "application/vnd.jupyter.widget-view+json": {
       "model_id": "eee56be823a64173ac74149b88c4b3a4",
       "version_major": 2,
       "version_minor": 0
      },
      "text/plain": [
       "images:D-Physiotherapy-Physiotherapy-6:   0%|          | 0/10 [00:00<?, ?it/s]"
      ]
     },
     "metadata": {},
     "output_type": "display_data"
    },
    {
     "data": {
      "application/vnd.jupyter.widget-view+json": {
       "model_id": "c1cc1749cc1a48a0874a07a686083c88",
       "version_major": 2,
       "version_minor": 0
      },
      "text/plain": [
       "images:Postgraduate-Certificate-International-Musculoskeletal-Ultrasound-Imaging-1:   0%|          | 0/10 [00:…"
      ]
     },
     "metadata": {},
     "output_type": "display_data"
    },
    {
     "data": {
      "application/vnd.jupyter.widget-view+json": {
       "model_id": "ce22cdad3f844f6887b96344a6b09914",
       "version_major": 2,
       "version_minor": 0
      },
      "text/plain": [
       "images:PhD-Physiotherapy-1:   0%|          | 0/10 [00:00<?, ?it/s]"
      ]
     },
     "metadata": {},
     "output_type": "display_data"
    },
    {
     "data": {
      "application/vnd.jupyter.widget-view+json": {
       "model_id": "ff70a4b07b194359b3d1a649f143eb4e",
       "version_major": 2,
       "version_minor": 0
      },
      "text/plain": [
       "images:MPhil-Physiotherapy-2:   0%|          | 0/10 [00:00<?, ?it/s]"
      ]
     },
     "metadata": {},
     "output_type": "display_data"
    },
    {
     "name": "stdout",
     "output_type": "stream",
     "text": [
      "[INIT].... → Crawl4AI 0.6.2\n",
      "[INIT].... → Crawl4AI 0.6.2\n",
      "[INIT].... → Crawl4AI 0.6.2\n",
      "[INIT].... → Crawl4AI 0.6.2\n",
      "[FETCH]... ↓ https://www.essex.ac.uk/courses/UG00361/4/BSc-Psychology                                             | ✓ | ⏱: 50.20s\n",
      "[SCRAPE].. ◆ https://www.essex.ac.uk/courses/UG00361/4/BSc-Psychology                                             | ✓ | ⏱: 0.30s\n",
      "[COMPLETE] ● https://www.essex.ac.uk/courses/UG00361/4/BSc-Psychology                                             | ✓ | ⏱: 52.09s\n"
     ]
    },
    {
     "data": {
      "application/vnd.jupyter.widget-view+json": {
       "model_id": "daa48744a9ff4b8992f87a2b392b213a",
       "version_major": 2,
       "version_minor": 0
      },
      "text/plain": [
       "images:BSc-Psychology-4:   0%|          | 0/10 [00:00<?, ?it/s]"
      ]
     },
     "metadata": {},
     "output_type": "display_data"
    },
    {
     "name": "stdout",
     "output_type": "stream",
     "text": [
      "[FETCH]... ↓ https://www.essex.ac.uk/courses/PG01524/2/Postgr...uloskeletal-Assessment-and-Practice-Hand-Therapy  | ✓ | ⏱: 58.53s\n",
      "[SCRAPE].. ◆ https://www.essex.ac.uk/courses/PG01524/2/Postgr...uloskeletal-Assessment-and-Practice-Hand-Therapy  | ✓ | ⏱: 0.56s\n",
      "[COMPLETE] ● https://www.essex.ac.uk/courses/PG01524/2/Postgr...uloskeletal-Assessment-and-Practice-Hand-Therapy  | ✓ | ⏱: 61.05s\n",
      "[FETCH]... ↓ https://www.essex.ac.uk/courses/PG01524/1/MSc-Ad...uloskeletal-Assessment-and-Practice-Hand-Therapy  | ✓ | ⏱: 60.64s\n",
      "[SCRAPE].. ◆ https://www.essex.ac.uk/courses/PG01524/1/MSc-Ad...uloskeletal-Assessment-and-Practice-Hand-Therapy  | ✓ | ⏱: 0.26s\n",
      "[COMPLETE] ● https://www.essex.ac.uk/courses/PG01524/1/MSc-Ad...uloskeletal-Assessment-and-Practice-Hand-Therapy  | ✓ | ⏱: 62.54s\n",
      "[INIT].... → Crawl4AI 0.6.2\n",
      "[FETCH]... ↓ https://www.essex.ac.uk/courses/PG01604/3/MSc-International-Musculoskeletal-Ultrasound-Imaging       | ✓ | ⏱: 66.12s\n",
      "[SCRAPE].. ◆ https://www.essex.ac.uk/courses/PG01604/3/MSc-International-Musculoskeletal-Ultrasound-Imaging       | ✓ | ⏱: 0.27s\n",
      "[COMPLETE] ● https://www.essex.ac.uk/courses/PG01604/3/MSc-International-Musculoskeletal-Ultrasound-Imaging       | ✓ | ⏱: 68.16s\n",
      "[SCRAPE].. ◆ Some images failed to load within timeout\n"
     ]
    },
    {
     "data": {
      "application/vnd.jupyter.widget-view+json": {
       "model_id": "c07c8cde014148c6888c9f6f2082fb2b",
       "version_major": 2,
       "version_minor": 0
      },
      "text/plain": [
       "images:MSc-Advanced-Musculoskeletal-Assessment-and-Practice-Hand-Therapy-1:   0%|          | 0/10 [00:00<?, ?i…"
      ]
     },
     "metadata": {},
     "output_type": "display_data"
    },
    {
     "data": {
      "application/vnd.jupyter.widget-view+json": {
       "model_id": "91fc99fda17c44579934592a432e5d84",
       "version_major": 2,
       "version_minor": 0
      },
      "text/plain": [
       "images:Postgraduate-Diploma-Advanced-Musculoskeletal-Assessment-and-Practice-Hand-Therapy-2:   0%|          | …"
      ]
     },
     "metadata": {},
     "output_type": "display_data"
    },
    {
     "data": {
      "application/vnd.jupyter.widget-view+json": {
       "model_id": "eb4a95f661c3436bbae143eb89c73c7a",
       "version_major": 2,
       "version_minor": 0
      },
      "text/plain": [
       "images:MSc-International-Musculoskeletal-Ultrasound-Imaging-3:   0%|          | 0/10 [00:00<?, ?it/s]"
      ]
     },
     "metadata": {},
     "output_type": "display_data"
    },
    {
     "name": "stdout",
     "output_type": "stream",
     "text": [
      "[FETCH]... ↓ https://www.essex.ac.uk/courses/PR00972/3/MSc-by-Dissertation-Psychology                             | ✓ | ⏱: 29.55s\n",
      "[SCRAPE].. ◆ https://www.essex.ac.uk/courses/PR00972/3/MSc-by-Dissertation-Psychology                             | ✓ | ⏱: 0.22s\n",
      "[COMPLETE] ● https://www.essex.ac.uk/courses/PR00972/3/MSc-by-Dissertation-Psychology                             | ✓ | ⏱: 31.11s\n"
     ]
    },
    {
     "data": {
      "application/vnd.jupyter.widget-view+json": {
       "model_id": "fca1c0d7865d4f79a40f90b2cf57171e",
       "version_major": 2,
       "version_minor": 0
      },
      "text/plain": [
       "images:MSc-by-Dissertation-Psychology-3:   0%|          | 0/10 [00:00<?, ?it/s]"
      ]
     },
     "metadata": {},
     "output_type": "display_data"
    },
    {
     "name": "stdout",
     "output_type": "stream",
     "text": [
      "[INIT].... → Crawl4AI 0.6.2\n",
      "[INIT].... → Crawl4AI 0.6.2\n",
      "[INIT].... → Crawl4AI 0.6.2\n",
      "[INIT].... → Crawl4AI 0.6.2\n",
      "[FETCH]... ↓ https://www.essex.ac.uk/courses/PR00972/5/PhD-Psychology                                             | ✓ | ⏱: 34.63s\n",
      "[SCRAPE].. ◆ https://www.essex.ac.uk/courses/PR00972/5/PhD-Psychology                                             | ✓ | ⏱: 0.34s\n",
      "[COMPLETE] ● https://www.essex.ac.uk/courses/PR00972/5/PhD-Psychology                                             | ✓ | ⏱: 37.34s\n",
      "[FETCH]... ↓ https://www.essex.ac.uk/courses/UG01035/1/BA-Psychosocial-and-Psychoanalytic-Studies                 | ✓ | ⏱: 39.35s\n",
      "[SCRAPE].. ◆ https://www.essex.ac.uk/courses/UG01035/1/BA-Psychosocial-and-Psychoanalytic-Studies                 | ✓ | ⏱: 0.48s\n",
      "[COMPLETE] ● https://www.essex.ac.uk/courses/UG01035/1/BA-Psychosocial-and-Psychoanalytic-Studies                 | ✓ | ⏱: 41.47s\n",
      "[FETCH]... ↓ https://www.essex.ac.uk/courses/UG00362/3/Integr...n-Science-Psychology-with-Cognitive-Neuroscience  | ✓ | ⏱: 41.86s\n",
      "[SCRAPE].. ◆ https://www.essex.ac.uk/courses/UG00362/3/Integr...n-Science-Psychology-with-Cognitive-Neuroscience  | ✓ | ⏱: 0.29s\n",
      "[COMPLETE] ● https://www.essex.ac.uk/courses/UG00362/3/Integr...n-Science-Psychology-with-Cognitive-Neuroscience  | ✓ | ⏱: 43.63s\n"
     ]
    },
    {
     "data": {
      "application/vnd.jupyter.widget-view+json": {
       "model_id": "a81608fe554649a9a4ffa70eb06f6a98",
       "version_major": 2,
       "version_minor": 0
      },
      "text/plain": [
       "images:PhD-Psychology-5:   0%|          | 0/10 [00:00<?, ?it/s]"
      ]
     },
     "metadata": {},
     "output_type": "display_data"
    },
    {
     "data": {
      "application/vnd.jupyter.widget-view+json": {
       "model_id": "c2555e0abd26451495071408a733b3b8",
       "version_major": 2,
       "version_minor": 0
      },
      "text/plain": [
       "images:BA-Psychosocial-and-Psychoanalytic-Studies-1:   0%|          | 0/10 [00:00<?, ?it/s]"
      ]
     },
     "metadata": {},
     "output_type": "display_data"
    },
    {
     "data": {
      "application/vnd.jupyter.widget-view+json": {
       "model_id": "725cbd96491e4bb7b003889e74bc80b2",
       "version_major": 2,
       "version_minor": 0
      },
      "text/plain": [
       "images:Integrated-Master-in-Science-Psychology-with-Cognitive-Neuroscience-3:   0%|          | 0/10 [00:00<?, …"
      ]
     },
     "metadata": {},
     "output_type": "display_data"
    },
    {
     "name": "stdout",
     "output_type": "stream",
     "text": [
      "[INIT].... → Crawl4AI 0.6.2\n",
      "[INIT].... → Crawl4AI 0.6.2\n",
      "[INIT].... → Crawl4AI 0.6.2\n",
      "[FETCH]... ↓ https://www.essex.ac.uk/courses/PR00972/1/PhD-Psychology                                             | ✓ | ⏱: 21.01s\n",
      "[SCRAPE].. ◆ https://www.essex.ac.uk/courses/PR00972/1/PhD-Psychology                                             | ✓ | ⏱: 0.37s\n",
      "[COMPLETE] ● https://www.essex.ac.uk/courses/PR00972/1/PhD-Psychology                                             | ✓ | ⏱: 23.42s\n",
      "[FETCH]... ↓ https://www.essex.ac.uk/courses/PG00755/1/MSc-Psychology                                             | ✓ | ⏱: 23.52s\n",
      "[SCRAPE].. ◆ https://www.essex.ac.uk/courses/PG00755/1/MSc-Psychology                                             | ✓ | ⏱: 0.26s\n",
      "[COMPLETE] ● https://www.essex.ac.uk/courses/PG00755/1/MSc-Psychology                                             | ✓ | ⏱: 25.40s\n"
     ]
    },
    {
     "data": {
      "application/vnd.jupyter.widget-view+json": {
       "model_id": "74a44d691e9640438037b4c13f66272f",
       "version_major": 2,
       "version_minor": 0
      },
      "text/plain": [
       "images:PhD-Psychology-1:   0%|          | 0/10 [00:00<?, ?it/s]"
      ]
     },
     "metadata": {},
     "output_type": "display_data"
    },
    {
     "name": "stdout",
     "output_type": "stream",
     "text": [
      "⚠ cannot fetch https://www.essex.ac.uk/-/media/header-images/subjects/psychology-subject-1200x600.jpg?mh=512&mw=512&hash=8F41FE452BAAA872432CE9F8CCC2B5DA: HTTPSConnectionPool(host='www.essex.ac.uk', port=443): Max retries exceeded with url: /-/media/header-images/subjects/psychology-subject-1200x600.jpg?mh=512&mw=512&hash=8F41FE452BAAA872432CE9F8CCC2B5DA (Caused by NewConnectionError('<urllib3.connection.HTTPSConnection object at 0x151b0b8c0>: Failed to establish a new connection: [Errno 61] Connection refused'))\n"
     ]
    },
    {
     "data": {
      "application/vnd.jupyter.widget-view+json": {
       "model_id": "482750520c4c45d690158d94e2aaa4e0",
       "version_major": 2,
       "version_minor": 0
      },
      "text/plain": [
       "images:MSc-Psychology-1:   0%|          | 0/10 [00:00<?, ?it/s]"
      ]
     },
     "metadata": {},
     "output_type": "display_data"
    },
    {
     "name": "stdout",
     "output_type": "stream",
     "text": [
      "⚠ cannot fetch https://www.essex.ac.uk/-/media/courses/whats-next-images/what-next-virtual-tours.jpg?mh=350&mw=350&hash=526839C2579F37EF2E923D3649E05A03: ('Connection aborted.', RemoteDisconnected('Remote end closed connection without response'))\n",
      "[ERROR]... × https://www.essex.ac.uk...h-Methods-in-Psychology  | Error: \n",
      "┌───────────────────────────────────────────────────────────────────────────────────────────────────────────────────────┐\n",
      "│ × Unexpected error in _crawl_web at line 731 in _crawl_web (../../../../../opt/anaconda3/lib/python3.12/site-         │\n",
      "│ packages/crawl4ai/async_crawler_strategy.py):                                                                         │\n",
      "│   Error: Failed on navigating ACS-GOTO:                                                                               │\n",
      "│   Page.goto: Timeout 60000ms exceeded.                                                                                │\n",
      "│   Call log:                                                                                                           │\n",
      "│   - navigating to \"https://www.essex.ac.uk/courses/PG00764/1/MSc-Research-Methods-in-Psychology\", waiting until       │\n",
      "│ \"domcontentloaded\"                                                                                                    │\n",
      "│                                                                                                                       │\n",
      "│                                                                                                                       │\n",
      "│   Code context:                                                                                                       │\n",
      "│   726                       response = await page.goto(                                                               │\n",
      "│   727                           url, wait_until=config.wait_until, timeout=config.page_timeout                        │\n",
      "│   728                       )                                                                                         │\n",
      "│   729                       redirected_url = page.url                                                                 │\n",
      "│   730                   except Error as e:                                                                            │\n",
      "│   731 →                     raise RuntimeError(f\"Failed on navigating ACS-GOTO:\\n{str(e)}\")                           │\n",
      "│   732                                                                                                                 │\n",
      "│   733                   await self.execute_hook(                                                                      │\n",
      "│   734                       \"after_goto\", page, context=context, url=url, response=response, config=config            │\n",
      "│   735                   )                                                                                             │\n",
      "│   736                                                                                                                 │\n",
      "└───────────────────────────────────────────────────────────────────────────────────────────────────────────────────────┘\n",
      "\n",
      "[INIT].... → Crawl4AI 0.6.2\n",
      "[INIT].... → Crawl4AI 0.6.2\n",
      "⚠️  MSc-Research-Methods-in-Psychology-1: Unexpected error in _crawl_web at line 731 in _crawl_web (../../../../../opt/anaconda3/lib/python3.12/site-packages/crawl4ai/async_crawler_strategy.py):\n",
      "Error: Failed on navigating ACS-GOTO:\n",
      "Page.goto: Timeout 60000ms exceeded.\n",
      "Call log:\n",
      "  - navigating to \"https://www.essex.ac.uk/courses/PG00764/1/MSc-Research-Methods-in-Psychology\", waiting until \"domcontentloaded\"\n",
      "\n",
      "\n",
      "Code context:\n",
      " 726                       response = await page.goto(\n",
      " 727                           url, wait_until=config.wait_until, timeout=config.page_timeout\n",
      " 728                       )\n",
      " 729                       redirected_url = page.url\n",
      " 730                   except Error as e:\n",
      " 731 →                     raise RuntimeError(f\"Failed on navigating ACS-GOTO:\\n{str(e)}\")\n",
      " 732   \n",
      " 733                   await self.execute_hook(\n",
      " 734                       \"after_goto\", page, context=context, url=url, response=response, config=config\n",
      " 735                   )\n",
      " 736   \n",
      "[FETCH]... ↓ https://www.essex.ac.uk/courses/PR00989/1/PhD-Sport-and-Exercise-Psychology                          | ✓ | ⏱: 95.53s\n",
      "[SCRAPE].. ◆ https://www.essex.ac.uk/courses/PR00989/1/PhD-Sport-and-Exercise-Psychology                          | ✓ | ⏱: 0.24s\n",
      "[COMPLETE] ● https://www.essex.ac.uk/courses/PR00989/1/PhD-Sport-and-Exercise-Psychology                          | ✓ | ⏱: 97.67s\n",
      "[FETCH]... ↓ https://www.essex.ac.uk/courses/PG01145/1/MSc-Cognitive-Neuroscience-and-Neuropsychology             | ✓ | ⏱: 100.95s\n",
      "[SCRAPE].. ◆ https://www.essex.ac.uk/courses/PG01145/1/MSc-Cognitive-Neuroscience-and-Neuropsychology             | ✓ | ⏱: 0.31s\n",
      "[COMPLETE] ● https://www.essex.ac.uk/courses/PG01145/1/MSc-Cognitive-Neuroscience-and-Neuropsychology             | ✓ | ⏱: 103.11s\n"
     ]
    },
    {
     "data": {
      "application/vnd.jupyter.widget-view+json": {
       "model_id": "cb85f48a71354e46877adf51b01e624b",
       "version_major": 2,
       "version_minor": 0
      },
      "text/plain": [
       "images:PhD-Sport-and-Exercise-Psychology-1:   0%|          | 0/10 [00:00<?, ?it/s]"
      ]
     },
     "metadata": {},
     "output_type": "display_data"
    },
    {
     "data": {
      "application/vnd.jupyter.widget-view+json": {
       "model_id": "c6dcf3b93e8f4451a10671c1b4b49dd7",
       "version_major": 2,
       "version_minor": 0
      },
      "text/plain": [
       "images:MSc-Cognitive-Neuroscience-and-Neuropsychology-1:   0%|          | 0/10 [00:00<?, ?it/s]"
      ]
     },
     "metadata": {},
     "output_type": "display_data"
    },
    {
     "name": "stdout",
     "output_type": "stream",
     "text": [
      "[INIT].... → Crawl4AI 0.6.2\n",
      "[FETCH]... ↓ https://www.essex.ac.uk/courses/PR00972/4/PhD-Psychology                                             | ✓ | ⏱: 91.62s\n",
      "[SCRAPE].. ◆ https://www.essex.ac.uk/courses/PR00972/4/PhD-Psychology                                             | ✓ | ⏱: 0.30s\n",
      "[COMPLETE] ● https://www.essex.ac.uk/courses/PR00972/4/PhD-Psychology                                             | ✓ | ⏱: 93.93s\n",
      "[FETCH]... ↓ https://www.essex.ac.uk/courses/UG01533/1/BSc-Sport-and-Exercise-Psychology                          | ✓ | ⏱: 129.80s\n",
      "[SCRAPE].. ◆ https://www.essex.ac.uk/courses/UG01533/1/BSc-Sport-and-Exercise-Psychology                          | ✓ | ⏱: 0.43s\n",
      "[COMPLETE] ● https://www.essex.ac.uk/courses/UG01533/1/BSc-Sport-and-Exercise-Psychology                          | ✓ | ⏱: 131.96s\n",
      "[INIT].... → Crawl4AI 0.6.2\n",
      "[INIT].... → Crawl4AI 0.6.2\n"
     ]
    },
    {
     "data": {
      "application/vnd.jupyter.widget-view+json": {
       "model_id": "c8dca665c16b4c15832a2dd2396d3883",
       "version_major": 2,
       "version_minor": 0
      },
      "text/plain": [
       "images:PhD-Psychology-4:   0%|          | 0/10 [00:00<?, ?it/s]"
      ]
     },
     "metadata": {},
     "output_type": "display_data"
    },
    {
     "data": {
      "application/vnd.jupyter.widget-view+json": {
       "model_id": "3f64c10bb46c4d2ca174d8a914f7002f",
       "version_major": 2,
       "version_minor": 0
      },
      "text/plain": [
       "images:BSc-Sport-and-Exercise-Psychology-1:   0%|          | 0/10 [00:00<?, ?it/s]"
      ]
     },
     "metadata": {},
     "output_type": "display_data"
    },
    {
     "name": "stdout",
     "output_type": "stream",
     "text": [
      "[INIT].... → Crawl4AI 0.6.2\n",
      "[INIT].... → Crawl4AI 0.6.2\n",
      "[SCRAPE].. ◆ Some images failed to load within timeout\n",
      "[SCRAPE].. ◆ Some images failed to load within timeout\n",
      "[FETCH]... ↓ https://www.essex.ac.uk/courses/PG01146/1/MSc-Sport-and-Exercise-Psychology                          | ✓ | ⏱: 106.44s\n",
      "[SCRAPE].. ◆ https://www.essex.ac.uk/courses/PG01146/1/MSc-Sport-and-Exercise-Psychology                          | ✓ | ⏱: 0.27s\n",
      "[COMPLETE] ● https://www.essex.ac.uk/courses/PG01146/1/MSc-Sport-and-Exercise-Psychology                          | ✓ | ⏱: 108.98s\n"
     ]
    },
    {
     "data": {
      "application/vnd.jupyter.widget-view+json": {
       "model_id": "76db71215cdb43d2b97f0a2d57d9b1dc",
       "version_major": 2,
       "version_minor": 0
      },
      "text/plain": [
       "images:MSc-Sport-and-Exercise-Psychology-1:   0%|          | 0/10 [00:00<?, ?it/s]"
      ]
     },
     "metadata": {},
     "output_type": "display_data"
    },
    {
     "name": "stdout",
     "output_type": "stream",
     "text": [
      "[SCRAPE].. ◆ Some images failed to load within timeout\n",
      "[INIT].... → Crawl4AI 0.6.2\n",
      "[SCRAPE].. ◆ Some images failed to load within timeout\n",
      "[FETCH]... ↓ https://www.essex.ac.uk/courses/UG01300/1/BSc-Psychology-with-Economics                              | ✓ | ⏱: 45.31s\n",
      "[SCRAPE].. ◆ https://www.essex.ac.uk/courses/UG01300/1/BSc-Psychology-with-Economics                              | ✓ | ⏱: 0.30s\n",
      "[COMPLETE] ● https://www.essex.ac.uk/courses/UG01300/1/BSc-Psychology-with-Economics                              | ✓ | ⏱: 47.34s\n",
      "[FETCH]... ↓ https://www.essex.ac.uk/courses/UG01028/1/BA-Psychodynamic-Practice                                  | ✓ | ⏱: 49.46s\n",
      "[SCRAPE].. ◆ https://www.essex.ac.uk/courses/UG01028/1/BA-Psychodynamic-Practice                                  | ✓ | ⏱: 0.26s\n",
      "[COMPLETE] ● https://www.essex.ac.uk/courses/UG01028/1/BA-Psychodynamic-Practice                                  | ✓ | ⏱: 51.39s\n",
      "[FETCH]... ↓ https://www.essex.ac.uk/courses/UG00361/1/BA-Psychology                                              | ✓ | ⏱: 37.57s\n",
      "[SCRAPE].. ◆ https://www.essex.ac.uk/courses/UG00361/1/BA-Psychology                                              | ✓ | ⏱: 0.55s\n",
      "[COMPLETE] ● https://www.essex.ac.uk/courses/UG00361/1/BA-Psychology                                              | ✓ | ⏱: 39.85s\n"
     ]
    },
    {
     "data": {
      "application/vnd.jupyter.widget-view+json": {
       "model_id": "900561145d424465beaf8fb22574a48d",
       "version_major": 2,
       "version_minor": 0
      },
      "text/plain": [
       "images:BSc-Psychology-with-Economics-1:   0%|          | 0/10 [00:00<?, ?it/s]"
      ]
     },
     "metadata": {},
     "output_type": "display_data"
    },
    {
     "data": {
      "application/vnd.jupyter.widget-view+json": {
       "model_id": "8a3c81682f424e18a743fed784546d2a",
       "version_major": 2,
       "version_minor": 0
      },
      "text/plain": [
       "images:BA-Psychology-1:   0%|          | 0/10 [00:00<?, ?it/s]"
      ]
     },
     "metadata": {},
     "output_type": "display_data"
    },
    {
     "data": {
      "application/vnd.jupyter.widget-view+json": {
       "model_id": "3fcf3c3c0aa741a9b5ea8f94441e9c52",
       "version_major": 2,
       "version_minor": 0
      },
      "text/plain": [
       "images:BA-Psychodynamic-Practice-1:   0%|          | 0/10 [00:00<?, ?it/s]"
      ]
     },
     "metadata": {},
     "output_type": "display_data"
    },
    {
     "name": "stdout",
     "output_type": "stream",
     "text": [
      "[FETCH]... ↓ https://www.essex.ac.uk/courses/UG01035/2/BA-Psychosocial-and-Psychoanalytic-Studies                 | ✓ | ⏱: 50.38s\n",
      "[SCRAPE].. ◆ https://www.essex.ac.uk/courses/UG01035/2/BA-Psychosocial-and-Psychoanalytic-Studies                 | ✓ | ⏱: 0.32s\n",
      "[COMPLETE] ● https://www.essex.ac.uk/courses/UG01035/2/BA-Psychosocial-and-Psychoanalytic-Studies                 | ✓ | ⏱: 52.27s\n",
      "[SCRAPE].. ◆ Some images failed to load within timeout\n"
     ]
    },
    {
     "data": {
      "application/vnd.jupyter.widget-view+json": {
       "model_id": "6e90c8cffa444875899121d18c69e964",
       "version_major": 2,
       "version_minor": 0
      },
      "text/plain": [
       "images:BA-Psychosocial-and-Psychoanalytic-Studies-2:   0%|          | 0/10 [00:00<?, ?it/s]"
      ]
     },
     "metadata": {},
     "output_type": "display_data"
    },
    {
     "name": "stdout",
     "output_type": "stream",
     "text": [
      "[SCRAPE].. ◆ Some images failed to load within timeout\n",
      "[INIT].... → Crawl4AI 0.6.2\n",
      "[INIT].... → Crawl4AI 0.6.2\n",
      "[INIT].... → Crawl4AI 0.6.2\n",
      "[SCRAPE].. ◆ Some images failed to load within timeout\n",
      "[INIT].... → Crawl4AI 0.6.2\n",
      "[FETCH]... ↓ https://www.essex.ac.uk/courses/UG00362/1/BSc-Psychology-with-Cognitive-Neuroscience                 | ✓ | ⏱: 61.69s\n",
      "[SCRAPE].. ◆ https://www.essex.ac.uk/courses/UG00362/1/BSc-Psychology-with-Cognitive-Neuroscience                 | ✓ | ⏱: 0.60s\n",
      "[COMPLETE] ● https://www.essex.ac.uk/courses/UG00362/1/BSc-Psychology-with-Cognitive-Neuroscience                 | ✓ | ⏱: 64.31s\n"
     ]
    },
    {
     "data": {
      "application/vnd.jupyter.widget-view+json": {
       "model_id": "d9eb01abe85d4f59b657e4627acea2f8",
       "version_major": 2,
       "version_minor": 0
      },
      "text/plain": [
       "images:BSc-Psychology-with-Cognitive-Neuroscience-1:   0%|          | 0/10 [00:00<?, ?it/s]"
      ]
     },
     "metadata": {},
     "output_type": "display_data"
    },
    {
     "name": "stdout",
     "output_type": "stream",
     "text": [
      "[FETCH]... ↓ https://www.essex.ac.uk/courses/PR00864/1/PhD-Applied-Psychology                                     | ✓ | ⏱: 61.97s\n",
      "[SCRAPE].. ◆ https://www.essex.ac.uk/courses/PR00864/1/PhD-Applied-Psychology                                     | ✓ | ⏱: 0.19s\n",
      "[COMPLETE] ● https://www.essex.ac.uk/courses/PR00864/1/PhD-Applied-Psychology                                     | ✓ | ⏱: 63.92s\n",
      "[FETCH]... ↓ https://www.essex.ac.uk/courses/UG00361/2/BSc-Psychology                                             | ✓ | ⏱: 65.53s\n",
      "[SCRAPE].. ◆ https://www.essex.ac.uk/courses/UG00361/2/BSc-Psychology                                             | ✓ | ⏱: 0.29s\n",
      "[COMPLETE] ● https://www.essex.ac.uk/courses/UG00361/2/BSc-Psychology                                             | ✓ | ⏱: 67.55s\n",
      "[FETCH]... ↓ https://www.essex.ac.uk/courses/PR01394/4/PhD-Ps...-with-Cognitive-Neuroscience-and-Neuropsychology  | ✓ | ⏱: 52.11s\n",
      "[SCRAPE].. ◆ https://www.essex.ac.uk/courses/PR01394/4/PhD-Ps...-with-Cognitive-Neuroscience-and-Neuropsychology  | ✓ | ⏱: 0.31s\n",
      "[COMPLETE] ● https://www.essex.ac.uk/courses/PR01394/4/PhD-Ps...-with-Cognitive-Neuroscience-and-Neuropsychology  | ✓ | ⏱: 54.22s\n"
     ]
    },
    {
     "data": {
      "application/vnd.jupyter.widget-view+json": {
       "model_id": "556ff47f920f4dacb63305dba5ad9138",
       "version_major": 2,
       "version_minor": 0
      },
      "text/plain": [
       "images:PhD-Applied-Psychology-1:   0%|          | 0/10 [00:00<?, ?it/s]"
      ]
     },
     "metadata": {},
     "output_type": "display_data"
    },
    {
     "name": "stdout",
     "output_type": "stream",
     "text": [
      "[INIT].... → Crawl4AI 0.6.2\n"
     ]
    },
    {
     "data": {
      "application/vnd.jupyter.widget-view+json": {
       "model_id": "eda015f0aba3486695017959b969fb3f",
       "version_major": 2,
       "version_minor": 0
      },
      "text/plain": [
       "images:PhD-Psychology-with-Cognitive-Neuroscience-and-Neuropsychology-4:   0%|          | 0/10 [00:00<?, ?it/s…"
      ]
     },
     "metadata": {},
     "output_type": "display_data"
    },
    {
     "data": {
      "application/vnd.jupyter.widget-view+json": {
       "model_id": "e72b0ebb418341e78d4fe76aa5a8265a",
       "version_major": 2,
       "version_minor": 0
      },
      "text/plain": [
       "images:BSc-Psychology-2:   0%|          | 0/10 [00:00<?, ?it/s]"
      ]
     },
     "metadata": {},
     "output_type": "display_data"
    },
    {
     "name": "stdout",
     "output_type": "stream",
     "text": [
      "[SCRAPE].. ◆ Some images failed to load within timeout\n",
      "[FETCH]... ↓ https://www.essex.ac.uk/courses/PR00969/1/PhD-Psychoanalytic-Studies                                 | ✓ | ⏱: 27.36s\n",
      "[SCRAPE].. ◆ https://www.essex.ac.uk/courses/PR00969/1/PhD-Psychoanalytic-Studies                                 | ✓ | ⏱: 0.22s\n",
      "[COMPLETE] ● https://www.essex.ac.uk/courses/PR00969/1/PhD-Psychoanalytic-Studies                                 | ✓ | ⏱: 29.69s\n",
      "[INIT].... → Crawl4AI 0.6.2\n",
      "[INIT].... → Crawl4AI 0.6.2\n",
      "[INIT].... → Crawl4AI 0.6.2\n"
     ]
    },
    {
     "data": {
      "application/vnd.jupyter.widget-view+json": {
       "model_id": "28319487547043f3b4439678429138a1",
       "version_major": 2,
       "version_minor": 0
      },
      "text/plain": [
       "images:PhD-Psychoanalytic-Studies-1:   0%|          | 0/10 [00:00<?, ?it/s]"
      ]
     },
     "metadata": {},
     "output_type": "display_data"
    },
    {
     "name": "stdout",
     "output_type": "stream",
     "text": [
      "[INIT].... → Crawl4AI 0.6.2\n",
      "[FETCH]... ↓ https://www.essex.ac.uk/courses/PR01458/1/Professional-Doctorate-Psychodynamic-Counselling           | ✓ | ⏱: 35.86s\n",
      "[SCRAPE].. ◆ https://www.essex.ac.uk/courses/PR01458/1/Professional-Doctorate-Psychodynamic-Counselling           | ✓ | ⏱: 0.24s\n",
      "[COMPLETE] ● https://www.essex.ac.uk/courses/PR01458/1/Professional-Doctorate-Psychodynamic-Counselling           | ✓ | ⏱: 38.22s\n",
      "[FETCH]... ↓ https://www.essex.ac.uk/courses/PR00864/2/MPhil-Applied-Psychology                                   | ✓ | ⏱: 40.24s\n",
      "[SCRAPE].. ◆ https://www.essex.ac.uk/courses/PR00864/2/MPhil-Applied-Psychology                                   | ✓ | ⏱: 0.30s\n",
      "[COMPLETE] ● https://www.essex.ac.uk/courses/PR00864/2/MPhil-Applied-Psychology                                   | ✓ | ⏱: 42.72s\n",
      "[FETCH]... ↓ https://www.essex.ac.uk/courses/UG00413/3/FdA-Th...utic-Communication-and-Therapeutic-Organisations  | ✓ | ⏱: 20.84s\n",
      "[SCRAPE].. ◆ https://www.essex.ac.uk/courses/UG00413/3/FdA-Th...utic-Communication-and-Therapeutic-Organisations  | ✓ | ⏱: 0.26s\n",
      "[COMPLETE] ● https://www.essex.ac.uk/courses/UG00413/3/FdA-Th...utic-Communication-and-Therapeutic-Organisations  | ✓ | ⏱: 23.33s\n"
     ]
    },
    {
     "data": {
      "application/vnd.jupyter.widget-view+json": {
       "model_id": "4f8f431ceee84cf8be5fcd5190e9831c",
       "version_major": 2,
       "version_minor": 0
      },
      "text/plain": [
       "images:MPhil-Applied-Psychology-2:   0%|          | 0/10 [00:00<?, ?it/s]"
      ]
     },
     "metadata": {},
     "output_type": "display_data"
    },
    {
     "data": {
      "application/vnd.jupyter.widget-view+json": {
       "model_id": "c9cc6c3a70a143938cb6801329f88c89",
       "version_major": 2,
       "version_minor": 0
      },
      "text/plain": [
       "images:Professional-Doctorate-Psychodynamic-Counselling-1:   0%|          | 0/10 [00:00<?, ?it/s]"
      ]
     },
     "metadata": {},
     "output_type": "display_data"
    },
    {
     "data": {
      "application/vnd.jupyter.widget-view+json": {
       "model_id": "0d70ddbd87514de98fee0094e818cf3c",
       "version_major": 2,
       "version_minor": 0
      },
      "text/plain": [
       "images:FdA-Therapeutic-Communication-and-Therapeutic-Organisations-3:   0%|          | 0/9 [00:00<?, ?it/s]"
      ]
     },
     "metadata": {},
     "output_type": "display_data"
    },
    {
     "name": "stdout",
     "output_type": "stream",
     "text": [
      "[INIT].... → Crawl4AI 0.6.2\n",
      "[INIT].... → Crawl4AI 0.6.2\n",
      "[FETCH]... ↓ https://www.essex.ac.uk/courses/PG00749/1/Graduate-Diploma-Psychodynamic-Approaches                  | ✓ | ⏱: 76.35s\n",
      "[SCRAPE].. ◆ https://www.essex.ac.uk/courses/PG00749/1/Graduate-Diploma-Psychodynamic-Approaches                  | ✓ | ⏱: 0.29s\n",
      "[COMPLETE] ● https://www.essex.ac.uk/courses/PG00749/1/Graduate-Diploma-Psychodynamic-Approaches                  | ✓ | ⏱: 78.61s\n",
      "[INIT].... → Crawl4AI 0.6.2\n"
     ]
    },
    {
     "data": {
      "application/vnd.jupyter.widget-view+json": {
       "model_id": "70f5a5d413e34f51823490deced0caae",
       "version_major": 2,
       "version_minor": 0
      },
      "text/plain": [
       "images:Graduate-Diploma-Psychodynamic-Approaches-1:   0%|          | 0/10 [00:00<?, ?it/s]"
      ]
     },
     "metadata": {},
     "output_type": "display_data"
    },
    {
     "name": "stdout",
     "output_type": "stream",
     "text": [
      "[INIT].... → Crawl4AI 0.6.2\n",
      "[FETCH]... ↓ https://www.essex.ac.uk/courses/UG00413/2/BA-Therapeutic-Communication-and-Therapeutic-Organisations | ✓ | ⏱: 62.79s\n",
      "[SCRAPE].. ◆ https://www.essex.ac.uk/courses/UG00413/2/BA-Therapeutic-Communication-and-Therapeutic-Organisations | ✓ | ⏱: 0.28s\n",
      "[COMPLETE] ● https://www.essex.ac.uk/courses/UG00413/2/BA-Therapeutic-Communication-and-Therapeutic-Organisations | ✓ | ⏱: 64.95s\n",
      "[FETCH]... ↓ https://www.essex.ac.uk/courses/PG01503/1/MA-Gender-and-Sexuality-Studies                            | ✓ | ⏱: 65.50s\n",
      "[SCRAPE].. ◆ https://www.essex.ac.uk/courses/PG01503/1/MA-Gender-and-Sexuality-Studies                            | ✓ | ⏱: 0.48s\n",
      "[COMPLETE] ● https://www.essex.ac.uk/courses/PG01503/1/MA-Gender-and-Sexuality-Studies                            | ✓ | ⏱: 67.65s\n",
      "[FETCH]... ↓ https://www.essex.ac.uk/courses/PG00647/3/MA-Jungian-and-Post-Jungian-Studies                        | ✓ | ⏱: 63.93s\n",
      "[SCRAPE].. ◆ https://www.essex.ac.uk/courses/PG00647/3/MA-Jungian-and-Post-Jungian-Studies                        | ✓ | ⏱: 0.23s\n",
      "[COMPLETE] ● https://www.essex.ac.uk/courses/PG00647/3/MA-Jungian-and-Post-Jungian-Studies                        | ✓ | ⏱: 65.76s\n"
     ]
    },
    {
     "data": {
      "application/vnd.jupyter.widget-view+json": {
       "model_id": "731872b25539439bb760721a4d771b85",
       "version_major": 2,
       "version_minor": 0
      },
      "text/plain": [
       "images:BA-Therapeutic-Communication-and-Therapeutic-Organisations-2:   0%|          | 0/10 [00:00<?, ?it/s]"
      ]
     },
     "metadata": {},
     "output_type": "display_data"
    },
    {
     "data": {
      "application/vnd.jupyter.widget-view+json": {
       "model_id": "df525cc335fa4fd984b1cc14e6be876c",
       "version_major": 2,
       "version_minor": 0
      },
      "text/plain": [
       "images:MA-Gender-and-Sexuality-Studies-1:   0%|          | 0/12 [00:00<?, ?it/s]"
      ]
     },
     "metadata": {},
     "output_type": "display_data"
    },
    {
     "data": {
      "application/vnd.jupyter.widget-view+json": {
       "model_id": "e7a243b98c3c4d06914b797e77c74488",
       "version_major": 2,
       "version_minor": 0
      },
      "text/plain": [
       "images:MA-Jungian-and-Post-Jungian-Studies-3:   0%|          | 0/9 [00:00<?, ?it/s]"
      ]
     },
     "metadata": {},
     "output_type": "display_data"
    },
    {
     "name": "stdout",
     "output_type": "stream",
     "text": [
      "[INIT].... → Crawl4AI 0.6.2\n",
      "[INIT].... → Crawl4AI 0.6.2\n",
      "[INIT].... → Crawl4AI 0.6.2\n",
      "[FETCH]... ↓ https://www.essex.ac.uk/courses/PG00747/1/MA-Psychoanalytic-Studies                                  | ✓ | ⏱: 42.21s\n",
      "[SCRAPE].. ◆ https://www.essex.ac.uk/courses/PG00747/1/MA-Psychoanalytic-Studies                                  | ✓ | ⏱: 0.26s\n",
      "[COMPLETE] ● https://www.essex.ac.uk/courses/PG00747/1/MA-Psychoanalytic-Studies                                  | ✓ | ⏱: 44.84s\n"
     ]
    },
    {
     "data": {
      "application/vnd.jupyter.widget-view+json": {
       "model_id": "c1fb840fa3734203b9feb48f41774d01",
       "version_major": 2,
       "version_minor": 0
      },
      "text/plain": [
       "images:MA-Psychoanalytic-Studies-1:   0%|          | 0/10 [00:00<?, ?it/s]"
      ]
     },
     "metadata": {},
     "output_type": "display_data"
    },
    {
     "name": "stdout",
     "output_type": "stream",
     "text": [
      "[FETCH]... ↓ https://www.essex.ac.uk/courses/PR01457/1/Professional-Doctorate-Analytical-Psychology               | ✓ | ⏱: 48.41s\n",
      "[SCRAPE].. ◆ https://www.essex.ac.uk/courses/PR01457/1/Professional-Doctorate-Analytical-Psychology               | ✓ | ⏱: 0.30s\n",
      "[COMPLETE] ● https://www.essex.ac.uk/courses/PR01457/1/Professional-Doctorate-Analytical-Psychology               | ✓ | ⏱: 51.07s\n",
      "[FETCH]... ↓ https://www.essex.ac.uk/courses/PR00968/1/Professional-Doctorate-Psychoanalytic-Psychotherapy        | ✓ | ⏱: 48.10s\n",
      "[SCRAPE].. ◆ https://www.essex.ac.uk/courses/PR00968/1/Professional-Doctorate-Psychoanalytic-Psychotherapy        | ✓ | ⏱: 0.25s\n",
      "[COMPLETE] ● https://www.essex.ac.uk/courses/PR00968/1/Professional-Doctorate-Psychoanalytic-Psychotherapy        | ✓ | ⏱: 50.44s\n"
     ]
    },
    {
     "data": {
      "application/vnd.jupyter.widget-view+json": {
       "model_id": "dae36dd2a15f42c997b89983088d9721",
       "version_major": 2,
       "version_minor": 0
      },
      "text/plain": [
       "images:Professional-Doctorate-Analytical-Psychology-1:   0%|          | 0/10 [00:00<?, ?it/s]"
      ]
     },
     "metadata": {},
     "output_type": "display_data"
    },
    {
     "data": {
      "application/vnd.jupyter.widget-view+json": {
       "model_id": "40941b80cc8b4915a8d4fee2e883b645",
       "version_major": 2,
       "version_minor": 0
      },
      "text/plain": [
       "images:Professional-Doctorate-Psychoanalytic-Psychotherapy-1:   0%|          | 0/10 [00:00<?, ?it/s]"
      ]
     },
     "metadata": {},
     "output_type": "display_data"
    },
    {
     "name": "stdout",
     "output_type": "stream",
     "text": [
      "[INIT].... → Crawl4AI 0.6.2\n",
      "[FETCH]... ↓ https://www.essex.ac.uk/courses/PR00976/1/PhD-Refugee-Care                                           | ✓ | ⏱: 131.77s\n",
      "[SCRAPE].. ◆ https://www.essex.ac.uk/courses/PR00976/1/PhD-Refugee-Care                                           | ✓ | ⏱: 0.23s\n",
      "[COMPLETE] ● https://www.essex.ac.uk/courses/PR00976/1/PhD-Refugee-Care                                           | ✓ | ⏱: 134.08s\n",
      "[INIT].... → Crawl4AI 0.6.2\n",
      "[INIT].... → Crawl4AI 0.6.2\n"
     ]
    },
    {
     "data": {
      "application/vnd.jupyter.widget-view+json": {
       "model_id": "8b212e188db642efaa79bac4965b35fc",
       "version_major": 2,
       "version_minor": 0
      },
      "text/plain": [
       "images:PhD-Refugee-Care-1:   0%|          | 0/10 [00:00<?, ?it/s]"
      ]
     },
     "metadata": {},
     "output_type": "display_data"
    },
    {
     "name": "stdout",
     "output_type": "stream",
     "text": [
      "[FETCH]... ↓ https://www.essex.ac.uk/courses/PG00750/2/MA-Psychodynamic-Counselling-and-Psychotherapy             | ✓ | ⏱: 78.05s\n",
      "[SCRAPE].. ◆ https://www.essex.ac.uk/courses/PG00750/2/MA-Psychodynamic-Counselling-and-Psychotherapy             | ✓ | ⏱: 0.38s\n",
      "[COMPLETE] ● https://www.essex.ac.uk/courses/PG00750/2/MA-Psychodynamic-Counselling-and-Psychotherapy             | ✓ | ⏱: 80.29s\n"
     ]
    },
    {
     "data": {
      "application/vnd.jupyter.widget-view+json": {
       "model_id": "5d4abd06d2594d21a24ebc37981f4f8d",
       "version_major": 2,
       "version_minor": 0
      },
      "text/plain": [
       "images:MA-Psychodynamic-Counselling-and-Psychotherapy-2:   0%|          | 0/10 [00:00<?, ?it/s]"
      ]
     },
     "metadata": {},
     "output_type": "display_data"
    },
    {
     "name": "stdout",
     "output_type": "stream",
     "text": [
      "[INIT].... → Crawl4AI 0.6.2\n",
      "[FETCH]... ↓ https://www.essex.ac.uk/courses/PR00970/1/Professional-Doctorate-Psychodynamic-Psychotherapy         | ✓ | ⏱: 59.78s\n",
      "[SCRAPE].. ◆ https://www.essex.ac.uk/courses/PR00970/1/Professional-Doctorate-Psychodynamic-Psychotherapy         | ✓ | ⏱: 0.36s\n",
      "[COMPLETE] ● https://www.essex.ac.uk/courses/PR00970/1/Professional-Doctorate-Psychodynamic-Psychotherapy         | ✓ | ⏱: 61.87s\n",
      "[FETCH]... ↓ https://www.essex.ac.uk/courses/PG00647/1/MA-Jungian-and-Post-Jungian-Studies                        | ✓ | ⏱: 64.01s\n",
      "[SCRAPE].. ◆ https://www.essex.ac.uk/courses/PG00647/1/MA-Jungian-and-Post-Jungian-Studies                        | ✓ | ⏱: 0.27s\n",
      "[COMPLETE] ● https://www.essex.ac.uk/courses/PG00647/1/MA-Jungian-and-Post-Jungian-Studies                        | ✓ | ⏱: 66.06s\n",
      "[INIT].... → Crawl4AI 0.6.2\n"
     ]
    },
    {
     "data": {
      "application/vnd.jupyter.widget-view+json": {
       "model_id": "faa57c33db994cf49f2189fb263668fd",
       "version_major": 2,
       "version_minor": 0
      },
      "text/plain": [
       "images:Professional-Doctorate-Psychodynamic-Psychotherapy-1:   0%|          | 0/10 [00:00<?, ?it/s]"
      ]
     },
     "metadata": {},
     "output_type": "display_data"
    },
    {
     "data": {
      "application/vnd.jupyter.widget-view+json": {
       "model_id": "70557cda6e3b496a87a8b95b0f60ffc9",
       "version_major": 2,
       "version_minor": 0
      },
      "text/plain": [
       "images:MA-Jungian-and-Post-Jungian-Studies-1:   0%|          | 0/10 [00:00<?, ?it/s]"
      ]
     },
     "metadata": {},
     "output_type": "display_data"
    },
    {
     "name": "stdout",
     "output_type": "stream",
     "text": [
      "[INIT].... → Crawl4AI 0.6.2\n",
      "[INIT].... → Crawl4AI 0.6.2\n",
      "[FETCH]... ↓ https://www.essex.ac.uk/courses/PR00976/2/MA-by-Dissertation-Refugee-Care                            | ✓ | ⏱: 34.97s\n",
      "[SCRAPE].. ◆ https://www.essex.ac.uk/courses/PR00976/2/MA-by-Dissertation-Refugee-Care                            | ✓ | ⏱: 0.27s\n",
      "[COMPLETE] ● https://www.essex.ac.uk/courses/PR00976/2/MA-by-Dissertation-Refugee-Care                            | ✓ | ⏱: 37.18s\n"
     ]
    },
    {
     "data": {
      "application/vnd.jupyter.widget-view+json": {
       "model_id": "819ac6085efa4efeaa78396492aa367f",
       "version_major": 2,
       "version_minor": 0
      },
      "text/plain": [
       "images:MA-by-Dissertation-Refugee-Care-2:   0%|          | 0/10 [00:00<?, ?it/s]"
      ]
     },
     "metadata": {},
     "output_type": "display_data"
    },
    {
     "name": "stdout",
     "output_type": "stream",
     "text": [
      "[FETCH]... ↓ https://www.essex.ac.uk/courses/UG00413/1/FdA-Th...utic-Communication-and-Therapeutic-Organisations  | ✓ | ⏱: 39.87s\n",
      "[SCRAPE].. ◆ https://www.essex.ac.uk/courses/UG00413/1/FdA-Th...utic-Communication-and-Therapeutic-Organisations  | ✓ | ⏱: 0.31s\n",
      "[COMPLETE] ● https://www.essex.ac.uk/courses/UG00413/1/FdA-Th...utic-Communication-and-Therapeutic-Organisations  | ✓ | ⏱: 42.18s\n",
      "[FETCH]... ↓ https://www.essex.ac.uk/courses/PG00750/3/MA-Psychodynamic-Counselling-and-Psychotherapy             | ✓ | ⏱: 90.01s\n",
      "[SCRAPE].. ◆ https://www.essex.ac.uk/courses/PG00750/3/MA-Psychodynamic-Counselling-and-Psychotherapy             | ✓ | ⏱: 0.29s\n",
      "[COMPLETE] ● https://www.essex.ac.uk/courses/PG00750/3/MA-Psychodynamic-Counselling-and-Psychotherapy             | ✓ | ⏱: 92.13s\n",
      "[FETCH]... ↓ https://www.essex.ac.uk/courses/PG00763/1/MA-Refugee-Care                                            | ✓ | ⏱: 45.91s\n",
      "[SCRAPE].. ◆ https://www.essex.ac.uk/courses/PG00763/1/MA-Refugee-Care                                            | ✓ | ⏱: 0.27s\n",
      "[COMPLETE] ● https://www.essex.ac.uk/courses/PG00763/1/MA-Refugee-Care                                            | ✓ | ⏱: 48.48s\n",
      "[FETCH]... ↓ https://www.essex.ac.uk/courses/PG00763/3/MA-Refugee-Care                                            | ✓ | ⏱: 38.37s\n",
      "[SCRAPE].. ◆ https://www.essex.ac.uk/courses/PG00763/3/MA-Refugee-Care                                            | ✓ | ⏱: 0.49s\n",
      "[COMPLETE] ● https://www.essex.ac.uk/courses/PG00763/3/MA-Refugee-Care                                            | ✓ | ⏱: 40.68s\n",
      "[INIT].... → Crawl4AI 0.6.2\n"
     ]
    },
    {
     "data": {
      "application/vnd.jupyter.widget-view+json": {
       "model_id": "f23fe61636f14c199fcc5fbe168add48",
       "version_major": 2,
       "version_minor": 0
      },
      "text/plain": [
       "images:MA-Refugee-Care-1:   0%|          | 0/10 [00:00<?, ?it/s]"
      ]
     },
     "metadata": {},
     "output_type": "display_data"
    },
    {
     "data": {
      "application/vnd.jupyter.widget-view+json": {
       "model_id": "d8888bbca4a4414396401422793793fc",
       "version_major": 2,
       "version_minor": 0
      },
      "text/plain": [
       "images:MA-Psychodynamic-Counselling-and-Psychotherapy-3:   0%|          | 0/10 [00:00<?, ?it/s]"
      ]
     },
     "metadata": {},
     "output_type": "display_data"
    },
    {
     "data": {
      "application/vnd.jupyter.widget-view+json": {
       "model_id": "197df087607d4caea3fcb15312b30fd8",
       "version_major": 2,
       "version_minor": 0
      },
      "text/plain": [
       "images:FdA-Therapeutic-Communication-and-Therapeutic-Organisations-1:   0%|          | 0/10 [00:00<?, ?it/s]"
      ]
     },
     "metadata": {},
     "output_type": "display_data"
    },
    {
     "data": {
      "application/vnd.jupyter.widget-view+json": {
       "model_id": "35052d2f54df4b0da60476daf53c0ea3",
       "version_major": 2,
       "version_minor": 0
      },
      "text/plain": [
       "images:MA-Refugee-Care-3:   0%|          | 0/9 [00:00<?, ?it/s]"
      ]
     },
     "metadata": {},
     "output_type": "display_data"
    },
    {
     "name": "stdout",
     "output_type": "stream",
     "text": [
      "[INIT].... → Crawl4AI 0.6.2\n",
      "[INIT].... → Crawl4AI 0.6.2\n",
      "[INIT].... → Crawl4AI 0.6.2\n",
      "[INIT].... → Crawl4AI 0.6.2\n",
      "[FETCH]... ↓ https://www.essex.ac.uk/courses/PR01130/1/PhD-Social-Work                                            | ✓ | ⏱: 46.51s\n",
      "[SCRAPE].. ◆ https://www.essex.ac.uk/courses/PR01130/1/PhD-Social-Work                                            | ✓ | ⏱: 0.29s\n",
      "[COMPLETE] ● https://www.essex.ac.uk/courses/PR01130/1/PhD-Social-Work                                            | ✓ | ⏱: 49.12s\n",
      "[FETCH]... ↓ https://www.essex.ac.uk/courses/PR00977/1/Professional-Doctorate-Social-Care-Education               | ✓ | ⏱: 41.33s\n",
      "[SCRAPE].. ◆ https://www.essex.ac.uk/courses/PR00977/1/Professional-Doctorate-Social-Care-Education               | ✓ | ⏱: 0.37s\n",
      "[COMPLETE] ● https://www.essex.ac.uk/courses/PR00977/1/Professional-Doctorate-Social-Care-Education               | ✓ | ⏱: 44.32s\n",
      "[FETCH]... ↓ https://www.essex.ac.uk/courses/PR01130/2/MPhil-Social-Work                                          | ✓ | ⏱: 44.86s\n",
      "[SCRAPE].. ◆ https://www.essex.ac.uk/courses/PR01130/2/MPhil-Social-Work                                          | ✓ | ⏱: 0.26s\n",
      "[COMPLETE] ● https://www.essex.ac.uk/courses/PR01130/2/MPhil-Social-Work                                          | ✓ | ⏱: 47.28s\n"
     ]
    },
    {
     "data": {
      "application/vnd.jupyter.widget-view+json": {
       "model_id": "2dfffbf70f4043278726b7febb30583c",
       "version_major": 2,
       "version_minor": 0
      },
      "text/plain": [
       "images:PhD-Social-Work-1:   0%|          | 0/10 [00:00<?, ?it/s]"
      ]
     },
     "metadata": {},
     "output_type": "display_data"
    },
    {
     "data": {
      "application/vnd.jupyter.widget-view+json": {
       "model_id": "99972a9edb22432baba3c4716383c45e",
       "version_major": 2,
       "version_minor": 0
      },
      "text/plain": [
       "images:Professional-Doctorate-Social-Care-Education-1:   0%|          | 0/10 [00:00<?, ?it/s]"
      ]
     },
     "metadata": {},
     "output_type": "display_data"
    },
    {
     "data": {
      "application/vnd.jupyter.widget-view+json": {
       "model_id": "b0ccfa0ab6304ec19459ac9ea33419e2",
       "version_major": 2,
       "version_minor": 0
      },
      "text/plain": [
       "images:MPhil-Social-Work-2:   0%|          | 0/10 [00:00<?, ?it/s]"
      ]
     },
     "metadata": {},
     "output_type": "display_data"
    },
    {
     "name": "stdout",
     "output_type": "stream",
     "text": [
      "[INIT].... → Crawl4AI 0.6.2\n",
      "[INIT].... → Crawl4AI 0.6.2\n",
      "[FETCH]... ↓ https://www.essex.ac.uk/courses/PR00996/1/PhD-Survey-Methodology                                     | ✓ | ⏱: 24.05s\n",
      "[SCRAPE].. ◆ https://www.essex.ac.uk/courses/PR00996/1/PhD-Survey-Methodology                                     | ✓ | ⏱: 0.24s\n",
      "[COMPLETE] ● https://www.essex.ac.uk/courses/PR00996/1/PhD-Survey-Methodology                                     | ✓ | ⏱: 26.76s\n",
      "[INIT].... → Crawl4AI 0.6.2\n"
     ]
    },
    {
     "data": {
      "application/vnd.jupyter.widget-view+json": {
       "model_id": "49f7764b18434487b501cd5daa770b85",
       "version_major": 2,
       "version_minor": 0
      },
      "text/plain": [
       "images:PhD-Survey-Methodology-1:   0%|          | 0/10 [00:00<?, ?it/s]"
      ]
     },
     "metadata": {},
     "output_type": "display_data"
    },
    {
     "name": "stdout",
     "output_type": "stream",
     "text": [
      "[FETCH]... ↓ https://www.essex.ac.uk/courses/UG01420/2/BA-Social-Sciences                                         | ✓ | ⏱: 33.83s\n",
      "[SCRAPE].. ◆ https://www.essex.ac.uk/courses/UG01420/2/BA-Social-Sciences                                         | ✓ | ⏱: 0.40s\n",
      "[COMPLETE] ● https://www.essex.ac.uk/courses/UG01420/2/BA-Social-Sciences                                         | ✓ | ⏱: 36.68s\n",
      "[INIT].... → Crawl4AI 0.6.2\n",
      "[FETCH]... ↓ https://www.essex.ac.uk/courses/PR01130/3/MSc-by-Dissertation-Social-Work                            | ✓ | ⏱: 48.05s\n",
      "[SCRAPE].. ◆ https://www.essex.ac.uk/courses/PR01130/3/MSc-by-Dissertation-Social-Work                            | ✓ | ⏱: 0.44s\n",
      "[COMPLETE] ● https://www.essex.ac.uk/courses/PR01130/3/MSc-by-Dissertation-Social-Work                            | ✓ | ⏱: 50.48s\n",
      "[FETCH]... ↓ https://www.essex.ac.uk/courses/PG01325/1/MA-Social-Work                                             | ✓ | ⏱: 41.81s\n",
      "[SCRAPE].. ◆ https://www.essex.ac.uk/courses/PG01325/1/MA-Social-Work                                             | ✓ | ⏱: 0.28s\n",
      "[COMPLETE] ● https://www.essex.ac.uk/courses/PG01325/1/MA-Social-Work                                             | ✓ | ⏱: 44.11s\n"
     ]
    },
    {
     "data": {
      "application/vnd.jupyter.widget-view+json": {
       "model_id": "6f9c18aab2fc41fbb0684f617495cab1",
       "version_major": 2,
       "version_minor": 0
      },
      "text/plain": [
       "images:BA-Social-Sciences-2:   0%|          | 0/10 [00:00<?, ?it/s]"
      ]
     },
     "metadata": {},
     "output_type": "display_data"
    },
    {
     "data": {
      "application/vnd.jupyter.widget-view+json": {
       "model_id": "8df5963568bc4e9ba2b12f973121c381",
       "version_major": 2,
       "version_minor": 0
      },
      "text/plain": [
       "images:MSc-by-Dissertation-Social-Work-3:   0%|          | 0/10 [00:00<?, ?it/s]"
      ]
     },
     "metadata": {},
     "output_type": "display_data"
    },
    {
     "data": {
      "application/vnd.jupyter.widget-view+json": {
       "model_id": "32a48818a9384ca6a8662473f14f5628",
       "version_major": 2,
       "version_minor": 0
      },
      "text/plain": [
       "images:MA-Social-Work-1:   0%|          | 0/10 [00:00<?, ?it/s]"
      ]
     },
     "metadata": {},
     "output_type": "display_data"
    },
    {
     "name": "stdout",
     "output_type": "stream",
     "text": [
      "[INIT].... → Crawl4AI 0.6.2\n",
      "[INIT].... → Crawl4AI 0.6.2\n",
      "[INIT].... → Crawl4AI 0.6.2\n",
      "[SCRAPE].. ◆ Some images failed to load within timeout\n",
      "[FETCH]... ↓ https://www.essex.ac.uk/courses/UG01522/1/BA-Sociology-and-Health                                    | ✓ | ⏱: 58.69s\n",
      "[SCRAPE].. ◆ https://www.essex.ac.uk/courses/UG01522/1/BA-Sociology-and-Health                                    | ✓ | ⏱: 0.29s\n",
      "[COMPLETE] ● https://www.essex.ac.uk/courses/UG01522/1/BA-Sociology-and-Health                                    | ✓ | ⏱: 61.06s\n"
     ]
    },
    {
     "data": {
      "application/vnd.jupyter.widget-view+json": {
       "model_id": "f3f3a871368846e3b1000b408e6617a5",
       "version_major": 2,
       "version_minor": 0
      },
      "text/plain": [
       "images:BA-Sociology-and-Health-1:   0%|          | 0/10 [00:00<?, ?it/s]"
      ]
     },
     "metadata": {},
     "output_type": "display_data"
    },
    {
     "name": "stdout",
     "output_type": "stream",
     "text": [
      "[FETCH]... ↓ https://www.essex.ac.uk/courses/PG01140/2/MSc-Migration-Studies                                      | ✓ | ⏱: 26.77s\n",
      "[SCRAPE].. ◆ https://www.essex.ac.uk/courses/PG01140/2/MSc-Migration-Studies                                      | ✓ | ⏱: 0.36s\n",
      "[COMPLETE] ● https://www.essex.ac.uk/courses/PG01140/2/MSc-Migration-Studies                                      | ✓ | ⏱: 29.61s\n",
      "[INIT].... → Crawl4AI 0.6.2\n"
     ]
    },
    {
     "data": {
      "application/vnd.jupyter.widget-view+json": {
       "model_id": "9616f2b879394bb6a6977181996976eb",
       "version_major": 2,
       "version_minor": 0
      },
      "text/plain": [
       "images:MSc-Migration-Studies-2:   0%|          | 0/10 [00:00<?, ?it/s]"
      ]
     },
     "metadata": {},
     "output_type": "display_data"
    },
    {
     "name": "stdout",
     "output_type": "stream",
     "text": [
      "[SCRAPE].. ◆ Some images failed to load within timeout\n",
      "[INIT].... → Crawl4AI 0.6.2\n",
      "[FETCH]... ↓ https://www.essex.ac.uk/courses/PR00984/3/PhD-Sociology                                              | ✓ | ⏱: 50.97s\n",
      "[SCRAPE].. ◆ https://www.essex.ac.uk/courses/PR00984/3/PhD-Sociology                                              | ✓ | ⏱: 0.27s\n",
      "[COMPLETE] ● https://www.essex.ac.uk/courses/PR00984/3/PhD-Sociology                                              | ✓ | ⏱: 53.18s\n",
      "[FETCH]... ↓ https://www.essex.ac.uk/courses/PR00996/2/MPhil-Survey-Methodology                                   | ✓ | ⏱: 49.86s\n",
      "[SCRAPE].. ◆ https://www.essex.ac.uk/courses/PR00996/2/MPhil-Survey-Methodology                                   | ✓ | ⏱: 0.24s\n",
      "[COMPLETE] ● https://www.essex.ac.uk/courses/PR00996/2/MPhil-Survey-Methodology                                   | ✓ | ⏱: 51.94s\n",
      "[FETCH]... ↓ https://www.essex.ac.uk/courses/PG00813/1/MSc-Survey-Methods-for-Social-Research                     | ✓ | ⏱: 58.23s\n",
      "[SCRAPE].. ◆ https://www.essex.ac.uk/courses/PG00813/1/MSc-Survey-Methods-for-Social-Research                     | ✓ | ⏱: 0.29s\n",
      "[COMPLETE] ● https://www.essex.ac.uk/courses/PG00813/1/MSc-Survey-Methods-for-Social-Research                     | ✓ | ⏱: 60.55s\n"
     ]
    },
    {
     "data": {
      "application/vnd.jupyter.widget-view+json": {
       "model_id": "733e4adbd33245548e41745e6a447435",
       "version_major": 2,
       "version_minor": 0
      },
      "text/plain": [
       "images:PhD-Sociology-3:   0%|          | 0/10 [00:00<?, ?it/s]"
      ]
     },
     "metadata": {},
     "output_type": "display_data"
    },
    {
     "data": {
      "application/vnd.jupyter.widget-view+json": {
       "model_id": "733c72ded3a4415a8e66b1bb118fbd7e",
       "version_major": 2,
       "version_minor": 0
      },
      "text/plain": [
       "images:MPhil-Survey-Methodology-2:   0%|          | 0/10 [00:00<?, ?it/s]"
      ]
     },
     "metadata": {},
     "output_type": "display_data"
    },
    {
     "data": {
      "application/vnd.jupyter.widget-view+json": {
       "model_id": "b40c183c6c3246178742022d2b637b51",
       "version_major": 2,
       "version_minor": 0
      },
      "text/plain": [
       "images:MSc-Survey-Methods-for-Social-Research-1:   0%|          | 0/10 [00:00<?, ?it/s]"
      ]
     },
     "metadata": {},
     "output_type": "display_data"
    },
    {
     "name": "stdout",
     "output_type": "stream",
     "text": [
      "[INIT].... → Crawl4AI 0.6.2\n",
      "[SCRAPE].. ◆ Some images failed to load within timeout\n",
      "[INIT].... → Crawl4AI 0.6.2\n",
      "[INIT].... → Crawl4AI 0.6.2\n",
      "[FETCH]... ↓ https://www.essex.ac.uk/courses/PG01466/1/MA-Economics-with-Public-Policy                            | ✓ | ⏱: 39.20s\n",
      "[SCRAPE].. ◆ https://www.essex.ac.uk/courses/PG01466/1/MA-Economics-with-Public-Policy                            | ✓ | ⏱: 0.25s\n",
      "[COMPLETE] ● https://www.essex.ac.uk/courses/PG01466/1/MA-Economics-with-Public-Policy                            | ✓ | ⏱: 41.10s\n",
      "[FETCH]... ↓ https://www.essex.ac.uk/courses/PR00984/1/PhD-Sociology                                              | ✓ | ⏱: 44.42s\n",
      "[SCRAPE].. ◆ https://www.essex.ac.uk/courses/PR00984/1/PhD-Sociology                                              | ✓ | ⏱: 0.21s\n",
      "[COMPLETE] ● https://www.essex.ac.uk/courses/PR00984/1/PhD-Sociology                                              | ✓ | ⏱: 46.26s\n",
      "[FETCH]... ↓ https://www.essex.ac.uk/courses/PG01347/1/MSc-Economics-with-Data-Science                            | ✓ | ⏱: 45.83s\n",
      "[SCRAPE].. ◆ https://www.essex.ac.uk/courses/PG01347/1/MSc-Economics-with-Data-Science                            | ✓ | ⏱: 0.22s\n",
      "[COMPLETE] ● https://www.essex.ac.uk/courses/PG01347/1/MSc-Economics-with-Data-Science                            | ✓ | ⏱: 48.09s\n"
     ]
    },
    {
     "data": {
      "application/vnd.jupyter.widget-view+json": {
       "model_id": "17345d8fbee74c3bb31ecb72a91e9020",
       "version_major": 2,
       "version_minor": 0
      },
      "text/plain": [
       "images:MSc-Economics-with-Data-Science-1:   0%|          | 0/10 [00:00<?, ?it/s]"
      ]
     },
     "metadata": {},
     "output_type": "display_data"
    },
    {
     "data": {
      "application/vnd.jupyter.widget-view+json": {
       "model_id": "17a461bcebdf4a199325d5f13afc479e",
       "version_major": 2,
       "version_minor": 0
      },
      "text/plain": [
       "images:MA-Economics-with-Public-Policy-1:   0%|          | 0/10 [00:00<?, ?it/s]"
      ]
     },
     "metadata": {},
     "output_type": "display_data"
    },
    {
     "data": {
      "application/vnd.jupyter.widget-view+json": {
       "model_id": "cb7c3ca7c08a4a03ad4d70409e11ce34",
       "version_major": 2,
       "version_minor": 0
      },
      "text/plain": [
       "images:PhD-Sociology-1:   0%|          | 0/10 [00:00<?, ?it/s]"
      ]
     },
     "metadata": {},
     "output_type": "display_data"
    },
    {
     "name": "stdout",
     "output_type": "stream",
     "text": [
      "[FETCH]... ↓ https://www.essex.ac.uk/courses/UG01420/1/BA-Social-Sciences                                         | ✓ | ⏱: 36.95s\n",
      "[SCRAPE].. ◆ https://www.essex.ac.uk/courses/UG01420/1/BA-Social-Sciences                                         | ✓ | ⏱: 0.30s\n",
      "[COMPLETE] ● https://www.essex.ac.uk/courses/UG01420/1/BA-Social-Sciences                                         | ✓ | ⏱: 38.93s\n"
     ]
    },
    {
     "data": {
      "application/vnd.jupyter.widget-view+json": {
       "model_id": "ff74517a4d75460d9cf89e27f8922c2b",
       "version_major": 2,
       "version_minor": 0
      },
      "text/plain": [
       "images:BA-Social-Sciences-1:   0%|          | 0/10 [00:00<?, ?it/s]"
      ]
     },
     "metadata": {},
     "output_type": "display_data"
    },
    {
     "name": "stdout",
     "output_type": "stream",
     "text": [
      "[INIT].... → Crawl4AI 0.6.2\n",
      "[INIT].... → Crawl4AI 0.6.2\n",
      "[INIT].... → Crawl4AI 0.6.2\n",
      "[FETCH]... ↓ https://www.essex.ac.uk/courses/PG01140/1/MA-Migration-Studies                                       | ✓ | ⏱: 48.87s\n",
      "[SCRAPE].. ◆ https://www.essex.ac.uk/courses/PG01140/1/MA-Migration-Studies                                       | ✓ | ⏱: 0.25s\n",
      "[COMPLETE] ● https://www.essex.ac.uk/courses/PG01140/1/MA-Migration-Studies                                       | ✓ | ⏱: 50.73s\n"
     ]
    },
    {
     "data": {
      "application/vnd.jupyter.widget-view+json": {
       "model_id": "c6c9c7f461314bc080bc53bf3333a1bb",
       "version_major": 2,
       "version_minor": 0
      },
      "text/plain": [
       "images:MA-Migration-Studies-1:   0%|          | 0/10 [00:00<?, ?it/s]"
      ]
     },
     "metadata": {},
     "output_type": "display_data"
    },
    {
     "name": "stdout",
     "output_type": "stream",
     "text": [
      "[INIT].... → Crawl4AI 0.6.2\n",
      "[INIT].... → Crawl4AI 0.6.2\n",
      "[FETCH]... ↓ https://www.essex.ac.uk/courses/UG00378/1/BA-Sociology                                               | ✓ | ⏱: 37.28s\n",
      "[SCRAPE].. ◆ https://www.essex.ac.uk/courses/UG00378/1/BA-Sociology                                               | ✓ | ⏱: 0.32s\n",
      "[COMPLETE] ● https://www.essex.ac.uk/courses/UG00378/1/BA-Sociology                                               | ✓ | ⏱: 39.51s\n"
     ]
    },
    {
     "data": {
      "application/vnd.jupyter.widget-view+json": {
       "model_id": "2dcfe9266df9452481fa9e5e7fce63f2",
       "version_major": 2,
       "version_minor": 0
      },
      "text/plain": [
       "images:BA-Sociology-1:   0%|          | 0/10 [00:00<?, ?it/s]"
      ]
     },
     "metadata": {},
     "output_type": "display_data"
    },
    {
     "name": "stdout",
     "output_type": "stream",
     "text": [
      "[FETCH]... ↓ https://www.essex.ac.uk/courses/PG01379/1/Master-of-Public-Policy-The-Essex-MPP                      | ✓ | ⏱: 10.18s\n",
      "[SCRAPE].. ◆ https://www.essex.ac.uk/courses/PG01379/1/Master-of-Public-Policy-The-Essex-MPP                      | ✓ | ⏱: 0.47s\n",
      "[COMPLETE] ● https://www.essex.ac.uk/courses/PG01379/1/Master-of-Public-Policy-The-Essex-MPP                      | ✓ | ⏱: 12.23s\n",
      "[FETCH]... ↓ https://www.essex.ac.uk/courses/PR01387/1/PhD-Psychosocial-Studies                                   | ✓ | ⏱: 43.24s\n",
      "[SCRAPE].. ◆ https://www.essex.ac.uk/courses/PR01387/1/PhD-Psychosocial-Studies                                   | ✓ | ⏱: 0.20s\n",
      "[COMPLETE] ● https://www.essex.ac.uk/courses/PR01387/1/PhD-Psychosocial-Studies                                   | ✓ | ⏱: 45.59s\n",
      "[FETCH]... ↓ https://www.essex.ac.uk/courses/PG00782/1/MA-Sociological-Research-Methods                           | ✓ | ⏱: 47.08s\n",
      "[SCRAPE].. ◆ https://www.essex.ac.uk/courses/PG00782/1/MA-Sociological-Research-Methods                           | ✓ | ⏱: 0.28s\n",
      "[COMPLETE] ● https://www.essex.ac.uk/courses/PG00782/1/MA-Sociological-Research-Methods                           | ✓ | ⏱: 49.06s\n"
     ]
    },
    {
     "data": {
      "application/vnd.jupyter.widget-view+json": {
       "model_id": "08c07ef3da994a58a31773684ec567b2",
       "version_major": 2,
       "version_minor": 0
      },
      "text/plain": [
       "images:Master-of-Public-Policy-The-Essex-MPP-1:   0%|          | 0/10 [00:00<?, ?it/s]"
      ]
     },
     "metadata": {},
     "output_type": "display_data"
    },
    {
     "data": {
      "application/vnd.jupyter.widget-view+json": {
       "model_id": "630fecc896f740a6b5f19d6450f09b16",
       "version_major": 2,
       "version_minor": 0
      },
      "text/plain": [
       "images:PhD-Psychosocial-Studies-1:   0%|          | 0/10 [00:00<?, ?it/s]"
      ]
     },
     "metadata": {},
     "output_type": "display_data"
    },
    {
     "data": {
      "application/vnd.jupyter.widget-view+json": {
       "model_id": "a05dee13613f435683442c6c32cdddc1",
       "version_major": 2,
       "version_minor": 0
      },
      "text/plain": [
       "images:MA-Sociological-Research-Methods-1:   0%|          | 0/10 [00:00<?, ?it/s]"
      ]
     },
     "metadata": {},
     "output_type": "display_data"
    },
    {
     "name": "stdout",
     "output_type": "stream",
     "text": [
      "[INIT].... → Crawl4AI 0.6.2\n",
      "[INIT].... → Crawl4AI 0.6.2\n",
      "[INIT].... → Crawl4AI 0.6.2\n",
      "[INIT].... → Crawl4AI 0.6.2\n",
      "[FETCH]... ↓ https://www.essex.ac.uk/courses/UG00372/1/BA-Sociology-with-Social-Psychology                        | ✓ | ⏱: 36.07s\n",
      "[SCRAPE].. ◆ https://www.essex.ac.uk/courses/UG00372/1/BA-Sociology-with-Social-Psychology                        | ✓ | ⏱: 0.41s\n",
      "[COMPLETE] ● https://www.essex.ac.uk/courses/UG00372/1/BA-Sociology-with-Social-Psychology                        | ✓ | ⏱: 39.65s\n"
     ]
    },
    {
     "data": {
      "application/vnd.jupyter.widget-view+json": {
       "model_id": "958cf24626724c1fbd82409f55ac03e9",
       "version_major": 2,
       "version_minor": 0
      },
      "text/plain": [
       "images:BA-Sociology-with-Social-Psychology-1:   0%|          | 0/10 [00:00<?, ?it/s]"
      ]
     },
     "metadata": {},
     "output_type": "display_data"
    },
    {
     "name": "stdout",
     "output_type": "stream",
     "text": [
      "[FETCH]... ↓ https://www.essex.ac.uk/courses/UG00378/2/BA-Sociology                                               | ✓ | ⏱: 56.39s\n",
      "[SCRAPE].. ◆ https://www.essex.ac.uk/courses/UG00378/2/BA-Sociology                                               | ✓ | ⏱: 0.20s\n",
      "[COMPLETE] ● https://www.essex.ac.uk/courses/UG00378/2/BA-Sociology                                               | ✓ | ⏱: 58.42s\n",
      "[FETCH]... ↓ https://www.essex.ac.uk/courses/PR00984/5/PhD-Sociology                                              | ✓ | ⏱: 58.94s\n",
      "[SCRAPE].. ◆ https://www.essex.ac.uk/courses/PR00984/5/PhD-Sociology                                              | ✓ | ⏱: 0.27s\n",
      "[COMPLETE] ● https://www.essex.ac.uk/courses/PR00984/5/PhD-Sociology                                              | ✓ | ⏱: 61.16s\n",
      "[FETCH]... ↓ https://www.essex.ac.uk/courses/PG00783/1/MA-Sociology                                               | ✓ | ⏱: 61.80s\n",
      "[SCRAPE].. ◆ https://www.essex.ac.uk/courses/PG00783/1/MA-Sociology                                               | ✓ | ⏱: 0.47s\n",
      "[COMPLETE] ● https://www.essex.ac.uk/courses/PG00783/1/MA-Sociology                                               | ✓ | ⏱: 64.43s\n"
     ]
    },
    {
     "data": {
      "application/vnd.jupyter.widget-view+json": {
       "model_id": "a53cf1be9db94a7b83f280c9d7f606d8",
       "version_major": 2,
       "version_minor": 0
      },
      "text/plain": [
       "images:BA-Sociology-2:   0%|          | 0/10 [00:00<?, ?it/s]"
      ]
     },
     "metadata": {},
     "output_type": "display_data"
    },
    {
     "name": "stdout",
     "output_type": "stream",
     "text": [
      "[INIT].... → Crawl4AI 0.6.2\n"
     ]
    },
    {
     "data": {
      "application/vnd.jupyter.widget-view+json": {
       "model_id": "f75420fb45064db2ad8e7848666458be",
       "version_major": 2,
       "version_minor": 0
      },
      "text/plain": [
       "images:PhD-Sociology-5:   0%|          | 0/10 [00:00<?, ?it/s]"
      ]
     },
     "metadata": {},
     "output_type": "display_data"
    },
    {
     "data": {
      "application/vnd.jupyter.widget-view+json": {
       "model_id": "0a1e6f7f6d20437b90c17f817b51558a",
       "version_major": 2,
       "version_minor": 0
      },
      "text/plain": [
       "images:MA-Sociology-1:   0%|          | 0/10 [00:00<?, ?it/s]"
      ]
     },
     "metadata": {},
     "output_type": "display_data"
    },
    {
     "name": "stdout",
     "output_type": "stream",
     "text": [
      "[INIT].... → Crawl4AI 0.6.2\n",
      "[INIT].... → Crawl4AI 0.6.2\n",
      "[INIT].... → Crawl4AI 0.6.2\n",
      "[FETCH]... ↓ https://www.essex.ac.uk/courses/UG00289/1/BA-Media-and-Digital-Culture                               | ✓ | ⏱: 37.97s\n",
      "[SCRAPE].. ◆ https://www.essex.ac.uk/courses/UG00289/1/BA-Media-and-Digital-Culture                               | ✓ | ⏱: 0.32s\n",
      "[COMPLETE] ● https://www.essex.ac.uk/courses/UG00289/1/BA-Media-and-Digital-Culture                               | ✓ | ⏱: 40.74s\n",
      "[FETCH]... ↓ https://www.essex.ac.uk/courses/PR00987/2/MPhil-Speech-and-Language-Therapy                          | ✓ | ⏱: 39.82s\n",
      "[SCRAPE].. ◆ https://www.essex.ac.uk/courses/PR00987/2/MPhil-Speech-and-Language-Therapy                          | ✓ | ⏱: 0.23s\n",
      "[COMPLETE] ● https://www.essex.ac.uk/courses/PR00987/2/MPhil-Speech-and-Language-Therapy                          | ✓ | ⏱: 42.20s\n",
      "[FETCH]... ↓ https://www.essex.ac.uk/courses/UG00403/1/BSc-Sports-Therapy                                         | ✓ | ⏱: 42.79s\n",
      "[SCRAPE].. ◆ https://www.essex.ac.uk/courses/UG00403/1/BSc-Sports-Therapy                                         | ✓ | ⏱: 0.28s\n",
      "[COMPLETE] ● https://www.essex.ac.uk/courses/UG00403/1/BSc-Sports-Therapy                                         | ✓ | ⏱: 45.22s\n"
     ]
    },
    {
     "data": {
      "application/vnd.jupyter.widget-view+json": {
       "model_id": "a810ec355ccb4c608679300dd1e1da58",
       "version_major": 2,
       "version_minor": 0
      },
      "text/plain": [
       "images:BA-Media-and-Digital-Culture-1:   0%|          | 0/10 [00:00<?, ?it/s]"
      ]
     },
     "metadata": {},
     "output_type": "display_data"
    },
    {
     "data": {
      "application/vnd.jupyter.widget-view+json": {
       "model_id": "228b784659fb4f5f9165b911b0df9aa3",
       "version_major": 2,
       "version_minor": 0
      },
      "text/plain": [
       "images:BSc-Sports-Therapy-1:   0%|          | 0/10 [00:00<?, ?it/s]"
      ]
     },
     "metadata": {},
     "output_type": "display_data"
    },
    {
     "data": {
      "application/vnd.jupyter.widget-view+json": {
       "model_id": "5a507c5d90a44279857d17e7ac2bebb7",
       "version_major": 2,
       "version_minor": 0
      },
      "text/plain": [
       "images:MPhil-Speech-and-Language-Therapy-2:   0%|          | 0/10 [00:00<?, ?it/s]"
      ]
     },
     "metadata": {},
     "output_type": "display_data"
    },
    {
     "name": "stdout",
     "output_type": "stream",
     "text": [
      "[INIT].... → Crawl4AI 0.6.2\n",
      "[SCRAPE].. ◆ Some images failed to load within timeout\n",
      "[INIT].... → Crawl4AI 0.6.2\n",
      "[INIT].... → Crawl4AI 0.6.2\n",
      "[FETCH]... ↓ https://www.essex.ac.uk/courses/PR01312/2/MPhil-Health-and-Physical-Activity                         | ✓ | ⏱: 31.10s\n",
      "[SCRAPE].. ◆ https://www.essex.ac.uk/courses/PR01312/2/MPhil-Health-and-Physical-Activity                         | ✓ | ⏱: 0.23s\n",
      "[COMPLETE] ● https://www.essex.ac.uk/courses/PR01312/2/MPhil-Health-and-Physical-Activity                         | ✓ | ⏱: 32.97s\n",
      "[FETCH]... ↓ https://www.essex.ac.uk/courses/PR00987/3/Professional-Doctorate-Speech-and-Language-Therapy         | ✓ | ⏱: 62.46s\n",
      "[SCRAPE].. ◆ https://www.essex.ac.uk/courses/PR00987/3/Professional-Doctorate-Speech-and-Language-Therapy         | ✓ | ⏱: 0.21s\n",
      "[COMPLETE] ● https://www.essex.ac.uk/courses/PR00987/3/Professional-Doctorate-Speech-and-Language-Therapy         | ✓ | ⏱: 64.18s\n",
      "[FETCH]... ↓ https://www.essex.ac.uk/courses/PR00990/2/MPhil-Sport-and-Exercise-Science                           | ✓ | ⏱: 31.79s\n",
      "[SCRAPE].. ◆ https://www.essex.ac.uk/courses/PR00990/2/MPhil-Sport-and-Exercise-Science                           | ✓ | ⏱: 0.22s\n",
      "[COMPLETE] ● https://www.essex.ac.uk/courses/PR00990/2/MPhil-Sport-and-Exercise-Science                           | ✓ | ⏱: 33.62s\n",
      "[FETCH]... ↓ https://www.essex.ac.uk/courses/UG00399/2/BSc-Sports-and-Exercise-Science                            | ✓ | ⏱: 33.98s\n",
      "[SCRAPE].. ◆ https://www.essex.ac.uk/courses/UG00399/2/BSc-Sports-and-Exercise-Science                            | ✓ | ⏱: 0.24s\n",
      "[COMPLETE] ● https://www.essex.ac.uk/courses/UG00399/2/BSc-Sports-and-Exercise-Science                            | ✓ | ⏱: 35.70s\n"
     ]
    },
    {
     "data": {
      "application/vnd.jupyter.widget-view+json": {
       "model_id": "32d12f8322ae463db1b23aed2e25a580",
       "version_major": 2,
       "version_minor": 0
      },
      "text/plain": [
       "images:MPhil-Health-and-Physical-Activity-2:   0%|          | 0/10 [00:00<?, ?it/s]"
      ]
     },
     "metadata": {},
     "output_type": "display_data"
    },
    {
     "data": {
      "application/vnd.jupyter.widget-view+json": {
       "model_id": "71569ca313f54d6ea4a7a831ae937a02",
       "version_major": 2,
       "version_minor": 0
      },
      "text/plain": [
       "images:MPhil-Sport-and-Exercise-Science-2:   0%|          | 0/10 [00:00<?, ?it/s]"
      ]
     },
     "metadata": {},
     "output_type": "display_data"
    },
    {
     "data": {
      "application/vnd.jupyter.widget-view+json": {
       "model_id": "2d496cbf2200444dac1475c2a4e4e2cd",
       "version_major": 2,
       "version_minor": 0
      },
      "text/plain": [
       "images:Professional-Doctorate-Speech-and-Language-Therapy-3:   0%|          | 0/10 [00:00<?, ?it/s]"
      ]
     },
     "metadata": {},
     "output_type": "display_data"
    },
    {
     "data": {
      "application/vnd.jupyter.widget-view+json": {
       "model_id": "307ac3ffe0d247dfa54d75e3dd79ea00",
       "version_major": 2,
       "version_minor": 0
      },
      "text/plain": [
       "images:BSc-Sports-and-Exercise-Science-2:   0%|          | 0/10 [00:00<?, ?it/s]"
      ]
     },
     "metadata": {},
     "output_type": "display_data"
    },
    {
     "name": "stdout",
     "output_type": "stream",
     "text": [
      "[INIT].... → Crawl4AI 0.6.2\n",
      "[INIT].... → Crawl4AI 0.6.2\n",
      "[INIT].... → Crawl4AI 0.6.2\n",
      "[SCRAPE].. ◆ Some images failed to load within timeout\n",
      "[INIT].... → Crawl4AI 0.6.2\n",
      "[SCRAPE].. ◆ Some images failed to load within timeout\n",
      "[FETCH]... ↓ https://www.essex.ac.uk/courses/PR00989/2/MPhil-Sport-and-Exercise-Psychology                        | ✓ | ⏱: 50.16s\n",
      "[SCRAPE].. ◆ https://www.essex.ac.uk/courses/PR00989/2/MPhil-Sport-and-Exercise-Psychology                        | ✓ | ⏱: 0.24s\n",
      "[COMPLETE] ● https://www.essex.ac.uk/courses/PR00989/2/MPhil-Sport-and-Exercise-Psychology                        | ✓ | ⏱: 53.07s\n"
     ]
    },
    {
     "data": {
      "application/vnd.jupyter.widget-view+json": {
       "model_id": "9cf99e1c93e24de9b90ce3a1de57ec68",
       "version_major": 2,
       "version_minor": 0
      },
      "text/plain": [
       "images:MPhil-Sport-and-Exercise-Psychology-2:   0%|          | 0/10 [00:00<?, ?it/s]"
      ]
     },
     "metadata": {},
     "output_type": "display_data"
    },
    {
     "name": "stdout",
     "output_type": "stream",
     "text": [
      "[INIT].... → Crawl4AI 0.6.2\n",
      "[FETCH]... ↓ https://www.essex.ac.uk/courses/PR01311/6/DST-Sports-Therapy                                         | ✓ | ⏱: 43.54s\n",
      "[SCRAPE].. ◆ https://www.essex.ac.uk/courses/PR01311/6/DST-Sports-Therapy                                         | ✓ | ⏱: 0.29s\n",
      "[COMPLETE] ● https://www.essex.ac.uk/courses/PR01311/6/DST-Sports-Therapy                                         | ✓ | ⏱: 46.55s\n",
      "[FETCH]... ↓ https://www.essex.ac.uk/courses/PG01127/1/MSc-Sport-and-Exercise-Science                             | ✓ | ⏱: 46.54s\n",
      "[SCRAPE].. ◆ https://www.essex.ac.uk/courses/PG01127/1/MSc-Sport-and-Exercise-Science                             | ✓ | ⏱: 0.33s\n",
      "[COMPLETE] ● https://www.essex.ac.uk/courses/PG01127/1/MSc-Sport-and-Exercise-Science                             | ✓ | ⏱: 48.79s\n",
      "[FETCH]... ↓ https://www.essex.ac.uk/courses/PR00990/1/PhD-Sport-and-Exercise-Science                             | ✓ | ⏱: 49.25s\n",
      "[SCRAPE].. ◆ https://www.essex.ac.uk/courses/PR00990/1/PhD-Sport-and-Exercise-Science                             | ✓ | ⏱: 0.23s\n",
      "[COMPLETE] ● https://www.essex.ac.uk/courses/PR00990/1/PhD-Sport-and-Exercise-Science                             | ✓ | ⏱: 51.23s\n"
     ]
    },
    {
     "data": {
      "application/vnd.jupyter.widget-view+json": {
       "model_id": "ffe26c639d954781bd4b2bdf780bdec7",
       "version_major": 2,
       "version_minor": 0
      },
      "text/plain": [
       "images:MSc-Sport-and-Exercise-Science-1:   0%|          | 0/10 [00:00<?, ?it/s]"
      ]
     },
     "metadata": {},
     "output_type": "display_data"
    },
    {
     "data": {
      "application/vnd.jupyter.widget-view+json": {
       "model_id": "383abbda640d4252893ad113b112fa63",
       "version_major": 2,
       "version_minor": 0
      },
      "text/plain": [
       "images:DST-Sports-Therapy-6:   0%|          | 0/10 [00:00<?, ?it/s]"
      ]
     },
     "metadata": {},
     "output_type": "display_data"
    },
    {
     "data": {
      "application/vnd.jupyter.widget-view+json": {
       "model_id": "8773568d08cd44cd9800d97de2f6a552",
       "version_major": 2,
       "version_minor": 0
      },
      "text/plain": [
       "images:PhD-Sport-and-Exercise-Science-1:   0%|          | 0/10 [00:00<?, ?it/s]"
      ]
     },
     "metadata": {},
     "output_type": "display_data"
    },
    {
     "name": "stdout",
     "output_type": "stream",
     "text": [
      "[FETCH]... ↓ https://www.essex.ac.uk/courses/UG00399/3/Integrated-Master-in-Science-Sports-and-Exercise-Science   | ✓ | ⏱: 50.75s\n",
      "[SCRAPE].. ◆ https://www.essex.ac.uk/courses/UG00399/3/Integrated-Master-in-Science-Sports-and-Exercise-Science   | ✓ | ⏱: 0.28s\n",
      "[COMPLETE] ● https://www.essex.ac.uk/courses/UG00399/3/Integrated-Master-in-Science-Sports-and-Exercise-Science   | ✓ | ⏱: 53.57s\n",
      "[INIT].... → Crawl4AI 0.6.2\n",
      "[INIT].... → Crawl4AI 0.6.2\n",
      "[INIT].... → Crawl4AI 0.6.2\n"
     ]
    },
    {
     "data": {
      "application/vnd.jupyter.widget-view+json": {
       "model_id": "83acdf0b52b640b4b20b8b308b14ded8",
       "version_major": 2,
       "version_minor": 0
      },
      "text/plain": [
       "images:Integrated-Master-in-Science-Sports-and-Exercise-Science-3:   0%|          | 0/10 [00:00<?, ?it/s]"
      ]
     },
     "metadata": {},
     "output_type": "display_data"
    },
    {
     "name": "stdout",
     "output_type": "stream",
     "text": [
      "[FETCH]... ↓ https://www.essex.ac.uk/courses/PR01311/1/PhD-Sports-Therapy                                         | ✓ | ⏱: 40.30s\n",
      "[SCRAPE].. ◆ https://www.essex.ac.uk/courses/PR01311/1/PhD-Sports-Therapy                                         | ✓ | ⏱: 0.33s\n",
      "[COMPLETE] ● https://www.essex.ac.uk/courses/PR01311/1/PhD-Sports-Therapy                                         | ✓ | ⏱: 43.58s\n",
      "[INIT].... → Crawl4AI 0.6.2\n",
      "[FETCH]... ↓ https://www.essex.ac.uk/courses/PR00990/6/DSES-Sport-and-Exercise-Science                            | ✓ | ⏱: 63.69s\n",
      "[SCRAPE].. ◆ https://www.essex.ac.uk/courses/PR00990/6/DSES-Sport-and-Exercise-Science                            | ✓ | ⏱: 0.21s\n",
      "[COMPLETE] ● https://www.essex.ac.uk/courses/PR00990/6/DSES-Sport-and-Exercise-Science                            | ✓ | ⏱: 66.31s\n",
      "[FETCH]... ↓ https://www.essex.ac.uk/courses/PG01515/1/MSc-Strength-and-Conditioning                              | ✓ | ⏱: 66.61s\n",
      "[SCRAPE].. ◆ https://www.essex.ac.uk/courses/PG01515/1/MSc-Strength-and-Conditioning                              | ✓ | ⏱: 0.25s\n",
      "[COMPLETE] ● https://www.essex.ac.uk/courses/PG01515/1/MSc-Strength-and-Conditioning                              | ✓ | ⏱: 68.59s\n"
     ]
    },
    {
     "data": {
      "application/vnd.jupyter.widget-view+json": {
       "model_id": "e28d712ef8eb456d9e3fcd9f6c4d965c",
       "version_major": 2,
       "version_minor": 0
      },
      "text/plain": [
       "images:PhD-Sports-Therapy-1:   0%|          | 0/10 [00:00<?, ?it/s]"
      ]
     },
     "metadata": {},
     "output_type": "display_data"
    },
    {
     "name": "stdout",
     "output_type": "stream",
     "text": [
      "[ERROR]... × https://www.essex.ac.uk...erformance-and-Coaching  | Error: \n",
      "┌───────────────────────────────────────────────────────────────────────────────────────────────────────────────────────┐\n",
      "│ × Unexpected error in _crawl_web at line 731 in _crawl_web (../../../../../opt/anaconda3/lib/python3.12/site-         │\n",
      "│ packages/crawl4ai/async_crawler_strategy.py):                                                                         │\n",
      "│   Error: Failed on navigating ACS-GOTO:                                                                               │\n",
      "│   Page.goto: Timeout 60000ms exceeded.                                                                                │\n",
      "│   Call log:                                                                                                           │\n",
      "│   - navigating to \"https://www.essex.ac.uk/courses/UG01057/1/BSc-Sports-Performance-and-Coaching\", waiting until      │\n",
      "│ \"domcontentloaded\"                                                                                                    │\n",
      "│                                                                                                                       │\n",
      "│                                                                                                                       │\n",
      "│   Code context:                                                                                                       │\n",
      "│   726                       response = await page.goto(                                                               │\n",
      "│   727                           url, wait_until=config.wait_until, timeout=config.page_timeout                        │\n",
      "│   728                       )                                                                                         │\n",
      "│   729                       redirected_url = page.url                                                                 │\n",
      "│   730                   except Error as e:                                                                            │\n",
      "│   731 →                     raise RuntimeError(f\"Failed on navigating ACS-GOTO:\\n{str(e)}\")                           │\n",
      "│   732                                                                                                                 │\n",
      "│   733                   await self.execute_hook(                                                                      │\n",
      "│   734                       \"after_goto\", page, context=context, url=url, response=response, config=config            │\n",
      "│   735                   )                                                                                             │\n",
      "│   736                                                                                                                 │\n",
      "└───────────────────────────────────────────────────────────────────────────────────────────────────────────────────────┘\n",
      "\n"
     ]
    },
    {
     "data": {
      "application/vnd.jupyter.widget-view+json": {
       "model_id": "09228590ca7b48ca9fc7137552d0bf8f",
       "version_major": 2,
       "version_minor": 0
      },
      "text/plain": [
       "images:DSES-Sport-and-Exercise-Science-6:   0%|          | 0/10 [00:00<?, ?it/s]"
      ]
     },
     "metadata": {},
     "output_type": "display_data"
    },
    {
     "data": {
      "application/vnd.jupyter.widget-view+json": {
       "model_id": "66918f91c92748d0bb7d4623771064d8",
       "version_major": 2,
       "version_minor": 0
      },
      "text/plain": [
       "images:MSc-Strength-and-Conditioning-1:   0%|          | 0/10 [00:00<?, ?it/s]"
      ]
     },
     "metadata": {},
     "output_type": "display_data"
    },
    {
     "name": "stdout",
     "output_type": "stream",
     "text": [
      "[INIT].... → Crawl4AI 0.6.2\n",
      "⚠️  BSc-Sports-Performance-and-Coaching-1: Unexpected error in _crawl_web at line 731 in _crawl_web (../../../../../opt/anaconda3/lib/python3.12/site-packages/crawl4ai/async_crawler_strategy.py):\n",
      "Error: Failed on navigating ACS-GOTO:\n",
      "Page.goto: Timeout 60000ms exceeded.\n",
      "Call log:\n",
      "  - navigating to \"https://www.essex.ac.uk/courses/UG01057/1/BSc-Sports-Performance-and-Coaching\", waiting until \"domcontentloaded\"\n",
      "\n",
      "\n",
      "Code context:\n",
      " 726                       response = await page.goto(\n",
      " 727                           url, wait_until=config.wait_until, timeout=config.page_timeout\n",
      " 728                       )\n",
      " 729                       redirected_url = page.url\n",
      " 730                   except Error as e:\n",
      " 731 →                     raise RuntimeError(f\"Failed on navigating ACS-GOTO:\\n{str(e)}\")\n",
      " 732   \n",
      " 733                   await self.execute_hook(\n",
      " 734                       \"after_goto\", page, context=context, url=url, response=response, config=config\n",
      " 735                   )\n",
      " 736   \n",
      "[INIT].... → Crawl4AI 0.6.2\n",
      "[INIT].... → Crawl4AI 0.6.2\n",
      "[INIT].... → Crawl4AI 0.6.2\n",
      "[FETCH]... ↓ https://www.essex.ac.uk/courses/PR01310/2/MPhil-Health-and-Exercise-Sciences                         | ✓ | ⏱: 42.63s\n",
      "[SCRAPE].. ◆ https://www.essex.ac.uk/courses/PR01310/2/MPhil-Health-and-Exercise-Sciences                         | ✓ | ⏱: 0.28s\n",
      "[COMPLETE] ● https://www.essex.ac.uk/courses/PR01310/2/MPhil-Health-and-Exercise-Sciences                         | ✓ | ⏱: 45.66s\n",
      "[FETCH]... ↓ https://www.essex.ac.uk/courses/PR01323/1/DSPC-Sport-Performance-and-Coaching                        | ✓ | ⏱: 47.26s\n",
      "[SCRAPE].. ◆ https://www.essex.ac.uk/courses/PR01323/1/DSPC-Sport-Performance-and-Coaching                        | ✓ | ⏱: 0.32s\n",
      "[COMPLETE] ● https://www.essex.ac.uk/courses/PR01323/1/DSPC-Sport-Performance-and-Coaching                        | ✓ | ⏱: 49.80s\n"
     ]
    },
    {
     "data": {
      "application/vnd.jupyter.widget-view+json": {
       "model_id": "e844f097eddf46f9b0fdb189c4cfeb78",
       "version_major": 2,
       "version_minor": 0
      },
      "text/plain": [
       "images:MPhil-Health-and-Exercise-Sciences-2:   0%|          | 0/10 [00:00<?, ?it/s]"
      ]
     },
     "metadata": {},
     "output_type": "display_data"
    },
    {
     "name": "stdout",
     "output_type": "stream",
     "text": [
      "⚠ cannot fetch https://www.essex.ac.uk/-/media/header-images/subjects/sport-and-exercise-science_ptait_20180516_1642.jpg?mh=512&mw=512&hash=1627376F64665CE3787B760BC52F6492: HTTPSConnectionPool(host='www.essex.ac.uk', port=443): Max retries exceeded with url: /-/media/header-images/subjects/sport-and-exercise-science_ptait_20180516_1642.jpg?mh=512&mw=512&hash=1627376F64665CE3787B760BC52F6492 (Caused by NewConnectionError('<urllib3.connection.HTTPSConnection object at 0x151e488c0>: Failed to establish a new connection: [Errno 61] Connection refused'))\n"
     ]
    },
    {
     "data": {
      "application/vnd.jupyter.widget-view+json": {
       "model_id": "26f24dd3773c408caba7a8f6eb69e763",
       "version_major": 2,
       "version_minor": 0
      },
      "text/plain": [
       "images:DSPC-Sport-Performance-and-Coaching-1:   0%|          | 0/10 [00:00<?, ?it/s]"
      ]
     },
     "metadata": {},
     "output_type": "display_data"
    },
    {
     "name": "stdout",
     "output_type": "stream",
     "text": [
      "[FETCH]... ↓ https://www.essex.ac.uk/courses/PR01311/3/MSc-by-Dissertation-Sports-Therapy                         | ✓ | ⏱: 79.35s\n",
      "[SCRAPE].. ◆ https://www.essex.ac.uk/courses/PR01311/3/MSc-by-Dissertation-Sports-Therapy                         | ✓ | ⏱: 0.32s\n",
      "[COMPLETE] ● https://www.essex.ac.uk/courses/PR01311/3/MSc-by-Dissertation-Sports-Therapy                         | ✓ | ⏱: 81.97s\n",
      "[INIT].... → Crawl4AI 0.6.2\n",
      "[INIT].... → Crawl4AI 0.6.2\n",
      "[FETCH]... ↓ https://www.essex.ac.uk/courses/PR01311/2/MPhil-Sports-Therapy                                       | ✓ | ⏱: 53.45s\n",
      "[SCRAPE].. ◆ https://www.essex.ac.uk/courses/PR01311/2/MPhil-Sports-Therapy                                       | ✓ | ⏱: 0.26s\n",
      "[COMPLETE] ● https://www.essex.ac.uk/courses/PR01311/2/MPhil-Sports-Therapy                                       | ✓ | ⏱: 55.47s\n",
      "[FETCH]... ↓ https://www.essex.ac.uk/courses/UG00399/1/BSc-Sports-and-Exercise-Science                            | ✓ | ⏱: 96.31s\n",
      "[SCRAPE].. ◆ https://www.essex.ac.uk/courses/UG00399/1/BSc-Sports-and-Exercise-Science                            | ✓ | ⏱: 0.27s\n",
      "[COMPLETE] ● https://www.essex.ac.uk/courses/UG00399/1/BSc-Sports-and-Exercise-Science                            | ✓ | ⏱: 98.37s\n"
     ]
    },
    {
     "data": {
      "application/vnd.jupyter.widget-view+json": {
       "model_id": "a971639a189f4bb2b4d11d582ecb6e20",
       "version_major": 2,
       "version_minor": 0
      },
      "text/plain": [
       "images:MSc-by-Dissertation-Sports-Therapy-3:   0%|          | 0/10 [00:00<?, ?it/s]"
      ]
     },
     "metadata": {},
     "output_type": "display_data"
    },
    {
     "data": {
      "application/vnd.jupyter.widget-view+json": {
       "model_id": "1b3200290acc41be94e48253377ef4de",
       "version_major": 2,
       "version_minor": 0
      },
      "text/plain": [
       "images:MPhil-Sports-Therapy-2:   0%|          | 0/10 [00:00<?, ?it/s]"
      ]
     },
     "metadata": {},
     "output_type": "display_data"
    },
    {
     "data": {
      "application/vnd.jupyter.widget-view+json": {
       "model_id": "917b0661aaa94ebfa35972f09d996e3c",
       "version_major": 2,
       "version_minor": 0
      },
      "text/plain": [
       "images:BSc-Sports-and-Exercise-Science-1:   0%|          | 0/10 [00:00<?, ?it/s]"
      ]
     },
     "metadata": {},
     "output_type": "display_data"
    },
    {
     "name": "stdout",
     "output_type": "stream",
     "text": [
      "[INIT].... → Crawl4AI 0.6.2\n",
      "[INIT].... → Crawl4AI 0.6.2\n",
      "[INIT].... → Crawl4AI 0.6.2\n",
      "[FETCH]... ↓ https://www.essex.ac.uk/courses/PR01356/1/PhD-Tr...-Studies-Translation-Interpreting-and-Subtitling  | ✓ | ⏱: 16.68s\n",
      "[SCRAPE].. ◆ https://www.essex.ac.uk/courses/PR01356/1/PhD-Tr...-Studies-Translation-Interpreting-and-Subtitling  | ✓ | ⏱: 0.22s\n",
      "[COMPLETE] ● https://www.essex.ac.uk/courses/PR01356/1/PhD-Tr...-Studies-Translation-Interpreting-and-Subtitling  | ✓ | ⏱: 18.75s\n",
      "[FETCH]... ↓ https://www.essex.ac.uk/courses/PG01539/1/MSc-Sports-Therapy                                         | ✓ | ⏱: 74.29s\n",
      "[SCRAPE].. ◆ https://www.essex.ac.uk/courses/PG01539/1/MSc-Sports-Therapy                                         | ✓ | ⏱: 0.51s\n",
      "[COMPLETE] ● https://www.essex.ac.uk/courses/PG01539/1/MSc-Sports-Therapy                                         | ✓ | ⏱: 76.77s\n"
     ]
    },
    {
     "data": {
      "application/vnd.jupyter.widget-view+json": {
       "model_id": "6dc6ce6613f04bf991be210325f0f35b",
       "version_major": 2,
       "version_minor": 0
      },
      "text/plain": [
       "images:PhD-Translation-Studies-Translation-Interpreting-and-Subtitling-1:   0%|          | 0/10 [00:00<?, ?it/…"
      ]
     },
     "metadata": {},
     "output_type": "display_data"
    },
    {
     "name": "stdout",
     "output_type": "stream",
     "text": [
      "⚠ cannot fetch https://www.essex.ac.uk/-/media/header-images/subjects/translation-1200x600.jpg?mh=512&mw=512&hash=7DEAB3FD83D685104F4A87326672AF09: HTTPSConnectionPool(host='www.essex.ac.uk', port=443): Max retries exceeded with url: /-/media/header-images/subjects/translation-1200x600.jpg?mh=512&mw=512&hash=7DEAB3FD83D685104F4A87326672AF09 (Caused by NewConnectionError('<urllib3.connection.HTTPSConnection object at 0x151f02750>: Failed to establish a new connection: [Errno 61] Connection refused'))\n",
      "[FETCH]... ↓ https://www.essex.ac.uk/courses/PG01288/1/MA-Chinese-English-Translation-and-Professional-Practice   | ✓ | ⏱: 105.70s\n",
      "[SCRAPE].. ◆ https://www.essex.ac.uk/courses/PG01288/1/MA-Chinese-English-Translation-and-Professional-Practice   | ✓ | ⏱: 0.25s\n",
      "[COMPLETE] ● https://www.essex.ac.uk/courses/PG01288/1/MA-Chinese-English-Translation-and-Professional-Practice   | ✓ | ⏱: 107.74s\n"
     ]
    },
    {
     "data": {
      "application/vnd.jupyter.widget-view+json": {
       "model_id": "68a6c2a0a99142898fbd0d547eee23f0",
       "version_major": 2,
       "version_minor": 0
      },
      "text/plain": [
       "images:MSc-Sports-Therapy-1:   0%|          | 0/10 [00:00<?, ?it/s]"
      ]
     },
     "metadata": {},
     "output_type": "display_data"
    },
    {
     "name": "stdout",
     "output_type": "stream",
     "text": [
      "[FETCH]... ↓ https://www.essex.ac.uk/courses/PG01134/1/MA-Conference-Interpreting-and-Translation-Chinese-English | ✓ | ⏱: 111.53s\n",
      "[SCRAPE].. ◆ https://www.essex.ac.uk/courses/PG01134/1/MA-Conference-Interpreting-and-Translation-Chinese-English | ✓ | ⏱: 0.25s\n",
      "[COMPLETE] ● https://www.essex.ac.uk/courses/PG01134/1/MA-Conference-Interpreting-and-Translation-Chinese-English | ✓ | ⏱: 113.61s\n",
      "[INIT].... → Crawl4AI 0.6.2\n"
     ]
    },
    {
     "data": {
      "application/vnd.jupyter.widget-view+json": {
       "model_id": "7625791c54aa42788fa8fe31f1935497",
       "version_major": 2,
       "version_minor": 0
      },
      "text/plain": [
       "images:MA-Chinese-English-Translation-and-Professional-Practice-1:   0%|          | 0/10 [00:00<?, ?it/s]"
      ]
     },
     "metadata": {},
     "output_type": "display_data"
    },
    {
     "data": {
      "application/vnd.jupyter.widget-view+json": {
       "model_id": "8b8427bad34141a19ca42a073027de23",
       "version_major": 2,
       "version_minor": 0
      },
      "text/plain": [
       "images:MA-Conference-Interpreting-and-Translation-Chinese-English-1:   0%|          | 0/10 [00:00<?, ?it/s]"
      ]
     },
     "metadata": {},
     "output_type": "display_data"
    },
    {
     "name": "stdout",
     "output_type": "stream",
     "text": [
      "[FETCH]... ↓ https://www.essex.ac.uk/courses/PR01356/3/PhD-Tr...-Studies-Translation-Interpreting-and-Subtitling  | ✓ | ⏱: 66.42s\n",
      "[SCRAPE].. ◆ https://www.essex.ac.uk/courses/PR01356/3/PhD-Tr...-Studies-Translation-Interpreting-and-Subtitling  | ✓ | ⏱: 0.23s\n",
      "[COMPLETE] ● https://www.essex.ac.uk/courses/PR01356/3/PhD-Tr...-Studies-Translation-Interpreting-and-Subtitling  | ✓ | ⏱: 68.65s\n",
      "[SCRAPE].. ◆ Some images failed to load within timeout\n"
     ]
    },
    {
     "data": {
      "application/vnd.jupyter.widget-view+json": {
       "model_id": "a27cd74a084d45f79149cef00f7c0d3c",
       "version_major": 2,
       "version_minor": 0
      },
      "text/plain": [
       "images:PhD-Translation-Studies-Translation-Interpreting-and-Subtitling-3:   0%|          | 0/10 [00:00<?, ?it/…"
      ]
     },
     "metadata": {},
     "output_type": "display_data"
    },
    {
     "name": "stdout",
     "output_type": "stream",
     "text": [
      "[FETCH]... ↓ https://www.essex.ac.uk/courses/UG01556/1/BA-Mod...-Translation-Interpreting-and-Cultural-Mediation  | ✓ | ⏱: 57.42s\n",
      "[SCRAPE].. ◆ https://www.essex.ac.uk/courses/UG01556/1/BA-Mod...-Translation-Interpreting-and-Cultural-Mediation  | ✓ | ⏱: 0.35s\n",
      "[COMPLETE] ● https://www.essex.ac.uk/courses/UG01556/1/BA-Mod...-Translation-Interpreting-and-Cultural-Mediation  | ✓ | ⏱: 59.99s\n",
      "[FETCH]... ↓ https://www.essex.ac.uk/courses/PG01072/1/MA-Adv...ing-with-Specialised-Translation-Chinese-English  | ✓ | ⏱: 62.28s\n",
      "[SCRAPE].. ◆ https://www.essex.ac.uk/courses/PG01072/1/MA-Adv...ing-with-Specialised-Translation-Chinese-English  | ✓ | ⏱: 0.31s\n",
      "[COMPLETE] ● https://www.essex.ac.uk/courses/PG01072/1/MA-Adv...ing-with-Specialised-Translation-Chinese-English  | ✓ | ⏱: 64.27s\n"
     ]
    },
    {
     "data": {
      "application/vnd.jupyter.widget-view+json": {
       "model_id": "018b931dfbf447d4bfcaf0b9d48da579",
       "version_major": 2,
       "version_minor": 0
      },
      "text/plain": [
       "images:BA-Modern-Languages-Translation-Interpreting-and-Cultural-Mediation-1:   0%|          | 0/10 [00:00<?, …"
      ]
     },
     "metadata": {},
     "output_type": "display_data"
    },
    {
     "name": "stdout",
     "output_type": "stream",
     "text": [
      "[FETCH]... ↓ https://www.essex.ac.uk/courses/PG01071/1/MA-Translation-and-Professional-Practice                   | ✓ | ⏱: 71.21s\n",
      "[SCRAPE].. ◆ https://www.essex.ac.uk/courses/PG01071/1/MA-Translation-and-Professional-Practice                   | ✓ | ⏱: 0.22s\n",
      "[COMPLETE] ● https://www.essex.ac.uk/courses/PG01071/1/MA-Translation-and-Professional-Practice                   | ✓ | ⏱: 73.05s\n"
     ]
    },
    {
     "data": {
      "application/vnd.jupyter.widget-view+json": {
       "model_id": "58362990a6be4a589e8150fd941b8f67",
       "version_major": 2,
       "version_minor": 0
      },
      "text/plain": [
       "images:MA-Advanced-Interpreting-with-Specialised-Translation-Chinese-English-1:   0%|          | 0/10 [00:00<?…"
      ]
     },
     "metadata": {},
     "output_type": "display_data"
    },
    {
     "data": {
      "application/vnd.jupyter.widget-view+json": {
       "model_id": "234d07870fbb476fa2487527102e4177",
       "version_major": 2,
       "version_minor": 0
      },
      "text/plain": [
       "images:MA-Translation-and-Professional-Practice-1:   0%|          | 0/10 [00:00<?, ?it/s]"
      ]
     },
     "metadata": {},
     "output_type": "display_data"
    },
    {
     "name": "stdout",
     "output_type": "stream",
     "text": [
      "[FETCH]... ↓ https://www.essex.ac.uk/courses/PG00836/1/MA-Translation-Interpreting-and-Subtitling                 | ✓ | ⏱: 29.01s\n",
      "[SCRAPE].. ◆ https://www.essex.ac.uk/courses/PG00836/1/MA-Translation-Interpreting-and-Subtitling                 | ✓ | ⏱: 0.23s\n",
      "[COMPLETE] ● https://www.essex.ac.uk/courses/PG00836/1/MA-Translation-Interpreting-and-Subtitling                 | ✓ | ⏱: 30.78s\n"
     ]
    },
    {
     "data": {
      "application/vnd.jupyter.widget-view+json": {
       "model_id": "46b67e536f064be7b835f641a054c269",
       "version_major": 2,
       "version_minor": 0
      },
      "text/plain": [
       "images:MA-Translation-Interpreting-and-Subtitling-1:   0%|          | 0/11 [00:00<?, ?it/s]"
      ]
     },
     "metadata": {},
     "output_type": "display_data"
    }
   ],
   "source": [
    "async def scrape_all(\n",
    "    course_dict: dict[str, str],\n",
    "    *,\n",
    "    out_dir: str | Path = \"course pages\",\n",
    "    concurrency: int = 8,\n",
    "):\n",
    "    out_dir = Path(out_dir)\n",
    "    out_dir.mkdir(exist_ok=True)\n",
    "\n",
    "    sem   = asyncio.Semaphore(concurrency)\n",
    "    prog  = tqdm(total=len(course_dict), unit=\"page\")\n",
    "\n",
    "    async def one_page(key: str, url: str):\n",
    "        safe_key   = re.sub(r\"[^\\w\\-]+\", \"-\", key)\n",
    "        md_path    = out_dir / f\"{safe_key}.md\"\n",
    "        assets_dir = out_dir / safe_key\n",
    "        try:\n",
    "            async with sem:\n",
    "                await scrape_to_markdown(\n",
    "                    url,\n",
    "                    out_md     = md_path,\n",
    "                    assets_dir = assets_dir,\n",
    "                )\n",
    "        except Exception as e:\n",
    "            print(f\"⚠️  {key}: {e}\")\n",
    "        prog.update(1)\n",
    "\n",
    "    await asyncio.gather(*(one_page(k, u) for k, u in course_dict.items()))\n",
    "    prog.close()\n",
    "\n",
    "# -- kick it off (just 'await' in a notebook) --\n",
    "await scrape_all(course_dict, out_dir=\"course pages\", concurrency=8)\n"
   ]
  },
  {
   "cell_type": "code",
   "execution_count": null,
   "id": "4807840a-0ffb-4f0b-91c8-f2ec263b66ac",
   "metadata": {},
   "outputs": [],
   "source": []
  }
 ],
 "metadata": {
  "kernelspec": {
   "display_name": "Python [conda env:base] *",
   "language": "python",
   "name": "conda-base-py"
  },
  "language_info": {
   "codemirror_mode": {
    "name": "ipython",
    "version": 3
   },
   "file_extension": ".py",
   "mimetype": "text/x-python",
   "name": "python",
   "nbconvert_exporter": "python",
   "pygments_lexer": "ipython3",
   "version": "3.12.2"
  }
 },
 "nbformat": 4,
 "nbformat_minor": 5
}
